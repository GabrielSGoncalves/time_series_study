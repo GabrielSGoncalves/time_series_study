{
 "cells": [
  {
   "cell_type": "markdown",
   "metadata": {},
   "source": [
    "# Investigating series sizes"
   ]
  },
  {
   "cell_type": "markdown",
   "metadata": {},
   "source": [
    "## Testing the ICOParser class"
   ]
  },
  {
   "cell_type": "code",
   "execution_count": 1,
   "metadata": {},
   "outputs": [],
   "source": [
    "import pandas as pd\n",
    "from ico_parser import ICOParser\n",
    "# Imprimir todos valores da célula, não somente o último\n",
    "from IPython.core.interactiveshell import InteractiveShell\n",
    "\n",
    "InteractiveShell.ast_node_interactivity = \"all\""
   ]
  },
  {
   "cell_type": "markdown",
   "metadata": {},
   "source": [
    "### Load table with information about ICOs"
   ]
  },
  {
   "cell_type": "code",
   "execution_count": 2,
   "metadata": {},
   "outputs": [],
   "source": [
    "path_to_csvs = '/home/gabriel/Documents/Repos/time_series_study/data_and_models/all_icos/'"
   ]
  },
  {
   "cell_type": "code",
   "execution_count": 5,
   "metadata": {},
   "outputs": [
    {
     "data": {
      "text/html": [
       "<div>\n",
       "<style scoped>\n",
       "    .dataframe tbody tr th:only-of-type {\n",
       "        vertical-align: middle;\n",
       "    }\n",
       "\n",
       "    .dataframe tbody tr th {\n",
       "        vertical-align: top;\n",
       "    }\n",
       "\n",
       "    .dataframe thead th {\n",
       "        text-align: right;\n",
       "    }\n",
       "</style>\n",
       "<table border=\"1\" class=\"dataframe\">\n",
       "  <thead>\n",
       "    <tr style=\"text-align: right;\">\n",
       "      <th></th>\n",
       "      <th>ico</th>\n",
       "      <th>adress</th>\n",
       "      <th>fraud</th>\n",
       "      <th>start_date</th>\n",
       "      <th>market_start_date</th>\n",
       "      <th>diff_days</th>\n",
       "      <th>market_days</th>\n",
       "      <th>size_ok</th>\n",
       "      <th>price_zero</th>\n",
       "      <th>Market Cap</th>\n",
       "      <th>o_concur</th>\n",
       "      <th>biggest_holder</th>\n",
       "      <th>exchange</th>\n",
       "      <th>contract</th>\n",
       "      <th>date_analysis</th>\n",
       "      <th>code</th>\n",
       "      <th>site</th>\n",
       "      <th>social_media</th>\n",
       "    </tr>\n",
       "  </thead>\n",
       "  <tbody>\n",
       "    <tr>\n",
       "      <th>253</th>\n",
       "      <td>TRADEXTOKEN</td>\n",
       "      <td>0x5432c580e34f590f4dd901b825ddeb92e905e826</td>\n",
       "      <td>1</td>\n",
       "      <td>24/01/2020</td>\n",
       "      <td>26/03/2020</td>\n",
       "      <td>62</td>\n",
       "      <td>186</td>\n",
       "      <td>NaN</td>\n",
       "      <td>NaN</td>\n",
       "      <td>NaN</td>\n",
       "      <td>NaN</td>\n",
       "      <td>98</td>\n",
       "      <td>0</td>\n",
       "      <td>0</td>\n",
       "      <td>22/09/2020</td>\n",
       "      <td>NaN</td>\n",
       "      <td>NaN</td>\n",
       "      <td>NaN</td>\n",
       "    </tr>\n",
       "    <tr>\n",
       "      <th>254</th>\n",
       "      <td>TRONCLASSIC</td>\n",
       "      <td>0xad5fe5b0b8ec8ff4565204990e4405b2da117d8e</td>\n",
       "      <td>1</td>\n",
       "      <td>05/08/2018</td>\n",
       "      <td>10/08/2018</td>\n",
       "      <td>153</td>\n",
       "      <td>721</td>\n",
       "      <td>x</td>\n",
       "      <td>x</td>\n",
       "      <td>NaN</td>\n",
       "      <td>NaN</td>\n",
       "      <td>30</td>\n",
       "      <td>13</td>\n",
       "      <td>1</td>\n",
       "      <td>04/06/2019</td>\n",
       "      <td>x</td>\n",
       "      <td>x</td>\n",
       "      <td>NaN</td>\n",
       "    </tr>\n",
       "    <tr>\n",
       "      <th>255</th>\n",
       "      <td>WALTONCHAIN</td>\n",
       "      <td>0xb7cb1c96db6b22b0d3d9536e0108d062bd488f74</td>\n",
       "      <td>1</td>\n",
       "      <td>21/07/2017</td>\n",
       "      <td>23/07/2017</td>\n",
       "      <td>2</td>\n",
       "      <td>1163</td>\n",
       "      <td>x</td>\n",
       "      <td>NaN</td>\n",
       "      <td>NaN</td>\n",
       "      <td>NaN</td>\n",
       "      <td>61</td>\n",
       "      <td>4</td>\n",
       "      <td>0</td>\n",
       "      <td>19/01/2018</td>\n",
       "      <td>x</td>\n",
       "      <td>x</td>\n",
       "      <td>x</td>\n",
       "    </tr>\n",
       "    <tr>\n",
       "      <th>256</th>\n",
       "      <td>ZPAY</td>\n",
       "      <td>0xeffea57067e02999fdcd0bb45c0f1071a29472d9</td>\n",
       "      <td>1</td>\n",
       "      <td>25/07/2018</td>\n",
       "      <td>20/08/2018</td>\n",
       "      <td>26</td>\n",
       "      <td>770</td>\n",
       "      <td>x</td>\n",
       "      <td>NaN</td>\n",
       "      <td>NaN</td>\n",
       "      <td>NaN</td>\n",
       "      <td>99</td>\n",
       "      <td>0</td>\n",
       "      <td>0</td>\n",
       "      <td>16/02/2019</td>\n",
       "      <td>NaN</td>\n",
       "      <td>NaN</td>\n",
       "      <td>NaN</td>\n",
       "    </tr>\n",
       "    <tr>\n",
       "      <th>257</th>\n",
       "      <td>ZYNECOIN</td>\n",
       "      <td>0xe65ee7c03bbb3c950cfd4895c24989afa233ef01</td>\n",
       "      <td>1</td>\n",
       "      <td>21/01/2019</td>\n",
       "      <td>23/01/2019</td>\n",
       "      <td>2</td>\n",
       "      <td>614</td>\n",
       "      <td>x</td>\n",
       "      <td>NaN</td>\n",
       "      <td>NaN</td>\n",
       "      <td>NaN</td>\n",
       "      <td>15</td>\n",
       "      <td>2</td>\n",
       "      <td>0</td>\n",
       "      <td>22/07/2019</td>\n",
       "      <td>x</td>\n",
       "      <td>x</td>\n",
       "      <td>x</td>\n",
       "    </tr>\n",
       "  </tbody>\n",
       "</table>\n",
       "</div>"
      ],
      "text/plain": [
       "             ico                                      adress  fraud  \\\n",
       "253  TRADEXTOKEN  0x5432c580e34f590f4dd901b825ddeb92e905e826      1   \n",
       "254  TRONCLASSIC  0xad5fe5b0b8ec8ff4565204990e4405b2da117d8e      1   \n",
       "255  WALTONCHAIN  0xb7cb1c96db6b22b0d3d9536e0108d062bd488f74      1   \n",
       "256         ZPAY  0xeffea57067e02999fdcd0bb45c0f1071a29472d9      1   \n",
       "257     ZYNECOIN  0xe65ee7c03bbb3c950cfd4895c24989afa233ef01      1   \n",
       "\n",
       "     start_date market_start_date  diff_days  market_days size_ok price_zero  \\\n",
       "253  24/01/2020        26/03/2020         62          186     NaN        NaN   \n",
       "254  05/08/2018        10/08/2018        153          721       x          x   \n",
       "255  21/07/2017        23/07/2017          2         1163       x        NaN   \n",
       "256  25/07/2018        20/08/2018         26          770       x        NaN   \n",
       "257  21/01/2019        23/01/2019          2          614       x        NaN   \n",
       "\n",
       "     Market Cap o_concur  biggest_holder  exchange  contract date_analysis  \\\n",
       "253         NaN      NaN              98         0         0    22/09/2020   \n",
       "254         NaN      NaN              30        13         1    04/06/2019   \n",
       "255         NaN      NaN              61         4         0    19/01/2018   \n",
       "256         NaN      NaN              99         0         0    16/02/2019   \n",
       "257         NaN      NaN              15         2         0    22/07/2019   \n",
       "\n",
       "    code site social_media  \n",
       "253  NaN  NaN          NaN  \n",
       "254    x    x          NaN  \n",
       "255    x    x            x  \n",
       "256  NaN  NaN          NaN  \n",
       "257    x    x            x  "
      ]
     },
     "execution_count": 5,
     "metadata": {},
     "output_type": "execute_result"
    }
   ],
   "source": [
    "ico_table = pd.read_csv('lista_ico_2020-08-17_tab3.csv', sep=';')\n",
    "ico_table.tail()"
   ]
  },
  {
   "cell_type": "code",
   "execution_count": 6,
   "metadata": {},
   "outputs": [
    {
     "data": {
      "text/plain": [
       "adress                       object\n",
       "fraud                         int64\n",
       "start_date           datetime64[ns]\n",
       "market_start_date    datetime64[ns]\n",
       "diff_days                     int64\n",
       "market_days                   int64\n",
       "size_ok                      object\n",
       "price_zero                   object\n",
       "Market Cap                  float64\n",
       "o_concur                     object\n",
       "biggest_holder                int64\n",
       "exchange                      int64\n",
       "contract                      int64\n",
       "date_analysis        datetime64[ns]\n",
       "code                         object\n",
       "site                         object\n",
       "social_media                 object\n",
       "dtype: object"
      ]
     },
     "execution_count": 6,
     "metadata": {},
     "output_type": "execute_result"
    }
   ],
   "source": [
    "ico_table = ico_table.astype({'start_date': 'datetime64', 'market_start_date': 'datetime64', 'date_analysis':'datetime64'})\n",
    "ico_table.set_index('ico', inplace=True)\n",
    "ico_table.dtypes"
   ]
  },
  {
   "cell_type": "code",
   "execution_count": 7,
   "metadata": {},
   "outputs": [],
   "source": [
    "import pandas as pd\n",
    "from datetime import datetime, timedelta\n",
    "from exchange_addresses import ADRESS_LIST\n",
    "import pytz\n",
    "import requests\n",
    "import json\n",
    "import time"
   ]
  },
  {
   "cell_type": "code",
   "execution_count": null,
   "metadata": {},
   "outputs": [],
   "source": [
    "%%time\n",
    "ico = \"COMPOUND\"\n",
    "path_to_csv= f'{path_to_csvs}{ico}.csv'\n",
    "ico_start_date = str(ico_table.at[ ico, 'market_start_date'].date())\n",
    "is_fraud = ico_table.at[ ico, 'fraud']\n",
    "len_time_series = 20\n",
    "dateformat='%Y-%m-%d'\n",
    "date_column='BLOCK_TIMESTAMP'\n",
    "ico_start_date = (\n",
    "            datetime.strptime(ico_start_date, dateformat)\n",
    "            .replace(tzinfo=pytz.UTC)\n",
    "            .date()\n",
    "        )\n",
    "ico_end_date = ico_start_date + timedelta(\n",
    "                    days=len_time_series\n",
    "                )\n",
    "\n",
    "# Slice df for defined start and end date\n",
    "df = pd.read_csv(path_to_csv)\n",
    "df.sort_values(by=date_column, inplace=True)\n",
    "df['transactions'] = 1\n",
    "\n",
    "df[date_column] = pd.to_datetime(df[date_column]).dt.date\n",
    "\n",
    "df = df.loc[\n",
    "        (df[date_column] >= ico_start_date)\n",
    "        & (df[date_column] < ico_end_date)\n",
    "    ]\n",
    "df_for_resample = df.copy()\n",
    "df.set_index(date_column, inplace=True)\n",
    "df_for_resample[date_column] = pd.to_datetime(\n",
    "            df_for_resample[date_column]\n",
    "        )"
   ]
  },
  {
   "cell_type": "markdown",
   "metadata": {},
   "source": [
    "## Updated Performance"
   ]
  },
  {
   "cell_type": "code",
   "execution_count": 8,
   "metadata": {},
   "outputs": [
    {
     "name": "stdout",
     "output_type": "stream",
     "text": [
<<<<<<< HEAD
      "CPU times: user 31.5 s, sys: 94 ms, total: 31.6 s\n",
      "Wall time: 32 s\n"
=======
      "CPU times: user 34.2 s, sys: 80.9 ms, total: 34.2 s\n",
      "Wall time: 34.4 s\n"
>>>>>>> 79d7add6aa6ec5aecb780e714319ab494267b1b3
     ]
    }
   ],
   "source": [
    "%%time\n",
    "ico = \"COMPOUND\"\n",
    "ico_csv= f'{path_to_csvs}{ico}.csv'\n",
    "market_start_date = str(ico_table.at[ ico, 'market_start_date'].date())\n",
    "is_fraud = ico_table.at[ ico, 'fraud']\n",
    "ico_parser = ICOParser(ico_csv,\n",
    "                     date_column='BLOCK_TIMESTAMP',\n",
    "                     value_column='VALUE',\n",
    "                     ico_start_date=market_start_date, \n",
    "                     fraud_flag=is_fraud,\n",
    "                          len_time_series=20)"
   ]
  },
  {
   "cell_type": "code",
   "execution_count": null,
   "metadata": {},
   "outputs": [
    {
     "name": "stdout",
     "output_type": "stream",
     "text": [
      "Running method: get_newbiers_dataframe ... \n",
      "Running method: get_balance ... \n",
      "2020-06-15 2020-07-05\n",
      "2020-03-04\n",
      "123\n"
     ]
    }
   ],
   "source": [
    "%%time\n",
    "ico_parser.pipeline()"
   ]
  },
  {
   "cell_type": "code",
   "execution_count": 11,
   "metadata": {},
   "outputs": [],
   "source": [
    "ico_parser.get_newbiers_ratio_dict()\n",
    "ico_parser.get_newbiers_array()"
   ]
  },
  {
   "cell_type": "code",
   "execution_count": 12,
   "metadata": {},
   "outputs": [],
   "source": [
    "dict_arrays_20 = {}"
   ]
  },
  {
   "cell_type": "markdown",
   "metadata": {},
   "source": [
    "dict_arrays_20[ico] = (ico_parser.array_daily_transactions,\n",
    "                              ico_parser.array_perc_new_holders,\n",
    "                              ico_parser.array_biggest_holder,\n",
    "                              ico_parser.array_newbiers,\n",
    "                              ico_parser.array_gas_ratio)"
   ]
  },
  {
   "cell_type": "markdown",
   "metadata": {},
   "source": [
    "## Original Performance"
   ]
  },
  {
   "cell_type": "code",
   "execution_count": null,
   "metadata": {},
   "outputs": [],
   "source": [
    "%%time\n",
    "ico = \"COMPOUND\"\n",
    "ico_csv= f'{path_to_csvs}{ico}.csv'\n",
    "market_start_date = str(ico_table.at[ ico, 'market_start_date'].date())\n",
    "is_fraud = ico_table.at[ ico, 'fraud']\n",
    "ico_parser = ICOParser(ico_csv,\n",
    "                     date_column='BLOCK_TIMESTAMP',\n",
    "                     value_column='VALUE',\n",
    "                     ico_start_date=market_start_date, \n",
    "                     fraud_flag=is_fraud,\n",
    "                          len_time_series=20)\n",
    "ico_parser.pipeline()"
   ]
  },
  {
   "cell_type": "markdown",
   "metadata": {},
   "source": [
    "## Creating Dataset"
   ]
  },
  {
   "cell_type": "code",
   "execution_count": 11,
   "metadata": {},
   "outputs": [],
   "source": [
    "for ico in ico_table.index.to_list():\n",
    "    if '-' in ico or '_' in ico or ' ' in ico:\n",
    "        print(ico)"
   ]
  },
  {
   "cell_type": "code",
   "execution_count": 12,
   "metadata": {},
   "outputs": [],
   "source": [
    "list_icos = ico_table.index.to_list()"
   ]
  },
  {
   "cell_type": "code",
   "execution_count": 18,
   "metadata": {},
   "outputs": [],
   "source": [
    "dict_arrays_20 = {}\n",
    "list_bad_icos_20 = []"
   ]
  },
  {
   "cell_type": "code",
   "execution_count": 19,
   "metadata": {},
   "outputs": [
    {
     "data": {
      "text/plain": [
       "{}"
      ]
     },
     "execution_count": 19,
     "metadata": {},
     "output_type": "execute_result"
    }
   ],
   "source": [
    "dict_arrays_20"
   ]
  },
  {
   "cell_type": "code",
   "execution_count": null,
   "metadata": {},
   "outputs": [],
   "source": [
    "for ico in list_icos:\n",
    "    ico_csv= f'{path_to_csvs}{ico}.csv'\n",
    "    market_start_date = str(ico_table.at[ ico, 'market_start_date'].date())\n",
    "    is_fraud = ico_table.at[ ico, 'fraud']\n",
    "    try:\n",
    "        print(ico)\n",
    "        ico_parser = ICOParser(ico_csv,\n",
    "                     date_column='BLOCK_TIMESTAMP',\n",
    "                     value_column='VALUE',\n",
    "                     ico_start_date=market_start_date, \n",
    "                     fraud_flag=is_fraud,\n",
    "                          len_time_series=20)\n",
    "        ico_parser.pipeline()\n",
    "        dict_arrays_20[ico] = (ico_parser.array_daily_transactions,\n",
    "                              ico_parser.array_perc_new_holders,\n",
    "                              ico_parser.array_biggest_holder,\n",
    "                              ico_parser.array_newbiers,\n",
    "                              ico_parser.array_gas_ratio)\n",
    "    except:\n",
    "        print(f'PROBLEM WITH: {ico}')\n",
    "        list_bad_icos_20.append(ico)"
   ]
  },
  {
   "cell_type": "code",
   "execution_count": 26,
   "metadata": {},
   "outputs": [
    {
     "name": "stdout",
     "output_type": "stream",
     "text": [
      "AIDCOIN\n",
      "ALLME\n",
      "BELANCE\n",
      "BLOCKMALL\n",
      "CRYPTONIAPOKER\n",
      "DIAM\n",
      "EXIMCHAIN\n",
      "HONEYSHARECOIN\n",
      "ICON\n",
      "INDAHASH\n",
      "LOLIGO\n",
      "MONEYTOKEN\n",
      "MULTILEVEL\n",
      "PLANETMOBILETOKEN\n",
      "PROMETEUS\n",
      "SHARERING\n",
      "SINGULARITYNET\n",
      "SOCIALMEDIAPAY\n",
      "SPARKSTER\n"
     ]
    }
   ],
   "source": [
    "# Verificando o tamanho dos arrays\n",
    "for ico in dict_arrays_20.keys():\n",
    "    if len(dict_arrays_20.get(ico)[0]) != 20:\n",
    "        print(ico)"
   ]
  },
  {
   "cell_type": "code",
   "execution_count": 27,
   "metadata": {},
   "outputs": [],
   "source": [
    "### Saving dictionary to "
   ]
  },
  {
   "cell_type": "code",
   "execution_count": 11,
   "metadata": {},
   "outputs": [],
   "source": [
    "dict_arrays_40 = {}\n",
    "list_bad_icos_40 = []"
   ]
  },
  {
   "cell_type": "code",
   "execution_count": null,
   "metadata": {},
   "outputs": [],
   "source": [
    "for ico in list_icos:\n",
    "    ico_csv= f'{path_to_csvs}{ico}.csv'\n",
    "    market_start_date = str(ico_table.at[ ico, 'market_start_date'].date())\n",
    "    is_fraud = ico_table.at[ ico, 'fraud']\n",
    "    try:\n",
    "        print(ico)\n",
    "        ico_parser = ICOParser(ico_csv,\n",
    "                     date_column='BLOCK_TIMESTAMP',\n",
    "                     value_column='VALUE',\n",
    "                     ico_start_date=market_start_date, \n",
    "                     fraud_flag=is_fraud,\n",
    "                          len_time_series=40)\n",
    "        ico_parser.pipeline()\n",
    "        dict_arrays_40[ico] = (ico_parser.array_daily_transactions,\n",
    "                              ico_parser.array_perc_new_holders,\n",
    "                              ico_parser.array_biggest_holder,\n",
    "                              ico_parser.array_newbiers,\n",
    "                              ico_parser.array_gas_ratio)\n",
    "    except:\n",
    "        print(f'PROBLEM WITH: {ico}')\n",
    "        list_bad_icos_40.append(ico)"
   ]
  },
  {
   "cell_type": "code",
   "execution_count": 15,
   "metadata": {},
   "outputs": [],
   "source": [
    "import pickle\n",
    "\n",
    "a = {'hello': 'world'}\n",
    "\n",
    "with open('dict_ico_array_lenght40.pickle', 'wb') as handle:\n",
    "    pickle.dump(dict_arrays_40, handle, protocol=pickle.HIGHEST_PROTOCOL)\n"
   ]
  },
  {
   "cell_type": "code",
   "execution_count": 16,
   "metadata": {},
   "outputs": [],
   "source": [
    "with open('dict_ico_array_lenght40.pickle', 'rb') as handle:\n",
    "    b = pickle.load(handle)\n"
   ]
  },
  {
   "cell_type": "code",
   "execution_count": 30,
   "metadata": {},
   "outputs": [
    {
     "data": {
      "text/plain": [
       "252"
      ]
     },
     "execution_count": 30,
     "metadata": {},
     "output_type": "execute_result"
    }
   ],
   "source": [
    "len(dict_arrays_40)"
   ]
  },
  {
   "cell_type": "markdown",
   "metadata": {},
   "source": [
    "## Serie de 60"
   ]
  },
  {
   "cell_type": "code",
   "execution_count": 13,
   "metadata": {},
   "outputs": [
    {
     "data": {
      "text/plain": [
       "['0X', '0XCERT', '4NEW', 'ABULABA', 'AELF']"
      ]
     },
     "execution_count": 13,
     "metadata": {},
     "output_type": "execute_result"
    }
   ],
   "source": [
    "list_icos[:5]"
   ]
  },
  {
   "cell_type": "code",
   "execution_count": 9,
   "metadata": {},
   "outputs": [],
   "source": [
    "dict_arrays_60 = {}\n",
    "list_bad_icos_60 = []"
   ]
  },
  {
   "cell_type": "code",
   "execution_count": 14,
   "metadata": {},
   "outputs": [
    {
     "name": "stdout",
     "output_type": "stream",
     "text": [
      "0X\n",
      "Running method: get_newbiers_dataframe ... \n",
      "Running method: get_balance ... \n",
      "2017-08-15 2017-10-14\n",
      "2017-08-11\n",
      "64\n",
      "Running method: get_cumsum_balance ... \n",
      "Running method: get_cumsum_daily_percentage ... \n",
      "Running method: get_daily_number_of_new_holder ... \n",
      "Running method: get_array_daily_transactions ... \n",
      "Running method: get_array_perc_new_holders ... \n",
      "Running method: get_biggest_holder_dict ... \n",
      "Running method: get_biggest_holder_array ... \n",
      "Running method: get_newbiers_ratio_dict ... \n",
      "Running method: get_newbiers_array ... \n",
      "Running method: get_gas_ratio_array ... \n",
      "0XCERT\n",
      "Running method: get_newbiers_dataframe ... \n",
      "Running method: get_balance ... \n",
      "2018-07-11 2018-09-09\n",
      "2018-06-26\n",
      "75\n",
      "Running method: get_cumsum_balance ... \n",
      "Running method: get_cumsum_daily_percentage ... \n",
      "Running method: get_daily_number_of_new_holder ... \n",
      "Running method: get_array_daily_transactions ... \n",
      "Running method: get_array_perc_new_holders ... \n",
      "Running method: get_biggest_holder_dict ... \n",
      "Running method: get_biggest_holder_array ... \n",
      "Running method: get_newbiers_ratio_dict ... \n",
      "Running method: get_newbiers_array ... \n",
      "Running method: get_gas_ratio_array ... \n"
     ]
    }
   ],
   "source": [
    "for ico in list_icos[:2]:\n",
    "    ico_csv= f'{path_to_csvs}{ico}.csv'\n",
    "    market_start_date = str(ico_table.at[ ico, 'market_start_date'].date())\n",
    "    is_fraud = ico_table.at[ ico, 'fraud']\n",
    "    try:\n",
    "        print(ico)\n",
    "        ico_parser = ICOParser(ico_csv,\n",
    "                     date_column='BLOCK_TIMESTAMP',\n",
    "                     value_column='VALUE',\n",
    "                     ico_start_date=market_start_date, \n",
    "                     fraud_flag=is_fraud,\n",
    "                          len_time_series=60)\n",
    "        ico_parser.pipeline()\n",
    "        dict_arrays_60[ico] = (ico_parser.array_daily_transactions,\n",
    "                              ico_parser.array_perc_new_holders,\n",
    "                              ico_parser.array_biggest_holder,\n",
    "                              ico_parser.array_newbiers,\n",
    "                              ico_parser.array_gas_ratio)\n",
    "    except:\n",
    "        print(f'PROBLEM WITH: {ico}')\n",
    "        list_bad_icos_60.append(ico)"
   ]
  },
  {
   "cell_type": "markdown",
   "metadata": {},
   "source": [
    "### Loading dictionary with right sizes "
   ]
  },
  {
   "cell_type": "code",
   "execution_count": null,
   "metadata": {},
   "outputs": [],
   "source": [
    "import pickle"
   ]
  },
  {
   "cell_type": "code",
   "execution_count": null,
   "metadata": {},
   "outputs": [],
   "source": [
    "with open('ico_arrays_2020-10-12.pickle', 'rb') as handle:\n",
    "    dict_array_pickle= pickle.load(handle)"
   ]
  },
  {
   "cell_type": "code",
   "execution_count": null,
   "metadata": {},
   "outputs": [],
   "source": [
    "list_icos_bad_size = {k:v[1] for k,v in dict_array_pickle.items() if len(v[1]) != 60}"
   ]
  },
  {
   "cell_type": "code",
   "execution_count": null,
   "metadata": {},
   "outputs": [],
   "source": [
    "list_icos_bad_size.keys()"
   ]
  },
  {
   "cell_type": "code",
   "execution_count": null,
   "metadata": {},
   "outputs": [],
   "source": [
    "for ico in list_icos_bad_size.keys():\n",
    "    print(f'{ico} size: {len(list_icos_bad_size.get(ico))}')"
   ]
  },
  {
   "cell_type": "markdown",
   "metadata": {},
   "source": [
    "### 4NEW "
   ]
  },
  {
   "cell_type": "code",
   "execution_count": null,
   "metadata": {},
   "outputs": [],
   "source": [
    "path_to_csvs = '/home/gabriel/Documents/Repos/time_series_study/data_and_models/all_icos/'\n",
    "ico_ = '4NEW'\n",
    "ico_csv= f'{path_to_csvs}{ico_}.csv'"
   ]
  },
  {
   "cell_type": "code",
   "execution_count": null,
   "metadata": {},
   "outputs": [],
   "source": [
    "ico_table.loc[ico_,:]"
   ]
  },
  {
   "cell_type": "code",
   "execution_count": null,
   "metadata": {},
   "outputs": [],
   "source": [
    "market_start_date = str(ico_table.at[ ico_, 'market_start_date'].date())\n",
    "market_start_date"
   ]
  },
  {
   "cell_type": "code",
   "execution_count": null,
   "metadata": {},
   "outputs": [],
   "source": [
    "is_fraud = ico_table.at[ ico_, 'fraud']\n",
    "is_fraud"
   ]
  },
  {
   "cell_type": "code",
   "execution_count": null,
   "metadata": {},
   "outputs": [],
   "source": [
    "str(ico_table.at[ ico_, 'market_start_date'].date())"
   ]
  },
  {
   "cell_type": "code",
   "execution_count": null,
   "metadata": {},
   "outputs": [],
   "source": [
    "ico_parser = ICOParser(ico_csv,\n",
    "                 date_column='BLOCK_TIMESTAMP',\n",
    "                 value_column='VALUE',\n",
    "                 ico_start_date=market_start_date, \n",
    "                 fraud_flag=is_fraud,\n",
    "                      len_time_series=20)"
   ]
  },
  {
   "cell_type": "code",
   "execution_count": null,
   "metadata": {},
   "outputs": [],
   "source": [
    "print('Running method: define_ico_start_date ... ')\n",
    "ico_parser.define_ico_start_date()\n",
    "print('Running method: get_newbiers_dataframe ... ')\n",
    "ico_parser.get_newbiers_dataframe()\n",
    "print('Running method: get_balance ... ')\n",
    "ico_parser.get_balance()"
   ]
  },
  {
   "cell_type": "code",
   "execution_count": null,
   "metadata": {},
   "outputs": [],
   "source": [
    "ico_table.head(200)"
   ]
  },
  {
   "cell_type": "code",
   "execution_count": null,
   "metadata": {},
   "outputs": [],
   "source": [
    "ico_table.at['AIDCOIN', 'market_start_date']"
   ]
  },
  {
   "cell_type": "markdown",
   "metadata": {},
   "source": [
    "## Validating size for bad size ICOs"
   ]
  },
  {
   "cell_type": "code",
   "execution_count": null,
   "metadata": {},
   "outputs": [],
   "source": [
    "list_bad_icos = []"
   ]
  },
  {
   "cell_type": "code",
   "execution_count": null,
   "metadata": {},
   "outputs": [],
   "source": [
    "bad_icos = ['AIDCOIN', 'ANATOMIA', 'BANKERA', 'BELANCE', 'BITCOINMAX', 'BLISSEXCHANGE', 'BUDBO', 'ETHEREUMCASHPRO', 'EXIMCHAIN', 'GADIUNTRUSTWALLET', 'HUOBI', 'ICON',  'LITECOINRED', 'MONEYTOKEN', 'PKGTOKEN', 'QUANTSTAMP', 'REMICOIN', 'SINGULARITYNET', 'SOCIALMEDIAPAY', 'SPARKSTER', 'TEFOOD', 'TIERION', 'TOMO', 'ULTRA']"
   ]
  },
  {
   "cell_type": "code",
   "execution_count": null,
   "metadata": {},
   "outputs": [],
   "source": [
    "\n",
    "for ico in bad_icos:\n",
    "    print(f'{ico} size: {len(list_icos_bad_size.get(ico))}')\n",
    "    ico_csv= f'{path_to_csvs}{ico}.csv'\n",
    "    market_start_date = str(ico_table.at[ ico, 'market_start_date'].date())\n",
    "    is_fraud = ico_table.at[ ico, 'fraud']\n",
    "    try:\n",
    "        ico_parser = ICOParser(ico_csv,\n",
    "                     date_column='BLOCK_TIMESTAMP',\n",
    "                     value_column='VALUE',\n",
    "                     ico_start_date=market_start_date, \n",
    "                     fraud_flag=is_fraud,\n",
    "                          len_time_series=20)\n",
    "        print('Running method: define_ico_start_date ... ')\n",
    "        ico_parser.define_ico_start_date()\n",
    "        print('Running method: get_newbiers_dataframe ... ')\n",
    "        ico_parser.get_newbiers_dataframe()\n",
    "        print('Running method: get_balance ... ')\n",
    "        ico_parser.get_balance()\n",
    "    except:\n",
    "        print(f'PROBLEM WITH: {ico}')\n",
    "        list_bad_icos.append(ico)\n"
   ]
  },
  {
   "cell_type": "code",
   "execution_count": null,
   "metadata": {},
   "outputs": [],
   "source": [
    "list_bad_icos"
   ]
  },
  {
   "cell_type": "code",
   "execution_count": null,
   "metadata": {},
   "outputs": [],
   "source": [
    "ico_table.loc['ANATOMIA']"
   ]
  },
  {
   "cell_type": "code",
   "execution_count": null,
   "metadata": {},
   "outputs": [],
   "source": [
    "ico_parser.pipeline()"
   ]
  },
  {
   "cell_type": "code",
   "execution_count": null,
   "metadata": {},
   "outputs": [],
   "source": [
    "len(list_icos_bad_size.get('4NEW'))"
   ]
  },
  {
   "cell_type": "code",
   "execution_count": null,
   "metadata": {},
   "outputs": [],
   "source": [
    "['AIDCOIN',\n",
    "'ANATOMIA',\n",
    "'BANKERA',\n",
    "'BELANCE',\n",
    "'BITCOINMAX',\n",
    "'BLISSEXCHANGE',\n",
    "'BUDBO',\n",
    "'ETHEREUMCASHPRO',\n",
    "'EXIMCHAIN',\n",
    "'GADIUNTRUSTWALLET',\n",
    "'HUOBI',\n",
    "'ICON',\n",
    "'LITECOINRED',\n",
    "'MONEYTOKEN',\n",
    "'PKGTOKEN',\n",
    "'QUANTSTAMP',\n",
    "'REMICOIN',\n",
    "'SINGULARITYNET',\n",
    "'SOCIALMEDIAPAY',\n",
    "'SPARKSTER']"
   ]
  },
  {
   "cell_type": "markdown",
   "metadata": {},
   "source": [
    "### Testing `ICOParser` individually"
   ]
  },
  {
   "cell_type": "code",
   "execution_count": null,
   "metadata": {},
   "outputs": [],
   "source": [
    "ico_table = pd.read_csv('lista_ico_2020-08-17_tab3.csv')\n",
    "ico_table = ico_table.astype({'start_date': 'datetime64', 'market_start_date': 'datetime64', 'date_analysis':'datetime64'})\n"
   ]
  },
  {
   "cell_type": "code",
   "execution_count": null,
   "metadata": {},
   "outputs": [],
   "source": [
    "ico_table.dtypes"
   ]
  },
  {
   "cell_type": "code",
   "execution_count": null,
   "metadata": {},
   "outputs": [],
   "source": [
    "ico_table.set_index('ico', inplace=True)\n",
    "ico_table.head()"
   ]
  },
  {
   "cell_type": "code",
   "execution_count": null,
   "metadata": {},
   "outputs": [],
   "source": [
    "path_to_csvs = '/home/gabriel/Documents/Repos/time_series_study/data_and_models/all_icos/'\n",
    "\n",
    "#ico_ = 'AMPLEFORTH'\n",
    "ico_ = 'TERRAMINER'\n",
    "ico_csv= f'{path_to_csvs}{ico_}.csv'\n",
    "market_start_date = str(ico_table.at[ ico_, 'market_start_date'].date())\n",
    "is_fraud = ico_table.at[ ico_, 'fraud']"
   ]
  },
  {
   "cell_type": "code",
   "execution_count": null,
   "metadata": {},
   "outputs": [],
   "source": [
    "str(ico_table.at[ ico_, 'market_start_date'].date())"
   ]
  },
  {
   "cell_type": "code",
   "execution_count": null,
   "metadata": {},
   "outputs": [],
   "source": [
    "ico_parser = ICOParser(ico_csv,\n",
    "                 date_column='BLOCK_TIMESTAMP',\n",
    "                 value_column='VALUE',\n",
    "                 ico_start_date=market_start_date, \n",
    "                 fraud_flag=is_fraud,\n",
    "                      len_time_series=20)"
   ]
  },
  {
   "cell_type": "markdown",
   "metadata": {},
   "source": [
    "# TESTANDO PIPELINE"
   ]
  },
  {
   "cell_type": "code",
   "execution_count": null,
   "metadata": {},
   "outputs": [],
   "source": [
    "ico_parser.define_ico_start_date()\n",
    "\"\"\"\n",
    "print('Running method: get_newbiers_dataframe ... ')\n",
    "ico_parser.get_newbiers_dataframe()\n",
    "print('Running method: get_balance ... ')\n",
    "ico_parser.get_balance()\n",
    "print('Running method: get_cumsum_balance ... ')\n",
    "ico_parser.get_cumsum_balance()\n",
    "print('Running method: get_cumsum_daily_percentage ... ')\n",
    "ico_parser.get_cumsum_daily_percentage()\n",
    "print('Running method: get_daily_number_of_new_holder ... ')\n",
    "ico_parser.get_daily_number_of_new_holder()\n",
    "\"\"\"\n",
    "print('Running method: get_array_daily_transactions ... ')\n",
    "ico_parser.get_array_daily_transactions()\n",
    "ico_parser.array_daily_transactions"
   ]
  },
  {
   "cell_type": "code",
   "execution_count": null,
   "metadata": {},
   "outputs": [],
   "source": [
    "%%time\n",
    "ico_parser.pipeline()"
   ]
  },
  {
   "cell_type": "code",
   "execution_count": null,
   "metadata": {},
   "outputs": [],
   "source": [
    "df_resample_func = ico_parser.df_resample_day.reset_index()\n",
    "df_resample_func['BLOCK_TIMESTAMP'] = df_resample_func[\n",
    "            'BLOCK_TIMESTAMP'\n",
    "        ].dt.date"
   ]
  },
  {
   "cell_type": "code",
   "execution_count": null,
   "metadata": {},
   "outputs": [],
   "source": []
  },
  {
   "cell_type": "code",
   "execution_count": null,
   "metadata": {},
   "outputs": [],
   "source": []
  },
  {
   "cell_type": "code",
   "execution_count": null,
   "metadata": {},
   "outputs": [],
   "source": [
    "ico_parser.df_newbiers_resample['GAS_RATIO'] = (\n",
    "                ico_parser.df_newbiers_resample['RECEIPT_GAS_USED']\n",
    "                / ico_parser.df_newbiers_resample['GAS']\n",
    "            )\n",
    "ico_parser.array_gas_ratio = (\n",
    "                ico_parser.df_newbiers_resample.GAS_RATIO.to_list()\n",
    "            )[-ico_parser.len_time_series :]"
   ]
  },
  {
   "cell_type": "markdown",
   "metadata": {},
   "source": [
    "# Tamanho dos Arrays"
   ]
  },
  {
   "cell_type": "code",
   "execution_count": null,
   "metadata": {},
   "outputs": [],
   "source": [
    "ico_parser.get_newbiers_ratio_dict()\n",
    "ico_parser.get_newbiers_array()"
   ]
  }
 ],
 "metadata": {
  "kernelspec": {
   "display_name": "deeplearning",
   "language": "python",
   "name": "deeplearning"
  },
  "language_info": {
   "codemirror_mode": {
    "name": "ipython",
    "version": 3
   },
   "file_extension": ".py",
   "mimetype": "text/x-python",
   "name": "python",
   "nbconvert_exporter": "python",
   "pygments_lexer": "ipython3",
   "version": "3.7.7"
  }
 },
 "nbformat": 4,
 "nbformat_minor": 4
}
