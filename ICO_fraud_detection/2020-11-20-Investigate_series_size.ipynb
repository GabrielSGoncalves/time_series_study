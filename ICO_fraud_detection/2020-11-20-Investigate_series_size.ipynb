{
 "cells": [
  {
   "cell_type": "markdown",
   "metadata": {},
   "source": [
    "# Investigating series sizes"
   ]
  },
  {
   "cell_type": "markdown",
   "metadata": {},
   "source": [
    "## Testing the ICOParser class"
   ]
  },
  {
   "cell_type": "code",
   "execution_count": 1,
   "metadata": {},
   "outputs": [],
   "source": [
    "import pandas as pd\n",
    "from ico_parser import ICOParser\n",
    "# Imprimir todos valores da célula, não somente o último\n",
    "from IPython.core.interactiveshell import InteractiveShell\n",
    "\n",
    "InteractiveShell.ast_node_interactivity = \"all\""
   ]
  },
  {
   "cell_type": "markdown",
   "metadata": {},
   "source": [
    "### Load table with information about ICOs"
   ]
  },
  {
   "cell_type": "code",
   "execution_count": 2,
   "metadata": {},
   "outputs": [],
   "source": [
    "path_to_csvs = '/home/gabriel/Documents/Repos/time_series_study/data_and_models/all_icos/'"
   ]
  },
  {
   "cell_type": "code",
   "execution_count": 3,
   "metadata": {},
   "outputs": [
    {
     "data": {
      "text/html": [
       "<div>\n",
       "<style scoped>\n",
       "    .dataframe tbody tr th:only-of-type {\n",
       "        vertical-align: middle;\n",
       "    }\n",
       "\n",
       "    .dataframe tbody tr th {\n",
       "        vertical-align: top;\n",
       "    }\n",
       "\n",
       "    .dataframe thead th {\n",
       "        text-align: right;\n",
       "    }\n",
       "</style>\n",
       "<table border=\"1\" class=\"dataframe\">\n",
       "  <thead>\n",
       "    <tr style=\"text-align: right;\">\n",
       "      <th></th>\n",
       "      <th>ico</th>\n",
       "      <th>adress</th>\n",
       "      <th>fraud</th>\n",
       "      <th>start_date</th>\n",
       "      <th>market_start_date</th>\n",
       "      <th>diff_days</th>\n",
       "      <th>market_days</th>\n",
       "      <th>size_ok</th>\n",
       "      <th>price_zero</th>\n",
       "      <th>Market Cap</th>\n",
       "      <th>o_concur</th>\n",
       "      <th>biggest_holder</th>\n",
       "      <th>exchange</th>\n",
       "      <th>contract</th>\n",
       "      <th>date_analysis</th>\n",
       "      <th>code</th>\n",
       "      <th>site</th>\n",
       "      <th>social_media</th>\n",
       "    </tr>\n",
       "  </thead>\n",
       "  <tbody>\n",
       "    <tr>\n",
       "      <th>253</th>\n",
       "      <td>TRADEXTOKEN</td>\n",
       "      <td>0x5432c580e34f590f4dd901b825ddeb92e905e826</td>\n",
       "      <td>1</td>\n",
       "      <td>24/01/2020</td>\n",
       "      <td>26/03/2020</td>\n",
       "      <td>62</td>\n",
       "      <td>186</td>\n",
       "      <td>NaN</td>\n",
       "      <td>NaN</td>\n",
       "      <td>NaN</td>\n",
       "      <td>NaN</td>\n",
       "      <td>98</td>\n",
       "      <td>0</td>\n",
       "      <td>0</td>\n",
       "      <td>22/09/2020</td>\n",
       "      <td>NaN</td>\n",
       "      <td>NaN</td>\n",
       "      <td>NaN</td>\n",
       "    </tr>\n",
       "    <tr>\n",
       "      <th>254</th>\n",
       "      <td>TRONCLASSIC</td>\n",
       "      <td>0xad5fe5b0b8ec8ff4565204990e4405b2da117d8e</td>\n",
       "      <td>1</td>\n",
       "      <td>05/08/2018</td>\n",
       "      <td>10/08/2018</td>\n",
       "      <td>153</td>\n",
       "      <td>721</td>\n",
       "      <td>x</td>\n",
       "      <td>x</td>\n",
       "      <td>NaN</td>\n",
       "      <td>NaN</td>\n",
       "      <td>30</td>\n",
       "      <td>13</td>\n",
       "      <td>1</td>\n",
       "      <td>04/06/2019</td>\n",
       "      <td>x</td>\n",
       "      <td>x</td>\n",
       "      <td>NaN</td>\n",
       "    </tr>\n",
       "    <tr>\n",
       "      <th>255</th>\n",
       "      <td>WALTONCHAIN</td>\n",
       "      <td>0xb7cb1c96db6b22b0d3d9536e0108d062bd488f74</td>\n",
       "      <td>1</td>\n",
       "      <td>21/07/2017</td>\n",
       "      <td>23/07/2017</td>\n",
       "      <td>2</td>\n",
       "      <td>1163</td>\n",
       "      <td>x</td>\n",
       "      <td>NaN</td>\n",
       "      <td>NaN</td>\n",
       "      <td>NaN</td>\n",
       "      <td>61</td>\n",
       "      <td>4</td>\n",
       "      <td>0</td>\n",
       "      <td>19/01/2018</td>\n",
       "      <td>x</td>\n",
       "      <td>x</td>\n",
       "      <td>x</td>\n",
       "    </tr>\n",
       "    <tr>\n",
       "      <th>256</th>\n",
       "      <td>ZPAY</td>\n",
       "      <td>0xeffea57067e02999fdcd0bb45c0f1071a29472d9</td>\n",
       "      <td>1</td>\n",
       "      <td>25/07/2018</td>\n",
       "      <td>20/08/2018</td>\n",
       "      <td>26</td>\n",
       "      <td>770</td>\n",
       "      <td>x</td>\n",
       "      <td>NaN</td>\n",
       "      <td>NaN</td>\n",
       "      <td>NaN</td>\n",
       "      <td>99</td>\n",
       "      <td>0</td>\n",
       "      <td>0</td>\n",
       "      <td>16/02/2019</td>\n",
       "      <td>NaN</td>\n",
       "      <td>NaN</td>\n",
       "      <td>NaN</td>\n",
       "    </tr>\n",
       "    <tr>\n",
       "      <th>257</th>\n",
       "      <td>ZYNECOIN</td>\n",
       "      <td>0xe65ee7c03bbb3c950cfd4895c24989afa233ef01</td>\n",
       "      <td>1</td>\n",
       "      <td>21/01/2019</td>\n",
       "      <td>23/01/2019</td>\n",
       "      <td>2</td>\n",
       "      <td>614</td>\n",
       "      <td>x</td>\n",
       "      <td>NaN</td>\n",
       "      <td>NaN</td>\n",
       "      <td>NaN</td>\n",
       "      <td>15</td>\n",
       "      <td>2</td>\n",
       "      <td>0</td>\n",
       "      <td>22/07/2019</td>\n",
       "      <td>x</td>\n",
       "      <td>x</td>\n",
       "      <td>x</td>\n",
       "    </tr>\n",
       "  </tbody>\n",
       "</table>\n",
       "</div>"
      ],
      "text/plain": [
       "             ico                                      adress  fraud  \\\n",
       "253  TRADEXTOKEN  0x5432c580e34f590f4dd901b825ddeb92e905e826      1   \n",
       "254  TRONCLASSIC  0xad5fe5b0b8ec8ff4565204990e4405b2da117d8e      1   \n",
       "255  WALTONCHAIN  0xb7cb1c96db6b22b0d3d9536e0108d062bd488f74      1   \n",
       "256         ZPAY  0xeffea57067e02999fdcd0bb45c0f1071a29472d9      1   \n",
       "257     ZYNECOIN  0xe65ee7c03bbb3c950cfd4895c24989afa233ef01      1   \n",
       "\n",
       "     start_date market_start_date  diff_days  market_days size_ok price_zero  \\\n",
       "253  24/01/2020        26/03/2020         62          186     NaN        NaN   \n",
       "254  05/08/2018        10/08/2018        153          721       x          x   \n",
       "255  21/07/2017        23/07/2017          2         1163       x        NaN   \n",
       "256  25/07/2018        20/08/2018         26          770       x        NaN   \n",
       "257  21/01/2019        23/01/2019          2          614       x        NaN   \n",
       "\n",
       "     Market Cap o_concur  biggest_holder  exchange  contract date_analysis  \\\n",
       "253         NaN      NaN              98         0         0    22/09/2020   \n",
       "254         NaN      NaN              30        13         1    04/06/2019   \n",
       "255         NaN      NaN              61         4         0    19/01/2018   \n",
       "256         NaN      NaN              99         0         0    16/02/2019   \n",
       "257         NaN      NaN              15         2         0    22/07/2019   \n",
       "\n",
       "    code site social_media  \n",
       "253  NaN  NaN          NaN  \n",
       "254    x    x          NaN  \n",
       "255    x    x            x  \n",
       "256  NaN  NaN          NaN  \n",
       "257    x    x            x  "
      ]
     },
     "execution_count": 3,
     "metadata": {},
     "output_type": "execute_result"
    }
   ],
   "source": [
    "ico_table = pd.read_csv('lista_ico_2020-08-17_tab3.csv', sep=';')\n",
    "ico_table.tail()"
   ]
  },
  {
   "cell_type": "code",
   "execution_count": 4,
   "metadata": {},
   "outputs": [
    {
     "data": {
      "text/plain": [
       "adress                       object\n",
       "fraud                         int64\n",
       "start_date           datetime64[ns]\n",
       "market_start_date    datetime64[ns]\n",
       "diff_days                     int64\n",
       "market_days                   int64\n",
       "size_ok                      object\n",
       "price_zero                   object\n",
       "Market Cap                  float64\n",
       "o_concur                     object\n",
       "biggest_holder                int64\n",
       "exchange                      int64\n",
       "contract                      int64\n",
       "date_analysis        datetime64[ns]\n",
       "code                         object\n",
       "site                         object\n",
       "social_media                 object\n",
       "dtype: object"
      ]
     },
     "execution_count": 4,
     "metadata": {},
     "output_type": "execute_result"
    }
   ],
   "source": [
    "ico_table = ico_table.astype({'start_date': 'datetime64', 'market_start_date': 'datetime64', 'date_analysis':'datetime64'})\n",
    "ico_table.set_index('ico', inplace=True)\n",
    "ico_table.dtypes"
   ]
  },
  {
   "cell_type": "code",
   "execution_count": 5,
   "metadata": {},
   "outputs": [],
   "source": [
    "import pandas as pd\n",
    "from datetime import datetime, timedelta\n",
    "from exchange_addresses import ADRESS_LIST\n",
    "import pytz\n",
    "import requests\n",
    "import json\n",
    "import time"
   ]
  },
  {
   "cell_type": "markdown",
   "metadata": {},
   "source": [
    "## Updated Performance"
   ]
  },
  {
   "cell_type": "code",
   "execution_count": 6,
   "metadata": {},
   "outputs": [
    {
     "name": "stdout",
     "output_type": "stream",
     "text": [
      "CPU times: user 33.2 s, sys: 230 ms, total: 33.4 s\n",
      "Wall time: 33.5 s\n"
     ]
    }
   ],
   "source": [
    "%%time\n",
    "ico = \"COMPOUND\"\n",
    "ico_csv= f'{path_to_csvs}{ico}.csv'\n",
    "market_start_date = str(ico_table.at[ ico, 'market_start_date'].date())\n",
    "is_fraud = ico_table.at[ ico, 'fraud']\n",
    "ico_parser = ICOParser(ico_csv,\n",
    "                     date_column='BLOCK_TIMESTAMP',\n",
    "                     value_column='VALUE',\n",
    "                     ico_start_date=market_start_date, \n",
    "                     fraud_flag=is_fraud,\n",
    "                          len_time_series=20)"
   ]
  },
  {
   "cell_type": "code",
   "execution_count": 7,
   "metadata": {},
   "outputs": [
    {
     "name": "stdout",
     "output_type": "stream",
     "text": [
      "Running method: get_newbiers_dataframe ... \n",
      "Running method: get_balance ... \n",
      "2020-06-15 2020-07-05\n",
      "2020-03-04\n",
      "123\n",
      "Running method: get_cumsum_balance ... \n",
      "Running method: get_cumsum_daily_percentage ... \n",
      "Running method: get_daily_number_of_new_holder ... \n",
      "Running method: get_array_daily_transactions ... \n",
      "Running method: get_array_perc_new_holders ... \n",
      "Running method: get_biggest_holder_dict ... \n",
      "Number of API calls 4\n",
      "List adresses checked: dict_keys(['0x1449e0687810bddd356ae6dd87789244a46d9adb', '0x19bc62ff7cd9ffd6bdced9802ff718f09f7259f1', '0x2775b1c75658be0f640272ccb8c72ac986009e38', '0xc89b6f0146642688bb254bf93c28fccf1e182c81'])\n",
      "Running method: get_biggest_holder_array ... \n",
      "Running method: get_newbiers_ratio_dict ... \n",
      "Running method: get_newbiers_array ... \n",
      "Running method: get_gas_ratio_array ... \n",
      "CPU times: user 1min 56s, sys: 79.8 ms, total: 1min 56s\n",
      "Wall time: 2min 1s\n"
     ]
    }
   ],
   "source": [
    "%%time\n",
    "ico_parser.pipeline()"
   ]
  },
  {
   "cell_type": "code",
   "execution_count": 12,
   "metadata": {},
   "outputs": [
    {
     "data": {
      "text/plain": [
       "20"
      ]
     },
     "execution_count": 12,
     "metadata": {},
     "output_type": "execute_result"
    },
    {
     "data": {
      "text/plain": [
       "20"
      ]
     },
     "execution_count": 12,
     "metadata": {},
     "output_type": "execute_result"
    },
    {
     "data": {
      "text/plain": [
       "20"
      ]
     },
     "execution_count": 12,
     "metadata": {},
     "output_type": "execute_result"
    },
    {
     "data": {
      "text/plain": [
       "20"
      ]
     },
     "execution_count": 12,
     "metadata": {},
     "output_type": "execute_result"
    },
    {
     "data": {
      "text/plain": [
       "20"
      ]
     },
     "execution_count": 12,
     "metadata": {},
     "output_type": "execute_result"
    }
   ],
   "source": [
    "len(ico_parser.array_daily_transactions)\n",
    "len(ico_parser.array_perc_new_holders)\n",
    "len(ico_parser.array_biggest_holder)\n",
    "len(ico_parser.array_newbiers)\n",
    "len(ico_parser.array_gas_ratio)"
   ]
  },
  {
   "cell_type": "markdown",
   "metadata": {},
   "source": [
    "## Creating Dataset"
   ]
  },
  {
   "cell_type": "markdown",
   "metadata": {},
   "source": [
    "## Arrays of lenght 20"
   ]
  },
  {
   "cell_type": "code",
   "execution_count": 20,
   "metadata": {},
   "outputs": [],
   "source": [
    "for ico in ico_table.index.to_list():\n",
    "    if '-' in ico or '_' in ico or ' ' in ico:\n",
    "        print(ico)"
   ]
  },
  {
   "cell_type": "code",
   "execution_count": 21,
   "metadata": {},
   "outputs": [],
   "source": [
    "list_icos = ico_table.index.to_list()"
   ]
  },
  {
   "cell_type": "code",
   "execution_count": 22,
   "metadata": {},
   "outputs": [],
   "source": [
    "dict_arrays_20 = {}\n",
    "list_bad_icos_20 = []"
   ]
  },
  {
   "cell_type": "code",
   "execution_count": 23,
   "metadata": {},
   "outputs": [
    {
     "data": {
      "text/plain": [
       "{}"
      ]
     },
     "execution_count": 23,
     "metadata": {},
     "output_type": "execute_result"
    }
   ],
   "source": [
    "dict_arrays_20"
   ]
  },
  {
   "cell_type": "code",
   "execution_count": null,
   "metadata": {},
   "outputs": [],
   "source": [
    "for ico in list_icos:\n",
    "    ico_csv= f'{path_to_csvs}{ico}.csv'\n",
    "    market_start_date = str(ico_table.at[ ico, 'market_start_date'].date())\n",
    "    is_fraud = ico_table.at[ ico, 'fraud']\n",
    "    try:\n",
    "        print(ico)\n",
    "        ico_parser = ICOParser(ico_csv,\n",
    "                     date_column='BLOCK_TIMESTAMP',\n",
    "                     value_column='VALUE',\n",
    "                     ico_start_date=market_start_date, \n",
    "                     fraud_flag=is_fraud,\n",
    "                          len_time_series=20)\n",
    "        ico_parser.pipeline()\n",
    "        dict_arrays_20[ico] = (ico_parser.array_daily_transactions,\n",
    "                              ico_parser.array_perc_new_holders,\n",
    "                              ico_parser.array_biggest_holder,\n",
    "                              ico_parser.array_newbiers,\n",
    "                              ico_parser.array_gas_ratio)\n",
    "    except:\n",
    "        print(f'PROBLEM WITH: {ico}')\n",
    "        list_bad_icos_20.append(ico)"
   ]
  },
  {
   "cell_type": "code",
   "execution_count": 26,
   "metadata": {},
   "outputs": [
    {
     "name": "stdout",
     "output_type": "stream",
     "text": [
      "AIDCOIN\n",
      "ALLME\n",
      "BELANCE\n",
      "BLOCKMALL\n",
      "CRYPTONIAPOKER\n",
      "DIAM\n",
      "EXIMCHAIN\n",
      "HONEYSHARECOIN\n",
      "ICON\n",
      "INDAHASH\n",
      "LOLIGO\n",
      "MONEYTOKEN\n",
      "MULTILEVEL\n",
      "PLANETMOBILETOKEN\n",
      "PROMETEUS\n",
      "SHARERING\n",
      "SINGULARITYNET\n",
      "SOCIALMEDIAPAY\n",
      "SPARKSTER\n"
     ]
    }
   ],
   "source": [
    "# Verificando o tamanho dos arrays\n",
    "for ico in dict_arrays_20.keys():\n",
    "    if len(dict_arrays_20.get(ico)[0]) != 20:\n",
    "        print(ico)"
   ]
  },
  {
   "cell_type": "markdown",
   "metadata": {},
   "source": [
    "## Arrays of lenght 40"
   ]
  },
  {
   "cell_type": "code",
   "execution_count": 28,
   "metadata": {},
   "outputs": [],
   "source": [
    "dict_arrays_40 = {}\n",
    "list_bad_icos_40 = []\n",
    "dict_arrays_40['arrays'] = ('array_daily_transactions',\n",
    "                              'array_perc_new_holders',\n",
    "                              'array_biggest_holder',\n",
    "                              'array_newbiers',\n",
    "                              'array_gas_ratio',\n",
    "                              'array_daily_transactions_ma',\n",
    "                              'array_perc_new_holders_ma',\n",
    "                              'array_biggest_holder_ma',\n",
    "                              'array_newbiers_ma',\n",
    "                              'array_gas_ratio_ma')"
   ]
  },
  {
   "cell_type": "code",
   "execution_count": 29,
   "metadata": {},
   "outputs": [
    {
     "data": {
      "text/plain": [
       "{'arrays': ('array_daily_transactions',\n",
       "  'array_perc_new_holders',\n",
       "  'array_biggest_holder',\n",
       "  'array_newbiers',\n",
       "  'array_gas_ratio',\n",
       "  'array_daily_transactions_ma',\n",
       "  'array_perc_new_holders_ma',\n",
       "  'array_biggest_holder_ma',\n",
       "  'array_newbiers_ma',\n",
       "  'array_gas_ratio_ma')}"
      ]
     },
     "execution_count": 29,
     "metadata": {},
     "output_type": "execute_result"
    }
   ],
   "source": [
    "dict_arrays_40"
   ]
  },
  {
   "cell_type": "code",
   "execution_count": null,
   "metadata": {},
   "outputs": [
    {
     "name": "stdout",
     "output_type": "stream",
     "text": [
      "0X\n",
      "Running method: get_newbiers_dataframe ... \n",
      "Running method: get_balance ... \n",
      "2017-08-15 2017-09-24\n",
      "2017-08-11\n",
      "44\n",
      "Running method: get_cumsum_balance ... \n",
      "Running method: get_cumsum_daily_percentage ... \n",
      "Running method: get_daily_number_of_new_holder ... \n",
      "Running method: get_array_daily_transactions ... \n",
      "Running method: get_array_perc_new_holders ... \n",
      "Running method: get_biggest_holder_dict ... \n",
      "Number of API calls 8\n",
      "List adresses checked: dict_keys(['0x5694185964caccc6281ac2799d402b27e7efe565', '0x7f33036d984f67a864c7f413012c31329d4193a2', '0x606af0bd4501855914b50e2672c5926b896737ef', '0x206376e8940e42538781cd94ef024df3c1e0fd43', '0xdb63d40c033d35e79cdbb21430f0fe10e9d97303', '0xe4abc54f5a6288b60c18b361442a151fc4911da6', '0x5e575279bf9f4acf0a130c186861454247394c06', '0xead6be34ce315940264519f250d8160f369fa5cd'])\n",
      "Running method: get_biggest_holder_array ... \n",
      "Running method: get_newbiers_ratio_dict ... \n",
      "Running method: get_newbiers_array ... \n",
      "Running method: get_gas_ratio_array ... \n",
      "AELF\n",
      "Running method: get_newbiers_dataframe ... \n",
      "Running method: get_balance ... \n",
      "2017-12-21 2018-01-30\n",
      "2017-12-18\n",
      "43\n",
      "Running method: get_cumsum_balance ... \n",
      "Running method: get_cumsum_daily_percentage ... \n",
      "Running method: get_daily_number_of_new_holder ... \n",
      "Running method: get_array_daily_transactions ... \n",
      "Running method: get_array_perc_new_holders ... \n",
      "Running method: get_biggest_holder_dict ... \n",
      "Number of API calls 5\n",
      "List adresses checked: dict_keys(['0x7b35da02a8a9de700843d0671334e55ec6b2c15d', '0xce6446bad4c1c0bb125d5a4a8ef8776e15127c0c', '0x3f5ce5fbfe3e9af3971dd833d26ba9b5c936f0be', '0x97fadbaa458e2bcaafe90f09e2637defc318617b', '0xc0755aa20f21ceac537fd468a5170acce6a84a5b'])\n",
      "Running method: get_biggest_holder_array ... \n",
      "Running method: get_newbiers_ratio_dict ... \n",
      "Running method: get_newbiers_array ... \n",
      "Running method: get_gas_ratio_array ... \n",
      "AMPLEFORTH\n",
      "Running method: get_newbiers_dataframe ... \n",
      "Running method: get_balance ... \n",
      "2019-06-27 2019-08-06\n",
      "2019-06-14\n",
      "53\n",
      "Running method: get_cumsum_balance ... \n",
      "Running method: get_cumsum_daily_percentage ... \n",
      "Running method: get_daily_number_of_new_holder ... \n",
      "Running method: get_array_daily_transactions ... \n",
      "Running method: get_array_perc_new_holders ... \n",
      "Running method: get_biggest_holder_dict ... \n",
      "Number of API calls 7\n",
      "List adresses checked: dict_keys(['0xb22ed4bec314d475a8782e0b6869f0144d46859c', '0x742d35cc6634c0532925a3b844bc454e4438f44e', '0x390aad4274545912d0d4e94c19349c00423c8e36', '0xeb00ec4915e4857f72398754f6078aaffd82f9d1', '0xbdb30cf89efdd8c7410d9b3d0de04bc41b962770', '0x89fe954538a92eca58adaec339ca6374af079a13', '0xf0d611b2610352600f7055e418e547e1c956c046'])\n",
      "Running method: get_biggest_holder_array ... \n",
      "Running method: get_newbiers_ratio_dict ... \n",
      "Running method: get_newbiers_array ... \n",
      "Running method: get_gas_ratio_array ... \n",
      "ANKR\n",
      "Running method: get_newbiers_dataframe ... \n",
      "Running method: get_balance ... \n",
      "2019-03-05 2019-04-14\n",
      "2019-02-21\n",
      "52\n",
      "Running method: get_cumsum_balance ... \n",
      "Running method: get_cumsum_daily_percentage ... \n",
      "Running method: get_daily_number_of_new_holder ... \n",
      "Running method: get_array_daily_transactions ... \n",
      "Running method: get_array_perc_new_holders ... \n",
      "Running method: get_biggest_holder_dict ... \n",
      "Number of API calls 3\n",
      "List adresses checked: dict_keys(['0x9c2578bf9e37eb1d0ddf45a410723d95e554cbdd', '0xc2e96f45232134dd32b6df4d51ac82248ca942cc', '0xfbb1b73c4f0bda4f67dca266ce6ef42f520fbb98'])\n",
      "Running method: get_biggest_holder_array ... \n",
      "Running method: get_newbiers_ratio_dict ... \n",
      "Running method: get_newbiers_array ... \n",
      "Running method: get_gas_ratio_array ... \n",
      "BANCOR\n",
      "Running method: get_newbiers_dataframe ... \n",
      "Running method: get_balance ... \n",
      "2017-06-12 2017-07-22\n",
      "2017-06-10\n",
      "42\n",
      "Running method: get_cumsum_balance ... \n",
      "Running method: get_cumsum_daily_percentage ... \n",
      "Running method: get_daily_number_of_new_holder ... \n",
      "Running method: get_array_daily_transactions ... \n",
      "Running method: get_array_perc_new_holders ... \n",
      "Running method: get_biggest_holder_dict ... \n",
      "Number of API calls 12\n",
      "List adresses checked: dict_keys(['0xeb68aa2764b4a9a943658b2e61db4c902b2ebf85', '0x5894110995b8c8401bd38262ba0c8ee41d4e4658', '0x097068d47715791976ac7c514a52269cbd0bdf6f', '0x5c6226801eef33db1fb807081f183ea75210f62b', '0x257c6bcbdf47d9eee3b2d13de4af9d75d3c681d4', '0xeb31acbf35b4e48ae39c8c62bb5674cf9d7c4fbe', '0xfbb1b73c4f0bda4f67dca266ce6ef42f520fbb98', '0x79e7ccb8e7a61ad4781c98864c40e380bb10dd26', '0x7af1362060ec77ca30be2508cce10169210393ee', '0x7ec6a713197fcbb4cfe7213800470b0940268549', '0x0c43eb0b18774a15bca2e639ba470796147b8d24', '0xad04835b1129c08be6093d683d725ff82cd24036'])\n",
      "Running method: get_biggest_holder_array ... \n",
      "Running method: get_newbiers_ratio_dict ... \n",
      "Running method: get_newbiers_array ... \n",
      "Running method: get_gas_ratio_array ... \n",
      "BLUZELLE\n",
      "Running method: get_newbiers_dataframe ... \n",
      "Running method: get_balance ... \n",
      "2018-01-19 2018-02-28\n",
      "2018-01-15\n",
      "44\n",
      "Running method: get_cumsum_balance ... \n",
      "Running method: get_cumsum_daily_percentage ... \n",
      "Running method: get_daily_number_of_new_holder ... \n",
      "Running method: get_array_daily_transactions ... \n",
      "Running method: get_array_perc_new_holders ... \n",
      "Running method: get_biggest_holder_dict ... \n",
      "Number of API calls 2\n",
      "List adresses checked: dict_keys(['0xb6e617efffe4e529b855f4e45c236c0dac09a0b2', '0xe9638c2d07eac8774d46b85e47cf53f52d60239f'])\n",
      "Running method: get_biggest_holder_array ... \n",
      "Running method: get_newbiers_ratio_dict ... \n",
      "Running method: get_newbiers_array ... \n",
      "Running method: get_gas_ratio_array ... \n",
      "CELER\n",
      "Running method: get_newbiers_dataframe ... \n",
      "Running method: get_balance ... \n",
      "2019-03-25 2019-05-04\n",
      "2019-03-19\n",
      "46\n",
      "Running method: get_cumsum_balance ... \n",
      "Running method: get_cumsum_daily_percentage ... \n",
      "Running method: get_daily_number_of_new_holder ... \n",
      "Running method: get_array_daily_transactions ... \n",
      "Running method: get_array_perc_new_holders ... \n",
      "Running method: get_biggest_holder_dict ... \n",
      "Number of API calls 2\n",
      "List adresses checked: dict_keys(['0xf1278b8412d1171ca0e10279f27246d916c22d95', '0xa6045362e295db86da338da6b2a9f439add951b2'])\n",
      "Running method: get_biggest_holder_array ... \n",
      "Running method: get_newbiers_ratio_dict ... \n",
      "Running method: get_newbiers_array ... \n",
      "Running method: get_gas_ratio_array ... \n",
      "CELSIUS\n",
      "Running method: get_newbiers_dataframe ... \n",
      "Running method: get_balance ... \n",
      "2018-04-18 2018-05-28\n",
      "2018-04-11\n",
      "47\n",
      "Running method: get_cumsum_balance ... \n",
      "Running method: get_cumsum_daily_percentage ... \n",
      "Running method: get_daily_number_of_new_holder ... \n",
      "Running method: get_array_daily_transactions ... \n",
      "Running method: get_array_perc_new_holders ... \n",
      "Running method: get_biggest_holder_dict ... \n",
      "Number of API calls 3\n",
      "List adresses checked: dict_keys(['0x917334942eee7c32dcccfbde975f3e0ac30efac4', '0xd73649f2eb47d72f6d121de92de82a194140841e', '0x15eaf5cbc1a3039c4bf99da8d3e7c6c6381c5d3a'])\n",
      "Running method: get_biggest_holder_array ... \n",
      "Running method: get_newbiers_ratio_dict ... \n",
      "Running method: get_newbiers_array ... \n",
      "Running method: get_gas_ratio_array ... \n",
      "CHAINLINK\n",
      "Running method: get_newbiers_dataframe ... \n",
      "Running method: get_balance ... \n",
      "2017-09-20 2017-10-30\n",
      "2017-09-16\n",
      "44\n",
      "Running method: get_cumsum_balance ... \n",
      "Running method: get_cumsum_daily_percentage ... \n",
      "Running method: get_daily_number_of_new_holder ... \n",
      "Running method: get_array_daily_transactions ... \n",
      "Running method: get_array_perc_new_holders ... \n",
      "Running method: get_biggest_holder_dict ... \n",
      "Number of API calls 5\n",
      "List adresses checked: dict_keys(['0x98c63b7b319dfbdf3d811530f2ab9dfe4983af9d', '0xcd43a19ea5e4f9fcf229df53f86747ad2c5613be', '0xe0362f7445e3203a496f6f8b3d51cbb413b69be2', '0xf37c348b7d19b17b29cd5cfa64cfa48e2d6eb8db', '0xbe6977e08d4479c0a6777539ae0e8fa27be4e9d6'])\n",
      "Running method: get_biggest_holder_array ... \n",
      "Running method: get_newbiers_ratio_dict ... \n",
      "Running method: get_newbiers_array ... \n",
      "Running method: get_gas_ratio_array ... \n",
      "CRYPTOCOM\n",
      "Running method: get_newbiers_dataframe ... \n",
      "Running method: get_balance ... \n",
      "2018-12-12 2019-01-21\n",
      "2018-11-14\n",
      "68\n",
      "Running method: get_cumsum_balance ... \n",
      "Running method: get_cumsum_daily_percentage ... \n",
      "Running method: get_daily_number_of_new_holder ... \n",
      "Running method: get_array_daily_transactions ... \n",
      "Running method: get_array_perc_new_holders ... \n",
      "Running method: get_biggest_holder_dict ... \n",
      "Number of API calls 14\n",
      "List adresses checked: dict_keys(['0x35f517cab9a37bc31091c2f155d965af84e0bc85', '0x22e4f709fd5e7fe246fbf7e714ae89bdab7e2a5d', '0xdda508f9f3c1b4ca39c8794df3a080298ebe9c55', '0x71507ee19cbc0c87ff2b5e05d161efe2aac4ee07', '0x67703f7d089f3ac7c8c13a18b2381cbd7ee3eded', '0x20a0bee429d6907e556205ef9d48ab6fe6a55531', '0x34b07f4974db599691bec2d3634f2f57c2086c01', '0xe17ee7b3c676701c66b395a35f0df4c2276a344e', '0x586572eef5b7680d6c544f9353c66f8473f533bb', '0x17e49502febdf7b3bd3a9842a325036d729b7654', '0xc1f6f7a48d929cd3904371d36e2a7d736513a823', '0x4695533e1c76d61466d3f391c66f051115d6b0dc', '0x26769f254f1ba073cef6e9e47a7320332a4da3d8', '0x2377756e657dd4abd20d24c7d2280e03cc908f76'])\n",
      "Running method: get_biggest_holder_array ... \n",
      "Running method: get_newbiers_ratio_dict ... \n",
      "Running method: get_newbiers_array ... \n",
      "Running method: get_gas_ratio_array ... \n",
      "DECENTRALAND\n",
      "Running method: get_newbiers_dataframe ... \n",
      "Running method: get_balance ... \n",
      "2017-09-15 2017-10-25\n",
      "2017-09-06\n",
      "49\n",
      "Running method: get_cumsum_balance ... \n",
      "Running method: get_cumsum_daily_percentage ... \n",
      "Running method: get_daily_number_of_new_holder ... \n",
      "Running method: get_array_daily_transactions ... \n",
      "Running method: get_array_perc_new_holders ... \n",
      "Running method: get_biggest_holder_dict ... \n",
      "Number of API calls 7\n",
      "List adresses checked: dict_keys(['0xc9ae40fb9b506c5cd01bc9f3e6e45b449468030e', '0x3c337fa1bf8725f59f73db6db719c792c5e8ae74', '0xeb31acbf35b4e48ae39c8c62bb5674cf9d7c4fbe', '0x8d12a197cb00d4747a1fe03395095ce2a5cc6819', '0x5e575279bf9f4acf0a130c186861454247394c06', '0xfbb1b73c4f0bda4f67dca266ce6ef42f520fbb98', '0x31fc2dbe295a8570b69c09c5aaec33459fc1a1b3'])\n",
      "Running method: get_biggest_holder_array ... \n",
      "Running method: get_newbiers_ratio_dict ... \n",
      "Running method: get_newbiers_array ... \n",
      "Running method: get_gas_ratio_array ... \n",
      "DXCHAIN\n",
      "Running method: get_newbiers_dataframe ... \n",
      "Running method: get_balance ... \n",
      "2018-08-04 2018-09-13\n",
      "2018-07-07\n",
      "68\n",
      "Running method: get_cumsum_balance ... \n",
      "Running method: get_cumsum_daily_percentage ... \n",
      "Running method: get_daily_number_of_new_holder ... \n",
      "Running method: get_array_daily_transactions ... \n",
      "Running method: get_array_perc_new_holders ... \n",
      "Running method: get_biggest_holder_dict ... \n",
      "Number of API calls 2\n",
      "List adresses checked: dict_keys(['0x3d3a7c87f45708c041caba45fb7a765e67ee9d76', '0xabbd5d76fa389b7293553c2770f9717f4828986b'])\n",
      "Running method: get_biggest_holder_array ... \n",
      "Running method: get_newbiers_ratio_dict ... \n",
      "Running method: get_newbiers_array ... \n",
      "Running method: get_gas_ratio_array ... \n",
      "ENJIN\n",
      "Running method: get_newbiers_dataframe ... \n",
      "Running method: get_balance ... \n",
      "2017-10-02 2017-11-11\n",
      "2017-10-02\n",
      "40\n",
      "Running method: get_cumsum_balance ... \n",
      "Running method: get_cumsum_daily_percentage ... \n",
      "Running method: get_daily_number_of_new_holder ... \n",
      "Running method: get_array_daily_transactions ... \n",
      "Running method: get_array_perc_new_holders ... \n",
      "Running method: get_biggest_holder_dict ... \n",
      "Number of API calls 7\n",
      "List adresses checked: dict_keys(['0x7ff3258d6278a67d363a22f4fe3b83a21acdd59e', '0x8d12a197cb00d4747a1fe03395095ce2a5cc6819', '0x444e01dcb3a1ec1b1aa1344505ed7c8690d53281', '0x3f5ce5fbfe3e9af3971dd833d26ba9b5c936f0be', '0xe5182b2db7f1f807aedebba7f30e03d6616b7e0a', '0xf07232bc85d995c32c1edf1c985c84a8b7b0ded7', '0x4f54709c66ed99665936f543e9beb1d4e8f7b67b'])\n",
      "Running method: get_biggest_holder_array ... \n",
      "Running method: get_newbiers_ratio_dict ... \n",
      "Running method: get_newbiers_array ... \n",
      "Running method: get_gas_ratio_array ... \n",
      "EOS\n",
      "Running method: get_newbiers_dataframe ... \n",
      "Running method: get_balance ... \n",
      "2017-07-01 2017-08-10\n",
      "2017-06-20\n",
      "51\n",
      "Running method: get_cumsum_balance ... \n",
      "Running method: get_cumsum_daily_percentage ... \n",
      "Running method: get_daily_number_of_new_holder ... \n",
      "Running method: get_array_daily_transactions ... \n",
      "Running method: get_array_perc_new_holders ... \n",
      "Running method: get_biggest_holder_dict ... \n",
      "Number of API calls 1\n",
      "List adresses checked: dict_keys(['0x00000000000000000000000000000000000000b1'])\n",
      "Running method: get_biggest_holder_array ... \n",
      "Running method: get_newbiers_ratio_dict ... \n",
      "Running method: get_newbiers_array ... \n",
      "Running method: get_gas_ratio_array ... \n",
      "FANTOM\n",
      "Running method: get_newbiers_dataframe ... \n",
      "Running method: get_balance ... \n",
      "2018-06-15 2018-07-25\n",
      "2018-06-15\n",
      "22\n",
      "Running method: get_cumsum_balance ... \n",
      "Running method: get_cumsum_daily_percentage ... \n",
      "Running method: get_daily_number_of_new_holder ... \n",
      "Running method: get_array_daily_transactions ... \n",
      "Running method: get_array_perc_new_holders ... \n",
      "Running method: get_biggest_holder_dict ... \n",
      "Number of API calls 3\n",
      "List adresses checked: dict_keys(['0xd5684e8b42d72bed408ac9b53704d6c1fc5e7850', '0x1dbe653e13473d54100521465158a46d8d745baa', '0x00e2b2a7677158ec57fe7c4ba2ca38d24f25970f'])\n",
      "Running method: get_biggest_holder_array ... \n",
      "Running method: get_newbiers_ratio_dict ... \n",
      "Running method: get_newbiers_array ... \n",
      "Running method: get_gas_ratio_array ... \n",
      "FETCH\n",
      "Running method: get_newbiers_dataframe ... \n",
      "Running method: get_balance ... \n",
      "2019-02-28 2019-04-09\n",
      "2018-10-08\n",
      "183\n",
      "Running method: get_cumsum_balance ... \n",
      "Running method: get_cumsum_daily_percentage ... \n",
      "Running method: get_daily_number_of_new_holder ... \n",
      "Running method: get_array_daily_transactions ... \n",
      "Running method: get_array_perc_new_holders ... \n",
      "Running method: get_biggest_holder_dict ... \n",
      "Number of API calls 20\n",
      "List adresses checked: dict_keys(['0x7cd9497b3da5de1eba948fa574c4de771124f1d9', '0x6aaab8c0ebb649e2f82b5a15e6241beaa88d88e4', '0xc54fb6d99a780e28755c93ebee9282a0793cfc0e', '0x4e9ce36e442e55ecd9025b9a6e0d88485d628a67', '0x3f5ce5fbfe3e9af3971dd833d26ba9b5c936f0be', '0x0681d8db095565fe8a346fa0277bffde9c0edbbf', '0x564286362092d8e7936f0549571a803b203aaced', '0xd551234ae421e3bcba99a0da6d736074f22192ff', '0x2c4d63ad47c4c5ddf3f948b0cc2b9021cfe35634', '0x142a4f41743cb2bf472174c71f2c1484d453dc07', '0xd272185e38df4f83b91793facfb43414f6218c7c', '0x4b1a99467a284cc690e3237bc69105956816f762', '0x689c56aef474df92d44a1b70850f808488f9769c', '0x6cc5f688a315f3dc28a7781717a9a798a59fda7b', '0x03bdf69b1322d623836afbd27679a1c0afa067e9', '0x30ecc7a91bd1347e267f43dbf3548b4965a075c3', '0x916ed5586bb328e0ec1a428af060dc3d10919d84', '0x2b5634c42055806a59e9107ed44d43c426e58258', '0x508652972e005801b4db087723d71db52de84dc8', '0x779c7b5cadccd0902d2aced65a20f70a4b19282f'])\n",
      "Running method: get_biggest_holder_array ... \n",
      "Running method: get_newbiers_ratio_dict ... \n",
      "Running method: get_newbiers_array ... \n",
      "Running method: get_gas_ratio_array ... \n",
      "HOLO\n",
      "Running method: get_newbiers_dataframe ... \n",
      "Running method: get_balance ... \n",
      "2018-04-29 2018-06-08\n",
      "2018-04-29\n",
      "40\n",
      "Running method: get_cumsum_balance ... \n",
      "Running method: get_cumsum_daily_percentage ... \n",
      "Running method: get_daily_number_of_new_holder ... \n",
      "Running method: get_array_daily_transactions ... \n",
      "Running method: get_array_perc_new_holders ... \n",
      "Running method: get_biggest_holder_dict ... \n",
      "Number of API calls 5\n",
      "List adresses checked: dict_keys(['0x2a0c0dbecc7e4d658f48e01e3fa353f44050c208', '0x5fd970a48240fd2bee962b2d077cbf7cc57fa513', '0x833e939338be4de8da6b67c130ac2bb6727a4d22', '0x274f3c32c90517975e29dfc209a23f315c1e5fc7', '0x85abfb4586acf2cffe0953ac834c8931bfd7c364'])\n",
      "Running method: get_biggest_holder_array ... \n",
      "Running method: get_newbiers_ratio_dict ... \n",
      "Running method: get_newbiers_array ... \n",
      "Running method: get_gas_ratio_array ... \n",
      "HUOBI\n",
      "Running method: get_newbiers_dataframe ... \n",
      "Running method: get_balance ... \n",
      "2018-02-01 2018-03-13\n",
      "2018-01-31\n",
      "41\n",
      "Running method: get_cumsum_balance ... \n",
      "Running method: get_cumsum_daily_percentage ... \n",
      "Running method: get_daily_number_of_new_holder ... \n",
      "Running method: get_array_daily_transactions ... \n",
      "Running method: get_array_perc_new_holders ... \n",
      "Running method: get_biggest_holder_dict ... \n",
      "Number of API calls 1\n",
      "List adresses checked: dict_keys(['0xe723f2e91ad9f84595408a9f1688361e956722e2'])\n",
      "Running method: get_biggest_holder_array ... \n",
      "Running method: get_newbiers_ratio_dict ... \n",
      "Running method: get_newbiers_array ... \n",
      "Running method: get_gas_ratio_array ... \n",
      "ICON\n",
      "Running method: get_newbiers_dataframe ... \n",
      "Running method: get_balance ... \n",
      "2017-09-20 2017-10-30\n",
      "2017-09-19\n",
      "1\n",
      "Running method: get_cumsum_balance ... \n",
      "Running method: get_cumsum_daily_percentage ... \n",
      "Running method: get_daily_number_of_new_holder ... \n",
      "Running method: get_array_daily_transactions ... \n",
      "Running method: get_array_perc_new_holders ... \n",
      "Running method: get_biggest_holder_dict ... \n",
      "Number of API calls 2\n",
      "List adresses checked: dict_keys(['0x3e1624dda0d25338781d487f60e383b03e162151', '0xa7e910de9ce06758daeb6ad92511397d5166bde7'])\n",
      "Running method: get_biggest_holder_array ... \n",
      "Running method: get_newbiers_ratio_dict ... \n",
      "Running method: get_newbiers_array ... \n",
      "Running method: get_gas_ratio_array ... \n",
      "IOST\n",
      "Running method: get_newbiers_dataframe ... \n",
      "Running method: get_balance ... \n",
      "2018-01-13 2018-02-22\n",
      "2018-01-11\n",
      "42\n",
      "Running method: get_cumsum_balance ... \n",
      "Running method: get_cumsum_daily_percentage ... \n",
      "Running method: get_daily_number_of_new_holder ... \n",
      "Running method: get_array_daily_transactions ... \n",
      "Running method: get_array_perc_new_holders ... \n",
      "Running method: get_biggest_holder_dict ... \n",
      "Number of API calls 2\n",
      "List adresses checked: dict_keys(['0x9841cf34bc16af4658ff83a1837dc7d5da6ffa3b', '0x6b19ab0282ae006d18a6efc8caa1b73d9badb075'])\n",
      "Running method: get_biggest_holder_array ... \n",
      "Running method: get_newbiers_ratio_dict ... \n",
      "Running method: get_newbiers_array ... \n",
      "Running method: get_gas_ratio_array ... \n",
      "IOTEX\n",
      "Running method: get_newbiers_dataframe ... \n",
      "Running method: get_balance ... \n",
      "2018-05-24 2018-07-03\n",
      "2018-05-21\n",
      "43\n",
      "Running method: get_cumsum_balance ... \n",
      "Running method: get_cumsum_daily_percentage ... \n",
      "Running method: get_daily_number_of_new_holder ... \n",
      "Running method: get_array_daily_transactions ... \n",
      "Running method: get_array_perc_new_holders ... \n",
      "Running method: get_biggest_holder_dict ... \n",
      "Number of API calls 3\n",
      "List adresses checked: dict_keys(['0x22bf72fae47b907352afe89a05a1fd704c27c2be', '0x05e1c57bb36be58eaeaa5149febf048f7207cada', '0x79c3a20dbc3b1ced888c044164e3d0c0dd9ba141'])\n",
      "Running method: get_biggest_holder_array ... \n",
      "Running method: get_newbiers_ratio_dict ... \n",
      "Running method: get_newbiers_array ... \n",
      "Running method: get_gas_ratio_array ... \n",
      "KLEROS\n",
      "Running method: get_newbiers_dataframe ... \n",
      "Running method: get_balance ... \n",
      "2018-07-16 2018-08-25\n",
      "2018-03-15\n",
      "163\n",
      "Running method: get_cumsum_balance ... \n",
      "Running method: get_cumsum_daily_percentage ... \n",
      "Running method: get_daily_number_of_new_holder ... \n",
      "Running method: get_array_daily_transactions ... \n",
      "Running method: get_array_perc_new_holders ... \n",
      "Running method: get_biggest_holder_dict ... \n",
      "Number of API calls 2\n",
      "List adresses checked: dict_keys(['0x00b5ade4ac1fe9ccc08addc2c10070642335117f', '0xac43300f2d0c345b716f36853eceb497576e0f67'])\n",
      "Running method: get_biggest_holder_array ... \n",
      "Running method: get_newbiers_ratio_dict ... \n",
      "Running method: get_newbiers_array ... \n",
      "Running method: get_gas_ratio_array ... \n",
      "KYBER\n",
      "Running method: get_newbiers_dataframe ... \n",
      "Running method: get_balance ... \n",
      "2017-09-15 2017-10-25\n",
      "2017-09-12\n",
      "43\n",
      "Running method: get_cumsum_balance ... \n",
      "Running method: get_cumsum_daily_percentage ... \n",
      "Running method: get_daily_number_of_new_holder ... \n",
      "Running method: get_array_daily_transactions ... \n",
      "Running method: get_array_perc_new_holders ... \n",
      "Running method: get_biggest_holder_dict ... \n",
      "Number of API calls 6\n",
      "List adresses checked: dict_keys(['0x3eb01b3391ea15ce752d01cf3d3f09dec596f650', '0xd6cd31f283d24cfb442cba1bcf42290c07c15792', '0xc8a1dab586dee8a30cb88c87b8a3614e0a391fc5', '0xe692869347b9b18ef2deed19ae1bbace303b52b0', '0x5e575279bf9f4acf0a130c186861454247394c06', '0xb287a379e6caca6732e50b88d23c290aa990a892'])\n",
      "Running method: get_biggest_holder_array ... \n",
      "Running method: get_newbiers_ratio_dict ... \n",
      "Running method: get_newbiers_array ... \n",
      "Running method: get_gas_ratio_array ... \n",
      "LAMBDA\n",
      "Running method: get_newbiers_dataframe ... \n",
      "Running method: get_balance ... \n",
      "2018-12-29 2019-02-07\n",
      "2018-09-18\n",
      "142\n",
      "Running method: get_cumsum_balance ... \n",
      "Running method: get_cumsum_daily_percentage ... \n",
      "Running method: get_daily_number_of_new_holder ... \n",
      "Running method: get_array_daily_transactions ... \n",
      "Running method: get_array_perc_new_holders ... \n",
      "Running method: get_biggest_holder_dict ... \n",
      "Number of API calls 13\n",
      "List adresses checked: dict_keys(['0x4a96edc0fde5faa54f77437bf367657658c36d38', '0xa555042f07bfd19e251cc21c84c35725a47d4c66', '0xf8d03ea2ae3ec511516736560225eca17042f657', '0xebb3020ae07c0805881f3b42c10c2d45b7970ff3', '0xe93381fb4c4f14bda253907b18fad305d799241a', '0xadb2b42f6bd96f5c65920b9ac88619dce4166f94', '0x4b1a99467a284cc690e3237bc69105956816f762', '0x03bdf69b1322d623836afbd27679a1c0afa067e9', '0x6748f50f686bfbca6fe8ad62b22228b87f31ff2b', '0xe5f3e175c8203f18230adb946e14ede961b61d40', '0xa516cefdf68100dd7a93e83f3f8beff2b3261a51', '0x6efb20f61b80f6a7ebe7a107bace58288a51fb34', '0x274f3c32c90517975e29dfc209a23f315c1e5fc7'])\n",
      "Running method: get_biggest_holder_array ... \n",
      "Running method: get_newbiers_ratio_dict ... \n",
      "Running method: get_newbiers_array ... \n",
      "Running method: get_gas_ratio_array ... \n",
      "MATIC\n",
      "Running method: get_newbiers_dataframe ... \n",
      "Running method: get_balance ... \n",
      "2019-04-26 2019-06-05\n",
      "2019-04-20\n",
      "46\n",
      "Running method: get_cumsum_balance ... \n",
      "Running method: get_cumsum_daily_percentage ... \n",
      "Running method: get_daily_number_of_new_holder ... \n",
      "Running method: get_array_daily_transactions ... \n",
      "Running method: get_array_perc_new_holders ... \n",
      "Running method: get_biggest_holder_dict ... \n",
      "Number of API calls 6\n",
      "List adresses checked: dict_keys(['0xcbfe11b78c2e6cb25c6eda2c6ff46cd4755c8fca', '0xb316fa9fa91700d7084d377bfdc81eb9f232f5ff', '0x2a39f6e325055f6a8b90ee42ad007dcaac56368b', '0x4e9ce36e442e55ecd9025b9a6e0d88485d628a67', '0xccb04768f3abcf1af1e749085ef67d8ec7c5fdd2', '0x50d669f43b484166680ecc3670e4766cdb0945ce'])\n",
      "Running method: get_biggest_holder_array ... \n",
      "Running method: get_newbiers_ratio_dict ... \n",
      "Running method: get_newbiers_array ... \n",
      "Running method: get_gas_ratio_array ... \n",
      "NEXO\n",
      "Running method: get_newbiers_dataframe ... \n",
      "Running method: get_balance ... \n",
      "2018-05-01 2018-06-10\n",
      "2018-04-29\n",
      "42\n",
      "Running method: get_cumsum_balance ... \n",
      "Running method: get_cumsum_daily_percentage ... \n",
      "Running method: get_daily_number_of_new_holder ... \n",
      "Running method: get_array_daily_transactions ... \n",
      "Running method: get_array_perc_new_holders ... \n",
      "Running method: get_biggest_holder_dict ... \n",
      "Number of API calls 5\n",
      "List adresses checked: dict_keys(['0x65b0bf8ee4947edd2a500d74e50a3d757dc79de0', '0x93a0d47369fb1adf30db9c72daea4c8cb5c9ad57', '0x2a0c0dbecc7e4d658f48e01e3fa353f44050c208', '0xffec0067f5a79cff07527f63d83dd5462ccf8ba4', '0x39801c36bb811fc5d726166a8bf25d0f88b4313a'])\n",
      "Running method: get_biggest_holder_array ... \n",
      "Running method: get_newbiers_ratio_dict ... \n",
      "Running method: get_newbiers_array ... \n",
      "Running method: get_gas_ratio_array ... \n",
      "OCEANPROTOCOL\n",
      "Running method: get_newbiers_dataframe ... \n",
      "Running method: get_balance ... \n",
      "2019-04-26 2019-06-05\n",
      "2019-04-23\n",
      "43\n",
      "Running method: get_cumsum_balance ... \n",
      "Running method: get_cumsum_daily_percentage ... \n",
      "Running method: get_daily_number_of_new_holder ... \n",
      "Running method: get_array_daily_transactions ... \n",
      "Running method: get_array_perc_new_holders ... \n",
      "Running method: get_biggest_holder_dict ... \n",
      "Number of API calls 15\n",
      "List adresses checked: dict_keys(['0xf6d7ca4cfdc0348485c7d382ea30677c660573c8', '0x6e382b32079b1f7d9ea4b6912f49a13c39a0fa92', '0x7df5273ad9a6fcce64d45c64c1e43cfb6f861725', '0x13a6bc0b79fe2071db46affdf547aa22d999db21', '0x8aa8c6b8897665d62d03e4c6dfc823142a4b44d8', '0xc21616eac0873ee2db9baee2390a89c852d40c56', '0xb251892d6855f7f87023fadf07dc57659bfd7bea', '0x457029604bf51474307f0add615ffc8e20c967f5', '0xb4a098884a5fef077c2c79fec8f85b53292a9366', '0x97eb27f06e21299a8cf544e157607f181304cf7f', '0x9cf91cc343d27bd553193d9bbcbbac54e7bb6a69', '0x2ac818a91b9c01725561d12ece8b4589f6a2ae43', '0xfbb1b73c4f0bda4f67dca266ce6ef42f520fbb98', '0x541e01962bd98edcdc6cc11d85b052387c5dfcbc', '0xaced67c66b13332fa422337945589316f64b2683'])\n",
      "Running method: get_biggest_holder_array ... \n",
      "Running method: get_newbiers_ratio_dict ... \n",
      "Running method: get_newbiers_array ... \n",
      "Running method: get_gas_ratio_array ... \n",
      "ORIGINTRAIL\n",
      "Running method: get_newbiers_dataframe ... \n",
      "Running method: get_balance ... \n",
      "2018-01-24 2018-03-05\n",
      "2018-01-24\n",
      "40\n",
      "Running method: get_cumsum_balance ... \n",
      "Running method: get_cumsum_daily_percentage ... \n",
      "Running method: get_daily_number_of_new_holder ... \n",
      "Running method: get_array_daily_transactions ... \n",
      "Running method: get_array_perc_new_holders ... \n",
      "Running method: get_biggest_holder_dict ... \n",
      "Number of API calls 8\n",
      "List adresses checked: dict_keys(['0x20e2ab81e11d4d02fe71b8cf9e8e3c9e2f714d5e', '0xaa7a9ca87d3694b5755f213b5d04094b8d0f0a6f', '0x8d12a197cb00d4747a1fe03395095ce2a5cc6819', '0xc2a08b4327285e645461b771d3dd145add443014', '0x2a0c0dbecc7e4d658f48e01e3fa353f44050c208', '0xd93a8706fac801cbc7e03025c082e6484accbbae', '0x59a5208b32e627891c389ebafc644145224006e8', '0xa12431d0b9db640034b0cdfceef9cce161e62be4'])\n",
      "Running method: get_biggest_holder_array ... \n",
      "Running method: get_newbiers_ratio_dict ... \n",
      "Running method: get_newbiers_array ... \n",
      "Running method: get_gas_ratio_array ... \n",
      "POWERLEDGER\n",
      "PROBLEM WITH: POWERLEDGER\n",
      "PUNDIX\n",
      "Running method: get_newbiers_dataframe ... \n",
      "Running method: get_balance ... \n",
      "2018-03-20 2018-04-29\n",
      "2018-03-08\n",
      "52\n",
      "Running method: get_cumsum_balance ... \n",
      "Running method: get_cumsum_daily_percentage ... \n",
      "Running method: get_daily_number_of_new_holder ... \n",
      "Running method: get_array_daily_transactions ... \n",
      "Running method: get_array_perc_new_holders ... \n",
      "Running method: get_biggest_holder_dict ... \n",
      "Number of API calls 7\n",
      "List adresses checked: dict_keys(['0x2517fbe8e0b5f0127ccbf57ef51da458fd816fa2', '0x66a621d6808e809c5bf5f99ae38247eb37e42af5', '0xb5a8a845cacf281b630b8f8762b1e799323444b8', '0xb287a379e6caca6732e50b88d23c290aa990a892', '0xa17688349750954506ed2429b7e09cc83fa79a9a', '0x559444745a3c17ee7e8cc47fc20f1f9ac3b572c4', '0x6999603912eeb1b3f10a2058384db5e109b4df6f'])\n",
      "Running method: get_biggest_holder_array ... \n",
      "Running method: get_newbiers_ratio_dict ... \n",
      "Running method: get_newbiers_array ... \n",
      "Running method: get_gas_ratio_array ... \n",
      "QUANT\n",
      "Running method: get_newbiers_dataframe ... \n",
      "Running method: get_balance ... \n",
      "2018-06-25 2018-08-04\n",
      "2018-06-25\n",
      "40\n",
      "Running method: get_cumsum_balance ... \n",
      "Running method: get_cumsum_daily_percentage ... \n",
      "Running method: get_daily_number_of_new_holder ... \n",
      "Running method: get_array_daily_transactions ... \n",
      "Running method: get_array_perc_new_holders ... \n",
      "Running method: get_biggest_holder_dict ... \n",
      "Number of API calls 1\n",
      "List adresses checked: dict_keys(['0xf5e38bbedc78efea055e0c56035adb320e64c4bc'])\n",
      "Running method: get_biggest_holder_array ... \n",
      "Running method: get_newbiers_ratio_dict ... \n",
      "Running method: get_newbiers_array ... \n",
      "Running method: get_gas_ratio_array ... \n",
      "REN\n",
      "Running method: get_newbiers_dataframe ... \n",
      "Running method: get_balance ... \n",
      "2018-02-03 2018-03-15\n",
      "2017-12-31\n",
      "74\n",
      "Running method: get_cumsum_balance ... \n",
      "Running method: get_cumsum_daily_percentage ... \n",
      "Running method: get_daily_number_of_new_holder ... \n",
      "Running method: get_array_daily_transactions ... \n",
      "Running method: get_array_perc_new_holders ... \n",
      "Running method: get_biggest_holder_dict ... \n",
      "Number of API calls 6\n",
      "List adresses checked: dict_keys(['0x5b6207a3444625eaf10ef67b254ef05740c37705', '0xc3fb8d9f1170ab938dc9d715713ce3a048d8959f', '0x9a4cd44c1a55cfda565430dee9bfb54f2aacfd6a', '0xec0a0133f532b4e39f5d2a7eea33be14b7ca5623', '0x6111b1e24518f9dd2fce70c4062ed604b06ffdb7', '0x1f8978b550c0291627d5604a84e76fc044c23fb5'])\n",
      "Running method: get_biggest_holder_array ... \n",
      "Running method: get_newbiers_ratio_dict ... \n",
      "Running method: get_newbiers_array ... \n",
      "Running method: get_gas_ratio_array ... \n",
      "RIPIO\n",
      "Running method: get_newbiers_dataframe ... \n",
      "Running method: get_balance ... \n",
      "2017-10-24 2017-12-03\n",
      "2017-10-24\n",
      "40\n",
      "Running method: get_cumsum_balance ... \n",
      "Running method: get_cumsum_daily_percentage ... \n",
      "Running method: get_daily_number_of_new_holder ... \n",
      "Running method: get_array_daily_transactions ... \n",
      "Running method: get_array_perc_new_holders ... \n",
      "Running method: get_biggest_holder_dict ... \n",
      "Number of API calls 7\n",
      "List adresses checked: dict_keys(['0x05cf67329a262818e67c080e9d511a34d36152c0', '0xe5f82b04a8b6ad4e3debf42f1cbf44cdbaac40f1', '0x16a0772b17ae004e6645e0e95bf50ad69498a34e', '0xebd048e8973bd6bcd6d18c0ed2a2add9ddc2020d', '0x98e6b07fe87148b4de4d69caf1d322e8e22e4f31', '0xfbb1b73c4f0bda4f67dca266ce6ef42f520fbb98', '0xeda3f0b564b83efb346c0b8e679d9c3ad09fe09c'])\n",
      "Running method: get_biggest_holder_array ... \n",
      "Running method: get_newbiers_ratio_dict ... \n",
      "Running method: get_newbiers_array ... \n",
      "Running method: get_gas_ratio_array ... \n",
      "STATUS\n",
      "Running method: get_newbiers_dataframe ... \n",
      "Running method: get_balance ... \n",
      "2017-06-20 2017-07-30\n",
      "2017-06-19\n",
      "41\n",
      "Running method: get_cumsum_balance ... \n",
      "Running method: get_cumsum_daily_percentage ... \n",
      "Running method: get_daily_number_of_new_holder ... \n",
      "Running method: get_array_daily_transactions ... \n",
      "Running method: get_array_perc_new_holders ... \n",
      "Running method: get_biggest_holder_dict ... \n",
      "Number of API calls 7\n",
      "List adresses checked: dict_keys(['0x00ac1c84d1d0a2eaf6e8f504c7c96e6e82cb6333', '0xbbf0cc1c63f509d48a4674e270d26d80ccaf6022', '0xf348717cfff01edc759a4e0cb198f6360975ee39', '0x20a7b20b9c213e6705c72a4216fdbc628a29d06c', '0x2840c1162114780f3b617b030621022571c2bcb0', '0xfbb1b73c4f0bda4f67dca266ce6ef42f520fbb98', '0xe2dd88165572932944ba72ab6ed143f9a9855a81'])\n",
      "Running method: get_biggest_holder_array ... \n",
      "PROBLEM WITH: STATUS\n",
      "STORJ\n",
      "Running method: get_newbiers_dataframe ... \n",
      "Running method: get_balance ... \n",
      "2017-06-19 2017-07-29\n",
      "2017-06-19\n",
      "40\n",
      "Running method: get_cumsum_balance ... \n",
      "Running method: get_cumsum_daily_percentage ... \n",
      "Running method: get_daily_number_of_new_holder ... \n",
      "Running method: get_array_daily_transactions ... \n",
      "Running method: get_array_perc_new_holders ... \n",
      "Running method: get_biggest_holder_dict ... \n",
      "Number of API calls 5\n",
      "List adresses checked: dict_keys(['0xf3d1f26b31db83c8899626746d0bbc59d9dd223c', '0x752508f56c9b0ea9c53d93144b80826fb1047bc4', '0x871979236d4d7d1293aa811f6ec84dde40f98ca6', '0xc5357bb3eef6a7f7a70060de288de9f4a8d34eac', '0x0000000000000000000000000000000000000000'])\n",
      "Running method: get_biggest_holder_array ... \n",
      "Running method: get_newbiers_ratio_dict ... \n",
      "Running method: get_newbiers_array ... \n",
      "Running method: get_gas_ratio_array ... \n",
      "STREAMR\n",
      "Running method: get_newbiers_dataframe ... \n",
      "Running method: get_balance ... \n",
      "2017-10-12 2017-11-21\n",
      "2017-07-24\n",
      "120\n"
     ]
    }
   ],
   "source": [
    "%%time\n",
    "for ico in list_icos:\n",
    "    ico_csv= f'{path_to_csvs}{ico}.csv'\n",
    "    market_start_date = str(ico_table.at[ ico, 'market_start_date'].date())\n",
    "    is_fraud = ico_table.at[ ico, 'fraud']\n",
    "    try:\n",
    "        print(ico)\n",
    "        ico_parser = ICOParser(ico_csv,\n",
    "                     date_column='BLOCK_TIMESTAMP',\n",
    "                     value_column='VALUE',\n",
    "                     ico_start_date=market_start_date, \n",
    "                     fraud_flag=is_fraud,\n",
    "                          len_time_series=40)\n",
    "        ico_parser.pipeline()\n",
    "        dict_arrays_40[ico] = (ico_parser.array_daily_transactions,\n",
    "                              ico_parser.array_perc_new_holders,\n",
    "                              ico_parser.array_biggest_holder,\n",
    "                              ico_parser.array_newbiers,\n",
    "                              ico_parser.array_gas_ratio,\n",
    "                              ico_parser.array_daily_transactions_ma,\n",
    "                              ico_parser.array_perc_new_holders_ma,\n",
    "                              ico_parser.array_biggest_holder_ma,\n",
    "                              ico_parser.array_newbiers_ma,\n",
    "                              ico_parser.array_gas_ratio_ma)\n",
    "    except:\n",
    "        print(f'PROBLEM WITH: {ico}')\n",
    "        list_bad_icos_40.append(ico)"
   ]
  },
  {
   "cell_type": "code",
   "execution_count": null,
   "metadata": {},
   "outputs": [],
   "source": []
  },
  {
   "cell_type": "code",
   "execution_count": null,
   "metadata": {},
   "outputs": [],
   "source": []
  },
  {
   "cell_type": "markdown",
   "metadata": {},
   "source": [
    "## Arrays of lenght 60"
   ]
  },
  {
   "cell_type": "code",
   "execution_count": null,
   "metadata": {},
   "outputs": [],
   "source": [
    "dict_arrays_60 = {}"
   ]
  },
  {
   "cell_type": "code",
   "execution_count": null,
   "metadata": {},
   "outputs": [],
   "source": [
    "dict_arrays_60"
   ]
  },
  {
   "cell_type": "code",
   "execution_count": null,
   "metadata": {},
   "outputs": [],
   "source": [
    "for ico in list_icos:\n",
    "    #print(f'{ico} size: {len(list_icos_bad_size.get(ico))}')\n",
    "    ico_csv= f'{path_to_csvs}{ico}.csv'\n",
    "    market_start_date = str(ico_table.at[ ico, 'market_start_date'].date())\n",
    "    is_fraud = ico_table.at[ ico, 'fraud']\n",
    "    try:\n",
    "        print(ico)\n",
    "        ico_parser = ICOParser(ico_csv,\n",
    "                     date_column='BLOCK_TIMESTAMP',\n",
    "                     value_column='VALUE',\n",
    "                     ico_start_date=market_start_date, \n",
    "                     fraud_flag=is_fraud,\n",
    "                          len_time_series=60)\n",
    "        print('Running method: define_ico_start_date ... ')\n",
    "        ico_parser.define_ico_start_date()\n",
    "        print('Running method: get_newbiers_dataframe ... ')\n",
    "        ico_parser.get_newbiers_dataframe()\n",
    "        print('Running method: get_balance ... ')\n",
    "        ico_parser.get_balance()\n",
    "        dict_arrays_60[ico] = (ico_parser.array_daily_transactions,\n",
    "                              ico_parser.array_perc_new_holders,\n",
    "                              ico_parser.array_biggest_holder,\n",
    "                              ico_parser.array_newbiers,\n",
    "                              ico_parser.array_gas_ratio)\n",
    "    except:\n",
    "        print(f'PROBLEM WITH: {ico}')\n",
    "        #list_bad_icos.append(ico)\n"
   ]
  },
  {
   "cell_type": "markdown",
   "metadata": {},
   "source": [
    "### Loading dictionary with right sizes "
   ]
  },
  {
   "cell_type": "code",
   "execution_count": null,
   "metadata": {},
   "outputs": [],
   "source": [
    "import pickle"
   ]
  },
  {
   "cell_type": "code",
   "execution_count": null,
   "metadata": {},
   "outputs": [],
   "source": [
    "with open('ico_arrays_2020-10-12.pickle', 'rb') as handle:\n",
    "    dict_array_pickle= pickle.load(handle)"
   ]
  },
  {
   "cell_type": "code",
   "execution_count": null,
   "metadata": {},
   "outputs": [],
   "source": [
    "list_icos_bad_size = {k:v[1] for k,v in dict_array_pickle.items() if len(v[1]) != 60}"
   ]
  },
  {
   "cell_type": "code",
   "execution_count": null,
   "metadata": {},
   "outputs": [],
   "source": [
    "list_icos_bad_size.keys()"
   ]
  },
  {
   "cell_type": "code",
   "execution_count": null,
   "metadata": {},
   "outputs": [],
   "source": [
    "for ico in list_icos_bad_size.keys():\n",
    "    print(f'{ico} size: {len(list_icos_bad_size.get(ico))}')"
   ]
  },
  {
   "cell_type": "markdown",
   "metadata": {},
   "source": [
    "### 4NEW "
   ]
  },
  {
   "cell_type": "code",
   "execution_count": null,
   "metadata": {},
   "outputs": [],
   "source": [
    "path_to_csvs = '/home/gabriel/Documents/Repos/time_series_study/data_and_models/all_icos/'\n",
    "ico_ = '4NEW'\n",
    "ico_csv= f'{path_to_csvs}{ico_}.csv'"
   ]
  },
  {
   "cell_type": "code",
   "execution_count": null,
   "metadata": {},
   "outputs": [],
   "source": [
    "ico_table.loc[ico_,:]"
   ]
  },
  {
   "cell_type": "code",
   "execution_count": null,
   "metadata": {},
   "outputs": [],
   "source": [
    "market_start_date = str(ico_table.at[ ico_, 'market_start_date'].date())\n",
    "market_start_date"
   ]
  },
  {
   "cell_type": "code",
   "execution_count": null,
   "metadata": {},
   "outputs": [],
   "source": [
    "is_fraud = ico_table.at[ ico_, 'fraud']\n",
    "is_fraud"
   ]
  },
  {
   "cell_type": "code",
   "execution_count": null,
   "metadata": {},
   "outputs": [],
   "source": [
    "str(ico_table.at[ ico_, 'market_start_date'].date())"
   ]
  },
  {
   "cell_type": "code",
   "execution_count": null,
   "metadata": {},
   "outputs": [],
   "source": [
    "ico_parser = ICOParser(ico_csv,\n",
    "                 date_column='BLOCK_TIMESTAMP',\n",
    "                 value_column='VALUE',\n",
    "                 ico_start_date=market_start_date, \n",
    "                 fraud_flag=is_fraud,\n",
    "                      len_time_series=20)"
   ]
  },
  {
   "cell_type": "code",
   "execution_count": null,
   "metadata": {},
   "outputs": [],
   "source": [
    "print('Running method: define_ico_start_date ... ')\n",
    "ico_parser.define_ico_start_date()\n",
    "print('Running method: get_newbiers_dataframe ... ')\n",
    "ico_parser.get_newbiers_dataframe()\n",
    "print('Running method: get_balance ... ')\n",
    "ico_parser.get_balance()"
   ]
  },
  {
   "cell_type": "code",
   "execution_count": null,
   "metadata": {},
   "outputs": [],
   "source": [
    "ico_table.head(200)"
   ]
  },
  {
   "cell_type": "code",
   "execution_count": null,
   "metadata": {},
   "outputs": [],
   "source": [
    "ico_table.at['AIDCOIN', 'market_start_date']"
   ]
  },
  {
   "cell_type": "markdown",
   "metadata": {},
   "source": [
    "## Validating size for bad size ICOs"
   ]
  },
  {
   "cell_type": "code",
   "execution_count": null,
   "metadata": {},
   "outputs": [],
   "source": [
    "list_bad_icos = []"
   ]
  },
  {
   "cell_type": "code",
   "execution_count": null,
   "metadata": {},
   "outputs": [],
   "source": [
    "bad_icos = ['AIDCOIN', 'ANATOMIA', 'BANKERA', 'BELANCE', 'BITCOINMAX', 'BLISSEXCHANGE', 'BUDBO', 'ETHEREUMCASHPRO', 'EXIMCHAIN', 'GADIUNTRUSTWALLET', 'HUOBI', 'ICON',  'LITECOINRED', 'MONEYTOKEN', 'PKGTOKEN', 'QUANTSTAMP', 'REMICOIN', 'SINGULARITYNET', 'SOCIALMEDIAPAY', 'SPARKSTER', 'TEFOOD', 'TIERION', 'TOMO', 'ULTRA']"
   ]
  },
  {
   "cell_type": "code",
   "execution_count": null,
   "metadata": {},
   "outputs": [],
   "source": [
    "\n",
    "for ico in bad_icos:\n",
    "    print(f'{ico} size: {len(list_icos_bad_size.get(ico))}')\n",
    "    ico_csv= f'{path_to_csvs}{ico}.csv'\n",
    "    market_start_date = str(ico_table.at[ ico, 'market_start_date'].date())\n",
    "    is_fraud = ico_table.at[ ico, 'fraud']\n",
    "    try:\n",
    "        ico_parser = ICOParser(ico_csv,\n",
    "                     date_column='BLOCK_TIMESTAMP',\n",
    "                     value_column='VALUE',\n",
    "                     ico_start_date=market_start_date, \n",
    "                     fraud_flag=is_fraud,\n",
    "                          len_time_series=20)\n",
    "        print('Running method: define_ico_start_date ... ')\n",
    "        ico_parser.define_ico_start_date()\n",
    "        print('Running method: get_newbiers_dataframe ... ')\n",
    "        ico_parser.get_newbiers_dataframe()\n",
    "        print('Running method: get_balance ... ')\n",
    "        ico_parser.get_balance()\n",
    "    except:\n",
    "        print(f'PROBLEM WITH: {ico}')\n",
    "        list_bad_icos.append(ico)\n"
   ]
  },
  {
   "cell_type": "code",
   "execution_count": null,
   "metadata": {},
   "outputs": [],
   "source": [
    "list_bad_icos"
   ]
  },
  {
   "cell_type": "code",
   "execution_count": null,
   "metadata": {},
   "outputs": [],
   "source": [
    "ico_table.loc['ANATOMIA']"
   ]
  },
  {
   "cell_type": "code",
   "execution_count": null,
   "metadata": {},
   "outputs": [],
   "source": [
    "ico_parser.pipeline()"
   ]
  },
  {
   "cell_type": "code",
   "execution_count": null,
   "metadata": {},
   "outputs": [],
   "source": [
    "len(list_icos_bad_size.get('4NEW'))"
   ]
  },
  {
   "cell_type": "code",
   "execution_count": null,
   "metadata": {},
   "outputs": [],
   "source": [
    "['AIDCOIN',\n",
    "'ANATOMIA',\n",
    "'BANKERA',\n",
    "'BELANCE',\n",
    "'BITCOINMAX',\n",
    "'BLISSEXCHANGE',\n",
    "'BUDBO',\n",
    "'ETHEREUMCASHPRO',\n",
    "'EXIMCHAIN',\n",
    "'GADIUNTRUSTWALLET',\n",
    "'HUOBI',\n",
    "'ICON',\n",
    "'LITECOINRED',\n",
    "'MONEYTOKEN',\n",
    "'PKGTOKEN',\n",
    "'QUANTSTAMP',\n",
    "'REMICOIN',\n",
    "'SINGULARITYNET',\n",
    "'SOCIALMEDIAPAY',\n",
    "'SPARKSTER']"
   ]
  },
  {
   "cell_type": "markdown",
   "metadata": {},
   "source": [
    "### Testing `ICOParser` individually"
   ]
  },
  {
   "cell_type": "code",
   "execution_count": null,
   "metadata": {},
   "outputs": [],
   "source": [
    "ico_table = pd.read_csv('lista_ico_2020-08-17_tab3.csv')\n",
    "ico_table = ico_table.astype({'start_date': 'datetime64', 'market_start_date': 'datetime64', 'date_analysis':'datetime64'})\n"
   ]
  },
  {
   "cell_type": "code",
   "execution_count": null,
   "metadata": {},
   "outputs": [],
   "source": [
    "ico_table.dtypes"
   ]
  },
  {
   "cell_type": "code",
   "execution_count": null,
   "metadata": {},
   "outputs": [],
   "source": [
    "ico_table.set_index('ico', inplace=True)\n",
    "ico_table.head()"
   ]
  },
  {
   "cell_type": "code",
   "execution_count": null,
   "metadata": {},
   "outputs": [],
   "source": [
    "path_to_csvs = '/home/gabriel/Documents/Repos/time_series_study/data_and_models/all_icos/'\n",
    "\n",
    "#ico_ = 'AMPLEFORTH'\n",
    "ico_ = 'TERRAMINER'\n",
    "ico_csv= f'{path_to_csvs}{ico_}.csv'\n",
    "market_start_date = str(ico_table.at[ ico_, 'market_start_date'].date())\n",
    "is_fraud = ico_table.at[ ico_, 'fraud']"
   ]
  },
  {
   "cell_type": "code",
   "execution_count": null,
   "metadata": {},
   "outputs": [],
   "source": [
    "str(ico_table.at[ ico_, 'market_start_date'].date())"
   ]
  },
  {
   "cell_type": "code",
   "execution_count": null,
   "metadata": {},
   "outputs": [],
   "source": [
    "ico_parser = ICOParser(ico_csv,\n",
    "                 date_column='BLOCK_TIMESTAMP',\n",
    "                 value_column='VALUE',\n",
    "                 ico_start_date=market_start_date, \n",
    "                 fraud_flag=is_fraud,\n",
    "                      len_time_series=20)"
   ]
  },
  {
   "cell_type": "markdown",
   "metadata": {},
   "source": [
    "# TESTANDO PIPELINE"
   ]
  },
  {
   "cell_type": "code",
   "execution_count": null,
   "metadata": {},
   "outputs": [],
   "source": [
    "ico_parser.define_ico_start_date()\n",
    "\"\"\"\n",
    "print('Running method: get_newbiers_dataframe ... ')\n",
    "ico_parser.get_newbiers_dataframe()\n",
    "print('Running method: get_balance ... ')\n",
    "ico_parser.get_balance()\n",
    "print('Running method: get_cumsum_balance ... ')\n",
    "ico_parser.get_cumsum_balance()\n",
    "print('Running method: get_cumsum_daily_percentage ... ')\n",
    "ico_parser.get_cumsum_daily_percentage()\n",
    "print('Running method: get_daily_number_of_new_holder ... ')\n",
    "ico_parser.get_daily_number_of_new_holder()\n",
    "\"\"\"\n",
    "print('Running method: get_array_daily_transactions ... ')\n",
    "ico_parser.get_array_daily_transactions()\n",
    "ico_parser.array_daily_transactions"
   ]
  },
  {
   "cell_type": "code",
   "execution_count": null,
   "metadata": {},
   "outputs": [],
   "source": [
    "%%time\n",
    "ico_parser.pipeline()"
   ]
  },
  {
   "cell_type": "code",
   "execution_count": null,
   "metadata": {},
   "outputs": [],
   "source": [
    "df_resample_func = ico_parser.df_resample_day.reset_index()\n",
    "df_resample_func['BLOCK_TIMESTAMP'] = df_resample_func[\n",
    "            'BLOCK_TIMESTAMP'\n",
    "        ].dt.date"
   ]
  },
  {
   "cell_type": "code",
   "execution_count": null,
   "metadata": {},
   "outputs": [],
   "source": []
  },
  {
   "cell_type": "code",
   "execution_count": null,
   "metadata": {},
   "outputs": [],
   "source": []
  },
  {
   "cell_type": "code",
   "execution_count": null,
   "metadata": {},
   "outputs": [],
   "source": [
    "ico_parser.df_newbiers_resample['GAS_RATIO'] = (\n",
    "                ico_parser.df_newbiers_resample['RECEIPT_GAS_USED']\n",
    "                / ico_parser.df_newbiers_resample['GAS']\n",
    "            )\n",
    "ico_parser.array_gas_ratio = (\n",
    "                ico_parser.df_newbiers_resample.GAS_RATIO.to_list()\n",
    "            )[-ico_parser.len_time_series :]"
   ]
  },
  {
   "cell_type": "markdown",
   "metadata": {},
   "source": [
    "# Tamanho dos Arrays"
   ]
  },
  {
   "cell_type": "code",
   "execution_count": null,
   "metadata": {},
   "outputs": [],
   "source": [
    "ico_parser.get_newbiers_ratio_dict()\n",
    "ico_parser.get_newbiers_array()"
   ]
  }
 ],
 "metadata": {
  "kernelspec": {
   "display_name": "deeplearning",
   "language": "python",
   "name": "deeplearning"
  },
  "language_info": {
   "codemirror_mode": {
    "name": "ipython",
    "version": 3
   },
   "file_extension": ".py",
   "mimetype": "text/x-python",
   "name": "python",
   "nbconvert_exporter": "python",
   "pygments_lexer": "ipython3",
   "version": "3.7.7"
  }
 },
 "nbformat": 4,
 "nbformat_minor": 4
}
