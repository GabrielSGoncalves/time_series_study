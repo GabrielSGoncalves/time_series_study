{
 "cells": [
  {
   "cell_type": "markdown",
   "metadata": {},
   "source": [
    "# Individual ICO Exploratory Data Analysis\n",
    "The goal of this notebook is to develop an Exploratory Data Analysis (EDA) of individual ICO to generate visualizations and possible features to be used in future models."
   ]
  },
  {
   "cell_type": "code",
   "execution_count": null,
   "metadata": {},
   "outputs": [],
   "source": [
    "import pandas as pd"
   ]
  },
  {
   "cell_type": "markdown",
   "metadata": {},
   "source": [
    "## 1. Reading data from CSV files"
   ]
  },
  {
   "cell_type": "code",
   "execution_count": null,
   "metadata": {},
   "outputs": [],
   "source": [
    "file_name_success = 'AMPLEFORTH.csv'\n",
    "file_name_fraud = 'ABULABA.csv'"
   ]
  },
  {
   "cell_type": "code",
   "execution_count": null,
   "metadata": {},
   "outputs": [],
   "source": [
    "df_ico_success = pd.read_csv('../data_and_models/api_etherscan/success/'\n",
    "+file_name_success, low_memory=False )\n",
    "df_ico_fraud = pd.read_csv('../data_and_models/api_etherscan/fraud/'\n",
    "+file_name_fraud, low_memory=False )"
   ]
  },
  {
   "cell_type": "code",
   "execution_count": null,
   "metadata": {},
   "outputs": [],
   "source": [
    "df_ico_success.head()"
   ]
  },
  {
   "cell_type": "code",
   "execution_count": null,
   "metadata": {},
   "outputs": [],
   "source": [
    "df_ico_fraud"
   ]
  },
  {
   "cell_type": "code",
   "execution_count": null,
   "metadata": {},
   "outputs": [],
   "source": [
    "df_ico_success['date'] = pd.to_datetime(df_ico['timeStamp'], unit=\"s\")\n",
    "df_ico_fraud['date'] = pd.to_datetime(df_ico['timeStamp'], unit=\"s\")"
   ]
  },
  {
   "cell_type": "code",
   "execution_count": null,
   "metadata": {},
   "outputs": [],
   "source": [
    "df_ico_success.head()"
   ]
  },
  {
   "cell_type": "code",
   "execution_count": null,
   "metadata": {},
   "outputs": [],
   "source": [
    "df_ico_fraud.head()"
   ]
  },
  {
   "cell_type": "code",
   "execution_count": null,
   "metadata": {},
   "outputs": [],
   "source": [
    "df_ico_success.info()"
   ]
  },
  {
   "cell_type": "markdown",
   "metadata": {},
   "source": [
    "### 1.1. Convert `DateTime`column to datetime dtype"
   ]
  },
  {
   "cell_type": "code",
   "execution_count": null,
   "metadata": {},
   "outputs": [],
   "source": [
    "#df_ico['timeStamp'] = pd.to_datetime(df_ico['timeStamp'])\n",
    "df_ico_success.dtypes"
   ]
  },
  {
   "cell_type": "markdown",
   "metadata": {},
   "source": [
    "### 1.2. Create column with time difference"
   ]
  },
  {
   "cell_type": "code",
   "execution_count": null,
   "metadata": {},
   "outputs": [],
   "source": [
    "df_ico_success['time_diff'] = df_ico_success['date'].diff()\n",
    "df_ico_success['time_diff_seconds'] = df_ico_success['date'].diff().dt.seconds\n",
    "df_ico_success.set_index('date', inplace=True)\n",
    "df_ico_success.head(10)"
   ]
  },
  {
   "cell_type": "code",
   "execution_count": null,
   "metadata": {},
   "outputs": [],
   "source": [
    "df_ico_fraud['time_diff'] = df_ico_fraud['date'].diff()\n",
    "df_ico_fraud['time_diff_seconds'] = df_ico_fraud['date'].diff().dt.seconds\n",
    "df_ico_fraud.set_index('date', inplace=True)\n",
    "df_ico_fraud.head(10)"
   ]
  },
  {
   "cell_type": "code",
   "execution_count": null,
   "metadata": {},
   "outputs": [],
   "source": [
    "import plotly.graph_objs as go"
   ]
  },
  {
   "cell_type": "markdown",
   "metadata": {},
   "source": [
    "## 2. Exploratory visualizations\n",
    "\n",
    "Install the following libraries:\n",
    "\n",
    "```\n",
    "pip install plotly\n",
    "```\n",
    "Das tabelas em JSON: (essas tabelas eu até te mostro como fazer o acesso aos dados. Tem que fazer um token.<br> Mas é tranquilo) (Acabei de ver aqui que só é possível fazer download de 10000 dados de uma vez só.) (Estou a procura de um serviço que me provenha isso, mas tá difícil de achar) (Estou verificando a possibilidade de fazer o download de toda a blockchain e deixar num servidor 1TB)\n",
    "\n",
    "* 2.1. Histograma de espaço de tempo entre as transações\n",
    "\n",
    "* 2.2 Quantidade de transações por dia\n",
    "\n",
    "* 2.3 Quantidade de transações por minuto\n",
    "\n",
    "* 2.4 Quantidade de velocidade de transações por minuto\n",
    "\n",
    "* 2.5 Quantidade de aceleração de transações por minuto\n",
    "\n",
    "* 2.6 Quantidade de transações cumulativas por minuto\n",
    "\n",
    "* 2.7 Quantidade de GAS por minuto\n",
    "\n",
    "* 2.8 Quantidade de velocidade de GAS por minuto\n",
    "\n",
    "* 2.9 Quantidade de aceleração de GAS por minuto\n",
    "\n",
    "* 2.10 Quantidade de GAS cumulativo por minuto\n",
    "\n",
    "* 2.11 Razão transações / GAS por minuto (muitas vezes, o GAS vai dar zero. Daí, é preciso normalizar os GASes. Tipo, colocar uma média móvel. Ainda não pensei muito a respeito, mas a ideia é essa)\n",
    "\n",
    "* 2.12 Transações de segunda ordem em diante por minuto\n",
    "\n",
    "* 2.13 Transações de terceira ordem em diante por minuto\n",
    "\n",
    "* 2.14 Transações de quarta ordem em diante por minuto\n",
    "\n",
    "* 2.15 Transações de quinta ordem em diante por minuto\n"
   ]
  },
  {
   "cell_type": "code",
   "execution_count": null,
   "metadata": {},
   "outputs": [],
   "source": [
    "df_resample_hours_success = df_ico_success.resample('H').sum()\n",
    "df_resample_hours_fraud = df_ico_fraud.resample('H').sum()\n",
    "\n",
    "df_resample_hours_success.head()"
   ]
  },
  {
   "cell_type": "code",
   "execution_count": null,
   "metadata": {},
   "outputs": [],
   "source": [
    "fig = go.Figure(data=go.Scatter(x=df_resample_hours_success.index, y=df_resample_hours_success['gas'], mode='lines'))\n",
    "fig.add_trace(go.Scatter(x=df_resample_hours_fraud.index, y=df_resample_hours_fraud['gas'], mode='lines'))\n",
    "fig.update_layout(yaxis_type=\"log\")\n",
    "fig.show()\n"
   ]
  },
  {
   "cell_type": "markdown",
   "metadata": {},
   "source": [
    "### 2.1. Histograma de espaço de tempo entre as transações"
   ]
  },
  {
   "cell_type": "code",
   "execution_count": null,
   "metadata": {},
   "outputs": [],
   "source": [
    "df_ico.shape"
   ]
  },
  {
   "cell_type": "code",
   "execution_count": null,
   "metadata": {},
   "outputs": [],
   "source": [
    "fig = go.Figure(data=[go.Histogram(x=df_ico_success['time_diff_seconds'])])\n",
    "fig.add_trace(go.Histogram(x=df_ico_fraud['time_diff_seconds']))\n",
    "fig.update_layout(yaxis_type=\"log\")\n",
    "\n",
    "fig.show()"
   ]
  },
  {
   "cell_type": "markdown",
   "metadata": {},
   "source": [
    "### 3.2 Quantidade de transações por dia"
   ]
  },
  {
   "cell_type": "code",
   "execution_count": null,
   "metadata": {},
   "outputs": [],
   "source": [
    "df_ico_success['counter'] = 1\n",
    "df_ico_fraud['counter'] = 1"
   ]
  },
  {
   "cell_type": "code",
   "execution_count": null,
   "metadata": {},
   "outputs": [],
   "source": [
    "df_ico.head()"
   ]
  },
  {
   "cell_type": "code",
   "execution_count": null,
   "metadata": {},
   "outputs": [],
   "source": [
    "df_resample_day_success = df_ico_success.resample('H').sum()\n",
    "df_resample_day_fraud = df_ico_fraud.resample('H').sum()"
   ]
  },
  {
   "cell_type": "code",
   "execution_count": null,
   "metadata": {},
   "outputs": [],
   "source": [
    "df_resample_day_success.head()"
   ]
  },
  {
   "cell_type": "code",
   "execution_count": null,
   "metadata": {},
   "outputs": [],
   "source": [
    "fig = go.Figure(data=go.Scatter(x=df_resample_day_success.index, y=df_resample_day_success.counter))\n",
    "fig.add_trace(go.Scatter(x=df_resample_day_fraud.index, y=df_resample_day_fraud.counter))\n",
    "fig.update_layout(yaxis_type=\"log\")\n",
    "\n",
    "fig.show()"
   ]
  },
  {
   "cell_type": "code",
   "execution_count": null,
   "metadata": {},
   "outputs": [],
   "source": [
    "df_speed_transactions_success = df_resample_day_success.diff()\n",
    "df_speed_transactions_fraud = df_resample_day_fraud.diff()"
   ]
  },
  {
   "cell_type": "code",
   "execution_count": null,
   "metadata": {},
   "outputs": [],
   "source": [
    "df_speed_transactions_success.head()"
   ]
  },
  {
   "cell_type": "markdown",
   "metadata": {},
   "source": [
    "### 3.3 Quantidade de velocidade de transações por hora"
   ]
  },
  {
   "cell_type": "code",
   "execution_count": null,
   "metadata": {},
   "outputs": [],
   "source": [
    "fig = go.Figure(data=go.Scatter(x=df_speed_transactions_success.index, y=df_speed_transactions_success.counter))\n",
    "fig.add_trace(go.Scatter(x=df_speed_transactions_fraud.index, y=df_speed_transactions_fraud.counter))\n",
    "fig.update_layout(yaxis_type=\"log\")\n",
    "fig.show()"
   ]
  },
  {
   "cell_type": "markdown",
   "metadata": {},
   "source": [
    "### 3.4 Quantidade de aceleração de transações por hora"
   ]
  },
  {
   "cell_type": "code",
   "execution_count": null,
   "metadata": {},
   "outputs": [],
   "source": [
    "df_acc_transactions_success = df_speed_transactions_success.diff()\n",
    "df_acc_transactions_fraud = df_speed_transactions_fraud.diff()\n",
    "\n",
    "df_acc_transactions_success.head ()"
   ]
  },
  {
   "cell_type": "code",
   "execution_count": null,
   "metadata": {},
   "outputs": [],
   "source": [
    "fig = go.Figure(data=go.Scatter(x=df_acc_transactions_success.index, y=df_acc_transactions_success.counter))\n",
    "fig.add_trace(go.Scatter(x=df_acc_transactions_fraud.index, y=df_acc_transactions_fraud.counter))\n",
    "fig.update_layout(yaxis_type=\"log\")\n",
    "fig.show()"
   ]
  },
  {
   "cell_type": "markdown",
   "metadata": {},
   "source": [
    "### 3.6 Quantidade de transações cumulativas por hora\n"
   ]
  },
  {
   "cell_type": "code",
   "execution_count": null,
   "metadata": {},
   "outputs": [],
   "source": [
    "df_resample_hour_success = pd.DataFrame(df_ico_success.resample('H').sum())\n",
    "df_resample_hour_success['cumsum'] = df_resample_hour_success.counter.cumsum()\n",
    "df_resample_hour_success['cumsum_gas'] = df_resample_hour_success.gas.cumsum()\n",
    "df_resample_hour_success\n"
   ]
  },
  {
   "cell_type": "code",
   "execution_count": null,
   "metadata": {},
   "outputs": [],
   "source": [
    "df_resample_hour_fraud = pd.DataFrame(df_ico_fraud.resample('H').sum())\n",
    "df_resample_hour_fraud['cumsum'] = df_resample_hour_fraud.counter.cumsum()\n",
    "df_resample_hour_fraud['cumsum_gas'] = df_resample_hour_fraud.gas.cumsum()\n",
    "df_resample_hour_fraud"
   ]
  },
  {
   "cell_type": "code",
   "execution_count": null,
   "metadata": {},
   "outputs": [],
   "source": [
    "fig = go.Figure(data=go.Scatter(x=df_resample_hour_success.index, y=df_resample_hour_success.cumsum_gas))\n",
    "fig.add_trace(go.Scatter(x=df_resample_hour_fraud.index, y=df_resample_hour_fraud.cumsum_gas))\n",
    "fig.update_layout(yaxis_type=\"log\")\n",
    "\n",
    "fig.show()"
   ]
  },
  {
   "cell_type": "markdown",
   "metadata": {},
   "source": [
    "### 3.7 Quantidade de GAS por hora"
   ]
  },
  {
   "cell_type": "code",
   "execution_count": null,
   "metadata": {},
   "outputs": [],
   "source": [
    "fig = go.Figure(data=go.Scatter(x=df_ico_success['gas'].resample('D').sum().index, y=df_ico_success['gas'].resample('D').sum()))\n",
    "fig.add_trace(go.Scatter(x=df_ico_fraud['gas'].resample('D').sum().index, y=df_ico_fraud['gas'].resample('D').sum()))\n",
    "fig.update_layout(yaxis_type=\"log\")\n",
    "\n",
    "fig.show()"
   ]
  },
  {
   "cell_type": "code",
   "execution_count": null,
   "metadata": {},
   "outputs": [],
   "source": [
    "df_ico.head(10)"
   ]
  },
  {
   "cell_type": "markdown",
   "metadata": {},
   "source": [
    "### 3.8 Quantidade de velocidade de GAS por minuto"
   ]
  },
  {
   "cell_type": "code",
   "execution_count": null,
   "metadata": {},
   "outputs": [],
   "source": [
    "df_gas_diff = pd.DataFrame(df_ico.gas.diff())"
   ]
  },
  {
   "cell_type": "code",
   "execution_count": null,
   "metadata": {},
   "outputs": [],
   "source": [
    "fig = go.Figure(data=go.Scatter(x=df_gas_diff['gas'].resample('H').sum().index, y=df_gas_diff['gas'].resample('H').sum()))\n",
    "fig.show()"
   ]
  },
  {
   "cell_type": "markdown",
   "metadata": {},
   "source": [
    "### 3.9 Quantidade de aceleração de GAS por minuto"
   ]
  },
  {
   "cell_type": "code",
   "execution_count": null,
   "metadata": {},
   "outputs": [],
   "source": [
    "df_gas_diff_acceleration = pd.DataFrame(df_gas_diff.gas.diff())\n",
    "fig = go.Figure(data=go.Scatter(x=df_gas_diff_acceleration['gas'].resample('H').sum().index, y=df_gas_diff_acceleration['gas'].resample('H').sum()))\n",
    "fig.show()"
   ]
  },
  {
   "cell_type": "markdown",
   "metadata": {},
   "source": [
    "### 3.10 Quantidade de GAS cumulativo por hora"
   ]
  },
  {
   "cell_type": "code",
   "execution_count": null,
   "metadata": {},
   "outputs": [],
   "source": [
    "df_gas_hour = pd.DataFrame(df_ico['gas'].resample('H').sum())\n",
    "df_gas_hour['cumsum_gas'] = df_gas_hour.gas.cumsum()\n",
    "df_gas_hour"
   ]
  },
  {
   "cell_type": "code",
   "execution_count": null,
   "metadata": {},
   "outputs": [],
   "source": [
    "fig = go.Figure(data=go.Scatter(x=df_gas_hour['cumsum_gas'].resample('H').sum().index, y=df_gas_hour['cumsum_gas'].resample('H').sum()))\n",
    "fig.show()"
   ]
  },
  {
   "cell_type": "markdown",
   "metadata": {},
   "source": [
    "### 3.11 Razão transações / GAS por minuto (muitas vezes, o GAS vai dar zero. Daí, é preciso normalizar os GASes. Tipo, colocar uma média móvel. Ainda não pensei muito a respeito, mas a ideia é essa) ?"
   ]
  },
  {
   "cell_type": "code",
   "execution_count": null,
   "metadata": {},
   "outputs": [],
   "source": []
  },
  {
   "cell_type": "code",
   "execution_count": null,
   "metadata": {},
   "outputs": [],
   "source": []
  },
  {
   "cell_type": "code",
   "execution_count": null,
   "metadata": {},
   "outputs": [],
   "source": []
  },
  {
   "cell_type": "markdown",
   "metadata": {},
   "source": [
    "### 3.12 Transações de segunda ordem em diante por minuto"
   ]
  },
  {
   "cell_type": "code",
   "execution_count": null,
   "metadata": {},
   "outputs": [],
   "source": [
    "###  3.13 Transações de terceira ordem em diante por minuto"
   ]
  },
  {
   "cell_type": "code",
   "execution_count": null,
   "metadata": {},
   "outputs": [],
   "source": [
    "###  3.14 Transações de quarta ordem em diante por minuto"
   ]
  },
  {
   "cell_type": "code",
   "execution_count": null,
   "metadata": {},
   "outputs": [],
   "source": [
    "###  3.15 Transações de quinta ordem em diante por minuto"
   ]
  },
  {
   "cell_type": "markdown",
   "metadata": {},
   "source": [
    "Das tabelas de token:\n",
    "\n",
    "15) Quantidade de tokens / moedas cunhadas (transação \"000\")  negociados por minuto\n",
    "\n",
    "16) Quantidade de transferências por minuto\n",
    "\n",
    "17) Histograma de quantidade de tokens por transação\n",
    "\n",
    "18) Porcentagem que o destino da primeira transação tem de todos os tokens por minuto"
   ]
  },
  {
   "cell_type": "code",
   "execution_count": null,
   "metadata": {},
   "outputs": [],
   "source": []
  },
  {
   "cell_type": "code",
   "execution_count": null,
   "metadata": {},
   "outputs": [],
   "source": []
  },
  {
   "cell_type": "code",
   "execution_count": null,
   "metadata": {},
   "outputs": [],
   "source": []
  },
  {
   "cell_type": "code",
   "execution_count": null,
   "metadata": {},
   "outputs": [],
   "source": []
  },
  {
   "cell_type": "code",
   "execution_count": null,
   "metadata": {},
   "outputs": [],
   "source": []
  },
  {
   "cell_type": "code",
   "execution_count": null,
   "metadata": {},
   "outputs": [],
   "source": []
  },
  {
   "cell_type": "markdown",
   "metadata": {},
   "source": [
    "## 4. Crossing the TxHash from Smart Contract and Tokens tables"
   ]
  },
  {
   "cell_type": "code",
   "execution_count": null,
   "metadata": {},
   "outputs": [],
   "source": [
    "import matplotlib.pyplot as plt\n",
    "from matplotlib_venn import venn2"
   ]
  },
  {
   "cell_type": "code",
   "execution_count": null,
   "metadata": {},
   "outputs": [],
   "source": [
    "set_sc_txhash = set(df_ico.Txhash.to_list())\n",
    "set_t_txhash = set(df_token.Txhash.to_list())"
   ]
  },
  {
   "cell_type": "code",
   "execution_count": null,
   "metadata": {},
   "outputs": [],
   "source": [
    "venn2([set_sc_txhash, set_t_txhash], set_labels=('Smart Contract', 'Tokens'), set_colors=('orange', 'blue'),)\n",
    "plt.show() "
   ]
  },
  {
   "cell_type": "markdown",
   "metadata": {},
   "source": [
    "## 5. Defining the start of the ICO\n",
    "The idea for this session is to stablish a way to define the start of the ICO by looking at the transactions."
   ]
  },
  {
   "cell_type": "code",
   "execution_count": null,
   "metadata": {},
   "outputs": [],
   "source": [
    "df_ico.head()"
   ]
  },
  {
   "cell_type": "code",
   "execution_count": null,
   "metadata": {},
   "outputs": [],
   "source": [
    "df_ico.Quantity.plot()"
   ]
  },
  {
   "cell_type": "markdown",
   "metadata": {},
   "source": [
    "### TxnFee vs. Number of Transactions"
   ]
  },
  {
   "cell_type": "code",
   "execution_count": null,
   "metadata": {},
   "outputs": [],
   "source": []
  },
  {
   "cell_type": "code",
   "execution_count": null,
   "metadata": {},
   "outputs": [],
   "source": [
    "df_resample_sc_day = df_ico.resample('D').sum()[['TxnFee(ETH)', 'counter']]\n",
    "df_resample_sc_hour = df_ico.resample('H').sum()[['TxnFee(ETH)', 'counter']]\n",
    "\n",
    "df_resample_sc_day.head()"
   ]
  },
  {
   "cell_type": "code",
   "execution_count": null,
   "metadata": {},
   "outputs": [],
   "source": [
    "plt.bar(df_resample_sc_day.index, df_resample_sc_day.counter, )\n",
    "plt.plot(df_resample_sc_day.index, df_resample_sc_day['TxnFee(ETH)'] )"
   ]
  },
  {
   "cell_type": "code",
   "execution_count": null,
   "metadata": {},
   "outputs": [],
   "source": [
    "fig, ax1 = plt.subplots(figsize=(20,10))\n",
    "\n",
    "color = 'tab:red'\n",
    "#ax1.set_xlabel('time (s)')\n",
    "ax1.set_ylabel('exp', color=color)\n",
    "ax1.plot(df_resample_sc_day.index, df_resample_sc_day['TxnFee(ETH)'] )\n",
    "#ax1.tick_params(axis='y', labelcolor=color)\n",
    "\n",
    "ax2 = ax1.twinx()  # instantiate a second axes that shares the same x-axis\n",
    "\n",
    "color = 'tab:blue'\n",
    "#ax2.set_ylabel('sin', color=color)  # we already handled the x-label with ax1\n",
    "ax2.bar(df_resample_sc_day.index, df_resample_sc_day.counter )\n",
    "#ax2.tick_params(axis='y', labelcolor=color)\n",
    "\n",
    "plt.figure(figsize=(20,10))\n",
    "#fig.tight_layout()  # otherwise the right y-label is slightly clipped\n",
    "#plt.show()\n"
   ]
  },
  {
   "cell_type": "code",
   "execution_count": null,
   "metadata": {},
   "outputs": [],
   "source": [
    "fig, ax1 = plt.subplots(figsize=(20,10))\n",
    "\n",
    "color = 'tab:red'\n",
    "#ax1.set_xlabel('time (s)')\n",
    "ax1.set_ylabel('exp', color=color)\n",
    "ax1.plot(df_resample_sc_hour.index, df_resample_sc_hour['TxnFee(ETH)'] )\n",
    "#ax1.tick_params(axis='y', labelcolor=color)\n",
    "\n",
    "ax2 = ax1.twinx()  # instantiate a second axes that shares the same x-axis\n",
    "\n",
    "color = 'tab:blue'\n",
    "#ax2.set_ylabel('sin', color=color)  # we already handled the x-label with ax1\n",
    "ax2.bar(df_resample_sc_hour.index, df_resample_sc_hour.counter )\n",
    "#ax2.tick_params(axis='y', labelcolor=color)\n",
    "\n",
    "plt.figure(figsize=(20,10))\n",
    "#fig.tight_layout()  # otherwise the right y-label is slightly clipped\n",
    "#plt.show()\n"
   ]
  },
  {
   "cell_type": "code",
   "execution_count": null,
   "metadata": {},
   "outputs": [],
   "source": [
    "fig, (ax1,ax2) = plt.subplots(2,1, figsize=(20,10))\n",
    "\n",
    "color = 'tab:red'\n",
    "#ax1.set_xlabel('time (s)')\n",
    "#ax1.set_ylabel('exp', color=color)\n",
    "ax1.plot(df_resample_sc_day.index, df_resample_sc_day['TxnFee(ETH)'] )\n",
    "#ax1.tick_params(axis='y', labelcolor=color)\n",
    "\n",
    "#ax2 = ax1.twinx()  # instantiate a second axes that shares the same x-axis\n",
    "\n",
    "color = 'tab:blue'\n",
    "#ax2.set_ylabel('sin', color=color)  # we already handled the x-label with ax1\n",
    "ax2.bar(df_resample_sc_day.index, df_resample_sc_day.counter )\n",
    "#ax2.tick_params(axis='y', labelcolor=color)\n",
    "\n",
    "plt.figure(figsize=(20,10))\n",
    "#fig.tight_layout()  # otherwise the right y-label is slightly clipped\n",
    "#plt.show()"
   ]
  },
  {
   "cell_type": "code",
   "execution_count": null,
   "metadata": {},
   "outputs": [],
   "source": [
    "df_resample_sc_day.plot(y='counter', kind='bar', figsize=(20,10))"
   ]
  },
  {
   "cell_type": "code",
   "execution_count": null,
   "metadata": {},
   "outputs": [],
   "source": []
  }
 ],
 "metadata": {
  "kernelspec": {
   "display_name": "Python 3",
   "language": "python",
   "name": "python3"
  },
  "language_info": {
   "codemirror_mode": {
    "name": "ipython",
    "version": 3
   },
   "file_extension": ".py",
   "mimetype": "text/x-python",
   "name": "python",
   "nbconvert_exporter": "python",
   "pygments_lexer": "ipython3",
   "version": "3.7.7"
  }
 },
 "nbformat": 4,
 "nbformat_minor": 4
}
