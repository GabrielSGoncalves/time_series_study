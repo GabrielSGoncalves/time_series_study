{
 "cells": [
  {
   "cell_type": "markdown",
   "metadata": {},
   "source": [
    "# ICO Fraud detection - First Exploratory Data Analysis (EDA)\n",
    "### Objective:\n",
    "The goal of this notebook is to explore the ICO data through a series of aggregations and visualizations.\n"
   ]
  },
  {
   "cell_type": "code",
   "execution_count": 92,
   "metadata": {},
   "outputs": [],
   "source": [
    "import pandas as pd\n",
    "import os\n",
    "import matplotlib.pyplot as plt"
   ]
  },
  {
   "cell_type": "markdown",
   "metadata": {},
   "source": [
    "## 1. Accessing Etherscam API\n",
    "https://pypi.org/project/etherscan/"
   ]
  },
  {
   "cell_type": "code",
   "execution_count": 27,
   "metadata": {},
   "outputs": [],
   "source": [
    "import etherscan\n",
    "API_KEY = '4JPN4KUGGGRIZNRD9E3KDXCZFNF4Y9XVMP'"
   ]
  },
  {
   "cell_type": "code",
   "execution_count": 28,
   "metadata": {},
   "outputs": [
    {
     "data": {
      "text/plain": [
       "{'ethbtc': 0.02443,\n",
       " 'ethbtc_timestamp': 1593291550,\n",
       " 'ethusd': 218.59,\n",
       " 'ethusd_timestamp': 1593291550}"
      ]
     },
     "execution_count": 28,
     "metadata": {},
     "output_type": "execute_result"
    }
   ],
   "source": [
    "es = etherscan.Client(\n",
    "    api_key=API_KEY,\n",
    "    cache_expire_after=5,\n",
    ")\n",
    "\n",
    "eth_price = es.get_eth_price()\n",
    "eth_price"
   ]
  },
  {
   "cell_type": "code",
   "execution_count": 29,
   "metadata": {},
   "outputs": [
    {
     "data": {
      "text/plain": [
       "111527095624000000000000000"
      ]
     },
     "execution_count": 29,
     "metadata": {},
     "output_type": "execute_result"
    }
   ],
   "source": [
    "eth_supply = es.get_eth_supply()\n",
    "eth_supply"
   ]
  },
  {
   "cell_type": "code",
   "execution_count": 30,
   "metadata": {},
   "outputs": [
    {
     "data": {
      "text/plain": [
       "0"
      ]
     },
     "execution_count": 30,
     "metadata": {},
     "output_type": "execute_result"
    }
   ],
   "source": [
    "eth_balance = es.get_eth_balance('0x06cea18dc00394f602a7c48935e0e91b9ed1a9fce632cc137b649f94a48fcc66')\n",
    "eth_balance"
   ]
  },
  {
   "cell_type": "code",
   "execution_count": 31,
   "metadata": {},
   "outputs": [
    {
     "data": {
      "text/plain": [
       "{'0x39eB410144784010b84B076087B073889411F878': 8541713200000000,\n",
       " '0x39eB410144784010b84B076087B073889411F879': 0}"
      ]
     },
     "execution_count": 31,
     "metadata": {},
     "output_type": "execute_result"
    }
   ],
   "source": [
    "eth_balances = es.get_eth_balances([\n",
    "    '0x39eB410144784010b84B076087B073889411F878',\n",
    "    '0x39eB410144784010b84B076087B073889411F879',\n",
    "])\n",
    "eth_balances"
   ]
  },
  {
   "cell_type": "code",
   "execution_count": 32,
   "metadata": {},
   "outputs": [
    {
     "data": {
      "text/plain": [
       "33000000000"
      ]
     },
     "execution_count": 32,
     "metadata": {},
     "output_type": "execute_result"
    }
   ],
   "source": [
    "gas_price = es.get_gas_price()\n",
    "gas_price"
   ]
  },
  {
   "cell_type": "code",
   "execution_count": 120,
   "metadata": {},
   "outputs": [
    {
     "data": {
      "text/plain": [
       "{'difficulty': '0xb48297274f',\n",
       " 'extraData': '0x426974636f696e2069732054484520426c6f636b636861696e2e',\n",
       " 'gasLimit': '0x1388',\n",
       " 'gasUsed': '0x0',\n",
       " 'hash': '0xdcdf2fd2d0505334ec77b381e277cce289cfa64d5d2e121690726ed1f06dce5a',\n",
       " 'logsBloom': '0x00000000000000000000000000000000000000000000000000000000000000000000000000000000000000000000000000000000000000000000000000000000000000000000000000000000000000000000000000000000000000000000000000000000000000000000000000000000000000000000000000000000000000000000000000000000000000000000000000000000000000000000000000000000000000000000000000000000000000000000000000000000000000000000000000000000000000000000000000000000000000000000000000000000000000000000000000000000000000000000000000000000000000000000000000000000',\n",
       " 'miner': '0x1b7047b4338acf65be94c1a3e8c5c9338ad7d67c',\n",
       " 'mixHash': '0xe810422ab51839025a82d225803cc4a72ee8a5ed23c0c0bc8207f9f13f7d770e',\n",
       " 'nonce': '0x01690a3bd4064766',\n",
       " 'number': '0x328f',\n",
       " 'parentHash': '0x3603edba577a45ccc011743440ac43b6e484b76f5c4c5568c659dbea97a9285e',\n",
       " 'receiptsRoot': '0x56e81f171bcc55a6ff8345e692c0f86e5b48e01b996cadc001622fb5e363b421',\n",
       " 'sha3Uncles': '0x1dcc4de8dec75d7aab85b567b6ccd41ad312451b948a7413f0a142fd40d49347',\n",
       " 'size': '0x21c',\n",
       " 'stateRoot': '0x2ef7075379b50aaefac704e67accad6342fd667efb867c96970eb6dde1bc0a93',\n",
       " 'timestamp': '0x55bbddd4',\n",
       " 'totalDifficulty': '0xf521e64f1aa23',\n",
       " 'transactions': [],\n",
       " 'transactionsRoot': '0x56e81f171bcc55a6ff8345e692c0f86e5b48e01b996cadc001622fb5e363b421',\n",
       " 'uncles': []}"
      ]
     },
     "execution_count": 120,
     "metadata": {},
     "output_type": "execute_result"
    }
   ],
   "source": [
    "block = es.get_block_by_number(block_number=12943)\n",
    "block"
   ]
  },
  {
   "cell_type": "code",
   "execution_count": 123,
   "metadata": {},
   "outputs": [
    {
     "data": {
      "text/html": [
       "<div>\n",
       "<style scoped>\n",
       "    .dataframe tbody tr th:only-of-type {\n",
       "        vertical-align: middle;\n",
       "    }\n",
       "\n",
       "    .dataframe tbody tr th {\n",
       "        vertical-align: top;\n",
       "    }\n",
       "\n",
       "    .dataframe thead th {\n",
       "        text-align: right;\n",
       "    }\n",
       "</style>\n",
       "<table border=\"1\" class=\"dataframe\">\n",
       "  <thead>\n",
       "    <tr style=\"text-align: right;\">\n",
       "      <th></th>\n",
       "      <th>timestamp</th>\n",
       "      <th>block_number</th>\n",
       "      <th>from</th>\n",
       "      <th>to</th>\n",
       "      <th>input</th>\n",
       "      <th>hash</th>\n",
       "      <th>value</th>\n",
       "      <th>gas</th>\n",
       "      <th>gas_price</th>\n",
       "      <th>gas_used</th>\n",
       "      <th>nonce</th>\n",
       "      <th>confirmations</th>\n",
       "      <th>is_error</th>\n",
       "      <th>tx_receipt_status</th>\n",
       "      <th>transaction_index</th>\n",
       "      <th>cumulative_gas_used</th>\n",
       "      <th>block_hash</th>\n",
       "    </tr>\n",
       "  </thead>\n",
       "  <tbody>\n",
       "    <tr>\n",
       "      <th>0</th>\n",
       "      <td>1569527775</td>\n",
       "      <td>8626491</td>\n",
       "      <td>0xa805e4a1907d7db21409cb1724e31e93b6f65369</td>\n",
       "      <td>None</td>\n",
       "      <td>0x608060405233600160006101000a81548173ffffffff...</td>\n",
       "      <td>0x06cea18dc00394f602a7c48935e0e91b9ed1a9fce632...</td>\n",
       "      <td>0</td>\n",
       "      <td>2932029</td>\n",
       "      <td>14000000000</td>\n",
       "      <td>2932029</td>\n",
       "      <td>5</td>\n",
       "      <td>1723787</td>\n",
       "      <td>False</td>\n",
       "      <td>True</td>\n",
       "      <td>42</td>\n",
       "      <td>8767783</td>\n",
       "      <td>0x7ad0e689cde74baeb65b282d9aa059c924b8d758f581...</td>\n",
       "    </tr>\n",
       "    <tr>\n",
       "      <th>1</th>\n",
       "      <td>1569528157</td>\n",
       "      <td>8626518</td>\n",
       "      <td>0xa805e4a1907d7db21409cb1724e31e93b6f65369</td>\n",
       "      <td>0xd8dc1070b5510583728ee2afd6934877ea2de474</td>\n",
       "      <td>0x</td>\n",
       "      <td>0x48b8600c4eef68f17300b8797b3064c40a9954e5290c...</td>\n",
       "      <td>0</td>\n",
       "      <td>100000</td>\n",
       "      <td>20000000000</td>\n",
       "      <td>79462</td>\n",
       "      <td>6</td>\n",
       "      <td>1723760</td>\n",
       "      <td>False</td>\n",
       "      <td>True</td>\n",
       "      <td>88</td>\n",
       "      <td>3828429</td>\n",
       "      <td>0x5af0295764998590bf79bf02cd6d9cea4fc2267f27e3...</td>\n",
       "    </tr>\n",
       "    <tr>\n",
       "      <th>2</th>\n",
       "      <td>1569548940</td>\n",
       "      <td>8628049</td>\n",
       "      <td>0xa805e4a1907d7db21409cb1724e31e93b6f65369</td>\n",
       "      <td>0xd8dc1070b5510583728ee2afd6934877ea2de474</td>\n",
       "      <td>0xf3ccb401000000000000000000000000000000000000...</td>\n",
       "      <td>0xcb46386ac3a5bfdbac997b4b89c5a2ba550cf9f91a02...</td>\n",
       "      <td>0</td>\n",
       "      <td>347436</td>\n",
       "      <td>21000000000</td>\n",
       "      <td>347436</td>\n",
       "      <td>8</td>\n",
       "      <td>1722229</td>\n",
       "      <td>False</td>\n",
       "      <td>True</td>\n",
       "      <td>81</td>\n",
       "      <td>4575351</td>\n",
       "      <td>0x6de364a0b9cec8fb3a0cd7a4235692d88abf0b9c90f4...</td>\n",
       "    </tr>\n",
       "    <tr>\n",
       "      <th>3</th>\n",
       "      <td>1569553009</td>\n",
       "      <td>8628364</td>\n",
       "      <td>0x9c5fd85a035129f7ea1e6b61f915a98a96a15a22</td>\n",
       "      <td>0xd8dc1070b5510583728ee2afd6934877ea2de474</td>\n",
       "      <td>0x</td>\n",
       "      <td>0x88f213efc49f01bf65de14afa22bd6646ee2850b19ef...</td>\n",
       "      <td>0</td>\n",
       "      <td>60000</td>\n",
       "      <td>18000000000</td>\n",
       "      <td>60000</td>\n",
       "      <td>49</td>\n",
       "      <td>1721914</td>\n",
       "      <td>True</td>\n",
       "      <td>False</td>\n",
       "      <td>147</td>\n",
       "      <td>8257089</td>\n",
       "      <td>0x8a7bcd497af38d81cebf19bb8254b674d97a187b22b4...</td>\n",
       "    </tr>\n",
       "    <tr>\n",
       "      <th>4</th>\n",
       "      <td>1569553132</td>\n",
       "      <td>8628370</td>\n",
       "      <td>0x07195ba1de6b040198760bcdbc28c0cfcb6c9773</td>\n",
       "      <td>0xd8dc1070b5510583728ee2afd6934877ea2de474</td>\n",
       "      <td>0x</td>\n",
       "      <td>0xd72e18a9a68a2b4b39fb2fe01927ea7d9cdffdd5535e...</td>\n",
       "      <td>0</td>\n",
       "      <td>21000</td>\n",
       "      <td>15800000000</td>\n",
       "      <td>21000</td>\n",
       "      <td>70</td>\n",
       "      <td>1721908</td>\n",
       "      <td>True</td>\n",
       "      <td>False</td>\n",
       "      <td>217</td>\n",
       "      <td>9955617</td>\n",
       "      <td>0x73625caffb970f6750332ecfcf33bbc420838740fb3d...</td>\n",
       "    </tr>\n",
       "    <tr>\n",
       "      <th>...</th>\n",
       "      <td>...</td>\n",
       "      <td>...</td>\n",
       "      <td>...</td>\n",
       "      <td>...</td>\n",
       "      <td>...</td>\n",
       "      <td>...</td>\n",
       "      <td>...</td>\n",
       "      <td>...</td>\n",
       "      <td>...</td>\n",
       "      <td>...</td>\n",
       "      <td>...</td>\n",
       "      <td>...</td>\n",
       "      <td>...</td>\n",
       "      <td>...</td>\n",
       "      <td>...</td>\n",
       "      <td>...</td>\n",
       "      <td>...</td>\n",
       "    </tr>\n",
       "    <tr>\n",
       "      <th>995</th>\n",
       "      <td>1569656190</td>\n",
       "      <td>8636000</td>\n",
       "      <td>0xffa18b27729f544bd4a64c5d585acbebbde2f551</td>\n",
       "      <td>0xd8dc1070b5510583728ee2afd6934877ea2de474</td>\n",
       "      <td>0x</td>\n",
       "      <td>0x6a35f3a9fcf52d30c1e8c809ab97ea5dcb8c39817c13...</td>\n",
       "      <td>0</td>\n",
       "      <td>103300</td>\n",
       "      <td>6744750080</td>\n",
       "      <td>79462</td>\n",
       "      <td>3</td>\n",
       "      <td>1714278</td>\n",
       "      <td>False</td>\n",
       "      <td>True</td>\n",
       "      <td>99</td>\n",
       "      <td>8318914</td>\n",
       "      <td>0xbc828be128f0e9fb11e4af55808d17f62f80e0c4cd83...</td>\n",
       "    </tr>\n",
       "    <tr>\n",
       "      <th>996</th>\n",
       "      <td>1569656465</td>\n",
       "      <td>8636024</td>\n",
       "      <td>0x9b531bfb4dd32018be64083b1ff0ebf94b8cbc9c</td>\n",
       "      <td>0xd8dc1070b5510583728ee2afd6934877ea2de474</td>\n",
       "      <td>0x</td>\n",
       "      <td>0x97395b6fd265825544002e72a0e60eb5492f881971ca...</td>\n",
       "      <td>0</td>\n",
       "      <td>100000</td>\n",
       "      <td>20000000000</td>\n",
       "      <td>79462</td>\n",
       "      <td>136</td>\n",
       "      <td>1714254</td>\n",
       "      <td>False</td>\n",
       "      <td>True</td>\n",
       "      <td>104</td>\n",
       "      <td>4146511</td>\n",
       "      <td>0x7b2637889212aba64e46351ecb21e3441e557c35d861...</td>\n",
       "    </tr>\n",
       "    <tr>\n",
       "      <th>997</th>\n",
       "      <td>1569656465</td>\n",
       "      <td>8636024</td>\n",
       "      <td>0xed545f8187ee9ecd0ebf9bb292d2628cc83f0228</td>\n",
       "      <td>0xd8dc1070b5510583728ee2afd6934877ea2de474</td>\n",
       "      <td>0x</td>\n",
       "      <td>0xc646ab19c5a0d9ae876f6a52967764b96d42747f1847...</td>\n",
       "      <td>0</td>\n",
       "      <td>100000</td>\n",
       "      <td>8000000000</td>\n",
       "      <td>79462</td>\n",
       "      <td>6</td>\n",
       "      <td>1714254</td>\n",
       "      <td>False</td>\n",
       "      <td>True</td>\n",
       "      <td>202</td>\n",
       "      <td>7720680</td>\n",
       "      <td>0x7b2637889212aba64e46351ecb21e3441e557c35d861...</td>\n",
       "    </tr>\n",
       "    <tr>\n",
       "      <th>998</th>\n",
       "      <td>1569656505</td>\n",
       "      <td>8636029</td>\n",
       "      <td>0x10becf4648cf1d4e3b4d8df79efee3100a5d8ca4</td>\n",
       "      <td>0xd8dc1070b5510583728ee2afd6934877ea2de474</td>\n",
       "      <td>0x</td>\n",
       "      <td>0xe597fa43e61e5abe9a2e4270654012788af0467fcef8...</td>\n",
       "      <td>0</td>\n",
       "      <td>75712</td>\n",
       "      <td>4281250000</td>\n",
       "      <td>75712</td>\n",
       "      <td>8</td>\n",
       "      <td>1714249</td>\n",
       "      <td>True</td>\n",
       "      <td>False</td>\n",
       "      <td>47</td>\n",
       "      <td>3306879</td>\n",
       "      <td>0x16ec9949b2b654f38aa62cc784cf1a79e36bc31644de...</td>\n",
       "    </tr>\n",
       "    <tr>\n",
       "      <th>999</th>\n",
       "      <td>1569656505</td>\n",
       "      <td>8636029</td>\n",
       "      <td>0x7cab13dff89324aab2ef4ff47d2e51936793f9b5</td>\n",
       "      <td>0xd8dc1070b5510583728ee2afd6934877ea2de474</td>\n",
       "      <td>0x</td>\n",
       "      <td>0xa6f1028a6d055513dca9644acf90a3b2f8239d8b48bd...</td>\n",
       "      <td>0</td>\n",
       "      <td>75712</td>\n",
       "      <td>4281250000</td>\n",
       "      <td>64462</td>\n",
       "      <td>28</td>\n",
       "      <td>1714249</td>\n",
       "      <td>False</td>\n",
       "      <td>True</td>\n",
       "      <td>66</td>\n",
       "      <td>4043530</td>\n",
       "      <td>0x16ec9949b2b654f38aa62cc784cf1a79e36bc31644de...</td>\n",
       "    </tr>\n",
       "  </tbody>\n",
       "</table>\n",
       "<p>1000 rows × 17 columns</p>\n",
       "</div>"
      ],
      "text/plain": [
       "      timestamp  block_number                                        from  \\\n",
       "0    1569527775       8626491  0xa805e4a1907d7db21409cb1724e31e93b6f65369   \n",
       "1    1569528157       8626518  0xa805e4a1907d7db21409cb1724e31e93b6f65369   \n",
       "2    1569548940       8628049  0xa805e4a1907d7db21409cb1724e31e93b6f65369   \n",
       "3    1569553009       8628364  0x9c5fd85a035129f7ea1e6b61f915a98a96a15a22   \n",
       "4    1569553132       8628370  0x07195ba1de6b040198760bcdbc28c0cfcb6c9773   \n",
       "..          ...           ...                                         ...   \n",
       "995  1569656190       8636000  0xffa18b27729f544bd4a64c5d585acbebbde2f551   \n",
       "996  1569656465       8636024  0x9b531bfb4dd32018be64083b1ff0ebf94b8cbc9c   \n",
       "997  1569656465       8636024  0xed545f8187ee9ecd0ebf9bb292d2628cc83f0228   \n",
       "998  1569656505       8636029  0x10becf4648cf1d4e3b4d8df79efee3100a5d8ca4   \n",
       "999  1569656505       8636029  0x7cab13dff89324aab2ef4ff47d2e51936793f9b5   \n",
       "\n",
       "                                             to  \\\n",
       "0                                          None   \n",
       "1    0xd8dc1070b5510583728ee2afd6934877ea2de474   \n",
       "2    0xd8dc1070b5510583728ee2afd6934877ea2de474   \n",
       "3    0xd8dc1070b5510583728ee2afd6934877ea2de474   \n",
       "4    0xd8dc1070b5510583728ee2afd6934877ea2de474   \n",
       "..                                          ...   \n",
       "995  0xd8dc1070b5510583728ee2afd6934877ea2de474   \n",
       "996  0xd8dc1070b5510583728ee2afd6934877ea2de474   \n",
       "997  0xd8dc1070b5510583728ee2afd6934877ea2de474   \n",
       "998  0xd8dc1070b5510583728ee2afd6934877ea2de474   \n",
       "999  0xd8dc1070b5510583728ee2afd6934877ea2de474   \n",
       "\n",
       "                                                 input  \\\n",
       "0    0x608060405233600160006101000a81548173ffffffff...   \n",
       "1                                                   0x   \n",
       "2    0xf3ccb401000000000000000000000000000000000000...   \n",
       "3                                                   0x   \n",
       "4                                                   0x   \n",
       "..                                                 ...   \n",
       "995                                                 0x   \n",
       "996                                                 0x   \n",
       "997                                                 0x   \n",
       "998                                                 0x   \n",
       "999                                                 0x   \n",
       "\n",
       "                                                  hash  value      gas  \\\n",
       "0    0x06cea18dc00394f602a7c48935e0e91b9ed1a9fce632...      0  2932029   \n",
       "1    0x48b8600c4eef68f17300b8797b3064c40a9954e5290c...      0   100000   \n",
       "2    0xcb46386ac3a5bfdbac997b4b89c5a2ba550cf9f91a02...      0   347436   \n",
       "3    0x88f213efc49f01bf65de14afa22bd6646ee2850b19ef...      0    60000   \n",
       "4    0xd72e18a9a68a2b4b39fb2fe01927ea7d9cdffdd5535e...      0    21000   \n",
       "..                                                 ...    ...      ...   \n",
       "995  0x6a35f3a9fcf52d30c1e8c809ab97ea5dcb8c39817c13...      0   103300   \n",
       "996  0x97395b6fd265825544002e72a0e60eb5492f881971ca...      0   100000   \n",
       "997  0xc646ab19c5a0d9ae876f6a52967764b96d42747f1847...      0   100000   \n",
       "998  0xe597fa43e61e5abe9a2e4270654012788af0467fcef8...      0    75712   \n",
       "999  0xa6f1028a6d055513dca9644acf90a3b2f8239d8b48bd...      0    75712   \n",
       "\n",
       "       gas_price  gas_used  nonce  confirmations  is_error  tx_receipt_status  \\\n",
       "0    14000000000   2932029      5        1723787     False               True   \n",
       "1    20000000000     79462      6        1723760     False               True   \n",
       "2    21000000000    347436      8        1722229     False               True   \n",
       "3    18000000000     60000     49        1721914      True              False   \n",
       "4    15800000000     21000     70        1721908      True              False   \n",
       "..           ...       ...    ...            ...       ...                ...   \n",
       "995   6744750080     79462      3        1714278     False               True   \n",
       "996  20000000000     79462    136        1714254     False               True   \n",
       "997   8000000000     79462      6        1714254     False               True   \n",
       "998   4281250000     75712      8        1714249      True              False   \n",
       "999   4281250000     64462     28        1714249     False               True   \n",
       "\n",
       "     transaction_index  cumulative_gas_used  \\\n",
       "0                   42              8767783   \n",
       "1                   88              3828429   \n",
       "2                   81              4575351   \n",
       "3                  147              8257089   \n",
       "4                  217              9955617   \n",
       "..                 ...                  ...   \n",
       "995                 99              8318914   \n",
       "996                104              4146511   \n",
       "997                202              7720680   \n",
       "998                 47              3306879   \n",
       "999                 66              4043530   \n",
       "\n",
       "                                            block_hash  \n",
       "0    0x7ad0e689cde74baeb65b282d9aa059c924b8d758f581...  \n",
       "1    0x5af0295764998590bf79bf02cd6d9cea4fc2267f27e3...  \n",
       "2    0x6de364a0b9cec8fb3a0cd7a4235692d88abf0b9c90f4...  \n",
       "3    0x8a7bcd497af38d81cebf19bb8254b674d97a187b22b4...  \n",
       "4    0x73625caffb970f6750332ecfcf33bbc420838740fb3d...  \n",
       "..                                                 ...  \n",
       "995  0xbc828be128f0e9fb11e4af55808d17f62f80e0c4cd83...  \n",
       "996  0x7b2637889212aba64e46351ecb21e3441e557c35d861...  \n",
       "997  0x7b2637889212aba64e46351ecb21e3441e557c35d861...  \n",
       "998  0x16ec9949b2b654f38aa62cc784cf1a79e36bc31644de...  \n",
       "999  0x16ec9949b2b654f38aa62cc784cf1a79e36bc31644de...  \n",
       "\n",
       "[1000 rows x 17 columns]"
      ]
     },
     "execution_count": 123,
     "metadata": {},
     "output_type": "execute_result"
    }
   ],
   "source": [
    "transactions = es.get_transactions_by_address('0xd8dc1070b5510583728ee2afd6934877ea2de474')\n",
    "pd.DataFrame.from_dict(transactions)"
   ]
  },
  {
   "cell_type": "code",
   "execution_count": 35,
   "metadata": {},
   "outputs": [
    {
     "name": "stdout",
     "output_type": "stream",
     "text": [
      "--- Etherscan.io Message --- No transactions found\n"
     ]
    },
    {
     "data": {
      "text/plain": [
       "[]"
      ]
     },
     "execution_count": 35,
     "metadata": {},
     "output_type": "execute_result"
    }
   ],
   "source": [
    "es.get_transactions_by_address('0x06cea18dc00394f602a7c48935e0e91b9ed1a9fce632cc137b649f94a48fcc66')\n",
    "#transactions"
   ]
  },
  {
   "cell_type": "code",
   "execution_count": 36,
   "metadata": {},
   "outputs": [
    {
     "name": "stdout",
     "output_type": "stream",
     "text": [
      "--- Etherscan.io Message --- No transactions found\n"
     ]
    },
    {
     "data": {
      "text/plain": [
       "[]"
      ]
     },
     "execution_count": 36,
     "metadata": {},
     "output_type": "execute_result"
    }
   ],
   "source": [
    "token_transations = es.get_token_transactions(\n",
    "    contract_address='0xd8dc1070b5510583728ee2afd6934877ea2de474',\n",
    "    address='0xd8dc1070b5510583728ee2afd6934877ea2de474',\n",
    ")\n",
    "token_transations"
   ]
  },
  {
   "cell_type": "code",
   "execution_count": null,
   "metadata": {},
   "outputs": [],
   "source": []
  },
  {
   "cell_type": "code",
   "execution_count": null,
   "metadata": {},
   "outputs": [],
   "source": []
  },
  {
   "cell_type": "code",
   "execution_count": null,
   "metadata": {},
   "outputs": [],
   "source": []
  },
  {
   "cell_type": "markdown",
   "metadata": {},
   "source": [
    "## 1. Loading a ICO csv file\n"
   ]
  },
  {
   "cell_type": "markdown",
   "metadata": {},
   "source": [
    "### 1.1. Token file"
   ]
  },
  {
   "cell_type": "code",
   "execution_count": 74,
   "metadata": {},
   "outputs": [],
   "source": [
    "file_path = '/home/gabriel/Documents/Repos/time_series_study/data_and_models/dadosicocomsucesso/AIGO_SC.csv'\n",
    "df_ico = pd.read_csv(file_path, sep=';')"
   ]
  },
  {
   "cell_type": "code",
   "execution_count": 75,
   "metadata": {},
   "outputs": [
    {
     "data": {
      "text/html": [
       "<div>\n",
       "<style scoped>\n",
       "    .dataframe tbody tr th:only-of-type {\n",
       "        vertical-align: middle;\n",
       "    }\n",
       "\n",
       "    .dataframe tbody tr th {\n",
       "        vertical-align: top;\n",
       "    }\n",
       "\n",
       "    .dataframe thead th {\n",
       "        text-align: right;\n",
       "    }\n",
       "</style>\n",
       "<table border=\"1\" class=\"dataframe\">\n",
       "  <thead>\n",
       "    <tr style=\"text-align: right;\">\n",
       "      <th></th>\n",
       "      <th>Blockno</th>\n",
       "      <th>UnixTimestamp</th>\n",
       "      <th>Value_IN(ETH)</th>\n",
       "      <th>Value_OUT(ETH)</th>\n",
       "      <th>CurrentValue @ $242.14/Eth</th>\n",
       "      <th>TxnFee(ETH)</th>\n",
       "      <th>TxnFee(USD)</th>\n",
       "      <th>Historical $Price/Eth</th>\n",
       "      <th>Unnamed: 15</th>\n",
       "    </tr>\n",
       "  </thead>\n",
       "  <tbody>\n",
       "    <tr>\n",
       "      <th>count</th>\n",
       "      <td>3.964000e+03</td>\n",
       "      <td>3.964000e+03</td>\n",
       "      <td>3964.000000</td>\n",
       "      <td>3964.0</td>\n",
       "      <td>3964.000000</td>\n",
       "      <td>3964.000000</td>\n",
       "      <td>3964.000000</td>\n",
       "      <td>3964.000000</td>\n",
       "      <td>0.0</td>\n",
       "    </tr>\n",
       "    <tr>\n",
       "      <th>mean</th>\n",
       "      <td>8.690786e+06</td>\n",
       "      <td>1.570414e+09</td>\n",
       "      <td>0.001769</td>\n",
       "      <td>0.0</td>\n",
       "      <td>0.001199</td>\n",
       "      <td>0.000785</td>\n",
       "      <td>0.129016</td>\n",
       "      <td>175.110136</td>\n",
       "      <td>NaN</td>\n",
       "    </tr>\n",
       "    <tr>\n",
       "      <th>std</th>\n",
       "      <td>1.222558e+05</td>\n",
       "      <td>1.721310e+06</td>\n",
       "      <td>0.047622</td>\n",
       "      <td>0.0</td>\n",
       "      <td>0.027573</td>\n",
       "      <td>0.015919</td>\n",
       "      <td>0.286476</td>\n",
       "      <td>9.295159</td>\n",
       "      <td>NaN</td>\n",
       "    </tr>\n",
       "    <tr>\n",
       "      <th>min</th>\n",
       "      <td>8.626491e+06</td>\n",
       "      <td>1.569528e+09</td>\n",
       "      <td>0.000000</td>\n",
       "      <td>0.0</td>\n",
       "      <td>0.000000</td>\n",
       "      <td>0.000021</td>\n",
       "      <td>0.005085</td>\n",
       "      <td>122.110000</td>\n",
       "      <td>NaN</td>\n",
       "    </tr>\n",
       "    <tr>\n",
       "      <th>25%</th>\n",
       "      <td>8.635950e+06</td>\n",
       "      <td>1.569655e+09</td>\n",
       "      <td>0.000000</td>\n",
       "      <td>0.0</td>\n",
       "      <td>0.000000</td>\n",
       "      <td>0.000044</td>\n",
       "      <td>0.010762</td>\n",
       "      <td>174.140000</td>\n",
       "      <td>NaN</td>\n",
       "    </tr>\n",
       "    <tr>\n",
       "      <th>50%</th>\n",
       "      <td>8.640678e+06</td>\n",
       "      <td>1.569719e+09</td>\n",
       "      <td>0.000000</td>\n",
       "      <td>0.0</td>\n",
       "      <td>0.000000</td>\n",
       "      <td>0.000397</td>\n",
       "      <td>0.096205</td>\n",
       "      <td>174.390000</td>\n",
       "      <td>NaN</td>\n",
       "    </tr>\n",
       "    <tr>\n",
       "      <th>75%</th>\n",
       "      <td>8.709309e+06</td>\n",
       "      <td>1.570647e+09</td>\n",
       "      <td>0.000000</td>\n",
       "      <td>0.0</td>\n",
       "      <td>0.000000</td>\n",
       "      <td>0.000554</td>\n",
       "      <td>0.134140</td>\n",
       "      <td>181.370000</td>\n",
       "      <td>NaN</td>\n",
       "    </tr>\n",
       "    <tr>\n",
       "      <th>max</th>\n",
       "      <td>1.004756e+07</td>\n",
       "      <td>1.589235e+09</td>\n",
       "      <td>2.000000</td>\n",
       "      <td>0.0</td>\n",
       "      <td>1.374677</td>\n",
       "      <td>1.000000</td>\n",
       "      <td>9.939461</td>\n",
       "      <td>258.720000</td>\n",
       "      <td>NaN</td>\n",
       "    </tr>\n",
       "  </tbody>\n",
       "</table>\n",
       "</div>"
      ],
      "text/plain": [
       "            Blockno  UnixTimestamp  Value_IN(ETH)  Value_OUT(ETH)  \\\n",
       "count  3.964000e+03   3.964000e+03    3964.000000          3964.0   \n",
       "mean   8.690786e+06   1.570414e+09       0.001769             0.0   \n",
       "std    1.222558e+05   1.721310e+06       0.047622             0.0   \n",
       "min    8.626491e+06   1.569528e+09       0.000000             0.0   \n",
       "25%    8.635950e+06   1.569655e+09       0.000000             0.0   \n",
       "50%    8.640678e+06   1.569719e+09       0.000000             0.0   \n",
       "75%    8.709309e+06   1.570647e+09       0.000000             0.0   \n",
       "max    1.004756e+07   1.589235e+09       2.000000             0.0   \n",
       "\n",
       "       CurrentValue @ $242.14/Eth  TxnFee(ETH)  TxnFee(USD)  \\\n",
       "count                 3964.000000  3964.000000  3964.000000   \n",
       "mean                     0.001199     0.000785     0.129016   \n",
       "std                      0.027573     0.015919     0.286476   \n",
       "min                      0.000000     0.000021     0.005085   \n",
       "25%                      0.000000     0.000044     0.010762   \n",
       "50%                      0.000000     0.000397     0.096205   \n",
       "75%                      0.000000     0.000554     0.134140   \n",
       "max                      1.374677     1.000000     9.939461   \n",
       "\n",
       "       Historical $Price/Eth  Unnamed: 15  \n",
       "count            3964.000000          0.0  \n",
       "mean              175.110136          NaN  \n",
       "std                 9.295159          NaN  \n",
       "min               122.110000          NaN  \n",
       "25%               174.140000          NaN  \n",
       "50%               174.390000          NaN  \n",
       "75%               181.370000          NaN  \n",
       "max               258.720000          NaN  "
      ]
     },
     "execution_count": 75,
     "metadata": {},
     "output_type": "execute_result"
    }
   ],
   "source": [
    "df_ico.describe()"
   ]
  },
  {
   "cell_type": "code",
   "execution_count": 76,
   "metadata": {},
   "outputs": [
    {
     "name": "stdout",
     "output_type": "stream",
     "text": [
      "<class 'pandas.core.frame.DataFrame'>\n",
      "RangeIndex: 3964 entries, 0 to 3963\n",
      "Data columns (total 16 columns):\n",
      " #   Column                      Non-Null Count  Dtype  \n",
      "---  ------                      --------------  -----  \n",
      " 0   Txhash                      3964 non-null   object \n",
      " 1   Blockno                     3964 non-null   int64  \n",
      " 2   UnixTimestamp               3964 non-null   int64  \n",
      " 3   DateTime                    3964 non-null   object \n",
      " 4   From                        3964 non-null   object \n",
      " 5   To                          3963 non-null   object \n",
      " 6   ContractAddress             1 non-null      object \n",
      " 7   Value_IN(ETH)               3964 non-null   float64\n",
      " 8   Value_OUT(ETH)              3964 non-null   int64  \n",
      " 9   CurrentValue @ $242.14/Eth  3964 non-null   float64\n",
      " 10  TxnFee(ETH)                 3964 non-null   float64\n",
      " 11  TxnFee(USD)                 3964 non-null   float64\n",
      " 12  Historical $Price/Eth       3964 non-null   float64\n",
      " 13  Status                      833 non-null    object \n",
      " 14  ErrCode                     833 non-null    object \n",
      " 15  Unnamed: 15                 0 non-null      float64\n",
      "dtypes: float64(6), int64(3), object(7)\n",
      "memory usage: 495.6+ KB\n"
     ]
    }
   ],
   "source": [
    "df_ico.info()"
   ]
  },
  {
   "cell_type": "code",
   "execution_count": 77,
   "metadata": {},
   "outputs": [
    {
     "data": {
      "text/html": [
       "<div>\n",
       "<style scoped>\n",
       "    .dataframe tbody tr th:only-of-type {\n",
       "        vertical-align: middle;\n",
       "    }\n",
       "\n",
       "    .dataframe tbody tr th {\n",
       "        vertical-align: top;\n",
       "    }\n",
       "\n",
       "    .dataframe thead th {\n",
       "        text-align: right;\n",
       "    }\n",
       "</style>\n",
       "<table border=\"1\" class=\"dataframe\">\n",
       "  <thead>\n",
       "    <tr style=\"text-align: right;\">\n",
       "      <th></th>\n",
       "      <th>Txhash</th>\n",
       "      <th>Blockno</th>\n",
       "      <th>UnixTimestamp</th>\n",
       "      <th>DateTime</th>\n",
       "      <th>From</th>\n",
       "      <th>To</th>\n",
       "      <th>ContractAddress</th>\n",
       "      <th>Value_IN(ETH)</th>\n",
       "      <th>Value_OUT(ETH)</th>\n",
       "      <th>CurrentValue @ $242.14/Eth</th>\n",
       "      <th>TxnFee(ETH)</th>\n",
       "      <th>TxnFee(USD)</th>\n",
       "      <th>Historical $Price/Eth</th>\n",
       "      <th>Status</th>\n",
       "      <th>ErrCode</th>\n",
       "      <th>Unnamed: 15</th>\n",
       "    </tr>\n",
       "  </thead>\n",
       "  <tbody>\n",
       "    <tr>\n",
       "      <th>0</th>\n",
       "      <td>0x06cea18dc00394f602a7c48935e0e91b9ed1a9fce632...</td>\n",
       "      <td>8626491</td>\n",
       "      <td>1569527775</td>\n",
       "      <td>2019-09-26 19:56:15</td>\n",
       "      <td>0xa805e4a1907d7db21409cb1724e31e93b6f65369</td>\n",
       "      <td>NaN</td>\n",
       "      <td>0xd8dc1070b5510583728ee2afd6934877ea2de474</td>\n",
       "      <td>0.0</td>\n",
       "      <td>0</td>\n",
       "      <td>0.0</td>\n",
       "      <td>0.041048</td>\n",
       "      <td>9.939461</td>\n",
       "      <td>166.06</td>\n",
       "      <td>NaN</td>\n",
       "      <td>NaN</td>\n",
       "      <td>NaN</td>\n",
       "    </tr>\n",
       "    <tr>\n",
       "      <th>1</th>\n",
       "      <td>0x48b8600c4eef68f17300b8797b3064c40a9954e5290c...</td>\n",
       "      <td>8626518</td>\n",
       "      <td>1569528157</td>\n",
       "      <td>2019-09-26 20:02:37</td>\n",
       "      <td>0xa805e4a1907d7db21409cb1724e31e93b6f65369</td>\n",
       "      <td>0xd8dc1070b5510583728ee2afd6934877ea2de474</td>\n",
       "      <td>NaN</td>\n",
       "      <td>0.0</td>\n",
       "      <td>0</td>\n",
       "      <td>0.0</td>\n",
       "      <td>0.001589</td>\n",
       "      <td>0.384819</td>\n",
       "      <td>166.06</td>\n",
       "      <td>NaN</td>\n",
       "      <td>NaN</td>\n",
       "      <td>NaN</td>\n",
       "    </tr>\n",
       "    <tr>\n",
       "      <th>2</th>\n",
       "      <td>0xcb46386ac3a5bfdbac997b4b89c5a2ba550cf9f91a02...</td>\n",
       "      <td>8628049</td>\n",
       "      <td>1569548940</td>\n",
       "      <td>2019-09-27 01:49:00</td>\n",
       "      <td>0xa805e4a1907d7db21409cb1724e31e93b6f65369</td>\n",
       "      <td>0xd8dc1070b5510583728ee2afd6934877ea2de474</td>\n",
       "      <td>NaN</td>\n",
       "      <td>0.0</td>\n",
       "      <td>0</td>\n",
       "      <td>0.0</td>\n",
       "      <td>0.007296</td>\n",
       "      <td>1.766691</td>\n",
       "      <td>174.39</td>\n",
       "      <td>NaN</td>\n",
       "      <td>NaN</td>\n",
       "      <td>NaN</td>\n",
       "    </tr>\n",
       "  </tbody>\n",
       "</table>\n",
       "</div>"
      ],
      "text/plain": [
       "                                              Txhash  Blockno  UnixTimestamp  \\\n",
       "0  0x06cea18dc00394f602a7c48935e0e91b9ed1a9fce632...  8626491     1569527775   \n",
       "1  0x48b8600c4eef68f17300b8797b3064c40a9954e5290c...  8626518     1569528157   \n",
       "2  0xcb46386ac3a5bfdbac997b4b89c5a2ba550cf9f91a02...  8628049     1569548940   \n",
       "\n",
       "              DateTime                                        From  \\\n",
       "0  2019-09-26 19:56:15  0xa805e4a1907d7db21409cb1724e31e93b6f65369   \n",
       "1  2019-09-26 20:02:37  0xa805e4a1907d7db21409cb1724e31e93b6f65369   \n",
       "2  2019-09-27 01:49:00  0xa805e4a1907d7db21409cb1724e31e93b6f65369   \n",
       "\n",
       "                                           To  \\\n",
       "0                                         NaN   \n",
       "1  0xd8dc1070b5510583728ee2afd6934877ea2de474   \n",
       "2  0xd8dc1070b5510583728ee2afd6934877ea2de474   \n",
       "\n",
       "                              ContractAddress  Value_IN(ETH)  Value_OUT(ETH)  \\\n",
       "0  0xd8dc1070b5510583728ee2afd6934877ea2de474            0.0               0   \n",
       "1                                         NaN            0.0               0   \n",
       "2                                         NaN            0.0               0   \n",
       "\n",
       "   CurrentValue @ $242.14/Eth  TxnFee(ETH)  TxnFee(USD)  \\\n",
       "0                         0.0     0.041048     9.939461   \n",
       "1                         0.0     0.001589     0.384819   \n",
       "2                         0.0     0.007296     1.766691   \n",
       "\n",
       "   Historical $Price/Eth Status ErrCode  Unnamed: 15  \n",
       "0                 166.06    NaN     NaN          NaN  \n",
       "1                 166.06    NaN     NaN          NaN  \n",
       "2                 174.39    NaN     NaN          NaN  "
      ]
     },
     "execution_count": 77,
     "metadata": {},
     "output_type": "execute_result"
    }
   ],
   "source": [
    "df_ico.head(3)"
   ]
  },
  {
   "cell_type": "markdown",
   "metadata": {},
   "source": [
    "### 1.2. Convert `DateTime`column to datetime dtype"
   ]
  },
  {
   "cell_type": "code",
   "execution_count": 78,
   "metadata": {},
   "outputs": [
    {
     "data": {
      "text/plain": [
       "Txhash                                object\n",
       "Blockno                                int64\n",
       "UnixTimestamp                          int64\n",
       "DateTime                      datetime64[ns]\n",
       "From                                  object\n",
       "To                                    object\n",
       "ContractAddress                       object\n",
       "Value_IN(ETH)                        float64\n",
       "Value_OUT(ETH)                         int64\n",
       "CurrentValue @ $242.14/Eth           float64\n",
       "TxnFee(ETH)                          float64\n",
       "TxnFee(USD)                          float64\n",
       "Historical $Price/Eth                float64\n",
       "Status                                object\n",
       "ErrCode                               object\n",
       "Unnamed: 15                          float64\n",
       "dtype: object"
      ]
     },
     "execution_count": 78,
     "metadata": {},
     "output_type": "execute_result"
    }
   ],
   "source": [
    "df_ico['DateTime'] = pd.to_datetime(df_ico['DateTime'])\n",
    "df_ico.dtypes"
   ]
  },
  {
   "cell_type": "markdown",
   "metadata": {},
   "source": [
    "### 1.3. Create column with time difference"
   ]
  },
  {
   "cell_type": "code",
   "execution_count": 79,
   "metadata": {},
   "outputs": [
    {
     "data": {
      "text/html": [
       "<div>\n",
       "<style scoped>\n",
       "    .dataframe tbody tr th:only-of-type {\n",
       "        vertical-align: middle;\n",
       "    }\n",
       "\n",
       "    .dataframe tbody tr th {\n",
       "        vertical-align: top;\n",
       "    }\n",
       "\n",
       "    .dataframe thead th {\n",
       "        text-align: right;\n",
       "    }\n",
       "</style>\n",
       "<table border=\"1\" class=\"dataframe\">\n",
       "  <thead>\n",
       "    <tr style=\"text-align: right;\">\n",
       "      <th></th>\n",
       "      <th>Txhash</th>\n",
       "      <th>Blockno</th>\n",
       "      <th>UnixTimestamp</th>\n",
       "      <th>DateTime</th>\n",
       "      <th>From</th>\n",
       "      <th>To</th>\n",
       "      <th>ContractAddress</th>\n",
       "      <th>Value_IN(ETH)</th>\n",
       "      <th>Value_OUT(ETH)</th>\n",
       "      <th>CurrentValue @ $242.14/Eth</th>\n",
       "      <th>TxnFee(ETH)</th>\n",
       "      <th>TxnFee(USD)</th>\n",
       "      <th>Historical $Price/Eth</th>\n",
       "      <th>Status</th>\n",
       "      <th>ErrCode</th>\n",
       "      <th>Unnamed: 15</th>\n",
       "      <th>time_diff</th>\n",
       "      <th>time_diff_seconds</th>\n",
       "    </tr>\n",
       "  </thead>\n",
       "  <tbody>\n",
       "    <tr>\n",
       "      <th>0</th>\n",
       "      <td>0x06cea18dc00394f602a7c48935e0e91b9ed1a9fce632...</td>\n",
       "      <td>8626491</td>\n",
       "      <td>1569527775</td>\n",
       "      <td>2019-09-26 19:56:15</td>\n",
       "      <td>0xa805e4a1907d7db21409cb1724e31e93b6f65369</td>\n",
       "      <td>NaN</td>\n",
       "      <td>0xd8dc1070b5510583728ee2afd6934877ea2de474</td>\n",
       "      <td>0.0</td>\n",
       "      <td>0</td>\n",
       "      <td>0.0</td>\n",
       "      <td>0.041048</td>\n",
       "      <td>9.939461</td>\n",
       "      <td>166.06</td>\n",
       "      <td>NaN</td>\n",
       "      <td>NaN</td>\n",
       "      <td>NaN</td>\n",
       "      <td>NaT</td>\n",
       "      <td>NaN</td>\n",
       "    </tr>\n",
       "    <tr>\n",
       "      <th>1</th>\n",
       "      <td>0x48b8600c4eef68f17300b8797b3064c40a9954e5290c...</td>\n",
       "      <td>8626518</td>\n",
       "      <td>1569528157</td>\n",
       "      <td>2019-09-26 20:02:37</td>\n",
       "      <td>0xa805e4a1907d7db21409cb1724e31e93b6f65369</td>\n",
       "      <td>0xd8dc1070b5510583728ee2afd6934877ea2de474</td>\n",
       "      <td>NaN</td>\n",
       "      <td>0.0</td>\n",
       "      <td>0</td>\n",
       "      <td>0.0</td>\n",
       "      <td>0.001589</td>\n",
       "      <td>0.384819</td>\n",
       "      <td>166.06</td>\n",
       "      <td>NaN</td>\n",
       "      <td>NaN</td>\n",
       "      <td>NaN</td>\n",
       "      <td>00:06:22</td>\n",
       "      <td>382.0</td>\n",
       "    </tr>\n",
       "    <tr>\n",
       "      <th>2</th>\n",
       "      <td>0xcb46386ac3a5bfdbac997b4b89c5a2ba550cf9f91a02...</td>\n",
       "      <td>8628049</td>\n",
       "      <td>1569548940</td>\n",
       "      <td>2019-09-27 01:49:00</td>\n",
       "      <td>0xa805e4a1907d7db21409cb1724e31e93b6f65369</td>\n",
       "      <td>0xd8dc1070b5510583728ee2afd6934877ea2de474</td>\n",
       "      <td>NaN</td>\n",
       "      <td>0.0</td>\n",
       "      <td>0</td>\n",
       "      <td>0.0</td>\n",
       "      <td>0.007296</td>\n",
       "      <td>1.766691</td>\n",
       "      <td>174.39</td>\n",
       "      <td>NaN</td>\n",
       "      <td>NaN</td>\n",
       "      <td>NaN</td>\n",
       "      <td>05:46:23</td>\n",
       "      <td>20783.0</td>\n",
       "    </tr>\n",
       "  </tbody>\n",
       "</table>\n",
       "</div>"
      ],
      "text/plain": [
       "                                              Txhash  Blockno  UnixTimestamp  \\\n",
       "0  0x06cea18dc00394f602a7c48935e0e91b9ed1a9fce632...  8626491     1569527775   \n",
       "1  0x48b8600c4eef68f17300b8797b3064c40a9954e5290c...  8626518     1569528157   \n",
       "2  0xcb46386ac3a5bfdbac997b4b89c5a2ba550cf9f91a02...  8628049     1569548940   \n",
       "\n",
       "             DateTime                                        From  \\\n",
       "0 2019-09-26 19:56:15  0xa805e4a1907d7db21409cb1724e31e93b6f65369   \n",
       "1 2019-09-26 20:02:37  0xa805e4a1907d7db21409cb1724e31e93b6f65369   \n",
       "2 2019-09-27 01:49:00  0xa805e4a1907d7db21409cb1724e31e93b6f65369   \n",
       "\n",
       "                                           To  \\\n",
       "0                                         NaN   \n",
       "1  0xd8dc1070b5510583728ee2afd6934877ea2de474   \n",
       "2  0xd8dc1070b5510583728ee2afd6934877ea2de474   \n",
       "\n",
       "                              ContractAddress  Value_IN(ETH)  Value_OUT(ETH)  \\\n",
       "0  0xd8dc1070b5510583728ee2afd6934877ea2de474            0.0               0   \n",
       "1                                         NaN            0.0               0   \n",
       "2                                         NaN            0.0               0   \n",
       "\n",
       "   CurrentValue @ $242.14/Eth  TxnFee(ETH)  TxnFee(USD)  \\\n",
       "0                         0.0     0.041048     9.939461   \n",
       "1                         0.0     0.001589     0.384819   \n",
       "2                         0.0     0.007296     1.766691   \n",
       "\n",
       "   Historical $Price/Eth Status ErrCode  Unnamed: 15 time_diff  \\\n",
       "0                 166.06    NaN     NaN          NaN       NaT   \n",
       "1                 166.06    NaN     NaN          NaN  00:06:22   \n",
       "2                 174.39    NaN     NaN          NaN  05:46:23   \n",
       "\n",
       "   time_diff_seconds  \n",
       "0                NaN  \n",
       "1              382.0  \n",
       "2            20783.0  "
      ]
     },
     "execution_count": 79,
     "metadata": {},
     "output_type": "execute_result"
    }
   ],
   "source": [
    "df_ico['time_diff'] = df_ico['DateTime'].diff()\n",
    "df_ico['time_diff_seconds'] = df_ico['DateTime'].diff().dt.seconds\n",
    "df_ico.head(3)"
   ]
  },
  {
   "cell_type": "code",
   "execution_count": 80,
   "metadata": {},
   "outputs": [
    {
     "data": {
      "text/html": [
       "<div>\n",
       "<style scoped>\n",
       "    .dataframe tbody tr th:only-of-type {\n",
       "        vertical-align: middle;\n",
       "    }\n",
       "\n",
       "    .dataframe tbody tr th {\n",
       "        vertical-align: top;\n",
       "    }\n",
       "\n",
       "    .dataframe thead th {\n",
       "        text-align: right;\n",
       "    }\n",
       "</style>\n",
       "<table border=\"1\" class=\"dataframe\">\n",
       "  <thead>\n",
       "    <tr style=\"text-align: right;\">\n",
       "      <th></th>\n",
       "      <th>time_diff</th>\n",
       "      <th>time_diff_seconds</th>\n",
       "    </tr>\n",
       "  </thead>\n",
       "  <tbody>\n",
       "    <tr>\n",
       "      <th>count</th>\n",
       "      <td>3963</td>\n",
       "      <td>3963.000000</td>\n",
       "    </tr>\n",
       "    <tr>\n",
       "      <th>mean</th>\n",
       "      <td>0 days 01:22:52.819328</td>\n",
       "      <td>1876.982841</td>\n",
       "    </tr>\n",
       "    <tr>\n",
       "      <th>std</th>\n",
       "      <td>0 days 22:22:04.444073</td>\n",
       "      <td>8135.360366</td>\n",
       "    </tr>\n",
       "    <tr>\n",
       "      <th>min</th>\n",
       "      <td>0 days 00:00:00</td>\n",
       "      <td>0.000000</td>\n",
       "    </tr>\n",
       "    <tr>\n",
       "      <th>25%</th>\n",
       "      <td>0 days 00:00:00</td>\n",
       "      <td>0.000000</td>\n",
       "    </tr>\n",
       "    <tr>\n",
       "      <th>50%</th>\n",
       "      <td>0 days 00:00:09</td>\n",
       "      <td>9.000000</td>\n",
       "    </tr>\n",
       "    <tr>\n",
       "      <th>75%</th>\n",
       "      <td>0 days 00:02:50</td>\n",
       "      <td>170.000000</td>\n",
       "    </tr>\n",
       "    <tr>\n",
       "      <th>max</th>\n",
       "      <td>53 days 19:40:25</td>\n",
       "      <td>83762.000000</td>\n",
       "    </tr>\n",
       "  </tbody>\n",
       "</table>\n",
       "</div>"
      ],
      "text/plain": [
       "                    time_diff  time_diff_seconds\n",
       "count                    3963        3963.000000\n",
       "mean   0 days 01:22:52.819328        1876.982841\n",
       "std    0 days 22:22:04.444073        8135.360366\n",
       "min           0 days 00:00:00           0.000000\n",
       "25%           0 days 00:00:00           0.000000\n",
       "50%           0 days 00:00:09           9.000000\n",
       "75%           0 days 00:02:50         170.000000\n",
       "max          53 days 19:40:25       83762.000000"
      ]
     },
     "execution_count": 80,
     "metadata": {},
     "output_type": "execute_result"
    }
   ],
   "source": [
    "df_ico[['time_diff', 'time_diff_seconds']].describe()"
   ]
  },
  {
   "cell_type": "markdown",
   "metadata": {},
   "source": [
    "### 1.4. Histogram for difference in seconds between transactions"
   ]
  },
  {
   "cell_type": "code",
   "execution_count": 81,
   "metadata": {},
   "outputs": [
    {
     "name": "stderr",
     "output_type": "stream",
     "text": [
      "/home/gabriel/miniconda3/envs/scorecard/lib/python3.7/site-packages/numpy/lib/histograms.py:839: RuntimeWarning: invalid value encountered in greater_equal\n",
      "  keep = (tmp_a >= first_edge)\n",
      "/home/gabriel/miniconda3/envs/scorecard/lib/python3.7/site-packages/numpy/lib/histograms.py:840: RuntimeWarning: invalid value encountered in less_equal\n",
      "  keep &= (tmp_a <= last_edge)\n"
     ]
    },
    {
     "data": {
      "text/plain": [
       "(array([3.612e+03, 7.100e+01, 3.800e+01, 2.600e+01, 1.900e+01, 3.200e+01,\n",
       "        7.000e+00, 1.200e+01, 1.800e+01, 1.500e+01, 7.000e+00, 8.000e+00,\n",
       "        6.000e+00, 5.000e+00, 7.000e+00, 5.000e+00, 4.000e+00, 6.000e+00,\n",
       "        8.000e+00, 2.000e+00, 3.000e+00, 5.000e+00, 7.000e+00, 3.000e+00,\n",
       "        2.000e+00, 4.000e+00, 1.000e+00, 4.000e+00, 1.000e+00, 5.000e+00,\n",
       "        2.000e+00, 5.000e+00, 4.000e+00, 2.000e+00, 1.000e+00, 2.000e+00,\n",
       "        1.000e+00, 0.000e+00, 2.000e+00, 1.000e+00]),\n",
       " array([    0.  ,  2094.05,  4188.1 ,  6282.15,  8376.2 , 10470.25,\n",
       "        12564.3 , 14658.35, 16752.4 , 18846.45, 20940.5 , 23034.55,\n",
       "        25128.6 , 27222.65, 29316.7 , 31410.75, 33504.8 , 35598.85,\n",
       "        37692.9 , 39786.95, 41881.  , 43975.05, 46069.1 , 48163.15,\n",
       "        50257.2 , 52351.25, 54445.3 , 56539.35, 58633.4 , 60727.45,\n",
       "        62821.5 , 64915.55, 67009.6 , 69103.65, 71197.7 , 73291.75,\n",
       "        75385.8 , 77479.85, 79573.9 , 81667.95, 83762.  ]),\n",
       " <a list of 40 Patch objects>)"
      ]
     },
     "execution_count": 81,
     "metadata": {},
     "output_type": "execute_result"
    },
    {
     "data": {
      "image/png": "[encoded data removed]",
      "text/plain": [
       "<Figure size 432x288 with 1 Axes>"
      ]
     },
     "metadata": {
      "needs_background": "light"
     },
     "output_type": "display_data"
    }
   ],
   "source": [
    "plt.hist(df_ico['time_diff_seconds'], bins=40)"
   ]
  },
  {
   "cell_type": "code",
   "execution_count": 83,
   "metadata": {},
   "outputs": [
    {
     "data": {
      "text/plain": [
       "(array([2400.,  307.,  201.,  140.,  174.,  100.,   77.]),\n",
       " array([  0,  50, 100, 150, 200, 300, 400, 500]),\n",
       " <a list of 7 Patch objects>)"
      ]
     },
     "execution_count": 83,
     "metadata": {},
     "output_type": "execute_result"
    },
    {
     "data": {
      "image/png": "[encoded data removed]",
      "text/plain": [
       "<Figure size 432x288 with 1 Axes>"
      ]
     },
     "metadata": {
      "needs_background": "light"
     },
     "output_type": "display_data"
    }
   ],
   "source": [
    "#bins_list = [0, 2, 4, 6, 8, 10, 20, 40, 60, 80, 100, 200, 300, 400, 500, 1000]\n",
    "bins_list = [0, 50, 100, 150, 200, 300, 400, 500]\n",
    "\n",
    "plt.hist(df_ico['time_diff_seconds'], bins=bins_list)"
   ]
  },
  {
   "cell_type": "markdown",
   "metadata": {},
   "source": [
    "### 1.5. Plotting the number the transactions per time unit"
   ]
  },
  {
   "cell_type": "code",
   "execution_count": 84,
   "metadata": {},
   "outputs": [],
   "source": [
    "df_ico['counter'] = 1"
   ]
  },
  {
   "cell_type": "code",
   "execution_count": 85,
   "metadata": {},
   "outputs": [],
   "source": [
    "df_ico.set_index('DateTime', inplace=True)"
   ]
  },
  {
   "cell_type": "code",
   "execution_count": 86,
   "metadata": {},
   "outputs": [
    {
     "data": {
      "text/html": [
       "<div>\n",
       "<style scoped>\n",
       "    .dataframe tbody tr th:only-of-type {\n",
       "        vertical-align: middle;\n",
       "    }\n",
       "\n",
       "    .dataframe tbody tr th {\n",
       "        vertical-align: top;\n",
       "    }\n",
       "\n",
       "    .dataframe thead th {\n",
       "        text-align: right;\n",
       "    }\n",
       "</style>\n",
       "<table border=\"1\" class=\"dataframe\">\n",
       "  <thead>\n",
       "    <tr style=\"text-align: right;\">\n",
       "      <th></th>\n",
       "      <th>Txhash</th>\n",
       "      <th>Blockno</th>\n",
       "      <th>UnixTimestamp</th>\n",
       "      <th>From</th>\n",
       "      <th>To</th>\n",
       "      <th>ContractAddress</th>\n",
       "      <th>Value_IN(ETH)</th>\n",
       "      <th>Value_OUT(ETH)</th>\n",
       "      <th>CurrentValue @ $242.14/Eth</th>\n",
       "      <th>TxnFee(ETH)</th>\n",
       "      <th>TxnFee(USD)</th>\n",
       "      <th>Historical $Price/Eth</th>\n",
       "      <th>Status</th>\n",
       "      <th>ErrCode</th>\n",
       "      <th>Unnamed: 15</th>\n",
       "      <th>time_diff</th>\n",
       "      <th>time_diff_seconds</th>\n",
       "      <th>counter</th>\n",
       "    </tr>\n",
       "    <tr>\n",
       "      <th>DateTime</th>\n",
       "      <th></th>\n",
       "      <th></th>\n",
       "      <th></th>\n",
       "      <th></th>\n",
       "      <th></th>\n",
       "      <th></th>\n",
       "      <th></th>\n",
       "      <th></th>\n",
       "      <th></th>\n",
       "      <th></th>\n",
       "      <th></th>\n",
       "      <th></th>\n",
       "      <th></th>\n",
       "      <th></th>\n",
       "      <th></th>\n",
       "      <th></th>\n",
       "      <th></th>\n",
       "      <th></th>\n",
       "    </tr>\n",
       "  </thead>\n",
       "  <tbody>\n",
       "    <tr>\n",
       "      <th>2019-09-26 19:56:15</th>\n",
       "      <td>0x06cea18dc00394f602a7c48935e0e91b9ed1a9fce632...</td>\n",
       "      <td>8626491</td>\n",
       "      <td>1569527775</td>\n",
       "      <td>0xa805e4a1907d7db21409cb1724e31e93b6f65369</td>\n",
       "      <td>NaN</td>\n",
       "      <td>0xd8dc1070b5510583728ee2afd6934877ea2de474</td>\n",
       "      <td>0.0</td>\n",
       "      <td>0</td>\n",
       "      <td>0.0</td>\n",
       "      <td>0.041048</td>\n",
       "      <td>9.939461</td>\n",
       "      <td>166.06</td>\n",
       "      <td>NaN</td>\n",
       "      <td>NaN</td>\n",
       "      <td>NaN</td>\n",
       "      <td>NaT</td>\n",
       "      <td>NaN</td>\n",
       "      <td>1</td>\n",
       "    </tr>\n",
       "    <tr>\n",
       "      <th>2019-09-26 20:02:37</th>\n",
       "      <td>0x48b8600c4eef68f17300b8797b3064c40a9954e5290c...</td>\n",
       "      <td>8626518</td>\n",
       "      <td>1569528157</td>\n",
       "      <td>0xa805e4a1907d7db21409cb1724e31e93b6f65369</td>\n",
       "      <td>0xd8dc1070b5510583728ee2afd6934877ea2de474</td>\n",
       "      <td>NaN</td>\n",
       "      <td>0.0</td>\n",
       "      <td>0</td>\n",
       "      <td>0.0</td>\n",
       "      <td>0.001589</td>\n",
       "      <td>0.384819</td>\n",
       "      <td>166.06</td>\n",
       "      <td>NaN</td>\n",
       "      <td>NaN</td>\n",
       "      <td>NaN</td>\n",
       "      <td>00:06:22</td>\n",
       "      <td>382.0</td>\n",
       "      <td>1</td>\n",
       "    </tr>\n",
       "    <tr>\n",
       "      <th>2019-09-27 01:49:00</th>\n",
       "      <td>0xcb46386ac3a5bfdbac997b4b89c5a2ba550cf9f91a02...</td>\n",
       "      <td>8628049</td>\n",
       "      <td>1569548940</td>\n",
       "      <td>0xa805e4a1907d7db21409cb1724e31e93b6f65369</td>\n",
       "      <td>0xd8dc1070b5510583728ee2afd6934877ea2de474</td>\n",
       "      <td>NaN</td>\n",
       "      <td>0.0</td>\n",
       "      <td>0</td>\n",
       "      <td>0.0</td>\n",
       "      <td>0.007296</td>\n",
       "      <td>1.766691</td>\n",
       "      <td>174.39</td>\n",
       "      <td>NaN</td>\n",
       "      <td>NaN</td>\n",
       "      <td>NaN</td>\n",
       "      <td>05:46:23</td>\n",
       "      <td>20783.0</td>\n",
       "      <td>1</td>\n",
       "    </tr>\n",
       "  </tbody>\n",
       "</table>\n",
       "</div>"
      ],
      "text/plain": [
       "                                                                Txhash  \\\n",
       "DateTime                                                                 \n",
       "2019-09-26 19:56:15  0x06cea18dc00394f602a7c48935e0e91b9ed1a9fce632...   \n",
       "2019-09-26 20:02:37  0x48b8600c4eef68f17300b8797b3064c40a9954e5290c...   \n",
       "2019-09-27 01:49:00  0xcb46386ac3a5bfdbac997b4b89c5a2ba550cf9f91a02...   \n",
       "\n",
       "                     Blockno  UnixTimestamp  \\\n",
       "DateTime                                      \n",
       "2019-09-26 19:56:15  8626491     1569527775   \n",
       "2019-09-26 20:02:37  8626518     1569528157   \n",
       "2019-09-27 01:49:00  8628049     1569548940   \n",
       "\n",
       "                                                           From  \\\n",
       "DateTime                                                          \n",
       "2019-09-26 19:56:15  0xa805e4a1907d7db21409cb1724e31e93b6f65369   \n",
       "2019-09-26 20:02:37  0xa805e4a1907d7db21409cb1724e31e93b6f65369   \n",
       "2019-09-27 01:49:00  0xa805e4a1907d7db21409cb1724e31e93b6f65369   \n",
       "\n",
       "                                                             To  \\\n",
       "DateTime                                                          \n",
       "2019-09-26 19:56:15                                         NaN   \n",
       "2019-09-26 20:02:37  0xd8dc1070b5510583728ee2afd6934877ea2de474   \n",
       "2019-09-27 01:49:00  0xd8dc1070b5510583728ee2afd6934877ea2de474   \n",
       "\n",
       "                                                ContractAddress  \\\n",
       "DateTime                                                          \n",
       "2019-09-26 19:56:15  0xd8dc1070b5510583728ee2afd6934877ea2de474   \n",
       "2019-09-26 20:02:37                                         NaN   \n",
       "2019-09-27 01:49:00                                         NaN   \n",
       "\n",
       "                     Value_IN(ETH)  Value_OUT(ETH)  \\\n",
       "DateTime                                             \n",
       "2019-09-26 19:56:15            0.0               0   \n",
       "2019-09-26 20:02:37            0.0               0   \n",
       "2019-09-27 01:49:00            0.0               0   \n",
       "\n",
       "                     CurrentValue @ $242.14/Eth  TxnFee(ETH)  TxnFee(USD)  \\\n",
       "DateTime                                                                    \n",
       "2019-09-26 19:56:15                         0.0     0.041048     9.939461   \n",
       "2019-09-26 20:02:37                         0.0     0.001589     0.384819   \n",
       "2019-09-27 01:49:00                         0.0     0.007296     1.766691   \n",
       "\n",
       "                     Historical $Price/Eth Status ErrCode  Unnamed: 15  \\\n",
       "DateTime                                                                 \n",
       "2019-09-26 19:56:15                 166.06    NaN     NaN          NaN   \n",
       "2019-09-26 20:02:37                 166.06    NaN     NaN          NaN   \n",
       "2019-09-27 01:49:00                 174.39    NaN     NaN          NaN   \n",
       "\n",
       "                    time_diff  time_diff_seconds  counter  \n",
       "DateTime                                                   \n",
       "2019-09-26 19:56:15       NaT                NaN        1  \n",
       "2019-09-26 20:02:37  00:06:22              382.0        1  \n",
       "2019-09-27 01:49:00  05:46:23            20783.0        1  "
      ]
     },
     "execution_count": 86,
     "metadata": {},
     "output_type": "execute_result"
    }
   ],
   "source": [
    "df_ico.head(3)"
   ]
  },
  {
   "cell_type": "markdown",
   "metadata": {},
   "source": [
    "### By Hour"
   ]
  },
  {
   "cell_type": "code",
   "execution_count": 87,
   "metadata": {},
   "outputs": [
    {
     "data": {
      "text/plain": [
       "<matplotlib.axes._subplots.AxesSubplot at 0x7f7a167ef890>"
      ]
     },
     "execution_count": 87,
     "metadata": {},
     "output_type": "execute_result"
    },
    {
     "data": {
      "image/png": "[encoded data removed]",
      "text/plain": [
       "<Figure size 432x288 with 1 Axes>"
      ]
     },
     "metadata": {
      "needs_background": "light"
     },
     "output_type": "display_data"
    }
   ],
   "source": [
    "df_ico['counter'].resample('H').sum().plot()"
   ]
  },
  {
   "cell_type": "markdown",
   "metadata": {},
   "source": [
    "### Plot by Day"
   ]
  },
  {
   "cell_type": "code",
   "execution_count": 50,
   "metadata": {},
   "outputs": [
    {
     "data": {
      "text/plain": [
       "<matplotlib.axes._subplots.AxesSubplot at 0x7f7a1e428e90>"
      ]
     },
     "execution_count": 50,
     "metadata": {},
     "output_type": "execute_result"
    },
    {
     "data": {
      "image/png": "[encoded data removed]",
      "text/plain": [
       "<Figure size 432x288 with 1 Axes>"
      ]
     },
     "metadata": {
      "needs_background": "light"
     },
     "output_type": "display_data"
    }
   ],
   "source": [
    "df_ico['counter'].resample('D').sum().plot()"
   ]
  },
  {
   "cell_type": "markdown",
   "metadata": {},
   "source": [
    "### by Week"
   ]
  },
  {
   "cell_type": "code",
   "execution_count": 51,
   "metadata": {},
   "outputs": [
    {
     "data": {
      "text/plain": [
       "<matplotlib.axes._subplots.AxesSubplot at 0x7f7a1e352a10>"
      ]
     },
     "execution_count": 51,
     "metadata": {},
     "output_type": "execute_result"
    },
    {
     "data": {
      "image/png": "[encoded data removed]",
      "text/plain": [
       "<Figure size 432x288 with 1 Axes>"
      ]
     },
     "metadata": {
      "needs_background": "light"
     },
     "output_type": "display_data"
    }
   ],
   "source": [
    "df_ico['counter'].resample('W').sum().plot()"
   ]
  },
  {
   "cell_type": "markdown",
   "metadata": {},
   "source": [
    "## 2. Creating relationship between sellers and buyers for ICO transactions"
   ]
  },
  {
   "cell_type": "markdown",
   "metadata": {},
   "source": [
    "### 2.1. Definine 1st order transactions"
   ]
  },
  {
   "cell_type": "code",
   "execution_count": 52,
   "metadata": {},
   "outputs": [
    {
     "data": {
      "text/html": [
       "<div>\n",
       "<style scoped>\n",
       "    .dataframe tbody tr th:only-of-type {\n",
       "        vertical-align: middle;\n",
       "    }\n",
       "\n",
       "    .dataframe tbody tr th {\n",
       "        vertical-align: top;\n",
       "    }\n",
       "\n",
       "    .dataframe thead th {\n",
       "        text-align: right;\n",
       "    }\n",
       "</style>\n",
       "<table border=\"1\" class=\"dataframe\">\n",
       "  <thead>\n",
       "    <tr style=\"text-align: right;\">\n",
       "      <th></th>\n",
       "      <th>Txhash</th>\n",
       "      <th>Blockno</th>\n",
       "      <th>UnixTimestamp</th>\n",
       "      <th>From</th>\n",
       "      <th>To</th>\n",
       "      <th>ContractAddress</th>\n",
       "      <th>Value_IN(ETH)</th>\n",
       "      <th>Value_OUT(ETH)</th>\n",
       "      <th>CurrentValue @ $242.14/Eth</th>\n",
       "      <th>TxnFee(ETH)</th>\n",
       "      <th>TxnFee(USD)</th>\n",
       "      <th>Historical $Price/Eth</th>\n",
       "      <th>Status</th>\n",
       "      <th>ErrCode</th>\n",
       "      <th>Unnamed: 15</th>\n",
       "      <th>time_diff</th>\n",
       "      <th>time_diff_seconds</th>\n",
       "      <th>counter</th>\n",
       "    </tr>\n",
       "    <tr>\n",
       "      <th>DateTime</th>\n",
       "      <th></th>\n",
       "      <th></th>\n",
       "      <th></th>\n",
       "      <th></th>\n",
       "      <th></th>\n",
       "      <th></th>\n",
       "      <th></th>\n",
       "      <th></th>\n",
       "      <th></th>\n",
       "      <th></th>\n",
       "      <th></th>\n",
       "      <th></th>\n",
       "      <th></th>\n",
       "      <th></th>\n",
       "      <th></th>\n",
       "      <th></th>\n",
       "      <th></th>\n",
       "      <th></th>\n",
       "    </tr>\n",
       "  </thead>\n",
       "  <tbody>\n",
       "    <tr>\n",
       "      <th>2019-09-26 19:56:15</th>\n",
       "      <td>0x06cea18dc00394f602a7c48935e0e91b9ed1a9fce632...</td>\n",
       "      <td>8626491</td>\n",
       "      <td>1569527775</td>\n",
       "      <td>0xa805e4a1907d7db21409cb1724e31e93b6f65369</td>\n",
       "      <td>NaN</td>\n",
       "      <td>0xd8dc1070b5510583728ee2afd6934877ea2de474</td>\n",
       "      <td>0.0</td>\n",
       "      <td>0</td>\n",
       "      <td>0.0</td>\n",
       "      <td>0.041048</td>\n",
       "      <td>9.939461</td>\n",
       "      <td>166.06</td>\n",
       "      <td>NaN</td>\n",
       "      <td>NaN</td>\n",
       "      <td>NaN</td>\n",
       "      <td>NaT</td>\n",
       "      <td>NaN</td>\n",
       "      <td>1</td>\n",
       "    </tr>\n",
       "    <tr>\n",
       "      <th>2019-09-26 20:02:37</th>\n",
       "      <td>0x48b8600c4eef68f17300b8797b3064c40a9954e5290c...</td>\n",
       "      <td>8626518</td>\n",
       "      <td>1569528157</td>\n",
       "      <td>0xa805e4a1907d7db21409cb1724e31e93b6f65369</td>\n",
       "      <td>0xd8dc1070b5510583728ee2afd6934877ea2de474</td>\n",
       "      <td>NaN</td>\n",
       "      <td>0.0</td>\n",
       "      <td>0</td>\n",
       "      <td>0.0</td>\n",
       "      <td>0.001589</td>\n",
       "      <td>0.384819</td>\n",
       "      <td>166.06</td>\n",
       "      <td>NaN</td>\n",
       "      <td>NaN</td>\n",
       "      <td>NaN</td>\n",
       "      <td>00:06:22</td>\n",
       "      <td>382.0</td>\n",
       "      <td>1</td>\n",
       "    </tr>\n",
       "    <tr>\n",
       "      <th>2019-09-27 01:49:00</th>\n",
       "      <td>0xcb46386ac3a5bfdbac997b4b89c5a2ba550cf9f91a02...</td>\n",
       "      <td>8628049</td>\n",
       "      <td>1569548940</td>\n",
       "      <td>0xa805e4a1907d7db21409cb1724e31e93b6f65369</td>\n",
       "      <td>0xd8dc1070b5510583728ee2afd6934877ea2de474</td>\n",
       "      <td>NaN</td>\n",
       "      <td>0.0</td>\n",
       "      <td>0</td>\n",
       "      <td>0.0</td>\n",
       "      <td>0.007296</td>\n",
       "      <td>1.766691</td>\n",
       "      <td>174.39</td>\n",
       "      <td>NaN</td>\n",
       "      <td>NaN</td>\n",
       "      <td>NaN</td>\n",
       "      <td>05:46:23</td>\n",
       "      <td>20783.0</td>\n",
       "      <td>1</td>\n",
       "    </tr>\n",
       "  </tbody>\n",
       "</table>\n",
       "</div>"
      ],
      "text/plain": [
       "                                                                Txhash  \\\n",
       "DateTime                                                                 \n",
       "2019-09-26 19:56:15  0x06cea18dc00394f602a7c48935e0e91b9ed1a9fce632...   \n",
       "2019-09-26 20:02:37  0x48b8600c4eef68f17300b8797b3064c40a9954e5290c...   \n",
       "2019-09-27 01:49:00  0xcb46386ac3a5bfdbac997b4b89c5a2ba550cf9f91a02...   \n",
       "\n",
       "                     Blockno  UnixTimestamp  \\\n",
       "DateTime                                      \n",
       "2019-09-26 19:56:15  8626491     1569527775   \n",
       "2019-09-26 20:02:37  8626518     1569528157   \n",
       "2019-09-27 01:49:00  8628049     1569548940   \n",
       "\n",
       "                                                           From  \\\n",
       "DateTime                                                          \n",
       "2019-09-26 19:56:15  0xa805e4a1907d7db21409cb1724e31e93b6f65369   \n",
       "2019-09-26 20:02:37  0xa805e4a1907d7db21409cb1724e31e93b6f65369   \n",
       "2019-09-27 01:49:00  0xa805e4a1907d7db21409cb1724e31e93b6f65369   \n",
       "\n",
       "                                                             To  \\\n",
       "DateTime                                                          \n",
       "2019-09-26 19:56:15                                         NaN   \n",
       "2019-09-26 20:02:37  0xd8dc1070b5510583728ee2afd6934877ea2de474   \n",
       "2019-09-27 01:49:00  0xd8dc1070b5510583728ee2afd6934877ea2de474   \n",
       "\n",
       "                                                ContractAddress  \\\n",
       "DateTime                                                          \n",
       "2019-09-26 19:56:15  0xd8dc1070b5510583728ee2afd6934877ea2de474   \n",
       "2019-09-26 20:02:37                                         NaN   \n",
       "2019-09-27 01:49:00                                         NaN   \n",
       "\n",
       "                     Value_IN(ETH)  Value_OUT(ETH)  \\\n",
       "DateTime                                             \n",
       "2019-09-26 19:56:15            0.0               0   \n",
       "2019-09-26 20:02:37            0.0               0   \n",
       "2019-09-27 01:49:00            0.0               0   \n",
       "\n",
       "                     CurrentValue @ $242.14/Eth  TxnFee(ETH)  TxnFee(USD)  \\\n",
       "DateTime                                                                    \n",
       "2019-09-26 19:56:15                         0.0     0.041048     9.939461   \n",
       "2019-09-26 20:02:37                         0.0     0.001589     0.384819   \n",
       "2019-09-27 01:49:00                         0.0     0.007296     1.766691   \n",
       "\n",
       "                     Historical $Price/Eth Status ErrCode  Unnamed: 15  \\\n",
       "DateTime                                                                 \n",
       "2019-09-26 19:56:15                 166.06    NaN     NaN          NaN   \n",
       "2019-09-26 20:02:37                 166.06    NaN     NaN          NaN   \n",
       "2019-09-27 01:49:00                 174.39    NaN     NaN          NaN   \n",
       "\n",
       "                    time_diff  time_diff_seconds  counter  \n",
       "DateTime                                                   \n",
       "2019-09-26 19:56:15       NaT                NaN        1  \n",
       "2019-09-26 20:02:37  00:06:22              382.0        1  \n",
       "2019-09-27 01:49:00  05:46:23            20783.0        1  "
      ]
     },
     "execution_count": 52,
     "metadata": {},
     "output_type": "execute_result"
    }
   ],
   "source": [
    "df_ico.head(3)"
   ]
  },
  {
   "cell_type": "code",
   "execution_count": 53,
   "metadata": {},
   "outputs": [],
   "source": [
    "df_ico['1st_order'] = df_ico.apply(lambda row: True if row['From'] == '0x0000000000000000000000000000000000000000' else False, axis=1)"
   ]
  },
  {
   "cell_type": "code",
   "execution_count": 54,
   "metadata": {},
   "outputs": [
    {
     "data": {
      "text/plain": [
       "0"
      ]
     },
     "execution_count": 54,
     "metadata": {},
     "output_type": "execute_result"
    }
   ],
   "source": [
    "df_ico['1st_order'].sum()"
   ]
  },
  {
   "cell_type": "code",
   "execution_count": 55,
   "metadata": {},
   "outputs": [
    {
     "data": {
      "text/plain": [
       "Txhash                                 object\n",
       "Blockno                                 int64\n",
       "UnixTimestamp                           int64\n",
       "From                                   object\n",
       "To                                     object\n",
       "ContractAddress                        object\n",
       "Value_IN(ETH)                         float64\n",
       "Value_OUT(ETH)                          int64\n",
       "CurrentValue @ $242.14/Eth            float64\n",
       "TxnFee(ETH)                           float64\n",
       "TxnFee(USD)                           float64\n",
       "Historical $Price/Eth                 float64\n",
       "Status                                 object\n",
       "ErrCode                                object\n",
       "Unnamed: 15                           float64\n",
       "time_diff                     timedelta64[ns]\n",
       "time_diff_seconds                     float64\n",
       "counter                                 int64\n",
       "1st_order                                bool\n",
       "dtype: object"
      ]
     },
     "execution_count": 55,
     "metadata": {},
     "output_type": "execute_result"
    }
   ],
   "source": [
    "df_ico.dtypes"
   ]
  },
  {
   "cell_type": "code",
   "execution_count": 56,
   "metadata": {},
   "outputs": [
    {
     "data": {
      "text/html": [
       "<div>\n",
       "<style scoped>\n",
       "    .dataframe tbody tr th:only-of-type {\n",
       "        vertical-align: middle;\n",
       "    }\n",
       "\n",
       "    .dataframe tbody tr th {\n",
       "        vertical-align: top;\n",
       "    }\n",
       "\n",
       "    .dataframe thead th {\n",
       "        text-align: right;\n",
       "    }\n",
       "</style>\n",
       "<table border=\"1\" class=\"dataframe\">\n",
       "  <thead>\n",
       "    <tr style=\"text-align: right;\">\n",
       "      <th></th>\n",
       "      <th>Txhash</th>\n",
       "      <th>Blockno</th>\n",
       "      <th>UnixTimestamp</th>\n",
       "      <th>From</th>\n",
       "      <th>To</th>\n",
       "      <th>ContractAddress</th>\n",
       "      <th>Value_IN(ETH)</th>\n",
       "      <th>Value_OUT(ETH)</th>\n",
       "      <th>CurrentValue @ $242.14/Eth</th>\n",
       "      <th>TxnFee(ETH)</th>\n",
       "      <th>TxnFee(USD)</th>\n",
       "      <th>Historical $Price/Eth</th>\n",
       "      <th>Status</th>\n",
       "      <th>ErrCode</th>\n",
       "      <th>Unnamed: 15</th>\n",
       "      <th>time_diff</th>\n",
       "      <th>time_diff_seconds</th>\n",
       "      <th>counter</th>\n",
       "      <th>1st_order</th>\n",
       "    </tr>\n",
       "    <tr>\n",
       "      <th>DateTime</th>\n",
       "      <th></th>\n",
       "      <th></th>\n",
       "      <th></th>\n",
       "      <th></th>\n",
       "      <th></th>\n",
       "      <th></th>\n",
       "      <th></th>\n",
       "      <th></th>\n",
       "      <th></th>\n",
       "      <th></th>\n",
       "      <th></th>\n",
       "      <th></th>\n",
       "      <th></th>\n",
       "      <th></th>\n",
       "      <th></th>\n",
       "      <th></th>\n",
       "      <th></th>\n",
       "      <th></th>\n",
       "      <th></th>\n",
       "    </tr>\n",
       "  </thead>\n",
       "  <tbody>\n",
       "  </tbody>\n",
       "</table>\n",
       "</div>"
      ],
      "text/plain": [
       "Empty DataFrame\n",
       "Columns: [Txhash, Blockno, UnixTimestamp, From, To, ContractAddress, Value_IN(ETH), Value_OUT(ETH), CurrentValue @ $242.14/Eth, TxnFee(ETH), TxnFee(USD), Historical $Price/Eth, Status, ErrCode, Unnamed: 15, time_diff, time_diff_seconds, counter, 1st_order]\n",
       "Index: []"
      ]
     },
     "execution_count": 56,
     "metadata": {},
     "output_type": "execute_result"
    }
   ],
   "source": [
    "df_ico[df_ico['1st_order']]"
   ]
  },
  {
   "cell_type": "code",
   "execution_count": 58,
   "metadata": {},
   "outputs": [
    {
     "ename": "KeyError",
     "evalue": "'Quantity'",
     "output_type": "error",
     "traceback": [
      "\u001b[0;31m---------------------------------------------------------------------------\u001b[0m",
      "\u001b[0;31mKeyError\u001b[0m                                  Traceback (most recent call last)",
      "\u001b[0;32m~/miniconda3/envs/scorecard/lib/python3.7/site-packages/pandas/core/indexes/base.py\u001b[0m in \u001b[0;36mget_loc\u001b[0;34m(self, key, method, tolerance)\u001b[0m\n\u001b[1;32m   2645\u001b[0m             \u001b[0;32mtry\u001b[0m\u001b[0;34m:\u001b[0m\u001b[0;34m\u001b[0m\u001b[0;34m\u001b[0m\u001b[0m\n\u001b[0;32m-> 2646\u001b[0;31m                 \u001b[0;32mreturn\u001b[0m \u001b[0mself\u001b[0m\u001b[0;34m.\u001b[0m\u001b[0m_engine\u001b[0m\u001b[0;34m.\u001b[0m\u001b[0mget_loc\u001b[0m\u001b[0;34m(\u001b[0m\u001b[0mkey\u001b[0m\u001b[0;34m)\u001b[0m\u001b[0;34m\u001b[0m\u001b[0;34m\u001b[0m\u001b[0m\n\u001b[0m\u001b[1;32m   2647\u001b[0m             \u001b[0;32mexcept\u001b[0m \u001b[0mKeyError\u001b[0m\u001b[0;34m:\u001b[0m\u001b[0;34m\u001b[0m\u001b[0;34m\u001b[0m\u001b[0m\n",
      "\u001b[0;32mpandas/_libs/index.pyx\u001b[0m in \u001b[0;36mpandas._libs.index.IndexEngine.get_loc\u001b[0;34m()\u001b[0m\n",
      "\u001b[0;32mpandas/_libs/index.pyx\u001b[0m in \u001b[0;36mpandas._libs.index.IndexEngine.get_loc\u001b[0;34m()\u001b[0m\n",
      "\u001b[0;32mpandas/_libs/hashtable_class_helper.pxi\u001b[0m in \u001b[0;36mpandas._libs.hashtable.PyObjectHashTable.get_item\u001b[0;34m()\u001b[0m\n",
      "\u001b[0;32mpandas/_libs/hashtable_class_helper.pxi\u001b[0m in \u001b[0;36mpandas._libs.hashtable.PyObjectHashTable.get_item\u001b[0;34m()\u001b[0m\n",
      "\u001b[0;31mKeyError\u001b[0m: 'Quantity'",
      "\nDuring handling of the above exception, another exception occurred:\n",
      "\u001b[0;31mKeyError\u001b[0m                                  Traceback (most recent call last)",
      "\u001b[0;32m<ipython-input-58-9ba4ba6de1a7>\u001b[0m in \u001b[0;36m<module>\u001b[0;34m\u001b[0m\n\u001b[0;32m----> 1\u001b[0;31m \u001b[0mdf_ico\u001b[0m\u001b[0;34m[\u001b[0m\u001b[0mdf_ico\u001b[0m\u001b[0;34m[\u001b[0m\u001b[0;34m'1st_order'\u001b[0m\u001b[0;34m]\u001b[0m\u001b[0;34m]\u001b[0m\u001b[0;34m.\u001b[0m\u001b[0mresample\u001b[0m\u001b[0;34m(\u001b[0m\u001b[0;34m'D'\u001b[0m\u001b[0;34m)\u001b[0m\u001b[0;34m.\u001b[0m\u001b[0msum\u001b[0m\u001b[0;34m(\u001b[0m\u001b[0;34m)\u001b[0m\u001b[0;34m[\u001b[0m\u001b[0;34m'Quantity'\u001b[0m\u001b[0;34m]\u001b[0m\u001b[0;34m.\u001b[0m\u001b[0mplot\u001b[0m\u001b[0;34m(\u001b[0m\u001b[0mstyle\u001b[0m\u001b[0;34m=\u001b[0m\u001b[0;34m'.-'\u001b[0m\u001b[0;34m)\u001b[0m\u001b[0;34m\u001b[0m\u001b[0;34m\u001b[0m\u001b[0m\n\u001b[0m",
      "\u001b[0;32m~/miniconda3/envs/scorecard/lib/python3.7/site-packages/pandas/core/frame.py\u001b[0m in \u001b[0;36m__getitem__\u001b[0;34m(self, key)\u001b[0m\n\u001b[1;32m   2798\u001b[0m             \u001b[0;32mif\u001b[0m \u001b[0mself\u001b[0m\u001b[0;34m.\u001b[0m\u001b[0mcolumns\u001b[0m\u001b[0;34m.\u001b[0m\u001b[0mnlevels\u001b[0m \u001b[0;34m>\u001b[0m \u001b[0;36m1\u001b[0m\u001b[0;34m:\u001b[0m\u001b[0;34m\u001b[0m\u001b[0;34m\u001b[0m\u001b[0m\n\u001b[1;32m   2799\u001b[0m                 \u001b[0;32mreturn\u001b[0m \u001b[0mself\u001b[0m\u001b[0;34m.\u001b[0m\u001b[0m_getitem_multilevel\u001b[0m\u001b[0;34m(\u001b[0m\u001b[0mkey\u001b[0m\u001b[0;34m)\u001b[0m\u001b[0;34m\u001b[0m\u001b[0;34m\u001b[0m\u001b[0m\n\u001b[0;32m-> 2800\u001b[0;31m             \u001b[0mindexer\u001b[0m \u001b[0;34m=\u001b[0m \u001b[0mself\u001b[0m\u001b[0;34m.\u001b[0m\u001b[0mcolumns\u001b[0m\u001b[0;34m.\u001b[0m\u001b[0mget_loc\u001b[0m\u001b[0;34m(\u001b[0m\u001b[0mkey\u001b[0m\u001b[0;34m)\u001b[0m\u001b[0;34m\u001b[0m\u001b[0;34m\u001b[0m\u001b[0m\n\u001b[0m\u001b[1;32m   2801\u001b[0m             \u001b[0;32mif\u001b[0m \u001b[0mis_integer\u001b[0m\u001b[0;34m(\u001b[0m\u001b[0mindexer\u001b[0m\u001b[0;34m)\u001b[0m\u001b[0;34m:\u001b[0m\u001b[0;34m\u001b[0m\u001b[0;34m\u001b[0m\u001b[0m\n\u001b[1;32m   2802\u001b[0m                 \u001b[0mindexer\u001b[0m \u001b[0;34m=\u001b[0m \u001b[0;34m[\u001b[0m\u001b[0mindexer\u001b[0m\u001b[0;34m]\u001b[0m\u001b[0;34m\u001b[0m\u001b[0;34m\u001b[0m\u001b[0m\n",
      "\u001b[0;32m~/miniconda3/envs/scorecard/lib/python3.7/site-packages/pandas/core/indexes/base.py\u001b[0m in \u001b[0;36mget_loc\u001b[0;34m(self, key, method, tolerance)\u001b[0m\n\u001b[1;32m   2646\u001b[0m                 \u001b[0;32mreturn\u001b[0m \u001b[0mself\u001b[0m\u001b[0;34m.\u001b[0m\u001b[0m_engine\u001b[0m\u001b[0;34m.\u001b[0m\u001b[0mget_loc\u001b[0m\u001b[0;34m(\u001b[0m\u001b[0mkey\u001b[0m\u001b[0;34m)\u001b[0m\u001b[0;34m\u001b[0m\u001b[0;34m\u001b[0m\u001b[0m\n\u001b[1;32m   2647\u001b[0m             \u001b[0;32mexcept\u001b[0m \u001b[0mKeyError\u001b[0m\u001b[0;34m:\u001b[0m\u001b[0;34m\u001b[0m\u001b[0;34m\u001b[0m\u001b[0m\n\u001b[0;32m-> 2648\u001b[0;31m                 \u001b[0;32mreturn\u001b[0m \u001b[0mself\u001b[0m\u001b[0;34m.\u001b[0m\u001b[0m_engine\u001b[0m\u001b[0;34m.\u001b[0m\u001b[0mget_loc\u001b[0m\u001b[0;34m(\u001b[0m\u001b[0mself\u001b[0m\u001b[0;34m.\u001b[0m\u001b[0m_maybe_cast_indexer\u001b[0m\u001b[0;34m(\u001b[0m\u001b[0mkey\u001b[0m\u001b[0;34m)\u001b[0m\u001b[0;34m)\u001b[0m\u001b[0;34m\u001b[0m\u001b[0;34m\u001b[0m\u001b[0m\n\u001b[0m\u001b[1;32m   2649\u001b[0m         \u001b[0mindexer\u001b[0m \u001b[0;34m=\u001b[0m \u001b[0mself\u001b[0m\u001b[0;34m.\u001b[0m\u001b[0mget_indexer\u001b[0m\u001b[0;34m(\u001b[0m\u001b[0;34m[\u001b[0m\u001b[0mkey\u001b[0m\u001b[0;34m]\u001b[0m\u001b[0;34m,\u001b[0m \u001b[0mmethod\u001b[0m\u001b[0;34m=\u001b[0m\u001b[0mmethod\u001b[0m\u001b[0;34m,\u001b[0m \u001b[0mtolerance\u001b[0m\u001b[0;34m=\u001b[0m\u001b[0mtolerance\u001b[0m\u001b[0;34m)\u001b[0m\u001b[0;34m\u001b[0m\u001b[0;34m\u001b[0m\u001b[0m\n\u001b[1;32m   2650\u001b[0m         \u001b[0;32mif\u001b[0m \u001b[0mindexer\u001b[0m\u001b[0;34m.\u001b[0m\u001b[0mndim\u001b[0m \u001b[0;34m>\u001b[0m \u001b[0;36m1\u001b[0m \u001b[0;32mor\u001b[0m \u001b[0mindexer\u001b[0m\u001b[0;34m.\u001b[0m\u001b[0msize\u001b[0m \u001b[0;34m>\u001b[0m \u001b[0;36m1\u001b[0m\u001b[0;34m:\u001b[0m\u001b[0;34m\u001b[0m\u001b[0;34m\u001b[0m\u001b[0m\n",
      "\u001b[0;32mpandas/_libs/index.pyx\u001b[0m in \u001b[0;36mpandas._libs.index.IndexEngine.get_loc\u001b[0;34m()\u001b[0m\n",
      "\u001b[0;32mpandas/_libs/index.pyx\u001b[0m in \u001b[0;36mpandas._libs.index.IndexEngine.get_loc\u001b[0;34m()\u001b[0m\n",
      "\u001b[0;32mpandas/_libs/hashtable_class_helper.pxi\u001b[0m in \u001b[0;36mpandas._libs.hashtable.PyObjectHashTable.get_item\u001b[0;34m()\u001b[0m\n",
      "\u001b[0;32mpandas/_libs/hashtable_class_helper.pxi\u001b[0m in \u001b[0;36mpandas._libs.hashtable.PyObjectHashTable.get_item\u001b[0;34m()\u001b[0m\n",
      "\u001b[0;31mKeyError\u001b[0m: 'Quantity'"
     ]
    }
   ],
   "source": [
    "df_ico[df_ico['1st_order']].resample('D').sum()['Quantity'].plot(style='.-')"
   ]
  },
  {
   "cell_type": "markdown",
   "metadata": {},
   "source": [
    "### 2.2. Definine 2nd order transactions"
   ]
  },
  {
   "cell_type": "code",
   "execution_count": 59,
   "metadata": {},
   "outputs": [
    {
     "data": {
      "text/plain": [
       "0"
      ]
     },
     "execution_count": 59,
     "metadata": {},
     "output_type": "execute_result"
    }
   ],
   "source": [
    "list_1st_order_buyers = list(df_ico[df_ico['1st_order'] == True]['To'].unique())\n",
    "try:\n",
    "    list_1st_order_buyers.remove('0x0000000000000000000000000000000000000000')\n",
    "except:\n",
    "    pass\n",
    "len(list_1st_order_buyers)"
   ]
  },
  {
   "cell_type": "code",
   "execution_count": 60,
   "metadata": {},
   "outputs": [],
   "source": [
    "df_ico['2nd_order'] = df_ico.apply(lambda row: True if row['From'] in list_1st_order_buyers else False, axis=1)"
   ]
  },
  {
   "cell_type": "code",
   "execution_count": 61,
   "metadata": {},
   "outputs": [
    {
     "ename": "KeyError",
     "evalue": "'Quantity'",
     "output_type": "error",
     "traceback": [
      "\u001b[0;31m---------------------------------------------------------------------------\u001b[0m",
      "\u001b[0;31mKeyError\u001b[0m                                  Traceback (most recent call last)",
      "\u001b[0;32m~/miniconda3/envs/scorecard/lib/python3.7/site-packages/pandas/core/indexes/base.py\u001b[0m in \u001b[0;36mget_loc\u001b[0;34m(self, key, method, tolerance)\u001b[0m\n\u001b[1;32m   2645\u001b[0m             \u001b[0;32mtry\u001b[0m\u001b[0;34m:\u001b[0m\u001b[0;34m\u001b[0m\u001b[0;34m\u001b[0m\u001b[0m\n\u001b[0;32m-> 2646\u001b[0;31m                 \u001b[0;32mreturn\u001b[0m \u001b[0mself\u001b[0m\u001b[0;34m.\u001b[0m\u001b[0m_engine\u001b[0m\u001b[0;34m.\u001b[0m\u001b[0mget_loc\u001b[0m\u001b[0;34m(\u001b[0m\u001b[0mkey\u001b[0m\u001b[0;34m)\u001b[0m\u001b[0;34m\u001b[0m\u001b[0;34m\u001b[0m\u001b[0m\n\u001b[0m\u001b[1;32m   2647\u001b[0m             \u001b[0;32mexcept\u001b[0m \u001b[0mKeyError\u001b[0m\u001b[0;34m:\u001b[0m\u001b[0;34m\u001b[0m\u001b[0;34m\u001b[0m\u001b[0m\n",
      "\u001b[0;32mpandas/_libs/index.pyx\u001b[0m in \u001b[0;36mpandas._libs.index.IndexEngine.get_loc\u001b[0;34m()\u001b[0m\n",
      "\u001b[0;32mpandas/_libs/index.pyx\u001b[0m in \u001b[0;36mpandas._libs.index.IndexEngine.get_loc\u001b[0;34m()\u001b[0m\n",
      "\u001b[0;32mpandas/_libs/hashtable_class_helper.pxi\u001b[0m in \u001b[0;36mpandas._libs.hashtable.PyObjectHashTable.get_item\u001b[0;34m()\u001b[0m\n",
      "\u001b[0;32mpandas/_libs/hashtable_class_helper.pxi\u001b[0m in \u001b[0;36mpandas._libs.hashtable.PyObjectHashTable.get_item\u001b[0;34m()\u001b[0m\n",
      "\u001b[0;31mKeyError\u001b[0m: 'Quantity'",
      "\nDuring handling of the above exception, another exception occurred:\n",
      "\u001b[0;31mKeyError\u001b[0m                                  Traceback (most recent call last)",
      "\u001b[0;32m<ipython-input-61-a3845c56d90f>\u001b[0m in \u001b[0;36m<module>\u001b[0;34m\u001b[0m\n\u001b[0;32m----> 1\u001b[0;31m \u001b[0mdf_ico\u001b[0m\u001b[0;34m[\u001b[0m\u001b[0mdf_ico\u001b[0m\u001b[0;34m[\u001b[0m\u001b[0;34m'1st_order'\u001b[0m\u001b[0;34m]\u001b[0m\u001b[0;34m]\u001b[0m\u001b[0;34m.\u001b[0m\u001b[0mresample\u001b[0m\u001b[0;34m(\u001b[0m\u001b[0;34m'D'\u001b[0m\u001b[0;34m)\u001b[0m\u001b[0;34m.\u001b[0m\u001b[0msum\u001b[0m\u001b[0;34m(\u001b[0m\u001b[0;34m)\u001b[0m\u001b[0;34m[\u001b[0m\u001b[0;34m'Quantity'\u001b[0m\u001b[0;34m]\u001b[0m\u001b[0;34m.\u001b[0m\u001b[0mplot\u001b[0m\u001b[0;34m(\u001b[0m\u001b[0mstyle\u001b[0m\u001b[0;34m=\u001b[0m\u001b[0;34m'.-'\u001b[0m\u001b[0;34m)\u001b[0m\u001b[0;34m\u001b[0m\u001b[0;34m\u001b[0m\u001b[0m\n\u001b[0m\u001b[1;32m      2\u001b[0m \u001b[0mdf_ico\u001b[0m\u001b[0;34m[\u001b[0m\u001b[0mdf_ico\u001b[0m\u001b[0;34m[\u001b[0m\u001b[0;34m'2nd_order'\u001b[0m\u001b[0;34m]\u001b[0m\u001b[0;34m]\u001b[0m\u001b[0;34m.\u001b[0m\u001b[0mresample\u001b[0m\u001b[0;34m(\u001b[0m\u001b[0;34m'D'\u001b[0m\u001b[0;34m)\u001b[0m\u001b[0;34m.\u001b[0m\u001b[0msum\u001b[0m\u001b[0;34m(\u001b[0m\u001b[0;34m)\u001b[0m\u001b[0;34m[\u001b[0m\u001b[0;34m'Quantity'\u001b[0m\u001b[0;34m]\u001b[0m\u001b[0;34m.\u001b[0m\u001b[0mplot\u001b[0m\u001b[0;34m(\u001b[0m\u001b[0mstyle\u001b[0m\u001b[0;34m=\u001b[0m\u001b[0;34m'.-'\u001b[0m\u001b[0;34m)\u001b[0m\u001b[0;34m\u001b[0m\u001b[0;34m\u001b[0m\u001b[0m\n",
      "\u001b[0;32m~/miniconda3/envs/scorecard/lib/python3.7/site-packages/pandas/core/frame.py\u001b[0m in \u001b[0;36m__getitem__\u001b[0;34m(self, key)\u001b[0m\n\u001b[1;32m   2798\u001b[0m             \u001b[0;32mif\u001b[0m \u001b[0mself\u001b[0m\u001b[0;34m.\u001b[0m\u001b[0mcolumns\u001b[0m\u001b[0;34m.\u001b[0m\u001b[0mnlevels\u001b[0m \u001b[0;34m>\u001b[0m \u001b[0;36m1\u001b[0m\u001b[0;34m:\u001b[0m\u001b[0;34m\u001b[0m\u001b[0;34m\u001b[0m\u001b[0m\n\u001b[1;32m   2799\u001b[0m                 \u001b[0;32mreturn\u001b[0m \u001b[0mself\u001b[0m\u001b[0;34m.\u001b[0m\u001b[0m_getitem_multilevel\u001b[0m\u001b[0;34m(\u001b[0m\u001b[0mkey\u001b[0m\u001b[0;34m)\u001b[0m\u001b[0;34m\u001b[0m\u001b[0;34m\u001b[0m\u001b[0m\n\u001b[0;32m-> 2800\u001b[0;31m             \u001b[0mindexer\u001b[0m \u001b[0;34m=\u001b[0m \u001b[0mself\u001b[0m\u001b[0;34m.\u001b[0m\u001b[0mcolumns\u001b[0m\u001b[0;34m.\u001b[0m\u001b[0mget_loc\u001b[0m\u001b[0;34m(\u001b[0m\u001b[0mkey\u001b[0m\u001b[0;34m)\u001b[0m\u001b[0;34m\u001b[0m\u001b[0;34m\u001b[0m\u001b[0m\n\u001b[0m\u001b[1;32m   2801\u001b[0m             \u001b[0;32mif\u001b[0m \u001b[0mis_integer\u001b[0m\u001b[0;34m(\u001b[0m\u001b[0mindexer\u001b[0m\u001b[0;34m)\u001b[0m\u001b[0;34m:\u001b[0m\u001b[0;34m\u001b[0m\u001b[0;34m\u001b[0m\u001b[0m\n\u001b[1;32m   2802\u001b[0m                 \u001b[0mindexer\u001b[0m \u001b[0;34m=\u001b[0m \u001b[0;34m[\u001b[0m\u001b[0mindexer\u001b[0m\u001b[0;34m]\u001b[0m\u001b[0;34m\u001b[0m\u001b[0;34m\u001b[0m\u001b[0m\n",
      "\u001b[0;32m~/miniconda3/envs/scorecard/lib/python3.7/site-packages/pandas/core/indexes/base.py\u001b[0m in \u001b[0;36mget_loc\u001b[0;34m(self, key, method, tolerance)\u001b[0m\n\u001b[1;32m   2646\u001b[0m                 \u001b[0;32mreturn\u001b[0m \u001b[0mself\u001b[0m\u001b[0;34m.\u001b[0m\u001b[0m_engine\u001b[0m\u001b[0;34m.\u001b[0m\u001b[0mget_loc\u001b[0m\u001b[0;34m(\u001b[0m\u001b[0mkey\u001b[0m\u001b[0;34m)\u001b[0m\u001b[0;34m\u001b[0m\u001b[0;34m\u001b[0m\u001b[0m\n\u001b[1;32m   2647\u001b[0m             \u001b[0;32mexcept\u001b[0m \u001b[0mKeyError\u001b[0m\u001b[0;34m:\u001b[0m\u001b[0;34m\u001b[0m\u001b[0;34m\u001b[0m\u001b[0m\n\u001b[0;32m-> 2648\u001b[0;31m                 \u001b[0;32mreturn\u001b[0m \u001b[0mself\u001b[0m\u001b[0;34m.\u001b[0m\u001b[0m_engine\u001b[0m\u001b[0;34m.\u001b[0m\u001b[0mget_loc\u001b[0m\u001b[0;34m(\u001b[0m\u001b[0mself\u001b[0m\u001b[0;34m.\u001b[0m\u001b[0m_maybe_cast_indexer\u001b[0m\u001b[0;34m(\u001b[0m\u001b[0mkey\u001b[0m\u001b[0;34m)\u001b[0m\u001b[0;34m)\u001b[0m\u001b[0;34m\u001b[0m\u001b[0;34m\u001b[0m\u001b[0m\n\u001b[0m\u001b[1;32m   2649\u001b[0m         \u001b[0mindexer\u001b[0m \u001b[0;34m=\u001b[0m \u001b[0mself\u001b[0m\u001b[0;34m.\u001b[0m\u001b[0mget_indexer\u001b[0m\u001b[0;34m(\u001b[0m\u001b[0;34m[\u001b[0m\u001b[0mkey\u001b[0m\u001b[0;34m]\u001b[0m\u001b[0;34m,\u001b[0m \u001b[0mmethod\u001b[0m\u001b[0;34m=\u001b[0m\u001b[0mmethod\u001b[0m\u001b[0;34m,\u001b[0m \u001b[0mtolerance\u001b[0m\u001b[0;34m=\u001b[0m\u001b[0mtolerance\u001b[0m\u001b[0;34m)\u001b[0m\u001b[0;34m\u001b[0m\u001b[0;34m\u001b[0m\u001b[0m\n\u001b[1;32m   2650\u001b[0m         \u001b[0;32mif\u001b[0m \u001b[0mindexer\u001b[0m\u001b[0;34m.\u001b[0m\u001b[0mndim\u001b[0m \u001b[0;34m>\u001b[0m \u001b[0;36m1\u001b[0m \u001b[0;32mor\u001b[0m \u001b[0mindexer\u001b[0m\u001b[0;34m.\u001b[0m\u001b[0msize\u001b[0m \u001b[0;34m>\u001b[0m \u001b[0;36m1\u001b[0m\u001b[0;34m:\u001b[0m\u001b[0;34m\u001b[0m\u001b[0;34m\u001b[0m\u001b[0m\n",
      "\u001b[0;32mpandas/_libs/index.pyx\u001b[0m in \u001b[0;36mpandas._libs.index.IndexEngine.get_loc\u001b[0;34m()\u001b[0m\n",
      "\u001b[0;32mpandas/_libs/index.pyx\u001b[0m in \u001b[0;36mpandas._libs.index.IndexEngine.get_loc\u001b[0;34m()\u001b[0m\n",
      "\u001b[0;32mpandas/_libs/hashtable_class_helper.pxi\u001b[0m in \u001b[0;36mpandas._libs.hashtable.PyObjectHashTable.get_item\u001b[0;34m()\u001b[0m\n",
      "\u001b[0;32mpandas/_libs/hashtable_class_helper.pxi\u001b[0m in \u001b[0;36mpandas._libs.hashtable.PyObjectHashTable.get_item\u001b[0;34m()\u001b[0m\n",
      "\u001b[0;31mKeyError\u001b[0m: 'Quantity'"
     ]
    }
   ],
   "source": [
    "df_ico[df_ico['1st_order']].resample('D').sum()['Quantity'].plot(style='.-')\n",
    "df_ico[df_ico['2nd_order']].resample('D').sum()['Quantity'].plot(style='.-')"
   ]
  },
  {
   "cell_type": "markdown",
   "metadata": {},
   "source": [
    "### 2.3. Definine 3rd order transactions"
   ]
  },
  {
   "cell_type": "code",
   "execution_count": 62,
   "metadata": {},
   "outputs": [
    {
     "data": {
      "text/plain": [
       "0"
      ]
     },
     "execution_count": 62,
     "metadata": {},
     "output_type": "execute_result"
    }
   ],
   "source": [
    "list_2st_order_buyers = list(df_ico[df_ico['2nd_order'] == True]['To'].unique())\n",
    "#list_2st_order_buyers.remove('0x0000000000000000000000000000000000000000')\n",
    "len(list_2st_order_buyers)"
   ]
  },
  {
   "cell_type": "code",
   "execution_count": 63,
   "metadata": {},
   "outputs": [],
   "source": [
    "df_ico['3rd_order'] = df_ico.apply(lambda row: True if row['From'] in list_2st_order_buyers else False, axis=1)"
   ]
  },
  {
   "cell_type": "markdown",
   "metadata": {},
   "source": [
    "### 2.4. Visualizing the transactions from differente orders"
   ]
  },
  {
   "cell_type": "code",
   "execution_count": 64,
   "metadata": {},
   "outputs": [
    {
     "ename": "KeyError",
     "evalue": "'Quantity'",
     "output_type": "error",
     "traceback": [
      "\u001b[0;31m---------------------------------------------------------------------------\u001b[0m",
      "\u001b[0;31mKeyError\u001b[0m                                  Traceback (most recent call last)",
      "\u001b[0;32m~/miniconda3/envs/scorecard/lib/python3.7/site-packages/pandas/core/indexes/base.py\u001b[0m in \u001b[0;36mget_loc\u001b[0;34m(self, key, method, tolerance)\u001b[0m\n\u001b[1;32m   2645\u001b[0m             \u001b[0;32mtry\u001b[0m\u001b[0;34m:\u001b[0m\u001b[0;34m\u001b[0m\u001b[0;34m\u001b[0m\u001b[0m\n\u001b[0;32m-> 2646\u001b[0;31m                 \u001b[0;32mreturn\u001b[0m \u001b[0mself\u001b[0m\u001b[0;34m.\u001b[0m\u001b[0m_engine\u001b[0m\u001b[0;34m.\u001b[0m\u001b[0mget_loc\u001b[0m\u001b[0;34m(\u001b[0m\u001b[0mkey\u001b[0m\u001b[0;34m)\u001b[0m\u001b[0;34m\u001b[0m\u001b[0;34m\u001b[0m\u001b[0m\n\u001b[0m\u001b[1;32m   2647\u001b[0m             \u001b[0;32mexcept\u001b[0m \u001b[0mKeyError\u001b[0m\u001b[0;34m:\u001b[0m\u001b[0;34m\u001b[0m\u001b[0;34m\u001b[0m\u001b[0m\n",
      "\u001b[0;32mpandas/_libs/index.pyx\u001b[0m in \u001b[0;36mpandas._libs.index.IndexEngine.get_loc\u001b[0;34m()\u001b[0m\n",
      "\u001b[0;32mpandas/_libs/index.pyx\u001b[0m in \u001b[0;36mpandas._libs.index.IndexEngine.get_loc\u001b[0;34m()\u001b[0m\n",
      "\u001b[0;32mpandas/_libs/hashtable_class_helper.pxi\u001b[0m in \u001b[0;36mpandas._libs.hashtable.PyObjectHashTable.get_item\u001b[0;34m()\u001b[0m\n",
      "\u001b[0;32mpandas/_libs/hashtable_class_helper.pxi\u001b[0m in \u001b[0;36mpandas._libs.hashtable.PyObjectHashTable.get_item\u001b[0;34m()\u001b[0m\n",
      "\u001b[0;31mKeyError\u001b[0m: 'Quantity'",
      "\nDuring handling of the above exception, another exception occurred:\n",
      "\u001b[0;31mKeyError\u001b[0m                                  Traceback (most recent call last)",
      "\u001b[0;32m<ipython-input-64-ab2ba16f4bce>\u001b[0m in \u001b[0;36m<module>\u001b[0;34m\u001b[0m\n\u001b[0;32m----> 1\u001b[0;31m \u001b[0mdf_ico\u001b[0m\u001b[0;34m[\u001b[0m\u001b[0mdf_ico\u001b[0m\u001b[0;34m[\u001b[0m\u001b[0;34m'1st_order'\u001b[0m\u001b[0;34m]\u001b[0m\u001b[0;34m]\u001b[0m\u001b[0;34m.\u001b[0m\u001b[0mresample\u001b[0m\u001b[0;34m(\u001b[0m\u001b[0;34m'D'\u001b[0m\u001b[0;34m)\u001b[0m\u001b[0;34m.\u001b[0m\u001b[0msum\u001b[0m\u001b[0;34m(\u001b[0m\u001b[0;34m)\u001b[0m\u001b[0;34m[\u001b[0m\u001b[0;34m'Quantity'\u001b[0m\u001b[0;34m]\u001b[0m\u001b[0;34m.\u001b[0m\u001b[0mplot\u001b[0m\u001b[0;34m(\u001b[0m\u001b[0mstyle\u001b[0m\u001b[0;34m=\u001b[0m\u001b[0;34m'.-'\u001b[0m\u001b[0;34m)\u001b[0m\u001b[0;34m\u001b[0m\u001b[0;34m\u001b[0m\u001b[0m\n\u001b[0m\u001b[1;32m      2\u001b[0m \u001b[0mdf_ico\u001b[0m\u001b[0;34m[\u001b[0m\u001b[0mdf_ico\u001b[0m\u001b[0;34m[\u001b[0m\u001b[0;34m'2nd_order'\u001b[0m\u001b[0;34m]\u001b[0m\u001b[0;34m]\u001b[0m\u001b[0;34m.\u001b[0m\u001b[0mresample\u001b[0m\u001b[0;34m(\u001b[0m\u001b[0;34m'D'\u001b[0m\u001b[0;34m)\u001b[0m\u001b[0;34m.\u001b[0m\u001b[0msum\u001b[0m\u001b[0;34m(\u001b[0m\u001b[0;34m)\u001b[0m\u001b[0;34m[\u001b[0m\u001b[0;34m'Quantity'\u001b[0m\u001b[0;34m]\u001b[0m\u001b[0;34m.\u001b[0m\u001b[0mplot\u001b[0m\u001b[0;34m(\u001b[0m\u001b[0mstyle\u001b[0m\u001b[0;34m=\u001b[0m\u001b[0;34m'.-'\u001b[0m\u001b[0;34m)\u001b[0m\u001b[0;34m\u001b[0m\u001b[0;34m\u001b[0m\u001b[0m\n\u001b[1;32m      3\u001b[0m \u001b[0mdf_ico\u001b[0m\u001b[0;34m[\u001b[0m\u001b[0mdf_ico\u001b[0m\u001b[0;34m[\u001b[0m\u001b[0;34m'3rd_order'\u001b[0m\u001b[0;34m]\u001b[0m\u001b[0;34m]\u001b[0m\u001b[0;34m.\u001b[0m\u001b[0mresample\u001b[0m\u001b[0;34m(\u001b[0m\u001b[0;34m'D'\u001b[0m\u001b[0;34m)\u001b[0m\u001b[0;34m.\u001b[0m\u001b[0msum\u001b[0m\u001b[0;34m(\u001b[0m\u001b[0;34m)\u001b[0m\u001b[0;34m[\u001b[0m\u001b[0;34m'Quantity'\u001b[0m\u001b[0;34m]\u001b[0m\u001b[0;34m.\u001b[0m\u001b[0mplot\u001b[0m\u001b[0;34m(\u001b[0m\u001b[0mstyle\u001b[0m\u001b[0;34m=\u001b[0m\u001b[0;34m'.-'\u001b[0m\u001b[0;34m)\u001b[0m\u001b[0;34m\u001b[0m\u001b[0;34m\u001b[0m\u001b[0m\n\u001b[1;32m      4\u001b[0m \u001b[0mplt\u001b[0m\u001b[0;34m.\u001b[0m\u001b[0mlegend\u001b[0m\u001b[0;34m(\u001b[0m\u001b[0;34m[\u001b[0m\u001b[0;34m'1st_order'\u001b[0m\u001b[0;34m,\u001b[0m \u001b[0;34m'2nd_order'\u001b[0m\u001b[0;34m,\u001b[0m \u001b[0;34m'3rd_order'\u001b[0m\u001b[0;34m]\u001b[0m\u001b[0;34m)\u001b[0m\u001b[0;34m\u001b[0m\u001b[0;34m\u001b[0m\u001b[0m\n",
      "\u001b[0;32m~/miniconda3/envs/scorecard/lib/python3.7/site-packages/pandas/core/frame.py\u001b[0m in \u001b[0;36m__getitem__\u001b[0;34m(self, key)\u001b[0m\n\u001b[1;32m   2798\u001b[0m             \u001b[0;32mif\u001b[0m \u001b[0mself\u001b[0m\u001b[0;34m.\u001b[0m\u001b[0mcolumns\u001b[0m\u001b[0;34m.\u001b[0m\u001b[0mnlevels\u001b[0m \u001b[0;34m>\u001b[0m \u001b[0;36m1\u001b[0m\u001b[0;34m:\u001b[0m\u001b[0;34m\u001b[0m\u001b[0;34m\u001b[0m\u001b[0m\n\u001b[1;32m   2799\u001b[0m                 \u001b[0;32mreturn\u001b[0m \u001b[0mself\u001b[0m\u001b[0;34m.\u001b[0m\u001b[0m_getitem_multilevel\u001b[0m\u001b[0;34m(\u001b[0m\u001b[0mkey\u001b[0m\u001b[0;34m)\u001b[0m\u001b[0;34m\u001b[0m\u001b[0;34m\u001b[0m\u001b[0m\n\u001b[0;32m-> 2800\u001b[0;31m             \u001b[0mindexer\u001b[0m \u001b[0;34m=\u001b[0m \u001b[0mself\u001b[0m\u001b[0;34m.\u001b[0m\u001b[0mcolumns\u001b[0m\u001b[0;34m.\u001b[0m\u001b[0mget_loc\u001b[0m\u001b[0;34m(\u001b[0m\u001b[0mkey\u001b[0m\u001b[0;34m)\u001b[0m\u001b[0;34m\u001b[0m\u001b[0;34m\u001b[0m\u001b[0m\n\u001b[0m\u001b[1;32m   2801\u001b[0m             \u001b[0;32mif\u001b[0m \u001b[0mis_integer\u001b[0m\u001b[0;34m(\u001b[0m\u001b[0mindexer\u001b[0m\u001b[0;34m)\u001b[0m\u001b[0;34m:\u001b[0m\u001b[0;34m\u001b[0m\u001b[0;34m\u001b[0m\u001b[0m\n\u001b[1;32m   2802\u001b[0m                 \u001b[0mindexer\u001b[0m \u001b[0;34m=\u001b[0m \u001b[0;34m[\u001b[0m\u001b[0mindexer\u001b[0m\u001b[0;34m]\u001b[0m\u001b[0;34m\u001b[0m\u001b[0;34m\u001b[0m\u001b[0m\n",
      "\u001b[0;32m~/miniconda3/envs/scorecard/lib/python3.7/site-packages/pandas/core/indexes/base.py\u001b[0m in \u001b[0;36mget_loc\u001b[0;34m(self, key, method, tolerance)\u001b[0m\n\u001b[1;32m   2646\u001b[0m                 \u001b[0;32mreturn\u001b[0m \u001b[0mself\u001b[0m\u001b[0;34m.\u001b[0m\u001b[0m_engine\u001b[0m\u001b[0;34m.\u001b[0m\u001b[0mget_loc\u001b[0m\u001b[0;34m(\u001b[0m\u001b[0mkey\u001b[0m\u001b[0;34m)\u001b[0m\u001b[0;34m\u001b[0m\u001b[0;34m\u001b[0m\u001b[0m\n\u001b[1;32m   2647\u001b[0m             \u001b[0;32mexcept\u001b[0m \u001b[0mKeyError\u001b[0m\u001b[0;34m:\u001b[0m\u001b[0;34m\u001b[0m\u001b[0;34m\u001b[0m\u001b[0m\n\u001b[0;32m-> 2648\u001b[0;31m                 \u001b[0;32mreturn\u001b[0m \u001b[0mself\u001b[0m\u001b[0;34m.\u001b[0m\u001b[0m_engine\u001b[0m\u001b[0;34m.\u001b[0m\u001b[0mget_loc\u001b[0m\u001b[0;34m(\u001b[0m\u001b[0mself\u001b[0m\u001b[0;34m.\u001b[0m\u001b[0m_maybe_cast_indexer\u001b[0m\u001b[0;34m(\u001b[0m\u001b[0mkey\u001b[0m\u001b[0;34m)\u001b[0m\u001b[0;34m)\u001b[0m\u001b[0;34m\u001b[0m\u001b[0;34m\u001b[0m\u001b[0m\n\u001b[0m\u001b[1;32m   2649\u001b[0m         \u001b[0mindexer\u001b[0m \u001b[0;34m=\u001b[0m \u001b[0mself\u001b[0m\u001b[0;34m.\u001b[0m\u001b[0mget_indexer\u001b[0m\u001b[0;34m(\u001b[0m\u001b[0;34m[\u001b[0m\u001b[0mkey\u001b[0m\u001b[0;34m]\u001b[0m\u001b[0;34m,\u001b[0m \u001b[0mmethod\u001b[0m\u001b[0;34m=\u001b[0m\u001b[0mmethod\u001b[0m\u001b[0;34m,\u001b[0m \u001b[0mtolerance\u001b[0m\u001b[0;34m=\u001b[0m\u001b[0mtolerance\u001b[0m\u001b[0;34m)\u001b[0m\u001b[0;34m\u001b[0m\u001b[0;34m\u001b[0m\u001b[0m\n\u001b[1;32m   2650\u001b[0m         \u001b[0;32mif\u001b[0m \u001b[0mindexer\u001b[0m\u001b[0;34m.\u001b[0m\u001b[0mndim\u001b[0m \u001b[0;34m>\u001b[0m \u001b[0;36m1\u001b[0m \u001b[0;32mor\u001b[0m \u001b[0mindexer\u001b[0m\u001b[0;34m.\u001b[0m\u001b[0msize\u001b[0m \u001b[0;34m>\u001b[0m \u001b[0;36m1\u001b[0m\u001b[0;34m:\u001b[0m\u001b[0;34m\u001b[0m\u001b[0;34m\u001b[0m\u001b[0m\n",
      "\u001b[0;32mpandas/_libs/index.pyx\u001b[0m in \u001b[0;36mpandas._libs.index.IndexEngine.get_loc\u001b[0;34m()\u001b[0m\n",
      "\u001b[0;32mpandas/_libs/index.pyx\u001b[0m in \u001b[0;36mpandas._libs.index.IndexEngine.get_loc\u001b[0;34m()\u001b[0m\n",
      "\u001b[0;32mpandas/_libs/hashtable_class_helper.pxi\u001b[0m in \u001b[0;36mpandas._libs.hashtable.PyObjectHashTable.get_item\u001b[0;34m()\u001b[0m\n",
      "\u001b[0;32mpandas/_libs/hashtable_class_helper.pxi\u001b[0m in \u001b[0;36mpandas._libs.hashtable.PyObjectHashTable.get_item\u001b[0;34m()\u001b[0m\n",
      "\u001b[0;31mKeyError\u001b[0m: 'Quantity'"
     ]
    }
   ],
   "source": [
    "df_ico[df_ico['1st_order']].resample('D').sum()['Quantity'].plot(style='.-')\n",
    "df_ico[df_ico['2nd_order']].resample('D').sum()['Quantity'].plot(style='.-')\n",
    "df_ico[df_ico['3rd_order']].resample('D').sum()['Quantity'].plot(style='.-')\n",
    "plt.legend(['1st_order', '2nd_order', '3rd_order'])"
   ]
  },
  {
   "cell_type": "markdown",
   "metadata": {},
   "source": [
    "## 3. Acumulated value for `TxnFee(ETH)`\t"
   ]
  },
  {
   "cell_type": "code",
   "execution_count": 65,
   "metadata": {},
   "outputs": [
    {
     "data": {
      "text/html": [
       "<div>\n",
       "<style scoped>\n",
       "    .dataframe tbody tr th:only-of-type {\n",
       "        vertical-align: middle;\n",
       "    }\n",
       "\n",
       "    .dataframe tbody tr th {\n",
       "        vertical-align: top;\n",
       "    }\n",
       "\n",
       "    .dataframe thead th {\n",
       "        text-align: right;\n",
       "    }\n",
       "</style>\n",
       "<table border=\"1\" class=\"dataframe\">\n",
       "  <thead>\n",
       "    <tr style=\"text-align: right;\">\n",
       "      <th></th>\n",
       "      <th>Txhash</th>\n",
       "      <th>Blockno</th>\n",
       "      <th>UnixTimestamp</th>\n",
       "      <th>From</th>\n",
       "      <th>To</th>\n",
       "      <th>ContractAddress</th>\n",
       "      <th>Value_IN(ETH)</th>\n",
       "      <th>Value_OUT(ETH)</th>\n",
       "      <th>CurrentValue @ $242.14/Eth</th>\n",
       "      <th>TxnFee(ETH)</th>\n",
       "      <th>...</th>\n",
       "      <th>Historical $Price/Eth</th>\n",
       "      <th>Status</th>\n",
       "      <th>ErrCode</th>\n",
       "      <th>Unnamed: 15</th>\n",
       "      <th>time_diff</th>\n",
       "      <th>time_diff_seconds</th>\n",
       "      <th>counter</th>\n",
       "      <th>1st_order</th>\n",
       "      <th>2nd_order</th>\n",
       "      <th>3rd_order</th>\n",
       "    </tr>\n",
       "    <tr>\n",
       "      <th>DateTime</th>\n",
       "      <th></th>\n",
       "      <th></th>\n",
       "      <th></th>\n",
       "      <th></th>\n",
       "      <th></th>\n",
       "      <th></th>\n",
       "      <th></th>\n",
       "      <th></th>\n",
       "      <th></th>\n",
       "      <th></th>\n",
       "      <th></th>\n",
       "      <th></th>\n",
       "      <th></th>\n",
       "      <th></th>\n",
       "      <th></th>\n",
       "      <th></th>\n",
       "      <th></th>\n",
       "      <th></th>\n",
       "      <th></th>\n",
       "      <th></th>\n",
       "      <th></th>\n",
       "    </tr>\n",
       "  </thead>\n",
       "  <tbody>\n",
       "    <tr>\n",
       "      <th>2019-09-26 19:56:15</th>\n",
       "      <td>0x06cea18dc00394f602a7c48935e0e91b9ed1a9fce632...</td>\n",
       "      <td>8626491</td>\n",
       "      <td>1569527775</td>\n",
       "      <td>0xa805e4a1907d7db21409cb1724e31e93b6f65369</td>\n",
       "      <td>NaN</td>\n",
       "      <td>0xd8dc1070b5510583728ee2afd6934877ea2de474</td>\n",
       "      <td>0.0</td>\n",
       "      <td>0</td>\n",
       "      <td>0.0</td>\n",
       "      <td>0.041048</td>\n",
       "      <td>...</td>\n",
       "      <td>166.06</td>\n",
       "      <td>NaN</td>\n",
       "      <td>NaN</td>\n",
       "      <td>NaN</td>\n",
       "      <td>NaT</td>\n",
       "      <td>NaN</td>\n",
       "      <td>1</td>\n",
       "      <td>False</td>\n",
       "      <td>False</td>\n",
       "      <td>False</td>\n",
       "    </tr>\n",
       "    <tr>\n",
       "      <th>2019-09-26 20:02:37</th>\n",
       "      <td>0x48b8600c4eef68f17300b8797b3064c40a9954e5290c...</td>\n",
       "      <td>8626518</td>\n",
       "      <td>1569528157</td>\n",
       "      <td>0xa805e4a1907d7db21409cb1724e31e93b6f65369</td>\n",
       "      <td>0xd8dc1070b5510583728ee2afd6934877ea2de474</td>\n",
       "      <td>NaN</td>\n",
       "      <td>0.0</td>\n",
       "      <td>0</td>\n",
       "      <td>0.0</td>\n",
       "      <td>0.001589</td>\n",
       "      <td>...</td>\n",
       "      <td>166.06</td>\n",
       "      <td>NaN</td>\n",
       "      <td>NaN</td>\n",
       "      <td>NaN</td>\n",
       "      <td>00:06:22</td>\n",
       "      <td>382.0</td>\n",
       "      <td>1</td>\n",
       "      <td>False</td>\n",
       "      <td>False</td>\n",
       "      <td>False</td>\n",
       "    </tr>\n",
       "    <tr>\n",
       "      <th>2019-09-27 01:49:00</th>\n",
       "      <td>0xcb46386ac3a5bfdbac997b4b89c5a2ba550cf9f91a02...</td>\n",
       "      <td>8628049</td>\n",
       "      <td>1569548940</td>\n",
       "      <td>0xa805e4a1907d7db21409cb1724e31e93b6f65369</td>\n",
       "      <td>0xd8dc1070b5510583728ee2afd6934877ea2de474</td>\n",
       "      <td>NaN</td>\n",
       "      <td>0.0</td>\n",
       "      <td>0</td>\n",
       "      <td>0.0</td>\n",
       "      <td>0.007296</td>\n",
       "      <td>...</td>\n",
       "      <td>174.39</td>\n",
       "      <td>NaN</td>\n",
       "      <td>NaN</td>\n",
       "      <td>NaN</td>\n",
       "      <td>05:46:23</td>\n",
       "      <td>20783.0</td>\n",
       "      <td>1</td>\n",
       "      <td>False</td>\n",
       "      <td>False</td>\n",
       "      <td>False</td>\n",
       "    </tr>\n",
       "    <tr>\n",
       "      <th>2019-09-27 02:56:49</th>\n",
       "      <td>0x88f213efc49f01bf65de14afa22bd6646ee2850b19ef...</td>\n",
       "      <td>8628364</td>\n",
       "      <td>1569553009</td>\n",
       "      <td>0x9c5fd85a035129f7ea1e6b61f915a98a96a15a22</td>\n",
       "      <td>0xd8dc1070b5510583728ee2afd6934877ea2de474</td>\n",
       "      <td>NaN</td>\n",
       "      <td>0.0</td>\n",
       "      <td>0</td>\n",
       "      <td>0.0</td>\n",
       "      <td>0.001080</td>\n",
       "      <td>...</td>\n",
       "      <td>174.39</td>\n",
       "      <td>Error(0)</td>\n",
       "      <td>Out of gas</td>\n",
       "      <td>NaN</td>\n",
       "      <td>01:07:49</td>\n",
       "      <td>4069.0</td>\n",
       "      <td>1</td>\n",
       "      <td>False</td>\n",
       "      <td>False</td>\n",
       "      <td>False</td>\n",
       "    </tr>\n",
       "    <tr>\n",
       "      <th>2019-09-27 02:58:52</th>\n",
       "      <td>0xd72e18a9a68a2b4b39fb2fe01927ea7d9cdffdd5535e...</td>\n",
       "      <td>8628370</td>\n",
       "      <td>1569553132</td>\n",
       "      <td>0x07195ba1de6b040198760bcdbc28c0cfcb6c9773</td>\n",
       "      <td>0xd8dc1070b5510583728ee2afd6934877ea2de474</td>\n",
       "      <td>NaN</td>\n",
       "      <td>0.0</td>\n",
       "      <td>0</td>\n",
       "      <td>0.0</td>\n",
       "      <td>0.000332</td>\n",
       "      <td>...</td>\n",
       "      <td>174.39</td>\n",
       "      <td>Error(0)</td>\n",
       "      <td>Out of gas</td>\n",
       "      <td>NaN</td>\n",
       "      <td>00:02:03</td>\n",
       "      <td>123.0</td>\n",
       "      <td>1</td>\n",
       "      <td>False</td>\n",
       "      <td>False</td>\n",
       "      <td>False</td>\n",
       "    </tr>\n",
       "  </tbody>\n",
       "</table>\n",
       "<p>5 rows × 21 columns</p>\n",
       "</div>"
      ],
      "text/plain": [
       "                                                                Txhash  \\\n",
       "DateTime                                                                 \n",
       "2019-09-26 19:56:15  0x06cea18dc00394f602a7c48935e0e91b9ed1a9fce632...   \n",
       "2019-09-26 20:02:37  0x48b8600c4eef68f17300b8797b3064c40a9954e5290c...   \n",
       "2019-09-27 01:49:00  0xcb46386ac3a5bfdbac997b4b89c5a2ba550cf9f91a02...   \n",
       "2019-09-27 02:56:49  0x88f213efc49f01bf65de14afa22bd6646ee2850b19ef...   \n",
       "2019-09-27 02:58:52  0xd72e18a9a68a2b4b39fb2fe01927ea7d9cdffdd5535e...   \n",
       "\n",
       "                     Blockno  UnixTimestamp  \\\n",
       "DateTime                                      \n",
       "2019-09-26 19:56:15  8626491     1569527775   \n",
       "2019-09-26 20:02:37  8626518     1569528157   \n",
       "2019-09-27 01:49:00  8628049     1569548940   \n",
       "2019-09-27 02:56:49  8628364     1569553009   \n",
       "2019-09-27 02:58:52  8628370     1569553132   \n",
       "\n",
       "                                                           From  \\\n",
       "DateTime                                                          \n",
       "2019-09-26 19:56:15  0xa805e4a1907d7db21409cb1724e31e93b6f65369   \n",
       "2019-09-26 20:02:37  0xa805e4a1907d7db21409cb1724e31e93b6f65369   \n",
       "2019-09-27 01:49:00  0xa805e4a1907d7db21409cb1724e31e93b6f65369   \n",
       "2019-09-27 02:56:49  0x9c5fd85a035129f7ea1e6b61f915a98a96a15a22   \n",
       "2019-09-27 02:58:52  0x07195ba1de6b040198760bcdbc28c0cfcb6c9773   \n",
       "\n",
       "                                                             To  \\\n",
       "DateTime                                                          \n",
       "2019-09-26 19:56:15                                         NaN   \n",
       "2019-09-26 20:02:37  0xd8dc1070b5510583728ee2afd6934877ea2de474   \n",
       "2019-09-27 01:49:00  0xd8dc1070b5510583728ee2afd6934877ea2de474   \n",
       "2019-09-27 02:56:49  0xd8dc1070b5510583728ee2afd6934877ea2de474   \n",
       "2019-09-27 02:58:52  0xd8dc1070b5510583728ee2afd6934877ea2de474   \n",
       "\n",
       "                                                ContractAddress  \\\n",
       "DateTime                                                          \n",
       "2019-09-26 19:56:15  0xd8dc1070b5510583728ee2afd6934877ea2de474   \n",
       "2019-09-26 20:02:37                                         NaN   \n",
       "2019-09-27 01:49:00                                         NaN   \n",
       "2019-09-27 02:56:49                                         NaN   \n",
       "2019-09-27 02:58:52                                         NaN   \n",
       "\n",
       "                     Value_IN(ETH)  Value_OUT(ETH)  \\\n",
       "DateTime                                             \n",
       "2019-09-26 19:56:15            0.0               0   \n",
       "2019-09-26 20:02:37            0.0               0   \n",
       "2019-09-27 01:49:00            0.0               0   \n",
       "2019-09-27 02:56:49            0.0               0   \n",
       "2019-09-27 02:58:52            0.0               0   \n",
       "\n",
       "                     CurrentValue @ $242.14/Eth  TxnFee(ETH)  ...  \\\n",
       "DateTime                                                      ...   \n",
       "2019-09-26 19:56:15                         0.0     0.041048  ...   \n",
       "2019-09-26 20:02:37                         0.0     0.001589  ...   \n",
       "2019-09-27 01:49:00                         0.0     0.007296  ...   \n",
       "2019-09-27 02:56:49                         0.0     0.001080  ...   \n",
       "2019-09-27 02:58:52                         0.0     0.000332  ...   \n",
       "\n",
       "                     Historical $Price/Eth    Status     ErrCode Unnamed: 15  \\\n",
       "DateTime                                                                       \n",
       "2019-09-26 19:56:15                 166.06       NaN         NaN         NaN   \n",
       "2019-09-26 20:02:37                 166.06       NaN         NaN         NaN   \n",
       "2019-09-27 01:49:00                 174.39       NaN         NaN         NaN   \n",
       "2019-09-27 02:56:49                 174.39  Error(0)  Out of gas         NaN   \n",
       "2019-09-27 02:58:52                 174.39  Error(0)  Out of gas         NaN   \n",
       "\n",
       "                     time_diff time_diff_seconds  counter  1st_order  \\\n",
       "DateTime                                                               \n",
       "2019-09-26 19:56:15        NaT               NaN        1      False   \n",
       "2019-09-26 20:02:37   00:06:22             382.0        1      False   \n",
       "2019-09-27 01:49:00   05:46:23           20783.0        1      False   \n",
       "2019-09-27 02:56:49   01:07:49            4069.0        1      False   \n",
       "2019-09-27 02:58:52   00:02:03             123.0        1      False   \n",
       "\n",
       "                     2nd_order  3rd_order  \n",
       "DateTime                                   \n",
       "2019-09-26 19:56:15      False      False  \n",
       "2019-09-26 20:02:37      False      False  \n",
       "2019-09-27 01:49:00      False      False  \n",
       "2019-09-27 02:56:49      False      False  \n",
       "2019-09-27 02:58:52      False      False  \n",
       "\n",
       "[5 rows x 21 columns]"
      ]
     },
     "execution_count": 65,
     "metadata": {},
     "output_type": "execute_result"
    }
   ],
   "source": [
    "df_ico.head()"
   ]
  },
  {
   "cell_type": "code",
   "execution_count": 66,
   "metadata": {},
   "outputs": [
    {
     "data": {
      "text/plain": [
       "<matplotlib.axes._subplots.AxesSubplot at 0x7f7a1e0f29d0>"
      ]
     },
     "execution_count": 66,
     "metadata": {},
     "output_type": "execute_result"
    },
    {
     "data": {
      "image/png": "[encoded data removed]",
      "text/plain": [
       "<Figure size 432x288 with 1 Axes>"
      ]
     },
     "metadata": {
      "needs_background": "light"
     },
     "output_type": "display_data"
    }
   ],
   "source": [
    "df_ico['TxnFee(ETH)'].cumsum().plot()"
   ]
  },
  {
   "cell_type": "markdown",
   "metadata": {},
   "source": [
    "### 3.1. Acumulated plot for Quantity in token file"
   ]
  },
  {
   "cell_type": "code",
   "execution_count": 67,
   "metadata": {},
   "outputs": [
    {
     "data": {
      "text/html": [
       "<div>\n",
       "<style scoped>\n",
       "    .dataframe tbody tr th:only-of-type {\n",
       "        vertical-align: middle;\n",
       "    }\n",
       "\n",
       "    .dataframe tbody tr th {\n",
       "        vertical-align: top;\n",
       "    }\n",
       "\n",
       "    .dataframe thead th {\n",
       "        text-align: right;\n",
       "    }\n",
       "</style>\n",
       "<table border=\"1\" class=\"dataframe\">\n",
       "  <thead>\n",
       "    <tr style=\"text-align: right;\">\n",
       "      <th></th>\n",
       "      <th>Txhash</th>\n",
       "      <th>Blockno</th>\n",
       "      <th>UnixTimestamp</th>\n",
       "      <th>From</th>\n",
       "      <th>To</th>\n",
       "      <th>Quantity</th>\n",
       "    </tr>\n",
       "    <tr>\n",
       "      <th>DateTime</th>\n",
       "      <th></th>\n",
       "      <th></th>\n",
       "      <th></th>\n",
       "      <th></th>\n",
       "      <th></th>\n",
       "      <th></th>\n",
       "    </tr>\n",
       "  </thead>\n",
       "  <tbody>\n",
       "    <tr>\n",
       "      <th>2020-04-30 00:51:23</th>\n",
       "      <td>0xe521693f2ad765dad0084538eb0f546d6b17658e11d2...</td>\n",
       "      <td>9970811</td>\n",
       "      <td>1588207883</td>\n",
       "      <td>0x2254a4a42bbbbbad5b5634439fa007b5ec2873f5</td>\n",
       "      <td>0x1a65c01bcaf31cfe498fb513d24906bfab61819b</td>\n",
       "      <td>0.000000</td>\n",
       "    </tr>\n",
       "    <tr>\n",
       "      <th>2020-04-30 01:05:34</th>\n",
       "      <td>0x05e644438c32ededfff56f312b2dba930e23a52d6082...</td>\n",
       "      <td>9970882</td>\n",
       "      <td>1588208734</td>\n",
       "      <td>0x2254a4a42bbbbbad5b5634439fa007b5ec2873f5</td>\n",
       "      <td>0x1a65c01bcaf31cfe498fb513d24906bfab61819b</td>\n",
       "      <td>1600.000000</td>\n",
       "    </tr>\n",
       "    <tr>\n",
       "      <th>2020-05-03 03:07:25</th>\n",
       "      <td>0xd0ce872b80b6ef3a4f078a45749ae702708fbfe4ca12...</td>\n",
       "      <td>9990723</td>\n",
       "      <td>1588475245</td>\n",
       "      <td>0xb983562984465912a7798c20d8997ffb6092a01d</td>\n",
       "      <td>0x6b71dcaa3fb9a4901491b748074a314dad9e980b</td>\n",
       "      <td>585210.953656</td>\n",
       "    </tr>\n",
       "    <tr>\n",
       "      <th>2020-05-04 04:41:33</th>\n",
       "      <td>0xc9616b8c2e904ea0866f2589e12f0c05c11f0932f756...</td>\n",
       "      <td>9997606</td>\n",
       "      <td>1588567293</td>\n",
       "      <td>0x24e7b906006260179707dcd32c0a7504567d8c74</td>\n",
       "      <td>0xf6b31d10f9731a6885944c9666c1626a0be110b7</td>\n",
       "      <td>500.000000</td>\n",
       "    </tr>\n",
       "    <tr>\n",
       "      <th>2020-05-11 22:10:58</th>\n",
       "      <td>0x217dd46bfef0eaffcad4551088d801bf446ea9f1d6d3...</td>\n",
       "      <td>10047558</td>\n",
       "      <td>1589235058</td>\n",
       "      <td>0x4f782d7e916f0d562b9bf47a87cc5f02c6edbeb5</td>\n",
       "      <td>0x77c0bce4cfca0dde4d5c2140a5557f9d46e64d2d</td>\n",
       "      <td>1000.000000</td>\n",
       "    </tr>\n",
       "  </tbody>\n",
       "</table>\n",
       "</div>"
      ],
      "text/plain": [
       "                                                                Txhash  \\\n",
       "DateTime                                                                 \n",
       "2020-04-30 00:51:23  0xe521693f2ad765dad0084538eb0f546d6b17658e11d2...   \n",
       "2020-04-30 01:05:34  0x05e644438c32ededfff56f312b2dba930e23a52d6082...   \n",
       "2020-05-03 03:07:25  0xd0ce872b80b6ef3a4f078a45749ae702708fbfe4ca12...   \n",
       "2020-05-04 04:41:33  0xc9616b8c2e904ea0866f2589e12f0c05c11f0932f756...   \n",
       "2020-05-11 22:10:58  0x217dd46bfef0eaffcad4551088d801bf446ea9f1d6d3...   \n",
       "\n",
       "                      Blockno  UnixTimestamp  \\\n",
       "DateTime                                       \n",
       "2020-04-30 00:51:23   9970811     1588207883   \n",
       "2020-04-30 01:05:34   9970882     1588208734   \n",
       "2020-05-03 03:07:25   9990723     1588475245   \n",
       "2020-05-04 04:41:33   9997606     1588567293   \n",
       "2020-05-11 22:10:58  10047558     1589235058   \n",
       "\n",
       "                                                           From  \\\n",
       "DateTime                                                          \n",
       "2020-04-30 00:51:23  0x2254a4a42bbbbbad5b5634439fa007b5ec2873f5   \n",
       "2020-04-30 01:05:34  0x2254a4a42bbbbbad5b5634439fa007b5ec2873f5   \n",
       "2020-05-03 03:07:25  0xb983562984465912a7798c20d8997ffb6092a01d   \n",
       "2020-05-04 04:41:33  0x24e7b906006260179707dcd32c0a7504567d8c74   \n",
       "2020-05-11 22:10:58  0x4f782d7e916f0d562b9bf47a87cc5f02c6edbeb5   \n",
       "\n",
       "                                                             To       Quantity  \n",
       "DateTime                                                                        \n",
       "2020-04-30 00:51:23  0x1a65c01bcaf31cfe498fb513d24906bfab61819b       0.000000  \n",
       "2020-04-30 01:05:34  0x1a65c01bcaf31cfe498fb513d24906bfab61819b    1600.000000  \n",
       "2020-05-03 03:07:25  0x6b71dcaa3fb9a4901491b748074a314dad9e980b  585210.953656  \n",
       "2020-05-04 04:41:33  0xf6b31d10f9731a6885944c9666c1626a0be110b7     500.000000  \n",
       "2020-05-11 22:10:58  0x77c0bce4cfca0dde4d5c2140a5557f9d46e64d2d    1000.000000  "
      ]
     },
     "execution_count": 67,
     "metadata": {},
     "output_type": "execute_result"
    }
   ],
   "source": [
    "file_path = '../data_and_models/dadosicocomsucesso/AIGO_T.csv'\n",
    "df_token = pd.read_csv(file_path, sep=';')\n",
    "df_token.DateTime = pd.to_datetime(df_token.DateTime)\n",
    "df_token.set_index('DateTime', inplace=True)\n",
    "df_token.tail()"
   ]
  },
  {
   "cell_type": "code",
   "execution_count": 68,
   "metadata": {},
   "outputs": [
    {
     "data": {
      "text/plain": [
       "<matplotlib.axes._subplots.AxesSubplot at 0x7f7a1e0591d0>"
      ]
     },
     "execution_count": 68,
     "metadata": {},
     "output_type": "execute_result"
    },
    {
     "data": {
      "image/png": "[encoded data removed]",
      "text/plain": [
       "<Figure size 432x288 with 1 Axes>"
      ]
     },
     "metadata": {
      "needs_background": "light"
     },
     "output_type": "display_data"
    }
   ],
   "source": [
    "df_token['Quantity'].cumsum().plot()"
   ]
  },
  {
   "cell_type": "markdown",
   "metadata": {},
   "source": [
    "## 4. Crossing the TxHash from Smart Contract and Tokens tables"
   ]
  },
  {
   "cell_type": "code",
   "execution_count": 69,
   "metadata": {},
   "outputs": [],
   "source": [
    "import matplotlib.pyplot as plt\n",
    "from matplotlib_venn import venn2"
   ]
  },
  {
   "cell_type": "code",
   "execution_count": 70,
   "metadata": {},
   "outputs": [],
   "source": [
    "set_sc_txhash = set(df_ico.Txhash.to_list())\n",
    "set_t_txhash = set(df_token.Txhash.to_list())"
   ]
  },
  {
   "cell_type": "code",
   "execution_count": 71,
   "metadata": {},
   "outputs": [
    {
     "data": {
      "image/png": "[encoded data removed]",
      "text/plain": [
       "<Figure size 432x288 with 1 Axes>"
      ]
     },
     "metadata": {},
     "output_type": "display_data"
    }
   ],
   "source": [
    "venn2([set_sc_txhash, set_t_txhash], set_labels=('Smart Contract', 'Tokens'), set_colors=('orange', 'blue'),)\n",
    "plt.show() "
   ]
  },
  {
   "cell_type": "markdown",
   "metadata": {},
   "source": [
    "## 5. Defining the start of the ICO\n",
    "The idea for this session is to stablish a way to define the start of the ICO by looking at the transactions."
   ]
  },
  {
   "cell_type": "code",
   "execution_count": 72,
   "metadata": {},
   "outputs": [
    {
     "data": {
      "text/html": [
       "<div>\n",
       "<style scoped>\n",
       "    .dataframe tbody tr th:only-of-type {\n",
       "        vertical-align: middle;\n",
       "    }\n",
       "\n",
       "    .dataframe tbody tr th {\n",
       "        vertical-align: top;\n",
       "    }\n",
       "\n",
       "    .dataframe thead th {\n",
       "        text-align: right;\n",
       "    }\n",
       "</style>\n",
       "<table border=\"1\" class=\"dataframe\">\n",
       "  <thead>\n",
       "    <tr style=\"text-align: right;\">\n",
       "      <th></th>\n",
       "      <th>Txhash</th>\n",
       "      <th>Blockno</th>\n",
       "      <th>UnixTimestamp</th>\n",
       "      <th>From</th>\n",
       "      <th>To</th>\n",
       "      <th>ContractAddress</th>\n",
       "      <th>Value_IN(ETH)</th>\n",
       "      <th>Value_OUT(ETH)</th>\n",
       "      <th>CurrentValue @ $242.14/Eth</th>\n",
       "      <th>TxnFee(ETH)</th>\n",
       "      <th>...</th>\n",
       "      <th>Historical $Price/Eth</th>\n",
       "      <th>Status</th>\n",
       "      <th>ErrCode</th>\n",
       "      <th>Unnamed: 15</th>\n",
       "      <th>time_diff</th>\n",
       "      <th>time_diff_seconds</th>\n",
       "      <th>counter</th>\n",
       "      <th>1st_order</th>\n",
       "      <th>2nd_order</th>\n",
       "      <th>3rd_order</th>\n",
       "    </tr>\n",
       "    <tr>\n",
       "      <th>DateTime</th>\n",
       "      <th></th>\n",
       "      <th></th>\n",
       "      <th></th>\n",
       "      <th></th>\n",
       "      <th></th>\n",
       "      <th></th>\n",
       "      <th></th>\n",
       "      <th></th>\n",
       "      <th></th>\n",
       "      <th></th>\n",
       "      <th></th>\n",
       "      <th></th>\n",
       "      <th></th>\n",
       "      <th></th>\n",
       "      <th></th>\n",
       "      <th></th>\n",
       "      <th></th>\n",
       "      <th></th>\n",
       "      <th></th>\n",
       "      <th></th>\n",
       "      <th></th>\n",
       "    </tr>\n",
       "  </thead>\n",
       "  <tbody>\n",
       "    <tr>\n",
       "      <th>2019-09-26 19:56:15</th>\n",
       "      <td>0x06cea18dc00394f602a7c48935e0e91b9ed1a9fce632...</td>\n",
       "      <td>8626491</td>\n",
       "      <td>1569527775</td>\n",
       "      <td>0xa805e4a1907d7db21409cb1724e31e93b6f65369</td>\n",
       "      <td>NaN</td>\n",
       "      <td>0xd8dc1070b5510583728ee2afd6934877ea2de474</td>\n",
       "      <td>0.0</td>\n",
       "      <td>0</td>\n",
       "      <td>0.0</td>\n",
       "      <td>0.041048</td>\n",
       "      <td>...</td>\n",
       "      <td>166.06</td>\n",
       "      <td>NaN</td>\n",
       "      <td>NaN</td>\n",
       "      <td>NaN</td>\n",
       "      <td>NaT</td>\n",
       "      <td>NaN</td>\n",
       "      <td>1</td>\n",
       "      <td>False</td>\n",
       "      <td>False</td>\n",
       "      <td>False</td>\n",
       "    </tr>\n",
       "    <tr>\n",
       "      <th>2019-09-26 20:02:37</th>\n",
       "      <td>0x48b8600c4eef68f17300b8797b3064c40a9954e5290c...</td>\n",
       "      <td>8626518</td>\n",
       "      <td>1569528157</td>\n",
       "      <td>0xa805e4a1907d7db21409cb1724e31e93b6f65369</td>\n",
       "      <td>0xd8dc1070b5510583728ee2afd6934877ea2de474</td>\n",
       "      <td>NaN</td>\n",
       "      <td>0.0</td>\n",
       "      <td>0</td>\n",
       "      <td>0.0</td>\n",
       "      <td>0.001589</td>\n",
       "      <td>...</td>\n",
       "      <td>166.06</td>\n",
       "      <td>NaN</td>\n",
       "      <td>NaN</td>\n",
       "      <td>NaN</td>\n",
       "      <td>00:06:22</td>\n",
       "      <td>382.0</td>\n",
       "      <td>1</td>\n",
       "      <td>False</td>\n",
       "      <td>False</td>\n",
       "      <td>False</td>\n",
       "    </tr>\n",
       "    <tr>\n",
       "      <th>2019-09-27 01:49:00</th>\n",
       "      <td>0xcb46386ac3a5bfdbac997b4b89c5a2ba550cf9f91a02...</td>\n",
       "      <td>8628049</td>\n",
       "      <td>1569548940</td>\n",
       "      <td>0xa805e4a1907d7db21409cb1724e31e93b6f65369</td>\n",
       "      <td>0xd8dc1070b5510583728ee2afd6934877ea2de474</td>\n",
       "      <td>NaN</td>\n",
       "      <td>0.0</td>\n",
       "      <td>0</td>\n",
       "      <td>0.0</td>\n",
       "      <td>0.007296</td>\n",
       "      <td>...</td>\n",
       "      <td>174.39</td>\n",
       "      <td>NaN</td>\n",
       "      <td>NaN</td>\n",
       "      <td>NaN</td>\n",
       "      <td>05:46:23</td>\n",
       "      <td>20783.0</td>\n",
       "      <td>1</td>\n",
       "      <td>False</td>\n",
       "      <td>False</td>\n",
       "      <td>False</td>\n",
       "    </tr>\n",
       "    <tr>\n",
       "      <th>2019-09-27 02:56:49</th>\n",
       "      <td>0x88f213efc49f01bf65de14afa22bd6646ee2850b19ef...</td>\n",
       "      <td>8628364</td>\n",
       "      <td>1569553009</td>\n",
       "      <td>0x9c5fd85a035129f7ea1e6b61f915a98a96a15a22</td>\n",
       "      <td>0xd8dc1070b5510583728ee2afd6934877ea2de474</td>\n",
       "      <td>NaN</td>\n",
       "      <td>0.0</td>\n",
       "      <td>0</td>\n",
       "      <td>0.0</td>\n",
       "      <td>0.001080</td>\n",
       "      <td>...</td>\n",
       "      <td>174.39</td>\n",
       "      <td>Error(0)</td>\n",
       "      <td>Out of gas</td>\n",
       "      <td>NaN</td>\n",
       "      <td>01:07:49</td>\n",
       "      <td>4069.0</td>\n",
       "      <td>1</td>\n",
       "      <td>False</td>\n",
       "      <td>False</td>\n",
       "      <td>False</td>\n",
       "    </tr>\n",
       "    <tr>\n",
       "      <th>2019-09-27 02:58:52</th>\n",
       "      <td>0xd72e18a9a68a2b4b39fb2fe01927ea7d9cdffdd5535e...</td>\n",
       "      <td>8628370</td>\n",
       "      <td>1569553132</td>\n",
       "      <td>0x07195ba1de6b040198760bcdbc28c0cfcb6c9773</td>\n",
       "      <td>0xd8dc1070b5510583728ee2afd6934877ea2de474</td>\n",
       "      <td>NaN</td>\n",
       "      <td>0.0</td>\n",
       "      <td>0</td>\n",
       "      <td>0.0</td>\n",
       "      <td>0.000332</td>\n",
       "      <td>...</td>\n",
       "      <td>174.39</td>\n",
       "      <td>Error(0)</td>\n",
       "      <td>Out of gas</td>\n",
       "      <td>NaN</td>\n",
       "      <td>00:02:03</td>\n",
       "      <td>123.0</td>\n",
       "      <td>1</td>\n",
       "      <td>False</td>\n",
       "      <td>False</td>\n",
       "      <td>False</td>\n",
       "    </tr>\n",
       "  </tbody>\n",
       "</table>\n",
       "<p>5 rows × 21 columns</p>\n",
       "</div>"
      ],
      "text/plain": [
       "                                                                Txhash  \\\n",
       "DateTime                                                                 \n",
       "2019-09-26 19:56:15  0x06cea18dc00394f602a7c48935e0e91b9ed1a9fce632...   \n",
       "2019-09-26 20:02:37  0x48b8600c4eef68f17300b8797b3064c40a9954e5290c...   \n",
       "2019-09-27 01:49:00  0xcb46386ac3a5bfdbac997b4b89c5a2ba550cf9f91a02...   \n",
       "2019-09-27 02:56:49  0x88f213efc49f01bf65de14afa22bd6646ee2850b19ef...   \n",
       "2019-09-27 02:58:52  0xd72e18a9a68a2b4b39fb2fe01927ea7d9cdffdd5535e...   \n",
       "\n",
       "                     Blockno  UnixTimestamp  \\\n",
       "DateTime                                      \n",
       "2019-09-26 19:56:15  8626491     1569527775   \n",
       "2019-09-26 20:02:37  8626518     1569528157   \n",
       "2019-09-27 01:49:00  8628049     1569548940   \n",
       "2019-09-27 02:56:49  8628364     1569553009   \n",
       "2019-09-27 02:58:52  8628370     1569553132   \n",
       "\n",
       "                                                           From  \\\n",
       "DateTime                                                          \n",
       "2019-09-26 19:56:15  0xa805e4a1907d7db21409cb1724e31e93b6f65369   \n",
       "2019-09-26 20:02:37  0xa805e4a1907d7db21409cb1724e31e93b6f65369   \n",
       "2019-09-27 01:49:00  0xa805e4a1907d7db21409cb1724e31e93b6f65369   \n",
       "2019-09-27 02:56:49  0x9c5fd85a035129f7ea1e6b61f915a98a96a15a22   \n",
       "2019-09-27 02:58:52  0x07195ba1de6b040198760bcdbc28c0cfcb6c9773   \n",
       "\n",
       "                                                             To  \\\n",
       "DateTime                                                          \n",
       "2019-09-26 19:56:15                                         NaN   \n",
       "2019-09-26 20:02:37  0xd8dc1070b5510583728ee2afd6934877ea2de474   \n",
       "2019-09-27 01:49:00  0xd8dc1070b5510583728ee2afd6934877ea2de474   \n",
       "2019-09-27 02:56:49  0xd8dc1070b5510583728ee2afd6934877ea2de474   \n",
       "2019-09-27 02:58:52  0xd8dc1070b5510583728ee2afd6934877ea2de474   \n",
       "\n",
       "                                                ContractAddress  \\\n",
       "DateTime                                                          \n",
       "2019-09-26 19:56:15  0xd8dc1070b5510583728ee2afd6934877ea2de474   \n",
       "2019-09-26 20:02:37                                         NaN   \n",
       "2019-09-27 01:49:00                                         NaN   \n",
       "2019-09-27 02:56:49                                         NaN   \n",
       "2019-09-27 02:58:52                                         NaN   \n",
       "\n",
       "                     Value_IN(ETH)  Value_OUT(ETH)  \\\n",
       "DateTime                                             \n",
       "2019-09-26 19:56:15            0.0               0   \n",
       "2019-09-26 20:02:37            0.0               0   \n",
       "2019-09-27 01:49:00            0.0               0   \n",
       "2019-09-27 02:56:49            0.0               0   \n",
       "2019-09-27 02:58:52            0.0               0   \n",
       "\n",
       "                     CurrentValue @ $242.14/Eth  TxnFee(ETH)  ...  \\\n",
       "DateTime                                                      ...   \n",
       "2019-09-26 19:56:15                         0.0     0.041048  ...   \n",
       "2019-09-26 20:02:37                         0.0     0.001589  ...   \n",
       "2019-09-27 01:49:00                         0.0     0.007296  ...   \n",
       "2019-09-27 02:56:49                         0.0     0.001080  ...   \n",
       "2019-09-27 02:58:52                         0.0     0.000332  ...   \n",
       "\n",
       "                     Historical $Price/Eth    Status     ErrCode Unnamed: 15  \\\n",
       "DateTime                                                                       \n",
       "2019-09-26 19:56:15                 166.06       NaN         NaN         NaN   \n",
       "2019-09-26 20:02:37                 166.06       NaN         NaN         NaN   \n",
       "2019-09-27 01:49:00                 174.39       NaN         NaN         NaN   \n",
       "2019-09-27 02:56:49                 174.39  Error(0)  Out of gas         NaN   \n",
       "2019-09-27 02:58:52                 174.39  Error(0)  Out of gas         NaN   \n",
       "\n",
       "                     time_diff time_diff_seconds  counter  1st_order  \\\n",
       "DateTime                                                               \n",
       "2019-09-26 19:56:15        NaT               NaN        1      False   \n",
       "2019-09-26 20:02:37   00:06:22             382.0        1      False   \n",
       "2019-09-27 01:49:00   05:46:23           20783.0        1      False   \n",
       "2019-09-27 02:56:49   01:07:49            4069.0        1      False   \n",
       "2019-09-27 02:58:52   00:02:03             123.0        1      False   \n",
       "\n",
       "                     2nd_order  3rd_order  \n",
       "DateTime                                   \n",
       "2019-09-26 19:56:15      False      False  \n",
       "2019-09-26 20:02:37      False      False  \n",
       "2019-09-27 01:49:00      False      False  \n",
       "2019-09-27 02:56:49      False      False  \n",
       "2019-09-27 02:58:52      False      False  \n",
       "\n",
       "[5 rows x 21 columns]"
      ]
     },
     "execution_count": 72,
     "metadata": {},
     "output_type": "execute_result"
    }
   ],
   "source": [
    "df_ico.head()"
   ]
  },
  {
   "cell_type": "code",
   "execution_count": 73,
   "metadata": {},
   "outputs": [
    {
     "ename": "AttributeError",
     "evalue": "'DataFrame' object has no attribute 'Quantity'",
     "output_type": "error",
     "traceback": [
      "\u001b[0;31m---------------------------------------------------------------------------\u001b[0m",
      "\u001b[0;31mAttributeError\u001b[0m                            Traceback (most recent call last)",
      "\u001b[0;32m<ipython-input-73-5ff681302764>\u001b[0m in \u001b[0;36m<module>\u001b[0;34m\u001b[0m\n\u001b[0;32m----> 1\u001b[0;31m \u001b[0mdf_ico\u001b[0m\u001b[0;34m.\u001b[0m\u001b[0mQuantity\u001b[0m\u001b[0;34m.\u001b[0m\u001b[0mplot\u001b[0m\u001b[0;34m(\u001b[0m\u001b[0;34m)\u001b[0m\u001b[0;34m\u001b[0m\u001b[0;34m\u001b[0m\u001b[0m\n\u001b[0m",
      "\u001b[0;32m~/miniconda3/envs/scorecard/lib/python3.7/site-packages/pandas/core/generic.py\u001b[0m in \u001b[0;36m__getattr__\u001b[0;34m(self, name)\u001b[0m\n\u001b[1;32m   5272\u001b[0m             \u001b[0;32mif\u001b[0m \u001b[0mself\u001b[0m\u001b[0;34m.\u001b[0m\u001b[0m_info_axis\u001b[0m\u001b[0;34m.\u001b[0m\u001b[0m_can_hold_identifiers_and_holds_name\u001b[0m\u001b[0;34m(\u001b[0m\u001b[0mname\u001b[0m\u001b[0;34m)\u001b[0m\u001b[0;34m:\u001b[0m\u001b[0;34m\u001b[0m\u001b[0;34m\u001b[0m\u001b[0m\n\u001b[1;32m   5273\u001b[0m                 \u001b[0;32mreturn\u001b[0m \u001b[0mself\u001b[0m\u001b[0;34m[\u001b[0m\u001b[0mname\u001b[0m\u001b[0;34m]\u001b[0m\u001b[0;34m\u001b[0m\u001b[0;34m\u001b[0m\u001b[0m\n\u001b[0;32m-> 5274\u001b[0;31m             \u001b[0;32mreturn\u001b[0m \u001b[0mobject\u001b[0m\u001b[0;34m.\u001b[0m\u001b[0m__getattribute__\u001b[0m\u001b[0;34m(\u001b[0m\u001b[0mself\u001b[0m\u001b[0;34m,\u001b[0m \u001b[0mname\u001b[0m\u001b[0;34m)\u001b[0m\u001b[0;34m\u001b[0m\u001b[0;34m\u001b[0m\u001b[0m\n\u001b[0m\u001b[1;32m   5275\u001b[0m \u001b[0;34m\u001b[0m\u001b[0m\n\u001b[1;32m   5276\u001b[0m     \u001b[0;32mdef\u001b[0m \u001b[0m__setattr__\u001b[0m\u001b[0;34m(\u001b[0m\u001b[0mself\u001b[0m\u001b[0;34m,\u001b[0m \u001b[0mname\u001b[0m\u001b[0;34m:\u001b[0m \u001b[0mstr\u001b[0m\u001b[0;34m,\u001b[0m \u001b[0mvalue\u001b[0m\u001b[0;34m)\u001b[0m \u001b[0;34m->\u001b[0m \u001b[0;32mNone\u001b[0m\u001b[0;34m:\u001b[0m\u001b[0;34m\u001b[0m\u001b[0;34m\u001b[0m\u001b[0m\n",
      "\u001b[0;31mAttributeError\u001b[0m: 'DataFrame' object has no attribute 'Quantity'"
     ]
    }
   ],
   "source": [
    "df_ico.Quantity.plot()"
   ]
  },
  {
   "cell_type": "markdown",
   "metadata": {},
   "source": [
    "### TxnFee vs. Number of Transactions"
   ]
  },
  {
   "cell_type": "code",
   "execution_count": null,
   "metadata": {},
   "outputs": [],
   "source": []
  },
  {
   "cell_type": "code",
   "execution_count": 133,
   "metadata": {},
   "outputs": [
    {
     "data": {
      "text/html": [
       "<div>\n",
       "<style scoped>\n",
       "    .dataframe tbody tr th:only-of-type {\n",
       "        vertical-align: middle;\n",
       "    }\n",
       "\n",
       "    .dataframe tbody tr th {\n",
       "        vertical-align: top;\n",
       "    }\n",
       "\n",
       "    .dataframe thead th {\n",
       "        text-align: right;\n",
       "    }\n",
       "</style>\n",
       "<table border=\"1\" class=\"dataframe\">\n",
       "  <thead>\n",
       "    <tr style=\"text-align: right;\">\n",
       "      <th></th>\n",
       "      <th>TxnFee(ETH)</th>\n",
       "      <th>counter</th>\n",
       "    </tr>\n",
       "    <tr>\n",
       "      <th>DateTime</th>\n",
       "      <th></th>\n",
       "      <th></th>\n",
       "    </tr>\n",
       "  </thead>\n",
       "  <tbody>\n",
       "    <tr>\n",
       "      <th>2019-09-26</th>\n",
       "      <td>0.042638</td>\n",
       "      <td>2</td>\n",
       "    </tr>\n",
       "    <tr>\n",
       "      <th>2019-09-27</th>\n",
       "      <td>1.823193</td>\n",
       "      <td>905</td>\n",
       "    </tr>\n",
       "    <tr>\n",
       "      <th>2019-09-28</th>\n",
       "      <td>0.580917</td>\n",
       "      <td>991</td>\n",
       "    </tr>\n",
       "    <tr>\n",
       "      <th>2019-09-29</th>\n",
       "      <td>0.239000</td>\n",
       "      <td>476</td>\n",
       "    </tr>\n",
       "    <tr>\n",
       "      <th>2019-09-30</th>\n",
       "      <td>0.068185</td>\n",
       "      <td>307</td>\n",
       "    </tr>\n",
       "  </tbody>\n",
       "</table>\n",
       "</div>"
      ],
      "text/plain": [
       "            TxnFee(ETH)  counter\n",
       "DateTime                        \n",
       "2019-09-26     0.042638        2\n",
       "2019-09-27     1.823193      905\n",
       "2019-09-28     0.580917      991\n",
       "2019-09-29     0.239000      476\n",
       "2019-09-30     0.068185      307"
      ]
     },
     "execution_count": 133,
     "metadata": {},
     "output_type": "execute_result"
    }
   ],
   "source": [
    "df_resample_sc_day = df_ico.resample('D').sum()[['TxnFee(ETH)', 'counter']]\n",
    "df_resample_sc_hour = df_ico.resample('H').sum()[['TxnFee(ETH)', 'counter']]\n",
    "\n",
    "df_resample_sc_day.head()"
   ]
  },
  {
   "cell_type": "code",
   "execution_count": 130,
   "metadata": {},
   "outputs": [
    {
     "data": {
      "text/plain": [
       "[<matplotlib.lines.Line2D at 0x7f7a12658cd0>]"
      ]
     },
     "execution_count": 130,
     "metadata": {},
     "output_type": "execute_result"
    },
    {
     "data": {
      "image/png": "[encoded data removed]",
      "text/plain": [
       "<Figure size 432x288 with 1 Axes>"
      ]
     },
     "metadata": {
      "needs_background": "light"
     },
     "output_type": "display_data"
    }
   ],
   "source": [
    "plt.bar(df_resample_sc_day.index, df_resample_sc_day.counter, )\n",
    "plt.plot(df_resample_sc_day.index, df_resample_sc_day['TxnFee(ETH)'] )"
   ]
  },
  {
   "cell_type": "code",
   "execution_count": 134,
   "metadata": {},
   "outputs": [
    {
     "data": {
      "text/plain": [
       "<Figure size 1440x720 with 0 Axes>"
      ]
     },
     "execution_count": 134,
     "metadata": {},
     "output_type": "execute_result"
    },
    {
     "data": {
      "image/png": "[encoded data removed]",
      "text/plain": [
       "<Figure size 1440x720 with 2 Axes>"
      ]
     },
     "metadata": {
      "needs_background": "light"
     },
     "output_type": "display_data"
    },
    {
     "data": {
      "text/plain": [
       "<Figure size 1440x720 with 0 Axes>"
      ]
     },
     "metadata": {},
     "output_type": "display_data"
    }
   ],
   "source": [
    "fig, ax1 = plt.subplots(figsize=(20,10))\n",
    "\n",
    "color = 'tab:red'\n",
    "#ax1.set_xlabel('time (s)')\n",
    "ax1.set_ylabel('exp', color=color)\n",
    "ax1.plot(df_resample_sc_day.index, df_resample_sc_day['TxnFee(ETH)'] )\n",
    "#ax1.tick_params(axis='y', labelcolor=color)\n",
    "\n",
    "ax2 = ax1.twinx()  # instantiate a second axes that shares the same x-axis\n",
    "\n",
    "color = 'tab:blue'\n",
    "#ax2.set_ylabel('sin', color=color)  # we already handled the x-label with ax1\n",
    "ax2.bar(df_resample_sc_day.index, df_resample_sc_day.counter )\n",
    "#ax2.tick_params(axis='y', labelcolor=color)\n",
    "\n",
    "plt.figure(figsize=(20,10))\n",
    "#fig.tight_layout()  # otherwise the right y-label is slightly clipped\n",
    "#plt.show()\n"
   ]
  },
  {
   "cell_type": "code",
   "execution_count": 135,
   "metadata": {},
   "outputs": [
    {
     "data": {
      "text/plain": [
       "<Figure size 1440x720 with 0 Axes>"
      ]
     },
     "execution_count": 135,
     "metadata": {},
     "output_type": "execute_result"
    },
    {
     "data": {
      "image/png": "[encoded data removed]",
      "text/plain": [
       "<Figure size 1440x720 with 2 Axes>"
      ]
     },
     "metadata": {
      "needs_background": "light"
     },
     "output_type": "display_data"
    },
    {
     "data": {
      "text/plain": [
       "<Figure size 1440x720 with 0 Axes>"
      ]
     },
     "metadata": {},
     "output_type": "display_data"
    }
   ],
   "source": [
    "fig, ax1 = plt.subplots(figsize=(20,10))\n",
    "\n",
    "color = 'tab:red'\n",
    "#ax1.set_xlabel('time (s)')\n",
    "ax1.set_ylabel('exp', color=color)\n",
    "ax1.plot(df_resample_sc_hour.index, df_resample_sc_hour['TxnFee(ETH)'] )\n",
    "#ax1.tick_params(axis='y', labelcolor=color)\n",
    "\n",
    "ax2 = ax1.twinx()  # instantiate a second axes that shares the same x-axis\n",
    "\n",
    "color = 'tab:blue'\n",
    "#ax2.set_ylabel('sin', color=color)  # we already handled the x-label with ax1\n",
    "ax2.bar(df_resample_sc_hour.index, df_resample_sc_hour.counter )\n",
    "#ax2.tick_params(axis='y', labelcolor=color)\n",
    "\n",
    "plt.figure(figsize=(20,10))\n",
    "#fig.tight_layout()  # otherwise the right y-label is slightly clipped\n",
    "#plt.show()\n"
   ]
  },
  {
   "cell_type": "code",
   "execution_count": 124,
   "metadata": {},
   "outputs": [
    {
     "data": {
      "text/plain": [
       "<Figure size 1440x720 with 0 Axes>"
      ]
     },
     "execution_count": 124,
     "metadata": {},
     "output_type": "execute_result"
    },
    {
     "data": {
      "image/png": "[encoded data removed]",
      "text/plain": [
       "<Figure size 1440x720 with 2 Axes>"
      ]
     },
     "metadata": {
      "needs_background": "light"
     },
     "output_type": "display_data"
    },
    {
     "data": {
      "text/plain": [
       "<Figure size 1440x720 with 0 Axes>"
      ]
     },
     "metadata": {},
     "output_type": "display_data"
    }
   ],
   "source": [
    "fig, (ax1,ax2) = plt.subplots(2,1, figsize=(20,10))\n",
    "\n",
    "color = 'tab:red'\n",
    "#ax1.set_xlabel('time (s)')\n",
    "#ax1.set_ylabel('exp', color=color)\n",
    "ax1.plot(df_resample_sc_day.index, df_resample_sc_day['TxnFee(ETH)'] )\n",
    "#ax1.tick_params(axis='y', labelcolor=color)\n",
    "\n",
    "#ax2 = ax1.twinx()  # instantiate a second axes that shares the same x-axis\n",
    "\n",
    "color = 'tab:blue'\n",
    "#ax2.set_ylabel('sin', color=color)  # we already handled the x-label with ax1\n",
    "ax2.bar(df_resample_sc_day.index, df_resample_sc_day.counter )\n",
    "#ax2.tick_params(axis='y', labelcolor=color)\n",
    "\n",
    "plt.figure(figsize=(20,10))\n",
    "#fig.tight_layout()  # otherwise the right y-label is slightly clipped\n",
    "#plt.show()"
   ]
  },
  {
   "cell_type": "code",
   "execution_count": 98,
   "metadata": {},
   "outputs": [
    {
     "data": {
      "text/plain": [
       "<matplotlib.axes._subplots.AxesSubplot at 0x7f7a14744810>"
      ]
     },
     "execution_count": 98,
     "metadata": {},
     "output_type": "execute_result"
    },
    {
     "data": {
      "image/png": "[encoded data removed]",
      "text/plain": [
       "<Figure size 1440x720 with 1 Axes>"
      ]
     },
     "metadata": {
      "needs_background": "light"
     },
     "output_type": "display_data"
    }
   ],
   "source": [
    "df_resample_sc_day.plot(y='counter', kind='bar', figsize=(20,10))"
   ]
  },
  {
   "cell_type": "code",
   "execution_count": null,
   "metadata": {},
   "outputs": [],
   "source": []
  }
 ],
 "metadata": {
  "kernelspec": {
   "display_name": "scorecard",
   "language": "python",
   "name": "scorecard"
  },
  "language_info": {
   "codemirror_mode": {
    "name": "ipython",
    "version": 3
   },
   "file_extension": ".py",
   "mimetype": "text/x-python",
   "name": "python",
   "nbconvert_exporter": "python",
   "pygments_lexer": "ipython3",
   "version": "3.7.7"
  }
 },
 "nbformat": 4,
 "nbformat_minor": 4
}
