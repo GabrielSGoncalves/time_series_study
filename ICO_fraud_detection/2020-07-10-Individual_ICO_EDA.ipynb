{
 "cells": [
  {
   "cell_type": "markdown",
   "metadata": {},
   "source": [
    "# Individual ICO Exploratory Data Analysis\n",
    "The goal of this notebook is to develop an Exploratory Data Analysis (EDA) of individual ICO to generate visualizations and possible features to be used in future models."
   ]
  },
  {
   "cell_type": "code",
   "execution_count": 8,
   "metadata": {},
   "outputs": [],
   "source": [
    "import pandas as pd"
   ]
  },
  {
   "cell_type": "markdown",
   "metadata": {},
   "source": [
    "## 1. Reading data from CSV files"
   ]
  },
  {
   "cell_type": "code",
   "execution_count": 9,
   "metadata": {},
   "outputs": [],
   "source": [
    "file_name = '/home/gabriel/Documents/Repos/time_series_study/data_and_models/all_icos/AMPLEFORTH.csv'\n"
   ]
  },
  {
   "cell_type": "code",
   "execution_count": 10,
   "metadata": {},
   "outputs": [],
   "source": [
    "df_ico = pd.read_csv(file_name, low_memory=False )"
   ]
  },
  {
   "cell_type": "code",
   "execution_count": null,
   "metadata": {},
   "outputs": [],
   "source": []
  },
  {
   "cell_type": "code",
   "execution_count": 11,
   "metadata": {},
   "outputs": [
    {
     "data": {
      "text/plain": [
       "BLOCK_TIMESTAMP            object\n",
       "FROM_ADDRESS               object\n",
       "TO_ADDRESS                 object\n",
       "VALUE                       int64\n",
       "TRANSACTION_HASH           object\n",
       "NONCE                       int64\n",
       "FROM_ADDRESS_BLOCKCHAIN    object\n",
       "TO_ADDRESS_BLOCKCHAIN      object\n",
       "GAS                         int64\n",
       "RECEIPT_GAS_USED            int64\n",
       "dtype: object"
      ]
     },
     "execution_count": 11,
     "metadata": {},
     "output_type": "execute_result"
    }
   ],
   "source": [
    "df_ico.dtypes"
   ]
  },
  {
   "cell_type": "code",
   "execution_count": 12,
   "metadata": {},
   "outputs": [
    {
     "data": {
      "text/html": [
       "<div>\n",
       "<style scoped>\n",
       "    .dataframe tbody tr th:only-of-type {\n",
       "        vertical-align: middle;\n",
       "    }\n",
       "\n",
       "    .dataframe tbody tr th {\n",
       "        vertical-align: top;\n",
       "    }\n",
       "\n",
       "    .dataframe thead th {\n",
       "        text-align: right;\n",
       "    }\n",
       "</style>\n",
       "<table border=\"1\" class=\"dataframe\">\n",
       "  <thead>\n",
       "    <tr style=\"text-align: right;\">\n",
       "      <th></th>\n",
       "      <th>BLOCK_TIMESTAMP</th>\n",
       "      <th>FROM_ADDRESS</th>\n",
       "      <th>TO_ADDRESS</th>\n",
       "      <th>VALUE</th>\n",
       "      <th>TRANSACTION_HASH</th>\n",
       "      <th>NONCE</th>\n",
       "      <th>FROM_ADDRESS_BLOCKCHAIN</th>\n",
       "      <th>TO_ADDRESS_BLOCKCHAIN</th>\n",
       "      <th>GAS</th>\n",
       "      <th>RECEIPT_GAS_USED</th>\n",
       "    </tr>\n",
       "  </thead>\n",
       "  <tbody>\n",
       "    <tr>\n",
       "      <th>0</th>\n",
       "      <td>2019-11-30 12:46:11 UTC</td>\n",
       "      <td>0x0e29304fee49a7f3bfb4bd0c0c3d574597dc2bdf</td>\n",
       "      <td>0x6d440beea284968c86c2c4444328afcbfc3389d7</td>\n",
       "      <td>287127633</td>\n",
       "      <td>0x8e4eb5260ae53017653f9f3e4201434abf06779fab17...</td>\n",
       "      <td>58</td>\n",
       "      <td>0x0e29304fee49a7f3bfb4bd0c0c3d574597dc2bdf</td>\n",
       "      <td>0xd46ba6d942050d489dbd938a2c909a5d5039a161</td>\n",
       "      <td>70783</td>\n",
       "      <td>54027</td>\n",
       "    </tr>\n",
       "    <tr>\n",
       "      <th>1</th>\n",
       "      <td>2019-11-30 23:45:22 UTC</td>\n",
       "      <td>0x1fa976f3c3dffbbb7ce96f3ee952cdcef3de1921</td>\n",
       "      <td>0x689c56aef474df92d44a1b70850f808488f9769c</td>\n",
       "      <td>899785410000</td>\n",
       "      <td>0x8ebdf098f42f01eaba50e3ae9f5ce2d781209d3bd9c1...</td>\n",
       "      <td>11</td>\n",
       "      <td>0x1fa976f3c3dffbbb7ce96f3ee952cdcef3de1921</td>\n",
       "      <td>0xd46ba6d942050d489dbd938a2c909a5d5039a161</td>\n",
       "      <td>108912</td>\n",
       "      <td>24091</td>\n",
       "    </tr>\n",
       "    <tr>\n",
       "      <th>2</th>\n",
       "      <td>2019-11-30 22:45:56 UTC</td>\n",
       "      <td>0xfff55c4aca6acc9d214732050a8d02df4c802466</td>\n",
       "      <td>0x689c56aef474df92d44a1b70850f808488f9769c</td>\n",
       "      <td>299185409990</td>\n",
       "      <td>0x19b68921a0e91d952d76075896d7b792f1efcf356ea7...</td>\n",
       "      <td>8</td>\n",
       "      <td>0xfff55c4aca6acc9d214732050a8d02df4c802466</td>\n",
       "      <td>0xd46ba6d942050d489dbd938a2c909a5d5039a161</td>\n",
       "      <td>108912</td>\n",
       "      <td>24091</td>\n",
       "    </tr>\n",
       "    <tr>\n",
       "      <th>3</th>\n",
       "      <td>2019-11-30 20:59:57 UTC</td>\n",
       "      <td>0x52a1b5c59ab5bccf4f1ffc48f8f3c272e11056f7</td>\n",
       "      <td>0x876eabf441b2ee5b5b0554fd502a8e0600950cfa</td>\n",
       "      <td>2875401550263</td>\n",
       "      <td>0x95ca6207168d438367e38c27f46b2ce7cb294341ef75...</td>\n",
       "      <td>0</td>\n",
       "      <td>0x52a1b5c59ab5bccf4f1ffc48f8f3c272e11056f7</td>\n",
       "      <td>0xd46ba6d942050d489dbd938a2c909a5d5039a161</td>\n",
       "      <td>150000</td>\n",
       "      <td>24091</td>\n",
       "    </tr>\n",
       "    <tr>\n",
       "      <th>4</th>\n",
       "      <td>2019-11-30 09:52:11 UTC</td>\n",
       "      <td>0x042dbbdc27f75d277c3d99efe327db21bc4fde75</td>\n",
       "      <td>0x2d9e7f7887bb496592430ef62400dd9007925b88</td>\n",
       "      <td>73796280798</td>\n",
       "      <td>0xbe0f0828b3f19dd6aa643bbcbbeb23aff65e56c4d84a...</td>\n",
       "      <td>2681</td>\n",
       "      <td>0x2d9e7f7887bb496592430ef62400dd9007925b88</td>\n",
       "      <td>0x042dbbdc27f75d277c3d99efe327db21bc4fde75</td>\n",
       "      <td>55963</td>\n",
       "      <td>50466</td>\n",
       "    </tr>\n",
       "  </tbody>\n",
       "</table>\n",
       "</div>"
      ],
      "text/plain": [
       "           BLOCK_TIMESTAMP                                FROM_ADDRESS  \\\n",
       "0  2019-11-30 12:46:11 UTC  0x0e29304fee49a7f3bfb4bd0c0c3d574597dc2bdf   \n",
       "1  2019-11-30 23:45:22 UTC  0x1fa976f3c3dffbbb7ce96f3ee952cdcef3de1921   \n",
       "2  2019-11-30 22:45:56 UTC  0xfff55c4aca6acc9d214732050a8d02df4c802466   \n",
       "3  2019-11-30 20:59:57 UTC  0x52a1b5c59ab5bccf4f1ffc48f8f3c272e11056f7   \n",
       "4  2019-11-30 09:52:11 UTC  0x042dbbdc27f75d277c3d99efe327db21bc4fde75   \n",
       "\n",
       "                                   TO_ADDRESS          VALUE  \\\n",
       "0  0x6d440beea284968c86c2c4444328afcbfc3389d7      287127633   \n",
       "1  0x689c56aef474df92d44a1b70850f808488f9769c   899785410000   \n",
       "2  0x689c56aef474df92d44a1b70850f808488f9769c   299185409990   \n",
       "3  0x876eabf441b2ee5b5b0554fd502a8e0600950cfa  2875401550263   \n",
       "4  0x2d9e7f7887bb496592430ef62400dd9007925b88    73796280798   \n",
       "\n",
       "                                    TRANSACTION_HASH  NONCE  \\\n",
       "0  0x8e4eb5260ae53017653f9f3e4201434abf06779fab17...     58   \n",
       "1  0x8ebdf098f42f01eaba50e3ae9f5ce2d781209d3bd9c1...     11   \n",
       "2  0x19b68921a0e91d952d76075896d7b792f1efcf356ea7...      8   \n",
       "3  0x95ca6207168d438367e38c27f46b2ce7cb294341ef75...      0   \n",
       "4  0xbe0f0828b3f19dd6aa643bbcbbeb23aff65e56c4d84a...   2681   \n",
       "\n",
       "                      FROM_ADDRESS_BLOCKCHAIN  \\\n",
       "0  0x0e29304fee49a7f3bfb4bd0c0c3d574597dc2bdf   \n",
       "1  0x1fa976f3c3dffbbb7ce96f3ee952cdcef3de1921   \n",
       "2  0xfff55c4aca6acc9d214732050a8d02df4c802466   \n",
       "3  0x52a1b5c59ab5bccf4f1ffc48f8f3c272e11056f7   \n",
       "4  0x2d9e7f7887bb496592430ef62400dd9007925b88   \n",
       "\n",
       "                        TO_ADDRESS_BLOCKCHAIN     GAS  RECEIPT_GAS_USED  \n",
       "0  0xd46ba6d942050d489dbd938a2c909a5d5039a161   70783             54027  \n",
       "1  0xd46ba6d942050d489dbd938a2c909a5d5039a161  108912             24091  \n",
       "2  0xd46ba6d942050d489dbd938a2c909a5d5039a161  108912             24091  \n",
       "3  0xd46ba6d942050d489dbd938a2c909a5d5039a161  150000             24091  \n",
       "4  0x042dbbdc27f75d277c3d99efe327db21bc4fde75   55963             50466  "
      ]
     },
     "execution_count": 12,
     "metadata": {},
     "output_type": "execute_result"
    }
   ],
   "source": [
    "df_ico.head()"
   ]
  },
  {
   "cell_type": "code",
   "execution_count": null,
   "metadata": {},
   "outputs": [],
   "source": []
  },
  {
   "cell_type": "code",
   "execution_count": 14,
   "metadata": {},
   "outputs": [
    {
     "data": {
      "text/html": [
       "<div>\n",
       "<style scoped>\n",
       "    .dataframe tbody tr th:only-of-type {\n",
       "        vertical-align: middle;\n",
       "    }\n",
       "\n",
       "    .dataframe tbody tr th {\n",
       "        vertical-align: top;\n",
       "    }\n",
       "\n",
       "    .dataframe thead th {\n",
       "        text-align: right;\n",
       "    }\n",
       "</style>\n",
       "<table border=\"1\" class=\"dataframe\">\n",
       "  <thead>\n",
       "    <tr style=\"text-align: right;\">\n",
       "      <th></th>\n",
       "      <th>BLOCK_TIMESTAMP</th>\n",
       "      <th>FROM_ADDRESS</th>\n",
       "      <th>TO_ADDRESS</th>\n",
       "      <th>VALUE</th>\n",
       "      <th>TRANSACTION_HASH</th>\n",
       "      <th>NONCE</th>\n",
       "      <th>FROM_ADDRESS_BLOCKCHAIN</th>\n",
       "      <th>TO_ADDRESS_BLOCKCHAIN</th>\n",
       "      <th>GAS</th>\n",
       "      <th>RECEIPT_GAS_USED</th>\n",
       "    </tr>\n",
       "  </thead>\n",
       "  <tbody>\n",
       "    <tr>\n",
       "      <th>0</th>\n",
       "      <td>2019-11-30 12:46:11 UTC</td>\n",
       "      <td>0x0e29304fee49a7f3bfb4bd0c0c3d574597dc2bdf</td>\n",
       "      <td>0x6d440beea284968c86c2c4444328afcbfc3389d7</td>\n",
       "      <td>287127633</td>\n",
       "      <td>0x8e4eb5260ae53017653f9f3e4201434abf06779fab17...</td>\n",
       "      <td>58</td>\n",
       "      <td>0x0e29304fee49a7f3bfb4bd0c0c3d574597dc2bdf</td>\n",
       "      <td>0xd46ba6d942050d489dbd938a2c909a5d5039a161</td>\n",
       "      <td>70783</td>\n",
       "      <td>54027</td>\n",
       "    </tr>\n",
       "    <tr>\n",
       "      <th>1</th>\n",
       "      <td>2019-11-30 23:45:22 UTC</td>\n",
       "      <td>0x1fa976f3c3dffbbb7ce96f3ee952cdcef3de1921</td>\n",
       "      <td>0x689c56aef474df92d44a1b70850f808488f9769c</td>\n",
       "      <td>899785410000</td>\n",
       "      <td>0x8ebdf098f42f01eaba50e3ae9f5ce2d781209d3bd9c1...</td>\n",
       "      <td>11</td>\n",
       "      <td>0x1fa976f3c3dffbbb7ce96f3ee952cdcef3de1921</td>\n",
       "      <td>0xd46ba6d942050d489dbd938a2c909a5d5039a161</td>\n",
       "      <td>108912</td>\n",
       "      <td>24091</td>\n",
       "    </tr>\n",
       "    <tr>\n",
       "      <th>2</th>\n",
       "      <td>2019-11-30 22:45:56 UTC</td>\n",
       "      <td>0xfff55c4aca6acc9d214732050a8d02df4c802466</td>\n",
       "      <td>0x689c56aef474df92d44a1b70850f808488f9769c</td>\n",
       "      <td>299185409990</td>\n",
       "      <td>0x19b68921a0e91d952d76075896d7b792f1efcf356ea7...</td>\n",
       "      <td>8</td>\n",
       "      <td>0xfff55c4aca6acc9d214732050a8d02df4c802466</td>\n",
       "      <td>0xd46ba6d942050d489dbd938a2c909a5d5039a161</td>\n",
       "      <td>108912</td>\n",
       "      <td>24091</td>\n",
       "    </tr>\n",
       "    <tr>\n",
       "      <th>3</th>\n",
       "      <td>2019-11-30 20:59:57 UTC</td>\n",
       "      <td>0x52a1b5c59ab5bccf4f1ffc48f8f3c272e11056f7</td>\n",
       "      <td>0x876eabf441b2ee5b5b0554fd502a8e0600950cfa</td>\n",
       "      <td>2875401550263</td>\n",
       "      <td>0x95ca6207168d438367e38c27f46b2ce7cb294341ef75...</td>\n",
       "      <td>0</td>\n",
       "      <td>0x52a1b5c59ab5bccf4f1ffc48f8f3c272e11056f7</td>\n",
       "      <td>0xd46ba6d942050d489dbd938a2c909a5d5039a161</td>\n",
       "      <td>150000</td>\n",
       "      <td>24091</td>\n",
       "    </tr>\n",
       "    <tr>\n",
       "      <th>4</th>\n",
       "      <td>2019-11-30 09:52:11 UTC</td>\n",
       "      <td>0x042dbbdc27f75d277c3d99efe327db21bc4fde75</td>\n",
       "      <td>0x2d9e7f7887bb496592430ef62400dd9007925b88</td>\n",
       "      <td>73796280798</td>\n",
       "      <td>0xbe0f0828b3f19dd6aa643bbcbbeb23aff65e56c4d84a...</td>\n",
       "      <td>2681</td>\n",
       "      <td>0x2d9e7f7887bb496592430ef62400dd9007925b88</td>\n",
       "      <td>0x042dbbdc27f75d277c3d99efe327db21bc4fde75</td>\n",
       "      <td>55963</td>\n",
       "      <td>50466</td>\n",
       "    </tr>\n",
       "    <tr>\n",
       "      <th>...</th>\n",
       "      <td>...</td>\n",
       "      <td>...</td>\n",
       "      <td>...</td>\n",
       "      <td>...</td>\n",
       "      <td>...</td>\n",
       "      <td>...</td>\n",
       "      <td>...</td>\n",
       "      <td>...</td>\n",
       "      <td>...</td>\n",
       "      <td>...</td>\n",
       "    </tr>\n",
       "    <tr>\n",
       "      <th>16130</th>\n",
       "      <td>2019-07-24 20:22:51 UTC</td>\n",
       "      <td>0x042dbbdc27f75d277c3d99efe327db21bc4fde75</td>\n",
       "      <td>0x48e5013861b25c114e369c3e12dc948008352aea</td>\n",
       "      <td>81555820932</td>\n",
       "      <td>0xf8a249a3a507408933d0e712e5cdc47097aa903d01f2...</td>\n",
       "      <td>296</td>\n",
       "      <td>0x48e5013861b25c114e369c3e12dc948008352aea</td>\n",
       "      <td>0x09cabec1ead1c0ba254b09efb3ee13841712be14</td>\n",
       "      <td>105032</td>\n",
       "      <td>94411</td>\n",
       "    </tr>\n",
       "    <tr>\n",
       "      <th>16131</th>\n",
       "      <td>2019-07-24 16:47:36 UTC</td>\n",
       "      <td>0x042dbbdc27f75d277c3d99efe327db21bc4fde75</td>\n",
       "      <td>0x48e5013861b25c114e369c3e12dc948008352aea</td>\n",
       "      <td>40658146592</td>\n",
       "      <td>0xf9411d6ba70cf8c9515a0233c77959dc18f5952a0af3...</td>\n",
       "      <td>284</td>\n",
       "      <td>0x48e5013861b25c114e369c3e12dc948008352aea</td>\n",
       "      <td>0x09cabec1ead1c0ba254b09efb3ee13841712be14</td>\n",
       "      <td>105032</td>\n",
       "      <td>94411</td>\n",
       "    </tr>\n",
       "    <tr>\n",
       "      <th>16132</th>\n",
       "      <td>2019-07-24 08:05:41 UTC</td>\n",
       "      <td>0xd6daeb7b71bb65058c52b7d3e79e8f51ea7a0855</td>\n",
       "      <td>0x4003caeff9d6eb5af6927b0842c90f43f31d25d1</td>\n",
       "      <td>2795186324</td>\n",
       "      <td>0xa1ab70afe3a7bb396db0d22d025bf61136d1e3af4a18...</td>\n",
       "      <td>0</td>\n",
       "      <td>0xd6daeb7b71bb65058c52b7d3e79e8f51ea7a0855</td>\n",
       "      <td>0xd46ba6d942050d489dbd938a2c909a5d5039a161</td>\n",
       "      <td>70000</td>\n",
       "      <td>24027</td>\n",
       "    </tr>\n",
       "    <tr>\n",
       "      <th>16133</th>\n",
       "      <td>2019-07-24 20:47:20 UTC</td>\n",
       "      <td>0x7e49a5469d5dc2f6c734d721a3cad9c942042d9a</td>\n",
       "      <td>0xb342102b08be21bd5d28005fb153e45b89f286b2</td>\n",
       "      <td>106741393461</td>\n",
       "      <td>0xd415315a21e03d8383d5cecad7990d9276509b17be4f...</td>\n",
       "      <td>20</td>\n",
       "      <td>0xb342102b08be21bd5d28005fb153e45b89f286b2</td>\n",
       "      <td>0x7e49a5469d5dc2f6c734d721a3cad9c942042d9a</td>\n",
       "      <td>122570</td>\n",
       "      <td>80869</td>\n",
       "    </tr>\n",
       "    <tr>\n",
       "      <th>16134</th>\n",
       "      <td>2019-07-24 20:03:35 UTC</td>\n",
       "      <td>0x00444f498cb5112969a652a78235281182ff4876</td>\n",
       "      <td>0x042dbbdc27f75d277c3d99efe327db21bc4fde75</td>\n",
       "      <td>96885979058</td>\n",
       "      <td>0x90014cf235a004d3f8403cd6b2ed60fc074c73ea8cde...</td>\n",
       "      <td>155</td>\n",
       "      <td>0x00444f498cb5112969a652a78235281182ff4876</td>\n",
       "      <td>0x042dbbdc27f75d277c3d99efe327db21bc4fde75</td>\n",
       "      <td>70787</td>\n",
       "      <td>63741</td>\n",
       "    </tr>\n",
       "  </tbody>\n",
       "</table>\n",
       "<p>16135 rows × 10 columns</p>\n",
       "</div>"
      ],
      "text/plain": [
       "               BLOCK_TIMESTAMP                                FROM_ADDRESS  \\\n",
       "0      2019-11-30 12:46:11 UTC  0x0e29304fee49a7f3bfb4bd0c0c3d574597dc2bdf   \n",
       "1      2019-11-30 23:45:22 UTC  0x1fa976f3c3dffbbb7ce96f3ee952cdcef3de1921   \n",
       "2      2019-11-30 22:45:56 UTC  0xfff55c4aca6acc9d214732050a8d02df4c802466   \n",
       "3      2019-11-30 20:59:57 UTC  0x52a1b5c59ab5bccf4f1ffc48f8f3c272e11056f7   \n",
       "4      2019-11-30 09:52:11 UTC  0x042dbbdc27f75d277c3d99efe327db21bc4fde75   \n",
       "...                        ...                                         ...   \n",
       "16130  2019-07-24 20:22:51 UTC  0x042dbbdc27f75d277c3d99efe327db21bc4fde75   \n",
       "16131  2019-07-24 16:47:36 UTC  0x042dbbdc27f75d277c3d99efe327db21bc4fde75   \n",
       "16132  2019-07-24 08:05:41 UTC  0xd6daeb7b71bb65058c52b7d3e79e8f51ea7a0855   \n",
       "16133  2019-07-24 20:47:20 UTC  0x7e49a5469d5dc2f6c734d721a3cad9c942042d9a   \n",
       "16134  2019-07-24 20:03:35 UTC  0x00444f498cb5112969a652a78235281182ff4876   \n",
       "\n",
       "                                       TO_ADDRESS          VALUE  \\\n",
       "0      0x6d440beea284968c86c2c4444328afcbfc3389d7      287127633   \n",
       "1      0x689c56aef474df92d44a1b70850f808488f9769c   899785410000   \n",
       "2      0x689c56aef474df92d44a1b70850f808488f9769c   299185409990   \n",
       "3      0x876eabf441b2ee5b5b0554fd502a8e0600950cfa  2875401550263   \n",
       "4      0x2d9e7f7887bb496592430ef62400dd9007925b88    73796280798   \n",
       "...                                           ...            ...   \n",
       "16130  0x48e5013861b25c114e369c3e12dc948008352aea    81555820932   \n",
       "16131  0x48e5013861b25c114e369c3e12dc948008352aea    40658146592   \n",
       "16132  0x4003caeff9d6eb5af6927b0842c90f43f31d25d1     2795186324   \n",
       "16133  0xb342102b08be21bd5d28005fb153e45b89f286b2   106741393461   \n",
       "16134  0x042dbbdc27f75d277c3d99efe327db21bc4fde75    96885979058   \n",
       "\n",
       "                                        TRANSACTION_HASH  NONCE  \\\n",
       "0      0x8e4eb5260ae53017653f9f3e4201434abf06779fab17...     58   \n",
       "1      0x8ebdf098f42f01eaba50e3ae9f5ce2d781209d3bd9c1...     11   \n",
       "2      0x19b68921a0e91d952d76075896d7b792f1efcf356ea7...      8   \n",
       "3      0x95ca6207168d438367e38c27f46b2ce7cb294341ef75...      0   \n",
       "4      0xbe0f0828b3f19dd6aa643bbcbbeb23aff65e56c4d84a...   2681   \n",
       "...                                                  ...    ...   \n",
       "16130  0xf8a249a3a507408933d0e712e5cdc47097aa903d01f2...    296   \n",
       "16131  0xf9411d6ba70cf8c9515a0233c77959dc18f5952a0af3...    284   \n",
       "16132  0xa1ab70afe3a7bb396db0d22d025bf61136d1e3af4a18...      0   \n",
       "16133  0xd415315a21e03d8383d5cecad7990d9276509b17be4f...     20   \n",
       "16134  0x90014cf235a004d3f8403cd6b2ed60fc074c73ea8cde...    155   \n",
       "\n",
       "                          FROM_ADDRESS_BLOCKCHAIN  \\\n",
       "0      0x0e29304fee49a7f3bfb4bd0c0c3d574597dc2bdf   \n",
       "1      0x1fa976f3c3dffbbb7ce96f3ee952cdcef3de1921   \n",
       "2      0xfff55c4aca6acc9d214732050a8d02df4c802466   \n",
       "3      0x52a1b5c59ab5bccf4f1ffc48f8f3c272e11056f7   \n",
       "4      0x2d9e7f7887bb496592430ef62400dd9007925b88   \n",
       "...                                           ...   \n",
       "16130  0x48e5013861b25c114e369c3e12dc948008352aea   \n",
       "16131  0x48e5013861b25c114e369c3e12dc948008352aea   \n",
       "16132  0xd6daeb7b71bb65058c52b7d3e79e8f51ea7a0855   \n",
       "16133  0xb342102b08be21bd5d28005fb153e45b89f286b2   \n",
       "16134  0x00444f498cb5112969a652a78235281182ff4876   \n",
       "\n",
       "                            TO_ADDRESS_BLOCKCHAIN     GAS  RECEIPT_GAS_USED  \n",
       "0      0xd46ba6d942050d489dbd938a2c909a5d5039a161   70783             54027  \n",
       "1      0xd46ba6d942050d489dbd938a2c909a5d5039a161  108912             24091  \n",
       "2      0xd46ba6d942050d489dbd938a2c909a5d5039a161  108912             24091  \n",
       "3      0xd46ba6d942050d489dbd938a2c909a5d5039a161  150000             24091  \n",
       "4      0x042dbbdc27f75d277c3d99efe327db21bc4fde75   55963             50466  \n",
       "...                                           ...     ...               ...  \n",
       "16130  0x09cabec1ead1c0ba254b09efb3ee13841712be14  105032             94411  \n",
       "16131  0x09cabec1ead1c0ba254b09efb3ee13841712be14  105032             94411  \n",
       "16132  0xd46ba6d942050d489dbd938a2c909a5d5039a161   70000             24027  \n",
       "16133  0x7e49a5469d5dc2f6c734d721a3cad9c942042d9a  122570             80869  \n",
       "16134  0x042dbbdc27f75d277c3d99efe327db21bc4fde75   70787             63741  \n",
       "\n",
       "[16135 rows x 10 columns]"
      ]
     },
     "execution_count": 14,
     "metadata": {},
     "output_type": "execute_result"
    }
   ],
   "source": [
    "df_ico"
   ]
  },
  {
   "cell_type": "code",
   "execution_count": 15,
   "metadata": {},
   "outputs": [
    {
     "ename": "ValueError",
     "evalue": "non convertible value 2019-11-30 12:46:11 UTC with the unit 's'",
     "output_type": "error",
     "traceback": [
      "\u001b[0;31m---------------------------------------------------------------------------\u001b[0m",
      "\u001b[0;31mValueError\u001b[0m                                Traceback (most recent call last)",
      "\u001b[0;32mpandas/_libs/tslib.pyx\u001b[0m in \u001b[0;36mpandas._libs.tslib.array_with_unit_to_datetime\u001b[0;34m()\u001b[0m\n",
      "\u001b[0;31mValueError\u001b[0m: could not convert string to float: '2019-11-30 12:46:11 UTC'",
      "\nDuring handling of the above exception, another exception occurred:\n",
      "\u001b[0;31mValueError\u001b[0m                                Traceback (most recent call last)",
      "\u001b[0;32m<ipython-input-15-5c57a76bd60d>\u001b[0m in \u001b[0;36m<module>\u001b[0;34m\u001b[0m\n\u001b[0;32m----> 1\u001b[0;31m \u001b[0mdf_ico\u001b[0m\u001b[0;34m[\u001b[0m\u001b[0;34m'date'\u001b[0m\u001b[0;34m]\u001b[0m \u001b[0;34m=\u001b[0m \u001b[0mpd\u001b[0m\u001b[0;34m.\u001b[0m\u001b[0mto_datetime\u001b[0m\u001b[0;34m(\u001b[0m\u001b[0mdf_ico\u001b[0m\u001b[0;34m[\u001b[0m\u001b[0;34m'BLOCK_TIMESTAMP'\u001b[0m\u001b[0;34m]\u001b[0m\u001b[0;34m,\u001b[0m \u001b[0munit\u001b[0m\u001b[0;34m=\u001b[0m\u001b[0;34m's'\u001b[0m\u001b[0;34m)\u001b[0m\u001b[0;31m#origin='scalar')\u001b[0m\u001b[0;34m\u001b[0m\u001b[0;34m\u001b[0m\u001b[0m\n\u001b[0m\u001b[1;32m      2\u001b[0m \u001b[0mdf_ico\u001b[0m\u001b[0;34m.\u001b[0m\u001b[0mhead\u001b[0m\u001b[0;34m(\u001b[0m\u001b[0;34m)\u001b[0m\u001b[0;34m\u001b[0m\u001b[0;34m\u001b[0m\u001b[0m\n",
      "\u001b[0;32m~/miniconda3/envs/deeplearning/lib/python3.7/site-packages/pandas/core/tools/datetimes.py\u001b[0m in \u001b[0;36mto_datetime\u001b[0;34m(arg, errors, dayfirst, yearfirst, utc, format, exact, unit, infer_datetime_format, origin, cache)\u001b[0m\n\u001b[1;32m    722\u001b[0m                 \u001b[0mresult\u001b[0m \u001b[0;34m=\u001b[0m \u001b[0mresult\u001b[0m\u001b[0;34m.\u001b[0m\u001b[0mtz_localize\u001b[0m\u001b[0;34m(\u001b[0m\u001b[0mtz\u001b[0m\u001b[0;34m)\u001b[0m\u001b[0;34m\u001b[0m\u001b[0;34m\u001b[0m\u001b[0m\n\u001b[1;32m    723\u001b[0m     \u001b[0;32melif\u001b[0m \u001b[0misinstance\u001b[0m\u001b[0;34m(\u001b[0m\u001b[0marg\u001b[0m\u001b[0;34m,\u001b[0m \u001b[0mABCSeries\u001b[0m\u001b[0;34m)\u001b[0m\u001b[0;34m:\u001b[0m\u001b[0;34m\u001b[0m\u001b[0;34m\u001b[0m\u001b[0m\n\u001b[0;32m--> 724\u001b[0;31m         \u001b[0mcache_array\u001b[0m \u001b[0;34m=\u001b[0m \u001b[0m_maybe_cache\u001b[0m\u001b[0;34m(\u001b[0m\u001b[0marg\u001b[0m\u001b[0;34m,\u001b[0m \u001b[0mformat\u001b[0m\u001b[0;34m,\u001b[0m \u001b[0mcache\u001b[0m\u001b[0;34m,\u001b[0m \u001b[0mconvert_listlike\u001b[0m\u001b[0;34m)\u001b[0m\u001b[0;34m\u001b[0m\u001b[0;34m\u001b[0m\u001b[0m\n\u001b[0m\u001b[1;32m    725\u001b[0m         \u001b[0;32mif\u001b[0m \u001b[0;32mnot\u001b[0m \u001b[0mcache_array\u001b[0m\u001b[0;34m.\u001b[0m\u001b[0mempty\u001b[0m\u001b[0;34m:\u001b[0m\u001b[0;34m\u001b[0m\u001b[0;34m\u001b[0m\u001b[0m\n\u001b[1;32m    726\u001b[0m             \u001b[0mresult\u001b[0m \u001b[0;34m=\u001b[0m \u001b[0marg\u001b[0m\u001b[0;34m.\u001b[0m\u001b[0mmap\u001b[0m\u001b[0;34m(\u001b[0m\u001b[0mcache_array\u001b[0m\u001b[0;34m)\u001b[0m\u001b[0;34m\u001b[0m\u001b[0;34m\u001b[0m\u001b[0m\n",
      "\u001b[0;32m~/miniconda3/envs/deeplearning/lib/python3.7/site-packages/pandas/core/tools/datetimes.py\u001b[0m in \u001b[0;36m_maybe_cache\u001b[0;34m(arg, format, cache, convert_listlike)\u001b[0m\n\u001b[1;32m    150\u001b[0m         \u001b[0munique_dates\u001b[0m \u001b[0;34m=\u001b[0m \u001b[0munique\u001b[0m\u001b[0;34m(\u001b[0m\u001b[0marg\u001b[0m\u001b[0;34m)\u001b[0m\u001b[0;34m\u001b[0m\u001b[0;34m\u001b[0m\u001b[0m\n\u001b[1;32m    151\u001b[0m         \u001b[0;32mif\u001b[0m \u001b[0mlen\u001b[0m\u001b[0;34m(\u001b[0m\u001b[0munique_dates\u001b[0m\u001b[0;34m)\u001b[0m \u001b[0;34m<\u001b[0m \u001b[0mlen\u001b[0m\u001b[0;34m(\u001b[0m\u001b[0marg\u001b[0m\u001b[0;34m)\u001b[0m\u001b[0;34m:\u001b[0m\u001b[0;34m\u001b[0m\u001b[0;34m\u001b[0m\u001b[0m\n\u001b[0;32m--> 152\u001b[0;31m             \u001b[0mcache_dates\u001b[0m \u001b[0;34m=\u001b[0m \u001b[0mconvert_listlike\u001b[0m\u001b[0;34m(\u001b[0m\u001b[0munique_dates\u001b[0m\u001b[0;34m,\u001b[0m \u001b[0mformat\u001b[0m\u001b[0;34m)\u001b[0m\u001b[0;34m\u001b[0m\u001b[0;34m\u001b[0m\u001b[0m\n\u001b[0m\u001b[1;32m    153\u001b[0m             \u001b[0mcache_array\u001b[0m \u001b[0;34m=\u001b[0m \u001b[0mSeries\u001b[0m\u001b[0;34m(\u001b[0m\u001b[0mcache_dates\u001b[0m\u001b[0;34m,\u001b[0m \u001b[0mindex\u001b[0m\u001b[0;34m=\u001b[0m\u001b[0munique_dates\u001b[0m\u001b[0;34m)\u001b[0m\u001b[0;34m\u001b[0m\u001b[0;34m\u001b[0m\u001b[0m\n\u001b[1;32m    154\u001b[0m     \u001b[0;32mreturn\u001b[0m \u001b[0mcache_array\u001b[0m\u001b[0;34m\u001b[0m\u001b[0;34m\u001b[0m\u001b[0m\n",
      "\u001b[0;32m~/miniconda3/envs/deeplearning/lib/python3.7/site-packages/pandas/core/tools/datetimes.py\u001b[0m in \u001b[0;36m_convert_listlike_datetimes\u001b[0;34m(arg, format, name, tz, unit, errors, infer_datetime_format, dayfirst, yearfirst, exact)\u001b[0m\n\u001b[1;32m    330\u001b[0m \u001b[0;34m\u001b[0m\u001b[0m\n\u001b[1;32m    331\u001b[0m         result, tz_parsed = tslib.array_with_unit_to_datetime(\n\u001b[0;32m--> 332\u001b[0;31m             \u001b[0marg\u001b[0m\u001b[0;34m,\u001b[0m \u001b[0mmask\u001b[0m\u001b[0;34m,\u001b[0m \u001b[0munit\u001b[0m\u001b[0;34m,\u001b[0m \u001b[0merrors\u001b[0m\u001b[0;34m=\u001b[0m\u001b[0merrors\u001b[0m\u001b[0;34m\u001b[0m\u001b[0;34m\u001b[0m\u001b[0m\n\u001b[0m\u001b[1;32m    333\u001b[0m         )\n\u001b[1;32m    334\u001b[0m \u001b[0;34m\u001b[0m\u001b[0m\n",
      "\u001b[0;32mpandas/_libs/tslib.pyx\u001b[0m in \u001b[0;36mpandas._libs.tslib.array_with_unit_to_datetime\u001b[0;34m()\u001b[0m\n",
      "\u001b[0;31mValueError\u001b[0m: non convertible value 2019-11-30 12:46:11 UTC with the unit 's'"
     ]
    }
   ],
   "source": [
    "df_ico['date'] = pd.to_datetime(df_ico['BLOCK_TIMESTAMP'], unit='s')#origin='scalar')\n",
    "df_ico.head()"
   ]
  },
  {
   "cell_type": "code",
   "execution_count": null,
   "metadata": {},
   "outputs": [],
   "source": [
    "df_ico.describe()"
   ]
  },
  {
   "cell_type": "code",
   "execution_count": null,
   "metadata": {},
   "outputs": [],
   "source": [
    "df_ico.info()"
   ]
  },
  {
   "cell_type": "markdown",
   "metadata": {},
   "source": [
    "### 1.1. Convert `DateTime`column to datetime dtype"
   ]
  },
  {
   "cell_type": "code",
   "execution_count": null,
   "metadata": {},
   "outputs": [],
   "source": [
    "#df_ico['timeStamp'] = pd.to_datetime(df_ico['timeStamp'])\n",
    "df_ico.dtypes"
   ]
  },
  {
   "cell_type": "markdown",
   "metadata": {},
   "source": [
    "### 1.2. Create column with time difference"
   ]
  },
  {
   "cell_type": "code",
   "execution_count": 17,
   "metadata": {},
   "outputs": [
    {
     "ename": "TypeError",
     "evalue": "unsupported operand type(s) for -: 'str' and 'str'",
     "output_type": "error",
     "traceback": [
      "\u001b[0;31m---------------------------------------------------------------------------\u001b[0m",
      "\u001b[0;31mTypeError\u001b[0m                                 Traceback (most recent call last)",
      "\u001b[0;32m<ipython-input-17-6630c15b50b7>\u001b[0m in \u001b[0;36m<module>\u001b[0;34m\u001b[0m\n\u001b[0;32m----> 1\u001b[0;31m \u001b[0mdf_ico\u001b[0m\u001b[0;34m[\u001b[0m\u001b[0;34m'time_diff'\u001b[0m\u001b[0;34m]\u001b[0m \u001b[0;34m=\u001b[0m \u001b[0mdf_ico\u001b[0m\u001b[0;34m[\u001b[0m\u001b[0;34m'BLOCK_TIMESTAMP'\u001b[0m\u001b[0;34m]\u001b[0m\u001b[0;34m.\u001b[0m\u001b[0mdiff\u001b[0m\u001b[0;34m(\u001b[0m\u001b[0;34m)\u001b[0m\u001b[0;34m\u001b[0m\u001b[0;34m\u001b[0m\u001b[0m\n\u001b[0m\u001b[1;32m      2\u001b[0m \u001b[0mdf_ico\u001b[0m\u001b[0;34m[\u001b[0m\u001b[0;34m'time_diff_seconds'\u001b[0m\u001b[0;34m]\u001b[0m \u001b[0;34m=\u001b[0m \u001b[0mdf_ico\u001b[0m\u001b[0;34m[\u001b[0m\u001b[0;34m'BLOCK_TIMESTAMP'\u001b[0m\u001b[0;34m]\u001b[0m\u001b[0;34m.\u001b[0m\u001b[0mdiff\u001b[0m\u001b[0;34m(\u001b[0m\u001b[0;34m)\u001b[0m\u001b[0;34m.\u001b[0m\u001b[0mdt\u001b[0m\u001b[0;34m.\u001b[0m\u001b[0mseconds\u001b[0m\u001b[0;34m\u001b[0m\u001b[0;34m\u001b[0m\u001b[0m\n\u001b[1;32m      3\u001b[0m \u001b[0mdf_ico\u001b[0m\u001b[0;34m.\u001b[0m\u001b[0mset_index\u001b[0m\u001b[0;34m(\u001b[0m\u001b[0;34m'date'\u001b[0m\u001b[0;34m,\u001b[0m \u001b[0minplace\u001b[0m\u001b[0;34m=\u001b[0m\u001b[0;32mTrue\u001b[0m\u001b[0;34m)\u001b[0m\u001b[0;34m\u001b[0m\u001b[0;34m\u001b[0m\u001b[0m\n\u001b[1;32m      4\u001b[0m \u001b[0mdf_ico\u001b[0m\u001b[0;34m.\u001b[0m\u001b[0mhead\u001b[0m\u001b[0;34m(\u001b[0m\u001b[0;36m10\u001b[0m\u001b[0;34m)\u001b[0m\u001b[0;34m\u001b[0m\u001b[0;34m\u001b[0m\u001b[0m\n",
      "\u001b[0;32m~/miniconda3/envs/deeplearning/lib/python3.7/site-packages/pandas/core/series.py\u001b[0m in \u001b[0;36mdiff\u001b[0;34m(self, periods)\u001b[0m\n\u001b[1;32m   2356\u001b[0m         \u001b[0mdtype\u001b[0m\u001b[0;34m:\u001b[0m \u001b[0mfloat64\u001b[0m\u001b[0;34m\u001b[0m\u001b[0;34m\u001b[0m\u001b[0m\n\u001b[1;32m   2357\u001b[0m         \"\"\"\n\u001b[0;32m-> 2358\u001b[0;31m         \u001b[0mresult\u001b[0m \u001b[0;34m=\u001b[0m \u001b[0malgorithms\u001b[0m\u001b[0;34m.\u001b[0m\u001b[0mdiff\u001b[0m\u001b[0;34m(\u001b[0m\u001b[0mself\u001b[0m\u001b[0;34m.\u001b[0m\u001b[0marray\u001b[0m\u001b[0;34m,\u001b[0m \u001b[0mperiods\u001b[0m\u001b[0;34m)\u001b[0m\u001b[0;34m\u001b[0m\u001b[0;34m\u001b[0m\u001b[0m\n\u001b[0m\u001b[1;32m   2359\u001b[0m         \u001b[0;32mreturn\u001b[0m \u001b[0mself\u001b[0m\u001b[0;34m.\u001b[0m\u001b[0m_constructor\u001b[0m\u001b[0;34m(\u001b[0m\u001b[0mresult\u001b[0m\u001b[0;34m,\u001b[0m \u001b[0mindex\u001b[0m\u001b[0;34m=\u001b[0m\u001b[0mself\u001b[0m\u001b[0;34m.\u001b[0m\u001b[0mindex\u001b[0m\u001b[0;34m)\u001b[0m\u001b[0;34m.\u001b[0m\u001b[0m__finalize__\u001b[0m\u001b[0;34m(\u001b[0m\u001b[0mself\u001b[0m\u001b[0;34m)\u001b[0m\u001b[0;34m\u001b[0m\u001b[0;34m\u001b[0m\u001b[0m\n\u001b[1;32m   2360\u001b[0m \u001b[0;34m\u001b[0m\u001b[0m\n",
      "\u001b[0;32m~/miniconda3/envs/deeplearning/lib/python3.7/site-packages/pandas/core/algorithms.py\u001b[0m in \u001b[0;36mdiff\u001b[0;34m(arr, n, axis, stacklevel)\u001b[0m\n\u001b[1;32m   1924\u001b[0m             \u001b[0mout_arr\u001b[0m\u001b[0;34m[\u001b[0m\u001b[0mres_indexer\u001b[0m\u001b[0;34m]\u001b[0m \u001b[0;34m=\u001b[0m \u001b[0marr\u001b[0m\u001b[0;34m[\u001b[0m\u001b[0mres_indexer\u001b[0m\u001b[0;34m]\u001b[0m \u001b[0;34m^\u001b[0m \u001b[0marr\u001b[0m\u001b[0;34m[\u001b[0m\u001b[0mlag_indexer\u001b[0m\u001b[0;34m]\u001b[0m\u001b[0;34m\u001b[0m\u001b[0;34m\u001b[0m\u001b[0m\n\u001b[1;32m   1925\u001b[0m         \u001b[0;32melse\u001b[0m\u001b[0;34m:\u001b[0m\u001b[0;34m\u001b[0m\u001b[0;34m\u001b[0m\u001b[0m\n\u001b[0;32m-> 1926\u001b[0;31m             \u001b[0mout_arr\u001b[0m\u001b[0;34m[\u001b[0m\u001b[0mres_indexer\u001b[0m\u001b[0;34m]\u001b[0m \u001b[0;34m=\u001b[0m \u001b[0marr\u001b[0m\u001b[0;34m[\u001b[0m\u001b[0mres_indexer\u001b[0m\u001b[0;34m]\u001b[0m \u001b[0;34m-\u001b[0m \u001b[0marr\u001b[0m\u001b[0;34m[\u001b[0m\u001b[0mlag_indexer\u001b[0m\u001b[0;34m]\u001b[0m\u001b[0;34m\u001b[0m\u001b[0;34m\u001b[0m\u001b[0m\n\u001b[0m\u001b[1;32m   1927\u001b[0m \u001b[0;34m\u001b[0m\u001b[0m\n\u001b[1;32m   1928\u001b[0m     \u001b[0;32mif\u001b[0m \u001b[0mis_timedelta\u001b[0m\u001b[0;34m:\u001b[0m\u001b[0;34m\u001b[0m\u001b[0;34m\u001b[0m\u001b[0m\n",
      "\u001b[0;31mTypeError\u001b[0m: unsupported operand type(s) for -: 'str' and 'str'"
     ]
    }
   ],
   "source": [
    "df_ico['time_diff'] = df_ico['BLOCK_TIMESTAMP'].diff()\n",
    "df_ico['time_diff_seconds'] = df_ico['BLOCK_TIMESTAMP'].diff().dt.seconds\n",
    "df_ico.set_index('date', inplace=True)\n",
    "df_ico.head(10)"
   ]
  },
  {
   "cell_type": "markdown",
   "metadata": {},
   "source": [
    "## 2. Exploratory visualizations\n",
    "\n",
    "Install the following libraries:\n",
    "\n",
    "```\n",
    "pip install plotly\n",
    "```\n",
    "Das tabelas em JSON: (essas tabelas eu até te mostro como fazer o acesso aos dados. Tem que fazer um token.<br> Mas é tranquilo) (Acabei de ver aqui que só é possível fazer download de 10000 dados de uma vez só.) (Estou a procura de um serviço que me provenha isso, mas tá difícil de achar) (Estou verificando a possibilidade de fazer o download de toda a blockchain e deixar num servidor 1TB)\n",
    "\n",
    "* 2.1. Histograma de espaço de tempo entre as transações\n",
    "\n",
    "* 2.2 Quantidade de transações por dia\n",
    "\n",
    "* 2.3 Quantidade de transações por minuto\n",
    "\n",
    "* 2.4 Quantidade de velocidade de transações por minuto\n",
    "\n",
    "* 2.5 Quantidade de aceleração de transações por minuto\n",
    "\n",
    "* 2.6 Quantidade de transações cumulativas por minuto\n",
    "\n",
    "* 2.7 Quantidade de GAS por minuto\n",
    "\n",
    "* 2.8 Quantidade de velocidade de GAS por minuto\n",
    "\n",
    "* 2.9 Quantidade de aceleração de GAS por minuto\n",
    "\n",
    "* 2.10 Quantidade de GAS cumulativo por minuto\n",
    "\n",
    "* 2.11 Razão transações / GAS por minuto (muitas vezes, o GAS vai dar zero. Daí, é preciso normalizar os GASes. Tipo, colocar uma média móvel. Ainda não pensei muito a respeito, mas a ideia é essa)\n",
    "\n",
    "* 2.12 Transações de segunda ordem em diante por minuto\n",
    "\n",
    "* 2.13 Transações de terceira ordem em diante por minuto\n",
    "\n",
    "* 2.14 Transações de quarta ordem em diante por minuto\n",
    "\n",
    "* 2.15 Transações de quinta ordem em diante por minuto\n"
   ]
  },
  {
   "cell_type": "code",
   "execution_count": null,
   "metadata": {},
   "outputs": [],
   "source": [
    "df_resample_hours = df_ico.resample('h').sum()\n",
    "df_resample_hours.head()"
   ]
  },
  {
   "cell_type": "code",
   "execution_count": null,
   "metadata": {},
   "outputs": [],
   "source": [
    "fig = go.Figure(data=go.Scatter(x=df_ico.index, y=df_ico['nonce'], mode='markers'))\n",
    "fig.show()\n"
   ]
  },
  {
   "cell_type": "code",
   "execution_count": null,
   "metadata": {},
   "outputs": [],
   "source": [
    "df_ico['timeStamp']\n",
    "df_ico['timeStamp']\n",
    "go.Figure(data=go.Scatter(x=t, y=y, mode='markers'))"
   ]
  },
  {
   "cell_type": "markdown",
   "metadata": {},
   "source": [
    "### 2.1. Histograma de espaço de tempo entre as transações"
   ]
  },
  {
   "cell_type": "code",
   "execution_count": null,
   "metadata": {},
   "outputs": [],
   "source": [
    "import plotly.graph_objs as go\n"
   ]
  },
  {
   "cell_type": "code",
   "execution_count": null,
   "metadata": {},
   "outputs": [],
   "source": [
    "fig = go.Figure(data=[go.Histogram(x=df_ico['time_diff_seconds'])])\n",
    "fig.show()"
   ]
  },
  {
   "cell_type": "markdown",
   "metadata": {},
   "source": [
    "### 3.2 Quantidade de transações por dia"
   ]
  },
  {
   "cell_type": "code",
   "execution_count": null,
   "metadata": {},
   "outputs": [],
   "source": [
    "df_ico['counter'] = 1"
   ]
  },
  {
   "cell_type": "code",
   "execution_count": null,
   "metadata": {},
   "outputs": [],
   "source": [
    "df_ico.head()"
   ]
  },
  {
   "cell_type": "code",
   "execution_count": null,
   "metadata": {},
   "outputs": [],
   "source": [
    "df_ico.set_index('timeStamp', inplace=True)"
   ]
  },
  {
   "cell_type": "code",
   "execution_count": null,
   "metadata": {},
   "outputs": [],
   "source": [
    "fig = go.Figure(data=go.Scatter(x=df_ico['counter'].resample('D').sum().index, y=df_ico['counter'].resample('D').sum()))\n",
    "fig.show()"
   ]
  },
  {
   "cell_type": "code",
   "execution_count": null,
   "metadata": {},
   "outputs": [],
   "source": [
    "fig = go.Figure(data=go.Scatter(x=df_ico['counter'].resample('H').sum().index, y=df_ico['counter'].resample('H').sum()))\n",
    "fig.show()"
   ]
  },
  {
   "cell_type": "markdown",
   "metadata": {},
   "source": [
    "### 3.3 Quantidade de transações por minuto"
   ]
  },
  {
   "cell_type": "code",
   "execution_count": null,
   "metadata": {},
   "outputs": [],
   "source": [
    "fig = go.Figure(data=go.Scatter(x=df_ico['counter'].resample('min').sum().index, y=df_ico['counter'].resample('min').sum()))\n",
    "fig.show()"
   ]
  },
  {
   "cell_type": "markdown",
   "metadata": {},
   "source": [
    "### 3.4 Quantidade de velocidade de transações por minuto"
   ]
  },
  {
   "cell_type": "code",
   "execution_count": null,
   "metadata": {},
   "outputs": [],
   "source": [
    "df_speed_minute = df_ico['time_diff_seconds'].diff() /60\n",
    "df_speed_minute"
   ]
  },
  {
   "cell_type": "code",
   "execution_count": null,
   "metadata": {},
   "outputs": [],
   "source": [
    "fig = go.Figure(data=go.Scatter(x=df_speed_minute.index, y=df_speed_minute))\n",
    "fig.show()"
   ]
  },
  {
   "cell_type": "markdown",
   "metadata": {},
   "source": [
    "### 3.5 Quantidade de aceleração de transações por minuto\n"
   ]
  },
  {
   "cell_type": "code",
   "execution_count": null,
   "metadata": {},
   "outputs": [],
   "source": [
    "df_acceleration_minute = df_speed_minute.diff()\n",
    "fig = go.Figure(data=go.Scatter(x=df_acceleration_minute.index, y=df_acceleration_minute))\n",
    "fig.show()"
   ]
  },
  {
   "cell_type": "markdown",
   "metadata": {},
   "source": [
    "### 3.6 Quantidade de transações cumulativas por minuto\n"
   ]
  },
  {
   "cell_type": "code",
   "execution_count": null,
   "metadata": {},
   "outputs": [],
   "source": [
    "df_resample_hour = pd.DataFrame(df_ico['counter'].resample('H').sum())\n",
    "df_resample_hour['cumsum'] = df_resample_hour.counter.cumsum()\n",
    "df_resample_hour"
   ]
  },
  {
   "cell_type": "code",
   "execution_count": null,
   "metadata": {},
   "outputs": [],
   "source": [
    "#df_ico['cumsum'] = df_ico.counter.cumsum()\n",
    "fig = go.Figure(data=go.Scatter(x=df_resample_hour['cumsum'].resample('min').sum().index, y=df_resample_hour['cumsum'].resample('min').sum()))\n",
    "fig.show()"
   ]
  },
  {
   "cell_type": "markdown",
   "metadata": {},
   "source": [
    "### 3.7 Quantidade de GAS por hora"
   ]
  },
  {
   "cell_type": "markdown",
   "metadata": {},
   "source": [
    "fig = go.Figure(data=go.Scatter(x=df_ico['gas'].resample('H').sum().index, y=df_ico['gas'].resample('H').sum()))\n",
    "fig.show()"
   ]
  },
  {
   "cell_type": "code",
   "execution_count": null,
   "metadata": {},
   "outputs": [],
   "source": [
    "df_ico.head(10)"
   ]
  },
  {
   "cell_type": "markdown",
   "metadata": {},
   "source": [
    "### 3.8 Quantidade de velocidade de GAS por minuto"
   ]
  },
  {
   "cell_type": "code",
   "execution_count": null,
   "metadata": {},
   "outputs": [],
   "source": [
    "df_gas_diff = pd.DataFrame(df_ico.gas.diff())"
   ]
  },
  {
   "cell_type": "code",
   "execution_count": null,
   "metadata": {},
   "outputs": [],
   "source": [
    "fig = go.Figure(data=go.Scatter(x=df_gas_diff['gas'].resample('H').sum().index, y=df_gas_diff['gas'].resample('H').sum()))\n",
    "fig.show()"
   ]
  },
  {
   "cell_type": "markdown",
   "metadata": {},
   "source": [
    "### 3.9 Quantidade de aceleração de GAS por minuto"
   ]
  },
  {
   "cell_type": "code",
   "execution_count": null,
   "metadata": {},
   "outputs": [],
   "source": [
    "df_gas_diff_acceleration = pd.DataFrame(df_gas_diff.gas.diff())\n",
    "fig = go.Figure(data=go.Scatter(x=df_gas_diff_acceleration['gas'].resample('H').sum().index, y=df_gas_diff_acceleration['gas'].resample('H').sum()))\n",
    "fig.show()"
   ]
  },
  {
   "cell_type": "markdown",
   "metadata": {},
   "source": [
    "### 3.10 Quantidade de GAS cumulativo por hora"
   ]
  },
  {
   "cell_type": "code",
   "execution_count": null,
   "metadata": {},
   "outputs": [],
   "source": [
    "df_gas_hour = pd.DataFrame(df_ico['gas'].resample('H').sum())\n",
    "df_gas_hour['cumsum_gas'] = df_gas_hour.gas.cumsum()\n",
    "df_gas_hour"
   ]
  },
  {
   "cell_type": "code",
   "execution_count": null,
   "metadata": {},
   "outputs": [],
   "source": [
    "fig = go.Figure(data=go.Scatter(x=df_gas_hour['cumsum_gas'].resample('H').sum().index, y=df_gas_hour['cumsum_gas'].resample('H').sum()))\n",
    "fig.show()"
   ]
  },
  {
   "cell_type": "markdown",
   "metadata": {},
   "source": [
    "### 3.11 Razão transações / GAS por minuto (muitas vezes, o GAS vai dar zero. Daí, é preciso normalizar os GASes. Tipo, colocar uma média móvel. Ainda não pensei muito a respeito, mas a ideia é essa) ?"
   ]
  },
  {
   "cell_type": "code",
   "execution_count": null,
   "metadata": {},
   "outputs": [],
   "source": []
  },
  {
   "cell_type": "code",
   "execution_count": null,
   "metadata": {},
   "outputs": [],
   "source": []
  },
  {
   "cell_type": "code",
   "execution_count": null,
   "metadata": {},
   "outputs": [],
   "source": []
  },
  {
   "cell_type": "markdown",
   "metadata": {},
   "source": [
    "### 3.12 Transações de segunda ordem em diante por minuto"
   ]
  },
  {
   "cell_type": "code",
   "execution_count": null,
   "metadata": {},
   "outputs": [],
   "source": [
    "###  3.13 Transações de terceira ordem em diante por minuto"
   ]
  },
  {
   "cell_type": "code",
   "execution_count": null,
   "metadata": {},
   "outputs": [],
   "source": [
    "###  3.14 Transações de quarta ordem em diante por minuto"
   ]
  },
  {
   "cell_type": "code",
   "execution_count": null,
   "metadata": {},
   "outputs": [],
   "source": [
    "###  3.15 Transações de quinta ordem em diante por minuto"
   ]
  },
  {
   "cell_type": "markdown",
   "metadata": {},
   "source": [
    "Das tabelas de token:\n",
    "\n",
    "15) Quantidade de tokens / moedas cunhadas (transação \"000\")  negociados por minuto\n",
    "\n",
    "16) Quantidade de transferências por minuto\n",
    "\n",
    "17) Histograma de quantidade de tokens por transação\n",
    "\n",
    "18) Porcentagem que o destino da primeira transação tem de todos os tokens por minuto"
   ]
  },
  {
   "cell_type": "code",
   "execution_count": null,
   "metadata": {},
   "outputs": [],
   "source": []
  },
  {
   "cell_type": "code",
   "execution_count": null,
   "metadata": {},
   "outputs": [],
   "source": []
  },
  {
   "cell_type": "code",
   "execution_count": null,
   "metadata": {},
   "outputs": [],
   "source": []
  },
  {
   "cell_type": "code",
   "execution_count": null,
   "metadata": {},
   "outputs": [],
   "source": []
  },
  {
   "cell_type": "code",
   "execution_count": null,
   "metadata": {},
   "outputs": [],
   "source": []
  },
  {
   "cell_type": "code",
   "execution_count": null,
   "metadata": {},
   "outputs": [],
   "source": []
  },
  {
   "cell_type": "markdown",
   "metadata": {},
   "source": [
    "## 4. Crossing the TxHash from Smart Contract and Tokens tables"
   ]
  },
  {
   "cell_type": "code",
   "execution_count": null,
   "metadata": {},
   "outputs": [],
   "source": [
    "import matplotlib.pyplot as plt\n",
    "from matplotlib_venn import venn2"
   ]
  },
  {
   "cell_type": "code",
   "execution_count": null,
   "metadata": {},
   "outputs": [],
   "source": [
    "set_sc_txhash = set(df_ico.Txhash.to_list())\n",
    "set_t_txhash = set(df_token.Txhash.to_list())"
   ]
  },
  {
   "cell_type": "code",
   "execution_count": null,
   "metadata": {},
   "outputs": [],
   "source": [
    "venn2([set_sc_txhash, set_t_txhash], set_labels=('Smart Contract', 'Tokens'), set_colors=('orange', 'blue'),)\n",
    "plt.show() "
   ]
  },
  {
   "cell_type": "markdown",
   "metadata": {},
   "source": [
    "## 5. Defining the start of the ICO\n",
    "The idea for this session is to stablish a way to define the start of the ICO by looking at the transactions."
   ]
  },
  {
   "cell_type": "code",
   "execution_count": null,
   "metadata": {},
   "outputs": [],
   "source": [
    "df_ico.head()"
   ]
  },
  {
   "cell_type": "code",
   "execution_count": null,
   "metadata": {},
   "outputs": [],
   "source": [
    "df_ico.Quantity.plot()"
   ]
  },
  {
   "cell_type": "markdown",
   "metadata": {},
   "source": [
    "### TxnFee vs. Number of Transactions"
   ]
  },
  {
   "cell_type": "code",
   "execution_count": null,
   "metadata": {},
   "outputs": [],
   "source": []
  },
  {
   "cell_type": "code",
   "execution_count": null,
   "metadata": {},
   "outputs": [],
   "source": [
    "df_resample_sc_day = df_ico.resample('D').sum()[['TxnFee(ETH)', 'counter']]\n",
    "df_resample_sc_hour = df_ico.resample('H').sum()[['TxnFee(ETH)', 'counter']]\n",
    "\n",
    "df_resample_sc_day.head()"
   ]
  },
  {
   "cell_type": "code",
   "execution_count": null,
   "metadata": {},
   "outputs": [],
   "source": [
    "plt.bar(df_resample_sc_day.index, df_resample_sc_day.counter, )\n",
    "plt.plot(df_resample_sc_day.index, df_resample_sc_day['TxnFee(ETH)'] )"
   ]
  },
  {
   "cell_type": "code",
   "execution_count": null,
   "metadata": {},
   "outputs": [],
   "source": [
    "fig, ax1 = plt.subplots(figsize=(20,10))\n",
    "\n",
    "color = 'tab:red'\n",
    "#ax1.set_xlabel('time (s)')\n",
    "ax1.set_ylabel('exp', color=color)\n",
    "ax1.plot(df_resample_sc_day.index, df_resample_sc_day['TxnFee(ETH)'] )\n",
    "#ax1.tick_params(axis='y', labelcolor=color)\n",
    "\n",
    "ax2 = ax1.twinx()  # instantiate a second axes that shares the same x-axis\n",
    "\n",
    "color = 'tab:blue'\n",
    "#ax2.set_ylabel('sin', color=color)  # we already handled the x-label with ax1\n",
    "ax2.bar(df_resample_sc_day.index, df_resample_sc_day.counter )\n",
    "#ax2.tick_params(axis='y', labelcolor=color)\n",
    "\n",
    "plt.figure(figsize=(20,10))\n",
    "#fig.tight_layout()  # otherwise the right y-label is slightly clipped\n",
    "#plt.show()\n"
   ]
  },
  {
   "cell_type": "code",
   "execution_count": null,
   "metadata": {},
   "outputs": [],
   "source": [
    "fig, ax1 = plt.subplots(figsize=(20,10))\n",
    "\n",
    "color = 'tab:red'\n",
    "#ax1.set_xlabel('time (s)')\n",
    "ax1.set_ylabel('exp', color=color)\n",
    "ax1.plot(df_resample_sc_hour.index, df_resample_sc_hour['TxnFee(ETH)'] )\n",
    "#ax1.tick_params(axis='y', labelcolor=color)\n",
    "\n",
    "ax2 = ax1.twinx()  # instantiate a second axes that shares the same x-axis\n",
    "\n",
    "color = 'tab:blue'\n",
    "#ax2.set_ylabel('sin', color=color)  # we already handled the x-label with ax1\n",
    "ax2.bar(df_resample_sc_hour.index, df_resample_sc_hour.counter )\n",
    "#ax2.tick_params(axis='y', labelcolor=color)\n",
    "\n",
    "plt.figure(figsize=(20,10))\n",
    "#fig.tight_layout()  # otherwise the right y-label is slightly clipped\n",
    "#plt.show()\n"
   ]
  },
  {
   "cell_type": "code",
   "execution_count": null,
   "metadata": {},
   "outputs": [],
   "source": [
    "fig, (ax1,ax2) = plt.subplots(2,1, figsize=(20,10))\n",
    "\n",
    "color = 'tab:red'\n",
    "#ax1.set_xlabel('time (s)')\n",
    "#ax1.set_ylabel('exp', color=color)\n",
    "ax1.plot(df_resample_sc_day.index, df_resample_sc_day['TxnFee(ETH)'] )\n",
    "#ax1.tick_params(axis='y', labelcolor=color)\n",
    "\n",
    "#ax2 = ax1.twinx()  # instantiate a second axes that shares the same x-axis\n",
    "\n",
    "color = 'tab:blue'\n",
    "#ax2.set_ylabel('sin', color=color)  # we already handled the x-label with ax1\n",
    "ax2.bar(df_resample_sc_day.index, df_resample_sc_day.counter )\n",
    "#ax2.tick_params(axis='y', labelcolor=color)\n",
    "\n",
    "plt.figure(figsize=(20,10))\n",
    "#fig.tight_layout()  # otherwise the right y-label is slightly clipped\n",
    "#plt.show()"
   ]
  },
  {
   "cell_type": "code",
   "execution_count": null,
   "metadata": {},
   "outputs": [],
   "source": [
    "df_resample_sc_day.plot(y='counter', kind='bar', figsize=(20,10))"
   ]
  },
  {
   "cell_type": "code",
   "execution_count": null,
   "metadata": {},
   "outputs": [],
   "source": []
  }
 ],
 "metadata": {
  "kernelspec": {
   "display_name": "time_series",
   "language": "python",
   "name": "time_series"
  },
  "language_info": {
   "codemirror_mode": {
    "name": "ipython",
    "version": 3
   },
   "file_extension": ".py",
   "mimetype": "text/x-python",
   "name": "python",
   "nbconvert_exporter": "python",
   "pygments_lexer": "ipython3",
   "version": "3.8.3"
  }
 },
 "nbformat": 4,
 "nbformat_minor": 4
}
