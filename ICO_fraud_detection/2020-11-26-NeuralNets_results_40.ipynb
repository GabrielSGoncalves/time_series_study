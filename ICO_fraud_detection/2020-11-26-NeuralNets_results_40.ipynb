{
 "cells": [
  {
   "cell_type": "markdown",
   "metadata": {},
   "source": [
    "# Results for NeuralNetworks using Series of size 40\n",
    "\n",
    "## Objective\n",
    "\n",
    "## Steps"
   ]
  },
  {
   "cell_type": "markdown",
   "metadata": {},
   "source": [
    "## 1. File with information about ICO"
   ]
  },
  {
   "cell_type": "code",
   "execution_count": 1,
   "metadata": {},
   "outputs": [],
   "source": [
    "import pandas as pd\n",
    "import os\n",
    "import re\n",
    "import pytz\n",
    "from datetime import datetime, timedelta\n",
    "import pickle"
   ]
  },
  {
   "cell_type": "code",
   "execution_count": 2,
   "metadata": {},
   "outputs": [],
   "source": [
    "df_info = pd.read_csv('lista_ico_2020-08-17_tab3.csv', sep=',')"
   ]
  },
  {
   "cell_type": "code",
   "execution_count": 3,
   "metadata": {},
   "outputs": [
    {
     "data": {
      "text/html": [
       "<div>\n",
       "<style scoped>\n",
       "    .dataframe tbody tr th:only-of-type {\n",
       "        vertical-align: middle;\n",
       "    }\n",
       "\n",
       "    .dataframe tbody tr th {\n",
       "        vertical-align: top;\n",
       "    }\n",
       "\n",
       "    .dataframe thead th {\n",
       "        text-align: right;\n",
       "    }\n",
       "</style>\n",
       "<table border=\"1\" class=\"dataframe\">\n",
       "  <thead>\n",
       "    <tr style=\"text-align: right;\">\n",
       "      <th></th>\n",
       "      <th>ico</th>\n",
       "      <th>adress</th>\n",
       "      <th>fraud</th>\n",
       "      <th>start_date</th>\n",
       "      <th>market_start_date</th>\n",
       "      <th>diff_days</th>\n",
       "      <th>market_days</th>\n",
       "      <th>size_ok</th>\n",
       "      <th>price</th>\n",
       "      <th>market_cap</th>\n",
       "      <th>o_concur</th>\n",
       "      <th>biggest_holder</th>\n",
       "      <th>exchange</th>\n",
       "      <th>contract</th>\n",
       "      <th>date_analysis</th>\n",
       "      <th>code</th>\n",
       "      <th>site</th>\n",
       "      <th>social_media</th>\n",
       "    </tr>\n",
       "  </thead>\n",
       "  <tbody>\n",
       "    <tr>\n",
       "      <th>0</th>\n",
       "      <td>0X</td>\n",
       "      <td>0xe41d2489571d322189246dafa5ebde1f4699f498</td>\n",
       "      <td>0</td>\n",
       "      <td>2017-08-11</td>\n",
       "      <td>2017-08-15</td>\n",
       "      <td>4</td>\n",
       "      <td>1124</td>\n",
       "      <td>NaN</td>\n",
       "      <td>NaN</td>\n",
       "      <td>45.0</td>\n",
       "      <td>x</td>\n",
       "      <td>2</td>\n",
       "      <td>6</td>\n",
       "      <td>14</td>\n",
       "      <td>2018-02-11</td>\n",
       "      <td>NaN</td>\n",
       "      <td>NaN</td>\n",
       "      <td>NaN</td>\n",
       "    </tr>\n",
       "    <tr>\n",
       "      <th>1</th>\n",
       "      <td>0XCERT</td>\n",
       "      <td>0x83e2be8d114f9661221384b3a50d24b96a5653f5</td>\n",
       "      <td>1</td>\n",
       "      <td>2018-06-26</td>\n",
       "      <td>2018-07-11</td>\n",
       "      <td>15</td>\n",
       "      <td>794</td>\n",
       "      <td>x</td>\n",
       "      <td>NaN</td>\n",
       "      <td>NaN</td>\n",
       "      <td>NaN</td>\n",
       "      <td>12</td>\n",
       "      <td>2</td>\n",
       "      <td>0</td>\n",
       "      <td>2019-01-07</td>\n",
       "      <td>x</td>\n",
       "      <td>x</td>\n",
       "      <td>x</td>\n",
       "    </tr>\n",
       "    <tr>\n",
       "      <th>2</th>\n",
       "      <td>4NEW</td>\n",
       "      <td>0x241ba672574a78a3a604cdd0a94429a73a84a324</td>\n",
       "      <td>1</td>\n",
       "      <td>2018-08-20</td>\n",
       "      <td>2018-08-20</td>\n",
       "      <td>0</td>\n",
       "      <td>754</td>\n",
       "      <td>x</td>\n",
       "      <td>NaN</td>\n",
       "      <td>NaN</td>\n",
       "      <td>NaN</td>\n",
       "      <td>50</td>\n",
       "      <td>7</td>\n",
       "      <td>0</td>\n",
       "      <td>2019-02-16</td>\n",
       "      <td>x</td>\n",
       "      <td>NaN</td>\n",
       "      <td>NaN</td>\n",
       "    </tr>\n",
       "    <tr>\n",
       "      <th>3</th>\n",
       "      <td>ABULABA</td>\n",
       "      <td>0xd938137e6d96c72e4a6085412ada2dad78ff89c4</td>\n",
       "      <td>1</td>\n",
       "      <td>2018-04-19</td>\n",
       "      <td>2018-12-16</td>\n",
       "      <td>241</td>\n",
       "      <td>636</td>\n",
       "      <td>NaN</td>\n",
       "      <td>x</td>\n",
       "      <td>NaN</td>\n",
       "      <td>NaN</td>\n",
       "      <td>13</td>\n",
       "      <td>7</td>\n",
       "      <td>41</td>\n",
       "      <td>2019-06-14</td>\n",
       "      <td>x</td>\n",
       "      <td>NaN</td>\n",
       "      <td>NaN</td>\n",
       "    </tr>\n",
       "    <tr>\n",
       "      <th>4</th>\n",
       "      <td>AELF</td>\n",
       "      <td>0xbf2179859fc6d5bee9bf9158632dc51678a4100e</td>\n",
       "      <td>0</td>\n",
       "      <td>2017-12-18</td>\n",
       "      <td>2017-12-21</td>\n",
       "      <td>3</td>\n",
       "      <td>996</td>\n",
       "      <td>NaN</td>\n",
       "      <td>NaN</td>\n",
       "      <td>154.0</td>\n",
       "      <td>x</td>\n",
       "      <td>13</td>\n",
       "      <td>10</td>\n",
       "      <td>0</td>\n",
       "      <td>2018-06-19</td>\n",
       "      <td>NaN</td>\n",
       "      <td>NaN</td>\n",
       "      <td>NaN</td>\n",
       "    </tr>\n",
       "  </tbody>\n",
       "</table>\n",
       "</div>"
      ],
      "text/plain": [
       "       ico                                      adress  fraud  start_date  \\\n",
       "0       0X  0xe41d2489571d322189246dafa5ebde1f4699f498      0  2017-08-11   \n",
       "1   0XCERT  0x83e2be8d114f9661221384b3a50d24b96a5653f5      1  2018-06-26   \n",
       "2     4NEW  0x241ba672574a78a3a604cdd0a94429a73a84a324      1  2018-08-20   \n",
       "3  ABULABA  0xd938137e6d96c72e4a6085412ada2dad78ff89c4      1  2018-04-19   \n",
       "4     AELF  0xbf2179859fc6d5bee9bf9158632dc51678a4100e      0  2017-12-18   \n",
       "\n",
       "  market_start_date  diff_days  market_days size_ok price  market_cap  \\\n",
       "0        2017-08-15          4         1124     NaN   NaN        45.0   \n",
       "1        2018-07-11         15          794       x   NaN         NaN   \n",
       "2        2018-08-20          0          754       x   NaN         NaN   \n",
       "3        2018-12-16        241          636     NaN     x         NaN   \n",
       "4        2017-12-21          3          996     NaN   NaN       154.0   \n",
       "\n",
       "  o_concur  biggest_holder  exchange  contract date_analysis code site  \\\n",
       "0        x               2         6        14    2018-02-11  NaN  NaN   \n",
       "1      NaN              12         2         0    2019-01-07    x    x   \n",
       "2      NaN              50         7         0    2019-02-16    x  NaN   \n",
       "3      NaN              13         7        41    2019-06-14    x  NaN   \n",
       "4        x              13        10         0    2018-06-19  NaN  NaN   \n",
       "\n",
       "  social_media  \n",
       "0          NaN  \n",
       "1            x  \n",
       "2          NaN  \n",
       "3          NaN  \n",
       "4          NaN  "
      ]
     },
     "execution_count": 3,
     "metadata": {},
     "output_type": "execute_result"
    }
   ],
   "source": [
    "df_info.head()"
   ]
  },
  {
   "cell_type": "markdown",
   "metadata": {},
   "source": [
    "## 3. Load data from .py file"
   ]
  },
  {
   "cell_type": "code",
   "execution_count": 4,
   "metadata": {},
   "outputs": [],
   "source": [
    "with open('dict_arrays_length40.pickle','rb') as pickle_file:\n",
    "    dict_ico_len_40 = pickle.load(pickle_file) "
   ]
  },
  {
   "cell_type": "code",
   "execution_count": 5,
   "metadata": {},
   "outputs": [
    {
     "data": {
      "text/plain": [
       "('array_daily_transactions',\n",
       " 'array_perc_new_holders',\n",
       " 'array_biggest_holder',\n",
       " 'array_newbiers',\n",
       " 'array_gas_ratio',\n",
       " 'array_daily_transactions_ma',\n",
       " 'array_perc_new_holders_ma',\n",
       " 'array_biggest_holder_ma',\n",
       " 'array_newbiers_ma',\n",
       " 'array_gas_ratio_ma')"
      ]
     },
     "execution_count": 5,
     "metadata": {},
     "output_type": "execute_result"
    }
   ],
   "source": [
    "dict_ico_len_40.get('arrays')"
   ]
  },
  {
   "cell_type": "code",
   "execution_count": 6,
   "metadata": {},
   "outputs": [
    {
     "data": {
      "text/plain": [
       "('array_daily_transactions',\n",
       " 'array_perc_new_holders',\n",
       " 'array_biggest_holder',\n",
       " 'array_newbiers',\n",
       " 'array_gas_ratio',\n",
       " 'array_daily_transactions_ma',\n",
       " 'array_perc_new_holders_ma',\n",
       " 'array_biggest_holder_ma',\n",
       " 'array_newbiers_ma',\n",
       " 'array_gas_ratio_ma')"
      ]
     },
     "execution_count": 6,
     "metadata": {},
     "output_type": "execute_result"
    }
   ],
   "source": [
    "dict_ico_len_40.pop('arrays')"
   ]
  },
  {
   "cell_type": "markdown",
   "metadata": {},
   "source": [
    "## 4. Filter data for size equals to 40"
   ]
  },
  {
   "cell_type": "code",
   "execution_count": 7,
   "metadata": {},
   "outputs": [],
   "source": [
    "dict_perc_transactions = {k:v[0] for k,v in dict_ico_len_40.items() if len(v[0]) == 40}\n",
    "dict_perc_new_holders = {k:v[1] for k,v in dict_ico_len_40.items() if len(v[1]) == 40}\n",
    "dict_perc_big_holder = {k:v[2] for k,v in dict_ico_len_40.items() if len(v[2]) == 40}\n",
    "dict_perc_newbiers = {k:v[3] for k,v in dict_ico_len_40.items() if len(v[3]) == 40}\n",
    "dict_gas_ratio = {k:v[4] for k,v in dict_ico_len_40.items() if len(v[4]) == 40}\n",
    "dict_perc_transactions_ma = {k:v[5] for k,v in dict_ico_len_40.items() if len(v[5]) == 40}\n",
    "dict_perc_new_holders_ma = {k:v[6] for k,v in dict_ico_len_40.items() if len(v[6]) == 40}\n",
    "dict_perc_big_holder_ma = {k:v[7] for k,v in dict_ico_len_40.items() if len(v[7]) == 40}\n",
    "dict_perc_newbiers_ma = {k:v[8] for k,v in dict_ico_len_40.items() if len(v[8]) == 40}\n",
    "dict_gas_ratio_ma = {k:v[9] for k,v in dict_ico_len_40.items() if len(v[9]) == 40}"
   ]
  },
  {
   "cell_type": "code",
   "execution_count": 8,
   "metadata": {},
   "outputs": [],
   "source": [
    "df_transactions = pd.DataFrame(dict_perc_transactions).T\n",
    "df_new_holders = pd.DataFrame(dict_perc_new_holders).T\n",
    "df_big_holder = pd.DataFrame(dict_perc_big_holder).T\n",
    "df_newbiers = pd.DataFrame(dict_perc_newbiers).T\n",
    "df_gasratio = pd.DataFrame(dict_gas_ratio).T\n",
    "df_transactions_ma = pd.DataFrame(dict_perc_transactions_ma).T\n",
    "df_new_holders_ma = pd.DataFrame(dict_perc_new_holders_ma).T\n",
    "df_big_holder_ma = pd.DataFrame(dict_perc_big_holder_ma).T\n",
    "df_newbiers_ma = pd.DataFrame(dict_perc_newbiers_ma).T\n",
    "df_gasratio_ma = pd.DataFrame(dict_gas_ratio_ma).T"
   ]
  },
  {
   "cell_type": "code",
   "execution_count": 9,
   "metadata": {},
   "outputs": [
    {
     "name": "stdout",
     "output_type": "stream",
     "text": [
      "(237, 40)\n",
      "(237, 40)\n",
      "(237, 40)\n",
      "(237, 40)\n",
      "(223, 40)\n",
      "(237, 40)\n",
      "(237, 40)\n",
      "(237, 40)\n",
      "(237, 40)\n",
      "(223, 40)\n"
     ]
    }
   ],
   "source": [
    "print(df_transactions.shape)\n",
    "print(df_new_holders.shape)\n",
    "print(df_big_holder.shape)\n",
    "print(df_newbiers.shape)\n",
    "print(df_gasratio.shape)\n",
    "print(df_transactions_ma.shape)\n",
    "print(df_new_holders_ma.shape)\n",
    "print(df_big_holder_ma.shape)\n",
    "print(df_newbiers.shape)\n",
    "print(df_gasratio_ma.shape)"
   ]
  },
  {
   "cell_type": "markdown",
   "metadata": {},
   "source": [
    "## 5. Dataset for training"
   ]
  },
  {
   "cell_type": "markdown",
   "metadata": {},
   "source": [
    "### 5.1. Regular Series"
   ]
  },
  {
   "cell_type": "code",
   "execution_count": 10,
   "metadata": {},
   "outputs": [],
   "source": [
    "df_training_transactions = df_transactions.merge(df_info[['ico','fraud']], left_index=True, right_on='ico')\n",
    "df_training_transactions.set_index('ico', inplace=True)\n",
    "\n",
    "df_training_new_holders = df_new_holders.merge(df_info[['ico','fraud']], left_index=True, right_on='ico')\n",
    "df_training_new_holders.set_index('ico', inplace=True)\n",
    "\n",
    "df_training_big_holder = df_big_holder.merge(df_info[['ico','fraud']], left_index=True, right_on='ico')\n",
    "df_training_big_holder.set_index('ico', inplace=True)\n",
    "\n",
    "df_training_newbiers = df_newbiers.merge(df_info[['ico','fraud']], left_index=True, right_on='ico')\n",
    "df_training_newbiers.set_index('ico', inplace=True)\n",
    "\n",
    "df_training_gasratio = df_gasratio.merge(df_info[['ico','fraud']], left_index=True, right_on='ico')\n",
    "df_training_gasratio.set_index('ico', inplace=True)"
   ]
  },
  {
   "cell_type": "markdown",
   "metadata": {},
   "source": [
    "### 5.2. Moving Average"
   ]
  },
  {
   "cell_type": "code",
   "execution_count": 11,
   "metadata": {},
   "outputs": [],
   "source": [
    "df_training_transactions_ma = df_transactions_ma.merge(df_info[['ico','fraud']], left_index=True, right_on='ico')\n",
    "df_training_transactions_ma.set_index('ico', inplace=True)\n",
    "\n",
    "df_training_new_holders_ma = df_new_holders_ma.merge(df_info[['ico','fraud']], left_index=True, right_on='ico')\n",
    "df_training_new_holders_ma.set_index('ico', inplace=True)\n",
    "\n",
    "df_training_big_holder_ma = df_big_holder_ma.merge(df_info[['ico','fraud']], left_index=True, right_on='ico')\n",
    "df_training_big_holder_ma.set_index('ico', inplace=True)\n",
    "\n",
    "df_training_newbiers_ma = df_newbiers_ma.merge(df_info[['ico','fraud']], left_index=True, right_on='ico')\n",
    "df_training_newbiers_ma.set_index('ico', inplace=True)\n",
    "\n",
    "df_training_gasratio_ma = df_gasratio_ma.merge(df_info[['ico','fraud']], left_index=True, right_on='ico')\n",
    "df_training_gasratio_ma.set_index('ico', inplace=True)"
   ]
  },
  {
   "cell_type": "code",
   "execution_count": 12,
   "metadata": {},
   "outputs": [
    {
     "name": "stdout",
     "output_type": "stream",
     "text": [
      "(237, 41)\n",
      "(237, 41)\n",
      "(237, 41)\n",
      "(237, 41)\n",
      "(223, 41)\n"
     ]
    }
   ],
   "source": [
    "print(df_training_transactions_ma.shape)\n",
    "print(df_training_new_holders_ma.shape)\n",
    "print(df_training_big_holder_ma.shape)\n",
    "print(df_training_newbiers_ma.shape)\n",
    "print(df_training_gasratio_ma.shape)"
   ]
  },
  {
   "cell_type": "markdown",
   "metadata": {},
   "source": [
    "## 5. Training Neuralnets"
   ]
  },
  {
   "cell_type": "code",
   "execution_count": 13,
   "metadata": {},
   "outputs": [],
   "source": [
    "from ico_parser import ICODeepTraining"
   ]
  },
  {
   "cell_type": "markdown",
   "metadata": {},
   "source": [
    "### 5.1 Define the model"
   ]
  },
  {
   "cell_type": "code",
   "execution_count": 14,
   "metadata": {},
   "outputs": [],
   "source": [
    "from tensorflow.keras.models import Sequential\n",
    "from tensorflow.keras.metrics import Recall\n",
    "from tensorflow.keras.layers import Dense, Flatten, Dropout, Conv1D, MaxPooling1D\n",
    "from tensorflow.keras.wrappers.scikit_learn import KerasClassifier\n",
    "from tensorflow import keras"
   ]
  },
  {
   "cell_type": "code",
   "execution_count": 15,
   "metadata": {},
   "outputs": [],
   "source": [
    "model_mlp = Sequential()\n",
    "model_mlp.add(Dense(40, input_dim=40, activation='relu'))\n",
    "model_mlp.add(Dense(30, activation='relu'))\n",
    "model_mlp.add(Dense(20, activation='relu'))\n",
    "model_mlp.add(Dense(10, activation='relu'))\n",
    "model_mlp.add(Dense(1, activation='sigmoid'))"
   ]
  },
  {
   "cell_type": "code",
   "execution_count": 16,
   "metadata": {},
   "outputs": [
    {
     "name": "stdout",
     "output_type": "stream",
     "text": [
      "Model: \"sequential\"\n",
      "_________________________________________________________________\n",
      "Layer (type)                 Output Shape              Param #   \n",
      "=================================================================\n",
      "dense (Dense)                (None, 40)                1640      \n",
      "_________________________________________________________________\n",
      "dense_1 (Dense)              (None, 30)                1230      \n",
      "_________________________________________________________________\n",
      "dense_2 (Dense)              (None, 20)                620       \n",
      "_________________________________________________________________\n",
      "dense_3 (Dense)              (None, 10)                210       \n",
      "_________________________________________________________________\n",
      "dense_4 (Dense)              (None, 1)                 11        \n",
      "=================================================================\n",
      "Total params: 3,711\n",
      "Trainable params: 3,711\n",
      "Non-trainable params: 0\n",
      "_________________________________________________________________\n"
     ]
    }
   ],
   "source": [
    "ico_training = ICODeepTraining(df_training_big_holder.iloc[:, :-1],\n",
    "                               df_training_big_holder.iloc[:, -1],\n",
    "                               model_mlp,\n",
    "                               ann_type='mlp',\n",
    "                               size_array=40)\n",
    "                               \n",
    "ico_training.split_train_test()\n",
    "ico_training.model_summary()"
   ]
  },
  {
   "cell_type": "code",
   "execution_count": 17,
   "metadata": {},
   "outputs": [],
   "source": [
    "earlystop =  keras.callbacks.EarlyStopping(monitor='loss', patience=50)"
   ]
  },
  {
   "cell_type": "code",
   "execution_count": 22,
   "metadata": {},
   "outputs": [
    {
     "ename": "ValueError",
     "evalue": "in user code:\n\n    /home/gabriel/miniconda3/envs/time_series/lib/python3.8/site-packages/tensorflow/python/keras/engine/training.py:571 train_function  *\n        outputs = self.distribute_strategy.run(\n    /home/gabriel/miniconda3/envs/time_series/lib/python3.8/site-packages/tensorflow/python/distribute/distribute_lib.py:951 run  **\n        return self._extended.call_for_each_replica(fn, args=args, kwargs=kwargs)\n    /home/gabriel/miniconda3/envs/time_series/lib/python3.8/site-packages/tensorflow/python/distribute/distribute_lib.py:2290 call_for_each_replica\n        return self._call_for_each_replica(fn, args, kwargs)\n    /home/gabriel/miniconda3/envs/time_series/lib/python3.8/site-packages/tensorflow/python/distribute/distribute_lib.py:2649 _call_for_each_replica\n        return fn(*args, **kwargs)\n    /home/gabriel/miniconda3/envs/time_series/lib/python3.8/site-packages/tensorflow/python/keras/engine/training.py:543 train_step  **\n        self.compiled_metrics.update_state(y, y_pred, sample_weight)\n    /home/gabriel/miniconda3/envs/time_series/lib/python3.8/site-packages/tensorflow/python/keras/engine/compile_utils.py:391 update_state\n        self._build(y_pred, y_true)\n    /home/gabriel/miniconda3/envs/time_series/lib/python3.8/site-packages/tensorflow/python/keras/engine/compile_utils.py:321 _build\n        self._metrics = nest.map_structure_up_to(y_pred, self._get_metric_objects,\n    /home/gabriel/miniconda3/envs/time_series/lib/python3.8/site-packages/tensorflow/python/util/nest.py:1114 map_structure_up_to\n        return map_structure_with_tuple_paths_up_to(\n    /home/gabriel/miniconda3/envs/time_series/lib/python3.8/site-packages/tensorflow/python/util/nest.py:1213 map_structure_with_tuple_paths_up_to\n        results = [func(*args, **kwargs) for args in zip(flat_path_list,\n    /home/gabriel/miniconda3/envs/time_series/lib/python3.8/site-packages/tensorflow/python/util/nest.py:1213 <listcomp>\n        results = [func(*args, **kwargs) for args in zip(flat_path_list,\n    /home/gabriel/miniconda3/envs/time_series/lib/python3.8/site-packages/tensorflow/python/util/nest.py:1116 <lambda>\n        lambda _, *values: func(*values),  # Discards the path arg.\n    /home/gabriel/miniconda3/envs/time_series/lib/python3.8/site-packages/tensorflow/python/keras/engine/compile_utils.py:421 _get_metric_objects\n        return [self._get_metric_object(m, y_t, y_p) for m in metrics]\n    /home/gabriel/miniconda3/envs/time_series/lib/python3.8/site-packages/tensorflow/python/keras/engine/compile_utils.py:421 <listcomp>\n        return [self._get_metric_object(m, y_t, y_p) for m in metrics]\n    /home/gabriel/miniconda3/envs/time_series/lib/python3.8/site-packages/tensorflow/python/keras/engine/compile_utils.py:440 _get_metric_object\n        metric_obj = metrics_mod.get(metric)\n    /home/gabriel/miniconda3/envs/time_series/lib/python3.8/site-packages/tensorflow/python/keras/metrics.py:3358 get\n        return deserialize(str(identifier))\n    /home/gabriel/miniconda3/envs/time_series/lib/python3.8/site-packages/tensorflow/python/keras/metrics.py:3345 deserialize\n        return deserialize_keras_object(\n    /home/gabriel/miniconda3/envs/time_series/lib/python3.8/site-packages/tensorflow/python/keras/utils/generic_utils.py:392 deserialize_keras_object\n        raise ValueError('Unknown ' + printable_module_name + ':' + object_name)\n\n    ValueError: Unknown metric function:recall\n",
     "output_type": "error",
     "traceback": [
      "\u001b[0;31m---------------------------------------------------------------------------\u001b[0m",
      "\u001b[0;31mValueError\u001b[0m                                Traceback (most recent call last)",
      "\u001b[0;32m<ipython-input-22-b87554b69e85>\u001b[0m in \u001b[0;36m<module>\u001b[0;34m\u001b[0m\n\u001b[0;32m----> 1\u001b[0;31m ico_training.train_network(loss='binary_crossentropy', \n\u001b[0m\u001b[1;32m      2\u001b[0m                       \u001b[0moptimizer\u001b[0m\u001b[0;34m=\u001b[0m\u001b[0;34m'adam'\u001b[0m\u001b[0;34m,\u001b[0m\u001b[0;34m\u001b[0m\u001b[0;34m\u001b[0m\u001b[0m\n\u001b[1;32m      3\u001b[0m                       \u001b[0mmetrics\u001b[0m\u001b[0;34m=\u001b[0m\u001b[0;34m[\u001b[0m\u001b[0;34m'recall'\u001b[0m\u001b[0;34m]\u001b[0m \u001b[0;34m,\u001b[0m\u001b[0;34m\u001b[0m\u001b[0;34m\u001b[0m\u001b[0m\n\u001b[1;32m      4\u001b[0m                       \u001b[0mepochs\u001b[0m\u001b[0;34m=\u001b[0m\u001b[0;36m100\u001b[0m\u001b[0;34m,\u001b[0m\u001b[0;34m\u001b[0m\u001b[0;34m\u001b[0m\u001b[0m\n\u001b[1;32m      5\u001b[0m                       \u001b[0mverbose\u001b[0m\u001b[0;34m=\u001b[0m\u001b[0;36m0\u001b[0m\u001b[0;34m,\u001b[0m\u001b[0;34m\u001b[0m\u001b[0;34m\u001b[0m\u001b[0m\n",
      "\u001b[0;32m~/Documents/Repos/time_series_study/ICO_fraud_detection/ico_parser.py\u001b[0m in \u001b[0;36mtrain_network\u001b[0;34m(self, loss, optimizer, metrics, callback, epochs, verbose, batch_size)\u001b[0m\n\u001b[1;32m    561\u001b[0m         \u001b[0mself\u001b[0m\u001b[0;34m.\u001b[0m\u001b[0mdl_model\u001b[0m\u001b[0;34m.\u001b[0m\u001b[0mreset_states\u001b[0m\u001b[0;34m(\u001b[0m\u001b[0;34m)\u001b[0m\u001b[0;34m\u001b[0m\u001b[0;34m\u001b[0m\u001b[0m\n\u001b[1;32m    562\u001b[0m         \u001b[0mself\u001b[0m\u001b[0;34m.\u001b[0m\u001b[0mdl_model\u001b[0m\u001b[0;34m.\u001b[0m\u001b[0mcompile\u001b[0m\u001b[0;34m(\u001b[0m\u001b[0mloss\u001b[0m\u001b[0;34m=\u001b[0m\u001b[0mloss\u001b[0m\u001b[0;34m,\u001b[0m \u001b[0moptimizer\u001b[0m\u001b[0;34m=\u001b[0m\u001b[0moptimizer\u001b[0m\u001b[0;34m,\u001b[0m \u001b[0mmetrics\u001b[0m\u001b[0;34m=\u001b[0m\u001b[0mmetrics\u001b[0m\u001b[0;34m)\u001b[0m\u001b[0;34m\u001b[0m\u001b[0;34m\u001b[0m\u001b[0m\n\u001b[0;32m--> 563\u001b[0;31m         self.history = self.dl_model.fit(\n\u001b[0m\u001b[1;32m    564\u001b[0m             \u001b[0mself\u001b[0m\u001b[0;34m.\u001b[0m\u001b[0mX_train\u001b[0m\u001b[0;34m,\u001b[0m\u001b[0;34m\u001b[0m\u001b[0;34m\u001b[0m\u001b[0m\n\u001b[1;32m    565\u001b[0m             \u001b[0mself\u001b[0m\u001b[0;34m.\u001b[0m\u001b[0my_train\u001b[0m\u001b[0;34m,\u001b[0m\u001b[0;34m\u001b[0m\u001b[0;34m\u001b[0m\u001b[0m\n",
      "\u001b[0;32m~/miniconda3/envs/time_series/lib/python3.8/site-packages/tensorflow/python/keras/engine/training.py\u001b[0m in \u001b[0;36m_method_wrapper\u001b[0;34m(self, *args, **kwargs)\u001b[0m\n\u001b[1;32m     64\u001b[0m   \u001b[0;32mdef\u001b[0m \u001b[0m_method_wrapper\u001b[0m\u001b[0;34m(\u001b[0m\u001b[0mself\u001b[0m\u001b[0;34m,\u001b[0m \u001b[0;34m*\u001b[0m\u001b[0margs\u001b[0m\u001b[0;34m,\u001b[0m \u001b[0;34m**\u001b[0m\u001b[0mkwargs\u001b[0m\u001b[0;34m)\u001b[0m\u001b[0;34m:\u001b[0m\u001b[0;34m\u001b[0m\u001b[0;34m\u001b[0m\u001b[0m\n\u001b[1;32m     65\u001b[0m     \u001b[0;32mif\u001b[0m \u001b[0;32mnot\u001b[0m \u001b[0mself\u001b[0m\u001b[0;34m.\u001b[0m\u001b[0m_in_multi_worker_mode\u001b[0m\u001b[0;34m(\u001b[0m\u001b[0;34m)\u001b[0m\u001b[0;34m:\u001b[0m  \u001b[0;31m# pylint: disable=protected-access\u001b[0m\u001b[0;34m\u001b[0m\u001b[0;34m\u001b[0m\u001b[0m\n\u001b[0;32m---> 66\u001b[0;31m       \u001b[0;32mreturn\u001b[0m \u001b[0mmethod\u001b[0m\u001b[0;34m(\u001b[0m\u001b[0mself\u001b[0m\u001b[0;34m,\u001b[0m \u001b[0;34m*\u001b[0m\u001b[0margs\u001b[0m\u001b[0;34m,\u001b[0m \u001b[0;34m**\u001b[0m\u001b[0mkwargs\u001b[0m\u001b[0;34m)\u001b[0m\u001b[0;34m\u001b[0m\u001b[0;34m\u001b[0m\u001b[0m\n\u001b[0m\u001b[1;32m     67\u001b[0m \u001b[0;34m\u001b[0m\u001b[0m\n\u001b[1;32m     68\u001b[0m     \u001b[0;31m# Running inside `run_distribute_coordinator` already.\u001b[0m\u001b[0;34m\u001b[0m\u001b[0;34m\u001b[0m\u001b[0;34m\u001b[0m\u001b[0m\n",
      "\u001b[0;32m~/miniconda3/envs/time_series/lib/python3.8/site-packages/tensorflow/python/keras/engine/training.py\u001b[0m in \u001b[0;36mfit\u001b[0;34m(self, x, y, batch_size, epochs, verbose, callbacks, validation_split, validation_data, shuffle, class_weight, sample_weight, initial_epoch, steps_per_epoch, validation_steps, validation_batch_size, validation_freq, max_queue_size, workers, use_multiprocessing)\u001b[0m\n\u001b[1;32m    846\u001b[0m                 batch_size=batch_size):\n\u001b[1;32m    847\u001b[0m               \u001b[0mcallbacks\u001b[0m\u001b[0;34m.\u001b[0m\u001b[0mon_train_batch_begin\u001b[0m\u001b[0;34m(\u001b[0m\u001b[0mstep\u001b[0m\u001b[0;34m)\u001b[0m\u001b[0;34m\u001b[0m\u001b[0;34m\u001b[0m\u001b[0m\n\u001b[0;32m--> 848\u001b[0;31m               \u001b[0mtmp_logs\u001b[0m \u001b[0;34m=\u001b[0m \u001b[0mtrain_function\u001b[0m\u001b[0;34m(\u001b[0m\u001b[0miterator\u001b[0m\u001b[0;34m)\u001b[0m\u001b[0;34m\u001b[0m\u001b[0;34m\u001b[0m\u001b[0m\n\u001b[0m\u001b[1;32m    849\u001b[0m               \u001b[0;31m# Catch OutOfRangeError for Datasets of unknown size.\u001b[0m\u001b[0;34m\u001b[0m\u001b[0;34m\u001b[0m\u001b[0;34m\u001b[0m\u001b[0m\n\u001b[1;32m    850\u001b[0m               \u001b[0;31m# This blocks until the batch has finished executing.\u001b[0m\u001b[0;34m\u001b[0m\u001b[0;34m\u001b[0m\u001b[0;34m\u001b[0m\u001b[0m\n",
      "\u001b[0;32m~/miniconda3/envs/time_series/lib/python3.8/site-packages/tensorflow/python/eager/def_function.py\u001b[0m in \u001b[0;36m__call__\u001b[0;34m(self, *args, **kwds)\u001b[0m\n\u001b[1;32m    578\u001b[0m         \u001b[0mxla_context\u001b[0m\u001b[0;34m.\u001b[0m\u001b[0mExit\u001b[0m\u001b[0;34m(\u001b[0m\u001b[0;34m)\u001b[0m\u001b[0;34m\u001b[0m\u001b[0;34m\u001b[0m\u001b[0m\n\u001b[1;32m    579\u001b[0m     \u001b[0;32melse\u001b[0m\u001b[0;34m:\u001b[0m\u001b[0;34m\u001b[0m\u001b[0;34m\u001b[0m\u001b[0m\n\u001b[0;32m--> 580\u001b[0;31m       \u001b[0mresult\u001b[0m \u001b[0;34m=\u001b[0m \u001b[0mself\u001b[0m\u001b[0;34m.\u001b[0m\u001b[0m_call\u001b[0m\u001b[0;34m(\u001b[0m\u001b[0;34m*\u001b[0m\u001b[0margs\u001b[0m\u001b[0;34m,\u001b[0m \u001b[0;34m**\u001b[0m\u001b[0mkwds\u001b[0m\u001b[0;34m)\u001b[0m\u001b[0;34m\u001b[0m\u001b[0;34m\u001b[0m\u001b[0m\n\u001b[0m\u001b[1;32m    581\u001b[0m \u001b[0;34m\u001b[0m\u001b[0m\n\u001b[1;32m    582\u001b[0m     \u001b[0;32mif\u001b[0m \u001b[0mtracing_count\u001b[0m \u001b[0;34m==\u001b[0m \u001b[0mself\u001b[0m\u001b[0;34m.\u001b[0m\u001b[0m_get_tracing_count\u001b[0m\u001b[0;34m(\u001b[0m\u001b[0;34m)\u001b[0m\u001b[0;34m:\u001b[0m\u001b[0;34m\u001b[0m\u001b[0;34m\u001b[0m\u001b[0m\n",
      "\u001b[0;32m~/miniconda3/envs/time_series/lib/python3.8/site-packages/tensorflow/python/eager/def_function.py\u001b[0m in \u001b[0;36m_call\u001b[0;34m(self, *args, **kwds)\u001b[0m\n\u001b[1;32m    625\u001b[0m       \u001b[0;31m# This is the first call of __call__, so we have to initialize.\u001b[0m\u001b[0;34m\u001b[0m\u001b[0;34m\u001b[0m\u001b[0;34m\u001b[0m\u001b[0m\n\u001b[1;32m    626\u001b[0m       \u001b[0minitializers\u001b[0m \u001b[0;34m=\u001b[0m \u001b[0;34m[\u001b[0m\u001b[0;34m]\u001b[0m\u001b[0;34m\u001b[0m\u001b[0;34m\u001b[0m\u001b[0m\n\u001b[0;32m--> 627\u001b[0;31m       \u001b[0mself\u001b[0m\u001b[0;34m.\u001b[0m\u001b[0m_initialize\u001b[0m\u001b[0;34m(\u001b[0m\u001b[0margs\u001b[0m\u001b[0;34m,\u001b[0m \u001b[0mkwds\u001b[0m\u001b[0;34m,\u001b[0m \u001b[0madd_initializers_to\u001b[0m\u001b[0;34m=\u001b[0m\u001b[0minitializers\u001b[0m\u001b[0;34m)\u001b[0m\u001b[0;34m\u001b[0m\u001b[0;34m\u001b[0m\u001b[0m\n\u001b[0m\u001b[1;32m    628\u001b[0m     \u001b[0;32mfinally\u001b[0m\u001b[0;34m:\u001b[0m\u001b[0;34m\u001b[0m\u001b[0;34m\u001b[0m\u001b[0m\n\u001b[1;32m    629\u001b[0m       \u001b[0;31m# At this point we know that the initialization is complete (or less\u001b[0m\u001b[0;34m\u001b[0m\u001b[0;34m\u001b[0m\u001b[0;34m\u001b[0m\u001b[0m\n",
      "\u001b[0;32m~/miniconda3/envs/time_series/lib/python3.8/site-packages/tensorflow/python/eager/def_function.py\u001b[0m in \u001b[0;36m_initialize\u001b[0;34m(self, args, kwds, add_initializers_to)\u001b[0m\n\u001b[1;32m    503\u001b[0m     \u001b[0mself\u001b[0m\u001b[0;34m.\u001b[0m\u001b[0m_graph_deleter\u001b[0m \u001b[0;34m=\u001b[0m \u001b[0mFunctionDeleter\u001b[0m\u001b[0;34m(\u001b[0m\u001b[0mself\u001b[0m\u001b[0;34m.\u001b[0m\u001b[0m_lifted_initializer_graph\u001b[0m\u001b[0;34m)\u001b[0m\u001b[0;34m\u001b[0m\u001b[0;34m\u001b[0m\u001b[0m\n\u001b[1;32m    504\u001b[0m     self._concrete_stateful_fn = (\n\u001b[0;32m--> 505\u001b[0;31m         self._stateful_fn._get_concrete_function_internal_garbage_collected(  # pylint: disable=protected-access\n\u001b[0m\u001b[1;32m    506\u001b[0m             *args, **kwds))\n\u001b[1;32m    507\u001b[0m \u001b[0;34m\u001b[0m\u001b[0m\n",
      "\u001b[0;32m~/miniconda3/envs/time_series/lib/python3.8/site-packages/tensorflow/python/eager/function.py\u001b[0m in \u001b[0;36m_get_concrete_function_internal_garbage_collected\u001b[0;34m(self, *args, **kwargs)\u001b[0m\n\u001b[1;32m   2444\u001b[0m       \u001b[0margs\u001b[0m\u001b[0;34m,\u001b[0m \u001b[0mkwargs\u001b[0m \u001b[0;34m=\u001b[0m \u001b[0;32mNone\u001b[0m\u001b[0;34m,\u001b[0m \u001b[0;32mNone\u001b[0m\u001b[0;34m\u001b[0m\u001b[0;34m\u001b[0m\u001b[0m\n\u001b[1;32m   2445\u001b[0m     \u001b[0;32mwith\u001b[0m \u001b[0mself\u001b[0m\u001b[0;34m.\u001b[0m\u001b[0m_lock\u001b[0m\u001b[0;34m:\u001b[0m\u001b[0;34m\u001b[0m\u001b[0;34m\u001b[0m\u001b[0m\n\u001b[0;32m-> 2446\u001b[0;31m       \u001b[0mgraph_function\u001b[0m\u001b[0;34m,\u001b[0m \u001b[0m_\u001b[0m\u001b[0;34m,\u001b[0m \u001b[0m_\u001b[0m \u001b[0;34m=\u001b[0m \u001b[0mself\u001b[0m\u001b[0;34m.\u001b[0m\u001b[0m_maybe_define_function\u001b[0m\u001b[0;34m(\u001b[0m\u001b[0margs\u001b[0m\u001b[0;34m,\u001b[0m \u001b[0mkwargs\u001b[0m\u001b[0;34m)\u001b[0m\u001b[0;34m\u001b[0m\u001b[0;34m\u001b[0m\u001b[0m\n\u001b[0m\u001b[1;32m   2447\u001b[0m     \u001b[0;32mreturn\u001b[0m \u001b[0mgraph_function\u001b[0m\u001b[0;34m\u001b[0m\u001b[0;34m\u001b[0m\u001b[0m\n\u001b[1;32m   2448\u001b[0m \u001b[0;34m\u001b[0m\u001b[0m\n",
      "\u001b[0;32m~/miniconda3/envs/time_series/lib/python3.8/site-packages/tensorflow/python/eager/function.py\u001b[0m in \u001b[0;36m_maybe_define_function\u001b[0;34m(self, args, kwargs)\u001b[0m\n\u001b[1;32m   2775\u001b[0m \u001b[0;34m\u001b[0m\u001b[0m\n\u001b[1;32m   2776\u001b[0m       \u001b[0mself\u001b[0m\u001b[0;34m.\u001b[0m\u001b[0m_function_cache\u001b[0m\u001b[0;34m.\u001b[0m\u001b[0mmissed\u001b[0m\u001b[0;34m.\u001b[0m\u001b[0madd\u001b[0m\u001b[0;34m(\u001b[0m\u001b[0mcall_context_key\u001b[0m\u001b[0;34m)\u001b[0m\u001b[0;34m\u001b[0m\u001b[0;34m\u001b[0m\u001b[0m\n\u001b[0;32m-> 2777\u001b[0;31m       \u001b[0mgraph_function\u001b[0m \u001b[0;34m=\u001b[0m \u001b[0mself\u001b[0m\u001b[0;34m.\u001b[0m\u001b[0m_create_graph_function\u001b[0m\u001b[0;34m(\u001b[0m\u001b[0margs\u001b[0m\u001b[0;34m,\u001b[0m \u001b[0mkwargs\u001b[0m\u001b[0;34m)\u001b[0m\u001b[0;34m\u001b[0m\u001b[0;34m\u001b[0m\u001b[0m\n\u001b[0m\u001b[1;32m   2778\u001b[0m       \u001b[0mself\u001b[0m\u001b[0;34m.\u001b[0m\u001b[0m_function_cache\u001b[0m\u001b[0;34m.\u001b[0m\u001b[0mprimary\u001b[0m\u001b[0;34m[\u001b[0m\u001b[0mcache_key\u001b[0m\u001b[0;34m]\u001b[0m \u001b[0;34m=\u001b[0m \u001b[0mgraph_function\u001b[0m\u001b[0;34m\u001b[0m\u001b[0;34m\u001b[0m\u001b[0m\n\u001b[1;32m   2779\u001b[0m       \u001b[0;32mreturn\u001b[0m \u001b[0mgraph_function\u001b[0m\u001b[0;34m,\u001b[0m \u001b[0margs\u001b[0m\u001b[0;34m,\u001b[0m \u001b[0mkwargs\u001b[0m\u001b[0;34m\u001b[0m\u001b[0;34m\u001b[0m\u001b[0m\n",
      "\u001b[0;32m~/miniconda3/envs/time_series/lib/python3.8/site-packages/tensorflow/python/eager/function.py\u001b[0m in \u001b[0;36m_create_graph_function\u001b[0;34m(self, args, kwargs, override_flat_arg_shapes)\u001b[0m\n\u001b[1;32m   2655\u001b[0m     \u001b[0marg_names\u001b[0m \u001b[0;34m=\u001b[0m \u001b[0mbase_arg_names\u001b[0m \u001b[0;34m+\u001b[0m \u001b[0mmissing_arg_names\u001b[0m\u001b[0;34m\u001b[0m\u001b[0;34m\u001b[0m\u001b[0m\n\u001b[1;32m   2656\u001b[0m     graph_function = ConcreteFunction(\n\u001b[0;32m-> 2657\u001b[0;31m         func_graph_module.func_graph_from_py_func(\n\u001b[0m\u001b[1;32m   2658\u001b[0m             \u001b[0mself\u001b[0m\u001b[0;34m.\u001b[0m\u001b[0m_name\u001b[0m\u001b[0;34m,\u001b[0m\u001b[0;34m\u001b[0m\u001b[0;34m\u001b[0m\u001b[0m\n\u001b[1;32m   2659\u001b[0m             \u001b[0mself\u001b[0m\u001b[0;34m.\u001b[0m\u001b[0m_python_function\u001b[0m\u001b[0;34m,\u001b[0m\u001b[0;34m\u001b[0m\u001b[0;34m\u001b[0m\u001b[0m\n",
      "\u001b[0;32m~/miniconda3/envs/time_series/lib/python3.8/site-packages/tensorflow/python/framework/func_graph.py\u001b[0m in \u001b[0;36mfunc_graph_from_py_func\u001b[0;34m(name, python_func, args, kwargs, signature, func_graph, autograph, autograph_options, add_control_dependencies, arg_names, op_return_value, collections, capture_by_value, override_flat_arg_shapes)\u001b[0m\n\u001b[1;32m    979\u001b[0m         \u001b[0m_\u001b[0m\u001b[0;34m,\u001b[0m \u001b[0moriginal_func\u001b[0m \u001b[0;34m=\u001b[0m \u001b[0mtf_decorator\u001b[0m\u001b[0;34m.\u001b[0m\u001b[0munwrap\u001b[0m\u001b[0;34m(\u001b[0m\u001b[0mpython_func\u001b[0m\u001b[0;34m)\u001b[0m\u001b[0;34m\u001b[0m\u001b[0;34m\u001b[0m\u001b[0m\n\u001b[1;32m    980\u001b[0m \u001b[0;34m\u001b[0m\u001b[0m\n\u001b[0;32m--> 981\u001b[0;31m       \u001b[0mfunc_outputs\u001b[0m \u001b[0;34m=\u001b[0m \u001b[0mpython_func\u001b[0m\u001b[0;34m(\u001b[0m\u001b[0;34m*\u001b[0m\u001b[0mfunc_args\u001b[0m\u001b[0;34m,\u001b[0m \u001b[0;34m**\u001b[0m\u001b[0mfunc_kwargs\u001b[0m\u001b[0;34m)\u001b[0m\u001b[0;34m\u001b[0m\u001b[0;34m\u001b[0m\u001b[0m\n\u001b[0m\u001b[1;32m    982\u001b[0m \u001b[0;34m\u001b[0m\u001b[0m\n\u001b[1;32m    983\u001b[0m       \u001b[0;31m# invariant: `func_outputs` contains only Tensors, CompositeTensors,\u001b[0m\u001b[0;34m\u001b[0m\u001b[0;34m\u001b[0m\u001b[0;34m\u001b[0m\u001b[0m\n",
      "\u001b[0;32m~/miniconda3/envs/time_series/lib/python3.8/site-packages/tensorflow/python/eager/def_function.py\u001b[0m in \u001b[0;36mwrapped_fn\u001b[0;34m(*args, **kwds)\u001b[0m\n\u001b[1;32m    439\u001b[0m         \u001b[0;31m# __wrapped__ allows AutoGraph to swap in a converted function. We give\u001b[0m\u001b[0;34m\u001b[0m\u001b[0;34m\u001b[0m\u001b[0;34m\u001b[0m\u001b[0m\n\u001b[1;32m    440\u001b[0m         \u001b[0;31m# the function a weak reference to itself to avoid a reference cycle.\u001b[0m\u001b[0;34m\u001b[0m\u001b[0;34m\u001b[0m\u001b[0;34m\u001b[0m\u001b[0m\n\u001b[0;32m--> 441\u001b[0;31m         \u001b[0;32mreturn\u001b[0m \u001b[0mweak_wrapped_fn\u001b[0m\u001b[0;34m(\u001b[0m\u001b[0;34m)\u001b[0m\u001b[0;34m.\u001b[0m\u001b[0m__wrapped__\u001b[0m\u001b[0;34m(\u001b[0m\u001b[0;34m*\u001b[0m\u001b[0margs\u001b[0m\u001b[0;34m,\u001b[0m \u001b[0;34m**\u001b[0m\u001b[0mkwds\u001b[0m\u001b[0;34m)\u001b[0m\u001b[0;34m\u001b[0m\u001b[0;34m\u001b[0m\u001b[0m\n\u001b[0m\u001b[1;32m    442\u001b[0m     \u001b[0mweak_wrapped_fn\u001b[0m \u001b[0;34m=\u001b[0m \u001b[0mweakref\u001b[0m\u001b[0;34m.\u001b[0m\u001b[0mref\u001b[0m\u001b[0;34m(\u001b[0m\u001b[0mwrapped_fn\u001b[0m\u001b[0;34m)\u001b[0m\u001b[0;34m\u001b[0m\u001b[0;34m\u001b[0m\u001b[0m\n\u001b[1;32m    443\u001b[0m \u001b[0;34m\u001b[0m\u001b[0m\n",
      "\u001b[0;32m~/miniconda3/envs/time_series/lib/python3.8/site-packages/tensorflow/python/framework/func_graph.py\u001b[0m in \u001b[0;36mwrapper\u001b[0;34m(*args, **kwargs)\u001b[0m\n\u001b[1;32m    966\u001b[0m           \u001b[0;32mexcept\u001b[0m \u001b[0mException\u001b[0m \u001b[0;32mas\u001b[0m \u001b[0me\u001b[0m\u001b[0;34m:\u001b[0m  \u001b[0;31m# pylint:disable=broad-except\u001b[0m\u001b[0;34m\u001b[0m\u001b[0;34m\u001b[0m\u001b[0m\n\u001b[1;32m    967\u001b[0m             \u001b[0;32mif\u001b[0m \u001b[0mhasattr\u001b[0m\u001b[0;34m(\u001b[0m\u001b[0me\u001b[0m\u001b[0;34m,\u001b[0m \u001b[0;34m\"ag_error_metadata\"\u001b[0m\u001b[0;34m)\u001b[0m\u001b[0;34m:\u001b[0m\u001b[0;34m\u001b[0m\u001b[0;34m\u001b[0m\u001b[0m\n\u001b[0;32m--> 968\u001b[0;31m               \u001b[0;32mraise\u001b[0m \u001b[0me\u001b[0m\u001b[0;34m.\u001b[0m\u001b[0mag_error_metadata\u001b[0m\u001b[0;34m.\u001b[0m\u001b[0mto_exception\u001b[0m\u001b[0;34m(\u001b[0m\u001b[0me\u001b[0m\u001b[0;34m)\u001b[0m\u001b[0;34m\u001b[0m\u001b[0;34m\u001b[0m\u001b[0m\n\u001b[0m\u001b[1;32m    969\u001b[0m             \u001b[0;32melse\u001b[0m\u001b[0;34m:\u001b[0m\u001b[0;34m\u001b[0m\u001b[0;34m\u001b[0m\u001b[0m\n\u001b[1;32m    970\u001b[0m               \u001b[0;32mraise\u001b[0m\u001b[0;34m\u001b[0m\u001b[0;34m\u001b[0m\u001b[0m\n",
      "\u001b[0;31mValueError\u001b[0m: in user code:\n\n    /home/gabriel/miniconda3/envs/time_series/lib/python3.8/site-packages/tensorflow/python/keras/engine/training.py:571 train_function  *\n        outputs = self.distribute_strategy.run(\n    /home/gabriel/miniconda3/envs/time_series/lib/python3.8/site-packages/tensorflow/python/distribute/distribute_lib.py:951 run  **\n        return self._extended.call_for_each_replica(fn, args=args, kwargs=kwargs)\n    /home/gabriel/miniconda3/envs/time_series/lib/python3.8/site-packages/tensorflow/python/distribute/distribute_lib.py:2290 call_for_each_replica\n        return self._call_for_each_replica(fn, args, kwargs)\n    /home/gabriel/miniconda3/envs/time_series/lib/python3.8/site-packages/tensorflow/python/distribute/distribute_lib.py:2649 _call_for_each_replica\n        return fn(*args, **kwargs)\n    /home/gabriel/miniconda3/envs/time_series/lib/python3.8/site-packages/tensorflow/python/keras/engine/training.py:543 train_step  **\n        self.compiled_metrics.update_state(y, y_pred, sample_weight)\n    /home/gabriel/miniconda3/envs/time_series/lib/python3.8/site-packages/tensorflow/python/keras/engine/compile_utils.py:391 update_state\n        self._build(y_pred, y_true)\n    /home/gabriel/miniconda3/envs/time_series/lib/python3.8/site-packages/tensorflow/python/keras/engine/compile_utils.py:321 _build\n        self._metrics = nest.map_structure_up_to(y_pred, self._get_metric_objects,\n    /home/gabriel/miniconda3/envs/time_series/lib/python3.8/site-packages/tensorflow/python/util/nest.py:1114 map_structure_up_to\n        return map_structure_with_tuple_paths_up_to(\n    /home/gabriel/miniconda3/envs/time_series/lib/python3.8/site-packages/tensorflow/python/util/nest.py:1213 map_structure_with_tuple_paths_up_to\n        results = [func(*args, **kwargs) for args in zip(flat_path_list,\n    /home/gabriel/miniconda3/envs/time_series/lib/python3.8/site-packages/tensorflow/python/util/nest.py:1213 <listcomp>\n        results = [func(*args, **kwargs) for args in zip(flat_path_list,\n    /home/gabriel/miniconda3/envs/time_series/lib/python3.8/site-packages/tensorflow/python/util/nest.py:1116 <lambda>\n        lambda _, *values: func(*values),  # Discards the path arg.\n    /home/gabriel/miniconda3/envs/time_series/lib/python3.8/site-packages/tensorflow/python/keras/engine/compile_utils.py:421 _get_metric_objects\n        return [self._get_metric_object(m, y_t, y_p) for m in metrics]\n    /home/gabriel/miniconda3/envs/time_series/lib/python3.8/site-packages/tensorflow/python/keras/engine/compile_utils.py:421 <listcomp>\n        return [self._get_metric_object(m, y_t, y_p) for m in metrics]\n    /home/gabriel/miniconda3/envs/time_series/lib/python3.8/site-packages/tensorflow/python/keras/engine/compile_utils.py:440 _get_metric_object\n        metric_obj = metrics_mod.get(metric)\n    /home/gabriel/miniconda3/envs/time_series/lib/python3.8/site-packages/tensorflow/python/keras/metrics.py:3358 get\n        return deserialize(str(identifier))\n    /home/gabriel/miniconda3/envs/time_series/lib/python3.8/site-packages/tensorflow/python/keras/metrics.py:3345 deserialize\n        return deserialize_keras_object(\n    /home/gabriel/miniconda3/envs/time_series/lib/python3.8/site-packages/tensorflow/python/keras/utils/generic_utils.py:392 deserialize_keras_object\n        raise ValueError('Unknown ' + printable_module_name + ':' + object_name)\n\n    ValueError: Unknown metric function:recall\n"
     ]
    }
   ],
   "source": [
    "ico_training.train_network(loss='binary_crossentropy', \n",
    "                      optimizer='adam',\n",
    "                      metrics=['recall'] ,\n",
    "                      epochs=100,\n",
    "                      verbose=0, \n",
    "                      batch_size=32,\n",
    "                      callback=earlystop)\n",
    "\n",
    "ico_training.plot_training()"
   ]
  },
  {
   "cell_type": "markdown",
   "metadata": {},
   "source": [
    "## CNN\n",
    "https://machinelearningmastery.com/cnn-models-for-human-activity-recognition-time-series-classification/"
   ]
  },
  {
   "cell_type": "code",
   "execution_count": 36,
   "metadata": {},
   "outputs": [],
   "source": [
    "model_cnn = Sequential()\n",
    "model_cnn.add(Conv1D(filters=8, kernel_size=3, activation='relu', input_shape=(40, 1)))\n",
    "model_cnn.add(Conv1D(filters=8, kernel_size=3, activation='relu'))\n",
    "model_cnn.add(Dropout(0.5))\n",
    "model_cnn.add(MaxPooling1D(pool_size=2))\n",
    "model_cnn.add(Flatten())\n",
    "model_cnn.add(Dense(224, activation='relu'))\n",
    "model_cnn.add(Dense(1, activation='sigmoid'))"
   ]
  },
  {
   "cell_type": "code",
   "execution_count": 37,
   "metadata": {},
   "outputs": [
    {
     "name": "stdout",
     "output_type": "stream",
     "text": [
      "Model: \"sequential_2\"\n",
      "_________________________________________________________________\n",
      "Layer (type)                 Output Shape              Param #   \n",
      "=================================================================\n",
      "conv1d (Conv1D)              (None, 38, 8)             32        \n",
      "_________________________________________________________________\n",
      "conv1d_1 (Conv1D)            (None, 36, 8)             200       \n",
      "_________________________________________________________________\n",
      "dropout (Dropout)            (None, 36, 8)             0         \n",
      "_________________________________________________________________\n",
      "max_pooling1d (MaxPooling1D) (None, 18, 8)             0         \n",
      "_________________________________________________________________\n",
      "flatten (Flatten)            (None, 144)               0         \n",
      "_________________________________________________________________\n",
      "dense_10 (Dense)             (None, 224)               32480     \n",
      "_________________________________________________________________\n",
      "dense_11 (Dense)             (None, 1)                 225       \n",
      "=================================================================\n",
      "Total params: 32,937\n",
      "Trainable params: 32,937\n",
      "Non-trainable params: 0\n",
      "_________________________________________________________________\n"
     ]
    }
   ],
   "source": [
    "ico_training = ICODeepTraining(df_training_transactions.iloc[:, :-1],\n",
    "                               df_training_transactions.iloc[:, -1],\n",
    "                               model_cnn,\n",
    "                               ann_type='cnn',\n",
    "                               size_array=20)\n",
    "                               \n",
    "ico_training.split_train_test()\n",
    "ico_training.model_summary()"
   ]
  },
  {
   "cell_type": "code",
   "execution_count": 38,
   "metadata": {},
   "outputs": [],
   "source": [
    "from tensorflow import keras"
   ]
  },
  {
   "cell_type": "code",
   "execution_count": 39,
   "metadata": {},
   "outputs": [],
   "source": [
    "earlystop =  keras.callbacks.EarlyStopping(monitor='loss', patience=50)"
   ]
  },
  {
   "cell_type": "code",
   "execution_count": 40,
   "metadata": {},
   "outputs": [
    {
     "data": {
      "application/vnd.plotly.v1+json": {
       "config": {
        "plotlyServerURL": "https://plot.ly"
       },
       "data": [
        {
         "hovertemplate": "<b>%{hovertext}</b><br><br>metric=loss<br>epochs=%{x}<br>values=%{y}<extra></extra>",
         "hovertext": [
          "loss",
          "loss",
          "loss",
          "loss",
          "loss",
          "loss",
          "loss",
          "loss",
          "loss",
          "loss",
          "loss",
          "loss",
          "loss",
          "loss",
          "loss",
          "loss",
          "loss",
          "loss",
          "loss",
          "loss",
          "loss",
          "loss",
          "loss",
          "loss",
          "loss",
          "loss",
          "loss",
          "loss",
          "loss",
          "loss",
          "loss",
          "loss",
          "loss",
          "loss",
          "loss",
          "loss",
          "loss",
          "loss",
          "loss",
          "loss",
          "loss",
          "loss",
          "loss",
          "loss",
          "loss",
          "loss",
          "loss",
          "loss",
          "loss",
          "loss",
          "loss",
          "loss",
          "loss",
          "loss",
          "loss",
          "loss",
          "loss",
          "loss",
          "loss",
          "loss",
          "loss",
          "loss",
          "loss",
          "loss",
          "loss",
          "loss",
          "loss",
          "loss",
          "loss",
          "loss",
          "loss",
          "loss",
          "loss",
          "loss",
          "loss",
          "loss",
          "loss",
          "loss",
          "loss",
          "loss",
          "loss",
          "loss",
          "loss",
          "loss",
          "loss",
          "loss",
          "loss",
          "loss",
          "loss",
          "loss",
          "loss",
          "loss",
          "loss",
          "loss",
          "loss",
          "loss",
          "loss",
          "loss",
          "loss",
          "loss"
         ],
         "legendgroup": "loss",
         "line": {
          "color": "#636efa",
          "dash": "solid"
         },
         "mode": "lines",
         "name": "loss",
         "orientation": "v",
         "showlegend": true,
         "type": "scatter",
         "x": [
          0,
          1,
          2,
          3,
          4,
          5,
          6,
          7,
          8,
          9,
          10,
          11,
          12,
          13,
          14,
          15,
          16,
          17,
          18,
          19,
          20,
          21,
          22,
          23,
          24,
          25,
          26,
          27,
          28,
          29,
          30,
          31,
          32,
          33,
          34,
          35,
          36,
          37,
          38,
          39,
          40,
          41,
          42,
          43,
          44,
          45,
          46,
          47,
          48,
          49,
          50,
          51,
          52,
          53,
          54,
          55,
          56,
          57,
          58,
          59,
          60,
          61,
          62,
          63,
          64,
          65,
          66,
          67,
          68,
          69,
          70,
          71,
          72,
          73,
          74,
          75,
          76,
          77,
          78,
          79,
          80,
          81,
          82,
          83,
          84,
          85,
          86,
          87,
          88,
          89,
          90,
          91,
          92,
          93,
          94,
          95,
          96,
          97,
          98,
          99
         ],
         "xaxis": "x",
         "y": [
          0.6851856112480164,
          0.6669108867645264,
          0.6721066832542419,
          0.6594971418380737,
          0.6578976511955261,
          0.6514220237731934,
          0.6599082946777344,
          0.6490618586540222,
          0.6480869054794312,
          0.6465050578117371,
          0.6474513411521912,
          0.6437944173812866,
          0.6364981532096863,
          0.6334466338157654,
          0.6463951468467712,
          0.6274155378341675,
          0.6430090665817261,
          0.643652081489563,
          0.6226280927658081,
          0.6304212808609009,
          0.6127561330795288,
          0.6251266598701477,
          0.6353529691696167,
          0.6387301087379456,
          0.6197609305381775,
          0.6184622049331665,
          0.6355178356170654,
          0.6245846748352051,
          0.6217978000640869,
          0.6149569749832153,
          0.638473391532898,
          0.6324368715286255,
          0.6343402862548828,
          0.6027693152427673,
          0.6152003407478333,
          0.6130721569061279,
          0.6159148216247559,
          0.6061429977416992,
          0.5961670875549316,
          0.6124351024627686,
          0.6045070290565491,
          0.6170103549957275,
          0.625744640827179,
          0.6001365780830383,
          0.6098217964172363,
          0.6306134462356567,
          0.6119822859764099,
          0.6080257892608643,
          0.601233184337616,
          0.6099134683609009,
          0.5994960069656372,
          0.6027323603630066,
          0.5895643830299377,
          0.5852305293083191,
          0.597069263458252,
          0.6052637100219727,
          0.5956510305404663,
          0.5917864441871643,
          0.6036021113395691,
          0.5891730189323425,
          0.5896044969558716,
          0.594780683517456,
          0.5881032347679138,
          0.5746367573738098,
          0.5879807472229004,
          0.5934576988220215,
          0.5927058458328247,
          0.5926181674003601,
          0.5911930203437805,
          0.586466372013092,
          0.5802653431892395,
          0.594881534576416,
          0.5868939757347107,
          0.586144208908081,
          0.5799189805984497,
          0.5828920602798462,
          0.58883136510849,
          0.5685638189315796,
          0.5724846124649048,
          0.5802521109580994,
          0.5935727953910828,
          0.5829847455024719,
          0.5786061882972717,
          0.5755836963653564,
          0.572312593460083,
          0.5850734114646912,
          0.5748621225357056,
          0.579622745513916,
          0.5898489356040955,
          0.5685372948646545,
          0.5719159841537476,
          0.5820032358169556,
          0.5745726823806763,
          0.5669800639152527,
          0.5796476602554321,
          0.5843534469604492,
          0.5853913426399231,
          0.5703825950622559,
          0.570460855960846,
          0.5756966471672058
         ],
         "yaxis": "y"
        },
        {
         "hovertemplate": "<b>%{hovertext}</b><br><br>metric=recall<br>epochs=%{x}<br>values=%{y}<extra></extra>",
         "hovertext": [
          "recall",
          "recall",
          "recall",
          "recall",
          "recall",
          "recall",
          "recall",
          "recall",
          "recall",
          "recall",
          "recall",
          "recall",
          "recall",
          "recall",
          "recall",
          "recall",
          "recall",
          "recall",
          "recall",
          "recall",
          "recall",
          "recall",
          "recall",
          "recall",
          "recall",
          "recall",
          "recall",
          "recall",
          "recall",
          "recall",
          "recall",
          "recall",
          "recall",
          "recall",
          "recall",
          "recall",
          "recall",
          "recall",
          "recall",
          "recall",
          "recall",
          "recall",
          "recall",
          "recall",
          "recall",
          "recall",
          "recall",
          "recall",
          "recall",
          "recall",
          "recall",
          "recall",
          "recall",
          "recall",
          "recall",
          "recall",
          "recall",
          "recall",
          "recall",
          "recall",
          "recall",
          "recall",
          "recall",
          "recall",
          "recall",
          "recall",
          "recall",
          "recall",
          "recall",
          "recall",
          "recall",
          "recall",
          "recall",
          "recall",
          "recall",
          "recall",
          "recall",
          "recall",
          "recall",
          "recall",
          "recall",
          "recall",
          "recall",
          "recall",
          "recall",
          "recall",
          "recall",
          "recall",
          "recall",
          "recall",
          "recall",
          "recall",
          "recall",
          "recall",
          "recall",
          "recall",
          "recall",
          "recall",
          "recall",
          "recall"
         ],
         "legendgroup": "recall",
         "line": {
          "color": "#EF553B",
          "dash": "solid"
         },
         "mode": "lines",
         "name": "recall",
         "orientation": "v",
         "showlegend": true,
         "type": "scatter",
         "x": [
          0,
          1,
          2,
          3,
          4,
          5,
          6,
          7,
          8,
          9,
          10,
          11,
          12,
          13,
          14,
          15,
          16,
          17,
          18,
          19,
          20,
          21,
          22,
          23,
          24,
          25,
          26,
          27,
          28,
          29,
          30,
          31,
          32,
          33,
          34,
          35,
          36,
          37,
          38,
          39,
          40,
          41,
          42,
          43,
          44,
          45,
          46,
          47,
          48,
          49,
          50,
          51,
          52,
          53,
          54,
          55,
          56,
          57,
          58,
          59,
          60,
          61,
          62,
          63,
          64,
          65,
          66,
          67,
          68,
          69,
          70,
          71,
          72,
          73,
          74,
          75,
          76,
          77,
          78,
          79,
          80,
          81,
          82,
          83,
          84,
          85,
          86,
          87,
          88,
          89,
          90,
          91,
          92,
          93,
          94,
          95,
          96,
          97,
          98,
          99
         ],
         "xaxis": "x",
         "y": [
          0.6382978558540344,
          1,
          1,
          0.978723406791687,
          0.936170220375061,
          0.914893627166748,
          0.8085106611251831,
          0.8085106611251831,
          0.8404255509376526,
          0.8829787373542786,
          0.8617021441459656,
          0.8297872543334961,
          0.7978723645210266,
          0.7340425252914429,
          0.7127659320831299,
          0.7872340679168701,
          0.7659574747085571,
          0.7659574747085571,
          0.7659574747085571,
          0.7446808218955994,
          0.7553191781044006,
          0.7127659320831299,
          0.6702127456665039,
          0.7021276354789734,
          0.7127659320831299,
          0.7127659320831299,
          0.7127659320831299,
          0.6595744490623474,
          0.6914893388748169,
          0.6702127456665039,
          0.6914893388748169,
          0.7021276354789734,
          0.6702127456665039,
          0.7340425252914429,
          0.7234042286872864,
          0.7234042286872864,
          0.7021276354789734,
          0.6914893388748169,
          0.7021276354789734,
          0.6702127456665039,
          0.6808510422706604,
          0.6914893388748169,
          0.7234042286872864,
          0.7021276354789734,
          0.6382978558540344,
          0.6382978558540344,
          0.6808510422706604,
          0.7127659320831299,
          0.7234042286872864,
          0.6914893388748169,
          0.7021276354789734,
          0.6808510422706604,
          0.7127659320831299,
          0.7553191781044006,
          0.7234042286872864,
          0.6702127456665039,
          0.6489361524581909,
          0.6489361524581909,
          0.585106372833252,
          0.6382978558540344,
          0.6489361524581909,
          0.7021276354789734,
          0.6808510422706604,
          0.6595744490623474,
          0.6170212626457214,
          0.6276595592498779,
          0.6808510422706604,
          0.6914893388748169,
          0.7127659320831299,
          0.6808510422706604,
          0.7340425252914429,
          0.6382978558540344,
          0.6595744490623474,
          0.6276595592498779,
          0.6170212626457214,
          0.7127659320831299,
          0.6276595592498779,
          0.7234042286872864,
          0.6702127456665039,
          0.6489361524581909,
          0.6276595592498779,
          0.5957446694374084,
          0.5957446694374084,
          0.7127659320831299,
          0.7340425252914429,
          0.7021276354789734,
          0.6170212626457214,
          0.5957446694374084,
          0.563829779624939,
          0.6063829660415649,
          0.6808510422706604,
          0.7021276354789734,
          0.6382978558540344,
          0.6170212626457214,
          0.6276595592498779,
          0.6808510422706604,
          0.6276595592498779,
          0.6702127456665039,
          0.6489361524581909,
          0.6595744490623474
         ],
         "yaxis": "y"
        },
        {
         "hovertemplate": "<b>%{hovertext}</b><br><br>metric=val_loss<br>epochs=%{x}<br>values=%{y}<extra></extra>",
         "hovertext": [
          "val_loss",
          "val_loss",
          "val_loss",
          "val_loss",
          "val_loss",
          "val_loss",
          "val_loss",
          "val_loss",
          "val_loss",
          "val_loss",
          "val_loss",
          "val_loss",
          "val_loss",
          "val_loss",
          "val_loss",
          "val_loss",
          "val_loss",
          "val_loss",
          "val_loss",
          "val_loss",
          "val_loss",
          "val_loss",
          "val_loss",
          "val_loss",
          "val_loss",
          "val_loss",
          "val_loss",
          "val_loss",
          "val_loss",
          "val_loss",
          "val_loss",
          "val_loss",
          "val_loss",
          "val_loss",
          "val_loss",
          "val_loss",
          "val_loss",
          "val_loss",
          "val_loss",
          "val_loss",
          "val_loss",
          "val_loss",
          "val_loss",
          "val_loss",
          "val_loss",
          "val_loss",
          "val_loss",
          "val_loss",
          "val_loss",
          "val_loss",
          "val_loss",
          "val_loss",
          "val_loss",
          "val_loss",
          "val_loss",
          "val_loss",
          "val_loss",
          "val_loss",
          "val_loss",
          "val_loss",
          "val_loss",
          "val_loss",
          "val_loss",
          "val_loss",
          "val_loss",
          "val_loss",
          "val_loss",
          "val_loss",
          "val_loss",
          "val_loss",
          "val_loss",
          "val_loss",
          "val_loss",
          "val_loss",
          "val_loss",
          "val_loss",
          "val_loss",
          "val_loss",
          "val_loss",
          "val_loss",
          "val_loss",
          "val_loss",
          "val_loss",
          "val_loss",
          "val_loss",
          "val_loss",
          "val_loss",
          "val_loss",
          "val_loss",
          "val_loss",
          "val_loss",
          "val_loss",
          "val_loss",
          "val_loss",
          "val_loss",
          "val_loss",
          "val_loss",
          "val_loss",
          "val_loss",
          "val_loss"
         ],
         "legendgroup": "val_loss",
         "line": {
          "color": "#00cc96",
          "dash": "solid"
         },
         "mode": "lines",
         "name": "val_loss",
         "orientation": "v",
         "showlegend": true,
         "type": "scatter",
         "x": [
          0,
          1,
          2,
          3,
          4,
          5,
          6,
          7,
          8,
          9,
          10,
          11,
          12,
          13,
          14,
          15,
          16,
          17,
          18,
          19,
          20,
          21,
          22,
          23,
          24,
          25,
          26,
          27,
          28,
          29,
          30,
          31,
          32,
          33,
          34,
          35,
          36,
          37,
          38,
          39,
          40,
          41,
          42,
          43,
          44,
          45,
          46,
          47,
          48,
          49,
          50,
          51,
          52,
          53,
          54,
          55,
          56,
          57,
          58,
          59,
          60,
          61,
          62,
          63,
          64,
          65,
          66,
          67,
          68,
          69,
          70,
          71,
          72,
          73,
          74,
          75,
          76,
          77,
          78,
          79,
          80,
          81,
          82,
          83,
          84,
          85,
          86,
          87,
          88,
          89,
          90,
          91,
          92,
          93,
          94,
          95,
          96,
          97,
          98,
          99
         ],
         "xaxis": "x",
         "y": [
          0.6624428629875183,
          0.6522942185401917,
          0.6490724682807922,
          0.6483547687530518,
          0.6469960808753967,
          0.6479156017303467,
          0.6462950706481934,
          0.6405264139175415,
          0.6332703232765198,
          0.6264345049858093,
          0.6248624324798584,
          0.6256745457649231,
          0.6255925297737122,
          0.6257330775260925,
          0.6194064617156982,
          0.613875687122345,
          0.6120362281799316,
          0.6145197153091431,
          0.6141471862792969,
          0.6148929595947266,
          0.616314709186554,
          0.6173117160797119,
          0.6124799847602844,
          0.6132121682167053,
          0.6186456680297852,
          0.6185535788536072,
          0.617401123046875,
          0.6130366921424866,
          0.6123954057693481,
          0.6145480871200562,
          0.6174068450927734,
          0.6173960566520691,
          0.615656852722168,
          0.6124333143234253,
          0.6104124188423157,
          0.6119080781936646,
          0.6158326268196106,
          0.6164406538009644,
          0.6180683970451355,
          0.6200748085975647,
          0.6112523078918457,
          0.6076688170433044,
          0.6105794310569763,
          0.6127511858940125,
          0.614682674407959,
          0.6145946979522705,
          0.6087638139724731,
          0.6111418008804321,
          0.6151589155197144,
          0.6169261932373047,
          0.6160045266151428,
          0.6144921779632568,
          0.6083971858024597,
          0.6051372289657593,
          0.6036092042922974,
          0.6072500348091125,
          0.6170947551727295,
          0.6210717558860779,
          0.6161149740219116,
          0.6097979545593262,
          0.6055545210838318,
          0.6031102538108826,
          0.6095561385154724,
          0.6219989657402039,
          0.6152049899101257,
          0.6078182458877563,
          0.6023221015930176,
          0.6044589877128601,
          0.6139541864395142,
          0.619452714920044,
          0.6135269999504089,
          0.6086121797561646,
          0.6210188269615173,
          0.6181190013885498,
          0.6049036979675293,
          0.6059214472770691,
          0.6086229681968689,
          0.6077501773834229,
          0.6181197762489319,
          0.6218907833099365,
          0.6173284649848938,
          0.6225391030311584,
          0.6132838726043701,
          0.6042962670326233,
          0.6039665341377258,
          0.6167930960655212,
          0.6261822581291199,
          0.630805492401123,
          0.6247762441635132,
          0.6129703521728516,
          0.6071550250053406,
          0.6174469590187073,
          0.6169293522834778,
          0.6184203624725342,
          0.6203534603118896,
          0.6174351572990417,
          0.6231387257575989,
          0.6277503371238708,
          0.6245271563529968,
          0.6169158220291138
         ],
         "yaxis": "y"
        },
        {
         "hovertemplate": "<b>%{hovertext}</b><br><br>metric=val_recall<br>epochs=%{x}<br>values=%{y}<extra></extra>",
         "hovertext": [
          "val_recall",
          "val_recall",
          "val_recall",
          "val_recall",
          "val_recall",
          "val_recall",
          "val_recall",
          "val_recall",
          "val_recall",
          "val_recall",
          "val_recall",
          "val_recall",
          "val_recall",
          "val_recall",
          "val_recall",
          "val_recall",
          "val_recall",
          "val_recall",
          "val_recall",
          "val_recall",
          "val_recall",
          "val_recall",
          "val_recall",
          "val_recall",
          "val_recall",
          "val_recall",
          "val_recall",
          "val_recall",
          "val_recall",
          "val_recall",
          "val_recall",
          "val_recall",
          "val_recall",
          "val_recall",
          "val_recall",
          "val_recall",
          "val_recall",
          "val_recall",
          "val_recall",
          "val_recall",
          "val_recall",
          "val_recall",
          "val_recall",
          "val_recall",
          "val_recall",
          "val_recall",
          "val_recall",
          "val_recall",
          "val_recall",
          "val_recall",
          "val_recall",
          "val_recall",
          "val_recall",
          "val_recall",
          "val_recall",
          "val_recall",
          "val_recall",
          "val_recall",
          "val_recall",
          "val_recall",
          "val_recall",
          "val_recall",
          "val_recall",
          "val_recall",
          "val_recall",
          "val_recall",
          "val_recall",
          "val_recall",
          "val_recall",
          "val_recall",
          "val_recall",
          "val_recall",
          "val_recall",
          "val_recall",
          "val_recall",
          "val_recall",
          "val_recall",
          "val_recall",
          "val_recall",
          "val_recall",
          "val_recall",
          "val_recall",
          "val_recall",
          "val_recall",
          "val_recall",
          "val_recall",
          "val_recall",
          "val_recall",
          "val_recall",
          "val_recall",
          "val_recall",
          "val_recall",
          "val_recall",
          "val_recall",
          "val_recall",
          "val_recall",
          "val_recall",
          "val_recall",
          "val_recall",
          "val_recall"
         ],
         "legendgroup": "val_recall",
         "line": {
          "color": "#ab63fa",
          "dash": "solid"
         },
         "mode": "lines",
         "name": "val_recall",
         "orientation": "v",
         "showlegend": true,
         "type": "scatter",
         "x": [
          0,
          1,
          2,
          3,
          4,
          5,
          6,
          7,
          8,
          9,
          10,
          11,
          12,
          13,
          14,
          15,
          16,
          17,
          18,
          19,
          20,
          21,
          22,
          23,
          24,
          25,
          26,
          27,
          28,
          29,
          30,
          31,
          32,
          33,
          34,
          35,
          36,
          37,
          38,
          39,
          40,
          41,
          42,
          43,
          44,
          45,
          46,
          47,
          48,
          49,
          50,
          51,
          52,
          53,
          54,
          55,
          56,
          57,
          58,
          59,
          60,
          61,
          62,
          63,
          64,
          65,
          66,
          67,
          68,
          69,
          70,
          71,
          72,
          73,
          74,
          75,
          76,
          77,
          78,
          79,
          80,
          81,
          82,
          83,
          84,
          85,
          86,
          87,
          88,
          89,
          90,
          91,
          92,
          93,
          94,
          95,
          96,
          97,
          98,
          99
         ],
         "xaxis": "x",
         "y": [
          1,
          1,
          0.9767441749572754,
          0.9534883499145508,
          0.9534883499145508,
          0.8372092843055725,
          0.7906976938247681,
          0.8372092843055725,
          0.8372092843055725,
          0.8604651093482971,
          0.8372092843055725,
          0.7906976938247681,
          0.7209302186965942,
          0.7209302186965942,
          0.7209302186965942,
          0.7209302186965942,
          0.7209302186965942,
          0.7209302186965942,
          0.7209302186965942,
          0.7209302186965942,
          0.6976743936538696,
          0.6976743936538696,
          0.6976743936538696,
          0.6976743936538696,
          0.6976743936538696,
          0.6976743936538696,
          0.6976743936538696,
          0.6976743936538696,
          0.6976743936538696,
          0.6976743936538696,
          0.6976743936538696,
          0.6976743936538696,
          0.6976743936538696,
          0.6976743936538696,
          0.6976743936538696,
          0.6976743936538696,
          0.6744186282157898,
          0.6511628031730652,
          0.6279069781303406,
          0.604651153087616,
          0.6511628031730652,
          0.6744186282157898,
          0.6511628031730652,
          0.6279069781303406,
          0.6279069781303406,
          0.6279069781303406,
          0.6279069781303406,
          0.6511628031730652,
          0.6279069781303406,
          0.6279069781303406,
          0.6279069781303406,
          0.6279069781303406,
          0.6511628031730652,
          0.6511628031730652,
          0.6511628031730652,
          0.6279069781303406,
          0.5581395626068115,
          0.5348837375640869,
          0.5348837375640869,
          0.5581395626068115,
          0.6279069781303406,
          0.6279069781303406,
          0.5581395626068115,
          0.5348837375640869,
          0.5348837375640869,
          0.5813953280448914,
          0.6279069781303406,
          0.6279069781303406,
          0.5348837375640869,
          0.5348837375640869,
          0.5348837375640869,
          0.5813953280448914,
          0.5348837375640869,
          0.5348837375640869,
          0.5813953280448914,
          0.5813953280448914,
          0.5581395626068115,
          0.5813953280448914,
          0.5348837375640869,
          0.5116279125213623,
          0.5348837375640869,
          0.5116279125213623,
          0.5348837375640869,
          0.6279069781303406,
          0.6279069781303406,
          0.5348837375640869,
          0.5116279125213623,
          0.4651162922382355,
          0.5116279125213623,
          0.5581395626068115,
          0.6279069781303406,
          0.5581395626068115,
          0.5581395626068115,
          0.5116279125213623,
          0.5116279125213623,
          0.5581395626068115,
          0.5116279125213623,
          0.5116279125213623,
          0.5116279125213623,
          0.5581395626068115
         ],
         "yaxis": "y"
        }
       ],
       "layout": {
        "autosize": true,
        "legend": {
         "title": {
          "text": "metric"
         },
         "tracegroupgap": 0
        },
        "margin": {
         "t": 60
        },
        "template": {
         "data": {
          "bar": [
           {
            "error_x": {
             "color": "#2a3f5f"
            },
            "error_y": {
             "color": "#2a3f5f"
            },
            "marker": {
             "line": {
              "color": "#E5ECF6",
              "width": 0.5
             }
            },
            "type": "bar"
           }
          ],
          "barpolar": [
           {
            "marker": {
             "line": {
              "color": "#E5ECF6",
              "width": 0.5
             }
            },
            "type": "barpolar"
           }
          ],
          "carpet": [
           {
            "aaxis": {
             "endlinecolor": "#2a3f5f",
             "gridcolor": "white",
             "linecolor": "white",
             "minorgridcolor": "white",
             "startlinecolor": "#2a3f5f"
            },
            "baxis": {
             "endlinecolor": "#2a3f5f",
             "gridcolor": "white",
             "linecolor": "white",
             "minorgridcolor": "white",
             "startlinecolor": "#2a3f5f"
            },
            "type": "carpet"
           }
          ],
          "choropleth": [
           {
            "colorbar": {
             "outlinewidth": 0,
             "ticks": ""
            },
            "type": "choropleth"
           }
          ],
          "contour": [
           {
            "colorbar": {
             "outlinewidth": 0,
             "ticks": ""
            },
            "colorscale": [
             [
              0,
              "#0d0887"
             ],
             [
              0.1111111111111111,
              "#46039f"
             ],
             [
              0.2222222222222222,
              "#7201a8"
             ],
             [
              0.3333333333333333,
              "#9c179e"
             ],
             [
              0.4444444444444444,
              "#bd3786"
             ],
             [
              0.5555555555555556,
              "#d8576b"
             ],
             [
              0.6666666666666666,
              "#ed7953"
             ],
             [
              0.7777777777777778,
              "#fb9f3a"
             ],
             [
              0.8888888888888888,
              "#fdca26"
             ],
             [
              1,
              "#f0f921"
             ]
            ],
            "type": "contour"
           }
          ],
          "contourcarpet": [
           {
            "colorbar": {
             "outlinewidth": 0,
             "ticks": ""
            },
            "type": "contourcarpet"
           }
          ],
          "heatmap": [
           {
            "colorbar": {
             "outlinewidth": 0,
             "ticks": ""
            },
            "colorscale": [
             [
              0,
              "#0d0887"
             ],
             [
              0.1111111111111111,
              "#46039f"
             ],
             [
              0.2222222222222222,
              "#7201a8"
             ],
             [
              0.3333333333333333,
              "#9c179e"
             ],
             [
              0.4444444444444444,
              "#bd3786"
             ],
             [
              0.5555555555555556,
              "#d8576b"
             ],
             [
              0.6666666666666666,
              "#ed7953"
             ],
             [
              0.7777777777777778,
              "#fb9f3a"
             ],
             [
              0.8888888888888888,
              "#fdca26"
             ],
             [
              1,
              "#f0f921"
             ]
            ],
            "type": "heatmap"
           }
          ],
          "heatmapgl": [
           {
            "colorbar": {
             "outlinewidth": 0,
             "ticks": ""
            },
            "colorscale": [
             [
              0,
              "#0d0887"
             ],
             [
              0.1111111111111111,
              "#46039f"
             ],
             [
              0.2222222222222222,
              "#7201a8"
             ],
             [
              0.3333333333333333,
              "#9c179e"
             ],
             [
              0.4444444444444444,
              "#bd3786"
             ],
             [
              0.5555555555555556,
              "#d8576b"
             ],
             [
              0.6666666666666666,
              "#ed7953"
             ],
             [
              0.7777777777777778,
              "#fb9f3a"
             ],
             [
              0.8888888888888888,
              "#fdca26"
             ],
             [
              1,
              "#f0f921"
             ]
            ],
            "type": "heatmapgl"
           }
          ],
          "histogram": [
           {
            "marker": {
             "colorbar": {
              "outlinewidth": 0,
              "ticks": ""
             }
            },
            "type": "histogram"
           }
          ],
          "histogram2d": [
           {
            "colorbar": {
             "outlinewidth": 0,
             "ticks": ""
            },
            "colorscale": [
             [
              0,
              "#0d0887"
             ],
             [
              0.1111111111111111,
              "#46039f"
             ],
             [
              0.2222222222222222,
              "#7201a8"
             ],
             [
              0.3333333333333333,
              "#9c179e"
             ],
             [
              0.4444444444444444,
              "#bd3786"
             ],
             [
              0.5555555555555556,
              "#d8576b"
             ],
             [
              0.6666666666666666,
              "#ed7953"
             ],
             [
              0.7777777777777778,
              "#fb9f3a"
             ],
             [
              0.8888888888888888,
              "#fdca26"
             ],
             [
              1,
              "#f0f921"
             ]
            ],
            "type": "histogram2d"
           }
          ],
          "histogram2dcontour": [
           {
            "colorbar": {
             "outlinewidth": 0,
             "ticks": ""
            },
            "colorscale": [
             [
              0,
              "#0d0887"
             ],
             [
              0.1111111111111111,
              "#46039f"
             ],
             [
              0.2222222222222222,
              "#7201a8"
             ],
             [
              0.3333333333333333,
              "#9c179e"
             ],
             [
              0.4444444444444444,
              "#bd3786"
             ],
             [
              0.5555555555555556,
              "#d8576b"
             ],
             [
              0.6666666666666666,
              "#ed7953"
             ],
             [
              0.7777777777777778,
              "#fb9f3a"
             ],
             [
              0.8888888888888888,
              "#fdca26"
             ],
             [
              1,
              "#f0f921"
             ]
            ],
            "type": "histogram2dcontour"
           }
          ],
          "mesh3d": [
           {
            "colorbar": {
             "outlinewidth": 0,
             "ticks": ""
            },
            "type": "mesh3d"
           }
          ],
          "parcoords": [
           {
            "line": {
             "colorbar": {
              "outlinewidth": 0,
              "ticks": ""
             }
            },
            "type": "parcoords"
           }
          ],
          "pie": [
           {
            "automargin": true,
            "type": "pie"
           }
          ],
          "scatter": [
           {
            "marker": {
             "colorbar": {
              "outlinewidth": 0,
              "ticks": ""
             }
            },
            "type": "scatter"
           }
          ],
          "scatter3d": [
           {
            "line": {
             "colorbar": {
              "outlinewidth": 0,
              "ticks": ""
             }
            },
            "marker": {
             "colorbar": {
              "outlinewidth": 0,
              "ticks": ""
             }
            },
            "type": "scatter3d"
           }
          ],
          "scattercarpet": [
           {
            "marker": {
             "colorbar": {
              "outlinewidth": 0,
              "ticks": ""
             }
            },
            "type": "scattercarpet"
           }
          ],
          "scattergeo": [
           {
            "marker": {
             "colorbar": {
              "outlinewidth": 0,
              "ticks": ""
             }
            },
            "type": "scattergeo"
           }
          ],
          "scattergl": [
           {
            "marker": {
             "colorbar": {
              "outlinewidth": 0,
              "ticks": ""
             }
            },
            "type": "scattergl"
           }
          ],
          "scattermapbox": [
           {
            "marker": {
             "colorbar": {
              "outlinewidth": 0,
              "ticks": ""
             }
            },
            "type": "scattermapbox"
           }
          ],
          "scatterpolar": [
           {
            "marker": {
             "colorbar": {
              "outlinewidth": 0,
              "ticks": ""
             }
            },
            "type": "scatterpolar"
           }
          ],
          "scatterpolargl": [
           {
            "marker": {
             "colorbar": {
              "outlinewidth": 0,
              "ticks": ""
             }
            },
            "type": "scatterpolargl"
           }
          ],
          "scatterternary": [
           {
            "marker": {
             "colorbar": {
              "outlinewidth": 0,
              "ticks": ""
             }
            },
            "type": "scatterternary"
           }
          ],
          "surface": [
           {
            "colorbar": {
             "outlinewidth": 0,
             "ticks": ""
            },
            "colorscale": [
             [
              0,
              "#0d0887"
             ],
             [
              0.1111111111111111,
              "#46039f"
             ],
             [
              0.2222222222222222,
              "#7201a8"
             ],
             [
              0.3333333333333333,
              "#9c179e"
             ],
             [
              0.4444444444444444,
              "#bd3786"
             ],
             [
              0.5555555555555556,
              "#d8576b"
             ],
             [
              0.6666666666666666,
              "#ed7953"
             ],
             [
              0.7777777777777778,
              "#fb9f3a"
             ],
             [
              0.8888888888888888,
              "#fdca26"
             ],
             [
              1,
              "#f0f921"
             ]
            ],
            "type": "surface"
           }
          ],
          "table": [
           {
            "cells": {
             "fill": {
              "color": "#EBF0F8"
             },
             "line": {
              "color": "white"
             }
            },
            "header": {
             "fill": {
              "color": "#C8D4E3"
             },
             "line": {
              "color": "white"
             }
            },
            "type": "table"
           }
          ]
         },
         "layout": {
          "annotationdefaults": {
           "arrowcolor": "#2a3f5f",
           "arrowhead": 0,
           "arrowwidth": 1
          },
          "coloraxis": {
           "colorbar": {
            "outlinewidth": 0,
            "ticks": ""
           }
          },
          "colorscale": {
           "diverging": [
            [
             0,
             "#8e0152"
            ],
            [
             0.1,
             "#c51b7d"
            ],
            [
             0.2,
             "#de77ae"
            ],
            [
             0.3,
             "#f1b6da"
            ],
            [
             0.4,
             "#fde0ef"
            ],
            [
             0.5,
             "#f7f7f7"
            ],
            [
             0.6,
             "#e6f5d0"
            ],
            [
             0.7,
             "#b8e186"
            ],
            [
             0.8,
             "#7fbc41"
            ],
            [
             0.9,
             "#4d9221"
            ],
            [
             1,
             "#276419"
            ]
           ],
           "sequential": [
            [
             0,
             "#0d0887"
            ],
            [
             0.1111111111111111,
             "#46039f"
            ],
            [
             0.2222222222222222,
             "#7201a8"
            ],
            [
             0.3333333333333333,
             "#9c179e"
            ],
            [
             0.4444444444444444,
             "#bd3786"
            ],
            [
             0.5555555555555556,
             "#d8576b"
            ],
            [
             0.6666666666666666,
             "#ed7953"
            ],
            [
             0.7777777777777778,
             "#fb9f3a"
            ],
            [
             0.8888888888888888,
             "#fdca26"
            ],
            [
             1,
             "#f0f921"
            ]
           ],
           "sequentialminus": [
            [
             0,
             "#0d0887"
            ],
            [
             0.1111111111111111,
             "#46039f"
            ],
            [
             0.2222222222222222,
             "#7201a8"
            ],
            [
             0.3333333333333333,
             "#9c179e"
            ],
            [
             0.4444444444444444,
             "#bd3786"
            ],
            [
             0.5555555555555556,
             "#d8576b"
            ],
            [
             0.6666666666666666,
             "#ed7953"
            ],
            [
             0.7777777777777778,
             "#fb9f3a"
            ],
            [
             0.8888888888888888,
             "#fdca26"
            ],
            [
             1,
             "#f0f921"
            ]
           ]
          },
          "colorway": [
           "#636efa",
           "#EF553B",
           "#00cc96",
           "#ab63fa",
           "#FFA15A",
           "#19d3f3",
           "#FF6692",
           "#B6E880",
           "#FF97FF",
           "#FECB52"
          ],
          "font": {
           "color": "#2a3f5f"
          },
          "geo": {
           "bgcolor": "white",
           "lakecolor": "white",
           "landcolor": "#E5ECF6",
           "showlakes": true,
           "showland": true,
           "subunitcolor": "white"
          },
          "hoverlabel": {
           "align": "left"
          },
          "hovermode": "closest",
          "mapbox": {
           "style": "light"
          },
          "paper_bgcolor": "white",
          "plot_bgcolor": "#E5ECF6",
          "polar": {
           "angularaxis": {
            "gridcolor": "white",
            "linecolor": "white",
            "ticks": ""
           },
           "bgcolor": "#E5ECF6",
           "radialaxis": {
            "gridcolor": "white",
            "linecolor": "white",
            "ticks": ""
           }
          },
          "scene": {
           "xaxis": {
            "backgroundcolor": "#E5ECF6",
            "gridcolor": "white",
            "gridwidth": 2,
            "linecolor": "white",
            "showbackground": true,
            "ticks": "",
            "zerolinecolor": "white"
           },
           "yaxis": {
            "backgroundcolor": "#E5ECF6",
            "gridcolor": "white",
            "gridwidth": 2,
            "linecolor": "white",
            "showbackground": true,
            "ticks": "",
            "zerolinecolor": "white"
           },
           "zaxis": {
            "backgroundcolor": "#E5ECF6",
            "gridcolor": "white",
            "gridwidth": 2,
            "linecolor": "white",
            "showbackground": true,
            "ticks": "",
            "zerolinecolor": "white"
           }
          },
          "shapedefaults": {
           "line": {
            "color": "#2a3f5f"
           }
          },
          "ternary": {
           "aaxis": {
            "gridcolor": "white",
            "linecolor": "white",
            "ticks": ""
           },
           "baxis": {
            "gridcolor": "white",
            "linecolor": "white",
            "ticks": ""
           },
           "bgcolor": "#E5ECF6",
           "caxis": {
            "gridcolor": "white",
            "linecolor": "white",
            "ticks": ""
           }
          },
          "title": {
           "x": 0.05
          },
          "xaxis": {
           "automargin": true,
           "gridcolor": "white",
           "linecolor": "white",
           "ticks": "",
           "title": {
            "standoff": 15
           },
           "zerolinecolor": "white",
           "zerolinewidth": 2
          },
          "yaxis": {
           "automargin": true,
           "gridcolor": "white",
           "linecolor": "white",
           "ticks": "",
           "title": {
            "standoff": 15
           },
           "zerolinecolor": "white",
           "zerolinewidth": 2
          }
         }
        },
        "xaxis": {
         "anchor": "y",
         "autorange": true,
         "domain": [
          0,
          1
         ],
         "range": [
          0,
          99
         ],
         "title": {
          "text": "epochs"
         },
         "type": "linear"
        },
        "yaxis": {
         "anchor": "x",
         "autorange": true,
         "domain": [
          0,
          1
         ],
         "range": [
          0.4354005306959152,
          1.0297157615423203
         ],
         "title": {
          "text": "values"
         },
         "type": "linear"
        }
       }
      },
      "image/png": "[encoded data removed]",
      "text/html": [
       "<div>\n",
       "        \n",
       "        \n",
       "            <div id=\"8974a2c9-0e8a-49ea-aca6-a6673f6ddf69\" class=\"plotly-graph-div\" style=\"height:525px; width:100%;\"></div>\n",
       "            <script type=\"text/javascript\">\n",
       "                require([\"plotly\"], function(Plotly) {\n",
       "                    window.PLOTLYENV=window.PLOTLYENV || {};\n",
       "                    \n",
       "                if (document.getElementById(\"8974a2c9-0e8a-49ea-aca6-a6673f6ddf69\")) {\n",
       "                    Plotly.newPlot(\n",
       "                        '8974a2c9-0e8a-49ea-aca6-a6673f6ddf69',\n",
       "                        [{\"hovertemplate\": \"<b>%{hovertext}</b><br><br>metric=loss<br>epochs=%{x}<br>values=%{y}<extra></extra>\", \"hovertext\": [\"loss\", \"loss\", \"loss\", \"loss\", \"loss\", \"loss\", \"loss\", \"loss\", \"loss\", \"loss\", \"loss\", \"loss\", \"loss\", \"loss\", \"loss\", \"loss\", \"loss\", \"loss\", \"loss\", \"loss\", \"loss\", \"loss\", \"loss\", \"loss\", \"loss\", \"loss\", \"loss\", \"loss\", \"loss\", \"loss\", \"loss\", \"loss\", \"loss\", \"loss\", \"loss\", \"loss\", \"loss\", \"loss\", \"loss\", \"loss\", \"loss\", \"loss\", \"loss\", \"loss\", \"loss\", \"loss\", \"loss\", \"loss\", \"loss\", \"loss\", \"loss\", \"loss\", \"loss\", \"loss\", \"loss\", \"loss\", \"loss\", \"loss\", \"loss\", \"loss\", \"loss\", \"loss\", \"loss\", \"loss\", \"loss\", \"loss\", \"loss\", \"loss\", \"loss\", \"loss\", \"loss\", \"loss\", \"loss\", \"loss\", \"loss\", \"loss\", \"loss\", \"loss\", \"loss\", \"loss\", \"loss\", \"loss\", \"loss\", \"loss\", \"loss\", \"loss\", \"loss\", \"loss\", \"loss\", \"loss\", \"loss\", \"loss\", \"loss\", \"loss\", \"loss\", \"loss\", \"loss\", \"loss\", \"loss\", \"loss\"], \"legendgroup\": \"loss\", \"line\": {\"color\": \"#636efa\", \"dash\": \"solid\"}, \"mode\": \"lines\", \"name\": \"loss\", \"orientation\": \"v\", \"showlegend\": true, \"type\": \"scatter\", \"x\": [0, 1, 2, 3, 4, 5, 6, 7, 8, 9, 10, 11, 12, 13, 14, 15, 16, 17, 18, 19, 20, 21, 22, 23, 24, 25, 26, 27, 28, 29, 30, 31, 32, 33, 34, 35, 36, 37, 38, 39, 40, 41, 42, 43, 44, 45, 46, 47, 48, 49, 50, 51, 52, 53, 54, 55, 56, 57, 58, 59, 60, 61, 62, 63, 64, 65, 66, 67, 68, 69, 70, 71, 72, 73, 74, 75, 76, 77, 78, 79, 80, 81, 82, 83, 84, 85, 86, 87, 88, 89, 90, 91, 92, 93, 94, 95, 96, 97, 98, 99], \"xaxis\": \"x\", \"y\": [0.6851856112480164, 0.6669108867645264, 0.6721066832542419, 0.6594971418380737, 0.6578976511955261, 0.6514220237731934, 0.6599082946777344, 0.6490618586540222, 0.6480869054794312, 0.6465050578117371, 0.6474513411521912, 0.6437944173812866, 0.6364981532096863, 0.6334466338157654, 0.6463951468467712, 0.6274155378341675, 0.6430090665817261, 0.643652081489563, 0.6226280927658081, 0.6304212808609009, 0.6127561330795288, 0.6251266598701477, 0.6353529691696167, 0.6387301087379456, 0.6197609305381775, 0.6184622049331665, 0.6355178356170654, 0.6245846748352051, 0.6217978000640869, 0.6149569749832153, 0.638473391532898, 0.6324368715286255, 0.6343402862548828, 0.6027693152427673, 0.6152003407478333, 0.6130721569061279, 0.6159148216247559, 0.6061429977416992, 0.5961670875549316, 0.6124351024627686, 0.6045070290565491, 0.6170103549957275, 0.625744640827179, 0.6001365780830383, 0.6098217964172363, 0.6306134462356567, 0.6119822859764099, 0.6080257892608643, 0.601233184337616, 0.6099134683609009, 0.5994960069656372, 0.6027323603630066, 0.5895643830299377, 0.5852305293083191, 0.597069263458252, 0.6052637100219727, 0.5956510305404663, 0.5917864441871643, 0.6036021113395691, 0.5891730189323425, 0.5896044969558716, 0.594780683517456, 0.5881032347679138, 0.5746367573738098, 0.5879807472229004, 0.5934576988220215, 0.5927058458328247, 0.5926181674003601, 0.5911930203437805, 0.586466372013092, 0.5802653431892395, 0.594881534576416, 0.5868939757347107, 0.586144208908081, 0.5799189805984497, 0.5828920602798462, 0.58883136510849, 0.5685638189315796, 0.5724846124649048, 0.5802521109580994, 0.5935727953910828, 0.5829847455024719, 0.5786061882972717, 0.5755836963653564, 0.572312593460083, 0.5850734114646912, 0.5748621225357056, 0.579622745513916, 0.5898489356040955, 0.5685372948646545, 0.5719159841537476, 0.5820032358169556, 0.5745726823806763, 0.5669800639152527, 0.5796476602554321, 0.5843534469604492, 0.5853913426399231, 0.5703825950622559, 0.570460855960846, 0.5756966471672058], \"yaxis\": \"y\"}, {\"hovertemplate\": \"<b>%{hovertext}</b><br><br>metric=recall<br>epochs=%{x}<br>values=%{y}<extra></extra>\", \"hovertext\": [\"recall\", \"recall\", \"recall\", \"recall\", \"recall\", \"recall\", \"recall\", \"recall\", \"recall\", \"recall\", \"recall\", \"recall\", \"recall\", \"recall\", \"recall\", \"recall\", \"recall\", \"recall\", \"recall\", \"recall\", \"recall\", \"recall\", \"recall\", \"recall\", \"recall\", \"recall\", \"recall\", \"recall\", \"recall\", \"recall\", \"recall\", \"recall\", \"recall\", \"recall\", \"recall\", \"recall\", \"recall\", \"recall\", \"recall\", \"recall\", \"recall\", \"recall\", \"recall\", \"recall\", \"recall\", \"recall\", \"recall\", \"recall\", \"recall\", \"recall\", \"recall\", \"recall\", \"recall\", \"recall\", \"recall\", \"recall\", \"recall\", \"recall\", \"recall\", \"recall\", \"recall\", \"recall\", \"recall\", \"recall\", \"recall\", \"recall\", \"recall\", \"recall\", \"recall\", \"recall\", \"recall\", \"recall\", \"recall\", \"recall\", \"recall\", \"recall\", \"recall\", \"recall\", \"recall\", \"recall\", \"recall\", \"recall\", \"recall\", \"recall\", \"recall\", \"recall\", \"recall\", \"recall\", \"recall\", \"recall\", \"recall\", \"recall\", \"recall\", \"recall\", \"recall\", \"recall\", \"recall\", \"recall\", \"recall\", \"recall\"], \"legendgroup\": \"recall\", \"line\": {\"color\": \"#EF553B\", \"dash\": \"solid\"}, \"mode\": \"lines\", \"name\": \"recall\", \"orientation\": \"v\", \"showlegend\": true, \"type\": \"scatter\", \"x\": [0, 1, 2, 3, 4, 5, 6, 7, 8, 9, 10, 11, 12, 13, 14, 15, 16, 17, 18, 19, 20, 21, 22, 23, 24, 25, 26, 27, 28, 29, 30, 31, 32, 33, 34, 35, 36, 37, 38, 39, 40, 41, 42, 43, 44, 45, 46, 47, 48, 49, 50, 51, 52, 53, 54, 55, 56, 57, 58, 59, 60, 61, 62, 63, 64, 65, 66, 67, 68, 69, 70, 71, 72, 73, 74, 75, 76, 77, 78, 79, 80, 81, 82, 83, 84, 85, 86, 87, 88, 89, 90, 91, 92, 93, 94, 95, 96, 97, 98, 99], \"xaxis\": \"x\", \"y\": [0.6382978558540344, 1.0, 1.0, 0.978723406791687, 0.936170220375061, 0.914893627166748, 0.8085106611251831, 0.8085106611251831, 0.8404255509376526, 0.8829787373542786, 0.8617021441459656, 0.8297872543334961, 0.7978723645210266, 0.7340425252914429, 0.7127659320831299, 0.7872340679168701, 0.7659574747085571, 0.7659574747085571, 0.7659574747085571, 0.7446808218955994, 0.7553191781044006, 0.7127659320831299, 0.6702127456665039, 0.7021276354789734, 0.7127659320831299, 0.7127659320831299, 0.7127659320831299, 0.6595744490623474, 0.6914893388748169, 0.6702127456665039, 0.6914893388748169, 0.7021276354789734, 0.6702127456665039, 0.7340425252914429, 0.7234042286872864, 0.7234042286872864, 0.7021276354789734, 0.6914893388748169, 0.7021276354789734, 0.6702127456665039, 0.6808510422706604, 0.6914893388748169, 0.7234042286872864, 0.7021276354789734, 0.6382978558540344, 0.6382978558540344, 0.6808510422706604, 0.7127659320831299, 0.7234042286872864, 0.6914893388748169, 0.7021276354789734, 0.6808510422706604, 0.7127659320831299, 0.7553191781044006, 0.7234042286872864, 0.6702127456665039, 0.6489361524581909, 0.6489361524581909, 0.585106372833252, 0.6382978558540344, 0.6489361524581909, 0.7021276354789734, 0.6808510422706604, 0.6595744490623474, 0.6170212626457214, 0.6276595592498779, 0.6808510422706604, 0.6914893388748169, 0.7127659320831299, 0.6808510422706604, 0.7340425252914429, 0.6382978558540344, 0.6595744490623474, 0.6276595592498779, 0.6170212626457214, 0.7127659320831299, 0.6276595592498779, 0.7234042286872864, 0.6702127456665039, 0.6489361524581909, 0.6276595592498779, 0.5957446694374084, 0.5957446694374084, 0.7127659320831299, 0.7340425252914429, 0.7021276354789734, 0.6170212626457214, 0.5957446694374084, 0.563829779624939, 0.6063829660415649, 0.6808510422706604, 0.7021276354789734, 0.6382978558540344, 0.6170212626457214, 0.6276595592498779, 0.6808510422706604, 0.6276595592498779, 0.6702127456665039, 0.6489361524581909, 0.6595744490623474], \"yaxis\": \"y\"}, {\"hovertemplate\": \"<b>%{hovertext}</b><br><br>metric=val_loss<br>epochs=%{x}<br>values=%{y}<extra></extra>\", \"hovertext\": [\"val_loss\", \"val_loss\", \"val_loss\", \"val_loss\", \"val_loss\", \"val_loss\", \"val_loss\", \"val_loss\", \"val_loss\", \"val_loss\", \"val_loss\", \"val_loss\", \"val_loss\", \"val_loss\", \"val_loss\", \"val_loss\", \"val_loss\", \"val_loss\", \"val_loss\", \"val_loss\", \"val_loss\", \"val_loss\", \"val_loss\", \"val_loss\", \"val_loss\", \"val_loss\", \"val_loss\", \"val_loss\", \"val_loss\", \"val_loss\", \"val_loss\", \"val_loss\", \"val_loss\", \"val_loss\", \"val_loss\", \"val_loss\", \"val_loss\", \"val_loss\", \"val_loss\", \"val_loss\", \"val_loss\", \"val_loss\", \"val_loss\", \"val_loss\", \"val_loss\", \"val_loss\", \"val_loss\", \"val_loss\", \"val_loss\", \"val_loss\", \"val_loss\", \"val_loss\", \"val_loss\", \"val_loss\", \"val_loss\", \"val_loss\", \"val_loss\", \"val_loss\", \"val_loss\", \"val_loss\", \"val_loss\", \"val_loss\", \"val_loss\", \"val_loss\", \"val_loss\", \"val_loss\", \"val_loss\", \"val_loss\", \"val_loss\", \"val_loss\", \"val_loss\", \"val_loss\", \"val_loss\", \"val_loss\", \"val_loss\", \"val_loss\", \"val_loss\", \"val_loss\", \"val_loss\", \"val_loss\", \"val_loss\", \"val_loss\", \"val_loss\", \"val_loss\", \"val_loss\", \"val_loss\", \"val_loss\", \"val_loss\", \"val_loss\", \"val_loss\", \"val_loss\", \"val_loss\", \"val_loss\", \"val_loss\", \"val_loss\", \"val_loss\", \"val_loss\", \"val_loss\", \"val_loss\", \"val_loss\"], \"legendgroup\": \"val_loss\", \"line\": {\"color\": \"#00cc96\", \"dash\": \"solid\"}, \"mode\": \"lines\", \"name\": \"val_loss\", \"orientation\": \"v\", \"showlegend\": true, \"type\": \"scatter\", \"x\": [0, 1, 2, 3, 4, 5, 6, 7, 8, 9, 10, 11, 12, 13, 14, 15, 16, 17, 18, 19, 20, 21, 22, 23, 24, 25, 26, 27, 28, 29, 30, 31, 32, 33, 34, 35, 36, 37, 38, 39, 40, 41, 42, 43, 44, 45, 46, 47, 48, 49, 50, 51, 52, 53, 54, 55, 56, 57, 58, 59, 60, 61, 62, 63, 64, 65, 66, 67, 68, 69, 70, 71, 72, 73, 74, 75, 76, 77, 78, 79, 80, 81, 82, 83, 84, 85, 86, 87, 88, 89, 90, 91, 92, 93, 94, 95, 96, 97, 98, 99], \"xaxis\": \"x\", \"y\": [0.6624428629875183, 0.6522942185401917, 0.6490724682807922, 0.6483547687530518, 0.6469960808753967, 0.6479156017303467, 0.6462950706481934, 0.6405264139175415, 0.6332703232765198, 0.6264345049858093, 0.6248624324798584, 0.6256745457649231, 0.6255925297737122, 0.6257330775260925, 0.6194064617156982, 0.613875687122345, 0.6120362281799316, 0.6145197153091431, 0.6141471862792969, 0.6148929595947266, 0.616314709186554, 0.6173117160797119, 0.6124799847602844, 0.6132121682167053, 0.6186456680297852, 0.6185535788536072, 0.617401123046875, 0.6130366921424866, 0.6123954057693481, 0.6145480871200562, 0.6174068450927734, 0.6173960566520691, 0.615656852722168, 0.6124333143234253, 0.6104124188423157, 0.6119080781936646, 0.6158326268196106, 0.6164406538009644, 0.6180683970451355, 0.6200748085975647, 0.6112523078918457, 0.6076688170433044, 0.6105794310569763, 0.6127511858940125, 0.614682674407959, 0.6145946979522705, 0.6087638139724731, 0.6111418008804321, 0.6151589155197144, 0.6169261932373047, 0.6160045266151428, 0.6144921779632568, 0.6083971858024597, 0.6051372289657593, 0.6036092042922974, 0.6072500348091125, 0.6170947551727295, 0.6210717558860779, 0.6161149740219116, 0.6097979545593262, 0.6055545210838318, 0.6031102538108826, 0.6095561385154724, 0.6219989657402039, 0.6152049899101257, 0.6078182458877563, 0.6023221015930176, 0.6044589877128601, 0.6139541864395142, 0.619452714920044, 0.6135269999504089, 0.6086121797561646, 0.6210188269615173, 0.6181190013885498, 0.6049036979675293, 0.6059214472770691, 0.6086229681968689, 0.6077501773834229, 0.6181197762489319, 0.6218907833099365, 0.6173284649848938, 0.6225391030311584, 0.6132838726043701, 0.6042962670326233, 0.6039665341377258, 0.6167930960655212, 0.6261822581291199, 0.630805492401123, 0.6247762441635132, 0.6129703521728516, 0.6071550250053406, 0.6174469590187073, 0.6169293522834778, 0.6184203624725342, 0.6203534603118896, 0.6174351572990417, 0.6231387257575989, 0.6277503371238708, 0.6245271563529968, 0.6169158220291138], \"yaxis\": \"y\"}, {\"hovertemplate\": \"<b>%{hovertext}</b><br><br>metric=val_recall<br>epochs=%{x}<br>values=%{y}<extra></extra>\", \"hovertext\": [\"val_recall\", \"val_recall\", \"val_recall\", \"val_recall\", \"val_recall\", \"val_recall\", \"val_recall\", \"val_recall\", \"val_recall\", \"val_recall\", \"val_recall\", \"val_recall\", \"val_recall\", \"val_recall\", \"val_recall\", \"val_recall\", \"val_recall\", \"val_recall\", \"val_recall\", \"val_recall\", \"val_recall\", \"val_recall\", \"val_recall\", \"val_recall\", \"val_recall\", \"val_recall\", \"val_recall\", \"val_recall\", \"val_recall\", \"val_recall\", \"val_recall\", \"val_recall\", \"val_recall\", \"val_recall\", \"val_recall\", \"val_recall\", \"val_recall\", \"val_recall\", \"val_recall\", \"val_recall\", \"val_recall\", \"val_recall\", \"val_recall\", \"val_recall\", \"val_recall\", \"val_recall\", \"val_recall\", \"val_recall\", \"val_recall\", \"val_recall\", \"val_recall\", \"val_recall\", \"val_recall\", \"val_recall\", \"val_recall\", \"val_recall\", \"val_recall\", \"val_recall\", \"val_recall\", \"val_recall\", \"val_recall\", \"val_recall\", \"val_recall\", \"val_recall\", \"val_recall\", \"val_recall\", \"val_recall\", \"val_recall\", \"val_recall\", \"val_recall\", \"val_recall\", \"val_recall\", \"val_recall\", \"val_recall\", \"val_recall\", \"val_recall\", \"val_recall\", \"val_recall\", \"val_recall\", \"val_recall\", \"val_recall\", \"val_recall\", \"val_recall\", \"val_recall\", \"val_recall\", \"val_recall\", \"val_recall\", \"val_recall\", \"val_recall\", \"val_recall\", \"val_recall\", \"val_recall\", \"val_recall\", \"val_recall\", \"val_recall\", \"val_recall\", \"val_recall\", \"val_recall\", \"val_recall\", \"val_recall\"], \"legendgroup\": \"val_recall\", \"line\": {\"color\": \"#ab63fa\", \"dash\": \"solid\"}, \"mode\": \"lines\", \"name\": \"val_recall\", \"orientation\": \"v\", \"showlegend\": true, \"type\": \"scatter\", \"x\": [0, 1, 2, 3, 4, 5, 6, 7, 8, 9, 10, 11, 12, 13, 14, 15, 16, 17, 18, 19, 20, 21, 22, 23, 24, 25, 26, 27, 28, 29, 30, 31, 32, 33, 34, 35, 36, 37, 38, 39, 40, 41, 42, 43, 44, 45, 46, 47, 48, 49, 50, 51, 52, 53, 54, 55, 56, 57, 58, 59, 60, 61, 62, 63, 64, 65, 66, 67, 68, 69, 70, 71, 72, 73, 74, 75, 76, 77, 78, 79, 80, 81, 82, 83, 84, 85, 86, 87, 88, 89, 90, 91, 92, 93, 94, 95, 96, 97, 98, 99], \"xaxis\": \"x\", \"y\": [1.0, 1.0, 0.9767441749572754, 0.9534883499145508, 0.9534883499145508, 0.8372092843055725, 0.7906976938247681, 0.8372092843055725, 0.8372092843055725, 0.8604651093482971, 0.8372092843055725, 0.7906976938247681, 0.7209302186965942, 0.7209302186965942, 0.7209302186965942, 0.7209302186965942, 0.7209302186965942, 0.7209302186965942, 0.7209302186965942, 0.7209302186965942, 0.6976743936538696, 0.6976743936538696, 0.6976743936538696, 0.6976743936538696, 0.6976743936538696, 0.6976743936538696, 0.6976743936538696, 0.6976743936538696, 0.6976743936538696, 0.6976743936538696, 0.6976743936538696, 0.6976743936538696, 0.6976743936538696, 0.6976743936538696, 0.6976743936538696, 0.6976743936538696, 0.6744186282157898, 0.6511628031730652, 0.6279069781303406, 0.604651153087616, 0.6511628031730652, 0.6744186282157898, 0.6511628031730652, 0.6279069781303406, 0.6279069781303406, 0.6279069781303406, 0.6279069781303406, 0.6511628031730652, 0.6279069781303406, 0.6279069781303406, 0.6279069781303406, 0.6279069781303406, 0.6511628031730652, 0.6511628031730652, 0.6511628031730652, 0.6279069781303406, 0.5581395626068115, 0.5348837375640869, 0.5348837375640869, 0.5581395626068115, 0.6279069781303406, 0.6279069781303406, 0.5581395626068115, 0.5348837375640869, 0.5348837375640869, 0.5813953280448914, 0.6279069781303406, 0.6279069781303406, 0.5348837375640869, 0.5348837375640869, 0.5348837375640869, 0.5813953280448914, 0.5348837375640869, 0.5348837375640869, 0.5813953280448914, 0.5813953280448914, 0.5581395626068115, 0.5813953280448914, 0.5348837375640869, 0.5116279125213623, 0.5348837375640869, 0.5116279125213623, 0.5348837375640869, 0.6279069781303406, 0.6279069781303406, 0.5348837375640869, 0.5116279125213623, 0.4651162922382355, 0.5116279125213623, 0.5581395626068115, 0.6279069781303406, 0.5581395626068115, 0.5581395626068115, 0.5116279125213623, 0.5116279125213623, 0.5581395626068115, 0.5116279125213623, 0.5116279125213623, 0.5116279125213623, 0.5581395626068115], \"yaxis\": \"y\"}],\n",
       "                        {\"legend\": {\"title\": {\"text\": \"metric\"}, \"tracegroupgap\": 0}, \"margin\": {\"t\": 60}, \"template\": {\"data\": {\"bar\": [{\"error_x\": {\"color\": \"#2a3f5f\"}, \"error_y\": {\"color\": \"#2a3f5f\"}, \"marker\": {\"line\": {\"color\": \"#E5ECF6\", \"width\": 0.5}}, \"type\": \"bar\"}], \"barpolar\": [{\"marker\": {\"line\": {\"color\": \"#E5ECF6\", \"width\": 0.5}}, \"type\": \"barpolar\"}], \"carpet\": [{\"aaxis\": {\"endlinecolor\": \"#2a3f5f\", \"gridcolor\": \"white\", \"linecolor\": \"white\", \"minorgridcolor\": \"white\", \"startlinecolor\": \"#2a3f5f\"}, \"baxis\": {\"endlinecolor\": \"#2a3f5f\", \"gridcolor\": \"white\", \"linecolor\": \"white\", \"minorgridcolor\": \"white\", \"startlinecolor\": \"#2a3f5f\"}, \"type\": \"carpet\"}], \"choropleth\": [{\"colorbar\": {\"outlinewidth\": 0, \"ticks\": \"\"}, \"type\": \"choropleth\"}], \"contour\": [{\"colorbar\": {\"outlinewidth\": 0, \"ticks\": \"\"}, \"colorscale\": [[0.0, \"#0d0887\"], [0.1111111111111111, \"#46039f\"], [0.2222222222222222, \"#7201a8\"], [0.3333333333333333, \"#9c179e\"], [0.4444444444444444, \"#bd3786\"], [0.5555555555555556, \"#d8576b\"], [0.6666666666666666, \"#ed7953\"], [0.7777777777777778, \"#fb9f3a\"], [0.8888888888888888, \"#fdca26\"], [1.0, \"#f0f921\"]], \"type\": \"contour\"}], \"contourcarpet\": [{\"colorbar\": {\"outlinewidth\": 0, \"ticks\": \"\"}, \"type\": \"contourcarpet\"}], \"heatmap\": [{\"colorbar\": {\"outlinewidth\": 0, \"ticks\": \"\"}, \"colorscale\": [[0.0, \"#0d0887\"], [0.1111111111111111, \"#46039f\"], [0.2222222222222222, \"#7201a8\"], [0.3333333333333333, \"#9c179e\"], [0.4444444444444444, \"#bd3786\"], [0.5555555555555556, \"#d8576b\"], [0.6666666666666666, \"#ed7953\"], [0.7777777777777778, \"#fb9f3a\"], [0.8888888888888888, \"#fdca26\"], [1.0, \"#f0f921\"]], \"type\": \"heatmap\"}], \"heatmapgl\": [{\"colorbar\": {\"outlinewidth\": 0, \"ticks\": \"\"}, \"colorscale\": [[0.0, \"#0d0887\"], [0.1111111111111111, \"#46039f\"], [0.2222222222222222, \"#7201a8\"], [0.3333333333333333, \"#9c179e\"], [0.4444444444444444, \"#bd3786\"], [0.5555555555555556, \"#d8576b\"], [0.6666666666666666, \"#ed7953\"], [0.7777777777777778, \"#fb9f3a\"], [0.8888888888888888, \"#fdca26\"], [1.0, \"#f0f921\"]], \"type\": \"heatmapgl\"}], \"histogram\": [{\"marker\": {\"colorbar\": {\"outlinewidth\": 0, \"ticks\": \"\"}}, \"type\": \"histogram\"}], \"histogram2d\": [{\"colorbar\": {\"outlinewidth\": 0, \"ticks\": \"\"}, \"colorscale\": [[0.0, \"#0d0887\"], [0.1111111111111111, \"#46039f\"], [0.2222222222222222, \"#7201a8\"], [0.3333333333333333, \"#9c179e\"], [0.4444444444444444, \"#bd3786\"], [0.5555555555555556, \"#d8576b\"], [0.6666666666666666, \"#ed7953\"], [0.7777777777777778, \"#fb9f3a\"], [0.8888888888888888, \"#fdca26\"], [1.0, \"#f0f921\"]], \"type\": \"histogram2d\"}], \"histogram2dcontour\": [{\"colorbar\": {\"outlinewidth\": 0, \"ticks\": \"\"}, \"colorscale\": [[0.0, \"#0d0887\"], [0.1111111111111111, \"#46039f\"], [0.2222222222222222, \"#7201a8\"], [0.3333333333333333, \"#9c179e\"], [0.4444444444444444, \"#bd3786\"], [0.5555555555555556, \"#d8576b\"], [0.6666666666666666, \"#ed7953\"], [0.7777777777777778, \"#fb9f3a\"], [0.8888888888888888, \"#fdca26\"], [1.0, \"#f0f921\"]], \"type\": \"histogram2dcontour\"}], \"mesh3d\": [{\"colorbar\": {\"outlinewidth\": 0, \"ticks\": \"\"}, \"type\": \"mesh3d\"}], \"parcoords\": [{\"line\": {\"colorbar\": {\"outlinewidth\": 0, \"ticks\": \"\"}}, \"type\": \"parcoords\"}], \"pie\": [{\"automargin\": true, \"type\": \"pie\"}], \"scatter\": [{\"marker\": {\"colorbar\": {\"outlinewidth\": 0, \"ticks\": \"\"}}, \"type\": \"scatter\"}], \"scatter3d\": [{\"line\": {\"colorbar\": {\"outlinewidth\": 0, \"ticks\": \"\"}}, \"marker\": {\"colorbar\": {\"outlinewidth\": 0, \"ticks\": \"\"}}, \"type\": \"scatter3d\"}], \"scattercarpet\": [{\"marker\": {\"colorbar\": {\"outlinewidth\": 0, \"ticks\": \"\"}}, \"type\": \"scattercarpet\"}], \"scattergeo\": [{\"marker\": {\"colorbar\": {\"outlinewidth\": 0, \"ticks\": \"\"}}, \"type\": \"scattergeo\"}], \"scattergl\": [{\"marker\": {\"colorbar\": {\"outlinewidth\": 0, \"ticks\": \"\"}}, \"type\": \"scattergl\"}], \"scattermapbox\": [{\"marker\": {\"colorbar\": {\"outlinewidth\": 0, \"ticks\": \"\"}}, \"type\": \"scattermapbox\"}], \"scatterpolar\": [{\"marker\": {\"colorbar\": {\"outlinewidth\": 0, \"ticks\": \"\"}}, \"type\": \"scatterpolar\"}], \"scatterpolargl\": [{\"marker\": {\"colorbar\": {\"outlinewidth\": 0, \"ticks\": \"\"}}, \"type\": \"scatterpolargl\"}], \"scatterternary\": [{\"marker\": {\"colorbar\": {\"outlinewidth\": 0, \"ticks\": \"\"}}, \"type\": \"scatterternary\"}], \"surface\": [{\"colorbar\": {\"outlinewidth\": 0, \"ticks\": \"\"}, \"colorscale\": [[0.0, \"#0d0887\"], [0.1111111111111111, \"#46039f\"], [0.2222222222222222, \"#7201a8\"], [0.3333333333333333, \"#9c179e\"], [0.4444444444444444, \"#bd3786\"], [0.5555555555555556, \"#d8576b\"], [0.6666666666666666, \"#ed7953\"], [0.7777777777777778, \"#fb9f3a\"], [0.8888888888888888, \"#fdca26\"], [1.0, \"#f0f921\"]], \"type\": \"surface\"}], \"table\": [{\"cells\": {\"fill\": {\"color\": \"#EBF0F8\"}, \"line\": {\"color\": \"white\"}}, \"header\": {\"fill\": {\"color\": \"#C8D4E3\"}, \"line\": {\"color\": \"white\"}}, \"type\": \"table\"}]}, \"layout\": {\"annotationdefaults\": {\"arrowcolor\": \"#2a3f5f\", \"arrowhead\": 0, \"arrowwidth\": 1}, \"coloraxis\": {\"colorbar\": {\"outlinewidth\": 0, \"ticks\": \"\"}}, \"colorscale\": {\"diverging\": [[0, \"#8e0152\"], [0.1, \"#c51b7d\"], [0.2, \"#de77ae\"], [0.3, \"#f1b6da\"], [0.4, \"#fde0ef\"], [0.5, \"#f7f7f7\"], [0.6, \"#e6f5d0\"], [0.7, \"#b8e186\"], [0.8, \"#7fbc41\"], [0.9, \"#4d9221\"], [1, \"#276419\"]], \"sequential\": [[0.0, \"#0d0887\"], [0.1111111111111111, \"#46039f\"], [0.2222222222222222, \"#7201a8\"], [0.3333333333333333, \"#9c179e\"], [0.4444444444444444, \"#bd3786\"], [0.5555555555555556, \"#d8576b\"], [0.6666666666666666, \"#ed7953\"], [0.7777777777777778, \"#fb9f3a\"], [0.8888888888888888, \"#fdca26\"], [1.0, \"#f0f921\"]], \"sequentialminus\": [[0.0, \"#0d0887\"], [0.1111111111111111, \"#46039f\"], [0.2222222222222222, \"#7201a8\"], [0.3333333333333333, \"#9c179e\"], [0.4444444444444444, \"#bd3786\"], [0.5555555555555556, \"#d8576b\"], [0.6666666666666666, \"#ed7953\"], [0.7777777777777778, \"#fb9f3a\"], [0.8888888888888888, \"#fdca26\"], [1.0, \"#f0f921\"]]}, \"colorway\": [\"#636efa\", \"#EF553B\", \"#00cc96\", \"#ab63fa\", \"#FFA15A\", \"#19d3f3\", \"#FF6692\", \"#B6E880\", \"#FF97FF\", \"#FECB52\"], \"font\": {\"color\": \"#2a3f5f\"}, \"geo\": {\"bgcolor\": \"white\", \"lakecolor\": \"white\", \"landcolor\": \"#E5ECF6\", \"showlakes\": true, \"showland\": true, \"subunitcolor\": \"white\"}, \"hoverlabel\": {\"align\": \"left\"}, \"hovermode\": \"closest\", \"mapbox\": {\"style\": \"light\"}, \"paper_bgcolor\": \"white\", \"plot_bgcolor\": \"#E5ECF6\", \"polar\": {\"angularaxis\": {\"gridcolor\": \"white\", \"linecolor\": \"white\", \"ticks\": \"\"}, \"bgcolor\": \"#E5ECF6\", \"radialaxis\": {\"gridcolor\": \"white\", \"linecolor\": \"white\", \"ticks\": \"\"}}, \"scene\": {\"xaxis\": {\"backgroundcolor\": \"#E5ECF6\", \"gridcolor\": \"white\", \"gridwidth\": 2, \"linecolor\": \"white\", \"showbackground\": true, \"ticks\": \"\", \"zerolinecolor\": \"white\"}, \"yaxis\": {\"backgroundcolor\": \"#E5ECF6\", \"gridcolor\": \"white\", \"gridwidth\": 2, \"linecolor\": \"white\", \"showbackground\": true, \"ticks\": \"\", \"zerolinecolor\": \"white\"}, \"zaxis\": {\"backgroundcolor\": \"#E5ECF6\", \"gridcolor\": \"white\", \"gridwidth\": 2, \"linecolor\": \"white\", \"showbackground\": true, \"ticks\": \"\", \"zerolinecolor\": \"white\"}}, \"shapedefaults\": {\"line\": {\"color\": \"#2a3f5f\"}}, \"ternary\": {\"aaxis\": {\"gridcolor\": \"white\", \"linecolor\": \"white\", \"ticks\": \"\"}, \"baxis\": {\"gridcolor\": \"white\", \"linecolor\": \"white\", \"ticks\": \"\"}, \"bgcolor\": \"#E5ECF6\", \"caxis\": {\"gridcolor\": \"white\", \"linecolor\": \"white\", \"ticks\": \"\"}}, \"title\": {\"x\": 0.05}, \"xaxis\": {\"automargin\": true, \"gridcolor\": \"white\", \"linecolor\": \"white\", \"ticks\": \"\", \"title\": {\"standoff\": 15}, \"zerolinecolor\": \"white\", \"zerolinewidth\": 2}, \"yaxis\": {\"automargin\": true, \"gridcolor\": \"white\", \"linecolor\": \"white\", \"ticks\": \"\", \"title\": {\"standoff\": 15}, \"zerolinecolor\": \"white\", \"zerolinewidth\": 2}}}, \"xaxis\": {\"anchor\": \"y\", \"domain\": [0.0, 1.0], \"title\": {\"text\": \"epochs\"}}, \"yaxis\": {\"anchor\": \"x\", \"domain\": [0.0, 1.0], \"title\": {\"text\": \"values\"}}},\n",
       "                        {\"responsive\": true}\n",
       "                    ).then(function(){\n",
       "                            \n",
       "var gd = document.getElementById('8974a2c9-0e8a-49ea-aca6-a6673f6ddf69');\n",
       "var x = new MutationObserver(function (mutations, observer) {{\n",
       "        var display = window.getComputedStyle(gd).display;\n",
       "        if (!display || display === 'none') {{\n",
       "            console.log([gd, 'removed!']);\n",
       "            Plotly.purge(gd);\n",
       "            observer.disconnect();\n",
       "        }}\n",
       "}});\n",
       "\n",
       "// Listen for the removal of the full notebook cells\n",
       "var notebookContainer = gd.closest('#notebook-container');\n",
       "if (notebookContainer) {{\n",
       "    x.observe(notebookContainer, {childList: true});\n",
       "}}\n",
       "\n",
       "// Listen for the clearing of the current output cell\n",
       "var outputEl = gd.closest('.output');\n",
       "if (outputEl) {{\n",
       "    x.observe(outputEl, {childList: true});\n",
       "}}\n",
       "\n",
       "                        })\n",
       "                };\n",
       "                });\n",
       "            </script>\n",
       "        </div>"
      ]
     },
     "metadata": {},
     "output_type": "display_data"
    }
   ],
   "source": [
    "ico_training.train_network(loss='binary_crossentropy', \n",
    "                      optimizer='adam',\n",
    "                      metrics=[Recall()] ,\n",
    "                      epochs=100,\n",
    "                      verbose=0, \n",
    "                      batch_size=64,\n",
    "                      callback=earlystop)\n",
    "ico_training.plot_training()"
   ]
  },
  {
   "cell_type": "markdown",
   "metadata": {},
   "source": [
    "### LSTM\n",
    "Based on the following articles:\n",
    "1. https://machinelearningmastery.com/sequence-classification-lstm-recurrent-neural-networks-python-keras/\n",
    "2. https://medium.com/@shivajbd/understanding-input-and-output-shape-in-lstm-keras-c501ee95c65e\n",
    "3. https://machinelearningmastery.com/prepare-univariate-time-series-data-long-short-term-memory-networks/"
   ]
  },
  {
   "cell_type": "code",
   "execution_count": 42,
   "metadata": {},
   "outputs": [],
   "source": [
    "import numpy\n",
    "from tensorflow.keras.datasets import imdb\n",
    "from tensorflow.keras.models import Sequential\n",
    "from tensorflow.keras.layers import Dense\n",
    "from tensorflow.keras.layers import LSTM\n",
    "from tensorflow.keras.layers import Embedding\n",
    "from tensorflow.keras.preprocessing import sequence\n",
    "# fix random seed for reproducibility\n",
    "numpy.random.seed(7)"
   ]
  },
  {
   "cell_type": "markdown",
   "metadata": {},
   "source": [
    "### Using the framework for LSTM"
   ]
  },
  {
   "cell_type": "code",
   "execution_count": 46,
   "metadata": {},
   "outputs": [],
   "source": [
    "model_lstm = Sequential()\n",
    "model_lstm.add(LSTM(100, input_shape=(40, 1), return_sequences=True))\n",
    "model_lstm.add(Dense(60, activation='relu'))\n",
    "model_lstm.add(Dense(1, activation='sigmoid'))"
   ]
  },
  {
   "cell_type": "code",
   "execution_count": 48,
   "metadata": {},
   "outputs": [
    {
     "name": "stdout",
     "output_type": "stream",
     "text": [
      "Model: \"sequential_4\"\n",
      "_________________________________________________________________\n",
      "Layer (type)                 Output Shape              Param #   \n",
      "=================================================================\n",
      "lstm_1 (LSTM)                (None, 40, 100)           40800     \n",
      "_________________________________________________________________\n",
      "dense_14 (Dense)             (None, 40, 60)            6060      \n",
      "_________________________________________________________________\n",
      "dense_15 (Dense)             (None, 40, 1)             61        \n",
      "=================================================================\n",
      "Total params: 46,921\n",
      "Trainable params: 46,921\n",
      "Non-trainable params: 0\n",
      "_________________________________________________________________\n"
     ]
    }
   ],
   "source": [
    "ico_training = ICODeepTraining(df_training_transactions.iloc[:, :-1],\n",
    "                               df_training_transactions.iloc[:, -1],\n",
    "                               model_lstm,\n",
    "                               ann_type='lstm',\n",
    "                               size_array=40)\n",
    "                               \n",
    "ico_training.split_train_test()\n",
    "ico_training.model_summary()"
   ]
  },
  {
   "cell_type": "code",
   "execution_count": 49,
   "metadata": {},
   "outputs": [],
   "source": [
    "earlystop =  keras.callbacks.EarlyStopping(monitor='loss', patience=50)"
   ]
  },
  {
   "cell_type": "code",
   "execution_count": 50,
   "metadata": {},
   "outputs": [
    {
     "data": {
      "application/vnd.plotly.v1+json": {
       "config": {
        "plotlyServerURL": "https://plot.ly"
       },
       "data": [
        {
         "hovertemplate": "<b>%{hovertext}</b><br><br>metric=accuracy<br>epochs=%{x}<br>values=%{y}<extra></extra>",
         "hovertext": [
          "accuracy",
          "accuracy",
          "accuracy",
          "accuracy",
          "accuracy",
          "accuracy",
          "accuracy",
          "accuracy",
          "accuracy",
          "accuracy",
          "accuracy",
          "accuracy",
          "accuracy",
          "accuracy",
          "accuracy",
          "accuracy",
          "accuracy",
          "accuracy",
          "accuracy",
          "accuracy",
          "accuracy",
          "accuracy",
          "accuracy",
          "accuracy",
          "accuracy",
          "accuracy",
          "accuracy",
          "accuracy",
          "accuracy",
          "accuracy",
          "accuracy",
          "accuracy",
          "accuracy",
          "accuracy",
          "accuracy",
          "accuracy",
          "accuracy",
          "accuracy",
          "accuracy",
          "accuracy",
          "accuracy",
          "accuracy",
          "accuracy",
          "accuracy",
          "accuracy",
          "accuracy",
          "accuracy",
          "accuracy",
          "accuracy",
          "accuracy",
          "accuracy",
          "accuracy",
          "accuracy",
          "accuracy",
          "accuracy",
          "accuracy",
          "accuracy",
          "accuracy",
          "accuracy",
          "accuracy",
          "accuracy",
          "accuracy",
          "accuracy",
          "accuracy",
          "accuracy",
          "accuracy",
          "accuracy",
          "accuracy",
          "accuracy",
          "accuracy",
          "accuracy",
          "accuracy",
          "accuracy",
          "accuracy",
          "accuracy",
          "accuracy",
          "accuracy",
          "accuracy",
          "accuracy",
          "accuracy",
          "accuracy",
          "accuracy",
          "accuracy",
          "accuracy",
          "accuracy",
          "accuracy",
          "accuracy",
          "accuracy",
          "accuracy",
          "accuracy",
          "accuracy",
          "accuracy",
          "accuracy",
          "accuracy",
          "accuracy",
          "accuracy",
          "accuracy",
          "accuracy",
          "accuracy",
          "accuracy",
          "accuracy",
          "accuracy",
          "accuracy",
          "accuracy",
          "accuracy",
          "accuracy",
          "accuracy",
          "accuracy",
          "accuracy",
          "accuracy",
          "accuracy",
          "accuracy",
          "accuracy",
          "accuracy",
          "accuracy",
          "accuracy",
          "accuracy",
          "accuracy",
          "accuracy",
          "accuracy",
          "accuracy",
          "accuracy",
          "accuracy",
          "accuracy",
          "accuracy",
          "accuracy",
          "accuracy",
          "accuracy",
          "accuracy",
          "accuracy",
          "accuracy",
          "accuracy",
          "accuracy",
          "accuracy",
          "accuracy",
          "accuracy",
          "accuracy",
          "accuracy",
          "accuracy",
          "accuracy",
          "accuracy",
          "accuracy",
          "accuracy",
          "accuracy",
          "accuracy",
          "accuracy",
          "accuracy",
          "accuracy",
          "accuracy",
          "accuracy",
          "accuracy",
          "accuracy",
          "accuracy",
          "accuracy",
          "accuracy",
          "accuracy",
          "accuracy",
          "accuracy",
          "accuracy",
          "accuracy",
          "accuracy",
          "accuracy",
          "accuracy",
          "accuracy",
          "accuracy",
          "accuracy",
          "accuracy",
          "accuracy",
          "accuracy",
          "accuracy",
          "accuracy",
          "accuracy",
          "accuracy",
          "accuracy",
          "accuracy",
          "accuracy",
          "accuracy",
          "accuracy",
          "accuracy",
          "accuracy",
          "accuracy",
          "accuracy",
          "accuracy",
          "accuracy",
          "accuracy",
          "accuracy",
          "accuracy",
          "accuracy",
          "accuracy",
          "accuracy",
          "accuracy",
          "accuracy",
          "accuracy",
          "accuracy",
          "accuracy",
          "accuracy",
          "accuracy",
          "accuracy",
          "accuracy",
          "accuracy"
         ],
         "legendgroup": "accuracy",
         "line": {
          "color": "#636efa",
          "dash": "solid"
         },
         "mode": "lines",
         "name": "accuracy",
         "orientation": "v",
         "showlegend": true,
         "type": "scatter",
         "x": [
          0,
          1,
          2,
          3,
          4,
          5,
          6,
          7,
          8,
          9,
          10,
          11,
          12,
          13,
          14,
          15,
          16,
          17,
          18,
          19,
          20,
          21,
          22,
          23,
          24,
          25,
          26,
          27,
          28,
          29,
          30,
          31,
          32,
          33,
          34,
          35,
          36,
          37,
          38,
          39,
          40,
          41,
          42,
          43,
          44,
          45,
          46,
          47,
          48,
          49,
          50,
          51,
          52,
          53,
          54,
          55,
          56,
          57,
          58,
          59,
          60,
          61,
          62,
          63,
          64,
          65,
          66,
          67,
          68,
          69,
          70,
          71,
          72,
          73,
          74,
          75,
          76,
          77,
          78,
          79,
          80,
          81,
          82,
          83,
          84,
          85,
          86,
          87,
          88,
          89,
          90,
          91,
          92,
          93,
          94,
          95,
          96,
          97,
          98,
          99,
          100,
          101,
          102,
          103,
          104,
          105,
          106,
          107,
          108,
          109,
          110,
          111,
          112,
          113,
          114,
          115,
          116,
          117,
          118,
          119,
          120,
          121,
          122,
          123,
          124,
          125,
          126,
          127,
          128,
          129,
          130,
          131,
          132,
          133,
          134,
          135,
          136,
          137,
          138,
          139,
          140,
          141,
          142,
          143,
          144,
          145,
          146,
          147,
          148,
          149,
          150,
          151,
          152,
          153,
          154,
          155,
          156,
          157,
          158,
          159,
          160,
          161,
          162,
          163,
          164,
          165,
          166,
          167,
          168,
          169,
          170,
          171,
          172,
          173,
          174,
          175,
          176,
          177,
          178,
          179,
          180,
          181,
          182,
          183,
          184,
          185,
          186,
          187,
          188,
          189,
          190,
          191,
          192,
          193,
          194,
          195,
          196,
          197,
          198,
          199
         ],
         "xaxis": "x",
         "y": [
          0.4992424249649048,
          0.5696969628334045,
          0.5696969628334045,
          0.5696969628334045,
          0.5696969628334045,
          0.5696969628334045,
          0.5721212029457092,
          0.5719696879386902,
          0.5704545378684998,
          0.5690909028053284,
          0.5672727823257446,
          0.5706060528755188,
          0.5713636875152588,
          0.574999988079071,
          0.575606107711792,
          0.5701515674591064,
          0.5845454335212708,
          0.5806061029434204,
          0.5863636136054993,
          0.5989394187927246,
          0.6010606288909912,
          0.595909059047699,
          0.6166666746139526,
          0.642727255821228,
          0.6556060314178467,
          0.6372727155685425,
          0.646212100982666,
          0.6272727251052856,
          0.6334848999977112,
          0.635606050491333,
          0.6331818699836731,
          0.6324242353439331,
          0.6196969747543335,
          0.6225757598876953,
          0.6219696998596191,
          0.6298484802246094,
          0.622121274471283,
          0.6268181800842285,
          0.6260606050491333,
          0.6225757002830505,
          0.6281818747520447,
          0.631969690322876,
          0.6325757503509521,
          0.6263636350631714,
          0.635454535484314,
          0.6280302405357361,
          0.6372727155685425,
          0.6336363554000854,
          0.639090895652771,
          0.6342424750328064,
          0.6406060457229614,
          0.6257575750350952,
          0.6371212005615234,
          0.6307576298713684,
          0.6474242210388184,
          0.6445454955101013,
          0.6501514911651611,
          0.6416666507720947,
          0.650606095790863,
          0.6456061005592346,
          0.649696946144104,
          0.636212170124054,
          0.6481817960739136,
          0.6319696307182312,
          0.6453030705451965,
          0.6451514959335327,
          0.6498485207557678,
          0.6486364006996155,
          0.6478788256645203,
          0.6516666412353516,
          0.6519697308540344,
          0.6553030610084534,
          0.6492424011230469,
          0.6478787660598755,
          0.6460606455802917,
          0.6536363959312439,
          0.6465151309967041,
          0.6413636207580566,
          0.631969690322876,
          0.6509091258049011,
          0.6516666412353516,
          0.6509091258049011,
          0.6536363363265991,
          0.6412121057510376,
          0.6345455050468445,
          0.6340909004211426,
          0.6606060862541199,
          0.6472727656364441,
          0.6410605907440186,
          0.6490909457206726,
          0.6463636755943298,
          0.6536363959312439,
          0.6560605764389038,
          0.6565151214599609,
          0.653181791305542,
          0.6548485159873962,
          0.65666663646698,
          0.6457576155662537,
          0.6568182110786438,
          0.6553030014038086,
          0.646212100982666,
          0.6556060910224915,
          0.6524242758750916,
          0.6465151309967041,
          0.6569697260856628,
          0.653181791305542,
          0.6325757503509521,
          0.6599999666213989,
          0.6525757908821106,
          0.65666663646698,
          0.6583333611488342,
          0.6519696712493896,
          0.6543939709663391,
          0.6454545259475708,
          0.6554545760154724,
          0.6572727560997009,
          0.6457575559616089,
          0.6560605764389038,
          0.6581818461418152,
          0.6556060314178467,
          0.6527272462844849,
          0.6533333659172058,
          0.6554545760154724,
          0.6398484706878662,
          0.6546969413757324,
          0.6466666460037231,
          0.6596969366073608,
          0.6337878704071045,
          0.6489393711090088,
          0.654090940952301,
          0.6556060314178467,
          0.6525757908821106,
          0.6578788161277771,
          0.6581817865371704,
          0.6562121510505676,
          0.6545454263687134,
          0.6613636016845703,
          0.6421211957931519,
          0.65742427110672,
          0.6563636660575867,
          0.6563636660575867,
          0.6571212410926819,
          0.6571212410926819,
          0.6593939661979675,
          0.6475757360458374,
          0.6540908813476562,
          0.6565151810646057,
          0.6596969366073608,
          0.6571212410926819,
          0.660909116268158,
          0.6551514863967896,
          0.6571211814880371,
          0.6624242663383484,
          0.6545454263687134,
          0.6437879204750061,
          0.6593939065933228,
          0.6607575416564941,
          0.6343939304351807,
          0.6539393663406372,
          0.650303065776825,
          0.6619696617126465,
          0.6651515364646912,
          0.6556060314178467,
          0.6657575368881226,
          0.6621211767196655,
          0.6601515412330627,
          0.6580302715301514,
          0.6525757312774658,
          0.6421212553977966,
          0.6546970009803772,
          0.6550000309944153,
          0.6559090614318848,
          0.6560605764389038,
          0.6659091114997864,
          0.6633332967758179,
          0.6565151810646057,
          0.6616666913032532,
          0.6666666865348816,
          0.6662120819091797,
          0.6648484468460083,
          0.6510605216026306,
          0.6619697213172913,
          0.6609089970588684,
          0.6642423868179321,
          0.6607576012611389,
          0.6659091114997864,
          0.6660605669021606,
          0.6628788113594055,
          0.6628788113594055,
          0.6616666316986084,
          0.6615151166915894,
          0.6618181467056274,
          0.6609090566635132,
          0.6669697165489197,
          0.6593939065933228,
          0.6616666913032532,
          0.6642423868179321,
          0.6627272963523865,
          0.6657575964927673,
          0.6663635969161987
         ],
         "yaxis": "y"
        },
        {
         "hovertemplate": "<b>%{hovertext}</b><br><br>metric=loss<br>epochs=%{x}<br>values=%{y}<extra></extra>",
         "hovertext": [
          "loss",
          "loss",
          "loss",
          "loss",
          "loss",
          "loss",
          "loss",
          "loss",
          "loss",
          "loss",
          "loss",
          "loss",
          "loss",
          "loss",
          "loss",
          "loss",
          "loss",
          "loss",
          "loss",
          "loss",
          "loss",
          "loss",
          "loss",
          "loss",
          "loss",
          "loss",
          "loss",
          "loss",
          "loss",
          "loss",
          "loss",
          "loss",
          "loss",
          "loss",
          "loss",
          "loss",
          "loss",
          "loss",
          "loss",
          "loss",
          "loss",
          "loss",
          "loss",
          "loss",
          "loss",
          "loss",
          "loss",
          "loss",
          "loss",
          "loss",
          "loss",
          "loss",
          "loss",
          "loss",
          "loss",
          "loss",
          "loss",
          "loss",
          "loss",
          "loss",
          "loss",
          "loss",
          "loss",
          "loss",
          "loss",
          "loss",
          "loss",
          "loss",
          "loss",
          "loss",
          "loss",
          "loss",
          "loss",
          "loss",
          "loss",
          "loss",
          "loss",
          "loss",
          "loss",
          "loss",
          "loss",
          "loss",
          "loss",
          "loss",
          "loss",
          "loss",
          "loss",
          "loss",
          "loss",
          "loss",
          "loss",
          "loss",
          "loss",
          "loss",
          "loss",
          "loss",
          "loss",
          "loss",
          "loss",
          "loss",
          "loss",
          "loss",
          "loss",
          "loss",
          "loss",
          "loss",
          "loss",
          "loss",
          "loss",
          "loss",
          "loss",
          "loss",
          "loss",
          "loss",
          "loss",
          "loss",
          "loss",
          "loss",
          "loss",
          "loss",
          "loss",
          "loss",
          "loss",
          "loss",
          "loss",
          "loss",
          "loss",
          "loss",
          "loss",
          "loss",
          "loss",
          "loss",
          "loss",
          "loss",
          "loss",
          "loss",
          "loss",
          "loss",
          "loss",
          "loss",
          "loss",
          "loss",
          "loss",
          "loss",
          "loss",
          "loss",
          "loss",
          "loss",
          "loss",
          "loss",
          "loss",
          "loss",
          "loss",
          "loss",
          "loss",
          "loss",
          "loss",
          "loss",
          "loss",
          "loss",
          "loss",
          "loss",
          "loss",
          "loss",
          "loss",
          "loss",
          "loss",
          "loss",
          "loss",
          "loss",
          "loss",
          "loss",
          "loss",
          "loss",
          "loss",
          "loss",
          "loss",
          "loss",
          "loss",
          "loss",
          "loss",
          "loss",
          "loss",
          "loss",
          "loss",
          "loss",
          "loss",
          "loss",
          "loss",
          "loss",
          "loss",
          "loss",
          "loss",
          "loss",
          "loss",
          "loss",
          "loss",
          "loss",
          "loss",
          "loss"
         ],
         "legendgroup": "loss",
         "line": {
          "color": "#EF553B",
          "dash": "solid"
         },
         "mode": "lines",
         "name": "loss",
         "orientation": "v",
         "showlegend": true,
         "type": "scatter",
         "x": [
          0,
          1,
          2,
          3,
          4,
          5,
          6,
          7,
          8,
          9,
          10,
          11,
          12,
          13,
          14,
          15,
          16,
          17,
          18,
          19,
          20,
          21,
          22,
          23,
          24,
          25,
          26,
          27,
          28,
          29,
          30,
          31,
          32,
          33,
          34,
          35,
          36,
          37,
          38,
          39,
          40,
          41,
          42,
          43,
          44,
          45,
          46,
          47,
          48,
          49,
          50,
          51,
          52,
          53,
          54,
          55,
          56,
          57,
          58,
          59,
          60,
          61,
          62,
          63,
          64,
          65,
          66,
          67,
          68,
          69,
          70,
          71,
          72,
          73,
          74,
          75,
          76,
          77,
          78,
          79,
          80,
          81,
          82,
          83,
          84,
          85,
          86,
          87,
          88,
          89,
          90,
          91,
          92,
          93,
          94,
          95,
          96,
          97,
          98,
          99,
          100,
          101,
          102,
          103,
          104,
          105,
          106,
          107,
          108,
          109,
          110,
          111,
          112,
          113,
          114,
          115,
          116,
          117,
          118,
          119,
          120,
          121,
          122,
          123,
          124,
          125,
          126,
          127,
          128,
          129,
          130,
          131,
          132,
          133,
          134,
          135,
          136,
          137,
          138,
          139,
          140,
          141,
          142,
          143,
          144,
          145,
          146,
          147,
          148,
          149,
          150,
          151,
          152,
          153,
          154,
          155,
          156,
          157,
          158,
          159,
          160,
          161,
          162,
          163,
          164,
          165,
          166,
          167,
          168,
          169,
          170,
          171,
          172,
          173,
          174,
          175,
          176,
          177,
          178,
          179,
          180,
          181,
          182,
          183,
          184,
          185,
          186,
          187,
          188,
          189,
          190,
          191,
          192,
          193,
          194,
          195,
          196,
          197,
          198,
          199
         ],
         "xaxis": "x",
         "y": [
          0.6898354291915894,
          0.6799854636192322,
          0.676193118095398,
          0.6747134327888489,
          0.6740161180496216,
          0.6734405755996704,
          0.6725527048110962,
          0.6713564991950989,
          0.675069272518158,
          0.6687890887260437,
          0.669447124004364,
          0.6686369180679321,
          0.6676561832427979,
          0.6637666821479797,
          0.6578097939491272,
          0.6687837839126587,
          0.6645662188529968,
          0.6676019430160522,
          0.652880847454071,
          0.662100613117218,
          0.6518126726150513,
          0.654028594493866,
          0.6420013308525085,
          0.6399378776550293,
          0.6315916776657104,
          0.636714518070221,
          0.6256212592124939,
          0.6319745779037476,
          0.622903048992157,
          0.6247568130493164,
          0.6209510564804077,
          0.6239498257637024,
          0.6290756464004517,
          0.6229461431503296,
          0.6286174654960632,
          0.6150529384613037,
          0.6234308481216431,
          0.6246857643127441,
          0.6177667379379272,
          0.6210863590240479,
          0.6150039434432983,
          0.6177173852920532,
          0.6108201742172241,
          0.6156005263328552,
          0.6090779900550842,
          0.6182016730308533,
          0.6092458367347717,
          0.6135205626487732,
          0.6115020513534546,
          0.6116971373558044,
          0.6072924733161926,
          0.6152225136756897,
          0.6034219861030579,
          0.6079698204994202,
          0.6068755984306335,
          0.6037542819976807,
          0.6033765077590942,
          0.6037035584449768,
          0.6349826455116272,
          0.6101176738739014,
          0.6021655201911926,
          0.6111500859260559,
          0.6017013788223267,
          0.6063104867935181,
          0.603034257888794,
          0.6031193137168884,
          0.6024653315544128,
          0.6012269854545593,
          0.6034637689590454,
          0.6006419062614441,
          0.5999280214309692,
          0.6018678545951843,
          0.6043971180915833,
          0.5972369909286499,
          0.6034111976623535,
          0.5962648987770081,
          0.6111384034156799,
          0.6045881509780884,
          0.6104611158370972,
          0.5982653498649597,
          0.601356565952301,
          0.6073809266090393,
          0.6004248261451721,
          0.6087297201156616,
          0.6048756241798401,
          0.6074274182319641,
          0.5994593501091003,
          0.601097822189331,
          0.6080387830734253,
          0.6012186408042908,
          0.608282744884491,
          0.5973113179206848,
          0.5994857549667358,
          0.5995461344718933,
          0.5974542498588562,
          0.6042249202728271,
          0.5953102707862854,
          0.6015381813049316,
          0.594973087310791,
          0.599592387676239,
          0.5993050336837769,
          0.5976002216339111,
          0.6027198433876038,
          0.6009946465492249,
          0.6001948118209839,
          0.5967813730239868,
          0.6021071672439575,
          0.5953248143196106,
          0.6028196215629578,
          0.5954621434211731,
          0.5956925749778748,
          0.599289059638977,
          0.592411458492279,
          0.5980162024497986,
          0.5938940048217773,
          0.5931696891784668,
          0.6001427173614502,
          0.5980089902877808,
          0.5948959589004517,
          0.5972220301628113,
          0.5946291089057922,
          0.6053292751312256,
          0.5972318053245544,
          0.5988660454750061,
          0.5937023162841797,
          0.5970261096954346,
          0.5948747396469116,
          0.5986160039901733,
          0.5941577553749084,
          0.5939649343490601,
          0.5944821238517761,
          0.598794162273407,
          0.5935144424438477,
          0.5925542116165161,
          0.5919235944747925,
          0.5931715369224548,
          0.5913058519363403,
          0.5953790545463562,
          0.5954591631889343,
          0.5970244407653809,
          0.598953902721405,
          0.5913674235343933,
          0.5933904051780701,
          0.5909076929092407,
          0.5955272316932678,
          0.5944777727127075,
          0.5935530662536621,
          0.5914887189865112,
          0.5911422371864319,
          0.5933777689933777,
          0.5937498211860657,
          0.594162106513977,
          0.5899772644042969,
          0.5944529175758362,
          0.5921427607536316,
          0.5982524752616882,
          0.584458589553833,
          0.6031274795532227,
          0.591794490814209,
          0.6003194451332092,
          0.5941621661186218,
          0.5947803854942322,
          0.5944629907608032,
          0.5916351079940796,
          0.5903480052947998,
          0.5890404582023621,
          0.596200168132782,
          0.5939144492149353,
          0.5954276323318481,
          0.5939275026321411,
          0.5946714878082275,
          0.5924811959266663,
          0.5892030596733093,
          0.5899333357810974,
          0.591637372970581,
          0.5909590125083923,
          0.5877460837364197,
          0.5877386927604675,
          0.5887197852134705,
          0.5893879532814026,
          0.5966179370880127,
          0.5850752592086792,
          0.5932785272598267,
          0.5855275988578796,
          0.591295599937439,
          0.5874344110488892,
          0.5889868140220642,
          0.5845003724098206,
          0.5854236483573914,
          0.585752010345459,
          0.5852792263031006,
          0.5859006643295288,
          0.5878658294677734,
          0.5844059586524963,
          0.5901943445205688,
          0.5963932871818542,
          0.5892105102539062,
          0.5870083570480347,
          0.5850478410720825,
          0.5839488506317139
         ],
         "yaxis": "y"
        },
        {
         "hovertemplate": "<b>%{hovertext}</b><br><br>metric=val_accuracy<br>epochs=%{x}<br>values=%{y}<extra></extra>",
         "hovertext": [
          "val_accuracy",
          "val_accuracy",
          "val_accuracy",
          "val_accuracy",
          "val_accuracy",
          "val_accuracy",
          "val_accuracy",
          "val_accuracy",
          "val_accuracy",
          "val_accuracy",
          "val_accuracy",
          "val_accuracy",
          "val_accuracy",
          "val_accuracy",
          "val_accuracy",
          "val_accuracy",
          "val_accuracy",
          "val_accuracy",
          "val_accuracy",
          "val_accuracy",
          "val_accuracy",
          "val_accuracy",
          "val_accuracy",
          "val_accuracy",
          "val_accuracy",
          "val_accuracy",
          "val_accuracy",
          "val_accuracy",
          "val_accuracy",
          "val_accuracy",
          "val_accuracy",
          "val_accuracy",
          "val_accuracy",
          "val_accuracy",
          "val_accuracy",
          "val_accuracy",
          "val_accuracy",
          "val_accuracy",
          "val_accuracy",
          "val_accuracy",
          "val_accuracy",
          "val_accuracy",
          "val_accuracy",
          "val_accuracy",
          "val_accuracy",
          "val_accuracy",
          "val_accuracy",
          "val_accuracy",
          "val_accuracy",
          "val_accuracy",
          "val_accuracy",
          "val_accuracy",
          "val_accuracy",
          "val_accuracy",
          "val_accuracy",
          "val_accuracy",
          "val_accuracy",
          "val_accuracy",
          "val_accuracy",
          "val_accuracy",
          "val_accuracy",
          "val_accuracy",
          "val_accuracy",
          "val_accuracy",
          "val_accuracy",
          "val_accuracy",
          "val_accuracy",
          "val_accuracy",
          "val_accuracy",
          "val_accuracy",
          "val_accuracy",
          "val_accuracy",
          "val_accuracy",
          "val_accuracy",
          "val_accuracy",
          "val_accuracy",
          "val_accuracy",
          "val_accuracy",
          "val_accuracy",
          "val_accuracy",
          "val_accuracy",
          "val_accuracy",
          "val_accuracy",
          "val_accuracy",
          "val_accuracy",
          "val_accuracy",
          "val_accuracy",
          "val_accuracy",
          "val_accuracy",
          "val_accuracy",
          "val_accuracy",
          "val_accuracy",
          "val_accuracy",
          "val_accuracy",
          "val_accuracy",
          "val_accuracy",
          "val_accuracy",
          "val_accuracy",
          "val_accuracy",
          "val_accuracy",
          "val_accuracy",
          "val_accuracy",
          "val_accuracy",
          "val_accuracy",
          "val_accuracy",
          "val_accuracy",
          "val_accuracy",
          "val_accuracy",
          "val_accuracy",
          "val_accuracy",
          "val_accuracy",
          "val_accuracy",
          "val_accuracy",
          "val_accuracy",
          "val_accuracy",
          "val_accuracy",
          "val_accuracy",
          "val_accuracy",
          "val_accuracy",
          "val_accuracy",
          "val_accuracy",
          "val_accuracy",
          "val_accuracy",
          "val_accuracy",
          "val_accuracy",
          "val_accuracy",
          "val_accuracy",
          "val_accuracy",
          "val_accuracy",
          "val_accuracy",
          "val_accuracy",
          "val_accuracy",
          "val_accuracy",
          "val_accuracy",
          "val_accuracy",
          "val_accuracy",
          "val_accuracy",
          "val_accuracy",
          "val_accuracy",
          "val_accuracy",
          "val_accuracy",
          "val_accuracy",
          "val_accuracy",
          "val_accuracy",
          "val_accuracy",
          "val_accuracy",
          "val_accuracy",
          "val_accuracy",
          "val_accuracy",
          "val_accuracy",
          "val_accuracy",
          "val_accuracy",
          "val_accuracy",
          "val_accuracy",
          "val_accuracy",
          "val_accuracy",
          "val_accuracy",
          "val_accuracy",
          "val_accuracy",
          "val_accuracy",
          "val_accuracy",
          "val_accuracy",
          "val_accuracy",
          "val_accuracy",
          "val_accuracy",
          "val_accuracy",
          "val_accuracy",
          "val_accuracy",
          "val_accuracy",
          "val_accuracy",
          "val_accuracy",
          "val_accuracy",
          "val_accuracy",
          "val_accuracy",
          "val_accuracy",
          "val_accuracy",
          "val_accuracy",
          "val_accuracy",
          "val_accuracy",
          "val_accuracy",
          "val_accuracy",
          "val_accuracy",
          "val_accuracy",
          "val_accuracy",
          "val_accuracy",
          "val_accuracy",
          "val_accuracy",
          "val_accuracy",
          "val_accuracy",
          "val_accuracy",
          "val_accuracy",
          "val_accuracy",
          "val_accuracy",
          "val_accuracy",
          "val_accuracy",
          "val_accuracy",
          "val_accuracy",
          "val_accuracy",
          "val_accuracy",
          "val_accuracy"
         ],
         "legendgroup": "val_accuracy",
         "line": {
          "color": "#00cc96",
          "dash": "solid"
         },
         "mode": "lines",
         "name": "val_accuracy",
         "orientation": "v",
         "showlegend": true,
         "type": "scatter",
         "x": [
          0,
          1,
          2,
          3,
          4,
          5,
          6,
          7,
          8,
          9,
          10,
          11,
          12,
          13,
          14,
          15,
          16,
          17,
          18,
          19,
          20,
          21,
          22,
          23,
          24,
          25,
          26,
          27,
          28,
          29,
          30,
          31,
          32,
          33,
          34,
          35,
          36,
          37,
          38,
          39,
          40,
          41,
          42,
          43,
          44,
          45,
          46,
          47,
          48,
          49,
          50,
          51,
          52,
          53,
          54,
          55,
          56,
          57,
          58,
          59,
          60,
          61,
          62,
          63,
          64,
          65,
          66,
          67,
          68,
          69,
          70,
          71,
          72,
          73,
          74,
          75,
          76,
          77,
          78,
          79,
          80,
          81,
          82,
          83,
          84,
          85,
          86,
          87,
          88,
          89,
          90,
          91,
          92,
          93,
          94,
          95,
          96,
          97,
          98,
          99,
          100,
          101,
          102,
          103,
          104,
          105,
          106,
          107,
          108,
          109,
          110,
          111,
          112,
          113,
          114,
          115,
          116,
          117,
          118,
          119,
          120,
          121,
          122,
          123,
          124,
          125,
          126,
          127,
          128,
          129,
          130,
          131,
          132,
          133,
          134,
          135,
          136,
          137,
          138,
          139,
          140,
          141,
          142,
          143,
          144,
          145,
          146,
          147,
          148,
          149,
          150,
          151,
          152,
          153,
          154,
          155,
          156,
          157,
          158,
          159,
          160,
          161,
          162,
          163,
          164,
          165,
          166,
          167,
          168,
          169,
          170,
          171,
          172,
          173,
          174,
          175,
          176,
          177,
          178,
          179,
          180,
          181,
          182,
          183,
          184,
          185,
          186,
          187,
          188,
          189,
          190,
          191,
          192,
          193,
          194,
          195,
          196,
          197,
          198,
          199
         ],
         "xaxis": "x",
         "y": [
          0.5972222089767456,
          0.5972222089767456,
          0.5972222089767456,
          0.5972222089767456,
          0.5972222089767456,
          0.5972222089767456,
          0.6017361283302307,
          0.6076388955116272,
          0.6086804866790771,
          0.6118055582046509,
          0.6079861521720886,
          0.6187500357627869,
          0.6208333373069763,
          0.6302083134651184,
          0.6194444894790649,
          0.6177083253860474,
          0.6253472566604614,
          0.6253472566604614,
          0.6270833015441895,
          0.6336805820465088,
          0.6305555105209351,
          0.6378471851348877,
          0.6864583492279053,
          0.6628472805023193,
          0.6847221851348877,
          0.6684027910232544,
          0.6579861640930176,
          0.6739583015441895,
          0.6666666865348816,
          0.6635416746139526,
          0.6739583611488342,
          0.6538194417953491,
          0.626736044883728,
          0.6708333492279053,
          0.6673610806465149,
          0.644444465637207,
          0.6579861044883728,
          0.6694444417953491,
          0.6437499523162842,
          0.6416667103767395,
          0.6736111640930176,
          0.6704861521720886,
          0.6496527791023254,
          0.6583333611488342,
          0.6767361164093018,
          0.6659721732139587,
          0.6579861044883728,
          0.6625000238418579,
          0.6815972924232483,
          0.6631944179534912,
          0.6649305820465088,
          0.684374988079071,
          0.6364583969116211,
          0.671875,
          0.670138955116272,
          0.6708333492279053,
          0.6684027314186096,
          0.6684027910232544,
          0.6621527075767517,
          0.6534721851348877,
          0.6656249761581421,
          0.6694444417953491,
          0.6461805105209351,
          0.6489583253860474,
          0.6833332777023315,
          0.6687500476837158,
          0.6645833849906921,
          0.6763888597488403,
          0.6697916388511658,
          0.6677083373069763,
          0.6618055701255798,
          0.6590278148651123,
          0.6690971851348877,
          0.6611111164093018,
          0.6697916388511658,
          0.6732639074325562,
          0.6704861521720886,
          0.6263889074325562,
          0.6736111640930176,
          0.675694465637207,
          0.6743055582046509,
          0.6468750238418579,
          0.671875,
          0.6732639074325562,
          0.625,
          0.6663194894790649,
          0.6684028506278992,
          0.6614583134651184,
          0.6368055939674377,
          0.6850694417953491,
          0.6697916984558105,
          0.6638889312744141,
          0.6635416746139526,
          0.6565971970558167,
          0.6739583611488342,
          0.6711804866790771,
          0.6538193821907043,
          0.6545138955116272,
          0.6763889193534851,
          0.6701388955116272,
          0.6628472208976746,
          0.6586806178092957,
          0.6402778029441833,
          0.6604167222976685,
          0.6746527552604675,
          0.6437499523162842,
          0.6649305820465088,
          0.668749988079071,
          0.6673610210418701,
          0.6732639074325562,
          0.6607639193534851,
          0.6586806178092957,
          0.6326389312744141,
          0.6572916507720947,
          0.6618055701255798,
          0.6642361879348755,
          0.6604166626930237,
          0.6631944179534912,
          0.6607639193534851,
          0.6552083492279053,
          0.6805555820465088,
          0.6878472566604614,
          0.6489583253860474,
          0.6569444537162781,
          0.6513888835906982,
          0.6496527194976807,
          0.6444444060325623,
          0.6493055820465088,
          0.6548610925674438,
          0.6631944179534912,
          0.6649305820465088,
          0.6701388955116272,
          0.6618055105209351,
          0.6486111283302307,
          0.6496527791023254,
          0.6503472328186035,
          0.6420139074325562,
          0.6444444060325623,
          0.6656249761581421,
          0.6513888835906982,
          0.6631944179534912,
          0.6447916626930237,
          0.6565972566604614,
          0.6565972566604614,
          0.6527777910232544,
          0.6340277791023254,
          0.6451388597488403,
          0.6413195133209229,
          0.6586805582046509,
          0.6677083373069763,
          0.6496527194976807,
          0.6611111164093018,
          0.6552083492279053,
          0.6305555701255798,
          0.6329861283302307,
          0.6517361402511597,
          0.613194465637207,
          0.6309027671813965,
          0.6402777433395386,
          0.6579861044883728,
          0.6309027671813965,
          0.6510416865348816,
          0.6767361164093018,
          0.6708333492279053,
          0.6489583253860474,
          0.6267361044883728,
          0.6246527433395386,
          0.6399304866790771,
          0.6802083253860474,
          0.6809027791023254,
          0.6635416150093079,
          0.6434028148651123,
          0.6701388955116272,
          0.6548611521720886,
          0.6309027671813965,
          0.6465277671813965,
          0.6645833849906921,
          0.6642360687255859,
          0.6777777671813965,
          0.6677083373069763,
          0.6447916626930237,
          0.6468749642372131,
          0.6565972566604614,
          0.6458333134651184,
          0.6673611402511597,
          0.6423611044883728,
          0.6635416746139526,
          0.6565971374511719,
          0.6357638835906982,
          0.6399304866790771,
          0.6465278267860413,
          0.6555554866790771,
          0.6600694060325623,
          0.6361110806465149,
          0.6399305462837219,
          0.6576388478279114,
          0.6381944417953491,
          0.6385416984558105,
          0.6527777910232544,
          0.6437499523162842
         ],
         "yaxis": "y"
        },
        {
         "hovertemplate": "<b>%{hovertext}</b><br><br>metric=val_loss<br>epochs=%{x}<br>values=%{y}<extra></extra>",
         "hovertext": [
          "val_loss",
          "val_loss",
          "val_loss",
          "val_loss",
          "val_loss",
          "val_loss",
          "val_loss",
          "val_loss",
          "val_loss",
          "val_loss",
          "val_loss",
          "val_loss",
          "val_loss",
          "val_loss",
          "val_loss",
          "val_loss",
          "val_loss",
          "val_loss",
          "val_loss",
          "val_loss",
          "val_loss",
          "val_loss",
          "val_loss",
          "val_loss",
          "val_loss",
          "val_loss",
          "val_loss",
          "val_loss",
          "val_loss",
          "val_loss",
          "val_loss",
          "val_loss",
          "val_loss",
          "val_loss",
          "val_loss",
          "val_loss",
          "val_loss",
          "val_loss",
          "val_loss",
          "val_loss",
          "val_loss",
          "val_loss",
          "val_loss",
          "val_loss",
          "val_loss",
          "val_loss",
          "val_loss",
          "val_loss",
          "val_loss",
          "val_loss",
          "val_loss",
          "val_loss",
          "val_loss",
          "val_loss",
          "val_loss",
          "val_loss",
          "val_loss",
          "val_loss",
          "val_loss",
          "val_loss",
          "val_loss",
          "val_loss",
          "val_loss",
          "val_loss",
          "val_loss",
          "val_loss",
          "val_loss",
          "val_loss",
          "val_loss",
          "val_loss",
          "val_loss",
          "val_loss",
          "val_loss",
          "val_loss",
          "val_loss",
          "val_loss",
          "val_loss",
          "val_loss",
          "val_loss",
          "val_loss",
          "val_loss",
          "val_loss",
          "val_loss",
          "val_loss",
          "val_loss",
          "val_loss",
          "val_loss",
          "val_loss",
          "val_loss",
          "val_loss",
          "val_loss",
          "val_loss",
          "val_loss",
          "val_loss",
          "val_loss",
          "val_loss",
          "val_loss",
          "val_loss",
          "val_loss",
          "val_loss",
          "val_loss",
          "val_loss",
          "val_loss",
          "val_loss",
          "val_loss",
          "val_loss",
          "val_loss",
          "val_loss",
          "val_loss",
          "val_loss",
          "val_loss",
          "val_loss",
          "val_loss",
          "val_loss",
          "val_loss",
          "val_loss",
          "val_loss",
          "val_loss",
          "val_loss",
          "val_loss",
          "val_loss",
          "val_loss",
          "val_loss",
          "val_loss",
          "val_loss",
          "val_loss",
          "val_loss",
          "val_loss",
          "val_loss",
          "val_loss",
          "val_loss",
          "val_loss",
          "val_loss",
          "val_loss",
          "val_loss",
          "val_loss",
          "val_loss",
          "val_loss",
          "val_loss",
          "val_loss",
          "val_loss",
          "val_loss",
          "val_loss",
          "val_loss",
          "val_loss",
          "val_loss",
          "val_loss",
          "val_loss",
          "val_loss",
          "val_loss",
          "val_loss",
          "val_loss",
          "val_loss",
          "val_loss",
          "val_loss",
          "val_loss",
          "val_loss",
          "val_loss",
          "val_loss",
          "val_loss",
          "val_loss",
          "val_loss",
          "val_loss",
          "val_loss",
          "val_loss",
          "val_loss",
          "val_loss",
          "val_loss",
          "val_loss",
          "val_loss",
          "val_loss",
          "val_loss",
          "val_loss",
          "val_loss",
          "val_loss",
          "val_loss",
          "val_loss",
          "val_loss",
          "val_loss",
          "val_loss",
          "val_loss",
          "val_loss",
          "val_loss",
          "val_loss",
          "val_loss",
          "val_loss",
          "val_loss",
          "val_loss",
          "val_loss",
          "val_loss",
          "val_loss",
          "val_loss",
          "val_loss",
          "val_loss",
          "val_loss",
          "val_loss",
          "val_loss",
          "val_loss",
          "val_loss",
          "val_loss"
         ],
         "legendgroup": "val_loss",
         "line": {
          "color": "#ab63fa",
          "dash": "solid"
         },
         "mode": "lines",
         "name": "val_loss",
         "orientation": "v",
         "showlegend": true,
         "type": "scatter",
         "x": [
          0,
          1,
          2,
          3,
          4,
          5,
          6,
          7,
          8,
          9,
          10,
          11,
          12,
          13,
          14,
          15,
          16,
          17,
          18,
          19,
          20,
          21,
          22,
          23,
          24,
          25,
          26,
          27,
          28,
          29,
          30,
          31,
          32,
          33,
          34,
          35,
          36,
          37,
          38,
          39,
          40,
          41,
          42,
          43,
          44,
          45,
          46,
          47,
          48,
          49,
          50,
          51,
          52,
          53,
          54,
          55,
          56,
          57,
          58,
          59,
          60,
          61,
          62,
          63,
          64,
          65,
          66,
          67,
          68,
          69,
          70,
          71,
          72,
          73,
          74,
          75,
          76,
          77,
          78,
          79,
          80,
          81,
          82,
          83,
          84,
          85,
          86,
          87,
          88,
          89,
          90,
          91,
          92,
          93,
          94,
          95,
          96,
          97,
          98,
          99,
          100,
          101,
          102,
          103,
          104,
          105,
          106,
          107,
          108,
          109,
          110,
          111,
          112,
          113,
          114,
          115,
          116,
          117,
          118,
          119,
          120,
          121,
          122,
          123,
          124,
          125,
          126,
          127,
          128,
          129,
          130,
          131,
          132,
          133,
          134,
          135,
          136,
          137,
          138,
          139,
          140,
          141,
          142,
          143,
          144,
          145,
          146,
          147,
          148,
          149,
          150,
          151,
          152,
          153,
          154,
          155,
          156,
          157,
          158,
          159,
          160,
          161,
          162,
          163,
          164,
          165,
          166,
          167,
          168,
          169,
          170,
          171,
          172,
          173,
          174,
          175,
          176,
          177,
          178,
          179,
          180,
          181,
          182,
          183,
          184,
          185,
          186,
          187,
          188,
          189,
          190,
          191,
          192,
          193,
          194,
          195,
          196,
          197,
          198,
          199
         ],
         "xaxis": "x",
         "y": [
          0.6754143238067627,
          0.6647217273712158,
          0.6610112190246582,
          0.6606602668762207,
          0.6607198715209961,
          0.6608767509460449,
          0.6602576375007629,
          0.6566777229309082,
          0.653320848941803,
          0.6582126021385193,
          0.6606270670890808,
          0.6548311710357666,
          0.6471878290176392,
          0.6445353031158447,
          0.6480586528778076,
          0.6632583141326904,
          0.6381313800811768,
          0.6353325247764587,
          0.6550107598304749,
          0.6511714458465576,
          0.6285555362701416,
          0.6234948635101318,
          0.629345715045929,
          0.6209830045700073,
          0.6104346513748169,
          0.6114369034767151,
          0.6190158128738403,
          0.6062268018722534,
          0.6080190539360046,
          0.6066427230834961,
          0.5983587503433228,
          0.605224072933197,
          0.6232457160949707,
          0.5965354442596436,
          0.5969183444976807,
          0.6090839505195618,
          0.6007450819015503,
          0.5952996611595154,
          0.6052146553993225,
          0.6067824363708496,
          0.5934125185012817,
          0.5937496423721313,
          0.60202556848526,
          0.5984147191047668,
          0.5896127820014954,
          0.5915027260780334,
          0.5970132350921631,
          0.6008020639419556,
          0.5872677564620972,
          0.5918124914169312,
          0.594377338886261,
          0.588853657245636,
          0.6044290065765381,
          0.5936163067817688,
          0.5945858359336853,
          0.5948569178581238,
          0.593268096446991,
          0.5960068702697754,
          0.5958425402641296,
          0.601655125617981,
          0.5926225185394287,
          0.5905611515045166,
          0.5982616543769836,
          0.5965770483016968,
          0.5881468057632446,
          0.5912511348724365,
          0.5917257070541382,
          0.5903702974319458,
          0.5911273956298828,
          0.5912149548530579,
          0.5911282300949097,
          0.5940412282943726,
          0.5890910029411316,
          0.5947210788726807,
          0.5925837755203247,
          0.5896437168121338,
          0.5895823240280151,
          0.6092213988304138,
          0.5885093212127686,
          0.5867661833763123,
          0.5884474515914917,
          0.6011897325515747,
          0.5878804922103882,
          0.5881643295288086,
          0.6059444546699524,
          0.5885761380195618,
          0.5895771384239197,
          0.5916647911071777,
          0.5991587042808533,
          0.5880618095397949,
          0.5875973105430603,
          0.5893190503120422,
          0.590557873249054,
          0.595185399055481,
          0.5886738300323486,
          0.5886492729187012,
          0.5961778163909912,
          0.5958740711212158,
          0.589584231376648,
          0.5896779894828796,
          0.5906959176063538,
          0.5911712646484375,
          0.6043068170547485,
          0.5907959342002869,
          0.5895549654960632,
          0.597321629524231,
          0.5893554091453552,
          0.5881349444389343,
          0.5883170366287231,
          0.587300181388855,
          0.5912145376205444,
          0.5935846567153931,
          0.6004946827888489,
          0.5955365896224976,
          0.5928096175193787,
          0.5916980504989624,
          0.5925576686859131,
          0.5928003787994385,
          0.5936973690986633,
          0.5939939618110657,
          0.5860670804977417,
          0.5845201015472412,
          0.5985298752784729,
          0.593064546585083,
          0.5985962152481079,
          0.5997835397720337,
          0.5990958213806152,
          0.5937396883964539,
          0.5930940508842468,
          0.5904609560966492,
          0.5907208919525146,
          0.5902082324028015,
          0.5921399593353271,
          0.5954784154891968,
          0.5975768566131592,
          0.5944934487342834,
          0.5954425930976868,
          0.5948086977005005,
          0.5908372402191162,
          0.5980746150016785,
          0.589601457118988,
          0.5921405553817749,
          0.5908237099647522,
          0.5929237008094788,
          0.5975499749183655,
          0.6038094758987427,
          0.6001854538917542,
          0.5998049974441528,
          0.5910312533378601,
          0.5927931666374207,
          0.6023562550544739,
          0.5935214161872864,
          0.6006433367729187,
          0.6155768632888794,
          0.6166670918464661,
          0.6120495200157166,
          0.6248233318328857,
          0.6155072450637817,
          0.6241326928138733,
          0.6119809746742249,
          0.6262193322181702,
          0.6498212218284607,
          0.5923399329185486,
          0.5907576680183411,
          0.6052747964859009,
          0.635769784450531,
          0.6332758069038391,
          0.5986989736557007,
          0.5852888822555542,
          0.5873186588287354,
          0.5856268405914307,
          0.5915452837944031,
          0.5941007137298584,
          0.6102464199066162,
          0.6251949667930603,
          0.6239888668060303,
          0.6081091165542603,
          0.5939651131629944,
          0.5899328589439392,
          0.5954110026359558,
          0.6244025826454163,
          0.6653236746788025,
          0.6283214092254639,
          0.6025897860527039,
          0.5934902429580688,
          0.6014280319213867,
          0.6184823513031006,
          0.6502792835235596,
          0.6556236743927002,
          0.63648521900177,
          0.6298649311065674,
          0.6336430907249451,
          0.6282851696014404,
          0.6366045475006104,
          0.6360780000686646,
          0.6395809650421143,
          0.6591723561286926,
          0.65064936876297,
          0.6458007097244263,
          0.6478388905525208
         ],
         "yaxis": "y"
        }
       ],
       "layout": {
        "autosize": true,
        "legend": {
         "title": {
          "text": "metric"
         },
         "tracegroupgap": 0
        },
        "margin": {
         "t": 60
        },
        "template": {
         "data": {
          "bar": [
           {
            "error_x": {
             "color": "#2a3f5f"
            },
            "error_y": {
             "color": "#2a3f5f"
            },
            "marker": {
             "line": {
              "color": "#E5ECF6",
              "width": 0.5
             }
            },
            "type": "bar"
           }
          ],
          "barpolar": [
           {
            "marker": {
             "line": {
              "color": "#E5ECF6",
              "width": 0.5
             }
            },
            "type": "barpolar"
           }
          ],
          "carpet": [
           {
            "aaxis": {
             "endlinecolor": "#2a3f5f",
             "gridcolor": "white",
             "linecolor": "white",
             "minorgridcolor": "white",
             "startlinecolor": "#2a3f5f"
            },
            "baxis": {
             "endlinecolor": "#2a3f5f",
             "gridcolor": "white",
             "linecolor": "white",
             "minorgridcolor": "white",
             "startlinecolor": "#2a3f5f"
            },
            "type": "carpet"
           }
          ],
          "choropleth": [
           {
            "colorbar": {
             "outlinewidth": 0,
             "ticks": ""
            },
            "type": "choropleth"
           }
          ],
          "contour": [
           {
            "colorbar": {
             "outlinewidth": 0,
             "ticks": ""
            },
            "colorscale": [
             [
              0,
              "#0d0887"
             ],
             [
              0.1111111111111111,
              "#46039f"
             ],
             [
              0.2222222222222222,
              "#7201a8"
             ],
             [
              0.3333333333333333,
              "#9c179e"
             ],
             [
              0.4444444444444444,
              "#bd3786"
             ],
             [
              0.5555555555555556,
              "#d8576b"
             ],
             [
              0.6666666666666666,
              "#ed7953"
             ],
             [
              0.7777777777777778,
              "#fb9f3a"
             ],
             [
              0.8888888888888888,
              "#fdca26"
             ],
             [
              1,
              "#f0f921"
             ]
            ],
            "type": "contour"
           }
          ],
          "contourcarpet": [
           {
            "colorbar": {
             "outlinewidth": 0,
             "ticks": ""
            },
            "type": "contourcarpet"
           }
          ],
          "heatmap": [
           {
            "colorbar": {
             "outlinewidth": 0,
             "ticks": ""
            },
            "colorscale": [
             [
              0,
              "#0d0887"
             ],
             [
              0.1111111111111111,
              "#46039f"
             ],
             [
              0.2222222222222222,
              "#7201a8"
             ],
             [
              0.3333333333333333,
              "#9c179e"
             ],
             [
              0.4444444444444444,
              "#bd3786"
             ],
             [
              0.5555555555555556,
              "#d8576b"
             ],
             [
              0.6666666666666666,
              "#ed7953"
             ],
             [
              0.7777777777777778,
              "#fb9f3a"
             ],
             [
              0.8888888888888888,
              "#fdca26"
             ],
             [
              1,
              "#f0f921"
             ]
            ],
            "type": "heatmap"
           }
          ],
          "heatmapgl": [
           {
            "colorbar": {
             "outlinewidth": 0,
             "ticks": ""
            },
            "colorscale": [
             [
              0,
              "#0d0887"
             ],
             [
              0.1111111111111111,
              "#46039f"
             ],
             [
              0.2222222222222222,
              "#7201a8"
             ],
             [
              0.3333333333333333,
              "#9c179e"
             ],
             [
              0.4444444444444444,
              "#bd3786"
             ],
             [
              0.5555555555555556,
              "#d8576b"
             ],
             [
              0.6666666666666666,
              "#ed7953"
             ],
             [
              0.7777777777777778,
              "#fb9f3a"
             ],
             [
              0.8888888888888888,
              "#fdca26"
             ],
             [
              1,
              "#f0f921"
             ]
            ],
            "type": "heatmapgl"
           }
          ],
          "histogram": [
           {
            "marker": {
             "colorbar": {
              "outlinewidth": 0,
              "ticks": ""
             }
            },
            "type": "histogram"
           }
          ],
          "histogram2d": [
           {
            "colorbar": {
             "outlinewidth": 0,
             "ticks": ""
            },
            "colorscale": [
             [
              0,
              "#0d0887"
             ],
             [
              0.1111111111111111,
              "#46039f"
             ],
             [
              0.2222222222222222,
              "#7201a8"
             ],
             [
              0.3333333333333333,
              "#9c179e"
             ],
             [
              0.4444444444444444,
              "#bd3786"
             ],
             [
              0.5555555555555556,
              "#d8576b"
             ],
             [
              0.6666666666666666,
              "#ed7953"
             ],
             [
              0.7777777777777778,
              "#fb9f3a"
             ],
             [
              0.8888888888888888,
              "#fdca26"
             ],
             [
              1,
              "#f0f921"
             ]
            ],
            "type": "histogram2d"
           }
          ],
          "histogram2dcontour": [
           {
            "colorbar": {
             "outlinewidth": 0,
             "ticks": ""
            },
            "colorscale": [
             [
              0,
              "#0d0887"
             ],
             [
              0.1111111111111111,
              "#46039f"
             ],
             [
              0.2222222222222222,
              "#7201a8"
             ],
             [
              0.3333333333333333,
              "#9c179e"
             ],
             [
              0.4444444444444444,
              "#bd3786"
             ],
             [
              0.5555555555555556,
              "#d8576b"
             ],
             [
              0.6666666666666666,
              "#ed7953"
             ],
             [
              0.7777777777777778,
              "#fb9f3a"
             ],
             [
              0.8888888888888888,
              "#fdca26"
             ],
             [
              1,
              "#f0f921"
             ]
            ],
            "type": "histogram2dcontour"
           }
          ],
          "mesh3d": [
           {
            "colorbar": {
             "outlinewidth": 0,
             "ticks": ""
            },
            "type": "mesh3d"
           }
          ],
          "parcoords": [
           {
            "line": {
             "colorbar": {
              "outlinewidth": 0,
              "ticks": ""
             }
            },
            "type": "parcoords"
           }
          ],
          "pie": [
           {
            "automargin": true,
            "type": "pie"
           }
          ],
          "scatter": [
           {
            "marker": {
             "colorbar": {
              "outlinewidth": 0,
              "ticks": ""
             }
            },
            "type": "scatter"
           }
          ],
          "scatter3d": [
           {
            "line": {
             "colorbar": {
              "outlinewidth": 0,
              "ticks": ""
             }
            },
            "marker": {
             "colorbar": {
              "outlinewidth": 0,
              "ticks": ""
             }
            },
            "type": "scatter3d"
           }
          ],
          "scattercarpet": [
           {
            "marker": {
             "colorbar": {
              "outlinewidth": 0,
              "ticks": ""
             }
            },
            "type": "scattercarpet"
           }
          ],
          "scattergeo": [
           {
            "marker": {
             "colorbar": {
              "outlinewidth": 0,
              "ticks": ""
             }
            },
            "type": "scattergeo"
           }
          ],
          "scattergl": [
           {
            "marker": {
             "colorbar": {
              "outlinewidth": 0,
              "ticks": ""
             }
            },
            "type": "scattergl"
           }
          ],
          "scattermapbox": [
           {
            "marker": {
             "colorbar": {
              "outlinewidth": 0,
              "ticks": ""
             }
            },
            "type": "scattermapbox"
           }
          ],
          "scatterpolar": [
           {
            "marker": {
             "colorbar": {
              "outlinewidth": 0,
              "ticks": ""
             }
            },
            "type": "scatterpolar"
           }
          ],
          "scatterpolargl": [
           {
            "marker": {
             "colorbar": {
              "outlinewidth": 0,
              "ticks": ""
             }
            },
            "type": "scatterpolargl"
           }
          ],
          "scatterternary": [
           {
            "marker": {
             "colorbar": {
              "outlinewidth": 0,
              "ticks": ""
             }
            },
            "type": "scatterternary"
           }
          ],
          "surface": [
           {
            "colorbar": {
             "outlinewidth": 0,
             "ticks": ""
            },
            "colorscale": [
             [
              0,
              "#0d0887"
             ],
             [
              0.1111111111111111,
              "#46039f"
             ],
             [
              0.2222222222222222,
              "#7201a8"
             ],
             [
              0.3333333333333333,
              "#9c179e"
             ],
             [
              0.4444444444444444,
              "#bd3786"
             ],
             [
              0.5555555555555556,
              "#d8576b"
             ],
             [
              0.6666666666666666,
              "#ed7953"
             ],
             [
              0.7777777777777778,
              "#fb9f3a"
             ],
             [
              0.8888888888888888,
              "#fdca26"
             ],
             [
              1,
              "#f0f921"
             ]
            ],
            "type": "surface"
           }
          ],
          "table": [
           {
            "cells": {
             "fill": {
              "color": "#EBF0F8"
             },
             "line": {
              "color": "white"
             }
            },
            "header": {
             "fill": {
              "color": "#C8D4E3"
             },
             "line": {
              "color": "white"
             }
            },
            "type": "table"
           }
          ]
         },
         "layout": {
          "annotationdefaults": {
           "arrowcolor": "#2a3f5f",
           "arrowhead": 0,
           "arrowwidth": 1
          },
          "coloraxis": {
           "colorbar": {
            "outlinewidth": 0,
            "ticks": ""
           }
          },
          "colorscale": {
           "diverging": [
            [
             0,
             "#8e0152"
            ],
            [
             0.1,
             "#c51b7d"
            ],
            [
             0.2,
             "#de77ae"
            ],
            [
             0.3,
             "#f1b6da"
            ],
            [
             0.4,
             "#fde0ef"
            ],
            [
             0.5,
             "#f7f7f7"
            ],
            [
             0.6,
             "#e6f5d0"
            ],
            [
             0.7,
             "#b8e186"
            ],
            [
             0.8,
             "#7fbc41"
            ],
            [
             0.9,
             "#4d9221"
            ],
            [
             1,
             "#276419"
            ]
           ],
           "sequential": [
            [
             0,
             "#0d0887"
            ],
            [
             0.1111111111111111,
             "#46039f"
            ],
            [
             0.2222222222222222,
             "#7201a8"
            ],
            [
             0.3333333333333333,
             "#9c179e"
            ],
            [
             0.4444444444444444,
             "#bd3786"
            ],
            [
             0.5555555555555556,
             "#d8576b"
            ],
            [
             0.6666666666666666,
             "#ed7953"
            ],
            [
             0.7777777777777778,
             "#fb9f3a"
            ],
            [
             0.8888888888888888,
             "#fdca26"
            ],
            [
             1,
             "#f0f921"
            ]
           ],
           "sequentialminus": [
            [
             0,
             "#0d0887"
            ],
            [
             0.1111111111111111,
             "#46039f"
            ],
            [
             0.2222222222222222,
             "#7201a8"
            ],
            [
             0.3333333333333333,
             "#9c179e"
            ],
            [
             0.4444444444444444,
             "#bd3786"
            ],
            [
             0.5555555555555556,
             "#d8576b"
            ],
            [
             0.6666666666666666,
             "#ed7953"
            ],
            [
             0.7777777777777778,
             "#fb9f3a"
            ],
            [
             0.8888888888888888,
             "#fdca26"
            ],
            [
             1,
             "#f0f921"
            ]
           ]
          },
          "colorway": [
           "#636efa",
           "#EF553B",
           "#00cc96",
           "#ab63fa",
           "#FFA15A",
           "#19d3f3",
           "#FF6692",
           "#B6E880",
           "#FF97FF",
           "#FECB52"
          ],
          "font": {
           "color": "#2a3f5f"
          },
          "geo": {
           "bgcolor": "white",
           "lakecolor": "white",
           "landcolor": "#E5ECF6",
           "showlakes": true,
           "showland": true,
           "subunitcolor": "white"
          },
          "hoverlabel": {
           "align": "left"
          },
          "hovermode": "closest",
          "mapbox": {
           "style": "light"
          },
          "paper_bgcolor": "white",
          "plot_bgcolor": "#E5ECF6",
          "polar": {
           "angularaxis": {
            "gridcolor": "white",
            "linecolor": "white",
            "ticks": ""
           },
           "bgcolor": "#E5ECF6",
           "radialaxis": {
            "gridcolor": "white",
            "linecolor": "white",
            "ticks": ""
           }
          },
          "scene": {
           "xaxis": {
            "backgroundcolor": "#E5ECF6",
            "gridcolor": "white",
            "gridwidth": 2,
            "linecolor": "white",
            "showbackground": true,
            "ticks": "",
            "zerolinecolor": "white"
           },
           "yaxis": {
            "backgroundcolor": "#E5ECF6",
            "gridcolor": "white",
            "gridwidth": 2,
            "linecolor": "white",
            "showbackground": true,
            "ticks": "",
            "zerolinecolor": "white"
           },
           "zaxis": {
            "backgroundcolor": "#E5ECF6",
            "gridcolor": "white",
            "gridwidth": 2,
            "linecolor": "white",
            "showbackground": true,
            "ticks": "",
            "zerolinecolor": "white"
           }
          },
          "shapedefaults": {
           "line": {
            "color": "#2a3f5f"
           }
          },
          "ternary": {
           "aaxis": {
            "gridcolor": "white",
            "linecolor": "white",
            "ticks": ""
           },
           "baxis": {
            "gridcolor": "white",
            "linecolor": "white",
            "ticks": ""
           },
           "bgcolor": "#E5ECF6",
           "caxis": {
            "gridcolor": "white",
            "linecolor": "white",
            "ticks": ""
           }
          },
          "title": {
           "x": 0.05
          },
          "xaxis": {
           "automargin": true,
           "gridcolor": "white",
           "linecolor": "white",
           "ticks": "",
           "title": {
            "standoff": 15
           },
           "zerolinecolor": "white",
           "zerolinewidth": 2
          },
          "yaxis": {
           "automargin": true,
           "gridcolor": "white",
           "linecolor": "white",
           "ticks": "",
           "title": {
            "standoff": 15
           },
           "zerolinecolor": "white",
           "zerolinewidth": 2
          }
         }
        },
        "xaxis": {
         "anchor": "y",
         "autorange": true,
         "domain": [
          0,
          1
         ],
         "range": [
          0,
          199
         ],
         "title": {
          "text": "epochs"
         },
         "type": "linear"
        },
        "yaxis": {
         "anchor": "x",
         "autorange": true,
         "domain": [
          0,
          1
         ],
         "range": [
          0.48865392473008895,
          0.7004239294264052
         ],
         "title": {
          "text": "values"
         },
         "type": "linear"
        }
       }
      },
      "image/png": "[encoded data removed]",
      "text/html": [
       "<div>\n",
       "        \n",
       "        \n",
       "            <div id=\"232c6ff1-c11c-4601-9892-151b3ad284ff\" class=\"plotly-graph-div\" style=\"height:525px; width:100%;\"></div>\n",
       "            <script type=\"text/javascript\">\n",
       "                require([\"plotly\"], function(Plotly) {\n",
       "                    window.PLOTLYENV=window.PLOTLYENV || {};\n",
       "                    \n",
       "                if (document.getElementById(\"232c6ff1-c11c-4601-9892-151b3ad284ff\")) {\n",
       "                    Plotly.newPlot(\n",
       "                        '232c6ff1-c11c-4601-9892-151b3ad284ff',\n",
       "                        [{\"hovertemplate\": \"<b>%{hovertext}</b><br><br>metric=accuracy<br>epochs=%{x}<br>values=%{y}<extra></extra>\", \"hovertext\": [\"accuracy\", \"accuracy\", \"accuracy\", \"accuracy\", \"accuracy\", \"accuracy\", \"accuracy\", \"accuracy\", \"accuracy\", \"accuracy\", \"accuracy\", \"accuracy\", \"accuracy\", \"accuracy\", \"accuracy\", \"accuracy\", \"accuracy\", \"accuracy\", \"accuracy\", \"accuracy\", \"accuracy\", \"accuracy\", \"accuracy\", \"accuracy\", \"accuracy\", \"accuracy\", \"accuracy\", \"accuracy\", \"accuracy\", \"accuracy\", \"accuracy\", \"accuracy\", \"accuracy\", \"accuracy\", \"accuracy\", \"accuracy\", \"accuracy\", \"accuracy\", \"accuracy\", \"accuracy\", \"accuracy\", \"accuracy\", \"accuracy\", \"accuracy\", \"accuracy\", \"accuracy\", \"accuracy\", \"accuracy\", \"accuracy\", \"accuracy\", \"accuracy\", \"accuracy\", \"accuracy\", \"accuracy\", \"accuracy\", \"accuracy\", \"accuracy\", \"accuracy\", \"accuracy\", \"accuracy\", \"accuracy\", \"accuracy\", \"accuracy\", \"accuracy\", \"accuracy\", \"accuracy\", \"accuracy\", \"accuracy\", \"accuracy\", \"accuracy\", \"accuracy\", \"accuracy\", \"accuracy\", \"accuracy\", \"accuracy\", \"accuracy\", \"accuracy\", \"accuracy\", \"accuracy\", \"accuracy\", \"accuracy\", \"accuracy\", \"accuracy\", \"accuracy\", \"accuracy\", \"accuracy\", \"accuracy\", \"accuracy\", \"accuracy\", \"accuracy\", \"accuracy\", \"accuracy\", \"accuracy\", \"accuracy\", \"accuracy\", \"accuracy\", \"accuracy\", \"accuracy\", \"accuracy\", \"accuracy\", \"accuracy\", \"accuracy\", \"accuracy\", \"accuracy\", \"accuracy\", \"accuracy\", \"accuracy\", \"accuracy\", \"accuracy\", \"accuracy\", \"accuracy\", \"accuracy\", \"accuracy\", \"accuracy\", \"accuracy\", \"accuracy\", \"accuracy\", \"accuracy\", \"accuracy\", \"accuracy\", \"accuracy\", \"accuracy\", \"accuracy\", \"accuracy\", \"accuracy\", \"accuracy\", \"accuracy\", \"accuracy\", \"accuracy\", \"accuracy\", \"accuracy\", \"accuracy\", \"accuracy\", \"accuracy\", \"accuracy\", \"accuracy\", \"accuracy\", \"accuracy\", \"accuracy\", \"accuracy\", \"accuracy\", \"accuracy\", \"accuracy\", \"accuracy\", \"accuracy\", \"accuracy\", \"accuracy\", \"accuracy\", \"accuracy\", \"accuracy\", \"accuracy\", \"accuracy\", \"accuracy\", \"accuracy\", \"accuracy\", \"accuracy\", \"accuracy\", \"accuracy\", \"accuracy\", \"accuracy\", \"accuracy\", \"accuracy\", \"accuracy\", \"accuracy\", \"accuracy\", \"accuracy\", \"accuracy\", \"accuracy\", \"accuracy\", \"accuracy\", \"accuracy\", \"accuracy\", \"accuracy\", \"accuracy\", \"accuracy\", \"accuracy\", \"accuracy\", \"accuracy\", \"accuracy\", \"accuracy\", \"accuracy\", \"accuracy\", \"accuracy\", \"accuracy\", \"accuracy\", \"accuracy\", \"accuracy\", \"accuracy\", \"accuracy\", \"accuracy\", \"accuracy\", \"accuracy\", \"accuracy\", \"accuracy\", \"accuracy\", \"accuracy\", \"accuracy\", \"accuracy\", \"accuracy\", \"accuracy\"], \"legendgroup\": \"accuracy\", \"line\": {\"color\": \"#636efa\", \"dash\": \"solid\"}, \"mode\": \"lines\", \"name\": \"accuracy\", \"orientation\": \"v\", \"showlegend\": true, \"type\": \"scatter\", \"x\": [0, 1, 2, 3, 4, 5, 6, 7, 8, 9, 10, 11, 12, 13, 14, 15, 16, 17, 18, 19, 20, 21, 22, 23, 24, 25, 26, 27, 28, 29, 30, 31, 32, 33, 34, 35, 36, 37, 38, 39, 40, 41, 42, 43, 44, 45, 46, 47, 48, 49, 50, 51, 52, 53, 54, 55, 56, 57, 58, 59, 60, 61, 62, 63, 64, 65, 66, 67, 68, 69, 70, 71, 72, 73, 74, 75, 76, 77, 78, 79, 80, 81, 82, 83, 84, 85, 86, 87, 88, 89, 90, 91, 92, 93, 94, 95, 96, 97, 98, 99, 100, 101, 102, 103, 104, 105, 106, 107, 108, 109, 110, 111, 112, 113, 114, 115, 116, 117, 118, 119, 120, 121, 122, 123, 124, 125, 126, 127, 128, 129, 130, 131, 132, 133, 134, 135, 136, 137, 138, 139, 140, 141, 142, 143, 144, 145, 146, 147, 148, 149, 150, 151, 152, 153, 154, 155, 156, 157, 158, 159, 160, 161, 162, 163, 164, 165, 166, 167, 168, 169, 170, 171, 172, 173, 174, 175, 176, 177, 178, 179, 180, 181, 182, 183, 184, 185, 186, 187, 188, 189, 190, 191, 192, 193, 194, 195, 196, 197, 198, 199], \"xaxis\": \"x\", \"y\": [0.4992424249649048, 0.5696969628334045, 0.5696969628334045, 0.5696969628334045, 0.5696969628334045, 0.5696969628334045, 0.5721212029457092, 0.5719696879386902, 0.5704545378684998, 0.5690909028053284, 0.5672727823257446, 0.5706060528755188, 0.5713636875152588, 0.574999988079071, 0.575606107711792, 0.5701515674591064, 0.5845454335212708, 0.5806061029434204, 0.5863636136054993, 0.5989394187927246, 0.6010606288909912, 0.595909059047699, 0.6166666746139526, 0.642727255821228, 0.6556060314178467, 0.6372727155685425, 0.646212100982666, 0.6272727251052856, 0.6334848999977112, 0.635606050491333, 0.6331818699836731, 0.6324242353439331, 0.6196969747543335, 0.6225757598876953, 0.6219696998596191, 0.6298484802246094, 0.622121274471283, 0.6268181800842285, 0.6260606050491333, 0.6225757002830505, 0.6281818747520447, 0.631969690322876, 0.6325757503509521, 0.6263636350631714, 0.635454535484314, 0.6280302405357361, 0.6372727155685425, 0.6336363554000854, 0.639090895652771, 0.6342424750328064, 0.6406060457229614, 0.6257575750350952, 0.6371212005615234, 0.6307576298713684, 0.6474242210388184, 0.6445454955101013, 0.6501514911651611, 0.6416666507720947, 0.650606095790863, 0.6456061005592346, 0.649696946144104, 0.636212170124054, 0.6481817960739136, 0.6319696307182312, 0.6453030705451965, 0.6451514959335327, 0.6498485207557678, 0.6486364006996155, 0.6478788256645203, 0.6516666412353516, 0.6519697308540344, 0.6553030610084534, 0.6492424011230469, 0.6478787660598755, 0.6460606455802917, 0.6536363959312439, 0.6465151309967041, 0.6413636207580566, 0.631969690322876, 0.6509091258049011, 0.6516666412353516, 0.6509091258049011, 0.6536363363265991, 0.6412121057510376, 0.6345455050468445, 0.6340909004211426, 0.6606060862541199, 0.6472727656364441, 0.6410605907440186, 0.6490909457206726, 0.6463636755943298, 0.6536363959312439, 0.6560605764389038, 0.6565151214599609, 0.653181791305542, 0.6548485159873962, 0.65666663646698, 0.6457576155662537, 0.6568182110786438, 0.6553030014038086, 0.646212100982666, 0.6556060910224915, 0.6524242758750916, 0.6465151309967041, 0.6569697260856628, 0.653181791305542, 0.6325757503509521, 0.6599999666213989, 0.6525757908821106, 0.65666663646698, 0.6583333611488342, 0.6519696712493896, 0.6543939709663391, 0.6454545259475708, 0.6554545760154724, 0.6572727560997009, 0.6457575559616089, 0.6560605764389038, 0.6581818461418152, 0.6556060314178467, 0.6527272462844849, 0.6533333659172058, 0.6554545760154724, 0.6398484706878662, 0.6546969413757324, 0.6466666460037231, 0.6596969366073608, 0.6337878704071045, 0.6489393711090088, 0.654090940952301, 0.6556060314178467, 0.6525757908821106, 0.6578788161277771, 0.6581817865371704, 0.6562121510505676, 0.6545454263687134, 0.6613636016845703, 0.6421211957931519, 0.65742427110672, 0.6563636660575867, 0.6563636660575867, 0.6571212410926819, 0.6571212410926819, 0.6593939661979675, 0.6475757360458374, 0.6540908813476562, 0.6565151810646057, 0.6596969366073608, 0.6571212410926819, 0.660909116268158, 0.6551514863967896, 0.6571211814880371, 0.6624242663383484, 0.6545454263687134, 0.6437879204750061, 0.6593939065933228, 0.6607575416564941, 0.6343939304351807, 0.6539393663406372, 0.650303065776825, 0.6619696617126465, 0.6651515364646912, 0.6556060314178467, 0.6657575368881226, 0.6621211767196655, 0.6601515412330627, 0.6580302715301514, 0.6525757312774658, 0.6421212553977966, 0.6546970009803772, 0.6550000309944153, 0.6559090614318848, 0.6560605764389038, 0.6659091114997864, 0.6633332967758179, 0.6565151810646057, 0.6616666913032532, 0.6666666865348816, 0.6662120819091797, 0.6648484468460083, 0.6510605216026306, 0.6619697213172913, 0.6609089970588684, 0.6642423868179321, 0.6607576012611389, 0.6659091114997864, 0.6660605669021606, 0.6628788113594055, 0.6628788113594055, 0.6616666316986084, 0.6615151166915894, 0.6618181467056274, 0.6609090566635132, 0.6669697165489197, 0.6593939065933228, 0.6616666913032532, 0.6642423868179321, 0.6627272963523865, 0.6657575964927673, 0.6663635969161987], \"yaxis\": \"y\"}, {\"hovertemplate\": \"<b>%{hovertext}</b><br><br>metric=loss<br>epochs=%{x}<br>values=%{y}<extra></extra>\", \"hovertext\": [\"loss\", \"loss\", \"loss\", \"loss\", \"loss\", \"loss\", \"loss\", \"loss\", \"loss\", \"loss\", \"loss\", \"loss\", \"loss\", \"loss\", \"loss\", \"loss\", \"loss\", \"loss\", \"loss\", \"loss\", \"loss\", \"loss\", \"loss\", \"loss\", \"loss\", \"loss\", \"loss\", \"loss\", \"loss\", \"loss\", \"loss\", \"loss\", \"loss\", \"loss\", \"loss\", \"loss\", \"loss\", \"loss\", \"loss\", \"loss\", \"loss\", \"loss\", \"loss\", \"loss\", \"loss\", \"loss\", \"loss\", \"loss\", \"loss\", \"loss\", \"loss\", \"loss\", \"loss\", \"loss\", \"loss\", \"loss\", \"loss\", \"loss\", \"loss\", \"loss\", \"loss\", \"loss\", \"loss\", \"loss\", \"loss\", \"loss\", \"loss\", \"loss\", \"loss\", \"loss\", \"loss\", \"loss\", \"loss\", \"loss\", \"loss\", \"loss\", \"loss\", \"loss\", \"loss\", \"loss\", \"loss\", \"loss\", \"loss\", \"loss\", \"loss\", \"loss\", \"loss\", \"loss\", \"loss\", \"loss\", \"loss\", \"loss\", \"loss\", \"loss\", \"loss\", \"loss\", \"loss\", \"loss\", \"loss\", \"loss\", \"loss\", \"loss\", \"loss\", \"loss\", \"loss\", \"loss\", \"loss\", \"loss\", \"loss\", \"loss\", \"loss\", \"loss\", \"loss\", \"loss\", \"loss\", \"loss\", \"loss\", \"loss\", \"loss\", \"loss\", \"loss\", \"loss\", \"loss\", \"loss\", \"loss\", \"loss\", \"loss\", \"loss\", \"loss\", \"loss\", \"loss\", \"loss\", \"loss\", \"loss\", \"loss\", \"loss\", \"loss\", \"loss\", \"loss\", \"loss\", \"loss\", \"loss\", \"loss\", \"loss\", \"loss\", \"loss\", \"loss\", \"loss\", \"loss\", \"loss\", \"loss\", \"loss\", \"loss\", \"loss\", \"loss\", \"loss\", \"loss\", \"loss\", \"loss\", \"loss\", \"loss\", \"loss\", \"loss\", \"loss\", \"loss\", \"loss\", \"loss\", \"loss\", \"loss\", \"loss\", \"loss\", \"loss\", \"loss\", \"loss\", \"loss\", \"loss\", \"loss\", \"loss\", \"loss\", \"loss\", \"loss\", \"loss\", \"loss\", \"loss\", \"loss\", \"loss\", \"loss\", \"loss\", \"loss\", \"loss\", \"loss\", \"loss\", \"loss\", \"loss\", \"loss\", \"loss\", \"loss\", \"loss\", \"loss\", \"loss\"], \"legendgroup\": \"loss\", \"line\": {\"color\": \"#EF553B\", \"dash\": \"solid\"}, \"mode\": \"lines\", \"name\": \"loss\", \"orientation\": \"v\", \"showlegend\": true, \"type\": \"scatter\", \"x\": [0, 1, 2, 3, 4, 5, 6, 7, 8, 9, 10, 11, 12, 13, 14, 15, 16, 17, 18, 19, 20, 21, 22, 23, 24, 25, 26, 27, 28, 29, 30, 31, 32, 33, 34, 35, 36, 37, 38, 39, 40, 41, 42, 43, 44, 45, 46, 47, 48, 49, 50, 51, 52, 53, 54, 55, 56, 57, 58, 59, 60, 61, 62, 63, 64, 65, 66, 67, 68, 69, 70, 71, 72, 73, 74, 75, 76, 77, 78, 79, 80, 81, 82, 83, 84, 85, 86, 87, 88, 89, 90, 91, 92, 93, 94, 95, 96, 97, 98, 99, 100, 101, 102, 103, 104, 105, 106, 107, 108, 109, 110, 111, 112, 113, 114, 115, 116, 117, 118, 119, 120, 121, 122, 123, 124, 125, 126, 127, 128, 129, 130, 131, 132, 133, 134, 135, 136, 137, 138, 139, 140, 141, 142, 143, 144, 145, 146, 147, 148, 149, 150, 151, 152, 153, 154, 155, 156, 157, 158, 159, 160, 161, 162, 163, 164, 165, 166, 167, 168, 169, 170, 171, 172, 173, 174, 175, 176, 177, 178, 179, 180, 181, 182, 183, 184, 185, 186, 187, 188, 189, 190, 191, 192, 193, 194, 195, 196, 197, 198, 199], \"xaxis\": \"x\", \"y\": [0.6898354291915894, 0.6799854636192322, 0.676193118095398, 0.6747134327888489, 0.6740161180496216, 0.6734405755996704, 0.6725527048110962, 0.6713564991950989, 0.675069272518158, 0.6687890887260437, 0.669447124004364, 0.6686369180679321, 0.6676561832427979, 0.6637666821479797, 0.6578097939491272, 0.6687837839126587, 0.6645662188529968, 0.6676019430160522, 0.652880847454071, 0.662100613117218, 0.6518126726150513, 0.654028594493866, 0.6420013308525085, 0.6399378776550293, 0.6315916776657104, 0.636714518070221, 0.6256212592124939, 0.6319745779037476, 0.622903048992157, 0.6247568130493164, 0.6209510564804077, 0.6239498257637024, 0.6290756464004517, 0.6229461431503296, 0.6286174654960632, 0.6150529384613037, 0.6234308481216431, 0.6246857643127441, 0.6177667379379272, 0.6210863590240479, 0.6150039434432983, 0.6177173852920532, 0.6108201742172241, 0.6156005263328552, 0.6090779900550842, 0.6182016730308533, 0.6092458367347717, 0.6135205626487732, 0.6115020513534546, 0.6116971373558044, 0.6072924733161926, 0.6152225136756897, 0.6034219861030579, 0.6079698204994202, 0.6068755984306335, 0.6037542819976807, 0.6033765077590942, 0.6037035584449768, 0.6349826455116272, 0.6101176738739014, 0.6021655201911926, 0.6111500859260559, 0.6017013788223267, 0.6063104867935181, 0.603034257888794, 0.6031193137168884, 0.6024653315544128, 0.6012269854545593, 0.6034637689590454, 0.6006419062614441, 0.5999280214309692, 0.6018678545951843, 0.6043971180915833, 0.5972369909286499, 0.6034111976623535, 0.5962648987770081, 0.6111384034156799, 0.6045881509780884, 0.6104611158370972, 0.5982653498649597, 0.601356565952301, 0.6073809266090393, 0.6004248261451721, 0.6087297201156616, 0.6048756241798401, 0.6074274182319641, 0.5994593501091003, 0.601097822189331, 0.6080387830734253, 0.6012186408042908, 0.608282744884491, 0.5973113179206848, 0.5994857549667358, 0.5995461344718933, 0.5974542498588562, 0.6042249202728271, 0.5953102707862854, 0.6015381813049316, 0.594973087310791, 0.599592387676239, 0.5993050336837769, 0.5976002216339111, 0.6027198433876038, 0.6009946465492249, 0.6001948118209839, 0.5967813730239868, 0.6021071672439575, 0.5953248143196106, 0.6028196215629578, 0.5954621434211731, 0.5956925749778748, 0.599289059638977, 0.592411458492279, 0.5980162024497986, 0.5938940048217773, 0.5931696891784668, 0.6001427173614502, 0.5980089902877808, 0.5948959589004517, 0.5972220301628113, 0.5946291089057922, 0.6053292751312256, 0.5972318053245544, 0.5988660454750061, 0.5937023162841797, 0.5970261096954346, 0.5948747396469116, 0.5986160039901733, 0.5941577553749084, 0.5939649343490601, 0.5944821238517761, 0.598794162273407, 0.5935144424438477, 0.5925542116165161, 0.5919235944747925, 0.5931715369224548, 0.5913058519363403, 0.5953790545463562, 0.5954591631889343, 0.5970244407653809, 0.598953902721405, 0.5913674235343933, 0.5933904051780701, 0.5909076929092407, 0.5955272316932678, 0.5944777727127075, 0.5935530662536621, 0.5914887189865112, 0.5911422371864319, 0.5933777689933777, 0.5937498211860657, 0.594162106513977, 0.5899772644042969, 0.5944529175758362, 0.5921427607536316, 0.5982524752616882, 0.584458589553833, 0.6031274795532227, 0.591794490814209, 0.6003194451332092, 0.5941621661186218, 0.5947803854942322, 0.5944629907608032, 0.5916351079940796, 0.5903480052947998, 0.5890404582023621, 0.596200168132782, 0.5939144492149353, 0.5954276323318481, 0.5939275026321411, 0.5946714878082275, 0.5924811959266663, 0.5892030596733093, 0.5899333357810974, 0.591637372970581, 0.5909590125083923, 0.5877460837364197, 0.5877386927604675, 0.5887197852134705, 0.5893879532814026, 0.5966179370880127, 0.5850752592086792, 0.5932785272598267, 0.5855275988578796, 0.591295599937439, 0.5874344110488892, 0.5889868140220642, 0.5845003724098206, 0.5854236483573914, 0.585752010345459, 0.5852792263031006, 0.5859006643295288, 0.5878658294677734, 0.5844059586524963, 0.5901943445205688, 0.5963932871818542, 0.5892105102539062, 0.5870083570480347, 0.5850478410720825, 0.5839488506317139], \"yaxis\": \"y\"}, {\"hovertemplate\": \"<b>%{hovertext}</b><br><br>metric=val_accuracy<br>epochs=%{x}<br>values=%{y}<extra></extra>\", \"hovertext\": [\"val_accuracy\", \"val_accuracy\", \"val_accuracy\", \"val_accuracy\", \"val_accuracy\", \"val_accuracy\", \"val_accuracy\", \"val_accuracy\", \"val_accuracy\", \"val_accuracy\", \"val_accuracy\", \"val_accuracy\", \"val_accuracy\", \"val_accuracy\", \"val_accuracy\", \"val_accuracy\", \"val_accuracy\", \"val_accuracy\", \"val_accuracy\", \"val_accuracy\", \"val_accuracy\", \"val_accuracy\", \"val_accuracy\", \"val_accuracy\", \"val_accuracy\", \"val_accuracy\", \"val_accuracy\", \"val_accuracy\", \"val_accuracy\", \"val_accuracy\", \"val_accuracy\", \"val_accuracy\", \"val_accuracy\", \"val_accuracy\", \"val_accuracy\", \"val_accuracy\", \"val_accuracy\", \"val_accuracy\", \"val_accuracy\", \"val_accuracy\", \"val_accuracy\", \"val_accuracy\", \"val_accuracy\", \"val_accuracy\", \"val_accuracy\", \"val_accuracy\", \"val_accuracy\", \"val_accuracy\", \"val_accuracy\", \"val_accuracy\", \"val_accuracy\", \"val_accuracy\", \"val_accuracy\", \"val_accuracy\", \"val_accuracy\", \"val_accuracy\", \"val_accuracy\", \"val_accuracy\", \"val_accuracy\", \"val_accuracy\", \"val_accuracy\", \"val_accuracy\", \"val_accuracy\", \"val_accuracy\", \"val_accuracy\", \"val_accuracy\", \"val_accuracy\", \"val_accuracy\", \"val_accuracy\", \"val_accuracy\", \"val_accuracy\", \"val_accuracy\", \"val_accuracy\", \"val_accuracy\", \"val_accuracy\", \"val_accuracy\", \"val_accuracy\", \"val_accuracy\", \"val_accuracy\", \"val_accuracy\", \"val_accuracy\", \"val_accuracy\", \"val_accuracy\", \"val_accuracy\", \"val_accuracy\", \"val_accuracy\", \"val_accuracy\", \"val_accuracy\", \"val_accuracy\", \"val_accuracy\", \"val_accuracy\", \"val_accuracy\", \"val_accuracy\", \"val_accuracy\", \"val_accuracy\", \"val_accuracy\", \"val_accuracy\", \"val_accuracy\", \"val_accuracy\", \"val_accuracy\", \"val_accuracy\", \"val_accuracy\", \"val_accuracy\", \"val_accuracy\", \"val_accuracy\", \"val_accuracy\", \"val_accuracy\", \"val_accuracy\", \"val_accuracy\", \"val_accuracy\", \"val_accuracy\", \"val_accuracy\", \"val_accuracy\", \"val_accuracy\", \"val_accuracy\", \"val_accuracy\", \"val_accuracy\", \"val_accuracy\", \"val_accuracy\", \"val_accuracy\", \"val_accuracy\", \"val_accuracy\", \"val_accuracy\", \"val_accuracy\", \"val_accuracy\", \"val_accuracy\", \"val_accuracy\", \"val_accuracy\", \"val_accuracy\", \"val_accuracy\", \"val_accuracy\", \"val_accuracy\", \"val_accuracy\", \"val_accuracy\", \"val_accuracy\", \"val_accuracy\", \"val_accuracy\", \"val_accuracy\", \"val_accuracy\", \"val_accuracy\", \"val_accuracy\", \"val_accuracy\", \"val_accuracy\", \"val_accuracy\", \"val_accuracy\", \"val_accuracy\", \"val_accuracy\", \"val_accuracy\", \"val_accuracy\", \"val_accuracy\", \"val_accuracy\", \"val_accuracy\", \"val_accuracy\", \"val_accuracy\", \"val_accuracy\", \"val_accuracy\", \"val_accuracy\", \"val_accuracy\", \"val_accuracy\", \"val_accuracy\", \"val_accuracy\", \"val_accuracy\", \"val_accuracy\", \"val_accuracy\", \"val_accuracy\", \"val_accuracy\", \"val_accuracy\", \"val_accuracy\", \"val_accuracy\", \"val_accuracy\", \"val_accuracy\", \"val_accuracy\", \"val_accuracy\", \"val_accuracy\", \"val_accuracy\", \"val_accuracy\", \"val_accuracy\", \"val_accuracy\", \"val_accuracy\", \"val_accuracy\", \"val_accuracy\", \"val_accuracy\", \"val_accuracy\", \"val_accuracy\", \"val_accuracy\", \"val_accuracy\", \"val_accuracy\", \"val_accuracy\", \"val_accuracy\", \"val_accuracy\", \"val_accuracy\", \"val_accuracy\", \"val_accuracy\", \"val_accuracy\", \"val_accuracy\", \"val_accuracy\", \"val_accuracy\", \"val_accuracy\", \"val_accuracy\", \"val_accuracy\"], \"legendgroup\": \"val_accuracy\", \"line\": {\"color\": \"#00cc96\", \"dash\": \"solid\"}, \"mode\": \"lines\", \"name\": \"val_accuracy\", \"orientation\": \"v\", \"showlegend\": true, \"type\": \"scatter\", \"x\": [0, 1, 2, 3, 4, 5, 6, 7, 8, 9, 10, 11, 12, 13, 14, 15, 16, 17, 18, 19, 20, 21, 22, 23, 24, 25, 26, 27, 28, 29, 30, 31, 32, 33, 34, 35, 36, 37, 38, 39, 40, 41, 42, 43, 44, 45, 46, 47, 48, 49, 50, 51, 52, 53, 54, 55, 56, 57, 58, 59, 60, 61, 62, 63, 64, 65, 66, 67, 68, 69, 70, 71, 72, 73, 74, 75, 76, 77, 78, 79, 80, 81, 82, 83, 84, 85, 86, 87, 88, 89, 90, 91, 92, 93, 94, 95, 96, 97, 98, 99, 100, 101, 102, 103, 104, 105, 106, 107, 108, 109, 110, 111, 112, 113, 114, 115, 116, 117, 118, 119, 120, 121, 122, 123, 124, 125, 126, 127, 128, 129, 130, 131, 132, 133, 134, 135, 136, 137, 138, 139, 140, 141, 142, 143, 144, 145, 146, 147, 148, 149, 150, 151, 152, 153, 154, 155, 156, 157, 158, 159, 160, 161, 162, 163, 164, 165, 166, 167, 168, 169, 170, 171, 172, 173, 174, 175, 176, 177, 178, 179, 180, 181, 182, 183, 184, 185, 186, 187, 188, 189, 190, 191, 192, 193, 194, 195, 196, 197, 198, 199], \"xaxis\": \"x\", \"y\": [0.5972222089767456, 0.5972222089767456, 0.5972222089767456, 0.5972222089767456, 0.5972222089767456, 0.5972222089767456, 0.6017361283302307, 0.6076388955116272, 0.6086804866790771, 0.6118055582046509, 0.6079861521720886, 0.6187500357627869, 0.6208333373069763, 0.6302083134651184, 0.6194444894790649, 0.6177083253860474, 0.6253472566604614, 0.6253472566604614, 0.6270833015441895, 0.6336805820465088, 0.6305555105209351, 0.6378471851348877, 0.6864583492279053, 0.6628472805023193, 0.6847221851348877, 0.6684027910232544, 0.6579861640930176, 0.6739583015441895, 0.6666666865348816, 0.6635416746139526, 0.6739583611488342, 0.6538194417953491, 0.626736044883728, 0.6708333492279053, 0.6673610806465149, 0.644444465637207, 0.6579861044883728, 0.6694444417953491, 0.6437499523162842, 0.6416667103767395, 0.6736111640930176, 0.6704861521720886, 0.6496527791023254, 0.6583333611488342, 0.6767361164093018, 0.6659721732139587, 0.6579861044883728, 0.6625000238418579, 0.6815972924232483, 0.6631944179534912, 0.6649305820465088, 0.684374988079071, 0.6364583969116211, 0.671875, 0.670138955116272, 0.6708333492279053, 0.6684027314186096, 0.6684027910232544, 0.6621527075767517, 0.6534721851348877, 0.6656249761581421, 0.6694444417953491, 0.6461805105209351, 0.6489583253860474, 0.6833332777023315, 0.6687500476837158, 0.6645833849906921, 0.6763888597488403, 0.6697916388511658, 0.6677083373069763, 0.6618055701255798, 0.6590278148651123, 0.6690971851348877, 0.6611111164093018, 0.6697916388511658, 0.6732639074325562, 0.6704861521720886, 0.6263889074325562, 0.6736111640930176, 0.675694465637207, 0.6743055582046509, 0.6468750238418579, 0.671875, 0.6732639074325562, 0.625, 0.6663194894790649, 0.6684028506278992, 0.6614583134651184, 0.6368055939674377, 0.6850694417953491, 0.6697916984558105, 0.6638889312744141, 0.6635416746139526, 0.6565971970558167, 0.6739583611488342, 0.6711804866790771, 0.6538193821907043, 0.6545138955116272, 0.6763889193534851, 0.6701388955116272, 0.6628472208976746, 0.6586806178092957, 0.6402778029441833, 0.6604167222976685, 0.6746527552604675, 0.6437499523162842, 0.6649305820465088, 0.668749988079071, 0.6673610210418701, 0.6732639074325562, 0.6607639193534851, 0.6586806178092957, 0.6326389312744141, 0.6572916507720947, 0.6618055701255798, 0.6642361879348755, 0.6604166626930237, 0.6631944179534912, 0.6607639193534851, 0.6552083492279053, 0.6805555820465088, 0.6878472566604614, 0.6489583253860474, 0.6569444537162781, 0.6513888835906982, 0.6496527194976807, 0.6444444060325623, 0.6493055820465088, 0.6548610925674438, 0.6631944179534912, 0.6649305820465088, 0.6701388955116272, 0.6618055105209351, 0.6486111283302307, 0.6496527791023254, 0.6503472328186035, 0.6420139074325562, 0.6444444060325623, 0.6656249761581421, 0.6513888835906982, 0.6631944179534912, 0.6447916626930237, 0.6565972566604614, 0.6565972566604614, 0.6527777910232544, 0.6340277791023254, 0.6451388597488403, 0.6413195133209229, 0.6586805582046509, 0.6677083373069763, 0.6496527194976807, 0.6611111164093018, 0.6552083492279053, 0.6305555701255798, 0.6329861283302307, 0.6517361402511597, 0.613194465637207, 0.6309027671813965, 0.6402777433395386, 0.6579861044883728, 0.6309027671813965, 0.6510416865348816, 0.6767361164093018, 0.6708333492279053, 0.6489583253860474, 0.6267361044883728, 0.6246527433395386, 0.6399304866790771, 0.6802083253860474, 0.6809027791023254, 0.6635416150093079, 0.6434028148651123, 0.6701388955116272, 0.6548611521720886, 0.6309027671813965, 0.6465277671813965, 0.6645833849906921, 0.6642360687255859, 0.6777777671813965, 0.6677083373069763, 0.6447916626930237, 0.6468749642372131, 0.6565972566604614, 0.6458333134651184, 0.6673611402511597, 0.6423611044883728, 0.6635416746139526, 0.6565971374511719, 0.6357638835906982, 0.6399304866790771, 0.6465278267860413, 0.6555554866790771, 0.6600694060325623, 0.6361110806465149, 0.6399305462837219, 0.6576388478279114, 0.6381944417953491, 0.6385416984558105, 0.6527777910232544, 0.6437499523162842], \"yaxis\": \"y\"}, {\"hovertemplate\": \"<b>%{hovertext}</b><br><br>metric=val_loss<br>epochs=%{x}<br>values=%{y}<extra></extra>\", \"hovertext\": [\"val_loss\", \"val_loss\", \"val_loss\", \"val_loss\", \"val_loss\", \"val_loss\", \"val_loss\", \"val_loss\", \"val_loss\", \"val_loss\", \"val_loss\", \"val_loss\", \"val_loss\", \"val_loss\", \"val_loss\", \"val_loss\", \"val_loss\", \"val_loss\", \"val_loss\", \"val_loss\", \"val_loss\", \"val_loss\", \"val_loss\", \"val_loss\", \"val_loss\", \"val_loss\", \"val_loss\", \"val_loss\", \"val_loss\", \"val_loss\", \"val_loss\", \"val_loss\", \"val_loss\", \"val_loss\", \"val_loss\", \"val_loss\", \"val_loss\", \"val_loss\", \"val_loss\", \"val_loss\", \"val_loss\", \"val_loss\", \"val_loss\", \"val_loss\", \"val_loss\", \"val_loss\", \"val_loss\", \"val_loss\", \"val_loss\", \"val_loss\", \"val_loss\", \"val_loss\", \"val_loss\", \"val_loss\", \"val_loss\", \"val_loss\", \"val_loss\", \"val_loss\", \"val_loss\", \"val_loss\", \"val_loss\", \"val_loss\", \"val_loss\", \"val_loss\", \"val_loss\", \"val_loss\", \"val_loss\", \"val_loss\", \"val_loss\", \"val_loss\", \"val_loss\", \"val_loss\", \"val_loss\", \"val_loss\", \"val_loss\", \"val_loss\", \"val_loss\", \"val_loss\", \"val_loss\", \"val_loss\", \"val_loss\", \"val_loss\", \"val_loss\", \"val_loss\", \"val_loss\", \"val_loss\", \"val_loss\", \"val_loss\", \"val_loss\", \"val_loss\", \"val_loss\", \"val_loss\", \"val_loss\", \"val_loss\", \"val_loss\", \"val_loss\", \"val_loss\", \"val_loss\", \"val_loss\", \"val_loss\", \"val_loss\", \"val_loss\", \"val_loss\", \"val_loss\", \"val_loss\", \"val_loss\", \"val_loss\", \"val_loss\", \"val_loss\", \"val_loss\", \"val_loss\", \"val_loss\", \"val_loss\", \"val_loss\", \"val_loss\", \"val_loss\", \"val_loss\", \"val_loss\", \"val_loss\", \"val_loss\", \"val_loss\", \"val_loss\", \"val_loss\", \"val_loss\", \"val_loss\", \"val_loss\", \"val_loss\", \"val_loss\", \"val_loss\", \"val_loss\", \"val_loss\", \"val_loss\", \"val_loss\", \"val_loss\", \"val_loss\", \"val_loss\", \"val_loss\", \"val_loss\", \"val_loss\", \"val_loss\", \"val_loss\", \"val_loss\", \"val_loss\", \"val_loss\", \"val_loss\", \"val_loss\", \"val_loss\", \"val_loss\", \"val_loss\", \"val_loss\", \"val_loss\", \"val_loss\", \"val_loss\", \"val_loss\", \"val_loss\", \"val_loss\", \"val_loss\", \"val_loss\", \"val_loss\", \"val_loss\", \"val_loss\", \"val_loss\", \"val_loss\", \"val_loss\", \"val_loss\", \"val_loss\", \"val_loss\", \"val_loss\", \"val_loss\", \"val_loss\", \"val_loss\", \"val_loss\", \"val_loss\", \"val_loss\", \"val_loss\", \"val_loss\", \"val_loss\", \"val_loss\", \"val_loss\", \"val_loss\", \"val_loss\", \"val_loss\", \"val_loss\", \"val_loss\", \"val_loss\", \"val_loss\", \"val_loss\", \"val_loss\", \"val_loss\", \"val_loss\", \"val_loss\", \"val_loss\", \"val_loss\", \"val_loss\", \"val_loss\", \"val_loss\", \"val_loss\", \"val_loss\", \"val_loss\", \"val_loss\"], \"legendgroup\": \"val_loss\", \"line\": {\"color\": \"#ab63fa\", \"dash\": \"solid\"}, \"mode\": \"lines\", \"name\": \"val_loss\", \"orientation\": \"v\", \"showlegend\": true, \"type\": \"scatter\", \"x\": [0, 1, 2, 3, 4, 5, 6, 7, 8, 9, 10, 11, 12, 13, 14, 15, 16, 17, 18, 19, 20, 21, 22, 23, 24, 25, 26, 27, 28, 29, 30, 31, 32, 33, 34, 35, 36, 37, 38, 39, 40, 41, 42, 43, 44, 45, 46, 47, 48, 49, 50, 51, 52, 53, 54, 55, 56, 57, 58, 59, 60, 61, 62, 63, 64, 65, 66, 67, 68, 69, 70, 71, 72, 73, 74, 75, 76, 77, 78, 79, 80, 81, 82, 83, 84, 85, 86, 87, 88, 89, 90, 91, 92, 93, 94, 95, 96, 97, 98, 99, 100, 101, 102, 103, 104, 105, 106, 107, 108, 109, 110, 111, 112, 113, 114, 115, 116, 117, 118, 119, 120, 121, 122, 123, 124, 125, 126, 127, 128, 129, 130, 131, 132, 133, 134, 135, 136, 137, 138, 139, 140, 141, 142, 143, 144, 145, 146, 147, 148, 149, 150, 151, 152, 153, 154, 155, 156, 157, 158, 159, 160, 161, 162, 163, 164, 165, 166, 167, 168, 169, 170, 171, 172, 173, 174, 175, 176, 177, 178, 179, 180, 181, 182, 183, 184, 185, 186, 187, 188, 189, 190, 191, 192, 193, 194, 195, 196, 197, 198, 199], \"xaxis\": \"x\", \"y\": [0.6754143238067627, 0.6647217273712158, 0.6610112190246582, 0.6606602668762207, 0.6607198715209961, 0.6608767509460449, 0.6602576375007629, 0.6566777229309082, 0.653320848941803, 0.6582126021385193, 0.6606270670890808, 0.6548311710357666, 0.6471878290176392, 0.6445353031158447, 0.6480586528778076, 0.6632583141326904, 0.6381313800811768, 0.6353325247764587, 0.6550107598304749, 0.6511714458465576, 0.6285555362701416, 0.6234948635101318, 0.629345715045929, 0.6209830045700073, 0.6104346513748169, 0.6114369034767151, 0.6190158128738403, 0.6062268018722534, 0.6080190539360046, 0.6066427230834961, 0.5983587503433228, 0.605224072933197, 0.6232457160949707, 0.5965354442596436, 0.5969183444976807, 0.6090839505195618, 0.6007450819015503, 0.5952996611595154, 0.6052146553993225, 0.6067824363708496, 0.5934125185012817, 0.5937496423721313, 0.60202556848526, 0.5984147191047668, 0.5896127820014954, 0.5915027260780334, 0.5970132350921631, 0.6008020639419556, 0.5872677564620972, 0.5918124914169312, 0.594377338886261, 0.588853657245636, 0.6044290065765381, 0.5936163067817688, 0.5945858359336853, 0.5948569178581238, 0.593268096446991, 0.5960068702697754, 0.5958425402641296, 0.601655125617981, 0.5926225185394287, 0.5905611515045166, 0.5982616543769836, 0.5965770483016968, 0.5881468057632446, 0.5912511348724365, 0.5917257070541382, 0.5903702974319458, 0.5911273956298828, 0.5912149548530579, 0.5911282300949097, 0.5940412282943726, 0.5890910029411316, 0.5947210788726807, 0.5925837755203247, 0.5896437168121338, 0.5895823240280151, 0.6092213988304138, 0.5885093212127686, 0.5867661833763123, 0.5884474515914917, 0.6011897325515747, 0.5878804922103882, 0.5881643295288086, 0.6059444546699524, 0.5885761380195618, 0.5895771384239197, 0.5916647911071777, 0.5991587042808533, 0.5880618095397949, 0.5875973105430603, 0.5893190503120422, 0.590557873249054, 0.595185399055481, 0.5886738300323486, 0.5886492729187012, 0.5961778163909912, 0.5958740711212158, 0.589584231376648, 0.5896779894828796, 0.5906959176063538, 0.5911712646484375, 0.6043068170547485, 0.5907959342002869, 0.5895549654960632, 0.597321629524231, 0.5893554091453552, 0.5881349444389343, 0.5883170366287231, 0.587300181388855, 0.5912145376205444, 0.5935846567153931, 0.6004946827888489, 0.5955365896224976, 0.5928096175193787, 0.5916980504989624, 0.5925576686859131, 0.5928003787994385, 0.5936973690986633, 0.5939939618110657, 0.5860670804977417, 0.5845201015472412, 0.5985298752784729, 0.593064546585083, 0.5985962152481079, 0.5997835397720337, 0.5990958213806152, 0.5937396883964539, 0.5930940508842468, 0.5904609560966492, 0.5907208919525146, 0.5902082324028015, 0.5921399593353271, 0.5954784154891968, 0.5975768566131592, 0.5944934487342834, 0.5954425930976868, 0.5948086977005005, 0.5908372402191162, 0.5980746150016785, 0.589601457118988, 0.5921405553817749, 0.5908237099647522, 0.5929237008094788, 0.5975499749183655, 0.6038094758987427, 0.6001854538917542, 0.5998049974441528, 0.5910312533378601, 0.5927931666374207, 0.6023562550544739, 0.5935214161872864, 0.6006433367729187, 0.6155768632888794, 0.6166670918464661, 0.6120495200157166, 0.6248233318328857, 0.6155072450637817, 0.6241326928138733, 0.6119809746742249, 0.6262193322181702, 0.6498212218284607, 0.5923399329185486, 0.5907576680183411, 0.6052747964859009, 0.635769784450531, 0.6332758069038391, 0.5986989736557007, 0.5852888822555542, 0.5873186588287354, 0.5856268405914307, 0.5915452837944031, 0.5941007137298584, 0.6102464199066162, 0.6251949667930603, 0.6239888668060303, 0.6081091165542603, 0.5939651131629944, 0.5899328589439392, 0.5954110026359558, 0.6244025826454163, 0.6653236746788025, 0.6283214092254639, 0.6025897860527039, 0.5934902429580688, 0.6014280319213867, 0.6184823513031006, 0.6502792835235596, 0.6556236743927002, 0.63648521900177, 0.6298649311065674, 0.6336430907249451, 0.6282851696014404, 0.6366045475006104, 0.6360780000686646, 0.6395809650421143, 0.6591723561286926, 0.65064936876297, 0.6458007097244263, 0.6478388905525208], \"yaxis\": \"y\"}],\n",
       "                        {\"legend\": {\"title\": {\"text\": \"metric\"}, \"tracegroupgap\": 0}, \"margin\": {\"t\": 60}, \"template\": {\"data\": {\"bar\": [{\"error_x\": {\"color\": \"#2a3f5f\"}, \"error_y\": {\"color\": \"#2a3f5f\"}, \"marker\": {\"line\": {\"color\": \"#E5ECF6\", \"width\": 0.5}}, \"type\": \"bar\"}], \"barpolar\": [{\"marker\": {\"line\": {\"color\": \"#E5ECF6\", \"width\": 0.5}}, \"type\": \"barpolar\"}], \"carpet\": [{\"aaxis\": {\"endlinecolor\": \"#2a3f5f\", \"gridcolor\": \"white\", \"linecolor\": \"white\", \"minorgridcolor\": \"white\", \"startlinecolor\": \"#2a3f5f\"}, \"baxis\": {\"endlinecolor\": \"#2a3f5f\", \"gridcolor\": \"white\", \"linecolor\": \"white\", \"minorgridcolor\": \"white\", \"startlinecolor\": \"#2a3f5f\"}, \"type\": \"carpet\"}], \"choropleth\": [{\"colorbar\": {\"outlinewidth\": 0, \"ticks\": \"\"}, \"type\": \"choropleth\"}], \"contour\": [{\"colorbar\": {\"outlinewidth\": 0, \"ticks\": \"\"}, \"colorscale\": [[0.0, \"#0d0887\"], [0.1111111111111111, \"#46039f\"], [0.2222222222222222, \"#7201a8\"], [0.3333333333333333, \"#9c179e\"], [0.4444444444444444, \"#bd3786\"], [0.5555555555555556, \"#d8576b\"], [0.6666666666666666, \"#ed7953\"], [0.7777777777777778, \"#fb9f3a\"], [0.8888888888888888, \"#fdca26\"], [1.0, \"#f0f921\"]], \"type\": \"contour\"}], \"contourcarpet\": [{\"colorbar\": {\"outlinewidth\": 0, \"ticks\": \"\"}, \"type\": \"contourcarpet\"}], \"heatmap\": [{\"colorbar\": {\"outlinewidth\": 0, \"ticks\": \"\"}, \"colorscale\": [[0.0, \"#0d0887\"], [0.1111111111111111, \"#46039f\"], [0.2222222222222222, \"#7201a8\"], [0.3333333333333333, \"#9c179e\"], [0.4444444444444444, \"#bd3786\"], [0.5555555555555556, \"#d8576b\"], [0.6666666666666666, \"#ed7953\"], [0.7777777777777778, \"#fb9f3a\"], [0.8888888888888888, \"#fdca26\"], [1.0, \"#f0f921\"]], \"type\": \"heatmap\"}], \"heatmapgl\": [{\"colorbar\": {\"outlinewidth\": 0, \"ticks\": \"\"}, \"colorscale\": [[0.0, \"#0d0887\"], [0.1111111111111111, \"#46039f\"], [0.2222222222222222, \"#7201a8\"], [0.3333333333333333, \"#9c179e\"], [0.4444444444444444, \"#bd3786\"], [0.5555555555555556, \"#d8576b\"], [0.6666666666666666, \"#ed7953\"], [0.7777777777777778, \"#fb9f3a\"], [0.8888888888888888, \"#fdca26\"], [1.0, \"#f0f921\"]], \"type\": \"heatmapgl\"}], \"histogram\": [{\"marker\": {\"colorbar\": {\"outlinewidth\": 0, \"ticks\": \"\"}}, \"type\": \"histogram\"}], \"histogram2d\": [{\"colorbar\": {\"outlinewidth\": 0, \"ticks\": \"\"}, \"colorscale\": [[0.0, \"#0d0887\"], [0.1111111111111111, \"#46039f\"], [0.2222222222222222, \"#7201a8\"], [0.3333333333333333, \"#9c179e\"], [0.4444444444444444, \"#bd3786\"], [0.5555555555555556, \"#d8576b\"], [0.6666666666666666, \"#ed7953\"], [0.7777777777777778, \"#fb9f3a\"], [0.8888888888888888, \"#fdca26\"], [1.0, \"#f0f921\"]], \"type\": \"histogram2d\"}], \"histogram2dcontour\": [{\"colorbar\": {\"outlinewidth\": 0, \"ticks\": \"\"}, \"colorscale\": [[0.0, \"#0d0887\"], [0.1111111111111111, \"#46039f\"], [0.2222222222222222, \"#7201a8\"], [0.3333333333333333, \"#9c179e\"], [0.4444444444444444, \"#bd3786\"], [0.5555555555555556, \"#d8576b\"], [0.6666666666666666, \"#ed7953\"], [0.7777777777777778, \"#fb9f3a\"], [0.8888888888888888, \"#fdca26\"], [1.0, \"#f0f921\"]], \"type\": \"histogram2dcontour\"}], \"mesh3d\": [{\"colorbar\": {\"outlinewidth\": 0, \"ticks\": \"\"}, \"type\": \"mesh3d\"}], \"parcoords\": [{\"line\": {\"colorbar\": {\"outlinewidth\": 0, \"ticks\": \"\"}}, \"type\": \"parcoords\"}], \"pie\": [{\"automargin\": true, \"type\": \"pie\"}], \"scatter\": [{\"marker\": {\"colorbar\": {\"outlinewidth\": 0, \"ticks\": \"\"}}, \"type\": \"scatter\"}], \"scatter3d\": [{\"line\": {\"colorbar\": {\"outlinewidth\": 0, \"ticks\": \"\"}}, \"marker\": {\"colorbar\": {\"outlinewidth\": 0, \"ticks\": \"\"}}, \"type\": \"scatter3d\"}], \"scattercarpet\": [{\"marker\": {\"colorbar\": {\"outlinewidth\": 0, \"ticks\": \"\"}}, \"type\": \"scattercarpet\"}], \"scattergeo\": [{\"marker\": {\"colorbar\": {\"outlinewidth\": 0, \"ticks\": \"\"}}, \"type\": \"scattergeo\"}], \"scattergl\": [{\"marker\": {\"colorbar\": {\"outlinewidth\": 0, \"ticks\": \"\"}}, \"type\": \"scattergl\"}], \"scattermapbox\": [{\"marker\": {\"colorbar\": {\"outlinewidth\": 0, \"ticks\": \"\"}}, \"type\": \"scattermapbox\"}], \"scatterpolar\": [{\"marker\": {\"colorbar\": {\"outlinewidth\": 0, \"ticks\": \"\"}}, \"type\": \"scatterpolar\"}], \"scatterpolargl\": [{\"marker\": {\"colorbar\": {\"outlinewidth\": 0, \"ticks\": \"\"}}, \"type\": \"scatterpolargl\"}], \"scatterternary\": [{\"marker\": {\"colorbar\": {\"outlinewidth\": 0, \"ticks\": \"\"}}, \"type\": \"scatterternary\"}], \"surface\": [{\"colorbar\": {\"outlinewidth\": 0, \"ticks\": \"\"}, \"colorscale\": [[0.0, \"#0d0887\"], [0.1111111111111111, \"#46039f\"], [0.2222222222222222, \"#7201a8\"], [0.3333333333333333, \"#9c179e\"], [0.4444444444444444, \"#bd3786\"], [0.5555555555555556, \"#d8576b\"], [0.6666666666666666, \"#ed7953\"], [0.7777777777777778, \"#fb9f3a\"], [0.8888888888888888, \"#fdca26\"], [1.0, \"#f0f921\"]], \"type\": \"surface\"}], \"table\": [{\"cells\": {\"fill\": {\"color\": \"#EBF0F8\"}, \"line\": {\"color\": \"white\"}}, \"header\": {\"fill\": {\"color\": \"#C8D4E3\"}, \"line\": {\"color\": \"white\"}}, \"type\": \"table\"}]}, \"layout\": {\"annotationdefaults\": {\"arrowcolor\": \"#2a3f5f\", \"arrowhead\": 0, \"arrowwidth\": 1}, \"coloraxis\": {\"colorbar\": {\"outlinewidth\": 0, \"ticks\": \"\"}}, \"colorscale\": {\"diverging\": [[0, \"#8e0152\"], [0.1, \"#c51b7d\"], [0.2, \"#de77ae\"], [0.3, \"#f1b6da\"], [0.4, \"#fde0ef\"], [0.5, \"#f7f7f7\"], [0.6, \"#e6f5d0\"], [0.7, \"#b8e186\"], [0.8, \"#7fbc41\"], [0.9, \"#4d9221\"], [1, \"#276419\"]], \"sequential\": [[0.0, \"#0d0887\"], [0.1111111111111111, \"#46039f\"], [0.2222222222222222, \"#7201a8\"], [0.3333333333333333, \"#9c179e\"], [0.4444444444444444, \"#bd3786\"], [0.5555555555555556, \"#d8576b\"], [0.6666666666666666, \"#ed7953\"], [0.7777777777777778, \"#fb9f3a\"], [0.8888888888888888, \"#fdca26\"], [1.0, \"#f0f921\"]], \"sequentialminus\": [[0.0, \"#0d0887\"], [0.1111111111111111, \"#46039f\"], [0.2222222222222222, \"#7201a8\"], [0.3333333333333333, \"#9c179e\"], [0.4444444444444444, \"#bd3786\"], [0.5555555555555556, \"#d8576b\"], [0.6666666666666666, \"#ed7953\"], [0.7777777777777778, \"#fb9f3a\"], [0.8888888888888888, \"#fdca26\"], [1.0, \"#f0f921\"]]}, \"colorway\": [\"#636efa\", \"#EF553B\", \"#00cc96\", \"#ab63fa\", \"#FFA15A\", \"#19d3f3\", \"#FF6692\", \"#B6E880\", \"#FF97FF\", \"#FECB52\"], \"font\": {\"color\": \"#2a3f5f\"}, \"geo\": {\"bgcolor\": \"white\", \"lakecolor\": \"white\", \"landcolor\": \"#E5ECF6\", \"showlakes\": true, \"showland\": true, \"subunitcolor\": \"white\"}, \"hoverlabel\": {\"align\": \"left\"}, \"hovermode\": \"closest\", \"mapbox\": {\"style\": \"light\"}, \"paper_bgcolor\": \"white\", \"plot_bgcolor\": \"#E5ECF6\", \"polar\": {\"angularaxis\": {\"gridcolor\": \"white\", \"linecolor\": \"white\", \"ticks\": \"\"}, \"bgcolor\": \"#E5ECF6\", \"radialaxis\": {\"gridcolor\": \"white\", \"linecolor\": \"white\", \"ticks\": \"\"}}, \"scene\": {\"xaxis\": {\"backgroundcolor\": \"#E5ECF6\", \"gridcolor\": \"white\", \"gridwidth\": 2, \"linecolor\": \"white\", \"showbackground\": true, \"ticks\": \"\", \"zerolinecolor\": \"white\"}, \"yaxis\": {\"backgroundcolor\": \"#E5ECF6\", \"gridcolor\": \"white\", \"gridwidth\": 2, \"linecolor\": \"white\", \"showbackground\": true, \"ticks\": \"\", \"zerolinecolor\": \"white\"}, \"zaxis\": {\"backgroundcolor\": \"#E5ECF6\", \"gridcolor\": \"white\", \"gridwidth\": 2, \"linecolor\": \"white\", \"showbackground\": true, \"ticks\": \"\", \"zerolinecolor\": \"white\"}}, \"shapedefaults\": {\"line\": {\"color\": \"#2a3f5f\"}}, \"ternary\": {\"aaxis\": {\"gridcolor\": \"white\", \"linecolor\": \"white\", \"ticks\": \"\"}, \"baxis\": {\"gridcolor\": \"white\", \"linecolor\": \"white\", \"ticks\": \"\"}, \"bgcolor\": \"#E5ECF6\", \"caxis\": {\"gridcolor\": \"white\", \"linecolor\": \"white\", \"ticks\": \"\"}}, \"title\": {\"x\": 0.05}, \"xaxis\": {\"automargin\": true, \"gridcolor\": \"white\", \"linecolor\": \"white\", \"ticks\": \"\", \"title\": {\"standoff\": 15}, \"zerolinecolor\": \"white\", \"zerolinewidth\": 2}, \"yaxis\": {\"automargin\": true, \"gridcolor\": \"white\", \"linecolor\": \"white\", \"ticks\": \"\", \"title\": {\"standoff\": 15}, \"zerolinecolor\": \"white\", \"zerolinewidth\": 2}}}, \"xaxis\": {\"anchor\": \"y\", \"domain\": [0.0, 1.0], \"title\": {\"text\": \"epochs\"}}, \"yaxis\": {\"anchor\": \"x\", \"domain\": [0.0, 1.0], \"title\": {\"text\": \"values\"}}},\n",
       "                        {\"responsive\": true}\n",
       "                    ).then(function(){\n",
       "                            \n",
       "var gd = document.getElementById('232c6ff1-c11c-4601-9892-151b3ad284ff');\n",
       "var x = new MutationObserver(function (mutations, observer) {{\n",
       "        var display = window.getComputedStyle(gd).display;\n",
       "        if (!display || display === 'none') {{\n",
       "            console.log([gd, 'removed!']);\n",
       "            Plotly.purge(gd);\n",
       "            observer.disconnect();\n",
       "        }}\n",
       "}});\n",
       "\n",
       "// Listen for the removal of the full notebook cells\n",
       "var notebookContainer = gd.closest('#notebook-container');\n",
       "if (notebookContainer) {{\n",
       "    x.observe(notebookContainer, {childList: true});\n",
       "}}\n",
       "\n",
       "// Listen for the clearing of the current output cell\n",
       "var outputEl = gd.closest('.output');\n",
       "if (outputEl) {{\n",
       "    x.observe(outputEl, {childList: true});\n",
       "}}\n",
       "\n",
       "                        })\n",
       "                };\n",
       "                });\n",
       "            </script>\n",
       "        </div>"
      ]
     },
     "metadata": {},
     "output_type": "display_data"
    }
   ],
   "source": [
    "ico_training.train_network(loss='binary_crossentropy',\n",
    "        optimizer='adam',\n",
    "        metrics=['accuracy'],#, Recall()],\n",
    "        epochs=200,\n",
    "        verbose=0,\n",
    "        batch_size=64,\n",
    "        callback=earlystop)\n",
    "ico_training.plot_training()"
   ]
  },
  {
   "cell_type": "code",
   "execution_count": null,
   "metadata": {},
   "outputs": [],
   "source": []
  }
 ],
 "metadata": {
  "kernelspec": {
   "display_name": "time_series",
   "language": "python",
   "name": "time_series"
  },
  "language_info": {
   "codemirror_mode": {
    "name": "ipython",
    "version": 3
   },
   "file_extension": ".py",
   "mimetype": "text/x-python",
   "name": "python",
   "nbconvert_exporter": "python",
   "pygments_lexer": "ipython3",
   "version": "3.8.3"
  }
 },
 "nbformat": 4,
 "nbformat_minor": 4
}
