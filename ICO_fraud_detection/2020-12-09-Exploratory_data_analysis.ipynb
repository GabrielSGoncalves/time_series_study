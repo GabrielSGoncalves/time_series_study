{
 "cells": [
  {
   "cell_type": "markdown",
   "metadata": {},
   "source": [
    "# Exploratory Data Analysis for ICO Fraud Detection Project"
   ]
  },
  {
   "cell_type": "markdown",
   "metadata": {},
   "source": [
    "## 1. File with information about ICO"
   ]
  },
  {
   "cell_type": "code",
   "execution_count": 4,
   "metadata": {},
   "outputs": [],
   "source": [
    "import pandas as pd\n",
    "import os\n",
    "import re\n",
    "import pytz\n",
    "from datetime import datetime, timedelta\n",
    "import plotly.graph_objects as go\n",
    "import pickle\n",
    "from ico_parser import ICOParser\n",
    "\n",
    "#pd.options.plotting.backend = \"plotly\""
   ]
  },
  {
   "cell_type": "code",
   "execution_count": 5,
   "metadata": {},
   "outputs": [],
   "source": [
    "df_info = pd.read_csv('lista_ico_2020-08-17_tab3.csv', sep=',')\n",
    "df_info.set_index('ico',inplace=True)\n",
    "df_info.market_start_date = pd.to_datetime(df_info.market_start_date)"
   ]
  },
  {
   "cell_type": "code",
   "execution_count": 6,
   "metadata": {},
   "outputs": [
    {
     "data": {
      "text/html": [
       "<div>\n",
       "<style scoped>\n",
       "    .dataframe tbody tr th:only-of-type {\n",
       "        vertical-align: middle;\n",
       "    }\n",
       "\n",
       "    .dataframe tbody tr th {\n",
       "        vertical-align: top;\n",
       "    }\n",
       "\n",
       "    .dataframe thead th {\n",
       "        text-align: right;\n",
       "    }\n",
       "</style>\n",
       "<table border=\"1\" class=\"dataframe\">\n",
       "  <thead>\n",
       "    <tr style=\"text-align: right;\">\n",
       "      <th></th>\n",
       "      <th>adress</th>\n",
       "      <th>fraud</th>\n",
       "      <th>start_date</th>\n",
       "      <th>market_start_date</th>\n",
       "      <th>diff_days</th>\n",
       "      <th>market_days</th>\n",
       "      <th>size_ok</th>\n",
       "      <th>price</th>\n",
       "      <th>market_cap</th>\n",
       "      <th>o_concur</th>\n",
       "      <th>biggest_holder</th>\n",
       "      <th>exchange</th>\n",
       "      <th>contract</th>\n",
       "      <th>date_analysis</th>\n",
       "      <th>code</th>\n",
       "      <th>site</th>\n",
       "      <th>social_media</th>\n",
       "    </tr>\n",
       "    <tr>\n",
       "      <th>ico</th>\n",
       "      <th></th>\n",
       "      <th></th>\n",
       "      <th></th>\n",
       "      <th></th>\n",
       "      <th></th>\n",
       "      <th></th>\n",
       "      <th></th>\n",
       "      <th></th>\n",
       "      <th></th>\n",
       "      <th></th>\n",
       "      <th></th>\n",
       "      <th></th>\n",
       "      <th></th>\n",
       "      <th></th>\n",
       "      <th></th>\n",
       "      <th></th>\n",
       "      <th></th>\n",
       "    </tr>\n",
       "  </thead>\n",
       "  <tbody>\n",
       "    <tr>\n",
       "      <th>0X</th>\n",
       "      <td>0xe41d2489571d322189246dafa5ebde1f4699f498</td>\n",
       "      <td>0</td>\n",
       "      <td>2017-08-11</td>\n",
       "      <td>2017-08-15</td>\n",
       "      <td>4</td>\n",
       "      <td>1124</td>\n",
       "      <td>NaN</td>\n",
       "      <td>NaN</td>\n",
       "      <td>45.0</td>\n",
       "      <td>x</td>\n",
       "      <td>2</td>\n",
       "      <td>6</td>\n",
       "      <td>14</td>\n",
       "      <td>2018-02-11</td>\n",
       "      <td>NaN</td>\n",
       "      <td>NaN</td>\n",
       "      <td>NaN</td>\n",
       "    </tr>\n",
       "    <tr>\n",
       "      <th>0XCERT</th>\n",
       "      <td>0x83e2be8d114f9661221384b3a50d24b96a5653f5</td>\n",
       "      <td>1</td>\n",
       "      <td>2018-06-26</td>\n",
       "      <td>2018-07-11</td>\n",
       "      <td>15</td>\n",
       "      <td>794</td>\n",
       "      <td>x</td>\n",
       "      <td>NaN</td>\n",
       "      <td>NaN</td>\n",
       "      <td>NaN</td>\n",
       "      <td>12</td>\n",
       "      <td>2</td>\n",
       "      <td>0</td>\n",
       "      <td>2019-01-07</td>\n",
       "      <td>x</td>\n",
       "      <td>x</td>\n",
       "      <td>x</td>\n",
       "    </tr>\n",
       "    <tr>\n",
       "      <th>4NEW</th>\n",
       "      <td>0x241ba672574a78a3a604cdd0a94429a73a84a324</td>\n",
       "      <td>1</td>\n",
       "      <td>2018-08-20</td>\n",
       "      <td>2018-08-20</td>\n",
       "      <td>0</td>\n",
       "      <td>754</td>\n",
       "      <td>x</td>\n",
       "      <td>NaN</td>\n",
       "      <td>NaN</td>\n",
       "      <td>NaN</td>\n",
       "      <td>50</td>\n",
       "      <td>7</td>\n",
       "      <td>0</td>\n",
       "      <td>2019-02-16</td>\n",
       "      <td>x</td>\n",
       "      <td>NaN</td>\n",
       "      <td>NaN</td>\n",
       "    </tr>\n",
       "    <tr>\n",
       "      <th>ABULABA</th>\n",
       "      <td>0xd938137e6d96c72e4a6085412ada2dad78ff89c4</td>\n",
       "      <td>1</td>\n",
       "      <td>2018-04-19</td>\n",
       "      <td>2018-12-16</td>\n",
       "      <td>241</td>\n",
       "      <td>636</td>\n",
       "      <td>NaN</td>\n",
       "      <td>x</td>\n",
       "      <td>NaN</td>\n",
       "      <td>NaN</td>\n",
       "      <td>13</td>\n",
       "      <td>7</td>\n",
       "      <td>41</td>\n",
       "      <td>2019-06-14</td>\n",
       "      <td>x</td>\n",
       "      <td>NaN</td>\n",
       "      <td>NaN</td>\n",
       "    </tr>\n",
       "    <tr>\n",
       "      <th>AELF</th>\n",
       "      <td>0xbf2179859fc6d5bee9bf9158632dc51678a4100e</td>\n",
       "      <td>0</td>\n",
       "      <td>2017-12-18</td>\n",
       "      <td>2017-12-21</td>\n",
       "      <td>3</td>\n",
       "      <td>996</td>\n",
       "      <td>NaN</td>\n",
       "      <td>NaN</td>\n",
       "      <td>154.0</td>\n",
       "      <td>x</td>\n",
       "      <td>13</td>\n",
       "      <td>10</td>\n",
       "      <td>0</td>\n",
       "      <td>2018-06-19</td>\n",
       "      <td>NaN</td>\n",
       "      <td>NaN</td>\n",
       "      <td>NaN</td>\n",
       "    </tr>\n",
       "  </tbody>\n",
       "</table>\n",
       "</div>"
      ],
      "text/plain": [
       "                                             adress  fraud  start_date  \\\n",
       "ico                                                                      \n",
       "0X       0xe41d2489571d322189246dafa5ebde1f4699f498      0  2017-08-11   \n",
       "0XCERT   0x83e2be8d114f9661221384b3a50d24b96a5653f5      1  2018-06-26   \n",
       "4NEW     0x241ba672574a78a3a604cdd0a94429a73a84a324      1  2018-08-20   \n",
       "ABULABA  0xd938137e6d96c72e4a6085412ada2dad78ff89c4      1  2018-04-19   \n",
       "AELF     0xbf2179859fc6d5bee9bf9158632dc51678a4100e      0  2017-12-18   \n",
       "\n",
       "        market_start_date  diff_days  market_days size_ok price  market_cap  \\\n",
       "ico                                                                           \n",
       "0X             2017-08-15          4         1124     NaN   NaN        45.0   \n",
       "0XCERT         2018-07-11         15          794       x   NaN         NaN   \n",
       "4NEW           2018-08-20          0          754       x   NaN         NaN   \n",
       "ABULABA        2018-12-16        241          636     NaN     x         NaN   \n",
       "AELF           2017-12-21          3          996     NaN   NaN       154.0   \n",
       "\n",
       "        o_concur  biggest_holder  exchange  contract date_analysis code site  \\\n",
       "ico                                                                            \n",
       "0X             x               2         6        14    2018-02-11  NaN  NaN   \n",
       "0XCERT       NaN              12         2         0    2019-01-07    x    x   \n",
       "4NEW         NaN              50         7         0    2019-02-16    x  NaN   \n",
       "ABULABA      NaN              13         7        41    2019-06-14    x  NaN   \n",
       "AELF           x              13        10         0    2018-06-19  NaN  NaN   \n",
       "\n",
       "        social_media  \n",
       "ico                   \n",
       "0X               NaN  \n",
       "0XCERT             x  \n",
       "4NEW             NaN  \n",
       "ABULABA          NaN  \n",
       "AELF             NaN  "
      ]
     },
     "execution_count": 6,
     "metadata": {},
     "output_type": "execute_result"
    }
   ],
   "source": [
    "df_info.head()"
   ]
  },
  {
   "cell_type": "markdown",
   "metadata": {},
   "source": [
    "## 2. Extracting the data"
   ]
  },
  {
   "cell_type": "code",
   "execution_count": 7,
   "metadata": {},
   "outputs": [],
   "source": [
    "path_to_csvs = '/home/gabriel/Documents/Repos/time_series_study/data_and_models/all_icos/'\n",
    "list_icos = df_info.index.to_list()"
   ]
  },
  {
   "cell_type": "code",
   "execution_count": null,
   "metadata": {},
   "outputs": [],
   "source": [
    "%%time\n",
    "list_values = []\n",
    "for ico in list_icos:\n",
    "    #print(ico)\n",
    "    ico_csv= f'{path_to_csvs}{ico}.csv'\n",
    "    is_fraud = df_info.at[ ico, 'fraud']\n",
    "    try:\n",
    "        df_current_ico = pd.read_csv(ico_csv)\n",
    "        number_transactions = df_current_ico.shape[0] \n",
    "        list_values.append([ico,\n",
    "                           number_transactions,\n",
    "                           df_current_ico.RECEIPT_GAS_USED.astype(float).sum()/number_transactions,\n",
    "                           df_current_ico.GAS.astype(float).sum()/number_transactions,\n",
    "                           len(df_current_ico.FROM_ADDRESS.unique())/number_transactions,\n",
    "                           len(df_current_ico.TO_ADDRESS.unique())/number_transactions,\n",
    "                           is_fraud]\n",
    "                           )\n",
    "    except FileNotFoundError:\n",
    "        print(f'Error on ICO: {ico}')\n",
    "    \n",
    "    "
   ]
  },
  {
   "cell_type": "code",
   "execution_count": null,
   "metadata": {},
   "outputs": [],
   "source": [
    "df_eda = pd.DataFrame(list_values, columns=['ico', \n",
    "                                   'Número de Transações', \n",
    "                                   'Média Gas Receipt', \n",
    "                                   'Média Gas',\n",
    "                                   'Média From Adress',\n",
    "                                   'Média To Address',\n",
    "                                   'Fraude'])\n",
    "df_eda.head()"
   ]
  },
  {
   "cell_type": "markdown",
   "metadata": {},
   "source": [
    "## 2. Visual exploration of data"
   ]
  },
  {
   "cell_type": "markdown",
   "metadata": {},
   "source": [
    "### 2.1. Boxplot - Total transactions"
   ]
  },
  {
   "cell_type": "code",
   "execution_count": null,
   "metadata": {},
   "outputs": [],
   "source": [
    "import plotly.express as px\n",
    "fig = px.box(df_eda, x=\"Fraude\", y=\"Número de Transações\", points=\"all\", log_y=True, color='Fraude')\n",
    "fig.show()"
   ]
  },
  {
   "cell_type": "markdown",
   "metadata": {},
   "source": [
    "### 2.2. Boxplot - Média Gas Receipt"
   ]
  },
  {
   "cell_type": "code",
   "execution_count": 8,
   "metadata": {},
   "outputs": [
    {
     "data": {
      "application/vnd.plotly.v1+json": {
       "config": {
        "plotlyServerURL": "https://plot.ly"
       },
       "data": [
        {
         "alignmentgroup": "True",
         "boxpoints": "all",
         "hovertemplate": "Fraude=%{x}<br>Média Gas Receipt=%{y}<extra></extra>",
         "legendgroup": "0",
         "marker": {
          "color": "#636efa"
         },
         "name": "0",
         "notched": false,
         "offsetgroup": "0",
         "orientation": "v",
         "showlegend": true,
         "type": "box",
         "x": [
          0,
          0,
          0,
          0,
          0,
          0,
          0,
          0,
          0,
          0,
          0,
          0,
          0,
          0,
          0,
          0,
          0,
          0,
          0,
          0,
          0,
          0,
          0,
          0,
          0,
          0,
          0,
          0,
          0,
          0,
          0,
          0,
          0,
          0,
          0,
          0,
          0,
          0,
          0,
          0,
          0,
          0,
          0,
          0,
          0,
          0,
          0,
          0,
          0,
          0,
          0,
          0,
          0,
          0,
          0,
          0,
          0,
          0,
          0,
          0,
          0,
          0,
          0,
          0,
          0,
          0,
          0,
          0,
          0,
          0,
          0,
          0,
          0,
          0,
          0,
          0,
          0,
          0,
          0,
          0,
          0,
          0,
          0,
          0,
          0,
          0,
          0,
          0,
          0,
          0,
          0,
          0,
          0,
          0,
          0,
          0,
          0,
          0,
          0,
          0,
          0,
          0,
          0,
          0,
          0
         ],
         "x0": " ",
         "xaxis": "x",
         "y": [
          58764.860460719436,
          1308478.0982248413,
          502342.79688098887,
          52893.677081072055,
          895701.8123627235,
          1703991.9219708708,
          52626.96788893772,
          45528.1241226499,
          679984.716411468,
          88907.4966379236,
          167631.08771029956,
          228261.84153266615,
          183110.1885723668,
          188414.96274376637,
          622575.9466935789,
          1074640.9821393061,
          2905267.422358058,
          72057.11728012952,
          324069.5259279231,
          41086.52084010664,
          99824.83047260757,
          43203.86629693158,
          324582.5229236221,
          1598063.966065951,
          363933.40718063235,
          46786.88775127981,
          45967.689873688716,
          43567.962870315874,
          42345.36794184519,
          39943.77221865279,
          78708.50756816045,
          1250758.4598455834,
          109842.02761193535,
          102494.84273844115,
          691744.1573770492,
          76736.20452298566,
          125000.66387689998,
          43832.87985733783,
          207126.85544853364,
          632333.8022635833,
          42256.37529057097,
          113411.99622965686,
          1195537.3452829837,
          57932.72270742358,
          992674.9877948696,
          43118.847074533856,
          560726.749734948,
          65220.146091717426,
          59595.663064833,
          57627.576743980106,
          2454108.8610807606,
          144149.4282655097,
          61814.00690853985,
          3320552.675929334,
          126586.48664429673,
          39585.423345195726,
          55351.249306749974,
          120790.79405411774,
          2430339.44861539,
          134501.18280089644,
          181330.9182072084,
          1039394.0818208867,
          1048749.6049566804,
          187522.2234219033,
          47787.61348044416,
          1351069.3711454617,
          58368.92532738925,
          52799.96987486482,
          87455.14426693351,
          172712.75684781017,
          1449125.778487955,
          40425.08371528714,
          40577.30210400953,
          99324.02158215526,
          40502.44211124491,
          148419.6650036955,
          79480.40452103595,
          59521.40411886038,
          52511.02107979828,
          62376.24937340367,
          48498.49617091773,
          105339.7779547063,
          254721.38699475935,
          3245617.7377135074,
          2426968.1426820727,
          66064.92924639338,
          168876.67646966904,
          94877.81014927464,
          43932.24291138218,
          55670.36902518417,
          2635271.5752007007,
          102592.63901998605,
          534295.2966749058,
          379940.4137451123,
          40513.65712580234,
          98960.77449107022,
          61522.962102125544,
          44198.512838285635,
          758615.1528541226,
          43435.164328746745,
          470732.71201674646,
          38742.153860045146,
          89963.9908734132,
          45850.60658131177,
          47501.34042202609
         ],
         "y0": " ",
         "yaxis": "y"
        },
        {
         "alignmentgroup": "True",
         "boxpoints": "all",
         "hovertemplate": "Fraude=%{x}<br>Média Gas Receipt=%{y}<extra></extra>",
         "legendgroup": "1",
         "marker": {
          "color": "#EF553B"
         },
         "name": "1",
         "notched": false,
         "offsetgroup": "1",
         "orientation": "v",
         "showlegend": true,
         "type": "box",
         "x": [
          1,
          1,
          1,
          1,
          1,
          1,
          1,
          1,
          1,
          1,
          1,
          1,
          1,
          1,
          1,
          1,
          1,
          1,
          1,
          1,
          1,
          1,
          1,
          1,
          1,
          1,
          1,
          1,
          1,
          1,
          1,
          1,
          1,
          1,
          1,
          1,
          1,
          1,
          1,
          1,
          1,
          1,
          1,
          1,
          1,
          1,
          1,
          1,
          1,
          1,
          1,
          1,
          1,
          1,
          1,
          1,
          1,
          1,
          1,
          1,
          1,
          1,
          1,
          1,
          1,
          1,
          1,
          1,
          1,
          1,
          1,
          1,
          1,
          1,
          1,
          1,
          1,
          1,
          1,
          1,
          1,
          1,
          1,
          1,
          1,
          1,
          1,
          1,
          1,
          1,
          1,
          1,
          1,
          1,
          1,
          1,
          1,
          1,
          1,
          1,
          1,
          1,
          1,
          1,
          1,
          1,
          1,
          1,
          1,
          1,
          1,
          1,
          1,
          1,
          1,
          1,
          1,
          1,
          1,
          1,
          1,
          1,
          1,
          1,
          1,
          1,
          1,
          1,
          1,
          1,
          1,
          1,
          1,
          1,
          1,
          1,
          1,
          1,
          1,
          1,
          1,
          1,
          1,
          1,
          1,
          1,
          1,
          1,
          1
         ],
         "x0": " ",
         "xaxis": "x",
         "y": [
          57863.18070465831,
          1527678.9931746665,
          41090.39107736118,
          1582275.5930348844,
          1337861.7602787456,
          69463.68292682926,
          72432.1339585718,
          5529186.463995179,
          126826.50104946159,
          2325610.0117388116,
          75657.64811210588,
          121683.2239957902,
          41807.422429210135,
          53773.951756078735,
          546446.6956785282,
          2549870.242308864,
          42994.27968952135,
          50066.63778957529,
          2329252.6413615625,
          42006.041414647305,
          55165.1724137931,
          44412.84,
          776042.3009943045,
          40720.567307395635,
          37649.15244203256,
          1499612.369567505,
          47885.39621357158,
          44923.23365420678,
          132650.52159349204,
          180060.05965614348,
          45862.85391035017,
          90020.52891028482,
          1072559.2976077301,
          1339687.62358525,
          1251426.8954107286,
          6804251.720285261,
          42207.22567421791,
          41332.85481246125,
          44433.177077739994,
          1069629.050496102,
          100171.16176140193,
          58797.53769300636,
          764774.23709333,
          110305.2102535413,
          2907645.2423865753,
          49792.206896551725,
          608848.070122607,
          78863.64069000706,
          1315148.8158529066,
          1964231.1494818653,
          42100.25541125541,
          47341.13095196689,
          50178.170772717305,
          920230.7800451467,
          3629741.3473389354,
          43002.491228070176,
          268548.4124962087,
          40833.76674886971,
          2116263.9132331964,
          55043.78022953955,
          2150667.709135478,
          42634.951167728235,
          47013.378656380584,
          123349.00049868206,
          48226.188632246376,
          64871.62768361582,
          4310168.321340719,
          2698767.7909300537,
          46937.84646261916,
          6016976.006812796,
          44279.30822285233,
          4480723.095299145,
          717074.2590730735,
          271501.2504424331,
          102046.69065911848,
          51550.099640125954,
          2741701.897149938,
          3643172.0470035253,
          632726.9343783209,
          54828.630288989145,
          6641785.020162933,
          45360.439563830885,
          52439.015444015444,
          61594.21168483851,
          254261.10998376625,
          47628.604453176165,
          71613.06194690266,
          49873.558263013176,
          2535336.232293869,
          40607.97797496435,
          5473828.785227928,
          196159.00568521844,
          1801266.2599619667,
          239679.1954787234,
          1190380.7455274293,
          3356366.9201697446,
          99242.25436776146,
          48829.4442573257,
          122568.32804764427,
          3900888.2951726317,
          603351.2414860681,
          1776584.9242802882,
          42538.10858974359,
          570739.3025074764,
          119832.42144661739,
          370162.3338593098,
          3354191.1203058884,
          804760.6359829855,
          99293.20332959734,
          41732.027495598,
          1816485.9105571848,
          54429.08293460925,
          1371554.5628733928,
          1698228.4338579413,
          43938.72224934896,
          1459180.244740099,
          143941.21031583264,
          40892.84606079458,
          60525.228980322005,
          46266.60518528482,
          37644.755915084635,
          69486.02679534828,
          119096.15187783739,
          4529384.464530301,
          5259079.54544066,
          89293.86252107137,
          3608270.1457719924,
          2682584.354609929,
          216248.8450470393,
          37012.053987411586,
          63280.42700904992,
          60318.44651741294,
          110521.10349407814,
          52511.762459469195,
          2363940.793435605,
          6690405.517627036,
          2054712.264596981,
          79049.28028169014,
          2481187.716451052,
          76245.25450783328,
          75579.76924332898,
          48827.45288958849,
          1940170.619606599,
          47149.65841492703,
          104254.92424242424,
          68686.16594596738,
          68855.75521227652,
          5657279.230535615,
          48559.52506459948
         ],
         "y0": " ",
         "yaxis": "y"
        }
       ],
       "layout": {
        "autosize": true,
        "boxmode": "overlay",
        "legend": {
         "title": {
          "text": "Fraude"
         },
         "tracegroupgap": 0
        },
        "margin": {
         "t": 60
        },
        "template": {
         "data": {
          "bar": [
           {
            "error_x": {
             "color": "#2a3f5f"
            },
            "error_y": {
             "color": "#2a3f5f"
            },
            "marker": {
             "line": {
              "color": "#E5ECF6",
              "width": 0.5
             }
            },
            "type": "bar"
           }
          ],
          "barpolar": [
           {
            "marker": {
             "line": {
              "color": "#E5ECF6",
              "width": 0.5
             }
            },
            "type": "barpolar"
           }
          ],
          "carpet": [
           {
            "aaxis": {
             "endlinecolor": "#2a3f5f",
             "gridcolor": "white",
             "linecolor": "white",
             "minorgridcolor": "white",
             "startlinecolor": "#2a3f5f"
            },
            "baxis": {
             "endlinecolor": "#2a3f5f",
             "gridcolor": "white",
             "linecolor": "white",
             "minorgridcolor": "white",
             "startlinecolor": "#2a3f5f"
            },
            "type": "carpet"
           }
          ],
          "choropleth": [
           {
            "colorbar": {
             "outlinewidth": 0,
             "ticks": ""
            },
            "type": "choropleth"
           }
          ],
          "contour": [
           {
            "colorbar": {
             "outlinewidth": 0,
             "ticks": ""
            },
            "colorscale": [
             [
              0,
              "#0d0887"
             ],
             [
              0.1111111111111111,
              "#46039f"
             ],
             [
              0.2222222222222222,
              "#7201a8"
             ],
             [
              0.3333333333333333,
              "#9c179e"
             ],
             [
              0.4444444444444444,
              "#bd3786"
             ],
             [
              0.5555555555555556,
              "#d8576b"
             ],
             [
              0.6666666666666666,
              "#ed7953"
             ],
             [
              0.7777777777777778,
              "#fb9f3a"
             ],
             [
              0.8888888888888888,
              "#fdca26"
             ],
             [
              1,
              "#f0f921"
             ]
            ],
            "type": "contour"
           }
          ],
          "contourcarpet": [
           {
            "colorbar": {
             "outlinewidth": 0,
             "ticks": ""
            },
            "type": "contourcarpet"
           }
          ],
          "heatmap": [
           {
            "colorbar": {
             "outlinewidth": 0,
             "ticks": ""
            },
            "colorscale": [
             [
              0,
              "#0d0887"
             ],
             [
              0.1111111111111111,
              "#46039f"
             ],
             [
              0.2222222222222222,
              "#7201a8"
             ],
             [
              0.3333333333333333,
              "#9c179e"
             ],
             [
              0.4444444444444444,
              "#bd3786"
             ],
             [
              0.5555555555555556,
              "#d8576b"
             ],
             [
              0.6666666666666666,
              "#ed7953"
             ],
             [
              0.7777777777777778,
              "#fb9f3a"
             ],
             [
              0.8888888888888888,
              "#fdca26"
             ],
             [
              1,
              "#f0f921"
             ]
            ],
            "type": "heatmap"
           }
          ],
          "heatmapgl": [
           {
            "colorbar": {
             "outlinewidth": 0,
             "ticks": ""
            },
            "colorscale": [
             [
              0,
              "#0d0887"
             ],
             [
              0.1111111111111111,
              "#46039f"
             ],
             [
              0.2222222222222222,
              "#7201a8"
             ],
             [
              0.3333333333333333,
              "#9c179e"
             ],
             [
              0.4444444444444444,
              "#bd3786"
             ],
             [
              0.5555555555555556,
              "#d8576b"
             ],
             [
              0.6666666666666666,
              "#ed7953"
             ],
             [
              0.7777777777777778,
              "#fb9f3a"
             ],
             [
              0.8888888888888888,
              "#fdca26"
             ],
             [
              1,
              "#f0f921"
             ]
            ],
            "type": "heatmapgl"
           }
          ],
          "histogram": [
           {
            "marker": {
             "colorbar": {
              "outlinewidth": 0,
              "ticks": ""
             }
            },
            "type": "histogram"
           }
          ],
          "histogram2d": [
           {
            "colorbar": {
             "outlinewidth": 0,
             "ticks": ""
            },
            "colorscale": [
             [
              0,
              "#0d0887"
             ],
             [
              0.1111111111111111,
              "#46039f"
             ],
             [
              0.2222222222222222,
              "#7201a8"
             ],
             [
              0.3333333333333333,
              "#9c179e"
             ],
             [
              0.4444444444444444,
              "#bd3786"
             ],
             [
              0.5555555555555556,
              "#d8576b"
             ],
             [
              0.6666666666666666,
              "#ed7953"
             ],
             [
              0.7777777777777778,
              "#fb9f3a"
             ],
             [
              0.8888888888888888,
              "#fdca26"
             ],
             [
              1,
              "#f0f921"
             ]
            ],
            "type": "histogram2d"
           }
          ],
          "histogram2dcontour": [
           {
            "colorbar": {
             "outlinewidth": 0,
             "ticks": ""
            },
            "colorscale": [
             [
              0,
              "#0d0887"
             ],
             [
              0.1111111111111111,
              "#46039f"
             ],
             [
              0.2222222222222222,
              "#7201a8"
             ],
             [
              0.3333333333333333,
              "#9c179e"
             ],
             [
              0.4444444444444444,
              "#bd3786"
             ],
             [
              0.5555555555555556,
              "#d8576b"
             ],
             [
              0.6666666666666666,
              "#ed7953"
             ],
             [
              0.7777777777777778,
              "#fb9f3a"
             ],
             [
              0.8888888888888888,
              "#fdca26"
             ],
             [
              1,
              "#f0f921"
             ]
            ],
            "type": "histogram2dcontour"
           }
          ],
          "mesh3d": [
           {
            "colorbar": {
             "outlinewidth": 0,
             "ticks": ""
            },
            "type": "mesh3d"
           }
          ],
          "parcoords": [
           {
            "line": {
             "colorbar": {
              "outlinewidth": 0,
              "ticks": ""
             }
            },
            "type": "parcoords"
           }
          ],
          "pie": [
           {
            "automargin": true,
            "type": "pie"
           }
          ],
          "scatter": [
           {
            "marker": {
             "colorbar": {
              "outlinewidth": 0,
              "ticks": ""
             }
            },
            "type": "scatter"
           }
          ],
          "scatter3d": [
           {
            "line": {
             "colorbar": {
              "outlinewidth": 0,
              "ticks": ""
             }
            },
            "marker": {
             "colorbar": {
              "outlinewidth": 0,
              "ticks": ""
             }
            },
            "type": "scatter3d"
           }
          ],
          "scattercarpet": [
           {
            "marker": {
             "colorbar": {
              "outlinewidth": 0,
              "ticks": ""
             }
            },
            "type": "scattercarpet"
           }
          ],
          "scattergeo": [
           {
            "marker": {
             "colorbar": {
              "outlinewidth": 0,
              "ticks": ""
             }
            },
            "type": "scattergeo"
           }
          ],
          "scattergl": [
           {
            "marker": {
             "colorbar": {
              "outlinewidth": 0,
              "ticks": ""
             }
            },
            "type": "scattergl"
           }
          ],
          "scattermapbox": [
           {
            "marker": {
             "colorbar": {
              "outlinewidth": 0,
              "ticks": ""
             }
            },
            "type": "scattermapbox"
           }
          ],
          "scatterpolar": [
           {
            "marker": {
             "colorbar": {
              "outlinewidth": 0,
              "ticks": ""
             }
            },
            "type": "scatterpolar"
           }
          ],
          "scatterpolargl": [
           {
            "marker": {
             "colorbar": {
              "outlinewidth": 0,
              "ticks": ""
             }
            },
            "type": "scatterpolargl"
           }
          ],
          "scatterternary": [
           {
            "marker": {
             "colorbar": {
              "outlinewidth": 0,
              "ticks": ""
             }
            },
            "type": "scatterternary"
           }
          ],
          "surface": [
           {
            "colorbar": {
             "outlinewidth": 0,
             "ticks": ""
            },
            "colorscale": [
             [
              0,
              "#0d0887"
             ],
             [
              0.1111111111111111,
              "#46039f"
             ],
             [
              0.2222222222222222,
              "#7201a8"
             ],
             [
              0.3333333333333333,
              "#9c179e"
             ],
             [
              0.4444444444444444,
              "#bd3786"
             ],
             [
              0.5555555555555556,
              "#d8576b"
             ],
             [
              0.6666666666666666,
              "#ed7953"
             ],
             [
              0.7777777777777778,
              "#fb9f3a"
             ],
             [
              0.8888888888888888,
              "#fdca26"
             ],
             [
              1,
              "#f0f921"
             ]
            ],
            "type": "surface"
           }
          ],
          "table": [
           {
            "cells": {
             "fill": {
              "color": "#EBF0F8"
             },
             "line": {
              "color": "white"
             }
            },
            "header": {
             "fill": {
              "color": "#C8D4E3"
             },
             "line": {
              "color": "white"
             }
            },
            "type": "table"
           }
          ]
         },
         "layout": {
          "annotationdefaults": {
           "arrowcolor": "#2a3f5f",
           "arrowhead": 0,
           "arrowwidth": 1
          },
          "coloraxis": {
           "colorbar": {
            "outlinewidth": 0,
            "ticks": ""
           }
          },
          "colorscale": {
           "diverging": [
            [
             0,
             "#8e0152"
            ],
            [
             0.1,
             "#c51b7d"
            ],
            [
             0.2,
             "#de77ae"
            ],
            [
             0.3,
             "#f1b6da"
            ],
            [
             0.4,
             "#fde0ef"
            ],
            [
             0.5,
             "#f7f7f7"
            ],
            [
             0.6,
             "#e6f5d0"
            ],
            [
             0.7,
             "#b8e186"
            ],
            [
             0.8,
             "#7fbc41"
            ],
            [
             0.9,
             "#4d9221"
            ],
            [
             1,
             "#276419"
            ]
           ],
           "sequential": [
            [
             0,
             "#0d0887"
            ],
            [
             0.1111111111111111,
             "#46039f"
            ],
            [
             0.2222222222222222,
             "#7201a8"
            ],
            [
             0.3333333333333333,
             "#9c179e"
            ],
            [
             0.4444444444444444,
             "#bd3786"
            ],
            [
             0.5555555555555556,
             "#d8576b"
            ],
            [
             0.6666666666666666,
             "#ed7953"
            ],
            [
             0.7777777777777778,
             "#fb9f3a"
            ],
            [
             0.8888888888888888,
             "#fdca26"
            ],
            [
             1,
             "#f0f921"
            ]
           ],
           "sequentialminus": [
            [
             0,
             "#0d0887"
            ],
            [
             0.1111111111111111,
             "#46039f"
            ],
            [
             0.2222222222222222,
             "#7201a8"
            ],
            [
             0.3333333333333333,
             "#9c179e"
            ],
            [
             0.4444444444444444,
             "#bd3786"
            ],
            [
             0.5555555555555556,
             "#d8576b"
            ],
            [
             0.6666666666666666,
             "#ed7953"
            ],
            [
             0.7777777777777778,
             "#fb9f3a"
            ],
            [
             0.8888888888888888,
             "#fdca26"
            ],
            [
             1,
             "#f0f921"
            ]
           ]
          },
          "colorway": [
           "#636efa",
           "#EF553B",
           "#00cc96",
           "#ab63fa",
           "#FFA15A",
           "#19d3f3",
           "#FF6692",
           "#B6E880",
           "#FF97FF",
           "#FECB52"
          ],
          "font": {
           "color": "#2a3f5f"
          },
          "geo": {
           "bgcolor": "white",
           "lakecolor": "white",
           "landcolor": "#E5ECF6",
           "showlakes": true,
           "showland": true,
           "subunitcolor": "white"
          },
          "hoverlabel": {
           "align": "left"
          },
          "hovermode": "closest",
          "mapbox": {
           "style": "light"
          },
          "paper_bgcolor": "white",
          "plot_bgcolor": "#E5ECF6",
          "polar": {
           "angularaxis": {
            "gridcolor": "white",
            "linecolor": "white",
            "ticks": ""
           },
           "bgcolor": "#E5ECF6",
           "radialaxis": {
            "gridcolor": "white",
            "linecolor": "white",
            "ticks": ""
           }
          },
          "scene": {
           "xaxis": {
            "backgroundcolor": "#E5ECF6",
            "gridcolor": "white",
            "gridwidth": 2,
            "linecolor": "white",
            "showbackground": true,
            "ticks": "",
            "zerolinecolor": "white"
           },
           "yaxis": {
            "backgroundcolor": "#E5ECF6",
            "gridcolor": "white",
            "gridwidth": 2,
            "linecolor": "white",
            "showbackground": true,
            "ticks": "",
            "zerolinecolor": "white"
           },
           "zaxis": {
            "backgroundcolor": "#E5ECF6",
            "gridcolor": "white",
            "gridwidth": 2,
            "linecolor": "white",
            "showbackground": true,
            "ticks": "",
            "zerolinecolor": "white"
           }
          },
          "shapedefaults": {
           "line": {
            "color": "#2a3f5f"
           }
          },
          "ternary": {
           "aaxis": {
            "gridcolor": "white",
            "linecolor": "white",
            "ticks": ""
           },
           "baxis": {
            "gridcolor": "white",
            "linecolor": "white",
            "ticks": ""
           },
           "bgcolor": "#E5ECF6",
           "caxis": {
            "gridcolor": "white",
            "linecolor": "white",
            "ticks": ""
           }
          },
          "title": {
           "x": 0.05
          },
          "xaxis": {
           "automargin": true,
           "gridcolor": "white",
           "linecolor": "white",
           "ticks": "",
           "title": {
            "standoff": 15
           },
           "zerolinecolor": "white",
           "zerolinewidth": 2
          },
          "yaxis": {
           "automargin": true,
           "gridcolor": "white",
           "linecolor": "white",
           "ticks": "",
           "title": {
            "standoff": 15
           },
           "zerolinecolor": "white",
           "zerolinewidth": 2
          }
         }
        },
        "xaxis": {
         "anchor": "y",
         "autorange": true,
         "categoryarray": [
          0,
          1
         ],
         "categoryorder": "array",
         "domain": [
          0,
          1
         ],
         "range": [
          -0.5088495575221239,
          1.5
         ],
         "title": {
          "text": "Fraude"
         },
         "type": "linear"
        },
        "yaxis": {
         "anchor": "x",
         "autorange": true,
         "domain": [
          0,
          1
         ],
         "range": [
          4.442541121155096,
          6.958582437591993
         ],
         "title": {
          "text": "Média Gas Receipt"
         },
         "type": "log"
        }
       }
      },
      "image/png": "[encoded data removed]",
      "text/html": [
       "<div>\n",
       "        \n",
       "        \n",
       "            <div id=\"7c2cd7f3-90b2-494d-9e88-ec2b528cb353\" class=\"plotly-graph-div\" style=\"height:525px; width:100%;\"></div>\n",
       "            <script type=\"text/javascript\">\n",
       "                require([\"plotly\"], function(Plotly) {\n",
       "                    window.PLOTLYENV=window.PLOTLYENV || {};\n",
       "                    \n",
       "                if (document.getElementById(\"7c2cd7f3-90b2-494d-9e88-ec2b528cb353\")) {\n",
       "                    Plotly.newPlot(\n",
       "                        '7c2cd7f3-90b2-494d-9e88-ec2b528cb353',\n",
       "                        [{\"alignmentgroup\": \"True\", \"boxpoints\": \"all\", \"hovertemplate\": \"Fraude=%{x}<br>M\\u00e9dia Gas Receipt=%{y}<extra></extra>\", \"legendgroup\": \"0\", \"marker\": {\"color\": \"#636efa\"}, \"name\": \"0\", \"notched\": false, \"offsetgroup\": \"0\", \"orientation\": \"v\", \"showlegend\": true, \"type\": \"box\", \"x\": [0, 0, 0, 0, 0, 0, 0, 0, 0, 0, 0, 0, 0, 0, 0, 0, 0, 0, 0, 0, 0, 0, 0, 0, 0, 0, 0, 0, 0, 0, 0, 0, 0, 0, 0, 0, 0, 0, 0, 0, 0, 0, 0, 0, 0, 0, 0, 0, 0, 0, 0, 0, 0, 0, 0, 0, 0, 0, 0, 0, 0, 0, 0, 0, 0, 0, 0, 0, 0, 0, 0, 0, 0, 0, 0, 0, 0, 0, 0, 0, 0, 0, 0, 0, 0, 0, 0, 0, 0, 0, 0, 0, 0, 0, 0, 0, 0, 0, 0, 0, 0, 0, 0, 0, 0], \"x0\": \" \", \"xaxis\": \"x\", \"y\": [58764.860460719436, 1308478.0982248413, 502342.79688098887, 52893.677081072055, 895701.8123627235, 1703991.9219708708, 52626.96788893772, 45528.1241226499, 679984.716411468, 88907.4966379236, 167631.08771029956, 228261.84153266615, 183110.1885723668, 188414.96274376637, 622575.9466935789, 1074640.9821393061, 2905267.422358058, 72057.11728012952, 324069.5259279231, 41086.52084010664, 99824.83047260757, 43203.86629693158, 324582.5229236221, 1598063.966065951, 363933.40718063235, 46786.88775127981, 45967.689873688716, 43567.962870315874, 42345.36794184519, 39943.77221865279, 78708.50756816045, 1250758.4598455834, 109842.02761193535, 102494.84273844115, 691744.1573770492, 76736.20452298566, 125000.66387689998, 43832.87985733783, 207126.85544853364, 632333.8022635833, 42256.37529057097, 113411.99622965686, 1195537.3452829837, 57932.72270742358, 992674.9877948696, 43118.847074533856, 560726.749734948, 65220.146091717426, 59595.663064833, 57627.576743980106, 2454108.8610807606, 144149.4282655097, 61814.00690853985, 3320552.675929334, 126586.48664429673, 39585.423345195726, 55351.249306749974, 120790.79405411774, 2430339.44861539, 134501.18280089644, 181330.9182072084, 1039394.0818208867, 1048749.6049566804, 187522.2234219033, 47787.61348044416, 1351069.3711454617, 58368.92532738925, 52799.96987486482, 87455.14426693351, 172712.75684781017, 1449125.778487955, 40425.08371528714, 40577.30210400953, 99324.02158215526, 40502.44211124491, 148419.6650036955, 79480.40452103595, 59521.40411886038, 52511.02107979828, 62376.24937340367, 48498.49617091773, 105339.7779547063, 254721.38699475935, 3245617.7377135074, 2426968.1426820727, 66064.92924639338, 168876.67646966904, 94877.81014927464, 43932.24291138218, 55670.36902518417, 2635271.5752007007, 102592.63901998605, 534295.2966749058, 379940.4137451123, 40513.65712580234, 98960.77449107022, 61522.962102125544, 44198.512838285635, 758615.1528541226, 43435.164328746745, 470732.71201674646, 38742.153860045146, 89963.9908734132, 45850.60658131177, 47501.34042202609], \"y0\": \" \", \"yaxis\": \"y\"}, {\"alignmentgroup\": \"True\", \"boxpoints\": \"all\", \"hovertemplate\": \"Fraude=%{x}<br>M\\u00e9dia Gas Receipt=%{y}<extra></extra>\", \"legendgroup\": \"1\", \"marker\": {\"color\": \"#EF553B\"}, \"name\": \"1\", \"notched\": false, \"offsetgroup\": \"1\", \"orientation\": \"v\", \"showlegend\": true, \"type\": \"box\", \"x\": [1, 1, 1, 1, 1, 1, 1, 1, 1, 1, 1, 1, 1, 1, 1, 1, 1, 1, 1, 1, 1, 1, 1, 1, 1, 1, 1, 1, 1, 1, 1, 1, 1, 1, 1, 1, 1, 1, 1, 1, 1, 1, 1, 1, 1, 1, 1, 1, 1, 1, 1, 1, 1, 1, 1, 1, 1, 1, 1, 1, 1, 1, 1, 1, 1, 1, 1, 1, 1, 1, 1, 1, 1, 1, 1, 1, 1, 1, 1, 1, 1, 1, 1, 1, 1, 1, 1, 1, 1, 1, 1, 1, 1, 1, 1, 1, 1, 1, 1, 1, 1, 1, 1, 1, 1, 1, 1, 1, 1, 1, 1, 1, 1, 1, 1, 1, 1, 1, 1, 1, 1, 1, 1, 1, 1, 1, 1, 1, 1, 1, 1, 1, 1, 1, 1, 1, 1, 1, 1, 1, 1, 1, 1, 1, 1, 1, 1, 1, 1], \"x0\": \" \", \"xaxis\": \"x\", \"y\": [57863.18070465831, 1527678.9931746665, 41090.39107736118, 1582275.5930348844, 1337861.7602787456, 69463.68292682926, 72432.1339585718, 5529186.463995179, 126826.50104946159, 2325610.0117388116, 75657.64811210588, 121683.2239957902, 41807.422429210135, 53773.951756078735, 546446.6956785282, 2549870.242308864, 42994.27968952135, 50066.63778957529, 2329252.6413615625, 42006.041414647305, 55165.1724137931, 44412.84, 776042.3009943045, 40720.567307395635, 37649.15244203256, 1499612.369567505, 47885.39621357158, 44923.23365420678, 132650.52159349204, 180060.05965614348, 45862.85391035017, 90020.52891028482, 1072559.2976077301, 1339687.62358525, 1251426.8954107286, 6804251.720285261, 42207.22567421791, 41332.85481246125, 44433.177077739994, 1069629.050496102, 100171.16176140193, 58797.53769300636, 764774.23709333, 110305.2102535413, 2907645.2423865753, 49792.206896551725, 608848.070122607, 78863.64069000706, 1315148.8158529066, 1964231.1494818653, 42100.25541125541, 47341.13095196689, 50178.170772717305, 920230.7800451467, 3629741.3473389354, 43002.491228070176, 268548.4124962087, 40833.76674886971, 2116263.9132331964, 55043.78022953955, 2150667.709135478, 42634.951167728235, 47013.378656380584, 123349.00049868206, 48226.188632246376, 64871.62768361582, 4310168.321340719, 2698767.7909300537, 46937.84646261916, 6016976.006812796, 44279.30822285233, 4480723.095299145, 717074.2590730735, 271501.2504424331, 102046.69065911848, 51550.099640125954, 2741701.897149938, 3643172.0470035253, 632726.9343783209, 54828.630288989145, 6641785.020162933, 45360.439563830885, 52439.015444015444, 61594.21168483851, 254261.10998376625, 47628.604453176165, 71613.06194690266, 49873.558263013176, 2535336.232293869, 40607.97797496435, 5473828.785227928, 196159.00568521844, 1801266.2599619667, 239679.1954787234, 1190380.7455274293, 3356366.9201697446, 99242.25436776146, 48829.4442573257, 122568.32804764427, 3900888.2951726317, 603351.2414860681, 1776584.9242802882, 42538.10858974359, 570739.3025074764, 119832.42144661739, 370162.3338593098, 3354191.1203058884, 804760.6359829855, 99293.20332959734, 41732.027495598, 1816485.9105571848, 54429.08293460925, 1371554.5628733928, 1698228.4338579413, 43938.72224934896, 1459180.244740099, 143941.21031583264, 40892.84606079458, 60525.228980322005, 46266.60518528482, 37644.755915084635, 69486.02679534828, 119096.15187783739, 4529384.464530301, 5259079.54544066, 89293.86252107137, 3608270.1457719924, 2682584.354609929, 216248.8450470393, 37012.053987411586, 63280.42700904992, 60318.44651741294, 110521.10349407814, 52511.762459469195, 2363940.793435605, 6690405.517627036, 2054712.264596981, 79049.28028169014, 2481187.716451052, 76245.25450783328, 75579.76924332898, 48827.45288958849, 1940170.619606599, 47149.65841492703, 104254.92424242424, 68686.16594596738, 68855.75521227652, 5657279.230535615, 48559.52506459948], \"y0\": \" \", \"yaxis\": \"y\"}],\n",
       "                        {\"boxmode\": \"overlay\", \"legend\": {\"title\": {\"text\": \"Fraude\"}, \"tracegroupgap\": 0}, \"margin\": {\"t\": 60}, \"template\": {\"data\": {\"bar\": [{\"error_x\": {\"color\": \"#2a3f5f\"}, \"error_y\": {\"color\": \"#2a3f5f\"}, \"marker\": {\"line\": {\"color\": \"#E5ECF6\", \"width\": 0.5}}, \"type\": \"bar\"}], \"barpolar\": [{\"marker\": {\"line\": {\"color\": \"#E5ECF6\", \"width\": 0.5}}, \"type\": \"barpolar\"}], \"carpet\": [{\"aaxis\": {\"endlinecolor\": \"#2a3f5f\", \"gridcolor\": \"white\", \"linecolor\": \"white\", \"minorgridcolor\": \"white\", \"startlinecolor\": \"#2a3f5f\"}, \"baxis\": {\"endlinecolor\": \"#2a3f5f\", \"gridcolor\": \"white\", \"linecolor\": \"white\", \"minorgridcolor\": \"white\", \"startlinecolor\": \"#2a3f5f\"}, \"type\": \"carpet\"}], \"choropleth\": [{\"colorbar\": {\"outlinewidth\": 0, \"ticks\": \"\"}, \"type\": \"choropleth\"}], \"contour\": [{\"colorbar\": {\"outlinewidth\": 0, \"ticks\": \"\"}, \"colorscale\": [[0.0, \"#0d0887\"], [0.1111111111111111, \"#46039f\"], [0.2222222222222222, \"#7201a8\"], [0.3333333333333333, \"#9c179e\"], [0.4444444444444444, \"#bd3786\"], [0.5555555555555556, \"#d8576b\"], [0.6666666666666666, \"#ed7953\"], [0.7777777777777778, \"#fb9f3a\"], [0.8888888888888888, \"#fdca26\"], [1.0, \"#f0f921\"]], \"type\": \"contour\"}], \"contourcarpet\": [{\"colorbar\": {\"outlinewidth\": 0, \"ticks\": \"\"}, \"type\": \"contourcarpet\"}], \"heatmap\": [{\"colorbar\": {\"outlinewidth\": 0, \"ticks\": \"\"}, \"colorscale\": [[0.0, \"#0d0887\"], [0.1111111111111111, \"#46039f\"], [0.2222222222222222, \"#7201a8\"], [0.3333333333333333, \"#9c179e\"], [0.4444444444444444, \"#bd3786\"], [0.5555555555555556, \"#d8576b\"], [0.6666666666666666, \"#ed7953\"], [0.7777777777777778, \"#fb9f3a\"], [0.8888888888888888, \"#fdca26\"], [1.0, \"#f0f921\"]], \"type\": \"heatmap\"}], \"heatmapgl\": [{\"colorbar\": {\"outlinewidth\": 0, \"ticks\": \"\"}, \"colorscale\": [[0.0, \"#0d0887\"], [0.1111111111111111, \"#46039f\"], [0.2222222222222222, \"#7201a8\"], [0.3333333333333333, \"#9c179e\"], [0.4444444444444444, \"#bd3786\"], [0.5555555555555556, \"#d8576b\"], [0.6666666666666666, \"#ed7953\"], [0.7777777777777778, \"#fb9f3a\"], [0.8888888888888888, \"#fdca26\"], [1.0, \"#f0f921\"]], \"type\": \"heatmapgl\"}], \"histogram\": [{\"marker\": {\"colorbar\": {\"outlinewidth\": 0, \"ticks\": \"\"}}, \"type\": \"histogram\"}], \"histogram2d\": [{\"colorbar\": {\"outlinewidth\": 0, \"ticks\": \"\"}, \"colorscale\": [[0.0, \"#0d0887\"], [0.1111111111111111, \"#46039f\"], [0.2222222222222222, \"#7201a8\"], [0.3333333333333333, \"#9c179e\"], [0.4444444444444444, \"#bd3786\"], [0.5555555555555556, \"#d8576b\"], [0.6666666666666666, \"#ed7953\"], [0.7777777777777778, \"#fb9f3a\"], [0.8888888888888888, \"#fdca26\"], [1.0, \"#f0f921\"]], \"type\": \"histogram2d\"}], \"histogram2dcontour\": [{\"colorbar\": {\"outlinewidth\": 0, \"ticks\": \"\"}, \"colorscale\": [[0.0, \"#0d0887\"], [0.1111111111111111, \"#46039f\"], [0.2222222222222222, \"#7201a8\"], [0.3333333333333333, \"#9c179e\"], [0.4444444444444444, \"#bd3786\"], [0.5555555555555556, \"#d8576b\"], [0.6666666666666666, \"#ed7953\"], [0.7777777777777778, \"#fb9f3a\"], [0.8888888888888888, \"#fdca26\"], [1.0, \"#f0f921\"]], \"type\": \"histogram2dcontour\"}], \"mesh3d\": [{\"colorbar\": {\"outlinewidth\": 0, \"ticks\": \"\"}, \"type\": \"mesh3d\"}], \"parcoords\": [{\"line\": {\"colorbar\": {\"outlinewidth\": 0, \"ticks\": \"\"}}, \"type\": \"parcoords\"}], \"pie\": [{\"automargin\": true, \"type\": \"pie\"}], \"scatter\": [{\"marker\": {\"colorbar\": {\"outlinewidth\": 0, \"ticks\": \"\"}}, \"type\": \"scatter\"}], \"scatter3d\": [{\"line\": {\"colorbar\": {\"outlinewidth\": 0, \"ticks\": \"\"}}, \"marker\": {\"colorbar\": {\"outlinewidth\": 0, \"ticks\": \"\"}}, \"type\": \"scatter3d\"}], \"scattercarpet\": [{\"marker\": {\"colorbar\": {\"outlinewidth\": 0, \"ticks\": \"\"}}, \"type\": \"scattercarpet\"}], \"scattergeo\": [{\"marker\": {\"colorbar\": {\"outlinewidth\": 0, \"ticks\": \"\"}}, \"type\": \"scattergeo\"}], \"scattergl\": [{\"marker\": {\"colorbar\": {\"outlinewidth\": 0, \"ticks\": \"\"}}, \"type\": \"scattergl\"}], \"scattermapbox\": [{\"marker\": {\"colorbar\": {\"outlinewidth\": 0, \"ticks\": \"\"}}, \"type\": \"scattermapbox\"}], \"scatterpolar\": [{\"marker\": {\"colorbar\": {\"outlinewidth\": 0, \"ticks\": \"\"}}, \"type\": \"scatterpolar\"}], \"scatterpolargl\": [{\"marker\": {\"colorbar\": {\"outlinewidth\": 0, \"ticks\": \"\"}}, \"type\": \"scatterpolargl\"}], \"scatterternary\": [{\"marker\": {\"colorbar\": {\"outlinewidth\": 0, \"ticks\": \"\"}}, \"type\": \"scatterternary\"}], \"surface\": [{\"colorbar\": {\"outlinewidth\": 0, \"ticks\": \"\"}, \"colorscale\": [[0.0, \"#0d0887\"], [0.1111111111111111, \"#46039f\"], [0.2222222222222222, \"#7201a8\"], [0.3333333333333333, \"#9c179e\"], [0.4444444444444444, \"#bd3786\"], [0.5555555555555556, \"#d8576b\"], [0.6666666666666666, \"#ed7953\"], [0.7777777777777778, \"#fb9f3a\"], [0.8888888888888888, \"#fdca26\"], [1.0, \"#f0f921\"]], \"type\": \"surface\"}], \"table\": [{\"cells\": {\"fill\": {\"color\": \"#EBF0F8\"}, \"line\": {\"color\": \"white\"}}, \"header\": {\"fill\": {\"color\": \"#C8D4E3\"}, \"line\": {\"color\": \"white\"}}, \"type\": \"table\"}]}, \"layout\": {\"annotationdefaults\": {\"arrowcolor\": \"#2a3f5f\", \"arrowhead\": 0, \"arrowwidth\": 1}, \"coloraxis\": {\"colorbar\": {\"outlinewidth\": 0, \"ticks\": \"\"}}, \"colorscale\": {\"diverging\": [[0, \"#8e0152\"], [0.1, \"#c51b7d\"], [0.2, \"#de77ae\"], [0.3, \"#f1b6da\"], [0.4, \"#fde0ef\"], [0.5, \"#f7f7f7\"], [0.6, \"#e6f5d0\"], [0.7, \"#b8e186\"], [0.8, \"#7fbc41\"], [0.9, \"#4d9221\"], [1, \"#276419\"]], \"sequential\": [[0.0, \"#0d0887\"], [0.1111111111111111, \"#46039f\"], [0.2222222222222222, \"#7201a8\"], [0.3333333333333333, \"#9c179e\"], [0.4444444444444444, \"#bd3786\"], [0.5555555555555556, \"#d8576b\"], [0.6666666666666666, \"#ed7953\"], [0.7777777777777778, \"#fb9f3a\"], [0.8888888888888888, \"#fdca26\"], [1.0, \"#f0f921\"]], \"sequentialminus\": [[0.0, \"#0d0887\"], [0.1111111111111111, \"#46039f\"], [0.2222222222222222, \"#7201a8\"], [0.3333333333333333, \"#9c179e\"], [0.4444444444444444, \"#bd3786\"], [0.5555555555555556, \"#d8576b\"], [0.6666666666666666, \"#ed7953\"], [0.7777777777777778, \"#fb9f3a\"], [0.8888888888888888, \"#fdca26\"], [1.0, \"#f0f921\"]]}, \"colorway\": [\"#636efa\", \"#EF553B\", \"#00cc96\", \"#ab63fa\", \"#FFA15A\", \"#19d3f3\", \"#FF6692\", \"#B6E880\", \"#FF97FF\", \"#FECB52\"], \"font\": {\"color\": \"#2a3f5f\"}, \"geo\": {\"bgcolor\": \"white\", \"lakecolor\": \"white\", \"landcolor\": \"#E5ECF6\", \"showlakes\": true, \"showland\": true, \"subunitcolor\": \"white\"}, \"hoverlabel\": {\"align\": \"left\"}, \"hovermode\": \"closest\", \"mapbox\": {\"style\": \"light\"}, \"paper_bgcolor\": \"white\", \"plot_bgcolor\": \"#E5ECF6\", \"polar\": {\"angularaxis\": {\"gridcolor\": \"white\", \"linecolor\": \"white\", \"ticks\": \"\"}, \"bgcolor\": \"#E5ECF6\", \"radialaxis\": {\"gridcolor\": \"white\", \"linecolor\": \"white\", \"ticks\": \"\"}}, \"scene\": {\"xaxis\": {\"backgroundcolor\": \"#E5ECF6\", \"gridcolor\": \"white\", \"gridwidth\": 2, \"linecolor\": \"white\", \"showbackground\": true, \"ticks\": \"\", \"zerolinecolor\": \"white\"}, \"yaxis\": {\"backgroundcolor\": \"#E5ECF6\", \"gridcolor\": \"white\", \"gridwidth\": 2, \"linecolor\": \"white\", \"showbackground\": true, \"ticks\": \"\", \"zerolinecolor\": \"white\"}, \"zaxis\": {\"backgroundcolor\": \"#E5ECF6\", \"gridcolor\": \"white\", \"gridwidth\": 2, \"linecolor\": \"white\", \"showbackground\": true, \"ticks\": \"\", \"zerolinecolor\": \"white\"}}, \"shapedefaults\": {\"line\": {\"color\": \"#2a3f5f\"}}, \"ternary\": {\"aaxis\": {\"gridcolor\": \"white\", \"linecolor\": \"white\", \"ticks\": \"\"}, \"baxis\": {\"gridcolor\": \"white\", \"linecolor\": \"white\", \"ticks\": \"\"}, \"bgcolor\": \"#E5ECF6\", \"caxis\": {\"gridcolor\": \"white\", \"linecolor\": \"white\", \"ticks\": \"\"}}, \"title\": {\"x\": 0.05}, \"xaxis\": {\"automargin\": true, \"gridcolor\": \"white\", \"linecolor\": \"white\", \"ticks\": \"\", \"title\": {\"standoff\": 15}, \"zerolinecolor\": \"white\", \"zerolinewidth\": 2}, \"yaxis\": {\"automargin\": true, \"gridcolor\": \"white\", \"linecolor\": \"white\", \"ticks\": \"\", \"title\": {\"standoff\": 15}, \"zerolinecolor\": \"white\", \"zerolinewidth\": 2}}}, \"xaxis\": {\"anchor\": \"y\", \"categoryarray\": [0, 1], \"categoryorder\": \"array\", \"domain\": [0.0, 1.0], \"title\": {\"text\": \"Fraude\"}}, \"yaxis\": {\"anchor\": \"x\", \"domain\": [0.0, 1.0], \"title\": {\"text\": \"M\\u00e9dia Gas Receipt\"}, \"type\": \"log\"}},\n",
       "                        {\"responsive\": true}\n",
       "                    ).then(function(){\n",
       "                            \n",
       "var gd = document.getElementById('7c2cd7f3-90b2-494d-9e88-ec2b528cb353');\n",
       "var x = new MutationObserver(function (mutations, observer) {{\n",
       "        var display = window.getComputedStyle(gd).display;\n",
       "        if (!display || display === 'none') {{\n",
       "            console.log([gd, 'removed!']);\n",
       "            Plotly.purge(gd);\n",
       "            observer.disconnect();\n",
       "        }}\n",
       "}});\n",
       "\n",
       "// Listen for the removal of the full notebook cells\n",
       "var notebookContainer = gd.closest('#notebook-container');\n",
       "if (notebookContainer) {{\n",
       "    x.observe(notebookContainer, {childList: true});\n",
       "}}\n",
       "\n",
       "// Listen for the clearing of the current output cell\n",
       "var outputEl = gd.closest('.output');\n",
       "if (outputEl) {{\n",
       "    x.observe(outputEl, {childList: true});\n",
       "}}\n",
       "\n",
       "                        })\n",
       "                };\n",
       "                });\n",
       "            </script>\n",
       "        </div>"
      ]
     },
     "metadata": {},
     "output_type": "display_data"
    }
   ],
   "source": [
    "fig = px.box(df_eda, x=\"Fraude\", y=\"Média Gas Receipt\", points=\"all\", log_y=True, color='Fraude')\n",
    "fig.show()"
   ]
  },
  {
   "cell_type": "markdown",
   "metadata": {},
   "source": [
    "### 2.3. Boxplot - Média Gas"
   ]
  },
  {
   "cell_type": "code",
   "execution_count": 9,
   "metadata": {},
   "outputs": [
    {
     "data": {
      "application/vnd.plotly.v1+json": {
       "config": {
        "plotlyServerURL": "https://plot.ly"
       },
       "data": [
        {
         "alignmentgroup": "True",
         "boxpoints": "all",
         "hovertemplate": "Fraude=%{x}<br>Média Gas=%{y}<extra></extra>",
         "legendgroup": "0",
         "marker": {
          "color": "#636efa"
         },
         "name": "0",
         "notched": false,
         "offsetgroup": "0",
         "orientation": "v",
         "showlegend": true,
         "type": "box",
         "x": [
          0,
          0,
          0,
          0,
          0,
          0,
          0,
          0,
          0,
          0,
          0,
          0,
          0,
          0,
          0,
          0,
          0,
          0,
          0,
          0,
          0,
          0,
          0,
          0,
          0,
          0,
          0,
          0,
          0,
          0,
          0,
          0,
          0,
          0,
          0,
          0,
          0,
          0,
          0,
          0,
          0,
          0,
          0,
          0,
          0,
          0,
          0,
          0,
          0,
          0,
          0,
          0,
          0,
          0,
          0,
          0,
          0,
          0,
          0,
          0,
          0,
          0,
          0,
          0,
          0,
          0,
          0,
          0,
          0,
          0,
          0,
          0,
          0,
          0,
          0,
          0,
          0,
          0,
          0,
          0,
          0,
          0,
          0,
          0,
          0,
          0,
          0,
          0,
          0,
          0,
          0,
          0,
          0,
          0,
          0,
          0,
          0,
          0,
          0,
          0,
          0,
          0,
          0,
          0,
          0
         ],
         "x0": " ",
         "xaxis": "x",
         "y": [
          147573.59125329618,
          1595181.7907383817,
          769753.8162131085,
          140340.46968356016,
          958076.8267963602,
          1860670.5778122095,
          379118.20376609213,
          123827.37633509799,
          765355.285701304,
          199340.20072812296,
          281389.5404185474,
          346758.36413471267,
          326336.5977341762,
          326697.99805957114,
          737309.7447797172,
          1603162.8763309652,
          3196983.3230280946,
          139432.52021332318,
          787951.1128785836,
          133257.15960539883,
          176480.470117979,
          173838.1067467124,
          591752.8939992972,
          1898988.9739263803,
          622187.6361272795,
          87105.70770383319,
          249673.75722543354,
          175308.56067294488,
          187200.85200559022,
          95734.51055032156,
          186792.45674553432,
          1649854.3947352422,
          380895.9624949474,
          156621.37304378854,
          912970.0282252317,
          623834.5945625309,
          237185.9009194971,
          118926.06562717276,
          356660.8807504313,
          913408.4119897716,
          120426.32088115647,
          268836.8604495776,
          1419283.0058695693,
          78313.72049326527,
          1246959.8798215527,
          145385.64718828825,
          642778.9274808626,
          188700.56123376556,
          98007.85391523996,
          111941.06375960268,
          3511537.904723254,
          236196.0021135308,
          390621.78703868785,
          4108033.447368421,
          224506.68196798392,
          103767.93,
          140693.04675488785,
          272524.80850646034,
          2545541.5950322086,
          206145.9611548095,
          315400.4369929512,
          1112672.5521422196,
          1539530.7498521737,
          476987.10112711036,
          175149.10265931112,
          2307878.5461751884,
          496766.57909268216,
          79087.36845357639,
          284835.33289051446,
          677814.6778233484,
          1586581.9038374308,
          81641.90523052035,
          323351.68995633186,
          282021.5411707441,
          120466.96456453206,
          584118.0742793791,
          139528.1088276773,
          200570.84607451333,
          132953.9912904183,
          138274.3258778316,
          147303.9383595899,
          1441579.4491772824,
          586877.8839527739,
          3828051.462642775,
          3616490.1094187675,
          162930.74864646737,
          346421.55933368753,
          207727.56486505418,
          174098.7966785147,
          98462.75735252128,
          3666593.926484023,
          210153.8075265728,
          894570.6173728814,
          613717.3677955243,
          135944.19067481227,
          214721.8960775168,
          223748.3475391221,
          85360.0963811678,
          998332.2196617336,
          104085.87351431759,
          549140.5596006616,
          94506.21778781038,
          201284.5214699214,
          102114.50351901767,
          194803.85821241362
         ],
         "y0": " ",
         "yaxis": "y"
        },
        {
         "alignmentgroup": "True",
         "boxpoints": "all",
         "hovertemplate": "Fraude=%{x}<br>Média Gas=%{y}<extra></extra>",
         "legendgroup": "1",
         "marker": {
          "color": "#EF553B"
         },
         "name": "1",
         "notched": false,
         "offsetgroup": "1",
         "orientation": "v",
         "showlegend": true,
         "type": "box",
         "x": [
          1,
          1,
          1,
          1,
          1,
          1,
          1,
          1,
          1,
          1,
          1,
          1,
          1,
          1,
          1,
          1,
          1,
          1,
          1,
          1,
          1,
          1,
          1,
          1,
          1,
          1,
          1,
          1,
          1,
          1,
          1,
          1,
          1,
          1,
          1,
          1,
          1,
          1,
          1,
          1,
          1,
          1,
          1,
          1,
          1,
          1,
          1,
          1,
          1,
          1,
          1,
          1,
          1,
          1,
          1,
          1,
          1,
          1,
          1,
          1,
          1,
          1,
          1,
          1,
          1,
          1,
          1,
          1,
          1,
          1,
          1,
          1,
          1,
          1,
          1,
          1,
          1,
          1,
          1,
          1,
          1,
          1,
          1,
          1,
          1,
          1,
          1,
          1,
          1,
          1,
          1,
          1,
          1,
          1,
          1,
          1,
          1,
          1,
          1,
          1,
          1,
          1,
          1,
          1,
          1,
          1,
          1,
          1,
          1,
          1,
          1,
          1,
          1,
          1,
          1,
          1,
          1,
          1,
          1,
          1,
          1,
          1,
          1,
          1,
          1,
          1,
          1,
          1,
          1,
          1,
          1,
          1,
          1,
          1,
          1,
          1,
          1,
          1,
          1,
          1,
          1,
          1,
          1,
          1,
          1,
          1,
          1,
          1,
          1
         ],
         "x0": " ",
         "xaxis": "x",
         "y": [
          122035.56292267675,
          1651859.0591233436,
          124433.38870431893,
          2632258.6256250367,
          2039375.0801393727,
          95580.4305247598,
          136723.9124173836,
          6711256.992768906,
          223358.18078116444,
          2373014.187820983,
          190387.99766446088,
          138580.46680406947,
          70607.54456035768,
          73286.70397529911,
          886756.0449261927,
          3830781.569448675,
          186899.74980595085,
          65828.09797297297,
          3450584.3221429405,
          195122.4059020688,
          121354.00834260289,
          170117.99724137931,
          1353701.280142871,
          139133.5982228256,
          69441.83127775037,
          2375543.7631274336,
          142956.03556690065,
          61104.23477934742,
          1645972.2536188539,
          346204.8726100489,
          197889.36531016088,
          193688.63308833382,
          1476390.0480480012,
          2155625.954362906,
          1589029.354460497,
          6811122.8882725835,
          90450.22028047465,
          159110.0034097954,
          83215.27701211144,
          1083024.554571226,
          153657.44866322176,
          122224.22797456858,
          921251.7187539254,
          125744.58958533802,
          3239086.004294028,
          124006.84360509232,
          866739.6416433642,
          870395.3810738677,
          2078769.0358764504,
          2913089.1545768566,
          193093.30437378713,
          99118.22917463741,
          61690.642663937426,
          1194634.723792325,
          3797996.7443340975,
          210104.10453216374,
          451593.7740976645,
          163602.48150431566,
          2204668.7725937734,
          167052.58392539964,
          2237626.8700227193,
          82417.69108280254,
          193349.61234329798,
          228276.8261261903,
          85996.84397644928,
          182483.1581920904,
          4748115.651024126,
          2710185.285933897,
          157789.89663823383,
          6296061.123987954,
          140260.98176105449,
          4879093.77032967,
          1062247.7843523172,
          506443.54568438086,
          207890.22361504246,
          66412.61313540261,
          4143491.369062371,
          3857577.9424206815,
          668445.4968119023,
          132399.47396658943,
          6969646.46904277,
          476972.76165003603,
          77457.19911748484,
          114367.10748817115,
          2419774.153814935,
          5501700.934184676,
          456435.1143635126,
          55030.76419835024,
          3805939.9001057083,
          80030.83314847092,
          5580867.431598384,
          259215.4937163375,
          1839226.421995442,
          467411.1,
          1216568.452824586,
          3378143.4817560096,
          217192.52889620553,
          192462.35638636278,
          262528.8931657502,
          4115705.9254167653,
          1074032.481617647,
          2228670.341066824,
          218213.18717948717,
          704153.3778851315,
          263407.00945073453,
          648453.4816756592,
          3485661.5861688997,
          865045.2284328061,
          256790.1951149504,
          79084.60043342815,
          3026574.4507168457,
          873934.456937799,
          1661759.9321321035,
          1999270.578423889,
          164089.46183268228,
          1510121.2028155942,
          256748.50517110043,
          56778.64383845715,
          193309.8379759775,
          229007.66188042235,
          85246.89806415411,
          156316.4785996883,
          225242.71316549732,
          4583625.6026618425,
          5263325.7149839625,
          227139.281700693,
          3715578.1900408077,
          2686510.0986846094,
          375635.5246264527,
          148237.72983583156,
          127043.06520418279,
          187213.66915422885,
          239357.41825628158,
          166348.37336375646,
          2373286.914734213,
          6690705.54194019,
          2077349.195670749,
          201163.64985628054,
          2619077.5020274185,
          148195.65119716228,
          210447.0906419108,
          80457.3480998426,
          1989885.9514593908,
          81335.14225013855,
          156088.95858585858,
          187697.4640377673,
          126469.7663065634,
          5782420.301582919,
          55088.24031007752
         ],
         "y0": " ",
         "yaxis": "y"
        }
       ],
       "layout": {
        "autosize": true,
        "boxmode": "overlay",
        "legend": {
         "title": {
          "text": "Fraude"
         },
         "tracegroupgap": 0
        },
        "margin": {
         "t": 60
        },
        "template": {
         "data": {
          "bar": [
           {
            "error_x": {
             "color": "#2a3f5f"
            },
            "error_y": {
             "color": "#2a3f5f"
            },
            "marker": {
             "line": {
              "color": "#E5ECF6",
              "width": 0.5
             }
            },
            "type": "bar"
           }
          ],
          "barpolar": [
           {
            "marker": {
             "line": {
              "color": "#E5ECF6",
              "width": 0.5
             }
            },
            "type": "barpolar"
           }
          ],
          "carpet": [
           {
            "aaxis": {
             "endlinecolor": "#2a3f5f",
             "gridcolor": "white",
             "linecolor": "white",
             "minorgridcolor": "white",
             "startlinecolor": "#2a3f5f"
            },
            "baxis": {
             "endlinecolor": "#2a3f5f",
             "gridcolor": "white",
             "linecolor": "white",
             "minorgridcolor": "white",
             "startlinecolor": "#2a3f5f"
            },
            "type": "carpet"
           }
          ],
          "choropleth": [
           {
            "colorbar": {
             "outlinewidth": 0,
             "ticks": ""
            },
            "type": "choropleth"
           }
          ],
          "contour": [
           {
            "colorbar": {
             "outlinewidth": 0,
             "ticks": ""
            },
            "colorscale": [
             [
              0,
              "#0d0887"
             ],
             [
              0.1111111111111111,
              "#46039f"
             ],
             [
              0.2222222222222222,
              "#7201a8"
             ],
             [
              0.3333333333333333,
              "#9c179e"
             ],
             [
              0.4444444444444444,
              "#bd3786"
             ],
             [
              0.5555555555555556,
              "#d8576b"
             ],
             [
              0.6666666666666666,
              "#ed7953"
             ],
             [
              0.7777777777777778,
              "#fb9f3a"
             ],
             [
              0.8888888888888888,
              "#fdca26"
             ],
             [
              1,
              "#f0f921"
             ]
            ],
            "type": "contour"
           }
          ],
          "contourcarpet": [
           {
            "colorbar": {
             "outlinewidth": 0,
             "ticks": ""
            },
            "type": "contourcarpet"
           }
          ],
          "heatmap": [
           {
            "colorbar": {
             "outlinewidth": 0,
             "ticks": ""
            },
            "colorscale": [
             [
              0,
              "#0d0887"
             ],
             [
              0.1111111111111111,
              "#46039f"
             ],
             [
              0.2222222222222222,
              "#7201a8"
             ],
             [
              0.3333333333333333,
              "#9c179e"
             ],
             [
              0.4444444444444444,
              "#bd3786"
             ],
             [
              0.5555555555555556,
              "#d8576b"
             ],
             [
              0.6666666666666666,
              "#ed7953"
             ],
             [
              0.7777777777777778,
              "#fb9f3a"
             ],
             [
              0.8888888888888888,
              "#fdca26"
             ],
             [
              1,
              "#f0f921"
             ]
            ],
            "type": "heatmap"
           }
          ],
          "heatmapgl": [
           {
            "colorbar": {
             "outlinewidth": 0,
             "ticks": ""
            },
            "colorscale": [
             [
              0,
              "#0d0887"
             ],
             [
              0.1111111111111111,
              "#46039f"
             ],
             [
              0.2222222222222222,
              "#7201a8"
             ],
             [
              0.3333333333333333,
              "#9c179e"
             ],
             [
              0.4444444444444444,
              "#bd3786"
             ],
             [
              0.5555555555555556,
              "#d8576b"
             ],
             [
              0.6666666666666666,
              "#ed7953"
             ],
             [
              0.7777777777777778,
              "#fb9f3a"
             ],
             [
              0.8888888888888888,
              "#fdca26"
             ],
             [
              1,
              "#f0f921"
             ]
            ],
            "type": "heatmapgl"
           }
          ],
          "histogram": [
           {
            "marker": {
             "colorbar": {
              "outlinewidth": 0,
              "ticks": ""
             }
            },
            "type": "histogram"
           }
          ],
          "histogram2d": [
           {
            "colorbar": {
             "outlinewidth": 0,
             "ticks": ""
            },
            "colorscale": [
             [
              0,
              "#0d0887"
             ],
             [
              0.1111111111111111,
              "#46039f"
             ],
             [
              0.2222222222222222,
              "#7201a8"
             ],
             [
              0.3333333333333333,
              "#9c179e"
             ],
             [
              0.4444444444444444,
              "#bd3786"
             ],
             [
              0.5555555555555556,
              "#d8576b"
             ],
             [
              0.6666666666666666,
              "#ed7953"
             ],
             [
              0.7777777777777778,
              "#fb9f3a"
             ],
             [
              0.8888888888888888,
              "#fdca26"
             ],
             [
              1,
              "#f0f921"
             ]
            ],
            "type": "histogram2d"
           }
          ],
          "histogram2dcontour": [
           {
            "colorbar": {
             "outlinewidth": 0,
             "ticks": ""
            },
            "colorscale": [
             [
              0,
              "#0d0887"
             ],
             [
              0.1111111111111111,
              "#46039f"
             ],
             [
              0.2222222222222222,
              "#7201a8"
             ],
             [
              0.3333333333333333,
              "#9c179e"
             ],
             [
              0.4444444444444444,
              "#bd3786"
             ],
             [
              0.5555555555555556,
              "#d8576b"
             ],
             [
              0.6666666666666666,
              "#ed7953"
             ],
             [
              0.7777777777777778,
              "#fb9f3a"
             ],
             [
              0.8888888888888888,
              "#fdca26"
             ],
             [
              1,
              "#f0f921"
             ]
            ],
            "type": "histogram2dcontour"
           }
          ],
          "mesh3d": [
           {
            "colorbar": {
             "outlinewidth": 0,
             "ticks": ""
            },
            "type": "mesh3d"
           }
          ],
          "parcoords": [
           {
            "line": {
             "colorbar": {
              "outlinewidth": 0,
              "ticks": ""
             }
            },
            "type": "parcoords"
           }
          ],
          "pie": [
           {
            "automargin": true,
            "type": "pie"
           }
          ],
          "scatter": [
           {
            "marker": {
             "colorbar": {
              "outlinewidth": 0,
              "ticks": ""
             }
            },
            "type": "scatter"
           }
          ],
          "scatter3d": [
           {
            "line": {
             "colorbar": {
              "outlinewidth": 0,
              "ticks": ""
             }
            },
            "marker": {
             "colorbar": {
              "outlinewidth": 0,
              "ticks": ""
             }
            },
            "type": "scatter3d"
           }
          ],
          "scattercarpet": [
           {
            "marker": {
             "colorbar": {
              "outlinewidth": 0,
              "ticks": ""
             }
            },
            "type": "scattercarpet"
           }
          ],
          "scattergeo": [
           {
            "marker": {
             "colorbar": {
              "outlinewidth": 0,
              "ticks": ""
             }
            },
            "type": "scattergeo"
           }
          ],
          "scattergl": [
           {
            "marker": {
             "colorbar": {
              "outlinewidth": 0,
              "ticks": ""
             }
            },
            "type": "scattergl"
           }
          ],
          "scattermapbox": [
           {
            "marker": {
             "colorbar": {
              "outlinewidth": 0,
              "ticks": ""
             }
            },
            "type": "scattermapbox"
           }
          ],
          "scatterpolar": [
           {
            "marker": {
             "colorbar": {
              "outlinewidth": 0,
              "ticks": ""
             }
            },
            "type": "scatterpolar"
           }
          ],
          "scatterpolargl": [
           {
            "marker": {
             "colorbar": {
              "outlinewidth": 0,
              "ticks": ""
             }
            },
            "type": "scatterpolargl"
           }
          ],
          "scatterternary": [
           {
            "marker": {
             "colorbar": {
              "outlinewidth": 0,
              "ticks": ""
             }
            },
            "type": "scatterternary"
           }
          ],
          "surface": [
           {
            "colorbar": {
             "outlinewidth": 0,
             "ticks": ""
            },
            "colorscale": [
             [
              0,
              "#0d0887"
             ],
             [
              0.1111111111111111,
              "#46039f"
             ],
             [
              0.2222222222222222,
              "#7201a8"
             ],
             [
              0.3333333333333333,
              "#9c179e"
             ],
             [
              0.4444444444444444,
              "#bd3786"
             ],
             [
              0.5555555555555556,
              "#d8576b"
             ],
             [
              0.6666666666666666,
              "#ed7953"
             ],
             [
              0.7777777777777778,
              "#fb9f3a"
             ],
             [
              0.8888888888888888,
              "#fdca26"
             ],
             [
              1,
              "#f0f921"
             ]
            ],
            "type": "surface"
           }
          ],
          "table": [
           {
            "cells": {
             "fill": {
              "color": "#EBF0F8"
             },
             "line": {
              "color": "white"
             }
            },
            "header": {
             "fill": {
              "color": "#C8D4E3"
             },
             "line": {
              "color": "white"
             }
            },
            "type": "table"
           }
          ]
         },
         "layout": {
          "annotationdefaults": {
           "arrowcolor": "#2a3f5f",
           "arrowhead": 0,
           "arrowwidth": 1
          },
          "coloraxis": {
           "colorbar": {
            "outlinewidth": 0,
            "ticks": ""
           }
          },
          "colorscale": {
           "diverging": [
            [
             0,
             "#8e0152"
            ],
            [
             0.1,
             "#c51b7d"
            ],
            [
             0.2,
             "#de77ae"
            ],
            [
             0.3,
             "#f1b6da"
            ],
            [
             0.4,
             "#fde0ef"
            ],
            [
             0.5,
             "#f7f7f7"
            ],
            [
             0.6,
             "#e6f5d0"
            ],
            [
             0.7,
             "#b8e186"
            ],
            [
             0.8,
             "#7fbc41"
            ],
            [
             0.9,
             "#4d9221"
            ],
            [
             1,
             "#276419"
            ]
           ],
           "sequential": [
            [
             0,
             "#0d0887"
            ],
            [
             0.1111111111111111,
             "#46039f"
            ],
            [
             0.2222222222222222,
             "#7201a8"
            ],
            [
             0.3333333333333333,
             "#9c179e"
            ],
            [
             0.4444444444444444,
             "#bd3786"
            ],
            [
             0.5555555555555556,
             "#d8576b"
            ],
            [
             0.6666666666666666,
             "#ed7953"
            ],
            [
             0.7777777777777778,
             "#fb9f3a"
            ],
            [
             0.8888888888888888,
             "#fdca26"
            ],
            [
             1,
             "#f0f921"
            ]
           ],
           "sequentialminus": [
            [
             0,
             "#0d0887"
            ],
            [
             0.1111111111111111,
             "#46039f"
            ],
            [
             0.2222222222222222,
             "#7201a8"
            ],
            [
             0.3333333333333333,
             "#9c179e"
            ],
            [
             0.4444444444444444,
             "#bd3786"
            ],
            [
             0.5555555555555556,
             "#d8576b"
            ],
            [
             0.6666666666666666,
             "#ed7953"
            ],
            [
             0.7777777777777778,
             "#fb9f3a"
            ],
            [
             0.8888888888888888,
             "#fdca26"
            ],
            [
             1,
             "#f0f921"
            ]
           ]
          },
          "colorway": [
           "#636efa",
           "#EF553B",
           "#00cc96",
           "#ab63fa",
           "#FFA15A",
           "#19d3f3",
           "#FF6692",
           "#B6E880",
           "#FF97FF",
           "#FECB52"
          ],
          "font": {
           "color": "#2a3f5f"
          },
          "geo": {
           "bgcolor": "white",
           "lakecolor": "white",
           "landcolor": "#E5ECF6",
           "showlakes": true,
           "showland": true,
           "subunitcolor": "white"
          },
          "hoverlabel": {
           "align": "left"
          },
          "hovermode": "closest",
          "mapbox": {
           "style": "light"
          },
          "paper_bgcolor": "white",
          "plot_bgcolor": "#E5ECF6",
          "polar": {
           "angularaxis": {
            "gridcolor": "white",
            "linecolor": "white",
            "ticks": ""
           },
           "bgcolor": "#E5ECF6",
           "radialaxis": {
            "gridcolor": "white",
            "linecolor": "white",
            "ticks": ""
           }
          },
          "scene": {
           "xaxis": {
            "backgroundcolor": "#E5ECF6",
            "gridcolor": "white",
            "gridwidth": 2,
            "linecolor": "white",
            "showbackground": true,
            "ticks": "",
            "zerolinecolor": "white"
           },
           "yaxis": {
            "backgroundcolor": "#E5ECF6",
            "gridcolor": "white",
            "gridwidth": 2,
            "linecolor": "white",
            "showbackground": true,
            "ticks": "",
            "zerolinecolor": "white"
           },
           "zaxis": {
            "backgroundcolor": "#E5ECF6",
            "gridcolor": "white",
            "gridwidth": 2,
            "linecolor": "white",
            "showbackground": true,
            "ticks": "",
            "zerolinecolor": "white"
           }
          },
          "shapedefaults": {
           "line": {
            "color": "#2a3f5f"
           }
          },
          "ternary": {
           "aaxis": {
            "gridcolor": "white",
            "linecolor": "white",
            "ticks": ""
           },
           "baxis": {
            "gridcolor": "white",
            "linecolor": "white",
            "ticks": ""
           },
           "bgcolor": "#E5ECF6",
           "caxis": {
            "gridcolor": "white",
            "linecolor": "white",
            "ticks": ""
           }
          },
          "title": {
           "x": 0.05
          },
          "xaxis": {
           "automargin": true,
           "gridcolor": "white",
           "linecolor": "white",
           "ticks": "",
           "title": {
            "standoff": 15
           },
           "zerolinecolor": "white",
           "zerolinewidth": 2
          },
          "yaxis": {
           "automargin": true,
           "gridcolor": "white",
           "linecolor": "white",
           "ticks": "",
           "title": {
            "standoff": 15
           },
           "zerolinecolor": "white",
           "zerolinewidth": 2
          }
         }
        },
        "xaxis": {
         "anchor": "y",
         "autorange": true,
         "categoryarray": [
          0,
          1
         ],
         "categoryorder": "array",
         "domain": [
          0,
          1
         ],
         "range": [
          -0.5088626292466765,
          1.5
         ],
         "title": {
          "text": "Fraude"
         },
         "type": "linear"
        },
        "yaxis": {
         "anchor": "x",
         "autorange": true,
         "domain": [
          0,
          1
         ],
         "range": [
          4.623794143482705,
          6.960022149649102
         ],
         "title": {
          "text": "Média Gas"
         },
         "type": "log"
        }
       }
      },
      "image/png": "[encoded data removed]",
      "text/html": [
       "<div>\n",
       "        \n",
       "        \n",
       "            <div id=\"5c3229b0-5144-4a26-9526-781736263f49\" class=\"plotly-graph-div\" style=\"height:525px; width:100%;\"></div>\n",
       "            <script type=\"text/javascript\">\n",
       "                require([\"plotly\"], function(Plotly) {\n",
       "                    window.PLOTLYENV=window.PLOTLYENV || {};\n",
       "                    \n",
       "                if (document.getElementById(\"5c3229b0-5144-4a26-9526-781736263f49\")) {\n",
       "                    Plotly.newPlot(\n",
       "                        '5c3229b0-5144-4a26-9526-781736263f49',\n",
       "                        [{\"alignmentgroup\": \"True\", \"boxpoints\": \"all\", \"hovertemplate\": \"Fraude=%{x}<br>M\\u00e9dia Gas=%{y}<extra></extra>\", \"legendgroup\": \"0\", \"marker\": {\"color\": \"#636efa\"}, \"name\": \"0\", \"notched\": false, \"offsetgroup\": \"0\", \"orientation\": \"v\", \"showlegend\": true, \"type\": \"box\", \"x\": [0, 0, 0, 0, 0, 0, 0, 0, 0, 0, 0, 0, 0, 0, 0, 0, 0, 0, 0, 0, 0, 0, 0, 0, 0, 0, 0, 0, 0, 0, 0, 0, 0, 0, 0, 0, 0, 0, 0, 0, 0, 0, 0, 0, 0, 0, 0, 0, 0, 0, 0, 0, 0, 0, 0, 0, 0, 0, 0, 0, 0, 0, 0, 0, 0, 0, 0, 0, 0, 0, 0, 0, 0, 0, 0, 0, 0, 0, 0, 0, 0, 0, 0, 0, 0, 0, 0, 0, 0, 0, 0, 0, 0, 0, 0, 0, 0, 0, 0, 0, 0, 0, 0, 0, 0], \"x0\": \" \", \"xaxis\": \"x\", \"y\": [147573.59125329618, 1595181.7907383817, 769753.8162131085, 140340.46968356016, 958076.8267963602, 1860670.5778122095, 379118.20376609213, 123827.37633509799, 765355.285701304, 199340.20072812296, 281389.5404185474, 346758.36413471267, 326336.5977341762, 326697.99805957114, 737309.7447797172, 1603162.8763309652, 3196983.3230280946, 139432.52021332318, 787951.1128785836, 133257.15960539883, 176480.470117979, 173838.1067467124, 591752.8939992972, 1898988.9739263803, 622187.6361272795, 87105.70770383319, 249673.75722543354, 175308.56067294488, 187200.85200559022, 95734.51055032156, 186792.45674553432, 1649854.3947352422, 380895.9624949474, 156621.37304378854, 912970.0282252317, 623834.5945625309, 237185.9009194971, 118926.06562717276, 356660.8807504313, 913408.4119897716, 120426.32088115647, 268836.8604495776, 1419283.0058695693, 78313.72049326527, 1246959.8798215527, 145385.64718828825, 642778.9274808626, 188700.56123376556, 98007.85391523996, 111941.06375960268, 3511537.904723254, 236196.0021135308, 390621.78703868785, 4108033.447368421, 224506.68196798392, 103767.93, 140693.04675488785, 272524.80850646034, 2545541.5950322086, 206145.9611548095, 315400.4369929512, 1112672.5521422196, 1539530.7498521737, 476987.10112711036, 175149.10265931112, 2307878.5461751884, 496766.57909268216, 79087.36845357639, 284835.33289051446, 677814.6778233484, 1586581.9038374308, 81641.90523052035, 323351.68995633186, 282021.5411707441, 120466.96456453206, 584118.0742793791, 139528.1088276773, 200570.84607451333, 132953.9912904183, 138274.3258778316, 147303.9383595899, 1441579.4491772824, 586877.8839527739, 3828051.462642775, 3616490.1094187675, 162930.74864646737, 346421.55933368753, 207727.56486505418, 174098.7966785147, 98462.75735252128, 3666593.926484023, 210153.8075265728, 894570.6173728814, 613717.3677955243, 135944.19067481227, 214721.8960775168, 223748.3475391221, 85360.0963811678, 998332.2196617336, 104085.87351431759, 549140.5596006616, 94506.21778781038, 201284.5214699214, 102114.50351901767, 194803.85821241362], \"y0\": \" \", \"yaxis\": \"y\"}, {\"alignmentgroup\": \"True\", \"boxpoints\": \"all\", \"hovertemplate\": \"Fraude=%{x}<br>M\\u00e9dia Gas=%{y}<extra></extra>\", \"legendgroup\": \"1\", \"marker\": {\"color\": \"#EF553B\"}, \"name\": \"1\", \"notched\": false, \"offsetgroup\": \"1\", \"orientation\": \"v\", \"showlegend\": true, \"type\": \"box\", \"x\": [1, 1, 1, 1, 1, 1, 1, 1, 1, 1, 1, 1, 1, 1, 1, 1, 1, 1, 1, 1, 1, 1, 1, 1, 1, 1, 1, 1, 1, 1, 1, 1, 1, 1, 1, 1, 1, 1, 1, 1, 1, 1, 1, 1, 1, 1, 1, 1, 1, 1, 1, 1, 1, 1, 1, 1, 1, 1, 1, 1, 1, 1, 1, 1, 1, 1, 1, 1, 1, 1, 1, 1, 1, 1, 1, 1, 1, 1, 1, 1, 1, 1, 1, 1, 1, 1, 1, 1, 1, 1, 1, 1, 1, 1, 1, 1, 1, 1, 1, 1, 1, 1, 1, 1, 1, 1, 1, 1, 1, 1, 1, 1, 1, 1, 1, 1, 1, 1, 1, 1, 1, 1, 1, 1, 1, 1, 1, 1, 1, 1, 1, 1, 1, 1, 1, 1, 1, 1, 1, 1, 1, 1, 1, 1, 1, 1, 1, 1, 1], \"x0\": \" \", \"xaxis\": \"x\", \"y\": [122035.56292267675, 1651859.0591233436, 124433.38870431893, 2632258.6256250367, 2039375.0801393727, 95580.4305247598, 136723.9124173836, 6711256.992768906, 223358.18078116444, 2373014.187820983, 190387.99766446088, 138580.46680406947, 70607.54456035768, 73286.70397529911, 886756.0449261927, 3830781.569448675, 186899.74980595085, 65828.09797297297, 3450584.3221429405, 195122.4059020688, 121354.00834260289, 170117.99724137931, 1353701.280142871, 139133.5982228256, 69441.83127775037, 2375543.7631274336, 142956.03556690065, 61104.23477934742, 1645972.2536188539, 346204.8726100489, 197889.36531016088, 193688.63308833382, 1476390.0480480012, 2155625.954362906, 1589029.354460497, 6811122.8882725835, 90450.22028047465, 159110.0034097954, 83215.27701211144, 1083024.554571226, 153657.44866322176, 122224.22797456858, 921251.7187539254, 125744.58958533802, 3239086.004294028, 124006.84360509232, 866739.6416433642, 870395.3810738677, 2078769.0358764504, 2913089.1545768566, 193093.30437378713, 99118.22917463741, 61690.642663937426, 1194634.723792325, 3797996.7443340975, 210104.10453216374, 451593.7740976645, 163602.48150431566, 2204668.7725937734, 167052.58392539964, 2237626.8700227193, 82417.69108280254, 193349.61234329798, 228276.8261261903, 85996.84397644928, 182483.1581920904, 4748115.651024126, 2710185.285933897, 157789.89663823383, 6296061.123987954, 140260.98176105449, 4879093.77032967, 1062247.7843523172, 506443.54568438086, 207890.22361504246, 66412.61313540261, 4143491.369062371, 3857577.9424206815, 668445.4968119023, 132399.47396658943, 6969646.46904277, 476972.76165003603, 77457.19911748484, 114367.10748817115, 2419774.153814935, 5501700.934184676, 456435.1143635126, 55030.76419835024, 3805939.9001057083, 80030.83314847092, 5580867.431598384, 259215.4937163375, 1839226.421995442, 467411.1, 1216568.452824586, 3378143.4817560096, 217192.52889620553, 192462.35638636278, 262528.8931657502, 4115705.9254167653, 1074032.481617647, 2228670.341066824, 218213.18717948717, 704153.3778851315, 263407.00945073453, 648453.4816756592, 3485661.5861688997, 865045.2284328061, 256790.1951149504, 79084.60043342815, 3026574.4507168457, 873934.456937799, 1661759.9321321035, 1999270.578423889, 164089.46183268228, 1510121.2028155942, 256748.50517110043, 56778.64383845715, 193309.8379759775, 229007.66188042235, 85246.89806415411, 156316.4785996883, 225242.71316549732, 4583625.6026618425, 5263325.7149839625, 227139.281700693, 3715578.1900408077, 2686510.0986846094, 375635.5246264527, 148237.72983583156, 127043.06520418279, 187213.66915422885, 239357.41825628158, 166348.37336375646, 2373286.914734213, 6690705.54194019, 2077349.195670749, 201163.64985628054, 2619077.5020274185, 148195.65119716228, 210447.0906419108, 80457.3480998426, 1989885.9514593908, 81335.14225013855, 156088.95858585858, 187697.4640377673, 126469.7663065634, 5782420.301582919, 55088.24031007752], \"y0\": \" \", \"yaxis\": \"y\"}],\n",
       "                        {\"boxmode\": \"overlay\", \"legend\": {\"title\": {\"text\": \"Fraude\"}, \"tracegroupgap\": 0}, \"margin\": {\"t\": 60}, \"template\": {\"data\": {\"bar\": [{\"error_x\": {\"color\": \"#2a3f5f\"}, \"error_y\": {\"color\": \"#2a3f5f\"}, \"marker\": {\"line\": {\"color\": \"#E5ECF6\", \"width\": 0.5}}, \"type\": \"bar\"}], \"barpolar\": [{\"marker\": {\"line\": {\"color\": \"#E5ECF6\", \"width\": 0.5}}, \"type\": \"barpolar\"}], \"carpet\": [{\"aaxis\": {\"endlinecolor\": \"#2a3f5f\", \"gridcolor\": \"white\", \"linecolor\": \"white\", \"minorgridcolor\": \"white\", \"startlinecolor\": \"#2a3f5f\"}, \"baxis\": {\"endlinecolor\": \"#2a3f5f\", \"gridcolor\": \"white\", \"linecolor\": \"white\", \"minorgridcolor\": \"white\", \"startlinecolor\": \"#2a3f5f\"}, \"type\": \"carpet\"}], \"choropleth\": [{\"colorbar\": {\"outlinewidth\": 0, \"ticks\": \"\"}, \"type\": \"choropleth\"}], \"contour\": [{\"colorbar\": {\"outlinewidth\": 0, \"ticks\": \"\"}, \"colorscale\": [[0.0, \"#0d0887\"], [0.1111111111111111, \"#46039f\"], [0.2222222222222222, \"#7201a8\"], [0.3333333333333333, \"#9c179e\"], [0.4444444444444444, \"#bd3786\"], [0.5555555555555556, \"#d8576b\"], [0.6666666666666666, \"#ed7953\"], [0.7777777777777778, \"#fb9f3a\"], [0.8888888888888888, \"#fdca26\"], [1.0, \"#f0f921\"]], \"type\": \"contour\"}], \"contourcarpet\": [{\"colorbar\": {\"outlinewidth\": 0, \"ticks\": \"\"}, \"type\": \"contourcarpet\"}], \"heatmap\": [{\"colorbar\": {\"outlinewidth\": 0, \"ticks\": \"\"}, \"colorscale\": [[0.0, \"#0d0887\"], [0.1111111111111111, \"#46039f\"], [0.2222222222222222, \"#7201a8\"], [0.3333333333333333, \"#9c179e\"], [0.4444444444444444, \"#bd3786\"], [0.5555555555555556, \"#d8576b\"], [0.6666666666666666, \"#ed7953\"], [0.7777777777777778, \"#fb9f3a\"], [0.8888888888888888, \"#fdca26\"], [1.0, \"#f0f921\"]], \"type\": \"heatmap\"}], \"heatmapgl\": [{\"colorbar\": {\"outlinewidth\": 0, \"ticks\": \"\"}, \"colorscale\": [[0.0, \"#0d0887\"], [0.1111111111111111, \"#46039f\"], [0.2222222222222222, \"#7201a8\"], [0.3333333333333333, \"#9c179e\"], [0.4444444444444444, \"#bd3786\"], [0.5555555555555556, \"#d8576b\"], [0.6666666666666666, \"#ed7953\"], [0.7777777777777778, \"#fb9f3a\"], [0.8888888888888888, \"#fdca26\"], [1.0, \"#f0f921\"]], \"type\": \"heatmapgl\"}], \"histogram\": [{\"marker\": {\"colorbar\": {\"outlinewidth\": 0, \"ticks\": \"\"}}, \"type\": \"histogram\"}], \"histogram2d\": [{\"colorbar\": {\"outlinewidth\": 0, \"ticks\": \"\"}, \"colorscale\": [[0.0, \"#0d0887\"], [0.1111111111111111, \"#46039f\"], [0.2222222222222222, \"#7201a8\"], [0.3333333333333333, \"#9c179e\"], [0.4444444444444444, \"#bd3786\"], [0.5555555555555556, \"#d8576b\"], [0.6666666666666666, \"#ed7953\"], [0.7777777777777778, \"#fb9f3a\"], [0.8888888888888888, \"#fdca26\"], [1.0, \"#f0f921\"]], \"type\": \"histogram2d\"}], \"histogram2dcontour\": [{\"colorbar\": {\"outlinewidth\": 0, \"ticks\": \"\"}, \"colorscale\": [[0.0, \"#0d0887\"], [0.1111111111111111, \"#46039f\"], [0.2222222222222222, \"#7201a8\"], [0.3333333333333333, \"#9c179e\"], [0.4444444444444444, \"#bd3786\"], [0.5555555555555556, \"#d8576b\"], [0.6666666666666666, \"#ed7953\"], [0.7777777777777778, \"#fb9f3a\"], [0.8888888888888888, \"#fdca26\"], [1.0, \"#f0f921\"]], \"type\": \"histogram2dcontour\"}], \"mesh3d\": [{\"colorbar\": {\"outlinewidth\": 0, \"ticks\": \"\"}, \"type\": \"mesh3d\"}], \"parcoords\": [{\"line\": {\"colorbar\": {\"outlinewidth\": 0, \"ticks\": \"\"}}, \"type\": \"parcoords\"}], \"pie\": [{\"automargin\": true, \"type\": \"pie\"}], \"scatter\": [{\"marker\": {\"colorbar\": {\"outlinewidth\": 0, \"ticks\": \"\"}}, \"type\": \"scatter\"}], \"scatter3d\": [{\"line\": {\"colorbar\": {\"outlinewidth\": 0, \"ticks\": \"\"}}, \"marker\": {\"colorbar\": {\"outlinewidth\": 0, \"ticks\": \"\"}}, \"type\": \"scatter3d\"}], \"scattercarpet\": [{\"marker\": {\"colorbar\": {\"outlinewidth\": 0, \"ticks\": \"\"}}, \"type\": \"scattercarpet\"}], \"scattergeo\": [{\"marker\": {\"colorbar\": {\"outlinewidth\": 0, \"ticks\": \"\"}}, \"type\": \"scattergeo\"}], \"scattergl\": [{\"marker\": {\"colorbar\": {\"outlinewidth\": 0, \"ticks\": \"\"}}, \"type\": \"scattergl\"}], \"scattermapbox\": [{\"marker\": {\"colorbar\": {\"outlinewidth\": 0, \"ticks\": \"\"}}, \"type\": \"scattermapbox\"}], \"scatterpolar\": [{\"marker\": {\"colorbar\": {\"outlinewidth\": 0, \"ticks\": \"\"}}, \"type\": \"scatterpolar\"}], \"scatterpolargl\": [{\"marker\": {\"colorbar\": {\"outlinewidth\": 0, \"ticks\": \"\"}}, \"type\": \"scatterpolargl\"}], \"scatterternary\": [{\"marker\": {\"colorbar\": {\"outlinewidth\": 0, \"ticks\": \"\"}}, \"type\": \"scatterternary\"}], \"surface\": [{\"colorbar\": {\"outlinewidth\": 0, \"ticks\": \"\"}, \"colorscale\": [[0.0, \"#0d0887\"], [0.1111111111111111, \"#46039f\"], [0.2222222222222222, \"#7201a8\"], [0.3333333333333333, \"#9c179e\"], [0.4444444444444444, \"#bd3786\"], [0.5555555555555556, \"#d8576b\"], [0.6666666666666666, \"#ed7953\"], [0.7777777777777778, \"#fb9f3a\"], [0.8888888888888888, \"#fdca26\"], [1.0, \"#f0f921\"]], \"type\": \"surface\"}], \"table\": [{\"cells\": {\"fill\": {\"color\": \"#EBF0F8\"}, \"line\": {\"color\": \"white\"}}, \"header\": {\"fill\": {\"color\": \"#C8D4E3\"}, \"line\": {\"color\": \"white\"}}, \"type\": \"table\"}]}, \"layout\": {\"annotationdefaults\": {\"arrowcolor\": \"#2a3f5f\", \"arrowhead\": 0, \"arrowwidth\": 1}, \"coloraxis\": {\"colorbar\": {\"outlinewidth\": 0, \"ticks\": \"\"}}, \"colorscale\": {\"diverging\": [[0, \"#8e0152\"], [0.1, \"#c51b7d\"], [0.2, \"#de77ae\"], [0.3, \"#f1b6da\"], [0.4, \"#fde0ef\"], [0.5, \"#f7f7f7\"], [0.6, \"#e6f5d0\"], [0.7, \"#b8e186\"], [0.8, \"#7fbc41\"], [0.9, \"#4d9221\"], [1, \"#276419\"]], \"sequential\": [[0.0, \"#0d0887\"], [0.1111111111111111, \"#46039f\"], [0.2222222222222222, \"#7201a8\"], [0.3333333333333333, \"#9c179e\"], [0.4444444444444444, \"#bd3786\"], [0.5555555555555556, \"#d8576b\"], [0.6666666666666666, \"#ed7953\"], [0.7777777777777778, \"#fb9f3a\"], [0.8888888888888888, \"#fdca26\"], [1.0, \"#f0f921\"]], \"sequentialminus\": [[0.0, \"#0d0887\"], [0.1111111111111111, \"#46039f\"], [0.2222222222222222, \"#7201a8\"], [0.3333333333333333, \"#9c179e\"], [0.4444444444444444, \"#bd3786\"], [0.5555555555555556, \"#d8576b\"], [0.6666666666666666, \"#ed7953\"], [0.7777777777777778, \"#fb9f3a\"], [0.8888888888888888, \"#fdca26\"], [1.0, \"#f0f921\"]]}, \"colorway\": [\"#636efa\", \"#EF553B\", \"#00cc96\", \"#ab63fa\", \"#FFA15A\", \"#19d3f3\", \"#FF6692\", \"#B6E880\", \"#FF97FF\", \"#FECB52\"], \"font\": {\"color\": \"#2a3f5f\"}, \"geo\": {\"bgcolor\": \"white\", \"lakecolor\": \"white\", \"landcolor\": \"#E5ECF6\", \"showlakes\": true, \"showland\": true, \"subunitcolor\": \"white\"}, \"hoverlabel\": {\"align\": \"left\"}, \"hovermode\": \"closest\", \"mapbox\": {\"style\": \"light\"}, \"paper_bgcolor\": \"white\", \"plot_bgcolor\": \"#E5ECF6\", \"polar\": {\"angularaxis\": {\"gridcolor\": \"white\", \"linecolor\": \"white\", \"ticks\": \"\"}, \"bgcolor\": \"#E5ECF6\", \"radialaxis\": {\"gridcolor\": \"white\", \"linecolor\": \"white\", \"ticks\": \"\"}}, \"scene\": {\"xaxis\": {\"backgroundcolor\": \"#E5ECF6\", \"gridcolor\": \"white\", \"gridwidth\": 2, \"linecolor\": \"white\", \"showbackground\": true, \"ticks\": \"\", \"zerolinecolor\": \"white\"}, \"yaxis\": {\"backgroundcolor\": \"#E5ECF6\", \"gridcolor\": \"white\", \"gridwidth\": 2, \"linecolor\": \"white\", \"showbackground\": true, \"ticks\": \"\", \"zerolinecolor\": \"white\"}, \"zaxis\": {\"backgroundcolor\": \"#E5ECF6\", \"gridcolor\": \"white\", \"gridwidth\": 2, \"linecolor\": \"white\", \"showbackground\": true, \"ticks\": \"\", \"zerolinecolor\": \"white\"}}, \"shapedefaults\": {\"line\": {\"color\": \"#2a3f5f\"}}, \"ternary\": {\"aaxis\": {\"gridcolor\": \"white\", \"linecolor\": \"white\", \"ticks\": \"\"}, \"baxis\": {\"gridcolor\": \"white\", \"linecolor\": \"white\", \"ticks\": \"\"}, \"bgcolor\": \"#E5ECF6\", \"caxis\": {\"gridcolor\": \"white\", \"linecolor\": \"white\", \"ticks\": \"\"}}, \"title\": {\"x\": 0.05}, \"xaxis\": {\"automargin\": true, \"gridcolor\": \"white\", \"linecolor\": \"white\", \"ticks\": \"\", \"title\": {\"standoff\": 15}, \"zerolinecolor\": \"white\", \"zerolinewidth\": 2}, \"yaxis\": {\"automargin\": true, \"gridcolor\": \"white\", \"linecolor\": \"white\", \"ticks\": \"\", \"title\": {\"standoff\": 15}, \"zerolinecolor\": \"white\", \"zerolinewidth\": 2}}}, \"xaxis\": {\"anchor\": \"y\", \"categoryarray\": [0, 1], \"categoryorder\": \"array\", \"domain\": [0.0, 1.0], \"title\": {\"text\": \"Fraude\"}}, \"yaxis\": {\"anchor\": \"x\", \"domain\": [0.0, 1.0], \"title\": {\"text\": \"M\\u00e9dia Gas\"}, \"type\": \"log\"}},\n",
       "                        {\"responsive\": true}\n",
       "                    ).then(function(){\n",
       "                            \n",
       "var gd = document.getElementById('5c3229b0-5144-4a26-9526-781736263f49');\n",
       "var x = new MutationObserver(function (mutations, observer) {{\n",
       "        var display = window.getComputedStyle(gd).display;\n",
       "        if (!display || display === 'none') {{\n",
       "            console.log([gd, 'removed!']);\n",
       "            Plotly.purge(gd);\n",
       "            observer.disconnect();\n",
       "        }}\n",
       "}});\n",
       "\n",
       "// Listen for the removal of the full notebook cells\n",
       "var notebookContainer = gd.closest('#notebook-container');\n",
       "if (notebookContainer) {{\n",
       "    x.observe(notebookContainer, {childList: true});\n",
       "}}\n",
       "\n",
       "// Listen for the clearing of the current output cell\n",
       "var outputEl = gd.closest('.output');\n",
       "if (outputEl) {{\n",
       "    x.observe(outputEl, {childList: true});\n",
       "}}\n",
       "\n",
       "                        })\n",
       "                };\n",
       "                });\n",
       "            </script>\n",
       "        </div>"
      ]
     },
     "metadata": {},
     "output_type": "display_data"
    }
   ],
   "source": [
    "fig = px.box(df_eda, x=\"Fraude\", y=\"Média Gas\", points=\"all\", log_y=True, color='Fraude')\n",
    "fig.show()"
   ]
  },
  {
   "cell_type": "markdown",
   "metadata": {},
   "source": [
    "### 2.4. Boxplot - Média From Adress"
   ]
  },
  {
   "cell_type": "code",
   "execution_count": 10,
   "metadata": {},
   "outputs": [
    {
     "data": {
      "application/vnd.plotly.v1+json": {
       "config": {
        "plotlyServerURL": "https://plot.ly"
       },
       "data": [
        {
         "alignmentgroup": "True",
         "boxpoints": "all",
         "hovertemplate": "Fraude=%{x}<br>Média From Adress=%{y}<extra></extra>",
         "legendgroup": "0",
         "marker": {
          "color": "#636efa"
         },
         "name": "0",
         "notched": false,
         "offsetgroup": "0",
         "orientation": "v",
         "showlegend": true,
         "type": "box",
         "x": [
          0,
          0,
          0,
          0,
          0,
          0,
          0,
          0,
          0,
          0,
          0,
          0,
          0,
          0,
          0,
          0,
          0,
          0,
          0,
          0,
          0,
          0,
          0,
          0,
          0,
          0,
          0,
          0,
          0,
          0,
          0,
          0,
          0,
          0,
          0,
          0,
          0,
          0,
          0,
          0,
          0,
          0,
          0,
          0,
          0,
          0,
          0,
          0,
          0,
          0,
          0,
          0,
          0,
          0,
          0,
          0,
          0,
          0,
          0,
          0,
          0,
          0,
          0,
          0,
          0,
          0,
          0,
          0,
          0,
          0,
          0,
          0,
          0,
          0,
          0,
          0,
          0,
          0,
          0,
          0,
          0,
          0,
          0,
          0,
          0,
          0,
          0,
          0,
          0,
          0,
          0,
          0,
          0,
          0,
          0,
          0,
          0,
          0,
          0,
          0,
          0,
          0,
          0,
          0,
          0
         ],
         "x0": " ",
         "xaxis": "x",
         "y": [
          0.22325488830290063,
          0.16325595461752065,
          0.21255749329244922,
          0.31715788594806715,
          0.1626398912247673,
          0.22733188720173536,
          0.240173819637713,
          0.3361328928339238,
          0.22047798627834067,
          0.21137535209609967,
          0.21317193270414445,
          0.30251321263915437,
          0.2529348986125934,
          0.15135344911225382,
          0.24485232190050243,
          0.2736590921416563,
          0.16727400963912073,
          0.14699300033331747,
          0.17471016446481533,
          0.25389910174356495,
          0.2810196262845604,
          0.30596531351248335,
          0.26415246295320094,
          0.19950632668711657,
          0.1286822205382048,
          0.1663128979897615,
          0.14742025262256475,
          0.3367667255248185,
          0.01912767777059302,
          0.3542070878313475,
          0.22265747414603573,
          0.35540154416681863,
          0.18460967577345888,
          0.16274149971963092,
          0.2644333570919458,
          0.2541522491349481,
          0.22867329705385625,
          0.27096799114155484,
          0.25535508913168486,
          0.1643027675734106,
          0.28488667732093564,
          0.26545124803130815,
          0.21624533313520442,
          0.10378867088996863,
          0.2636939458344732,
          0.2972698946535437,
          0.12428249162809597,
          0.26525750467572906,
          0.1196042660679203,
          0.22282652812728307,
          0.17697374582461836,
          0.20536125333072922,
          0.32568193973970405,
          0.201509017298491,
          0.25213191134668406,
          0.12918149466192172,
          0.24279546491628348,
          0.17350665671759022,
          0.19694370536339448,
          0.2548666344421497,
          0.26832025535310544,
          0.2660666468313002,
          0.09507159935213512,
          0.19548587083258287,
          0.08805431784426056,
          0.13457524111507466,
          0.09625370450112718,
          0.0024718059632318863,
          0.21146613298367897,
          0.36216493335286365,
          0.21740493018729434,
          0.3056079805877595,
          0.3541087733227471,
          0.15151316346398036,
          0.22644062292819547,
          0.20907243163340725,
          0.24029314181835967,
          0.2908018563877788,
          0.2679501631563334,
          0.17568567541116653,
          0.23866904226056515,
          0.1265923566878981,
          0.3274501536052045,
          0.1725610395053966,
          0.11081932773109243,
          0.22712445774624204,
          0.1688595805856799,
          0.2773521582413104,
          0.265234133074831,
          0.11764034035748958,
          0.032308292806430855,
          0.19216563384905816,
          0.09327330508474577,
          0.21515673669560606,
          0.27175250742462986,
          0.23137685629598423,
          0.2320712536815585,
          0.06996020960962683,
          0.26892177589852007,
          0.26134622536258834,
          0.10347957197019601,
          0.702392776523702,
          0.18925295491949498,
          0.24722970949386044,
          0.21764518089039472
         ],
         "y0": " ",
         "yaxis": "y"
        },
        {
         "alignmentgroup": "True",
         "boxpoints": "all",
         "hovertemplate": "Fraude=%{x}<br>Média From Adress=%{y}<extra></extra>",
         "legendgroup": "1",
         "marker": {
          "color": "#EF553B"
         },
         "name": "1",
         "notched": false,
         "offsetgroup": "1",
         "orientation": "v",
         "showlegend": true,
         "type": "box",
         "x": [
          1,
          1,
          1,
          1,
          1,
          1,
          1,
          1,
          1,
          1,
          1,
          1,
          1,
          1,
          1,
          1,
          1,
          1,
          1,
          1,
          1,
          1,
          1,
          1,
          1,
          1,
          1,
          1,
          1,
          1,
          1,
          1,
          1,
          1,
          1,
          1,
          1,
          1,
          1,
          1,
          1,
          1,
          1,
          1,
          1,
          1,
          1,
          1,
          1,
          1,
          1,
          1,
          1,
          1,
          1,
          1,
          1,
          1,
          1,
          1,
          1,
          1,
          1,
          1,
          1,
          1,
          1,
          1,
          1,
          1,
          1,
          1,
          1,
          1,
          1,
          1,
          1,
          1,
          1,
          1,
          1,
          1,
          1,
          1,
          1,
          1,
          1,
          1,
          1,
          1,
          1,
          1,
          1,
          1,
          1,
          1,
          1,
          1,
          1,
          1,
          1,
          1,
          1,
          1,
          1,
          1,
          1,
          1,
          1,
          1,
          1,
          1,
          1,
          1,
          1,
          1,
          1,
          1,
          1,
          1,
          1,
          1,
          1,
          1,
          1,
          1,
          1,
          1,
          1,
          1,
          1,
          1,
          1,
          1,
          1,
          1,
          1,
          1,
          1,
          1,
          1,
          1,
          1,
          1,
          1,
          1,
          1,
          1,
          1
         ],
         "x0": " ",
         "xaxis": "x",
         "y": [
          0.1435800425632537,
          0.17258343305411514,
          0.2047935453251068,
          0.06841578916406847,
          0.15818815331010452,
          0.14708056171470807,
          0.14961414909721965,
          0.011047504268353922,
          0.18694104763643002,
          0.019075568598679385,
          0.26119112495134295,
          0.18961585686721627,
          0.3334575260804769,
          0.11578541103820919,
          0.32682022391784926,
          0.060615290892476394,
          0.023027166882276844,
          0.1015926640926641,
          0.1048075798338987,
          0.33181800670339406,
          0.05172413793103448,
          0.20551724137931035,
          0.1986678250796409,
          0.34485205640060473,
          0.15046867291563887,
          0.016310638745659266,
          0.034545841310359496,
          0.4153019127390924,
          0.06974518483072138,
          0.2899436786720024,
          0.2654220080874129,
          0.2542084591833579,
          0.17453440349099977,
          0.08141657539247901,
          0.15001594348647257,
          0.003961965134706815,
          0.36245954692556637,
          0.15855548667079974,
          0.0647336077799654,
          0.1481218993621545,
          0.28757582565715567,
          0.5776566757493188,
          0.2046853410375581,
          0.061409358426387985,
          0.031301203457822474,
          0.023944018210943427,
          0.1690686169068617,
          0.21322317293351126,
          0.25079881159257805,
          0.09481865284974093,
          0.22958650544857442,
          0.07234530972835727,
          0.06711016887199357,
          0.29923250564334086,
          0.12732365673542145,
          0.3077485380116959,
          0.1140430694570822,
          0.2657213316892725,
          0.16145002936980785,
          0.10698182811859544,
          0.31107258160947027,
          0.1464968152866242,
          0.2459016393442623,
          0.315309539075301,
          0.049365942028985504,
          0.17175141242937852,
          0.25105357109994664,
          0.06994619523443504,
          0.2117410938283994,
          0.04290086887835703,
          0.04168901831557974,
          0.04804639804639805,
          0.22513758477604082,
          0.11690347373211306,
          0.13303679741205013,
          0.06590193432298695,
          0.19330855018587362,
          0.13513513513513514,
          0.2603613177470776,
          0.1926594317766126,
          0.0018329938900203666,
          0.09937249254191956,
          0.07501378929950359,
          0.14081464719193582,
          0.15313852813852813,
          0.08971840209561231,
          0.12661674608577264,
          0.05717265573148763,
          0.09936575052854123,
          0.17952780858817938,
          0.14938257357184073,
          0.013464991023339317,
          0.3007098581735306,
          0.05053191489361702,
          0.10296191819464035,
          0.27240570866947866,
          0.16320994238148787,
          0.18872796676771078,
          0.188622371618042,
          0.03160306549735324,
          0.2596749226006192,
          0.12294261528977389,
          0.10461538461538461,
          0.17659688674181429,
          0.11237952652755684,
          0.21861956632393362,
          0.3622619887165021,
          0.22617306925428685,
          0.256827314726224,
          0.28524989841527837,
          0.1925437167372651,
          0.15869218500797447,
          0.2672656884767959,
          0.00038595137012736397,
          0.23982747395833334,
          0.09668935643564357,
          0.3022969647251846,
          0.10218259111410649,
          0.11500127779197547,
          0.20983253749411526,
          0.06256429439820443,
          0.24247692123246614,
          0.10854312835328106,
          0.06120515139768273,
          0.0381854284405071,
          0.3002434912905038,
          0.06704891781600289,
          3.0308540946838818e-05,
          0.1853901494189264,
          0.025079488676919084,
          0.14623772824661826,
          0.1318407960199005,
          0.16891119064310223,
          0.29230214963372164,
          0.04209775240813414,
          0.010454655968879163,
          0.06693249786385645,
          0.2229807415924116,
          0.31830469202548756,
          0.11055276381909548,
          0.28501119611867887,
          0.11108612547785024,
          0.1906725888324873,
          0.04249030112691668,
          0.1292929292929293,
          0.12877375332248978,
          0.22999534098188806,
          0.06258052641266336,
          0.008785529715762274
         ],
         "y0": " ",
         "yaxis": "y"
        }
       ],
       "layout": {
        "autosize": true,
        "boxmode": "overlay",
        "legend": {
         "title": {
          "text": "Fraude"
         },
         "tracegroupgap": 0
        },
        "margin": {
         "t": 60
        },
        "template": {
         "data": {
          "bar": [
           {
            "error_x": {
             "color": "#2a3f5f"
            },
            "error_y": {
             "color": "#2a3f5f"
            },
            "marker": {
             "line": {
              "color": "#E5ECF6",
              "width": 0.5
             }
            },
            "type": "bar"
           }
          ],
          "barpolar": [
           {
            "marker": {
             "line": {
              "color": "#E5ECF6",
              "width": 0.5
             }
            },
            "type": "barpolar"
           }
          ],
          "carpet": [
           {
            "aaxis": {
             "endlinecolor": "#2a3f5f",
             "gridcolor": "white",
             "linecolor": "white",
             "minorgridcolor": "white",
             "startlinecolor": "#2a3f5f"
            },
            "baxis": {
             "endlinecolor": "#2a3f5f",
             "gridcolor": "white",
             "linecolor": "white",
             "minorgridcolor": "white",
             "startlinecolor": "#2a3f5f"
            },
            "type": "carpet"
           }
          ],
          "choropleth": [
           {
            "colorbar": {
             "outlinewidth": 0,
             "ticks": ""
            },
            "type": "choropleth"
           }
          ],
          "contour": [
           {
            "colorbar": {
             "outlinewidth": 0,
             "ticks": ""
            },
            "colorscale": [
             [
              0,
              "#0d0887"
             ],
             [
              0.1111111111111111,
              "#46039f"
             ],
             [
              0.2222222222222222,
              "#7201a8"
             ],
             [
              0.3333333333333333,
              "#9c179e"
             ],
             [
              0.4444444444444444,
              "#bd3786"
             ],
             [
              0.5555555555555556,
              "#d8576b"
             ],
             [
              0.6666666666666666,
              "#ed7953"
             ],
             [
              0.7777777777777778,
              "#fb9f3a"
             ],
             [
              0.8888888888888888,
              "#fdca26"
             ],
             [
              1,
              "#f0f921"
             ]
            ],
            "type": "contour"
           }
          ],
          "contourcarpet": [
           {
            "colorbar": {
             "outlinewidth": 0,
             "ticks": ""
            },
            "type": "contourcarpet"
           }
          ],
          "heatmap": [
           {
            "colorbar": {
             "outlinewidth": 0,
             "ticks": ""
            },
            "colorscale": [
             [
              0,
              "#0d0887"
             ],
             [
              0.1111111111111111,
              "#46039f"
             ],
             [
              0.2222222222222222,
              "#7201a8"
             ],
             [
              0.3333333333333333,
              "#9c179e"
             ],
             [
              0.4444444444444444,
              "#bd3786"
             ],
             [
              0.5555555555555556,
              "#d8576b"
             ],
             [
              0.6666666666666666,
              "#ed7953"
             ],
             [
              0.7777777777777778,
              "#fb9f3a"
             ],
             [
              0.8888888888888888,
              "#fdca26"
             ],
             [
              1,
              "#f0f921"
             ]
            ],
            "type": "heatmap"
           }
          ],
          "heatmapgl": [
           {
            "colorbar": {
             "outlinewidth": 0,
             "ticks": ""
            },
            "colorscale": [
             [
              0,
              "#0d0887"
             ],
             [
              0.1111111111111111,
              "#46039f"
             ],
             [
              0.2222222222222222,
              "#7201a8"
             ],
             [
              0.3333333333333333,
              "#9c179e"
             ],
             [
              0.4444444444444444,
              "#bd3786"
             ],
             [
              0.5555555555555556,
              "#d8576b"
             ],
             [
              0.6666666666666666,
              "#ed7953"
             ],
             [
              0.7777777777777778,
              "#fb9f3a"
             ],
             [
              0.8888888888888888,
              "#fdca26"
             ],
             [
              1,
              "#f0f921"
             ]
            ],
            "type": "heatmapgl"
           }
          ],
          "histogram": [
           {
            "marker": {
             "colorbar": {
              "outlinewidth": 0,
              "ticks": ""
             }
            },
            "type": "histogram"
           }
          ],
          "histogram2d": [
           {
            "colorbar": {
             "outlinewidth": 0,
             "ticks": ""
            },
            "colorscale": [
             [
              0,
              "#0d0887"
             ],
             [
              0.1111111111111111,
              "#46039f"
             ],
             [
              0.2222222222222222,
              "#7201a8"
             ],
             [
              0.3333333333333333,
              "#9c179e"
             ],
             [
              0.4444444444444444,
              "#bd3786"
             ],
             [
              0.5555555555555556,
              "#d8576b"
             ],
             [
              0.6666666666666666,
              "#ed7953"
             ],
             [
              0.7777777777777778,
              "#fb9f3a"
             ],
             [
              0.8888888888888888,
              "#fdca26"
             ],
             [
              1,
              "#f0f921"
             ]
            ],
            "type": "histogram2d"
           }
          ],
          "histogram2dcontour": [
           {
            "colorbar": {
             "outlinewidth": 0,
             "ticks": ""
            },
            "colorscale": [
             [
              0,
              "#0d0887"
             ],
             [
              0.1111111111111111,
              "#46039f"
             ],
             [
              0.2222222222222222,
              "#7201a8"
             ],
             [
              0.3333333333333333,
              "#9c179e"
             ],
             [
              0.4444444444444444,
              "#bd3786"
             ],
             [
              0.5555555555555556,
              "#d8576b"
             ],
             [
              0.6666666666666666,
              "#ed7953"
             ],
             [
              0.7777777777777778,
              "#fb9f3a"
             ],
             [
              0.8888888888888888,
              "#fdca26"
             ],
             [
              1,
              "#f0f921"
             ]
            ],
            "type": "histogram2dcontour"
           }
          ],
          "mesh3d": [
           {
            "colorbar": {
             "outlinewidth": 0,
             "ticks": ""
            },
            "type": "mesh3d"
           }
          ],
          "parcoords": [
           {
            "line": {
             "colorbar": {
              "outlinewidth": 0,
              "ticks": ""
             }
            },
            "type": "parcoords"
           }
          ],
          "pie": [
           {
            "automargin": true,
            "type": "pie"
           }
          ],
          "scatter": [
           {
            "marker": {
             "colorbar": {
              "outlinewidth": 0,
              "ticks": ""
             }
            },
            "type": "scatter"
           }
          ],
          "scatter3d": [
           {
            "line": {
             "colorbar": {
              "outlinewidth": 0,
              "ticks": ""
             }
            },
            "marker": {
             "colorbar": {
              "outlinewidth": 0,
              "ticks": ""
             }
            },
            "type": "scatter3d"
           }
          ],
          "scattercarpet": [
           {
            "marker": {
             "colorbar": {
              "outlinewidth": 0,
              "ticks": ""
             }
            },
            "type": "scattercarpet"
           }
          ],
          "scattergeo": [
           {
            "marker": {
             "colorbar": {
              "outlinewidth": 0,
              "ticks": ""
             }
            },
            "type": "scattergeo"
           }
          ],
          "scattergl": [
           {
            "marker": {
             "colorbar": {
              "outlinewidth": 0,
              "ticks": ""
             }
            },
            "type": "scattergl"
           }
          ],
          "scattermapbox": [
           {
            "marker": {
             "colorbar": {
              "outlinewidth": 0,
              "ticks": ""
             }
            },
            "type": "scattermapbox"
           }
          ],
          "scatterpolar": [
           {
            "marker": {
             "colorbar": {
              "outlinewidth": 0,
              "ticks": ""
             }
            },
            "type": "scatterpolar"
           }
          ],
          "scatterpolargl": [
           {
            "marker": {
             "colorbar": {
              "outlinewidth": 0,
              "ticks": ""
             }
            },
            "type": "scatterpolargl"
           }
          ],
          "scatterternary": [
           {
            "marker": {
             "colorbar": {
              "outlinewidth": 0,
              "ticks": ""
             }
            },
            "type": "scatterternary"
           }
          ],
          "surface": [
           {
            "colorbar": {
             "outlinewidth": 0,
             "ticks": ""
            },
            "colorscale": [
             [
              0,
              "#0d0887"
             ],
             [
              0.1111111111111111,
              "#46039f"
             ],
             [
              0.2222222222222222,
              "#7201a8"
             ],
             [
              0.3333333333333333,
              "#9c179e"
             ],
             [
              0.4444444444444444,
              "#bd3786"
             ],
             [
              0.5555555555555556,
              "#d8576b"
             ],
             [
              0.6666666666666666,
              "#ed7953"
             ],
             [
              0.7777777777777778,
              "#fb9f3a"
             ],
             [
              0.8888888888888888,
              "#fdca26"
             ],
             [
              1,
              "#f0f921"
             ]
            ],
            "type": "surface"
           }
          ],
          "table": [
           {
            "cells": {
             "fill": {
              "color": "#EBF0F8"
             },
             "line": {
              "color": "white"
             }
            },
            "header": {
             "fill": {
              "color": "#C8D4E3"
             },
             "line": {
              "color": "white"
             }
            },
            "type": "table"
           }
          ]
         },
         "layout": {
          "annotationdefaults": {
           "arrowcolor": "#2a3f5f",
           "arrowhead": 0,
           "arrowwidth": 1
          },
          "coloraxis": {
           "colorbar": {
            "outlinewidth": 0,
            "ticks": ""
           }
          },
          "colorscale": {
           "diverging": [
            [
             0,
             "#8e0152"
            ],
            [
             0.1,
             "#c51b7d"
            ],
            [
             0.2,
             "#de77ae"
            ],
            [
             0.3,
             "#f1b6da"
            ],
            [
             0.4,
             "#fde0ef"
            ],
            [
             0.5,
             "#f7f7f7"
            ],
            [
             0.6,
             "#e6f5d0"
            ],
            [
             0.7,
             "#b8e186"
            ],
            [
             0.8,
             "#7fbc41"
            ],
            [
             0.9,
             "#4d9221"
            ],
            [
             1,
             "#276419"
            ]
           ],
           "sequential": [
            [
             0,
             "#0d0887"
            ],
            [
             0.1111111111111111,
             "#46039f"
            ],
            [
             0.2222222222222222,
             "#7201a8"
            ],
            [
             0.3333333333333333,
             "#9c179e"
            ],
            [
             0.4444444444444444,
             "#bd3786"
            ],
            [
             0.5555555555555556,
             "#d8576b"
            ],
            [
             0.6666666666666666,
             "#ed7953"
            ],
            [
             0.7777777777777778,
             "#fb9f3a"
            ],
            [
             0.8888888888888888,
             "#fdca26"
            ],
            [
             1,
             "#f0f921"
            ]
           ],
           "sequentialminus": [
            [
             0,
             "#0d0887"
            ],
            [
             0.1111111111111111,
             "#46039f"
            ],
            [
             0.2222222222222222,
             "#7201a8"
            ],
            [
             0.3333333333333333,
             "#9c179e"
            ],
            [
             0.4444444444444444,
             "#bd3786"
            ],
            [
             0.5555555555555556,
             "#d8576b"
            ],
            [
             0.6666666666666666,
             "#ed7953"
            ],
            [
             0.7777777777777778,
             "#fb9f3a"
            ],
            [
             0.8888888888888888,
             "#fdca26"
            ],
            [
             1,
             "#f0f921"
            ]
           ]
          },
          "colorway": [
           "#636efa",
           "#EF553B",
           "#00cc96",
           "#ab63fa",
           "#FFA15A",
           "#19d3f3",
           "#FF6692",
           "#B6E880",
           "#FF97FF",
           "#FECB52"
          ],
          "font": {
           "color": "#2a3f5f"
          },
          "geo": {
           "bgcolor": "white",
           "lakecolor": "white",
           "landcolor": "#E5ECF6",
           "showlakes": true,
           "showland": true,
           "subunitcolor": "white"
          },
          "hoverlabel": {
           "align": "left"
          },
          "hovermode": "closest",
          "mapbox": {
           "style": "light"
          },
          "paper_bgcolor": "white",
          "plot_bgcolor": "#E5ECF6",
          "polar": {
           "angularaxis": {
            "gridcolor": "white",
            "linecolor": "white",
            "ticks": ""
           },
           "bgcolor": "#E5ECF6",
           "radialaxis": {
            "gridcolor": "white",
            "linecolor": "white",
            "ticks": ""
           }
          },
          "scene": {
           "xaxis": {
            "backgroundcolor": "#E5ECF6",
            "gridcolor": "white",
            "gridwidth": 2,
            "linecolor": "white",
            "showbackground": true,
            "ticks": "",
            "zerolinecolor": "white"
           },
           "yaxis": {
            "backgroundcolor": "#E5ECF6",
            "gridcolor": "white",
            "gridwidth": 2,
            "linecolor": "white",
            "showbackground": true,
            "ticks": "",
            "zerolinecolor": "white"
           },
           "zaxis": {
            "backgroundcolor": "#E5ECF6",
            "gridcolor": "white",
            "gridwidth": 2,
            "linecolor": "white",
            "showbackground": true,
            "ticks": "",
            "zerolinecolor": "white"
           }
          },
          "shapedefaults": {
           "line": {
            "color": "#2a3f5f"
           }
          },
          "ternary": {
           "aaxis": {
            "gridcolor": "white",
            "linecolor": "white",
            "ticks": ""
           },
           "baxis": {
            "gridcolor": "white",
            "linecolor": "white",
            "ticks": ""
           },
           "bgcolor": "#E5ECF6",
           "caxis": {
            "gridcolor": "white",
            "linecolor": "white",
            "ticks": ""
           }
          },
          "title": {
           "x": 0.05
          },
          "xaxis": {
           "automargin": true,
           "gridcolor": "white",
           "linecolor": "white",
           "ticks": "",
           "title": {
            "standoff": 15
           },
           "zerolinecolor": "white",
           "zerolinewidth": 2
          },
          "yaxis": {
           "automargin": true,
           "gridcolor": "white",
           "linecolor": "white",
           "ticks": "",
           "title": {
            "standoff": 15
           },
           "zerolinecolor": "white",
           "zerolinewidth": 2
          }
         }
        },
        "xaxis": {
         "anchor": "y",
         "autorange": true,
         "categoryarray": [
          0,
          1
         ],
         "categoryorder": "array",
         "domain": [
          0,
          1
         ],
         "range": [
          -0.5088626292466765,
          1.5
         ],
         "title": {
          "text": "Fraude"
         },
         "type": "linear"
        },
        "yaxis": {
         "anchor": "x",
         "autorange": true,
         "domain": [
          0,
          1
         ],
         "range": [
          -0.03898982856920623,
          0.7414129136338551
         ],
         "title": {
          "text": "Média From Adress"
         },
         "type": "linear"
        }
       }
      },
      "image/png": "[encoded data removed]",
      "text/html": [
       "<div>\n",
       "        \n",
       "        \n",
       "            <div id=\"46fa35c9-4e2e-48be-a91a-c81368367be7\" class=\"plotly-graph-div\" style=\"height:525px; width:100%;\"></div>\n",
       "            <script type=\"text/javascript\">\n",
       "                require([\"plotly\"], function(Plotly) {\n",
       "                    window.PLOTLYENV=window.PLOTLYENV || {};\n",
       "                    \n",
       "                if (document.getElementById(\"46fa35c9-4e2e-48be-a91a-c81368367be7\")) {\n",
       "                    Plotly.newPlot(\n",
       "                        '46fa35c9-4e2e-48be-a91a-c81368367be7',\n",
       "                        [{\"alignmentgroup\": \"True\", \"boxpoints\": \"all\", \"hovertemplate\": \"Fraude=%{x}<br>M\\u00e9dia From Adress=%{y}<extra></extra>\", \"legendgroup\": \"0\", \"marker\": {\"color\": \"#636efa\"}, \"name\": \"0\", \"notched\": false, \"offsetgroup\": \"0\", \"orientation\": \"v\", \"showlegend\": true, \"type\": \"box\", \"x\": [0, 0, 0, 0, 0, 0, 0, 0, 0, 0, 0, 0, 0, 0, 0, 0, 0, 0, 0, 0, 0, 0, 0, 0, 0, 0, 0, 0, 0, 0, 0, 0, 0, 0, 0, 0, 0, 0, 0, 0, 0, 0, 0, 0, 0, 0, 0, 0, 0, 0, 0, 0, 0, 0, 0, 0, 0, 0, 0, 0, 0, 0, 0, 0, 0, 0, 0, 0, 0, 0, 0, 0, 0, 0, 0, 0, 0, 0, 0, 0, 0, 0, 0, 0, 0, 0, 0, 0, 0, 0, 0, 0, 0, 0, 0, 0, 0, 0, 0, 0, 0, 0, 0, 0, 0], \"x0\": \" \", \"xaxis\": \"x\", \"y\": [0.22325488830290063, 0.16325595461752065, 0.21255749329244922, 0.31715788594806715, 0.1626398912247673, 0.22733188720173536, 0.240173819637713, 0.3361328928339238, 0.22047798627834067, 0.21137535209609967, 0.21317193270414445, 0.30251321263915437, 0.2529348986125934, 0.15135344911225382, 0.24485232190050243, 0.2736590921416563, 0.16727400963912073, 0.14699300033331747, 0.17471016446481533, 0.25389910174356495, 0.2810196262845604, 0.30596531351248335, 0.26415246295320094, 0.19950632668711657, 0.1286822205382048, 0.1663128979897615, 0.14742025262256475, 0.3367667255248185, 0.01912767777059302, 0.3542070878313475, 0.22265747414603573, 0.35540154416681863, 0.18460967577345888, 0.16274149971963092, 0.2644333570919458, 0.2541522491349481, 0.22867329705385625, 0.27096799114155484, 0.25535508913168486, 0.1643027675734106, 0.28488667732093564, 0.26545124803130815, 0.21624533313520442, 0.10378867088996863, 0.2636939458344732, 0.2972698946535437, 0.12428249162809597, 0.26525750467572906, 0.1196042660679203, 0.22282652812728307, 0.17697374582461836, 0.20536125333072922, 0.32568193973970405, 0.201509017298491, 0.25213191134668406, 0.12918149466192172, 0.24279546491628348, 0.17350665671759022, 0.19694370536339448, 0.2548666344421497, 0.26832025535310544, 0.2660666468313002, 0.09507159935213512, 0.19548587083258287, 0.08805431784426056, 0.13457524111507466, 0.09625370450112718, 0.0024718059632318863, 0.21146613298367897, 0.36216493335286365, 0.21740493018729434, 0.3056079805877595, 0.3541087733227471, 0.15151316346398036, 0.22644062292819547, 0.20907243163340725, 0.24029314181835967, 0.2908018563877788, 0.2679501631563334, 0.17568567541116653, 0.23866904226056515, 0.1265923566878981, 0.3274501536052045, 0.1725610395053966, 0.11081932773109243, 0.22712445774624204, 0.1688595805856799, 0.2773521582413104, 0.265234133074831, 0.11764034035748958, 0.032308292806430855, 0.19216563384905816, 0.09327330508474577, 0.21515673669560606, 0.27175250742462986, 0.23137685629598423, 0.2320712536815585, 0.06996020960962683, 0.26892177589852007, 0.26134622536258834, 0.10347957197019601, 0.702392776523702, 0.18925295491949498, 0.24722970949386044, 0.21764518089039472], \"y0\": \" \", \"yaxis\": \"y\"}, {\"alignmentgroup\": \"True\", \"boxpoints\": \"all\", \"hovertemplate\": \"Fraude=%{x}<br>M\\u00e9dia From Adress=%{y}<extra></extra>\", \"legendgroup\": \"1\", \"marker\": {\"color\": \"#EF553B\"}, \"name\": \"1\", \"notched\": false, \"offsetgroup\": \"1\", \"orientation\": \"v\", \"showlegend\": true, \"type\": \"box\", \"x\": [1, 1, 1, 1, 1, 1, 1, 1, 1, 1, 1, 1, 1, 1, 1, 1, 1, 1, 1, 1, 1, 1, 1, 1, 1, 1, 1, 1, 1, 1, 1, 1, 1, 1, 1, 1, 1, 1, 1, 1, 1, 1, 1, 1, 1, 1, 1, 1, 1, 1, 1, 1, 1, 1, 1, 1, 1, 1, 1, 1, 1, 1, 1, 1, 1, 1, 1, 1, 1, 1, 1, 1, 1, 1, 1, 1, 1, 1, 1, 1, 1, 1, 1, 1, 1, 1, 1, 1, 1, 1, 1, 1, 1, 1, 1, 1, 1, 1, 1, 1, 1, 1, 1, 1, 1, 1, 1, 1, 1, 1, 1, 1, 1, 1, 1, 1, 1, 1, 1, 1, 1, 1, 1, 1, 1, 1, 1, 1, 1, 1, 1, 1, 1, 1, 1, 1, 1, 1, 1, 1, 1, 1, 1, 1, 1, 1, 1, 1, 1], \"x0\": \" \", \"xaxis\": \"x\", \"y\": [0.1435800425632537, 0.17258343305411514, 0.2047935453251068, 0.06841578916406847, 0.15818815331010452, 0.14708056171470807, 0.14961414909721965, 0.011047504268353922, 0.18694104763643002, 0.019075568598679385, 0.26119112495134295, 0.18961585686721627, 0.3334575260804769, 0.11578541103820919, 0.32682022391784926, 0.060615290892476394, 0.023027166882276844, 0.1015926640926641, 0.1048075798338987, 0.33181800670339406, 0.05172413793103448, 0.20551724137931035, 0.1986678250796409, 0.34485205640060473, 0.15046867291563887, 0.016310638745659266, 0.034545841310359496, 0.4153019127390924, 0.06974518483072138, 0.2899436786720024, 0.2654220080874129, 0.2542084591833579, 0.17453440349099977, 0.08141657539247901, 0.15001594348647257, 0.003961965134706815, 0.36245954692556637, 0.15855548667079974, 0.0647336077799654, 0.1481218993621545, 0.28757582565715567, 0.5776566757493188, 0.2046853410375581, 0.061409358426387985, 0.031301203457822474, 0.023944018210943427, 0.1690686169068617, 0.21322317293351126, 0.25079881159257805, 0.09481865284974093, 0.22958650544857442, 0.07234530972835727, 0.06711016887199357, 0.29923250564334086, 0.12732365673542145, 0.3077485380116959, 0.1140430694570822, 0.2657213316892725, 0.16145002936980785, 0.10698182811859544, 0.31107258160947027, 0.1464968152866242, 0.2459016393442623, 0.315309539075301, 0.049365942028985504, 0.17175141242937852, 0.25105357109994664, 0.06994619523443504, 0.2117410938283994, 0.04290086887835703, 0.04168901831557974, 0.04804639804639805, 0.22513758477604082, 0.11690347373211306, 0.13303679741205013, 0.06590193432298695, 0.19330855018587362, 0.13513513513513514, 0.2603613177470776, 0.1926594317766126, 0.0018329938900203666, 0.09937249254191956, 0.07501378929950359, 0.14081464719193582, 0.15313852813852813, 0.08971840209561231, 0.12661674608577264, 0.05717265573148763, 0.09936575052854123, 0.17952780858817938, 0.14938257357184073, 0.013464991023339317, 0.3007098581735306, 0.05053191489361702, 0.10296191819464035, 0.27240570866947866, 0.16320994238148787, 0.18872796676771078, 0.188622371618042, 0.03160306549735324, 0.2596749226006192, 0.12294261528977389, 0.10461538461538461, 0.17659688674181429, 0.11237952652755684, 0.21861956632393362, 0.3622619887165021, 0.22617306925428685, 0.256827314726224, 0.28524989841527837, 0.1925437167372651, 0.15869218500797447, 0.2672656884767959, 0.00038595137012736397, 0.23982747395833334, 0.09668935643564357, 0.3022969647251846, 0.10218259111410649, 0.11500127779197547, 0.20983253749411526, 0.06256429439820443, 0.24247692123246614, 0.10854312835328106, 0.06120515139768273, 0.0381854284405071, 0.3002434912905038, 0.06704891781600289, 3.0308540946838818e-05, 0.1853901494189264, 0.025079488676919084, 0.14623772824661826, 0.1318407960199005, 0.16891119064310223, 0.29230214963372164, 0.04209775240813414, 0.010454655968879163, 0.06693249786385645, 0.2229807415924116, 0.31830469202548756, 0.11055276381909548, 0.28501119611867887, 0.11108612547785024, 0.1906725888324873, 0.04249030112691668, 0.1292929292929293, 0.12877375332248978, 0.22999534098188806, 0.06258052641266336, 0.008785529715762274], \"y0\": \" \", \"yaxis\": \"y\"}],\n",
       "                        {\"boxmode\": \"overlay\", \"legend\": {\"title\": {\"text\": \"Fraude\"}, \"tracegroupgap\": 0}, \"margin\": {\"t\": 60}, \"template\": {\"data\": {\"bar\": [{\"error_x\": {\"color\": \"#2a3f5f\"}, \"error_y\": {\"color\": \"#2a3f5f\"}, \"marker\": {\"line\": {\"color\": \"#E5ECF6\", \"width\": 0.5}}, \"type\": \"bar\"}], \"barpolar\": [{\"marker\": {\"line\": {\"color\": \"#E5ECF6\", \"width\": 0.5}}, \"type\": \"barpolar\"}], \"carpet\": [{\"aaxis\": {\"endlinecolor\": \"#2a3f5f\", \"gridcolor\": \"white\", \"linecolor\": \"white\", \"minorgridcolor\": \"white\", \"startlinecolor\": \"#2a3f5f\"}, \"baxis\": {\"endlinecolor\": \"#2a3f5f\", \"gridcolor\": \"white\", \"linecolor\": \"white\", \"minorgridcolor\": \"white\", \"startlinecolor\": \"#2a3f5f\"}, \"type\": \"carpet\"}], \"choropleth\": [{\"colorbar\": {\"outlinewidth\": 0, \"ticks\": \"\"}, \"type\": \"choropleth\"}], \"contour\": [{\"colorbar\": {\"outlinewidth\": 0, \"ticks\": \"\"}, \"colorscale\": [[0.0, \"#0d0887\"], [0.1111111111111111, \"#46039f\"], [0.2222222222222222, \"#7201a8\"], [0.3333333333333333, \"#9c179e\"], [0.4444444444444444, \"#bd3786\"], [0.5555555555555556, \"#d8576b\"], [0.6666666666666666, \"#ed7953\"], [0.7777777777777778, \"#fb9f3a\"], [0.8888888888888888, \"#fdca26\"], [1.0, \"#f0f921\"]], \"type\": \"contour\"}], \"contourcarpet\": [{\"colorbar\": {\"outlinewidth\": 0, \"ticks\": \"\"}, \"type\": \"contourcarpet\"}], \"heatmap\": [{\"colorbar\": {\"outlinewidth\": 0, \"ticks\": \"\"}, \"colorscale\": [[0.0, \"#0d0887\"], [0.1111111111111111, \"#46039f\"], [0.2222222222222222, \"#7201a8\"], [0.3333333333333333, \"#9c179e\"], [0.4444444444444444, \"#bd3786\"], [0.5555555555555556, \"#d8576b\"], [0.6666666666666666, \"#ed7953\"], [0.7777777777777778, \"#fb9f3a\"], [0.8888888888888888, \"#fdca26\"], [1.0, \"#f0f921\"]], \"type\": \"heatmap\"}], \"heatmapgl\": [{\"colorbar\": {\"outlinewidth\": 0, \"ticks\": \"\"}, \"colorscale\": [[0.0, \"#0d0887\"], [0.1111111111111111, \"#46039f\"], [0.2222222222222222, \"#7201a8\"], [0.3333333333333333, \"#9c179e\"], [0.4444444444444444, \"#bd3786\"], [0.5555555555555556, \"#d8576b\"], [0.6666666666666666, \"#ed7953\"], [0.7777777777777778, \"#fb9f3a\"], [0.8888888888888888, \"#fdca26\"], [1.0, \"#f0f921\"]], \"type\": \"heatmapgl\"}], \"histogram\": [{\"marker\": {\"colorbar\": {\"outlinewidth\": 0, \"ticks\": \"\"}}, \"type\": \"histogram\"}], \"histogram2d\": [{\"colorbar\": {\"outlinewidth\": 0, \"ticks\": \"\"}, \"colorscale\": [[0.0, \"#0d0887\"], [0.1111111111111111, \"#46039f\"], [0.2222222222222222, \"#7201a8\"], [0.3333333333333333, \"#9c179e\"], [0.4444444444444444, \"#bd3786\"], [0.5555555555555556, \"#d8576b\"], [0.6666666666666666, \"#ed7953\"], [0.7777777777777778, \"#fb9f3a\"], [0.8888888888888888, \"#fdca26\"], [1.0, \"#f0f921\"]], \"type\": \"histogram2d\"}], \"histogram2dcontour\": [{\"colorbar\": {\"outlinewidth\": 0, \"ticks\": \"\"}, \"colorscale\": [[0.0, \"#0d0887\"], [0.1111111111111111, \"#46039f\"], [0.2222222222222222, \"#7201a8\"], [0.3333333333333333, \"#9c179e\"], [0.4444444444444444, \"#bd3786\"], [0.5555555555555556, \"#d8576b\"], [0.6666666666666666, \"#ed7953\"], [0.7777777777777778, \"#fb9f3a\"], [0.8888888888888888, \"#fdca26\"], [1.0, \"#f0f921\"]], \"type\": \"histogram2dcontour\"}], \"mesh3d\": [{\"colorbar\": {\"outlinewidth\": 0, \"ticks\": \"\"}, \"type\": \"mesh3d\"}], \"parcoords\": [{\"line\": {\"colorbar\": {\"outlinewidth\": 0, \"ticks\": \"\"}}, \"type\": \"parcoords\"}], \"pie\": [{\"automargin\": true, \"type\": \"pie\"}], \"scatter\": [{\"marker\": {\"colorbar\": {\"outlinewidth\": 0, \"ticks\": \"\"}}, \"type\": \"scatter\"}], \"scatter3d\": [{\"line\": {\"colorbar\": {\"outlinewidth\": 0, \"ticks\": \"\"}}, \"marker\": {\"colorbar\": {\"outlinewidth\": 0, \"ticks\": \"\"}}, \"type\": \"scatter3d\"}], \"scattercarpet\": [{\"marker\": {\"colorbar\": {\"outlinewidth\": 0, \"ticks\": \"\"}}, \"type\": \"scattercarpet\"}], \"scattergeo\": [{\"marker\": {\"colorbar\": {\"outlinewidth\": 0, \"ticks\": \"\"}}, \"type\": \"scattergeo\"}], \"scattergl\": [{\"marker\": {\"colorbar\": {\"outlinewidth\": 0, \"ticks\": \"\"}}, \"type\": \"scattergl\"}], \"scattermapbox\": [{\"marker\": {\"colorbar\": {\"outlinewidth\": 0, \"ticks\": \"\"}}, \"type\": \"scattermapbox\"}], \"scatterpolar\": [{\"marker\": {\"colorbar\": {\"outlinewidth\": 0, \"ticks\": \"\"}}, \"type\": \"scatterpolar\"}], \"scatterpolargl\": [{\"marker\": {\"colorbar\": {\"outlinewidth\": 0, \"ticks\": \"\"}}, \"type\": \"scatterpolargl\"}], \"scatterternary\": [{\"marker\": {\"colorbar\": {\"outlinewidth\": 0, \"ticks\": \"\"}}, \"type\": \"scatterternary\"}], \"surface\": [{\"colorbar\": {\"outlinewidth\": 0, \"ticks\": \"\"}, \"colorscale\": [[0.0, \"#0d0887\"], [0.1111111111111111, \"#46039f\"], [0.2222222222222222, \"#7201a8\"], [0.3333333333333333, \"#9c179e\"], [0.4444444444444444, \"#bd3786\"], [0.5555555555555556, \"#d8576b\"], [0.6666666666666666, \"#ed7953\"], [0.7777777777777778, \"#fb9f3a\"], [0.8888888888888888, \"#fdca26\"], [1.0, \"#f0f921\"]], \"type\": \"surface\"}], \"table\": [{\"cells\": {\"fill\": {\"color\": \"#EBF0F8\"}, \"line\": {\"color\": \"white\"}}, \"header\": {\"fill\": {\"color\": \"#C8D4E3\"}, \"line\": {\"color\": \"white\"}}, \"type\": \"table\"}]}, \"layout\": {\"annotationdefaults\": {\"arrowcolor\": \"#2a3f5f\", \"arrowhead\": 0, \"arrowwidth\": 1}, \"coloraxis\": {\"colorbar\": {\"outlinewidth\": 0, \"ticks\": \"\"}}, \"colorscale\": {\"diverging\": [[0, \"#8e0152\"], [0.1, \"#c51b7d\"], [0.2, \"#de77ae\"], [0.3, \"#f1b6da\"], [0.4, \"#fde0ef\"], [0.5, \"#f7f7f7\"], [0.6, \"#e6f5d0\"], [0.7, \"#b8e186\"], [0.8, \"#7fbc41\"], [0.9, \"#4d9221\"], [1, \"#276419\"]], \"sequential\": [[0.0, \"#0d0887\"], [0.1111111111111111, \"#46039f\"], [0.2222222222222222, \"#7201a8\"], [0.3333333333333333, \"#9c179e\"], [0.4444444444444444, \"#bd3786\"], [0.5555555555555556, \"#d8576b\"], [0.6666666666666666, \"#ed7953\"], [0.7777777777777778, \"#fb9f3a\"], [0.8888888888888888, \"#fdca26\"], [1.0, \"#f0f921\"]], \"sequentialminus\": [[0.0, \"#0d0887\"], [0.1111111111111111, \"#46039f\"], [0.2222222222222222, \"#7201a8\"], [0.3333333333333333, \"#9c179e\"], [0.4444444444444444, \"#bd3786\"], [0.5555555555555556, \"#d8576b\"], [0.6666666666666666, \"#ed7953\"], [0.7777777777777778, \"#fb9f3a\"], [0.8888888888888888, \"#fdca26\"], [1.0, \"#f0f921\"]]}, \"colorway\": [\"#636efa\", \"#EF553B\", \"#00cc96\", \"#ab63fa\", \"#FFA15A\", \"#19d3f3\", \"#FF6692\", \"#B6E880\", \"#FF97FF\", \"#FECB52\"], \"font\": {\"color\": \"#2a3f5f\"}, \"geo\": {\"bgcolor\": \"white\", \"lakecolor\": \"white\", \"landcolor\": \"#E5ECF6\", \"showlakes\": true, \"showland\": true, \"subunitcolor\": \"white\"}, \"hoverlabel\": {\"align\": \"left\"}, \"hovermode\": \"closest\", \"mapbox\": {\"style\": \"light\"}, \"paper_bgcolor\": \"white\", \"plot_bgcolor\": \"#E5ECF6\", \"polar\": {\"angularaxis\": {\"gridcolor\": \"white\", \"linecolor\": \"white\", \"ticks\": \"\"}, \"bgcolor\": \"#E5ECF6\", \"radialaxis\": {\"gridcolor\": \"white\", \"linecolor\": \"white\", \"ticks\": \"\"}}, \"scene\": {\"xaxis\": {\"backgroundcolor\": \"#E5ECF6\", \"gridcolor\": \"white\", \"gridwidth\": 2, \"linecolor\": \"white\", \"showbackground\": true, \"ticks\": \"\", \"zerolinecolor\": \"white\"}, \"yaxis\": {\"backgroundcolor\": \"#E5ECF6\", \"gridcolor\": \"white\", \"gridwidth\": 2, \"linecolor\": \"white\", \"showbackground\": true, \"ticks\": \"\", \"zerolinecolor\": \"white\"}, \"zaxis\": {\"backgroundcolor\": \"#E5ECF6\", \"gridcolor\": \"white\", \"gridwidth\": 2, \"linecolor\": \"white\", \"showbackground\": true, \"ticks\": \"\", \"zerolinecolor\": \"white\"}}, \"shapedefaults\": {\"line\": {\"color\": \"#2a3f5f\"}}, \"ternary\": {\"aaxis\": {\"gridcolor\": \"white\", \"linecolor\": \"white\", \"ticks\": \"\"}, \"baxis\": {\"gridcolor\": \"white\", \"linecolor\": \"white\", \"ticks\": \"\"}, \"bgcolor\": \"#E5ECF6\", \"caxis\": {\"gridcolor\": \"white\", \"linecolor\": \"white\", \"ticks\": \"\"}}, \"title\": {\"x\": 0.05}, \"xaxis\": {\"automargin\": true, \"gridcolor\": \"white\", \"linecolor\": \"white\", \"ticks\": \"\", \"title\": {\"standoff\": 15}, \"zerolinecolor\": \"white\", \"zerolinewidth\": 2}, \"yaxis\": {\"automargin\": true, \"gridcolor\": \"white\", \"linecolor\": \"white\", \"ticks\": \"\", \"title\": {\"standoff\": 15}, \"zerolinecolor\": \"white\", \"zerolinewidth\": 2}}}, \"xaxis\": {\"anchor\": \"y\", \"categoryarray\": [0, 1], \"categoryorder\": \"array\", \"domain\": [0.0, 1.0], \"title\": {\"text\": \"Fraude\"}}, \"yaxis\": {\"anchor\": \"x\", \"domain\": [0.0, 1.0], \"title\": {\"text\": \"M\\u00e9dia From Adress\"}}},\n",
       "                        {\"responsive\": true}\n",
       "                    ).then(function(){\n",
       "                            \n",
       "var gd = document.getElementById('46fa35c9-4e2e-48be-a91a-c81368367be7');\n",
       "var x = new MutationObserver(function (mutations, observer) {{\n",
       "        var display = window.getComputedStyle(gd).display;\n",
       "        if (!display || display === 'none') {{\n",
       "            console.log([gd, 'removed!']);\n",
       "            Plotly.purge(gd);\n",
       "            observer.disconnect();\n",
       "        }}\n",
       "}});\n",
       "\n",
       "// Listen for the removal of the full notebook cells\n",
       "var notebookContainer = gd.closest('#notebook-container');\n",
       "if (notebookContainer) {{\n",
       "    x.observe(notebookContainer, {childList: true});\n",
       "}}\n",
       "\n",
       "// Listen for the clearing of the current output cell\n",
       "var outputEl = gd.closest('.output');\n",
       "if (outputEl) {{\n",
       "    x.observe(outputEl, {childList: true});\n",
       "}}\n",
       "\n",
       "                        })\n",
       "                };\n",
       "                });\n",
       "            </script>\n",
       "        </div>"
      ]
     },
     "metadata": {},
     "output_type": "display_data"
    }
   ],
   "source": [
    "fig = px.box(df_eda, x=\"Fraude\", y=\"Média From Adress\", points=\"all\", log_y=False, color='Fraude')\n",
    "fig.show()"
   ]
  },
  {
   "cell_type": "markdown",
   "metadata": {},
   "source": [
    "### 2.5. Boxplot - Média To Adress"
   ]
  },
  {
   "cell_type": "code",
   "execution_count": 24,
   "metadata": {},
   "outputs": [
    {
     "data": {
      "application/vnd.plotly.v1+json": {
       "config": {
        "plotlyServerURL": "https://plot.ly"
       },
       "data": [
        {
         "alignmentgroup": "True",
         "boxpoints": "all",
         "hovertemplate": "Fraude=%{x}<br>Média To Address=%{y}<extra></extra>",
         "legendgroup": "0",
         "marker": {
          "color": "#636efa"
         },
         "name": "0",
         "notched": false,
         "offsetgroup": "0",
         "orientation": "v",
         "showlegend": true,
         "type": "box",
         "x": [
          0,
          0,
          0,
          0,
          0,
          0,
          0,
          0,
          0,
          0,
          0,
          0,
          0,
          0,
          0,
          0,
          0,
          0,
          0,
          0,
          0,
          0,
          0,
          0,
          0,
          0,
          0,
          0,
          0,
          0,
          0,
          0,
          0,
          0,
          0,
          0,
          0,
          0,
          0,
          0,
          0,
          0,
          0,
          0,
          0,
          0,
          0,
          0,
          0,
          0,
          0,
          0,
          0,
          0,
          0,
          0,
          0,
          0,
          0,
          0,
          0,
          0,
          0,
          0,
          0,
          0,
          0,
          0,
          0,
          0,
          0,
          0,
          0,
          0,
          0,
          0,
          0,
          0,
          0,
          0,
          0,
          0,
          0,
          0,
          0,
          0,
          0,
          0,
          0,
          0,
          0,
          0,
          0,
          0,
          0,
          0,
          0,
          0,
          0,
          0,
          0,
          0,
          0,
          0,
          0
         ],
         "x0": " ",
         "xaxis": "x",
         "y": [
          0.332805943910974,
          0.3758351127688628,
          0.2920180145649674,
          0.45991483677047673,
          0.3169124568559774,
          0.29606445615122406,
          0.27002262259329785,
          0.48167018270111056,
          0.3468126675450952,
          0.2887384171171666,
          0.23553549446040214,
          0.5750871471944226,
          0.4011985879648633,
          0.21339866110410402,
          0.5413556762408155,
          0.5891317316557297,
          0.44868931468202655,
          0.1742059901909433,
          0.49114765884784756,
          0.4076337863320112,
          0.4504363701746864,
          0.43805222031637125,
          0.40972588297311546,
          0.4768021472392638,
          0.19529675432514793,
          0.6610063678361843,
          0.24170413187754228,
          0.4171571512654503,
          0.28438080140172295,
          0.4666887193938893,
          0.3138592917580696,
          0.6457535412487081,
          0.4468137271142976,
          0.5023194168323393,
          0.46336421952957946,
          0.41651013346515076,
          0.4096453368361794,
          0.4527592511523704,
          0.5064093348667816,
          0.2350205113807095,
          0.43429463896556736,
          0.45520927790769816,
          0.29901368947006707,
          0.7236607417430346,
          0.4777466804149744,
          0.432390325931055,
          0.6562732066377406,
          0.34851160312202867,
          0.7404574796519787,
          0.49839494055745376,
          0.53722723441451,
          0.45280478787963335,
          0.439271706186486,
          0.7103422892896577,
          0.41294321314838955,
          0.2299644128113879,
          0.3327424620028783,
          0.20445352079487886,
          0.3747111749054754,
          0.3535175989805335,
          0.40111716983641443,
          0.5487206188634335,
          0.15420212355708665,
          0.2716345470229688,
          0.4966404979135724,
          0.21876073457524112,
          0.20117024240735581,
          0.6004943611926464,
          0.3985197198164315,
          0.5245349348176359,
          0.5700642458330928,
          0.5006740361283365,
          0.41167129813418024,
          0.1922140861762465,
          0.3801837394633942,
          0.3282520325203252,
          0.5047240179015415,
          0.3919363155859224,
          0.44306733906852563,
          0.2218270355429308,
          0.31912665666416606,
          0.3524858457183298,
          0.35841214384675624,
          0.6492979147018757,
          0.48301820728291317,
          0.44167199112217104,
          0.3295621464512298,
          0.3619432450676958,
          0.4454250477959986,
          0.13928387870481412,
          0.9446351523846698,
          0.6434522099560882,
          0.12238112052730697,
          0.42448141029889325,
          0.37905775367178346,
          0.31977190316416654,
          0.34831978992938506,
          0.4775428804212344,
          0.36300211416490485,
          0.5801413164745258,
          0.1890708942660987,
          0.8552595936794583,
          0.3349676023432195,
          0.30490041928721173,
          0.33188984892330825
         ],
         "y0": " ",
         "yaxis": "y"
        },
        {
         "alignmentgroup": "True",
         "boxpoints": "all",
         "hovertemplate": "Fraude=%{x}<br>Média To Address=%{y}<extra></extra>",
         "legendgroup": "1",
         "marker": {
          "color": "#EF553B"
         },
         "name": "1",
         "notched": false,
         "offsetgroup": "1",
         "orientation": "v",
         "showlegend": true,
         "type": "box",
         "x": [
          1,
          1,
          1,
          1,
          1,
          1,
          1,
          1,
          1,
          1,
          1,
          1,
          1,
          1,
          1,
          1,
          1,
          1,
          1,
          1,
          1,
          1,
          1,
          1,
          1,
          1,
          1,
          1,
          1,
          1,
          1,
          1,
          1,
          1,
          1,
          1,
          1,
          1,
          1,
          1,
          1,
          1,
          1,
          1,
          1,
          1,
          1,
          1,
          1,
          1,
          1,
          1,
          1,
          1,
          1,
          1,
          1,
          1,
          1,
          1,
          1,
          1,
          1,
          1,
          1,
          1,
          1,
          1,
          1,
          1,
          1,
          1,
          1,
          1,
          1,
          1,
          1,
          1,
          1,
          1,
          1,
          1,
          1,
          1,
          1,
          1,
          1,
          1,
          1,
          1,
          1,
          1,
          1,
          1,
          1,
          1,
          1,
          1,
          1,
          1,
          1,
          1,
          1,
          1,
          1,
          1,
          1,
          1,
          1,
          1,
          1,
          1,
          1,
          1,
          1,
          1,
          1,
          1,
          1,
          1,
          1,
          1,
          1,
          1,
          1,
          1,
          1,
          1,
          1,
          1,
          1,
          1,
          1,
          1,
          1,
          1,
          1,
          1,
          1,
          1,
          1,
          1,
          1,
          1,
          1,
          1,
          1,
          1,
          1
         ],
         "x0": " ",
         "xaxis": "x",
         "y": [
          0.783920548593048,
          0.5019722554624828,
          0.3875177978168011,
          0.8172245426201541,
          0.6515679442508711,
          0.8680709534368071,
          0.18709153343425766,
          0.7227076428643165,
          0.5683975177952181,
          0.9082905355832722,
          0.4301284546516154,
          0.7624539554464129,
          0.6293591654247392,
          0.8174450019297569,
          0.3792341153818726,
          0.8822723119098386,
          0.3345407503234153,
          0.7934362934362934,
          0.7788045385425196,
          0.37508186616327005,
          0.5817575083426029,
          0.5586206896551724,
          0.7604981175789168,
          0.4690999969146277,
          0.20868278243709917,
          0.7334525939177102,
          0.7662624973409913,
          0.5572571571446431,
          0.2006220839813375,
          0.3764265599525715,
          0.36754710487825865,
          0.42621666477676867,
          0.642414088677628,
          0.6422051843738591,
          0.7343815153670681,
          0.9841521394611727,
          0.4120819848975189,
          0.35581990080595166,
          0.5184654853529026,
          0.5035435861091424,
          0.6946753538530668,
          0.6039963669391463,
          0.7170581585227986,
          0.24108129881173496,
          0.8772812023278151,
          0.4399572829722058,
          0.6713271671327167,
          0.667674071748175,
          0.4316946017153428,
          0.7258203799654577,
          0.3827436930885207,
          0.5401203436402212,
          0.9034286132027195,
          0.491196388261851,
          0.45760122230710465,
          0.6783625730994152,
          0.20448892932969365,
          0.3692971639950678,
          0.6788621297306369,
          0.3006899849706244,
          0.5039459524094224,
          0.4893842887473461,
          0.5159112825458052,
          0.5613972596233763,
          0.7391304347826086,
          0.2519774011299435,
          0.6624769195850739,
          0.8877786318216756,
          0.36628198695434017,
          0.7697719194312796,
          0.444478504099931,
          0.7692918192918193,
          0.4172297509057403,
          0.24725691459776508,
          0.8059037606146381,
          0.9084570400359874,
          0.7810821974390748,
          0.7849588719153937,
          0.6997874601487779,
          0.7105231069381782,
          0.9883910386965377,
          0.622569694475877,
          0.580253723110866,
          0.8679284097922239,
          0.7513528138528138,
          0.752128356254093,
          0.7658270932607216,
          0.6738409026263392,
          0.8393234672304439,
          0.43146886388844874,
          0.8161684939411425,
          0.36894075403949733,
          0.4569657555126512,
          0.1077127659574468,
          0.7879147798975578,
          0.6483834309349277,
          0.20873668224028194,
          0.7680850267579806,
          0.48976049982644915,
          0.9134866082009955,
          0.6956269349845201,
          0.750966133939639,
          0.28602564102564104,
          0.38762364849321373,
          0.8531861139702442,
          0.6734195256031762,
          0.5323959802538787,
          0.5921175063139705,
          0.5616576911511441,
          0.4728430177434647,
          0.33113391984359725,
          0.46730462519936206,
          0.6929216651531807,
          0.9995025515673914,
          0.3104654947916667,
          0.6859529702970297,
          0.3728612445798664,
          0.1212781032367325,
          0.3582928699207769,
          0.4375210168807586,
          0.08659870943607968,
          0.6620309315429804,
          0.7680561287659926,
          0.833699444372658,
          0.9208797922712693,
          0.6062933133545608,
          0.9433855054496617,
          0.6975813784324423,
          0.4936358605423354,
          0.02926481084939329,
          0.6999456365322503,
          0.5024875621890548,
          0.3222152529240305,
          0.5573435811216525,
          0.9618266143417766,
          0.9788475565280816,
          0.675875818855027,
          0.319244035642426,
          0.5911372851901912,
          0.6172036653857523,
          0.49913696585183803,
          0.3773330335057342,
          0.5078257191201354,
          0.6691298725290966,
          0.3621212121212121,
          0.21434522156543817,
          0.394167491701124,
          0.8987667955089269,
          0.7364341085271318
         ],
         "y0": " ",
         "yaxis": "y"
        }
       ],
       "layout": {
        "autosize": true,
        "boxmode": "overlay",
        "legend": {
         "title": {
          "text": "Fraude"
         },
         "tracegroupgap": 0
        },
        "margin": {
         "t": 60
        },
        "template": {
         "data": {
          "bar": [
           {
            "error_x": {
             "color": "#2a3f5f"
            },
            "error_y": {
             "color": "#2a3f5f"
            },
            "marker": {
             "line": {
              "color": "#E5ECF6",
              "width": 0.5
             }
            },
            "type": "bar"
           }
          ],
          "barpolar": [
           {
            "marker": {
             "line": {
              "color": "#E5ECF6",
              "width": 0.5
             }
            },
            "type": "barpolar"
           }
          ],
          "carpet": [
           {
            "aaxis": {
             "endlinecolor": "#2a3f5f",
             "gridcolor": "white",
             "linecolor": "white",
             "minorgridcolor": "white",
             "startlinecolor": "#2a3f5f"
            },
            "baxis": {
             "endlinecolor": "#2a3f5f",
             "gridcolor": "white",
             "linecolor": "white",
             "minorgridcolor": "white",
             "startlinecolor": "#2a3f5f"
            },
            "type": "carpet"
           }
          ],
          "choropleth": [
           {
            "colorbar": {
             "outlinewidth": 0,
             "ticks": ""
            },
            "type": "choropleth"
           }
          ],
          "contour": [
           {
            "colorbar": {
             "outlinewidth": 0,
             "ticks": ""
            },
            "colorscale": [
             [
              0,
              "#0d0887"
             ],
             [
              0.1111111111111111,
              "#46039f"
             ],
             [
              0.2222222222222222,
              "#7201a8"
             ],
             [
              0.3333333333333333,
              "#9c179e"
             ],
             [
              0.4444444444444444,
              "#bd3786"
             ],
             [
              0.5555555555555556,
              "#d8576b"
             ],
             [
              0.6666666666666666,
              "#ed7953"
             ],
             [
              0.7777777777777778,
              "#fb9f3a"
             ],
             [
              0.8888888888888888,
              "#fdca26"
             ],
             [
              1,
              "#f0f921"
             ]
            ],
            "type": "contour"
           }
          ],
          "contourcarpet": [
           {
            "colorbar": {
             "outlinewidth": 0,
             "ticks": ""
            },
            "type": "contourcarpet"
           }
          ],
          "heatmap": [
           {
            "colorbar": {
             "outlinewidth": 0,
             "ticks": ""
            },
            "colorscale": [
             [
              0,
              "#0d0887"
             ],
             [
              0.1111111111111111,
              "#46039f"
             ],
             [
              0.2222222222222222,
              "#7201a8"
             ],
             [
              0.3333333333333333,
              "#9c179e"
             ],
             [
              0.4444444444444444,
              "#bd3786"
             ],
             [
              0.5555555555555556,
              "#d8576b"
             ],
             [
              0.6666666666666666,
              "#ed7953"
             ],
             [
              0.7777777777777778,
              "#fb9f3a"
             ],
             [
              0.8888888888888888,
              "#fdca26"
             ],
             [
              1,
              "#f0f921"
             ]
            ],
            "type": "heatmap"
           }
          ],
          "heatmapgl": [
           {
            "colorbar": {
             "outlinewidth": 0,
             "ticks": ""
            },
            "colorscale": [
             [
              0,
              "#0d0887"
             ],
             [
              0.1111111111111111,
              "#46039f"
             ],
             [
              0.2222222222222222,
              "#7201a8"
             ],
             [
              0.3333333333333333,
              "#9c179e"
             ],
             [
              0.4444444444444444,
              "#bd3786"
             ],
             [
              0.5555555555555556,
              "#d8576b"
             ],
             [
              0.6666666666666666,
              "#ed7953"
             ],
             [
              0.7777777777777778,
              "#fb9f3a"
             ],
             [
              0.8888888888888888,
              "#fdca26"
             ],
             [
              1,
              "#f0f921"
             ]
            ],
            "type": "heatmapgl"
           }
          ],
          "histogram": [
           {
            "marker": {
             "colorbar": {
              "outlinewidth": 0,
              "ticks": ""
             }
            },
            "type": "histogram"
           }
          ],
          "histogram2d": [
           {
            "colorbar": {
             "outlinewidth": 0,
             "ticks": ""
            },
            "colorscale": [
             [
              0,
              "#0d0887"
             ],
             [
              0.1111111111111111,
              "#46039f"
             ],
             [
              0.2222222222222222,
              "#7201a8"
             ],
             [
              0.3333333333333333,
              "#9c179e"
             ],
             [
              0.4444444444444444,
              "#bd3786"
             ],
             [
              0.5555555555555556,
              "#d8576b"
             ],
             [
              0.6666666666666666,
              "#ed7953"
             ],
             [
              0.7777777777777778,
              "#fb9f3a"
             ],
             [
              0.8888888888888888,
              "#fdca26"
             ],
             [
              1,
              "#f0f921"
             ]
            ],
            "type": "histogram2d"
           }
          ],
          "histogram2dcontour": [
           {
            "colorbar": {
             "outlinewidth": 0,
             "ticks": ""
            },
            "colorscale": [
             [
              0,
              "#0d0887"
             ],
             [
              0.1111111111111111,
              "#46039f"
             ],
             [
              0.2222222222222222,
              "#7201a8"
             ],
             [
              0.3333333333333333,
              "#9c179e"
             ],
             [
              0.4444444444444444,
              "#bd3786"
             ],
             [
              0.5555555555555556,
              "#d8576b"
             ],
             [
              0.6666666666666666,
              "#ed7953"
             ],
             [
              0.7777777777777778,
              "#fb9f3a"
             ],
             [
              0.8888888888888888,
              "#fdca26"
             ],
             [
              1,
              "#f0f921"
             ]
            ],
            "type": "histogram2dcontour"
           }
          ],
          "mesh3d": [
           {
            "colorbar": {
             "outlinewidth": 0,
             "ticks": ""
            },
            "type": "mesh3d"
           }
          ],
          "parcoords": [
           {
            "line": {
             "colorbar": {
              "outlinewidth": 0,
              "ticks": ""
             }
            },
            "type": "parcoords"
           }
          ],
          "pie": [
           {
            "automargin": true,
            "type": "pie"
           }
          ],
          "scatter": [
           {
            "marker": {
             "colorbar": {
              "outlinewidth": 0,
              "ticks": ""
             }
            },
            "type": "scatter"
           }
          ],
          "scatter3d": [
           {
            "line": {
             "colorbar": {
              "outlinewidth": 0,
              "ticks": ""
             }
            },
            "marker": {
             "colorbar": {
              "outlinewidth": 0,
              "ticks": ""
             }
            },
            "type": "scatter3d"
           }
          ],
          "scattercarpet": [
           {
            "marker": {
             "colorbar": {
              "outlinewidth": 0,
              "ticks": ""
             }
            },
            "type": "scattercarpet"
           }
          ],
          "scattergeo": [
           {
            "marker": {
             "colorbar": {
              "outlinewidth": 0,
              "ticks": ""
             }
            },
            "type": "scattergeo"
           }
          ],
          "scattergl": [
           {
            "marker": {
             "colorbar": {
              "outlinewidth": 0,
              "ticks": ""
             }
            },
            "type": "scattergl"
           }
          ],
          "scattermapbox": [
           {
            "marker": {
             "colorbar": {
              "outlinewidth": 0,
              "ticks": ""
             }
            },
            "type": "scattermapbox"
           }
          ],
          "scatterpolar": [
           {
            "marker": {
             "colorbar": {
              "outlinewidth": 0,
              "ticks": ""
             }
            },
            "type": "scatterpolar"
           }
          ],
          "scatterpolargl": [
           {
            "marker": {
             "colorbar": {
              "outlinewidth": 0,
              "ticks": ""
             }
            },
            "type": "scatterpolargl"
           }
          ],
          "scatterternary": [
           {
            "marker": {
             "colorbar": {
              "outlinewidth": 0,
              "ticks": ""
             }
            },
            "type": "scatterternary"
           }
          ],
          "surface": [
           {
            "colorbar": {
             "outlinewidth": 0,
             "ticks": ""
            },
            "colorscale": [
             [
              0,
              "#0d0887"
             ],
             [
              0.1111111111111111,
              "#46039f"
             ],
             [
              0.2222222222222222,
              "#7201a8"
             ],
             [
              0.3333333333333333,
              "#9c179e"
             ],
             [
              0.4444444444444444,
              "#bd3786"
             ],
             [
              0.5555555555555556,
              "#d8576b"
             ],
             [
              0.6666666666666666,
              "#ed7953"
             ],
             [
              0.7777777777777778,
              "#fb9f3a"
             ],
             [
              0.8888888888888888,
              "#fdca26"
             ],
             [
              1,
              "#f0f921"
             ]
            ],
            "type": "surface"
           }
          ],
          "table": [
           {
            "cells": {
             "fill": {
              "color": "#EBF0F8"
             },
             "line": {
              "color": "white"
             }
            },
            "header": {
             "fill": {
              "color": "#C8D4E3"
             },
             "line": {
              "color": "white"
             }
            },
            "type": "table"
           }
          ]
         },
         "layout": {
          "annotationdefaults": {
           "arrowcolor": "#2a3f5f",
           "arrowhead": 0,
           "arrowwidth": 1
          },
          "coloraxis": {
           "colorbar": {
            "outlinewidth": 0,
            "ticks": ""
           }
          },
          "colorscale": {
           "diverging": [
            [
             0,
             "#8e0152"
            ],
            [
             0.1,
             "#c51b7d"
            ],
            [
             0.2,
             "#de77ae"
            ],
            [
             0.3,
             "#f1b6da"
            ],
            [
             0.4,
             "#fde0ef"
            ],
            [
             0.5,
             "#f7f7f7"
            ],
            [
             0.6,
             "#e6f5d0"
            ],
            [
             0.7,
             "#b8e186"
            ],
            [
             0.8,
             "#7fbc41"
            ],
            [
             0.9,
             "#4d9221"
            ],
            [
             1,
             "#276419"
            ]
           ],
           "sequential": [
            [
             0,
             "#0d0887"
            ],
            [
             0.1111111111111111,
             "#46039f"
            ],
            [
             0.2222222222222222,
             "#7201a8"
            ],
            [
             0.3333333333333333,
             "#9c179e"
            ],
            [
             0.4444444444444444,
             "#bd3786"
            ],
            [
             0.5555555555555556,
             "#d8576b"
            ],
            [
             0.6666666666666666,
             "#ed7953"
            ],
            [
             0.7777777777777778,
             "#fb9f3a"
            ],
            [
             0.8888888888888888,
             "#fdca26"
            ],
            [
             1,
             "#f0f921"
            ]
           ],
           "sequentialminus": [
            [
             0,
             "#0d0887"
            ],
            [
             0.1111111111111111,
             "#46039f"
            ],
            [
             0.2222222222222222,
             "#7201a8"
            ],
            [
             0.3333333333333333,
             "#9c179e"
            ],
            [
             0.4444444444444444,
             "#bd3786"
            ],
            [
             0.5555555555555556,
             "#d8576b"
            ],
            [
             0.6666666666666666,
             "#ed7953"
            ],
            [
             0.7777777777777778,
             "#fb9f3a"
            ],
            [
             0.8888888888888888,
             "#fdca26"
            ],
            [
             1,
             "#f0f921"
            ]
           ]
          },
          "colorway": [
           "#636efa",
           "#EF553B",
           "#00cc96",
           "#ab63fa",
           "#FFA15A",
           "#19d3f3",
           "#FF6692",
           "#B6E880",
           "#FF97FF",
           "#FECB52"
          ],
          "font": {
           "color": "#2a3f5f"
          },
          "geo": {
           "bgcolor": "white",
           "lakecolor": "white",
           "landcolor": "#E5ECF6",
           "showlakes": true,
           "showland": true,
           "subunitcolor": "white"
          },
          "hoverlabel": {
           "align": "left"
          },
          "hovermode": "closest",
          "mapbox": {
           "style": "light"
          },
          "paper_bgcolor": "white",
          "plot_bgcolor": "#E5ECF6",
          "polar": {
           "angularaxis": {
            "gridcolor": "white",
            "linecolor": "white",
            "ticks": ""
           },
           "bgcolor": "#E5ECF6",
           "radialaxis": {
            "gridcolor": "white",
            "linecolor": "white",
            "ticks": ""
           }
          },
          "scene": {
           "xaxis": {
            "backgroundcolor": "#E5ECF6",
            "gridcolor": "white",
            "gridwidth": 2,
            "linecolor": "white",
            "showbackground": true,
            "ticks": "",
            "zerolinecolor": "white"
           },
           "yaxis": {
            "backgroundcolor": "#E5ECF6",
            "gridcolor": "white",
            "gridwidth": 2,
            "linecolor": "white",
            "showbackground": true,
            "ticks": "",
            "zerolinecolor": "white"
           },
           "zaxis": {
            "backgroundcolor": "#E5ECF6",
            "gridcolor": "white",
            "gridwidth": 2,
            "linecolor": "white",
            "showbackground": true,
            "ticks": "",
            "zerolinecolor": "white"
           }
          },
          "shapedefaults": {
           "line": {
            "color": "#2a3f5f"
           }
          },
          "ternary": {
           "aaxis": {
            "gridcolor": "white",
            "linecolor": "white",
            "ticks": ""
           },
           "baxis": {
            "gridcolor": "white",
            "linecolor": "white",
            "ticks": ""
           },
           "bgcolor": "#E5ECF6",
           "caxis": {
            "gridcolor": "white",
            "linecolor": "white",
            "ticks": ""
           }
          },
          "title": {
           "x": 0.05
          },
          "xaxis": {
           "automargin": true,
           "gridcolor": "white",
           "linecolor": "white",
           "ticks": "",
           "title": {
            "standoff": 15
           },
           "zerolinecolor": "white",
           "zerolinewidth": 2
          },
          "yaxis": {
           "automargin": true,
           "gridcolor": "white",
           "linecolor": "white",
           "ticks": "",
           "title": {
            "standoff": 15
           },
           "zerolinecolor": "white",
           "zerolinewidth": 2
          }
         }
        },
        "xaxis": {
         "anchor": "y",
         "autorange": true,
         "categoryarray": [
          0,
          1
         ],
         "categoryorder": "array",
         "domain": [
          0,
          1
         ],
         "range": [
          -0.510507880910683,
          1.5
         ],
         "title": {
          "text": "Fraude"
         },
         "type": "linear"
        },
        "yaxis": {
         "anchor": "x",
         "autorange": true,
         "domain": [
          0,
          1
         ],
         "range": [
          -0.024637285857162166,
          1.053404648273947
         ],
         "title": {
          "text": "Média To Address"
         },
         "type": "linear"
        }
       }
      },
      "image/png": "[encoded data removed]",
      "text/html": [
       "<div>\n",
       "        \n",
       "        \n",
       "            <div id=\"37d39fca-796e-4e56-b5cf-41de3d53e733\" class=\"plotly-graph-div\" style=\"height:525px; width:100%;\"></div>\n",
       "            <script type=\"text/javascript\">\n",
       "                require([\"plotly\"], function(Plotly) {\n",
       "                    window.PLOTLYENV=window.PLOTLYENV || {};\n",
       "                    \n",
       "                if (document.getElementById(\"37d39fca-796e-4e56-b5cf-41de3d53e733\")) {\n",
       "                    Plotly.newPlot(\n",
       "                        '37d39fca-796e-4e56-b5cf-41de3d53e733',\n",
       "                        [{\"alignmentgroup\": \"True\", \"boxpoints\": \"all\", \"hovertemplate\": \"Fraude=%{x}<br>M\\u00e9dia To Address=%{y}<extra></extra>\", \"legendgroup\": \"0\", \"marker\": {\"color\": \"#636efa\"}, \"name\": \"0\", \"notched\": false, \"offsetgroup\": \"0\", \"orientation\": \"v\", \"showlegend\": true, \"type\": \"box\", \"x\": [0, 0, 0, 0, 0, 0, 0, 0, 0, 0, 0, 0, 0, 0, 0, 0, 0, 0, 0, 0, 0, 0, 0, 0, 0, 0, 0, 0, 0, 0, 0, 0, 0, 0, 0, 0, 0, 0, 0, 0, 0, 0, 0, 0, 0, 0, 0, 0, 0, 0, 0, 0, 0, 0, 0, 0, 0, 0, 0, 0, 0, 0, 0, 0, 0, 0, 0, 0, 0, 0, 0, 0, 0, 0, 0, 0, 0, 0, 0, 0, 0, 0, 0, 0, 0, 0, 0, 0, 0, 0, 0, 0, 0, 0, 0, 0, 0, 0, 0, 0, 0, 0, 0, 0, 0], \"x0\": \" \", \"xaxis\": \"x\", \"y\": [0.332805943910974, 0.3758351127688628, 0.2920180145649674, 0.45991483677047673, 0.3169124568559774, 0.29606445615122406, 0.27002262259329785, 0.48167018270111056, 0.3468126675450952, 0.2887384171171666, 0.23553549446040214, 0.5750871471944226, 0.4011985879648633, 0.21339866110410402, 0.5413556762408155, 0.5891317316557297, 0.44868931468202655, 0.1742059901909433, 0.49114765884784756, 0.4076337863320112, 0.4504363701746864, 0.43805222031637125, 0.40972588297311546, 0.4768021472392638, 0.19529675432514793, 0.6610063678361843, 0.24170413187754228, 0.4171571512654503, 0.28438080140172295, 0.4666887193938893, 0.3138592917580696, 0.6457535412487081, 0.4468137271142976, 0.5023194168323393, 0.46336421952957946, 0.41651013346515076, 0.4096453368361794, 0.4527592511523704, 0.5064093348667816, 0.2350205113807095, 0.43429463896556736, 0.45520927790769816, 0.29901368947006707, 0.7236607417430346, 0.4777466804149744, 0.432390325931055, 0.6562732066377406, 0.34851160312202867, 0.7404574796519787, 0.49839494055745376, 0.53722723441451, 0.45280478787963335, 0.439271706186486, 0.7103422892896577, 0.41294321314838955, 0.2299644128113879, 0.3327424620028783, 0.20445352079487886, 0.3747111749054754, 0.3535175989805335, 0.40111716983641443, 0.5487206188634335, 0.15420212355708665, 0.2716345470229688, 0.4966404979135724, 0.21876073457524112, 0.20117024240735581, 0.6004943611926464, 0.3985197198164315, 0.5245349348176359, 0.5700642458330928, 0.5006740361283365, 0.41167129813418024, 0.1922140861762465, 0.3801837394633942, 0.3282520325203252, 0.5047240179015415, 0.3919363155859224, 0.44306733906852563, 0.2218270355429308, 0.31912665666416606, 0.3524858457183298, 0.35841214384675624, 0.6492979147018757, 0.48301820728291317, 0.44167199112217104, 0.3295621464512298, 0.3619432450676958, 0.4454250477959986, 0.13928387870481412, 0.9446351523846698, 0.6434522099560882, 0.12238112052730697, 0.42448141029889325, 0.37905775367178346, 0.31977190316416654, 0.34831978992938506, 0.4775428804212344, 0.36300211416490485, 0.5801413164745258, 0.1890708942660987, 0.8552595936794583, 0.3349676023432195, 0.30490041928721173, 0.33188984892330825], \"y0\": \" \", \"yaxis\": \"y\"}, {\"alignmentgroup\": \"True\", \"boxpoints\": \"all\", \"hovertemplate\": \"Fraude=%{x}<br>M\\u00e9dia To Address=%{y}<extra></extra>\", \"legendgroup\": \"1\", \"marker\": {\"color\": \"#EF553B\"}, \"name\": \"1\", \"notched\": false, \"offsetgroup\": \"1\", \"orientation\": \"v\", \"showlegend\": true, \"type\": \"box\", \"x\": [1, 1, 1, 1, 1, 1, 1, 1, 1, 1, 1, 1, 1, 1, 1, 1, 1, 1, 1, 1, 1, 1, 1, 1, 1, 1, 1, 1, 1, 1, 1, 1, 1, 1, 1, 1, 1, 1, 1, 1, 1, 1, 1, 1, 1, 1, 1, 1, 1, 1, 1, 1, 1, 1, 1, 1, 1, 1, 1, 1, 1, 1, 1, 1, 1, 1, 1, 1, 1, 1, 1, 1, 1, 1, 1, 1, 1, 1, 1, 1, 1, 1, 1, 1, 1, 1, 1, 1, 1, 1, 1, 1, 1, 1, 1, 1, 1, 1, 1, 1, 1, 1, 1, 1, 1, 1, 1, 1, 1, 1, 1, 1, 1, 1, 1, 1, 1, 1, 1, 1, 1, 1, 1, 1, 1, 1, 1, 1, 1, 1, 1, 1, 1, 1, 1, 1, 1, 1, 1, 1, 1, 1, 1, 1, 1, 1, 1, 1, 1], \"x0\": \" \", \"xaxis\": \"x\", \"y\": [0.783920548593048, 0.5019722554624828, 0.3875177978168011, 0.8172245426201541, 0.6515679442508711, 0.8680709534368071, 0.18709153343425766, 0.7227076428643165, 0.5683975177952181, 0.9082905355832722, 0.4301284546516154, 0.7624539554464129, 0.6293591654247392, 0.8174450019297569, 0.3792341153818726, 0.8822723119098386, 0.3345407503234153, 0.7934362934362934, 0.7788045385425196, 0.37508186616327005, 0.5817575083426029, 0.5586206896551724, 0.7604981175789168, 0.4690999969146277, 0.20868278243709917, 0.7334525939177102, 0.7662624973409913, 0.5572571571446431, 0.2006220839813375, 0.3764265599525715, 0.36754710487825865, 0.42621666477676867, 0.642414088677628, 0.6422051843738591, 0.7343815153670681, 0.9841521394611727, 0.4120819848975189, 0.35581990080595166, 0.5184654853529026, 0.5035435861091424, 0.6946753538530668, 0.6039963669391463, 0.7170581585227986, 0.24108129881173496, 0.8772812023278151, 0.4399572829722058, 0.6713271671327167, 0.667674071748175, 0.4316946017153428, 0.7258203799654577, 0.3827436930885207, 0.5401203436402212, 0.9034286132027195, 0.491196388261851, 0.45760122230710465, 0.6783625730994152, 0.20448892932969365, 0.3692971639950678, 0.6788621297306369, 0.3006899849706244, 0.5039459524094224, 0.4893842887473461, 0.5159112825458052, 0.5613972596233763, 0.7391304347826086, 0.2519774011299435, 0.6624769195850739, 0.8877786318216756, 0.36628198695434017, 0.7697719194312796, 0.444478504099931, 0.7692918192918193, 0.4172297509057403, 0.24725691459776508, 0.8059037606146381, 0.9084570400359874, 0.7810821974390748, 0.7849588719153937, 0.6997874601487779, 0.7105231069381782, 0.9883910386965377, 0.622569694475877, 0.580253723110866, 0.8679284097922239, 0.7513528138528138, 0.752128356254093, 0.7658270932607216, 0.6738409026263392, 0.8393234672304439, 0.43146886388844874, 0.8161684939411425, 0.36894075403949733, 0.4569657555126512, 0.1077127659574468, 0.7879147798975578, 0.6483834309349277, 0.20873668224028194, 0.7680850267579806, 0.48976049982644915, 0.9134866082009955, 0.6956269349845201, 0.750966133939639, 0.28602564102564104, 0.38762364849321373, 0.8531861139702442, 0.6734195256031762, 0.5323959802538787, 0.5921175063139705, 0.5616576911511441, 0.4728430177434647, 0.33113391984359725, 0.46730462519936206, 0.6929216651531807, 0.9995025515673914, 0.3104654947916667, 0.6859529702970297, 0.3728612445798664, 0.1212781032367325, 0.3582928699207769, 0.4375210168807586, 0.08659870943607968, 0.6620309315429804, 0.7680561287659926, 0.833699444372658, 0.9208797922712693, 0.6062933133545608, 0.9433855054496617, 0.6975813784324423, 0.4936358605423354, 0.02926481084939329, 0.6999456365322503, 0.5024875621890548, 0.3222152529240305, 0.5573435811216525, 0.9618266143417766, 0.9788475565280816, 0.675875818855027, 0.319244035642426, 0.5911372851901912, 0.6172036653857523, 0.49913696585183803, 0.3773330335057342, 0.5078257191201354, 0.6691298725290966, 0.3621212121212121, 0.21434522156543817, 0.394167491701124, 0.8987667955089269, 0.7364341085271318], \"y0\": \" \", \"yaxis\": \"y\"}],\n",
       "                        {\"boxmode\": \"overlay\", \"legend\": {\"title\": {\"text\": \"Fraude\"}, \"tracegroupgap\": 0}, \"margin\": {\"t\": 60}, \"template\": {\"data\": {\"bar\": [{\"error_x\": {\"color\": \"#2a3f5f\"}, \"error_y\": {\"color\": \"#2a3f5f\"}, \"marker\": {\"line\": {\"color\": \"#E5ECF6\", \"width\": 0.5}}, \"type\": \"bar\"}], \"barpolar\": [{\"marker\": {\"line\": {\"color\": \"#E5ECF6\", \"width\": 0.5}}, \"type\": \"barpolar\"}], \"carpet\": [{\"aaxis\": {\"endlinecolor\": \"#2a3f5f\", \"gridcolor\": \"white\", \"linecolor\": \"white\", \"minorgridcolor\": \"white\", \"startlinecolor\": \"#2a3f5f\"}, \"baxis\": {\"endlinecolor\": \"#2a3f5f\", \"gridcolor\": \"white\", \"linecolor\": \"white\", \"minorgridcolor\": \"white\", \"startlinecolor\": \"#2a3f5f\"}, \"type\": \"carpet\"}], \"choropleth\": [{\"colorbar\": {\"outlinewidth\": 0, \"ticks\": \"\"}, \"type\": \"choropleth\"}], \"contour\": [{\"colorbar\": {\"outlinewidth\": 0, \"ticks\": \"\"}, \"colorscale\": [[0.0, \"#0d0887\"], [0.1111111111111111, \"#46039f\"], [0.2222222222222222, \"#7201a8\"], [0.3333333333333333, \"#9c179e\"], [0.4444444444444444, \"#bd3786\"], [0.5555555555555556, \"#d8576b\"], [0.6666666666666666, \"#ed7953\"], [0.7777777777777778, \"#fb9f3a\"], [0.8888888888888888, \"#fdca26\"], [1.0, \"#f0f921\"]], \"type\": \"contour\"}], \"contourcarpet\": [{\"colorbar\": {\"outlinewidth\": 0, \"ticks\": \"\"}, \"type\": \"contourcarpet\"}], \"heatmap\": [{\"colorbar\": {\"outlinewidth\": 0, \"ticks\": \"\"}, \"colorscale\": [[0.0, \"#0d0887\"], [0.1111111111111111, \"#46039f\"], [0.2222222222222222, \"#7201a8\"], [0.3333333333333333, \"#9c179e\"], [0.4444444444444444, \"#bd3786\"], [0.5555555555555556, \"#d8576b\"], [0.6666666666666666, \"#ed7953\"], [0.7777777777777778, \"#fb9f3a\"], [0.8888888888888888, \"#fdca26\"], [1.0, \"#f0f921\"]], \"type\": \"heatmap\"}], \"heatmapgl\": [{\"colorbar\": {\"outlinewidth\": 0, \"ticks\": \"\"}, \"colorscale\": [[0.0, \"#0d0887\"], [0.1111111111111111, \"#46039f\"], [0.2222222222222222, \"#7201a8\"], [0.3333333333333333, \"#9c179e\"], [0.4444444444444444, \"#bd3786\"], [0.5555555555555556, \"#d8576b\"], [0.6666666666666666, \"#ed7953\"], [0.7777777777777778, \"#fb9f3a\"], [0.8888888888888888, \"#fdca26\"], [1.0, \"#f0f921\"]], \"type\": \"heatmapgl\"}], \"histogram\": [{\"marker\": {\"colorbar\": {\"outlinewidth\": 0, \"ticks\": \"\"}}, \"type\": \"histogram\"}], \"histogram2d\": [{\"colorbar\": {\"outlinewidth\": 0, \"ticks\": \"\"}, \"colorscale\": [[0.0, \"#0d0887\"], [0.1111111111111111, \"#46039f\"], [0.2222222222222222, \"#7201a8\"], [0.3333333333333333, \"#9c179e\"], [0.4444444444444444, \"#bd3786\"], [0.5555555555555556, \"#d8576b\"], [0.6666666666666666, \"#ed7953\"], [0.7777777777777778, \"#fb9f3a\"], [0.8888888888888888, \"#fdca26\"], [1.0, \"#f0f921\"]], \"type\": \"histogram2d\"}], \"histogram2dcontour\": [{\"colorbar\": {\"outlinewidth\": 0, \"ticks\": \"\"}, \"colorscale\": [[0.0, \"#0d0887\"], [0.1111111111111111, \"#46039f\"], [0.2222222222222222, \"#7201a8\"], [0.3333333333333333, \"#9c179e\"], [0.4444444444444444, \"#bd3786\"], [0.5555555555555556, \"#d8576b\"], [0.6666666666666666, \"#ed7953\"], [0.7777777777777778, \"#fb9f3a\"], [0.8888888888888888, \"#fdca26\"], [1.0, \"#f0f921\"]], \"type\": \"histogram2dcontour\"}], \"mesh3d\": [{\"colorbar\": {\"outlinewidth\": 0, \"ticks\": \"\"}, \"type\": \"mesh3d\"}], \"parcoords\": [{\"line\": {\"colorbar\": {\"outlinewidth\": 0, \"ticks\": \"\"}}, \"type\": \"parcoords\"}], \"pie\": [{\"automargin\": true, \"type\": \"pie\"}], \"scatter\": [{\"marker\": {\"colorbar\": {\"outlinewidth\": 0, \"ticks\": \"\"}}, \"type\": \"scatter\"}], \"scatter3d\": [{\"line\": {\"colorbar\": {\"outlinewidth\": 0, \"ticks\": \"\"}}, \"marker\": {\"colorbar\": {\"outlinewidth\": 0, \"ticks\": \"\"}}, \"type\": \"scatter3d\"}], \"scattercarpet\": [{\"marker\": {\"colorbar\": {\"outlinewidth\": 0, \"ticks\": \"\"}}, \"type\": \"scattercarpet\"}], \"scattergeo\": [{\"marker\": {\"colorbar\": {\"outlinewidth\": 0, \"ticks\": \"\"}}, \"type\": \"scattergeo\"}], \"scattergl\": [{\"marker\": {\"colorbar\": {\"outlinewidth\": 0, \"ticks\": \"\"}}, \"type\": \"scattergl\"}], \"scattermapbox\": [{\"marker\": {\"colorbar\": {\"outlinewidth\": 0, \"ticks\": \"\"}}, \"type\": \"scattermapbox\"}], \"scatterpolar\": [{\"marker\": {\"colorbar\": {\"outlinewidth\": 0, \"ticks\": \"\"}}, \"type\": \"scatterpolar\"}], \"scatterpolargl\": [{\"marker\": {\"colorbar\": {\"outlinewidth\": 0, \"ticks\": \"\"}}, \"type\": \"scatterpolargl\"}], \"scatterternary\": [{\"marker\": {\"colorbar\": {\"outlinewidth\": 0, \"ticks\": \"\"}}, \"type\": \"scatterternary\"}], \"surface\": [{\"colorbar\": {\"outlinewidth\": 0, \"ticks\": \"\"}, \"colorscale\": [[0.0, \"#0d0887\"], [0.1111111111111111, \"#46039f\"], [0.2222222222222222, \"#7201a8\"], [0.3333333333333333, \"#9c179e\"], [0.4444444444444444, \"#bd3786\"], [0.5555555555555556, \"#d8576b\"], [0.6666666666666666, \"#ed7953\"], [0.7777777777777778, \"#fb9f3a\"], [0.8888888888888888, \"#fdca26\"], [1.0, \"#f0f921\"]], \"type\": \"surface\"}], \"table\": [{\"cells\": {\"fill\": {\"color\": \"#EBF0F8\"}, \"line\": {\"color\": \"white\"}}, \"header\": {\"fill\": {\"color\": \"#C8D4E3\"}, \"line\": {\"color\": \"white\"}}, \"type\": \"table\"}]}, \"layout\": {\"annotationdefaults\": {\"arrowcolor\": \"#2a3f5f\", \"arrowhead\": 0, \"arrowwidth\": 1}, \"coloraxis\": {\"colorbar\": {\"outlinewidth\": 0, \"ticks\": \"\"}}, \"colorscale\": {\"diverging\": [[0, \"#8e0152\"], [0.1, \"#c51b7d\"], [0.2, \"#de77ae\"], [0.3, \"#f1b6da\"], [0.4, \"#fde0ef\"], [0.5, \"#f7f7f7\"], [0.6, \"#e6f5d0\"], [0.7, \"#b8e186\"], [0.8, \"#7fbc41\"], [0.9, \"#4d9221\"], [1, \"#276419\"]], \"sequential\": [[0.0, \"#0d0887\"], [0.1111111111111111, \"#46039f\"], [0.2222222222222222, \"#7201a8\"], [0.3333333333333333, \"#9c179e\"], [0.4444444444444444, \"#bd3786\"], [0.5555555555555556, \"#d8576b\"], [0.6666666666666666, \"#ed7953\"], [0.7777777777777778, \"#fb9f3a\"], [0.8888888888888888, \"#fdca26\"], [1.0, \"#f0f921\"]], \"sequentialminus\": [[0.0, \"#0d0887\"], [0.1111111111111111, \"#46039f\"], [0.2222222222222222, \"#7201a8\"], [0.3333333333333333, \"#9c179e\"], [0.4444444444444444, \"#bd3786\"], [0.5555555555555556, \"#d8576b\"], [0.6666666666666666, \"#ed7953\"], [0.7777777777777778, \"#fb9f3a\"], [0.8888888888888888, \"#fdca26\"], [1.0, \"#f0f921\"]]}, \"colorway\": [\"#636efa\", \"#EF553B\", \"#00cc96\", \"#ab63fa\", \"#FFA15A\", \"#19d3f3\", \"#FF6692\", \"#B6E880\", \"#FF97FF\", \"#FECB52\"], \"font\": {\"color\": \"#2a3f5f\"}, \"geo\": {\"bgcolor\": \"white\", \"lakecolor\": \"white\", \"landcolor\": \"#E5ECF6\", \"showlakes\": true, \"showland\": true, \"subunitcolor\": \"white\"}, \"hoverlabel\": {\"align\": \"left\"}, \"hovermode\": \"closest\", \"mapbox\": {\"style\": \"light\"}, \"paper_bgcolor\": \"white\", \"plot_bgcolor\": \"#E5ECF6\", \"polar\": {\"angularaxis\": {\"gridcolor\": \"white\", \"linecolor\": \"white\", \"ticks\": \"\"}, \"bgcolor\": \"#E5ECF6\", \"radialaxis\": {\"gridcolor\": \"white\", \"linecolor\": \"white\", \"ticks\": \"\"}}, \"scene\": {\"xaxis\": {\"backgroundcolor\": \"#E5ECF6\", \"gridcolor\": \"white\", \"gridwidth\": 2, \"linecolor\": \"white\", \"showbackground\": true, \"ticks\": \"\", \"zerolinecolor\": \"white\"}, \"yaxis\": {\"backgroundcolor\": \"#E5ECF6\", \"gridcolor\": \"white\", \"gridwidth\": 2, \"linecolor\": \"white\", \"showbackground\": true, \"ticks\": \"\", \"zerolinecolor\": \"white\"}, \"zaxis\": {\"backgroundcolor\": \"#E5ECF6\", \"gridcolor\": \"white\", \"gridwidth\": 2, \"linecolor\": \"white\", \"showbackground\": true, \"ticks\": \"\", \"zerolinecolor\": \"white\"}}, \"shapedefaults\": {\"line\": {\"color\": \"#2a3f5f\"}}, \"ternary\": {\"aaxis\": {\"gridcolor\": \"white\", \"linecolor\": \"white\", \"ticks\": \"\"}, \"baxis\": {\"gridcolor\": \"white\", \"linecolor\": \"white\", \"ticks\": \"\"}, \"bgcolor\": \"#E5ECF6\", \"caxis\": {\"gridcolor\": \"white\", \"linecolor\": \"white\", \"ticks\": \"\"}}, \"title\": {\"x\": 0.05}, \"xaxis\": {\"automargin\": true, \"gridcolor\": \"white\", \"linecolor\": \"white\", \"ticks\": \"\", \"title\": {\"standoff\": 15}, \"zerolinecolor\": \"white\", \"zerolinewidth\": 2}, \"yaxis\": {\"automargin\": true, \"gridcolor\": \"white\", \"linecolor\": \"white\", \"ticks\": \"\", \"title\": {\"standoff\": 15}, \"zerolinecolor\": \"white\", \"zerolinewidth\": 2}}}, \"xaxis\": {\"anchor\": \"y\", \"categoryarray\": [0, 1], \"categoryorder\": \"array\", \"domain\": [0.0, 1.0], \"title\": {\"text\": \"Fraude\"}}, \"yaxis\": {\"anchor\": \"x\", \"domain\": [0.0, 1.0], \"title\": {\"text\": \"M\\u00e9dia To Address\"}}},\n",
       "                        {\"responsive\": true}\n",
       "                    ).then(function(){\n",
       "                            \n",
       "var gd = document.getElementById('37d39fca-796e-4e56-b5cf-41de3d53e733');\n",
       "var x = new MutationObserver(function (mutations, observer) {{\n",
       "        var display = window.getComputedStyle(gd).display;\n",
       "        if (!display || display === 'none') {{\n",
       "            console.log([gd, 'removed!']);\n",
       "            Plotly.purge(gd);\n",
       "            observer.disconnect();\n",
       "        }}\n",
       "}});\n",
       "\n",
       "// Listen for the removal of the full notebook cells\n",
       "var notebookContainer = gd.closest('#notebook-container');\n",
       "if (notebookContainer) {{\n",
       "    x.observe(notebookContainer, {childList: true});\n",
       "}}\n",
       "\n",
       "// Listen for the clearing of the current output cell\n",
       "var outputEl = gd.closest('.output');\n",
       "if (outputEl) {{\n",
       "    x.observe(outputEl, {childList: true});\n",
       "}}\n",
       "\n",
       "                        })\n",
       "                };\n",
       "                });\n",
       "            </script>\n",
       "        </div>"
      ]
     },
     "metadata": {},
     "output_type": "display_data"
    }
   ],
   "source": [
    "fig = px.box(df_eda, x=\"Fraude\", y=\"Média To Address\", points=\"all\", log_y=False, color='Fraude')\n",
    "fig.show()"
   ]
  },
  {
   "cell_type": "markdown",
   "metadata": {},
   "source": [
    "### 2.6. Boxplot - Média Newbiers"
   ]
  },
  {
   "cell_type": "code",
   "execution_count": 25,
   "metadata": {},
   "outputs": [
    {
     "data": {
      "text/html": [
       "<div>\n",
       "<style scoped>\n",
       "    .dataframe tbody tr th:only-of-type {\n",
       "        vertical-align: middle;\n",
       "    }\n",
       "\n",
       "    .dataframe tbody tr th {\n",
       "        vertical-align: top;\n",
       "    }\n",
       "\n",
       "    .dataframe thead th {\n",
       "        text-align: right;\n",
       "    }\n",
       "</style>\n",
       "<table border=\"1\" class=\"dataframe\">\n",
       "  <thead>\n",
       "    <tr style=\"text-align: right;\">\n",
       "      <th></th>\n",
       "      <th>ico</th>\n",
       "      <th>Número de Transações</th>\n",
       "      <th>Média Gas Receipt</th>\n",
       "      <th>Média Gas</th>\n",
       "      <th>Média From Adress</th>\n",
       "      <th>Média To Address</th>\n",
       "      <th>Fraude</th>\n",
       "    </tr>\n",
       "  </thead>\n",
       "  <tbody>\n",
       "    <tr>\n",
       "      <th>0</th>\n",
       "      <td>0X</td>\n",
       "      <td>301485</td>\n",
       "      <td>5.876486e+04</td>\n",
       "      <td>1.475736e+05</td>\n",
       "      <td>0.223255</td>\n",
       "      <td>0.332806</td>\n",
       "      <td>0</td>\n",
       "    </tr>\n",
       "    <tr>\n",
       "      <th>1</th>\n",
       "      <td>0XCERT</td>\n",
       "      <td>21145</td>\n",
       "      <td>5.786318e+04</td>\n",
       "      <td>1.220356e+05</td>\n",
       "      <td>0.143580</td>\n",
       "      <td>0.783921</td>\n",
       "      <td>1</td>\n",
       "    </tr>\n",
       "    <tr>\n",
       "      <th>2</th>\n",
       "      <td>4NEW</td>\n",
       "      <td>22563</td>\n",
       "      <td>1.527679e+06</td>\n",
       "      <td>1.651859e+06</td>\n",
       "      <td>0.172583</td>\n",
       "      <td>0.501972</td>\n",
       "      <td>1</td>\n",
       "    </tr>\n",
       "    <tr>\n",
       "      <th>3</th>\n",
       "      <td>ABULABA</td>\n",
       "      <td>4214</td>\n",
       "      <td>4.109039e+04</td>\n",
       "      <td>1.244334e+05</td>\n",
       "      <td>0.204794</td>\n",
       "      <td>0.387518</td>\n",
       "      <td>1</td>\n",
       "    </tr>\n",
       "    <tr>\n",
       "      <th>4</th>\n",
       "      <td>AELF</td>\n",
       "      <td>109117</td>\n",
       "      <td>1.308478e+06</td>\n",
       "      <td>1.595182e+06</td>\n",
       "      <td>0.163256</td>\n",
       "      <td>0.375835</td>\n",
       "      <td>0</td>\n",
       "    </tr>\n",
       "    <tr>\n",
       "      <th>...</th>\n",
       "      <td>...</td>\n",
       "      <td>...</td>\n",
       "      <td>...</td>\n",
       "      <td>...</td>\n",
       "      <td>...</td>\n",
       "      <td>...</td>\n",
       "      <td>...</td>\n",
       "    </tr>\n",
       "    <tr>\n",
       "      <th>249</th>\n",
       "      <td>WAX</td>\n",
       "      <td>86889</td>\n",
       "      <td>8.996399e+04</td>\n",
       "      <td>2.012845e+05</td>\n",
       "      <td>0.189253</td>\n",
       "      <td>0.334968</td>\n",
       "      <td>0</td>\n",
       "    </tr>\n",
       "    <tr>\n",
       "      <th>250</th>\n",
       "      <td>WAYKICHAIN</td>\n",
       "      <td>53424</td>\n",
       "      <td>4.585061e+04</td>\n",
       "      <td>1.021145e+05</td>\n",
       "      <td>0.247230</td>\n",
       "      <td>0.304900</td>\n",
       "      <td>0</td>\n",
       "    </tr>\n",
       "    <tr>\n",
       "      <th>251</th>\n",
       "      <td>ZILLIQA</td>\n",
       "      <td>194206</td>\n",
       "      <td>4.750134e+04</td>\n",
       "      <td>1.948039e+05</td>\n",
       "      <td>0.217645</td>\n",
       "      <td>0.331890</td>\n",
       "      <td>0</td>\n",
       "    </tr>\n",
       "    <tr>\n",
       "      <th>252</th>\n",
       "      <td>ZPAY</td>\n",
       "      <td>10866</td>\n",
       "      <td>5.657279e+06</td>\n",
       "      <td>5.782420e+06</td>\n",
       "      <td>0.062581</td>\n",
       "      <td>0.898767</td>\n",
       "      <td>1</td>\n",
       "    </tr>\n",
       "    <tr>\n",
       "      <th>253</th>\n",
       "      <td>ZYNECOIN</td>\n",
       "      <td>1935</td>\n",
       "      <td>4.855953e+04</td>\n",
       "      <td>5.508824e+04</td>\n",
       "      <td>0.008786</td>\n",
       "      <td>0.736434</td>\n",
       "      <td>1</td>\n",
       "    </tr>\n",
       "  </tbody>\n",
       "</table>\n",
       "<p>254 rows × 7 columns</p>\n",
       "</div>"
      ],
      "text/plain": [
       "            ico  Número de Transações  Média Gas Receipt     Média Gas  \\\n",
       "0            0X                301485       5.876486e+04  1.475736e+05   \n",
       "1        0XCERT                 21145       5.786318e+04  1.220356e+05   \n",
       "2          4NEW                 22563       1.527679e+06  1.651859e+06   \n",
       "3       ABULABA                  4214       4.109039e+04  1.244334e+05   \n",
       "4          AELF                109117       1.308478e+06  1.595182e+06   \n",
       "..          ...                   ...                ...           ...   \n",
       "249         WAX                 86889       8.996399e+04  2.012845e+05   \n",
       "250  WAYKICHAIN                 53424       4.585061e+04  1.021145e+05   \n",
       "251     ZILLIQA                194206       4.750134e+04  1.948039e+05   \n",
       "252        ZPAY                 10866       5.657279e+06  5.782420e+06   \n",
       "253    ZYNECOIN                  1935       4.855953e+04  5.508824e+04   \n",
       "\n",
       "     Média From Adress  Média To Address  Fraude  \n",
       "0             0.223255          0.332806       0  \n",
       "1             0.143580          0.783921       1  \n",
       "2             0.172583          0.501972       1  \n",
       "3             0.204794          0.387518       1  \n",
       "4             0.163256          0.375835       0  \n",
       "..                 ...               ...     ...  \n",
       "249           0.189253          0.334968       0  \n",
       "250           0.247230          0.304900       0  \n",
       "251           0.217645          0.331890       0  \n",
       "252           0.062581          0.898767       1  \n",
       "253           0.008786          0.736434       1  \n",
       "\n",
       "[254 rows x 7 columns]"
      ]
     },
     "execution_count": 25,
     "metadata": {},
     "output_type": "execute_result"
    }
   ],
   "source": [
    "df_eda"
   ]
  },
  {
   "cell_type": "code",
   "execution_count": 42,
   "metadata": {},
   "outputs": [],
   "source": [
    "ico_parser = ICOParser(ico_csv,\n",
    "                     date_column='BLOCK_TIMESTAMP',\n",
    "                     value_column='VALUE',\n",
    "                     ico_start_date=market_start_date, \n",
    "                     fraud_flag=is_fraud)"
   ]
  },
  {
   "cell_type": "code",
   "execution_count": 52,
   "metadata": {},
   "outputs": [],
   "source": [
    "list_newbiers_ratio = []"
   ]
  },
  {
   "cell_type": "code",
   "execution_count": null,
   "metadata": {},
   "outputs": [],
   "source": [
    "%%time\n",
    "for ico in list_icos[10:]:\n",
    "    ico_csv= f'{path_to_csvs}{ico}.csv'\n",
    "    market_start_date = str(df_info.at[ ico, 'market_start_date'].date())\n",
    "    is_fraud = df_info.at[ ico, 'fraud']\n",
    "    try:\n",
    "        print(ico)\n",
    "        ico_parser = ICOParser(ico_csv,\n",
    "                     date_column='BLOCK_TIMESTAMP',\n",
    "                     value_column='VALUE',\n",
    "                     ico_start_date=market_start_date, \n",
    "                     fraud_flag=is_fraud,\n",
    "                          len_time_series=20)\n",
    "        ico_parser.get_newbiers_dataframe()\n",
    "        list_newbiers_ratio.append([ico, \n",
    "                                    ico_parser.df_newbiers.shape[0]/ico_parser.df.shape[0],\n",
    "                                    is_fraud]                                    \n",
    "                                    )\n",
    "        \n",
    "    except:\n",
    "        print(f'PROBLEM WITH: {ico}')"
   ]
  },
  {
   "cell_type": "code",
   "execution_count": 59,
   "metadata": {},
   "outputs": [
    {
     "data": {
      "text/html": [
       "<div>\n",
       "<style scoped>\n",
       "    .dataframe tbody tr th:only-of-type {\n",
       "        vertical-align: middle;\n",
       "    }\n",
       "\n",
       "    .dataframe tbody tr th {\n",
       "        vertical-align: top;\n",
       "    }\n",
       "\n",
       "    .dataframe thead th {\n",
       "        text-align: right;\n",
       "    }\n",
       "</style>\n",
       "<table border=\"1\" class=\"dataframe\">\n",
       "  <thead>\n",
       "    <tr style=\"text-align: right;\">\n",
       "      <th></th>\n",
       "      <th>ico</th>\n",
       "      <th>Proporção de transações Newbiers sobre total</th>\n",
       "      <th>Fraude</th>\n",
       "    </tr>\n",
       "  </thead>\n",
       "  <tbody>\n",
       "    <tr>\n",
       "      <th>0</th>\n",
       "      <td>0X</td>\n",
       "      <td>0.449505</td>\n",
       "      <td>0</td>\n",
       "    </tr>\n",
       "    <tr>\n",
       "      <th>1</th>\n",
       "      <td>0XCERT</td>\n",
       "      <td>0.180390</td>\n",
       "      <td>1</td>\n",
       "    </tr>\n",
       "    <tr>\n",
       "      <th>2</th>\n",
       "      <td>4NEW</td>\n",
       "      <td>0.249544</td>\n",
       "      <td>1</td>\n",
       "    </tr>\n",
       "    <tr>\n",
       "      <th>3</th>\n",
       "      <td>ABULABA</td>\n",
       "      <td>0.566799</td>\n",
       "      <td>1</td>\n",
       "    </tr>\n",
       "    <tr>\n",
       "      <th>4</th>\n",
       "      <td>AELF</td>\n",
       "      <td>0.674652</td>\n",
       "      <td>0</td>\n",
       "    </tr>\n",
       "    <tr>\n",
       "      <th>...</th>\n",
       "      <td>...</td>\n",
       "      <td>...</td>\n",
       "      <td>...</td>\n",
       "    </tr>\n",
       "    <tr>\n",
       "      <th>246</th>\n",
       "      <td>WAX</td>\n",
       "      <td>0.574974</td>\n",
       "      <td>0</td>\n",
       "    </tr>\n",
       "    <tr>\n",
       "      <th>247</th>\n",
       "      <td>WAYKICHAIN</td>\n",
       "      <td>0.236085</td>\n",
       "      <td>0</td>\n",
       "    </tr>\n",
       "    <tr>\n",
       "      <th>248</th>\n",
       "      <td>ZILLIQA</td>\n",
       "      <td>0.147320</td>\n",
       "      <td>0</td>\n",
       "    </tr>\n",
       "    <tr>\n",
       "      <th>249</th>\n",
       "      <td>ZPAY</td>\n",
       "      <td>0.922232</td>\n",
       "      <td>1</td>\n",
       "    </tr>\n",
       "    <tr>\n",
       "      <th>250</th>\n",
       "      <td>ZYNECOIN</td>\n",
       "      <td>0.981627</td>\n",
       "      <td>1</td>\n",
       "    </tr>\n",
       "  </tbody>\n",
       "</table>\n",
       "<p>251 rows × 3 columns</p>\n",
       "</div>"
      ],
      "text/plain": [
       "            ico  Proporção de transações Newbiers sobre total  Fraude\n",
       "0            0X                                      0.449505       0\n",
       "1        0XCERT                                      0.180390       1\n",
       "2          4NEW                                      0.249544       1\n",
       "3       ABULABA                                      0.566799       1\n",
       "4          AELF                                      0.674652       0\n",
       "..          ...                                           ...     ...\n",
       "246         WAX                                      0.574974       0\n",
       "247  WAYKICHAIN                                      0.236085       0\n",
       "248     ZILLIQA                                      0.147320       0\n",
       "249        ZPAY                                      0.922232       1\n",
       "250    ZYNECOIN                                      0.981627       1\n",
       "\n",
       "[251 rows x 3 columns]"
      ]
     },
     "execution_count": 59,
     "metadata": {},
     "output_type": "execute_result"
    }
   ],
   "source": [
    "df_newbiers_boxplot = pd.DataFrame(list_newbiers_ratio, columns=['ico', 'Proporção de transações Newbiers sobre total', 'Fraude'])\n",
    "df_newbiers_boxplot"
   ]
  },
  {
   "cell_type": "code",
   "execution_count": 60,
   "metadata": {},
   "outputs": [
    {
     "data": {
      "application/vnd.plotly.v1+json": {
       "config": {
        "plotlyServerURL": "https://plot.ly"
       },
       "data": [
        {
         "alignmentgroup": "True",
         "boxpoints": "all",
         "hovertemplate": "Fraude=%{x}<br>Proporção de transações Newbiers sobre total=%{y}<extra></extra>",
         "legendgroup": "0",
         "marker": {
          "color": "#636efa"
         },
         "name": "0",
         "notched": false,
         "offsetgroup": "0",
         "orientation": "v",
         "showlegend": true,
         "type": "box",
         "x": [
          0,
          0,
          0,
          0,
          0,
          0,
          0,
          0,
          0,
          0,
          0,
          0,
          0,
          0,
          0,
          0,
          0,
          0,
          0,
          0,
          0,
          0,
          0,
          0,
          0,
          0,
          0,
          0,
          0,
          0,
          0,
          0,
          0,
          0,
          0,
          0,
          0,
          0,
          0,
          0,
          0,
          0,
          0,
          0,
          0,
          0,
          0,
          0,
          0,
          0,
          0,
          0,
          0,
          0,
          0,
          0,
          0,
          0,
          0,
          0,
          0,
          0,
          0,
          0,
          0,
          0,
          0,
          0,
          0,
          0,
          0,
          0,
          0,
          0,
          0,
          0,
          0,
          0,
          0,
          0,
          0,
          0,
          0,
          0,
          0,
          0,
          0,
          0,
          0,
          0,
          0,
          0,
          0,
          0,
          0,
          0,
          0,
          0,
          0,
          0,
          0,
          0,
          0
         ],
         "x0": " ",
         "xaxis": "x",
         "y": [
          0.44950465149443414,
          0.6746523899395294,
          0.12133938706015891,
          0.30075131480090156,
          0.5146799765120376,
          0.19500780031201248,
          0.16157659587490056,
          0.08849409800882319,
          0.104176227627352,
          0.40432819862986574,
          0.16820197884680996,
          0.5294459672730293,
          0.14445479962721341,
          0.09504783934391757,
          0.14359410086787644,
          0.04389228731790377,
          0.6772744290527892,
          0.10262969405504963,
          0.11486381322957198,
          0.14476542774939816,
          0.3064367108099784,
          0.17613636363636365,
          0.3648466700416851,
          0.3185969281859693,
          0.09445056675062972,
          0.006534239414532148,
          0.4237420506526833,
          0.2383727573991544,
          0.9885870239424389,
          0.5894299507937981,
          0.29302456933069754,
          0.9016074898427839,
          0.07486495305079216,
          0.04654032964407994,
          0.3815109093202169,
          0.47858785207894233,
          0.7574606619641888,
          0.337355331199212,
          0.40774943493703586,
          0.223076828108989,
          0.6230953194396993,
          0.474516001580403,
          0.1484848484848485,
          0.5809859154929577,
          0.0698534642196614,
          0.07043232243013849,
          0.10849833241862625,
          0.3824983567202995,
          0.31282839933358964,
          0.0292912898987557,
          0.38218275211189157,
          0.4097724230254351,
          0.015112160566706022,
          0.6091583520123778,
          0.13748804154708213,
          0.09631800229328577,
          0.1812990720913633,
          0.7486731135883474,
          0.1183774834437086,
          0.35743022378677397,
          0.1779165827120693,
          0.4360897352289031,
          0.08065037845297911,
          0.9530504644740145,
          0.3564640020830621,
          0.6037437384655945,
          0.5538331454340474,
          0.07895313184406483,
          0.1099102399706906,
          0.06600018094634941,
          0.9939393939393939,
          0.8571428571428571,
          0.023237690400283388,
          0.19141439896156878,
          0.019969278033794162,
          0.15981679389312978,
          0.14208302718589272,
          0.21509850348267856,
          0.11403249630723782,
          0.1278796169630643,
          0.46885864706466673,
          0.11238844350325215,
          0.5216089002995293,
          0.01937046004842615,
          0.41368552412645593,
          0.3819856678505541,
          0.20488876682230156,
          0.3091237328148868,
          0.0014816564080687427,
          0.07546856307324205,
          0.04411859698985854,
          0.3576874205844981,
          0.36139336781259507,
          0.31319166270622584,
          0.09644816632977188,
          0.672153159786893,
          0.2750809061488673,
          0.495497158042371,
          0.3898285844023158,
          0.07920675897676602,
          0.5749740274731617,
          0.23608511818118805,
          0.14731979509696305
         ],
         "y0": " ",
         "yaxis": "y"
        },
        {
         "alignmentgroup": "True",
         "boxpoints": "all",
         "hovertemplate": "Fraude=%{x}<br>Proporção de transações Newbiers sobre total=%{y}<extra></extra>",
         "legendgroup": "1",
         "marker": {
          "color": "#EF553B"
         },
         "name": "1",
         "notched": false,
         "offsetgroup": "1",
         "orientation": "v",
         "showlegend": true,
         "type": "box",
         "x": [
          1,
          1,
          1,
          1,
          1,
          1,
          1,
          1,
          1,
          1,
          1,
          1,
          1,
          1,
          1,
          1,
          1,
          1,
          1,
          1,
          1,
          1,
          1,
          1,
          1,
          1,
          1,
          1,
          1,
          1,
          1,
          1,
          1,
          1,
          1,
          1,
          1,
          1,
          1,
          1,
          1,
          1,
          1,
          1,
          1,
          1,
          1,
          1,
          1,
          1,
          1,
          1,
          1,
          1,
          1,
          1,
          1,
          1,
          1,
          1,
          1,
          1,
          1,
          1,
          1,
          1,
          1,
          1,
          1,
          1,
          1,
          1,
          1,
          1,
          1,
          1,
          1,
          1,
          1,
          1,
          1,
          1,
          1,
          1,
          1,
          1,
          1,
          1,
          1,
          1,
          1,
          1,
          1,
          1,
          1,
          1,
          1,
          1,
          1,
          1,
          1,
          1,
          1,
          1,
          1,
          1,
          1,
          1,
          1,
          1,
          1,
          1,
          1,
          1,
          1,
          1,
          1,
          1,
          1,
          1,
          1,
          1,
          1,
          1,
          1,
          1,
          1,
          1,
          1,
          1,
          1,
          1,
          1,
          1,
          1,
          1,
          1,
          1,
          1,
          1,
          1,
          1,
          1,
          1,
          1,
          1,
          1,
          1
         ],
         "x0": " ",
         "xaxis": "x",
         "y": [
          0.18039003250270855,
          0.24954432477216237,
          0.5667989417989417,
          0.02138721493560203,
          0.8666666666666667,
          0.07602102709260009,
          0.4420839656044512,
          0.0010358400662937642,
          0.05925542022976592,
          0.9921507064364207,
          0.7058252427184466,
          0.4912771134234094,
          0.8150866462793068,
          0.9209809264305178,
          0.13945423017249248,
          0.9204141054674863,
          0.9851643945469126,
          0.22675521821631878,
          0.015541804576198014,
          0.089179548156956,
          0.029775280898876405,
          0.438953488372093,
          0.17807389460932768,
          0.5236499068901304,
          0.32305055698371893,
          0.9927705719753349,
          0.9880740740740741,
          0.9864705882352941,
          0.0001893580761219466,
          0.05625405055087492,
          0.08341728793068709,
          0.1644836478244853,
          0.9994541309443534,
          0.01707650273224044,
          0.07711429767636592,
          0.016653449643140365,
          0.17134478424801006,
          0.6598890942698706,
          0.0425531914893617,
          0.34769038701622973,
          0.013794715922375496,
          0.989100817438692,
          0.6382105035660255,
          0.8997868110973467,
          0.08166969147005444,
          0.008375209380234505,
          0.8183200304066894,
          0.5014546102238319,
          0.015659254619480114,
          0.9420448332422089,
          0.1652836958959408,
          0.01636402027027027,
          0.9558389261744966,
          1,
          0.8471085291787694,
          0.04985754985754986,
          0.28399311531841653,
          0.22998986828774062,
          0.9324033117840536,
          0.008109794135995009,
          0.6269201520912547,
          0.9884393063583815,
          0.5766052129688494,
          0.16509824357048708,
          0.7513168838369837,
          0.4305555555555556,
          0.0005828023904776016,
          0.024252223120452707,
          1,
          0.01675438012124442,
          0.953873502994012,
          0.8905265978828889,
          0.5470588235294118,
          0.32510038639290856,
          0.5907019143117593,
          0.0011328235627301047,
          0.06668226485727656,
          0.2619212163096061,
          0.16377314814814814,
          0.38878180416345415,
          0.002242609582059123,
          0.7588287042855347,
          0.10980392156862745,
          0.11766369678970443,
          0.023780593646936295,
          0.006934812760055479,
          0.2740157480314961,
          0.9995735607675906,
          0.971509167842031,
          0.07723995880535531,
          0.9994913206587398,
          0.9430796884361894,
          0.891541718396842,
          0.21725239616613418,
          0.15550423402617397,
          0.7700045724737082,
          0.21457404759902446,
          0.0032431866924726685,
          0.058823529411764705,
          0.9889660809154066,
          0.7770913770913771,
          0.21426444715117066,
          0.06988120195667366,
          0.49401095140314855,
          0.09941395844432606,
          0.7261790182868142,
          0.6068488539339597,
          0.5244725738396624,
          0.9998925847685202,
          0.38090781469349555,
          0.026915113871635612,
          0.20406091370558377,
          0.021320093457943924,
          8.578904473898684e-06,
          0.1124344926155312,
          0.9076305220883534,
          0.16977087600628782,
          0.9463859344475798,
          0.6790670209625037,
          0.10524123568205485,
          0.9444061566735584,
          0.09896643190341169,
          0.01589899462239888,
          0.006464124111182934,
          0.9563366960907944,
          0.13195876288659794,
          0.9554762154783156,
          0.6264619883040936,
          0.8351142225497421,
          0.8223822382238224,
          0.183739837398374,
          0.5756286982248521,
          0.4251186879585671,
          0.9698640205806689,
          0.9540679208404593,
          0.04164133738601824,
          0.3102911306702776,
          0.6137571998227735,
          0.2996845425867508,
          0.39847549909255897,
          0.26438421302900617,
          0.05121412803532009,
          0.004816027740319784,
          0.39298496778811737,
          0.3519853947968964,
          0.8423076923076923,
          0.9222317760580874,
          0.9816272965879265
         ],
         "y0": " ",
         "yaxis": "y"
        }
       ],
       "layout": {
        "autosize": true,
        "boxmode": "overlay",
        "legend": {
         "title": {
          "text": "Fraude"
         },
         "tracegroupgap": 0
        },
        "margin": {
         "t": 60
        },
        "template": {
         "data": {
          "bar": [
           {
            "error_x": {
             "color": "#2a3f5f"
            },
            "error_y": {
             "color": "#2a3f5f"
            },
            "marker": {
             "line": {
              "color": "#E5ECF6",
              "width": 0.5
             }
            },
            "type": "bar"
           }
          ],
          "barpolar": [
           {
            "marker": {
             "line": {
              "color": "#E5ECF6",
              "width": 0.5
             }
            },
            "type": "barpolar"
           }
          ],
          "carpet": [
           {
            "aaxis": {
             "endlinecolor": "#2a3f5f",
             "gridcolor": "white",
             "linecolor": "white",
             "minorgridcolor": "white",
             "startlinecolor": "#2a3f5f"
            },
            "baxis": {
             "endlinecolor": "#2a3f5f",
             "gridcolor": "white",
             "linecolor": "white",
             "minorgridcolor": "white",
             "startlinecolor": "#2a3f5f"
            },
            "type": "carpet"
           }
          ],
          "choropleth": [
           {
            "colorbar": {
             "outlinewidth": 0,
             "ticks": ""
            },
            "type": "choropleth"
           }
          ],
          "contour": [
           {
            "colorbar": {
             "outlinewidth": 0,
             "ticks": ""
            },
            "colorscale": [
             [
              0,
              "#0d0887"
             ],
             [
              0.1111111111111111,
              "#46039f"
             ],
             [
              0.2222222222222222,
              "#7201a8"
             ],
             [
              0.3333333333333333,
              "#9c179e"
             ],
             [
              0.4444444444444444,
              "#bd3786"
             ],
             [
              0.5555555555555556,
              "#d8576b"
             ],
             [
              0.6666666666666666,
              "#ed7953"
             ],
             [
              0.7777777777777778,
              "#fb9f3a"
             ],
             [
              0.8888888888888888,
              "#fdca26"
             ],
             [
              1,
              "#f0f921"
             ]
            ],
            "type": "contour"
           }
          ],
          "contourcarpet": [
           {
            "colorbar": {
             "outlinewidth": 0,
             "ticks": ""
            },
            "type": "contourcarpet"
           }
          ],
          "heatmap": [
           {
            "colorbar": {
             "outlinewidth": 0,
             "ticks": ""
            },
            "colorscale": [
             [
              0,
              "#0d0887"
             ],
             [
              0.1111111111111111,
              "#46039f"
             ],
             [
              0.2222222222222222,
              "#7201a8"
             ],
             [
              0.3333333333333333,
              "#9c179e"
             ],
             [
              0.4444444444444444,
              "#bd3786"
             ],
             [
              0.5555555555555556,
              "#d8576b"
             ],
             [
              0.6666666666666666,
              "#ed7953"
             ],
             [
              0.7777777777777778,
              "#fb9f3a"
             ],
             [
              0.8888888888888888,
              "#fdca26"
             ],
             [
              1,
              "#f0f921"
             ]
            ],
            "type": "heatmap"
           }
          ],
          "heatmapgl": [
           {
            "colorbar": {
             "outlinewidth": 0,
             "ticks": ""
            },
            "colorscale": [
             [
              0,
              "#0d0887"
             ],
             [
              0.1111111111111111,
              "#46039f"
             ],
             [
              0.2222222222222222,
              "#7201a8"
             ],
             [
              0.3333333333333333,
              "#9c179e"
             ],
             [
              0.4444444444444444,
              "#bd3786"
             ],
             [
              0.5555555555555556,
              "#d8576b"
             ],
             [
              0.6666666666666666,
              "#ed7953"
             ],
             [
              0.7777777777777778,
              "#fb9f3a"
             ],
             [
              0.8888888888888888,
              "#fdca26"
             ],
             [
              1,
              "#f0f921"
             ]
            ],
            "type": "heatmapgl"
           }
          ],
          "histogram": [
           {
            "marker": {
             "colorbar": {
              "outlinewidth": 0,
              "ticks": ""
             }
            },
            "type": "histogram"
           }
          ],
          "histogram2d": [
           {
            "colorbar": {
             "outlinewidth": 0,
             "ticks": ""
            },
            "colorscale": [
             [
              0,
              "#0d0887"
             ],
             [
              0.1111111111111111,
              "#46039f"
             ],
             [
              0.2222222222222222,
              "#7201a8"
             ],
             [
              0.3333333333333333,
              "#9c179e"
             ],
             [
              0.4444444444444444,
              "#bd3786"
             ],
             [
              0.5555555555555556,
              "#d8576b"
             ],
             [
              0.6666666666666666,
              "#ed7953"
             ],
             [
              0.7777777777777778,
              "#fb9f3a"
             ],
             [
              0.8888888888888888,
              "#fdca26"
             ],
             [
              1,
              "#f0f921"
             ]
            ],
            "type": "histogram2d"
           }
          ],
          "histogram2dcontour": [
           {
            "colorbar": {
             "outlinewidth": 0,
             "ticks": ""
            },
            "colorscale": [
             [
              0,
              "#0d0887"
             ],
             [
              0.1111111111111111,
              "#46039f"
             ],
             [
              0.2222222222222222,
              "#7201a8"
             ],
             [
              0.3333333333333333,
              "#9c179e"
             ],
             [
              0.4444444444444444,
              "#bd3786"
             ],
             [
              0.5555555555555556,
              "#d8576b"
             ],
             [
              0.6666666666666666,
              "#ed7953"
             ],
             [
              0.7777777777777778,
              "#fb9f3a"
             ],
             [
              0.8888888888888888,
              "#fdca26"
             ],
             [
              1,
              "#f0f921"
             ]
            ],
            "type": "histogram2dcontour"
           }
          ],
          "mesh3d": [
           {
            "colorbar": {
             "outlinewidth": 0,
             "ticks": ""
            },
            "type": "mesh3d"
           }
          ],
          "parcoords": [
           {
            "line": {
             "colorbar": {
              "outlinewidth": 0,
              "ticks": ""
             }
            },
            "type": "parcoords"
           }
          ],
          "pie": [
           {
            "automargin": true,
            "type": "pie"
           }
          ],
          "scatter": [
           {
            "marker": {
             "colorbar": {
              "outlinewidth": 0,
              "ticks": ""
             }
            },
            "type": "scatter"
           }
          ],
          "scatter3d": [
           {
            "line": {
             "colorbar": {
              "outlinewidth": 0,
              "ticks": ""
             }
            },
            "marker": {
             "colorbar": {
              "outlinewidth": 0,
              "ticks": ""
             }
            },
            "type": "scatter3d"
           }
          ],
          "scattercarpet": [
           {
            "marker": {
             "colorbar": {
              "outlinewidth": 0,
              "ticks": ""
             }
            },
            "type": "scattercarpet"
           }
          ],
          "scattergeo": [
           {
            "marker": {
             "colorbar": {
              "outlinewidth": 0,
              "ticks": ""
             }
            },
            "type": "scattergeo"
           }
          ],
          "scattergl": [
           {
            "marker": {
             "colorbar": {
              "outlinewidth": 0,
              "ticks": ""
             }
            },
            "type": "scattergl"
           }
          ],
          "scattermapbox": [
           {
            "marker": {
             "colorbar": {
              "outlinewidth": 0,
              "ticks": ""
             }
            },
            "type": "scattermapbox"
           }
          ],
          "scatterpolar": [
           {
            "marker": {
             "colorbar": {
              "outlinewidth": 0,
              "ticks": ""
             }
            },
            "type": "scatterpolar"
           }
          ],
          "scatterpolargl": [
           {
            "marker": {
             "colorbar": {
              "outlinewidth": 0,
              "ticks": ""
             }
            },
            "type": "scatterpolargl"
           }
          ],
          "scatterternary": [
           {
            "marker": {
             "colorbar": {
              "outlinewidth": 0,
              "ticks": ""
             }
            },
            "type": "scatterternary"
           }
          ],
          "surface": [
           {
            "colorbar": {
             "outlinewidth": 0,
             "ticks": ""
            },
            "colorscale": [
             [
              0,
              "#0d0887"
             ],
             [
              0.1111111111111111,
              "#46039f"
             ],
             [
              0.2222222222222222,
              "#7201a8"
             ],
             [
              0.3333333333333333,
              "#9c179e"
             ],
             [
              0.4444444444444444,
              "#bd3786"
             ],
             [
              0.5555555555555556,
              "#d8576b"
             ],
             [
              0.6666666666666666,
              "#ed7953"
             ],
             [
              0.7777777777777778,
              "#fb9f3a"
             ],
             [
              0.8888888888888888,
              "#fdca26"
             ],
             [
              1,
              "#f0f921"
             ]
            ],
            "type": "surface"
           }
          ],
          "table": [
           {
            "cells": {
             "fill": {
              "color": "#EBF0F8"
             },
             "line": {
              "color": "white"
             }
            },
            "header": {
             "fill": {
              "color": "#C8D4E3"
             },
             "line": {
              "color": "white"
             }
            },
            "type": "table"
           }
          ]
         },
         "layout": {
          "annotationdefaults": {
           "arrowcolor": "#2a3f5f",
           "arrowhead": 0,
           "arrowwidth": 1
          },
          "coloraxis": {
           "colorbar": {
            "outlinewidth": 0,
            "ticks": ""
           }
          },
          "colorscale": {
           "diverging": [
            [
             0,
             "#8e0152"
            ],
            [
             0.1,
             "#c51b7d"
            ],
            [
             0.2,
             "#de77ae"
            ],
            [
             0.3,
             "#f1b6da"
            ],
            [
             0.4,
             "#fde0ef"
            ],
            [
             0.5,
             "#f7f7f7"
            ],
            [
             0.6,
             "#e6f5d0"
            ],
            [
             0.7,
             "#b8e186"
            ],
            [
             0.8,
             "#7fbc41"
            ],
            [
             0.9,
             "#4d9221"
            ],
            [
             1,
             "#276419"
            ]
           ],
           "sequential": [
            [
             0,
             "#0d0887"
            ],
            [
             0.1111111111111111,
             "#46039f"
            ],
            [
             0.2222222222222222,
             "#7201a8"
            ],
            [
             0.3333333333333333,
             "#9c179e"
            ],
            [
             0.4444444444444444,
             "#bd3786"
            ],
            [
             0.5555555555555556,
             "#d8576b"
            ],
            [
             0.6666666666666666,
             "#ed7953"
            ],
            [
             0.7777777777777778,
             "#fb9f3a"
            ],
            [
             0.8888888888888888,
             "#fdca26"
            ],
            [
             1,
             "#f0f921"
            ]
           ],
           "sequentialminus": [
            [
             0,
             "#0d0887"
            ],
            [
             0.1111111111111111,
             "#46039f"
            ],
            [
             0.2222222222222222,
             "#7201a8"
            ],
            [
             0.3333333333333333,
             "#9c179e"
            ],
            [
             0.4444444444444444,
             "#bd3786"
            ],
            [
             0.5555555555555556,
             "#d8576b"
            ],
            [
             0.6666666666666666,
             "#ed7953"
            ],
            [
             0.7777777777777778,
             "#fb9f3a"
            ],
            [
             0.8888888888888888,
             "#fdca26"
            ],
            [
             1,
             "#f0f921"
            ]
           ]
          },
          "colorway": [
           "#636efa",
           "#EF553B",
           "#00cc96",
           "#ab63fa",
           "#FFA15A",
           "#19d3f3",
           "#FF6692",
           "#B6E880",
           "#FF97FF",
           "#FECB52"
          ],
          "font": {
           "color": "#2a3f5f"
          },
          "geo": {
           "bgcolor": "white",
           "lakecolor": "white",
           "landcolor": "#E5ECF6",
           "showlakes": true,
           "showland": true,
           "subunitcolor": "white"
          },
          "hoverlabel": {
           "align": "left"
          },
          "hovermode": "closest",
          "mapbox": {
           "style": "light"
          },
          "paper_bgcolor": "white",
          "plot_bgcolor": "#E5ECF6",
          "polar": {
           "angularaxis": {
            "gridcolor": "white",
            "linecolor": "white",
            "ticks": ""
           },
           "bgcolor": "#E5ECF6",
           "radialaxis": {
            "gridcolor": "white",
            "linecolor": "white",
            "ticks": ""
           }
          },
          "scene": {
           "xaxis": {
            "backgroundcolor": "#E5ECF6",
            "gridcolor": "white",
            "gridwidth": 2,
            "linecolor": "white",
            "showbackground": true,
            "ticks": "",
            "zerolinecolor": "white"
           },
           "yaxis": {
            "backgroundcolor": "#E5ECF6",
            "gridcolor": "white",
            "gridwidth": 2,
            "linecolor": "white",
            "showbackground": true,
            "ticks": "",
            "zerolinecolor": "white"
           },
           "zaxis": {
            "backgroundcolor": "#E5ECF6",
            "gridcolor": "white",
            "gridwidth": 2,
            "linecolor": "white",
            "showbackground": true,
            "ticks": "",
            "zerolinecolor": "white"
           }
          },
          "shapedefaults": {
           "line": {
            "color": "#2a3f5f"
           }
          },
          "ternary": {
           "aaxis": {
            "gridcolor": "white",
            "linecolor": "white",
            "ticks": ""
           },
           "baxis": {
            "gridcolor": "white",
            "linecolor": "white",
            "ticks": ""
           },
           "bgcolor": "#E5ECF6",
           "caxis": {
            "gridcolor": "white",
            "linecolor": "white",
            "ticks": ""
           }
          },
          "title": {
           "x": 0.05
          },
          "xaxis": {
           "automargin": true,
           "gridcolor": "white",
           "linecolor": "white",
           "ticks": "",
           "title": {
            "standoff": 15
           },
           "zerolinecolor": "white",
           "zerolinewidth": 2
          },
          "yaxis": {
           "automargin": true,
           "gridcolor": "white",
           "linecolor": "white",
           "ticks": "",
           "title": {
            "standoff": 15
           },
           "zerolinecolor": "white",
           "zerolinewidth": 2
          }
         }
        },
        "xaxis": {
         "anchor": "y",
         "autorange": true,
         "categoryarray": [
          0,
          1
         ],
         "categoryorder": "array",
         "domain": [
          0,
          1
         ],
         "range": [
          -0.5088626292466765,
          1.5
         ],
         "title": {
          "text": "Fraude"
         },
         "type": "linear"
        },
        "yaxis": {
         "anchor": "x",
         "autorange": true,
         "domain": [
          0,
          1
         ],
         "range": [
          -0.05554650004527755,
          1.0555550789497514
         ],
         "title": {
          "text": "Proporção de transações Newbiers sobre total"
         },
         "type": "linear"
        }
       }
      },
      "image/png": "[encoded data removed]",
      "text/html": [
       "<div>\n",
       "        \n",
       "        \n",
       "            <div id=\"f791b581-c408-43d1-adee-815af80004c4\" class=\"plotly-graph-div\" style=\"height:525px; width:100%;\"></div>\n",
       "            <script type=\"text/javascript\">\n",
       "                require([\"plotly\"], function(Plotly) {\n",
       "                    window.PLOTLYENV=window.PLOTLYENV || {};\n",
       "                    \n",
       "                if (document.getElementById(\"f791b581-c408-43d1-adee-815af80004c4\")) {\n",
       "                    Plotly.newPlot(\n",
       "                        'f791b581-c408-43d1-adee-815af80004c4',\n",
       "                        [{\"alignmentgroup\": \"True\", \"boxpoints\": \"all\", \"hovertemplate\": \"Fraude=%{x}<br>Propor\\u00e7\\u00e3o de transa\\u00e7\\u00f5es Newbiers sobre total=%{y}<extra></extra>\", \"legendgroup\": \"0\", \"marker\": {\"color\": \"#636efa\"}, \"name\": \"0\", \"notched\": false, \"offsetgroup\": \"0\", \"orientation\": \"v\", \"showlegend\": true, \"type\": \"box\", \"x\": [0, 0, 0, 0, 0, 0, 0, 0, 0, 0, 0, 0, 0, 0, 0, 0, 0, 0, 0, 0, 0, 0, 0, 0, 0, 0, 0, 0, 0, 0, 0, 0, 0, 0, 0, 0, 0, 0, 0, 0, 0, 0, 0, 0, 0, 0, 0, 0, 0, 0, 0, 0, 0, 0, 0, 0, 0, 0, 0, 0, 0, 0, 0, 0, 0, 0, 0, 0, 0, 0, 0, 0, 0, 0, 0, 0, 0, 0, 0, 0, 0, 0, 0, 0, 0, 0, 0, 0, 0, 0, 0, 0, 0, 0, 0, 0, 0, 0, 0, 0, 0, 0, 0], \"x0\": \" \", \"xaxis\": \"x\", \"y\": [0.44950465149443414, 0.6746523899395294, 0.12133938706015891, 0.30075131480090156, 0.5146799765120376, 0.19500780031201248, 0.16157659587490056, 0.08849409800882319, 0.104176227627352, 0.40432819862986574, 0.16820197884680996, 0.5294459672730293, 0.14445479962721341, 0.09504783934391757, 0.14359410086787644, 0.04389228731790377, 0.6772744290527892, 0.10262969405504963, 0.11486381322957198, 0.14476542774939816, 0.3064367108099784, 0.17613636363636365, 0.3648466700416851, 0.3185969281859693, 0.09445056675062972, 0.006534239414532148, 0.4237420506526833, 0.2383727573991544, 0.9885870239424389, 0.5894299507937981, 0.29302456933069754, 0.9016074898427839, 0.07486495305079216, 0.04654032964407994, 0.3815109093202169, 0.47858785207894233, 0.7574606619641888, 0.337355331199212, 0.40774943493703586, 0.223076828108989, 0.6230953194396993, 0.474516001580403, 0.1484848484848485, 0.5809859154929577, 0.0698534642196614, 0.07043232243013849, 0.10849833241862625, 0.3824983567202995, 0.31282839933358964, 0.0292912898987557, 0.38218275211189157, 0.4097724230254351, 0.015112160566706022, 0.6091583520123778, 0.13748804154708213, 0.09631800229328577, 0.1812990720913633, 0.7486731135883474, 0.1183774834437086, 0.35743022378677397, 0.1779165827120693, 0.4360897352289031, 0.08065037845297911, 0.9530504644740145, 0.3564640020830621, 0.6037437384655945, 0.5538331454340474, 0.07895313184406483, 0.1099102399706906, 0.06600018094634941, 0.9939393939393939, 0.8571428571428571, 0.023237690400283388, 0.19141439896156878, 0.019969278033794162, 0.15981679389312978, 0.14208302718589272, 0.21509850348267856, 0.11403249630723782, 0.1278796169630643, 0.46885864706466673, 0.11238844350325215, 0.5216089002995293, 0.01937046004842615, 0.41368552412645593, 0.3819856678505541, 0.20488876682230156, 0.3091237328148868, 0.0014816564080687427, 0.07546856307324205, 0.04411859698985854, 0.3576874205844981, 0.36139336781259507, 0.31319166270622584, 0.09644816632977188, 0.672153159786893, 0.2750809061488673, 0.495497158042371, 0.3898285844023158, 0.07920675897676602, 0.5749740274731617, 0.23608511818118805, 0.14731979509696305], \"y0\": \" \", \"yaxis\": \"y\"}, {\"alignmentgroup\": \"True\", \"boxpoints\": \"all\", \"hovertemplate\": \"Fraude=%{x}<br>Propor\\u00e7\\u00e3o de transa\\u00e7\\u00f5es Newbiers sobre total=%{y}<extra></extra>\", \"legendgroup\": \"1\", \"marker\": {\"color\": \"#EF553B\"}, \"name\": \"1\", \"notched\": false, \"offsetgroup\": \"1\", \"orientation\": \"v\", \"showlegend\": true, \"type\": \"box\", \"x\": [1, 1, 1, 1, 1, 1, 1, 1, 1, 1, 1, 1, 1, 1, 1, 1, 1, 1, 1, 1, 1, 1, 1, 1, 1, 1, 1, 1, 1, 1, 1, 1, 1, 1, 1, 1, 1, 1, 1, 1, 1, 1, 1, 1, 1, 1, 1, 1, 1, 1, 1, 1, 1, 1, 1, 1, 1, 1, 1, 1, 1, 1, 1, 1, 1, 1, 1, 1, 1, 1, 1, 1, 1, 1, 1, 1, 1, 1, 1, 1, 1, 1, 1, 1, 1, 1, 1, 1, 1, 1, 1, 1, 1, 1, 1, 1, 1, 1, 1, 1, 1, 1, 1, 1, 1, 1, 1, 1, 1, 1, 1, 1, 1, 1, 1, 1, 1, 1, 1, 1, 1, 1, 1, 1, 1, 1, 1, 1, 1, 1, 1, 1, 1, 1, 1, 1, 1, 1, 1, 1, 1, 1, 1, 1, 1, 1, 1, 1], \"x0\": \" \", \"xaxis\": \"x\", \"y\": [0.18039003250270855, 0.24954432477216237, 0.5667989417989417, 0.02138721493560203, 0.8666666666666667, 0.07602102709260009, 0.4420839656044512, 0.0010358400662937642, 0.05925542022976592, 0.9921507064364207, 0.7058252427184466, 0.4912771134234094, 0.8150866462793068, 0.9209809264305178, 0.13945423017249248, 0.9204141054674863, 0.9851643945469126, 0.22675521821631878, 0.015541804576198014, 0.089179548156956, 0.029775280898876405, 0.438953488372093, 0.17807389460932768, 0.5236499068901304, 0.32305055698371893, 0.9927705719753349, 0.9880740740740741, 0.9864705882352941, 0.0001893580761219466, 0.05625405055087492, 0.08341728793068709, 0.1644836478244853, 0.9994541309443534, 0.01707650273224044, 0.07711429767636592, 0.016653449643140365, 0.17134478424801006, 0.6598890942698706, 0.0425531914893617, 0.34769038701622973, 0.013794715922375496, 0.989100817438692, 0.6382105035660255, 0.8997868110973467, 0.08166969147005444, 0.008375209380234505, 0.8183200304066894, 0.5014546102238319, 0.015659254619480114, 0.9420448332422089, 0.1652836958959408, 0.01636402027027027, 0.9558389261744966, 1.0, 0.8471085291787694, 0.04985754985754986, 0.28399311531841653, 0.22998986828774062, 0.9324033117840536, 0.008109794135995009, 0.6269201520912547, 0.9884393063583815, 0.5766052129688494, 0.16509824357048708, 0.7513168838369837, 0.4305555555555556, 0.0005828023904776016, 0.024252223120452707, 1.0, 0.01675438012124442, 0.953873502994012, 0.8905265978828889, 0.5470588235294118, 0.32510038639290856, 0.5907019143117593, 0.0011328235627301047, 0.06668226485727656, 0.2619212163096061, 0.16377314814814814, 0.38878180416345415, 0.002242609582059123, 0.7588287042855347, 0.10980392156862745, 0.11766369678970443, 0.023780593646936295, 0.006934812760055479, 0.2740157480314961, 0.9995735607675906, 0.971509167842031, 0.07723995880535531, 0.9994913206587398, 0.9430796884361894, 0.891541718396842, 0.21725239616613418, 0.15550423402617397, 0.7700045724737082, 0.21457404759902446, 0.0032431866924726685, 0.058823529411764705, 0.9889660809154066, 0.7770913770913771, 0.21426444715117066, 0.06988120195667366, 0.49401095140314855, 0.09941395844432606, 0.7261790182868142, 0.6068488539339597, 0.5244725738396624, 0.9998925847685202, 0.38090781469349555, 0.026915113871635612, 0.20406091370558377, 0.021320093457943924, 8.578904473898684e-06, 0.1124344926155312, 0.9076305220883534, 0.16977087600628782, 0.9463859344475798, 0.6790670209625037, 0.10524123568205485, 0.9444061566735584, 0.09896643190341169, 0.01589899462239888, 0.006464124111182934, 0.9563366960907944, 0.13195876288659794, 0.9554762154783156, 0.6264619883040936, 0.8351142225497421, 0.8223822382238224, 0.183739837398374, 0.5756286982248521, 0.4251186879585671, 0.9698640205806689, 0.9540679208404593, 0.04164133738601824, 0.3102911306702776, 0.6137571998227735, 0.2996845425867508, 0.39847549909255897, 0.26438421302900617, 0.05121412803532009, 0.004816027740319784, 0.39298496778811737, 0.3519853947968964, 0.8423076923076923, 0.9222317760580874, 0.9816272965879265], \"y0\": \" \", \"yaxis\": \"y\"}],\n",
       "                        {\"boxmode\": \"overlay\", \"legend\": {\"title\": {\"text\": \"Fraude\"}, \"tracegroupgap\": 0}, \"margin\": {\"t\": 60}, \"template\": {\"data\": {\"bar\": [{\"error_x\": {\"color\": \"#2a3f5f\"}, \"error_y\": {\"color\": \"#2a3f5f\"}, \"marker\": {\"line\": {\"color\": \"#E5ECF6\", \"width\": 0.5}}, \"type\": \"bar\"}], \"barpolar\": [{\"marker\": {\"line\": {\"color\": \"#E5ECF6\", \"width\": 0.5}}, \"type\": \"barpolar\"}], \"carpet\": [{\"aaxis\": {\"endlinecolor\": \"#2a3f5f\", \"gridcolor\": \"white\", \"linecolor\": \"white\", \"minorgridcolor\": \"white\", \"startlinecolor\": \"#2a3f5f\"}, \"baxis\": {\"endlinecolor\": \"#2a3f5f\", \"gridcolor\": \"white\", \"linecolor\": \"white\", \"minorgridcolor\": \"white\", \"startlinecolor\": \"#2a3f5f\"}, \"type\": \"carpet\"}], \"choropleth\": [{\"colorbar\": {\"outlinewidth\": 0, \"ticks\": \"\"}, \"type\": \"choropleth\"}], \"contour\": [{\"colorbar\": {\"outlinewidth\": 0, \"ticks\": \"\"}, \"colorscale\": [[0.0, \"#0d0887\"], [0.1111111111111111, \"#46039f\"], [0.2222222222222222, \"#7201a8\"], [0.3333333333333333, \"#9c179e\"], [0.4444444444444444, \"#bd3786\"], [0.5555555555555556, \"#d8576b\"], [0.6666666666666666, \"#ed7953\"], [0.7777777777777778, \"#fb9f3a\"], [0.8888888888888888, \"#fdca26\"], [1.0, \"#f0f921\"]], \"type\": \"contour\"}], \"contourcarpet\": [{\"colorbar\": {\"outlinewidth\": 0, \"ticks\": \"\"}, \"type\": \"contourcarpet\"}], \"heatmap\": [{\"colorbar\": {\"outlinewidth\": 0, \"ticks\": \"\"}, \"colorscale\": [[0.0, \"#0d0887\"], [0.1111111111111111, \"#46039f\"], [0.2222222222222222, \"#7201a8\"], [0.3333333333333333, \"#9c179e\"], [0.4444444444444444, \"#bd3786\"], [0.5555555555555556, \"#d8576b\"], [0.6666666666666666, \"#ed7953\"], [0.7777777777777778, \"#fb9f3a\"], [0.8888888888888888, \"#fdca26\"], [1.0, \"#f0f921\"]], \"type\": \"heatmap\"}], \"heatmapgl\": [{\"colorbar\": {\"outlinewidth\": 0, \"ticks\": \"\"}, \"colorscale\": [[0.0, \"#0d0887\"], [0.1111111111111111, \"#46039f\"], [0.2222222222222222, \"#7201a8\"], [0.3333333333333333, \"#9c179e\"], [0.4444444444444444, \"#bd3786\"], [0.5555555555555556, \"#d8576b\"], [0.6666666666666666, \"#ed7953\"], [0.7777777777777778, \"#fb9f3a\"], [0.8888888888888888, \"#fdca26\"], [1.0, \"#f0f921\"]], \"type\": \"heatmapgl\"}], \"histogram\": [{\"marker\": {\"colorbar\": {\"outlinewidth\": 0, \"ticks\": \"\"}}, \"type\": \"histogram\"}], \"histogram2d\": [{\"colorbar\": {\"outlinewidth\": 0, \"ticks\": \"\"}, \"colorscale\": [[0.0, \"#0d0887\"], [0.1111111111111111, \"#46039f\"], [0.2222222222222222, \"#7201a8\"], [0.3333333333333333, \"#9c179e\"], [0.4444444444444444, \"#bd3786\"], [0.5555555555555556, \"#d8576b\"], [0.6666666666666666, \"#ed7953\"], [0.7777777777777778, \"#fb9f3a\"], [0.8888888888888888, \"#fdca26\"], [1.0, \"#f0f921\"]], \"type\": \"histogram2d\"}], \"histogram2dcontour\": [{\"colorbar\": {\"outlinewidth\": 0, \"ticks\": \"\"}, \"colorscale\": [[0.0, \"#0d0887\"], [0.1111111111111111, \"#46039f\"], [0.2222222222222222, \"#7201a8\"], [0.3333333333333333, \"#9c179e\"], [0.4444444444444444, \"#bd3786\"], [0.5555555555555556, \"#d8576b\"], [0.6666666666666666, \"#ed7953\"], [0.7777777777777778, \"#fb9f3a\"], [0.8888888888888888, \"#fdca26\"], [1.0, \"#f0f921\"]], \"type\": \"histogram2dcontour\"}], \"mesh3d\": [{\"colorbar\": {\"outlinewidth\": 0, \"ticks\": \"\"}, \"type\": \"mesh3d\"}], \"parcoords\": [{\"line\": {\"colorbar\": {\"outlinewidth\": 0, \"ticks\": \"\"}}, \"type\": \"parcoords\"}], \"pie\": [{\"automargin\": true, \"type\": \"pie\"}], \"scatter\": [{\"marker\": {\"colorbar\": {\"outlinewidth\": 0, \"ticks\": \"\"}}, \"type\": \"scatter\"}], \"scatter3d\": [{\"line\": {\"colorbar\": {\"outlinewidth\": 0, \"ticks\": \"\"}}, \"marker\": {\"colorbar\": {\"outlinewidth\": 0, \"ticks\": \"\"}}, \"type\": \"scatter3d\"}], \"scattercarpet\": [{\"marker\": {\"colorbar\": {\"outlinewidth\": 0, \"ticks\": \"\"}}, \"type\": \"scattercarpet\"}], \"scattergeo\": [{\"marker\": {\"colorbar\": {\"outlinewidth\": 0, \"ticks\": \"\"}}, \"type\": \"scattergeo\"}], \"scattergl\": [{\"marker\": {\"colorbar\": {\"outlinewidth\": 0, \"ticks\": \"\"}}, \"type\": \"scattergl\"}], \"scattermapbox\": [{\"marker\": {\"colorbar\": {\"outlinewidth\": 0, \"ticks\": \"\"}}, \"type\": \"scattermapbox\"}], \"scatterpolar\": [{\"marker\": {\"colorbar\": {\"outlinewidth\": 0, \"ticks\": \"\"}}, \"type\": \"scatterpolar\"}], \"scatterpolargl\": [{\"marker\": {\"colorbar\": {\"outlinewidth\": 0, \"ticks\": \"\"}}, \"type\": \"scatterpolargl\"}], \"scatterternary\": [{\"marker\": {\"colorbar\": {\"outlinewidth\": 0, \"ticks\": \"\"}}, \"type\": \"scatterternary\"}], \"surface\": [{\"colorbar\": {\"outlinewidth\": 0, \"ticks\": \"\"}, \"colorscale\": [[0.0, \"#0d0887\"], [0.1111111111111111, \"#46039f\"], [0.2222222222222222, \"#7201a8\"], [0.3333333333333333, \"#9c179e\"], [0.4444444444444444, \"#bd3786\"], [0.5555555555555556, \"#d8576b\"], [0.6666666666666666, \"#ed7953\"], [0.7777777777777778, \"#fb9f3a\"], [0.8888888888888888, \"#fdca26\"], [1.0, \"#f0f921\"]], \"type\": \"surface\"}], \"table\": [{\"cells\": {\"fill\": {\"color\": \"#EBF0F8\"}, \"line\": {\"color\": \"white\"}}, \"header\": {\"fill\": {\"color\": \"#C8D4E3\"}, \"line\": {\"color\": \"white\"}}, \"type\": \"table\"}]}, \"layout\": {\"annotationdefaults\": {\"arrowcolor\": \"#2a3f5f\", \"arrowhead\": 0, \"arrowwidth\": 1}, \"coloraxis\": {\"colorbar\": {\"outlinewidth\": 0, \"ticks\": \"\"}}, \"colorscale\": {\"diverging\": [[0, \"#8e0152\"], [0.1, \"#c51b7d\"], [0.2, \"#de77ae\"], [0.3, \"#f1b6da\"], [0.4, \"#fde0ef\"], [0.5, \"#f7f7f7\"], [0.6, \"#e6f5d0\"], [0.7, \"#b8e186\"], [0.8, \"#7fbc41\"], [0.9, \"#4d9221\"], [1, \"#276419\"]], \"sequential\": [[0.0, \"#0d0887\"], [0.1111111111111111, \"#46039f\"], [0.2222222222222222, \"#7201a8\"], [0.3333333333333333, \"#9c179e\"], [0.4444444444444444, \"#bd3786\"], [0.5555555555555556, \"#d8576b\"], [0.6666666666666666, \"#ed7953\"], [0.7777777777777778, \"#fb9f3a\"], [0.8888888888888888, \"#fdca26\"], [1.0, \"#f0f921\"]], \"sequentialminus\": [[0.0, \"#0d0887\"], [0.1111111111111111, \"#46039f\"], [0.2222222222222222, \"#7201a8\"], [0.3333333333333333, \"#9c179e\"], [0.4444444444444444, \"#bd3786\"], [0.5555555555555556, \"#d8576b\"], [0.6666666666666666, \"#ed7953\"], [0.7777777777777778, \"#fb9f3a\"], [0.8888888888888888, \"#fdca26\"], [1.0, \"#f0f921\"]]}, \"colorway\": [\"#636efa\", \"#EF553B\", \"#00cc96\", \"#ab63fa\", \"#FFA15A\", \"#19d3f3\", \"#FF6692\", \"#B6E880\", \"#FF97FF\", \"#FECB52\"], \"font\": {\"color\": \"#2a3f5f\"}, \"geo\": {\"bgcolor\": \"white\", \"lakecolor\": \"white\", \"landcolor\": \"#E5ECF6\", \"showlakes\": true, \"showland\": true, \"subunitcolor\": \"white\"}, \"hoverlabel\": {\"align\": \"left\"}, \"hovermode\": \"closest\", \"mapbox\": {\"style\": \"light\"}, \"paper_bgcolor\": \"white\", \"plot_bgcolor\": \"#E5ECF6\", \"polar\": {\"angularaxis\": {\"gridcolor\": \"white\", \"linecolor\": \"white\", \"ticks\": \"\"}, \"bgcolor\": \"#E5ECF6\", \"radialaxis\": {\"gridcolor\": \"white\", \"linecolor\": \"white\", \"ticks\": \"\"}}, \"scene\": {\"xaxis\": {\"backgroundcolor\": \"#E5ECF6\", \"gridcolor\": \"white\", \"gridwidth\": 2, \"linecolor\": \"white\", \"showbackground\": true, \"ticks\": \"\", \"zerolinecolor\": \"white\"}, \"yaxis\": {\"backgroundcolor\": \"#E5ECF6\", \"gridcolor\": \"white\", \"gridwidth\": 2, \"linecolor\": \"white\", \"showbackground\": true, \"ticks\": \"\", \"zerolinecolor\": \"white\"}, \"zaxis\": {\"backgroundcolor\": \"#E5ECF6\", \"gridcolor\": \"white\", \"gridwidth\": 2, \"linecolor\": \"white\", \"showbackground\": true, \"ticks\": \"\", \"zerolinecolor\": \"white\"}}, \"shapedefaults\": {\"line\": {\"color\": \"#2a3f5f\"}}, \"ternary\": {\"aaxis\": {\"gridcolor\": \"white\", \"linecolor\": \"white\", \"ticks\": \"\"}, \"baxis\": {\"gridcolor\": \"white\", \"linecolor\": \"white\", \"ticks\": \"\"}, \"bgcolor\": \"#E5ECF6\", \"caxis\": {\"gridcolor\": \"white\", \"linecolor\": \"white\", \"ticks\": \"\"}}, \"title\": {\"x\": 0.05}, \"xaxis\": {\"automargin\": true, \"gridcolor\": \"white\", \"linecolor\": \"white\", \"ticks\": \"\", \"title\": {\"standoff\": 15}, \"zerolinecolor\": \"white\", \"zerolinewidth\": 2}, \"yaxis\": {\"automargin\": true, \"gridcolor\": \"white\", \"linecolor\": \"white\", \"ticks\": \"\", \"title\": {\"standoff\": 15}, \"zerolinecolor\": \"white\", \"zerolinewidth\": 2}}}, \"xaxis\": {\"anchor\": \"y\", \"categoryarray\": [0, 1], \"categoryorder\": \"array\", \"domain\": [0.0, 1.0], \"title\": {\"text\": \"Fraude\"}}, \"yaxis\": {\"anchor\": \"x\", \"domain\": [0.0, 1.0], \"title\": {\"text\": \"Propor\\u00e7\\u00e3o de transa\\u00e7\\u00f5es Newbiers sobre total\"}}},\n",
       "                        {\"responsive\": true}\n",
       "                    ).then(function(){\n",
       "                            \n",
       "var gd = document.getElementById('f791b581-c408-43d1-adee-815af80004c4');\n",
       "var x = new MutationObserver(function (mutations, observer) {{\n",
       "        var display = window.getComputedStyle(gd).display;\n",
       "        if (!display || display === 'none') {{\n",
       "            console.log([gd, 'removed!']);\n",
       "            Plotly.purge(gd);\n",
       "            observer.disconnect();\n",
       "        }}\n",
       "}});\n",
       "\n",
       "// Listen for the removal of the full notebook cells\n",
       "var notebookContainer = gd.closest('#notebook-container');\n",
       "if (notebookContainer) {{\n",
       "    x.observe(notebookContainer, {childList: true});\n",
       "}}\n",
       "\n",
       "// Listen for the clearing of the current output cell\n",
       "var outputEl = gd.closest('.output');\n",
       "if (outputEl) {{\n",
       "    x.observe(outputEl, {childList: true});\n",
       "}}\n",
       "\n",
       "                        })\n",
       "                };\n",
       "                });\n",
       "            </script>\n",
       "        </div>"
      ]
     },
     "metadata": {},
     "output_type": "display_data"
    }
   ],
   "source": [
    "fig = px.box(df_newbiers_boxplot, x=\"Fraude\", y=\"Proporção de transações Newbiers sobre total\", points=\"all\", log_y=False, color='Fraude')\n",
    "fig.show()"
   ]
  },
  {
   "cell_type": "markdown",
   "metadata": {},
   "source": [
    "## 3. Histogram with number of transactions per day"
   ]
  },
  {
   "cell_type": "code",
   "execution_count": 29,
   "metadata": {},
   "outputs": [],
   "source": [
    "import plotly.express as px"
   ]
  },
  {
   "cell_type": "code",
   "execution_count": 49,
   "metadata": {},
   "outputs": [
    {
     "data": {
      "text/html": [
       "<div>\n",
       "<style scoped>\n",
       "    .dataframe tbody tr th:only-of-type {\n",
       "        vertical-align: middle;\n",
       "    }\n",
       "\n",
       "    .dataframe tbody tr th {\n",
       "        vertical-align: top;\n",
       "    }\n",
       "\n",
       "    .dataframe thead th {\n",
       "        text-align: right;\n",
       "    }\n",
       "</style>\n",
       "<table border=\"1\" class=\"dataframe\">\n",
       "  <thead>\n",
       "    <tr style=\"text-align: right;\">\n",
       "      <th></th>\n",
       "      <th>adress</th>\n",
       "      <th>fraud</th>\n",
       "      <th>start_date</th>\n",
       "      <th>market_start_date</th>\n",
       "      <th>diff_days</th>\n",
       "      <th>market_days</th>\n",
       "      <th>size_ok</th>\n",
       "      <th>price</th>\n",
       "      <th>market_cap</th>\n",
       "      <th>o_concur</th>\n",
       "      <th>biggest_holder</th>\n",
       "      <th>exchange</th>\n",
       "      <th>contract</th>\n",
       "      <th>date_analysis</th>\n",
       "      <th>code</th>\n",
       "      <th>site</th>\n",
       "      <th>social_media</th>\n",
       "    </tr>\n",
       "    <tr>\n",
       "      <th>ico</th>\n",
       "      <th></th>\n",
       "      <th></th>\n",
       "      <th></th>\n",
       "      <th></th>\n",
       "      <th></th>\n",
       "      <th></th>\n",
       "      <th></th>\n",
       "      <th></th>\n",
       "      <th></th>\n",
       "      <th></th>\n",
       "      <th></th>\n",
       "      <th></th>\n",
       "      <th></th>\n",
       "      <th></th>\n",
       "      <th></th>\n",
       "      <th></th>\n",
       "      <th></th>\n",
       "    </tr>\n",
       "  </thead>\n",
       "  <tbody>\n",
       "    <tr>\n",
       "      <th>0X</th>\n",
       "      <td>0xe41d2489571d322189246dafa5ebde1f4699f498</td>\n",
       "      <td>0</td>\n",
       "      <td>2017-08-11</td>\n",
       "      <td>2017-08-15</td>\n",
       "      <td>4</td>\n",
       "      <td>1124</td>\n",
       "      <td>NaN</td>\n",
       "      <td>NaN</td>\n",
       "      <td>45.0</td>\n",
       "      <td>x</td>\n",
       "      <td>2</td>\n",
       "      <td>6</td>\n",
       "      <td>14</td>\n",
       "      <td>2018-02-11</td>\n",
       "      <td>NaN</td>\n",
       "      <td>NaN</td>\n",
       "      <td>NaN</td>\n",
       "    </tr>\n",
       "    <tr>\n",
       "      <th>0XCERT</th>\n",
       "      <td>0x83e2be8d114f9661221384b3a50d24b96a5653f5</td>\n",
       "      <td>1</td>\n",
       "      <td>2018-06-26</td>\n",
       "      <td>2018-07-11</td>\n",
       "      <td>15</td>\n",
       "      <td>794</td>\n",
       "      <td>x</td>\n",
       "      <td>NaN</td>\n",
       "      <td>NaN</td>\n",
       "      <td>NaN</td>\n",
       "      <td>12</td>\n",
       "      <td>2</td>\n",
       "      <td>0</td>\n",
       "      <td>2019-01-07</td>\n",
       "      <td>x</td>\n",
       "      <td>x</td>\n",
       "      <td>x</td>\n",
       "    </tr>\n",
       "    <tr>\n",
       "      <th>4NEW</th>\n",
       "      <td>0x241ba672574a78a3a604cdd0a94429a73a84a324</td>\n",
       "      <td>1</td>\n",
       "      <td>2018-08-20</td>\n",
       "      <td>2018-08-20</td>\n",
       "      <td>0</td>\n",
       "      <td>754</td>\n",
       "      <td>x</td>\n",
       "      <td>NaN</td>\n",
       "      <td>NaN</td>\n",
       "      <td>NaN</td>\n",
       "      <td>50</td>\n",
       "      <td>7</td>\n",
       "      <td>0</td>\n",
       "      <td>2019-02-16</td>\n",
       "      <td>x</td>\n",
       "      <td>NaN</td>\n",
       "      <td>NaN</td>\n",
       "    </tr>\n",
       "    <tr>\n",
       "      <th>ABULABA</th>\n",
       "      <td>0xd938137e6d96c72e4a6085412ada2dad78ff89c4</td>\n",
       "      <td>1</td>\n",
       "      <td>2018-04-19</td>\n",
       "      <td>2018-12-16</td>\n",
       "      <td>241</td>\n",
       "      <td>636</td>\n",
       "      <td>NaN</td>\n",
       "      <td>x</td>\n",
       "      <td>NaN</td>\n",
       "      <td>NaN</td>\n",
       "      <td>13</td>\n",
       "      <td>7</td>\n",
       "      <td>41</td>\n",
       "      <td>2019-06-14</td>\n",
       "      <td>x</td>\n",
       "      <td>NaN</td>\n",
       "      <td>NaN</td>\n",
       "    </tr>\n",
       "    <tr>\n",
       "      <th>AELF</th>\n",
       "      <td>0xbf2179859fc6d5bee9bf9158632dc51678a4100e</td>\n",
       "      <td>0</td>\n",
       "      <td>2017-12-18</td>\n",
       "      <td>2017-12-21</td>\n",
       "      <td>3</td>\n",
       "      <td>996</td>\n",
       "      <td>NaN</td>\n",
       "      <td>NaN</td>\n",
       "      <td>154.0</td>\n",
       "      <td>x</td>\n",
       "      <td>13</td>\n",
       "      <td>10</td>\n",
       "      <td>0</td>\n",
       "      <td>2018-06-19</td>\n",
       "      <td>NaN</td>\n",
       "      <td>NaN</td>\n",
       "      <td>NaN</td>\n",
       "    </tr>\n",
       "    <tr>\n",
       "      <th>...</th>\n",
       "      <td>...</td>\n",
       "      <td>...</td>\n",
       "      <td>...</td>\n",
       "      <td>...</td>\n",
       "      <td>...</td>\n",
       "      <td>...</td>\n",
       "      <td>...</td>\n",
       "      <td>...</td>\n",
       "      <td>...</td>\n",
       "      <td>...</td>\n",
       "      <td>...</td>\n",
       "      <td>...</td>\n",
       "      <td>...</td>\n",
       "      <td>...</td>\n",
       "      <td>...</td>\n",
       "      <td>...</td>\n",
       "      <td>...</td>\n",
       "    </tr>\n",
       "    <tr>\n",
       "      <th>EXIMCHAIN</th>\n",
       "      <td>0x00c4b398500645eb5da00a1a379a88b11683ba01</td>\n",
       "      <td>1</td>\n",
       "      <td>2018-04-22</td>\n",
       "      <td>2018-04-22</td>\n",
       "      <td>0</td>\n",
       "      <td>874</td>\n",
       "      <td>x</td>\n",
       "      <td>x</td>\n",
       "      <td>NaN</td>\n",
       "      <td>NaN</td>\n",
       "      <td>50</td>\n",
       "      <td>0</td>\n",
       "      <td>0</td>\n",
       "      <td>2018-10-19</td>\n",
       "      <td>x</td>\n",
       "      <td>x</td>\n",
       "      <td>NaN</td>\n",
       "    </tr>\n",
       "    <tr>\n",
       "      <th>FACEBLOCK</th>\n",
       "      <td>0xc0c2ee1ce1fed8f6e2764363a36db3dd4cf10022</td>\n",
       "      <td>1</td>\n",
       "      <td>2017-11-12</td>\n",
       "      <td>2017-11-14</td>\n",
       "      <td>2</td>\n",
       "      <td>1033</td>\n",
       "      <td>x</td>\n",
       "      <td>NaN</td>\n",
       "      <td>NaN</td>\n",
       "      <td>NaN</td>\n",
       "      <td>30</td>\n",
       "      <td>0</td>\n",
       "      <td>29</td>\n",
       "      <td>2018-05-13</td>\n",
       "      <td>NaN</td>\n",
       "      <td>x</td>\n",
       "      <td>NaN</td>\n",
       "    </tr>\n",
       "    <tr>\n",
       "      <th>FANTOM</th>\n",
       "      <td>0x4e15361fd6b4bb609fa63c81a2be19d873717870</td>\n",
       "      <td>0</td>\n",
       "      <td>2018-06-15</td>\n",
       "      <td>2018-06-15</td>\n",
       "      <td>0</td>\n",
       "      <td>820</td>\n",
       "      <td>NaN</td>\n",
       "      <td>NaN</td>\n",
       "      <td>172.0</td>\n",
       "      <td>x</td>\n",
       "      <td>3</td>\n",
       "      <td>23</td>\n",
       "      <td>2</td>\n",
       "      <td>2018-12-12</td>\n",
       "      <td>NaN</td>\n",
       "      <td>NaN</td>\n",
       "      <td>NaN</td>\n",
       "    </tr>\n",
       "    <tr>\n",
       "      <th>FETCH</th>\n",
       "      <td>0x1d287cc25dad7ccaf76a26bc660c5f7c8e2a05bd</td>\n",
       "      <td>0</td>\n",
       "      <td>2018-10-08</td>\n",
       "      <td>2019-02-28</td>\n",
       "      <td>143</td>\n",
       "      <td>562</td>\n",
       "      <td>NaN</td>\n",
       "      <td>NaN</td>\n",
       "      <td>138.0</td>\n",
       "      <td>x</td>\n",
       "      <td>2</td>\n",
       "      <td>20</td>\n",
       "      <td>32</td>\n",
       "      <td>2019-08-27</td>\n",
       "      <td>NaN</td>\n",
       "      <td>NaN</td>\n",
       "      <td>NaN</td>\n",
       "    </tr>\n",
       "    <tr>\n",
       "      <th>FIDELIUM</th>\n",
       "      <td>0x52fb36c83ad33c1824912fc81071ca5eeb8ab390</td>\n",
       "      <td>1</td>\n",
       "      <td>2018-03-27</td>\n",
       "      <td>2018-03-27</td>\n",
       "      <td>0</td>\n",
       "      <td>900</td>\n",
       "      <td>NaN</td>\n",
       "      <td>NaN</td>\n",
       "      <td>NaN</td>\n",
       "      <td>NaN</td>\n",
       "      <td>38</td>\n",
       "      <td>1</td>\n",
       "      <td>0</td>\n",
       "      <td>2018-09-23</td>\n",
       "      <td>NaN</td>\n",
       "      <td>NaN</td>\n",
       "      <td>NaN</td>\n",
       "    </tr>\n",
       "  </tbody>\n",
       "</table>\n",
       "<p>100 rows × 17 columns</p>\n",
       "</div>"
      ],
      "text/plain": [
       "                                               adress  fraud  start_date  \\\n",
       "ico                                                                        \n",
       "0X         0xe41d2489571d322189246dafa5ebde1f4699f498      0  2017-08-11   \n",
       "0XCERT     0x83e2be8d114f9661221384b3a50d24b96a5653f5      1  2018-06-26   \n",
       "4NEW       0x241ba672574a78a3a604cdd0a94429a73a84a324      1  2018-08-20   \n",
       "ABULABA    0xd938137e6d96c72e4a6085412ada2dad78ff89c4      1  2018-04-19   \n",
       "AELF       0xbf2179859fc6d5bee9bf9158632dc51678a4100e      0  2017-12-18   \n",
       "...                                               ...    ...         ...   \n",
       "EXIMCHAIN  0x00c4b398500645eb5da00a1a379a88b11683ba01      1  2018-04-22   \n",
       "FACEBLOCK  0xc0c2ee1ce1fed8f6e2764363a36db3dd4cf10022      1  2017-11-12   \n",
       "FANTOM     0x4e15361fd6b4bb609fa63c81a2be19d873717870      0  2018-06-15   \n",
       "FETCH      0x1d287cc25dad7ccaf76a26bc660c5f7c8e2a05bd      0  2018-10-08   \n",
       "FIDELIUM   0x52fb36c83ad33c1824912fc81071ca5eeb8ab390      1  2018-03-27   \n",
       "\n",
       "          market_start_date  diff_days  market_days size_ok price  market_cap  \\\n",
       "ico                                                                             \n",
       "0X               2017-08-15          4         1124     NaN   NaN        45.0   \n",
       "0XCERT           2018-07-11         15          794       x   NaN         NaN   \n",
       "4NEW             2018-08-20          0          754       x   NaN         NaN   \n",
       "ABULABA          2018-12-16        241          636     NaN     x         NaN   \n",
       "AELF             2017-12-21          3          996     NaN   NaN       154.0   \n",
       "...                     ...        ...          ...     ...   ...         ...   \n",
       "EXIMCHAIN        2018-04-22          0          874       x     x         NaN   \n",
       "FACEBLOCK        2017-11-14          2         1033       x   NaN         NaN   \n",
       "FANTOM           2018-06-15          0          820     NaN   NaN       172.0   \n",
       "FETCH            2019-02-28        143          562     NaN   NaN       138.0   \n",
       "FIDELIUM         2018-03-27          0          900     NaN   NaN         NaN   \n",
       "\n",
       "          o_concur  biggest_holder  exchange  contract date_analysis code  \\\n",
       "ico                                                                         \n",
       "0X               x               2         6        14    2018-02-11  NaN   \n",
       "0XCERT         NaN              12         2         0    2019-01-07    x   \n",
       "4NEW           NaN              50         7         0    2019-02-16    x   \n",
       "ABULABA        NaN              13         7        41    2019-06-14    x   \n",
       "AELF             x              13        10         0    2018-06-19  NaN   \n",
       "...            ...             ...       ...       ...           ...  ...   \n",
       "EXIMCHAIN      NaN              50         0         0    2018-10-19    x   \n",
       "FACEBLOCK      NaN              30         0        29    2018-05-13  NaN   \n",
       "FANTOM           x               3        23         2    2018-12-12  NaN   \n",
       "FETCH            x               2        20        32    2019-08-27  NaN   \n",
       "FIDELIUM       NaN              38         1         0    2018-09-23  NaN   \n",
       "\n",
       "          site social_media  \n",
       "ico                          \n",
       "0X         NaN          NaN  \n",
       "0XCERT       x            x  \n",
       "4NEW       NaN          NaN  \n",
       "ABULABA    NaN          NaN  \n",
       "AELF       NaN          NaN  \n",
       "...        ...          ...  \n",
       "EXIMCHAIN    x          NaN  \n",
       "FACEBLOCK    x          NaN  \n",
       "FANTOM     NaN          NaN  \n",
       "FETCH      NaN          NaN  \n",
       "FIDELIUM   NaN          NaN  \n",
       "\n",
       "[100 rows x 17 columns]"
      ]
     },
     "execution_count": 49,
     "metadata": {},
     "output_type": "execute_result"
    }
   ],
   "source": [
    "df_info.head(100)"
   ]
  },
  {
   "cell_type": "code",
   "execution_count": 42,
   "metadata": {},
   "outputs": [],
   "source": [
    "def plot_histogram_transactions(ico, time_range='D'):\n",
    "    ico_csv= f'{path_to_csvs}{ico}.csv'    \n",
    "    df_current_ico = pd.read_csv(ico_csv)\n",
    "    df_current_ico.BLOCK_TIMESTAMP = pd.to_datetime(df_current_ico.BLOCK_TIMESTAMP)\n",
    "    df_current_ico['TRANSACTIONS'] = 1\n",
    "    df_current_ico.sort_values(by='BLOCK_TIMESTAMP', inplace=True)\n",
    "    df_resample = df_current_ico.resample(\n",
    "        time_range, on='BLOCK_TIMESTAMP'\n",
    "    ).sum()\n",
    "    fig = px.histogram(x=df_resample.TRANSACTIONS)\n",
    "    fig.show()       \n",
    "    "
   ]
  },
  {
   "cell_type": "markdown",
   "metadata": {},
   "source": [
    "### 3.1. Resampling by day ('D')"
   ]
  },
  {
   "cell_type": "code",
   "execution_count": 50,
   "metadata": {},
   "outputs": [
    {
     "data": {
      "application/vnd.plotly.v1+json": {
       "config": {
        "plotlyServerURL": "https://plot.ly"
       },
       "data": [
        {
         "alignmentgroup": "True",
         "bingroup": "x",
         "hovertemplate": "x=%{x}<br>count=%{y}<extra></extra>",
         "legendgroup": "",
         "marker": {
          "color": "#636efa"
         },
         "name": "",
         "offsetgroup": "",
         "orientation": "v",
         "showlegend": false,
         "type": "histogram",
         "x": [
          1,
          0,
          0,
          0,
          0,
          0,
          0,
          0,
          0,
          0,
          0,
          0,
          0,
          0,
          0,
          0,
          0,
          0,
          0,
          0,
          0,
          0,
          0,
          0,
          0,
          0,
          0,
          0,
          0,
          0,
          0,
          0,
          0,
          0,
          0,
          0,
          0,
          0,
          0,
          0,
          0,
          0,
          0,
          0,
          0,
          0,
          0,
          0,
          0,
          0,
          0,
          0,
          0,
          0,
          0,
          0,
          0,
          0,
          0,
          0,
          0,
          0,
          0,
          0,
          0,
          0,
          0,
          0,
          0,
          0,
          0,
          0,
          0,
          0,
          0,
          0,
          0,
          0,
          0,
          0,
          0,
          0,
          0,
          0,
          0,
          0,
          0,
          0,
          0,
          0,
          0,
          0,
          0,
          0,
          0,
          0,
          0,
          0,
          0,
          0,
          0,
          0,
          0,
          0,
          0,
          0,
          0,
          0,
          0,
          0,
          0,
          0,
          0,
          0,
          0,
          0,
          0,
          0,
          0,
          0,
          0,
          0,
          0,
          0,
          0,
          0,
          2,
          0,
          0,
          0,
          0,
          0,
          0,
          0,
          0,
          0,
          1,
          10,
          1,
          0,
          0,
          2,
          12,
          543,
          230,
          80,
          69,
          102,
          85,
          55,
          387,
          431,
          168,
          94,
          156,
          113,
          98,
          341,
          206,
          349,
          329,
          362,
          335,
          388,
          244,
          108,
          94,
          106,
          125,
          169,
          118,
          138,
          120,
          105,
          67,
          166,
          71,
          77,
          56,
          41,
          1073,
          186,
          38,
          25,
          53,
          46,
          133,
          39,
          27,
          69,
          497,
          1181,
          146,
          144,
          34,
          93,
          67,
          75,
          122,
          80,
          167,
          54,
          34,
          46,
          34,
          33,
          36,
          70,
          45,
          16,
          24,
          24,
          17,
          17,
          24,
          31,
          12,
          158,
          38,
          109,
          136,
          121,
          98,
          206,
          437,
          701,
          400,
          253,
          375,
          601,
          797,
          331,
          329,
          384,
          311,
          391,
          316,
          435,
          353,
          340,
          527,
          437,
          209,
          241,
          394,
          486,
          301,
          357,
          589,
          463,
          285,
          302,
          283,
          244,
          267,
          199,
          277,
          341,
          264,
          274,
          368,
          399,
          322,
          325,
          216,
          387,
          347,
          272,
          223,
          230,
          164,
          133,
          150,
          271,
          294,
          206,
          3973,
          8772,
          1155,
          672,
          507,
          248,
          161,
          298,
          165,
          163,
          146,
          269,
          208,
          197,
          305,
          479,
          249,
          255,
          199,
          354,
          433,
          149,
          229,
          107,
          121,
          326,
          210,
          198,
          521,
          129,
          95,
          106,
          299,
          181,
          156,
          82,
          100,
          52,
          71,
          191,
          110,
          124,
          75,
          160,
          146,
          166,
          291
         ],
         "xaxis": "x",
         "yaxis": "y"
        }
       ],
       "layout": {
        "autosize": true,
        "barmode": "relative",
        "legend": {
         "tracegroupgap": 0
        },
        "margin": {
         "t": 60
        },
        "template": {
         "data": {
          "bar": [
           {
            "error_x": {
             "color": "#2a3f5f"
            },
            "error_y": {
             "color": "#2a3f5f"
            },
            "marker": {
             "line": {
              "color": "#E5ECF6",
              "width": 0.5
             }
            },
            "type": "bar"
           }
          ],
          "barpolar": [
           {
            "marker": {
             "line": {
              "color": "#E5ECF6",
              "width": 0.5
             }
            },
            "type": "barpolar"
           }
          ],
          "carpet": [
           {
            "aaxis": {
             "endlinecolor": "#2a3f5f",
             "gridcolor": "white",
             "linecolor": "white",
             "minorgridcolor": "white",
             "startlinecolor": "#2a3f5f"
            },
            "baxis": {
             "endlinecolor": "#2a3f5f",
             "gridcolor": "white",
             "linecolor": "white",
             "minorgridcolor": "white",
             "startlinecolor": "#2a3f5f"
            },
            "type": "carpet"
           }
          ],
          "choropleth": [
           {
            "colorbar": {
             "outlinewidth": 0,
             "ticks": ""
            },
            "type": "choropleth"
           }
          ],
          "contour": [
           {
            "colorbar": {
             "outlinewidth": 0,
             "ticks": ""
            },
            "colorscale": [
             [
              0,
              "#0d0887"
             ],
             [
              0.1111111111111111,
              "#46039f"
             ],
             [
              0.2222222222222222,
              "#7201a8"
             ],
             [
              0.3333333333333333,
              "#9c179e"
             ],
             [
              0.4444444444444444,
              "#bd3786"
             ],
             [
              0.5555555555555556,
              "#d8576b"
             ],
             [
              0.6666666666666666,
              "#ed7953"
             ],
             [
              0.7777777777777778,
              "#fb9f3a"
             ],
             [
              0.8888888888888888,
              "#fdca26"
             ],
             [
              1,
              "#f0f921"
             ]
            ],
            "type": "contour"
           }
          ],
          "contourcarpet": [
           {
            "colorbar": {
             "outlinewidth": 0,
             "ticks": ""
            },
            "type": "contourcarpet"
           }
          ],
          "heatmap": [
           {
            "colorbar": {
             "outlinewidth": 0,
             "ticks": ""
            },
            "colorscale": [
             [
              0,
              "#0d0887"
             ],
             [
              0.1111111111111111,
              "#46039f"
             ],
             [
              0.2222222222222222,
              "#7201a8"
             ],
             [
              0.3333333333333333,
              "#9c179e"
             ],
             [
              0.4444444444444444,
              "#bd3786"
             ],
             [
              0.5555555555555556,
              "#d8576b"
             ],
             [
              0.6666666666666666,
              "#ed7953"
             ],
             [
              0.7777777777777778,
              "#fb9f3a"
             ],
             [
              0.8888888888888888,
              "#fdca26"
             ],
             [
              1,
              "#f0f921"
             ]
            ],
            "type": "heatmap"
           }
          ],
          "heatmapgl": [
           {
            "colorbar": {
             "outlinewidth": 0,
             "ticks": ""
            },
            "colorscale": [
             [
              0,
              "#0d0887"
             ],
             [
              0.1111111111111111,
              "#46039f"
             ],
             [
              0.2222222222222222,
              "#7201a8"
             ],
             [
              0.3333333333333333,
              "#9c179e"
             ],
             [
              0.4444444444444444,
              "#bd3786"
             ],
             [
              0.5555555555555556,
              "#d8576b"
             ],
             [
              0.6666666666666666,
              "#ed7953"
             ],
             [
              0.7777777777777778,
              "#fb9f3a"
             ],
             [
              0.8888888888888888,
              "#fdca26"
             ],
             [
              1,
              "#f0f921"
             ]
            ],
            "type": "heatmapgl"
           }
          ],
          "histogram": [
           {
            "marker": {
             "colorbar": {
              "outlinewidth": 0,
              "ticks": ""
             }
            },
            "type": "histogram"
           }
          ],
          "histogram2d": [
           {
            "colorbar": {
             "outlinewidth": 0,
             "ticks": ""
            },
            "colorscale": [
             [
              0,
              "#0d0887"
             ],
             [
              0.1111111111111111,
              "#46039f"
             ],
             [
              0.2222222222222222,
              "#7201a8"
             ],
             [
              0.3333333333333333,
              "#9c179e"
             ],
             [
              0.4444444444444444,
              "#bd3786"
             ],
             [
              0.5555555555555556,
              "#d8576b"
             ],
             [
              0.6666666666666666,
              "#ed7953"
             ],
             [
              0.7777777777777778,
              "#fb9f3a"
             ],
             [
              0.8888888888888888,
              "#fdca26"
             ],
             [
              1,
              "#f0f921"
             ]
            ],
            "type": "histogram2d"
           }
          ],
          "histogram2dcontour": [
           {
            "colorbar": {
             "outlinewidth": 0,
             "ticks": ""
            },
            "colorscale": [
             [
              0,
              "#0d0887"
             ],
             [
              0.1111111111111111,
              "#46039f"
             ],
             [
              0.2222222222222222,
              "#7201a8"
             ],
             [
              0.3333333333333333,
              "#9c179e"
             ],
             [
              0.4444444444444444,
              "#bd3786"
             ],
             [
              0.5555555555555556,
              "#d8576b"
             ],
             [
              0.6666666666666666,
              "#ed7953"
             ],
             [
              0.7777777777777778,
              "#fb9f3a"
             ],
             [
              0.8888888888888888,
              "#fdca26"
             ],
             [
              1,
              "#f0f921"
             ]
            ],
            "type": "histogram2dcontour"
           }
          ],
          "mesh3d": [
           {
            "colorbar": {
             "outlinewidth": 0,
             "ticks": ""
            },
            "type": "mesh3d"
           }
          ],
          "parcoords": [
           {
            "line": {
             "colorbar": {
              "outlinewidth": 0,
              "ticks": ""
             }
            },
            "type": "parcoords"
           }
          ],
          "pie": [
           {
            "automargin": true,
            "type": "pie"
           }
          ],
          "scatter": [
           {
            "marker": {
             "colorbar": {
              "outlinewidth": 0,
              "ticks": ""
             }
            },
            "type": "scatter"
           }
          ],
          "scatter3d": [
           {
            "line": {
             "colorbar": {
              "outlinewidth": 0,
              "ticks": ""
             }
            },
            "marker": {
             "colorbar": {
              "outlinewidth": 0,
              "ticks": ""
             }
            },
            "type": "scatter3d"
           }
          ],
          "scattercarpet": [
           {
            "marker": {
             "colorbar": {
              "outlinewidth": 0,
              "ticks": ""
             }
            },
            "type": "scattercarpet"
           }
          ],
          "scattergeo": [
           {
            "marker": {
             "colorbar": {
              "outlinewidth": 0,
              "ticks": ""
             }
            },
            "type": "scattergeo"
           }
          ],
          "scattergl": [
           {
            "marker": {
             "colorbar": {
              "outlinewidth": 0,
              "ticks": ""
             }
            },
            "type": "scattergl"
           }
          ],
          "scattermapbox": [
           {
            "marker": {
             "colorbar": {
              "outlinewidth": 0,
              "ticks": ""
             }
            },
            "type": "scattermapbox"
           }
          ],
          "scatterpolar": [
           {
            "marker": {
             "colorbar": {
              "outlinewidth": 0,
              "ticks": ""
             }
            },
            "type": "scatterpolar"
           }
          ],
          "scatterpolargl": [
           {
            "marker": {
             "colorbar": {
              "outlinewidth": 0,
              "ticks": ""
             }
            },
            "type": "scatterpolargl"
           }
          ],
          "scatterternary": [
           {
            "marker": {
             "colorbar": {
              "outlinewidth": 0,
              "ticks": ""
             }
            },
            "type": "scatterternary"
           }
          ],
          "surface": [
           {
            "colorbar": {
             "outlinewidth": 0,
             "ticks": ""
            },
            "colorscale": [
             [
              0,
              "#0d0887"
             ],
             [
              0.1111111111111111,
              "#46039f"
             ],
             [
              0.2222222222222222,
              "#7201a8"
             ],
             [
              0.3333333333333333,
              "#9c179e"
             ],
             [
              0.4444444444444444,
              "#bd3786"
             ],
             [
              0.5555555555555556,
              "#d8576b"
             ],
             [
              0.6666666666666666,
              "#ed7953"
             ],
             [
              0.7777777777777778,
              "#fb9f3a"
             ],
             [
              0.8888888888888888,
              "#fdca26"
             ],
             [
              1,
              "#f0f921"
             ]
            ],
            "type": "surface"
           }
          ],
          "table": [
           {
            "cells": {
             "fill": {
              "color": "#EBF0F8"
             },
             "line": {
              "color": "white"
             }
            },
            "header": {
             "fill": {
              "color": "#C8D4E3"
             },
             "line": {
              "color": "white"
             }
            },
            "type": "table"
           }
          ]
         },
         "layout": {
          "annotationdefaults": {
           "arrowcolor": "#2a3f5f",
           "arrowhead": 0,
           "arrowwidth": 1
          },
          "coloraxis": {
           "colorbar": {
            "outlinewidth": 0,
            "ticks": ""
           }
          },
          "colorscale": {
           "diverging": [
            [
             0,
             "#8e0152"
            ],
            [
             0.1,
             "#c51b7d"
            ],
            [
             0.2,
             "#de77ae"
            ],
            [
             0.3,
             "#f1b6da"
            ],
            [
             0.4,
             "#fde0ef"
            ],
            [
             0.5,
             "#f7f7f7"
            ],
            [
             0.6,
             "#e6f5d0"
            ],
            [
             0.7,
             "#b8e186"
            ],
            [
             0.8,
             "#7fbc41"
            ],
            [
             0.9,
             "#4d9221"
            ],
            [
             1,
             "#276419"
            ]
           ],
           "sequential": [
            [
             0,
             "#0d0887"
            ],
            [
             0.1111111111111111,
             "#46039f"
            ],
            [
             0.2222222222222222,
             "#7201a8"
            ],
            [
             0.3333333333333333,
             "#9c179e"
            ],
            [
             0.4444444444444444,
             "#bd3786"
            ],
            [
             0.5555555555555556,
             "#d8576b"
            ],
            [
             0.6666666666666666,
             "#ed7953"
            ],
            [
             0.7777777777777778,
             "#fb9f3a"
            ],
            [
             0.8888888888888888,
             "#fdca26"
            ],
            [
             1,
             "#f0f921"
            ]
           ],
           "sequentialminus": [
            [
             0,
             "#0d0887"
            ],
            [
             0.1111111111111111,
             "#46039f"
            ],
            [
             0.2222222222222222,
             "#7201a8"
            ],
            [
             0.3333333333333333,
             "#9c179e"
            ],
            [
             0.4444444444444444,
             "#bd3786"
            ],
            [
             0.5555555555555556,
             "#d8576b"
            ],
            [
             0.6666666666666666,
             "#ed7953"
            ],
            [
             0.7777777777777778,
             "#fb9f3a"
            ],
            [
             0.8888888888888888,
             "#fdca26"
            ],
            [
             1,
             "#f0f921"
            ]
           ]
          },
          "colorway": [
           "#636efa",
           "#EF553B",
           "#00cc96",
           "#ab63fa",
           "#FFA15A",
           "#19d3f3",
           "#FF6692",
           "#B6E880",
           "#FF97FF",
           "#FECB52"
          ],
          "font": {
           "color": "#2a3f5f"
          },
          "geo": {
           "bgcolor": "white",
           "lakecolor": "white",
           "landcolor": "#E5ECF6",
           "showlakes": true,
           "showland": true,
           "subunitcolor": "white"
          },
          "hoverlabel": {
           "align": "left"
          },
          "hovermode": "closest",
          "mapbox": {
           "style": "light"
          },
          "paper_bgcolor": "white",
          "plot_bgcolor": "#E5ECF6",
          "polar": {
           "angularaxis": {
            "gridcolor": "white",
            "linecolor": "white",
            "ticks": ""
           },
           "bgcolor": "#E5ECF6",
           "radialaxis": {
            "gridcolor": "white",
            "linecolor": "white",
            "ticks": ""
           }
          },
          "scene": {
           "xaxis": {
            "backgroundcolor": "#E5ECF6",
            "gridcolor": "white",
            "gridwidth": 2,
            "linecolor": "white",
            "showbackground": true,
            "ticks": "",
            "zerolinecolor": "white"
           },
           "yaxis": {
            "backgroundcolor": "#E5ECF6",
            "gridcolor": "white",
            "gridwidth": 2,
            "linecolor": "white",
            "showbackground": true,
            "ticks": "",
            "zerolinecolor": "white"
           },
           "zaxis": {
            "backgroundcolor": "#E5ECF6",
            "gridcolor": "white",
            "gridwidth": 2,
            "linecolor": "white",
            "showbackground": true,
            "ticks": "",
            "zerolinecolor": "white"
           }
          },
          "shapedefaults": {
           "line": {
            "color": "#2a3f5f"
           }
          },
          "ternary": {
           "aaxis": {
            "gridcolor": "white",
            "linecolor": "white",
            "ticks": ""
           },
           "baxis": {
            "gridcolor": "white",
            "linecolor": "white",
            "ticks": ""
           },
           "bgcolor": "#E5ECF6",
           "caxis": {
            "gridcolor": "white",
            "linecolor": "white",
            "ticks": ""
           }
          },
          "title": {
           "x": 0.05
          },
          "xaxis": {
           "automargin": true,
           "gridcolor": "white",
           "linecolor": "white",
           "ticks": "",
           "title": {
            "standoff": 15
           },
           "zerolinecolor": "white",
           "zerolinewidth": 2
          },
          "yaxis": {
           "automargin": true,
           "gridcolor": "white",
           "linecolor": "white",
           "ticks": "",
           "title": {
            "standoff": 15
           },
           "zerolinecolor": "white",
           "zerolinewidth": 2
          }
         }
        },
        "xaxis": {
         "anchor": "y",
         "autorange": true,
         "domain": [
          0,
          1
         ],
         "range": [
          -0.5,
          8799.5
         ],
         "title": {
          "text": "x"
         },
         "type": "linear"
        },
        "yaxis": {
         "anchor": "x",
         "autorange": true,
         "domain": [
          0,
          1
         ],
         "range": [
          0,
          250.52631578947367
         ],
         "title": {
          "text": "count"
         }
        }
       }
      },
      "image/png": "[encoded data removed]",
      "text/html": [
       "<div>\n",
       "        \n",
       "        \n",
       "            <div id=\"9dfa7ea2-5ab4-4109-b479-301d77bb85f5\" class=\"plotly-graph-div\" style=\"height:525px; width:100%;\"></div>\n",
       "            <script type=\"text/javascript\">\n",
       "                require([\"plotly\"], function(Plotly) {\n",
       "                    window.PLOTLYENV=window.PLOTLYENV || {};\n",
       "                    \n",
       "                if (document.getElementById(\"9dfa7ea2-5ab4-4109-b479-301d77bb85f5\")) {\n",
       "                    Plotly.newPlot(\n",
       "                        '9dfa7ea2-5ab4-4109-b479-301d77bb85f5',\n",
       "                        [{\"alignmentgroup\": \"True\", \"bingroup\": \"x\", \"hovertemplate\": \"x=%{x}<br>count=%{y}<extra></extra>\", \"legendgroup\": \"\", \"marker\": {\"color\": \"#636efa\"}, \"name\": \"\", \"offsetgroup\": \"\", \"orientation\": \"v\", \"showlegend\": false, \"type\": \"histogram\", \"x\": [1, 0, 0, 0, 0, 0, 0, 0, 0, 0, 0, 0, 0, 0, 0, 0, 0, 0, 0, 0, 0, 0, 0, 0, 0, 0, 0, 0, 0, 0, 0, 0, 0, 0, 0, 0, 0, 0, 0, 0, 0, 0, 0, 0, 0, 0, 0, 0, 0, 0, 0, 0, 0, 0, 0, 0, 0, 0, 0, 0, 0, 0, 0, 0, 0, 0, 0, 0, 0, 0, 0, 0, 0, 0, 0, 0, 0, 0, 0, 0, 0, 0, 0, 0, 0, 0, 0, 0, 0, 0, 0, 0, 0, 0, 0, 0, 0, 0, 0, 0, 0, 0, 0, 0, 0, 0, 0, 0, 0, 0, 0, 0, 0, 0, 0, 0, 0, 0, 0, 0, 0, 0, 0, 0, 0, 0, 2, 0, 0, 0, 0, 0, 0, 0, 0, 0, 1, 10, 1, 0, 0, 2, 12, 543, 230, 80, 69, 102, 85, 55, 387, 431, 168, 94, 156, 113, 98, 341, 206, 349, 329, 362, 335, 388, 244, 108, 94, 106, 125, 169, 118, 138, 120, 105, 67, 166, 71, 77, 56, 41, 1073, 186, 38, 25, 53, 46, 133, 39, 27, 69, 497, 1181, 146, 144, 34, 93, 67, 75, 122, 80, 167, 54, 34, 46, 34, 33, 36, 70, 45, 16, 24, 24, 17, 17, 24, 31, 12, 158, 38, 109, 136, 121, 98, 206, 437, 701, 400, 253, 375, 601, 797, 331, 329, 384, 311, 391, 316, 435, 353, 340, 527, 437, 209, 241, 394, 486, 301, 357, 589, 463, 285, 302, 283, 244, 267, 199, 277, 341, 264, 274, 368, 399, 322, 325, 216, 387, 347, 272, 223, 230, 164, 133, 150, 271, 294, 206, 3973, 8772, 1155, 672, 507, 248, 161, 298, 165, 163, 146, 269, 208, 197, 305, 479, 249, 255, 199, 354, 433, 149, 229, 107, 121, 326, 210, 198, 521, 129, 95, 106, 299, 181, 156, 82, 100, 52, 71, 191, 110, 124, 75, 160, 146, 166, 291], \"xaxis\": \"x\", \"yaxis\": \"y\"}],\n",
       "                        {\"barmode\": \"relative\", \"legend\": {\"tracegroupgap\": 0}, \"margin\": {\"t\": 60}, \"template\": {\"data\": {\"bar\": [{\"error_x\": {\"color\": \"#2a3f5f\"}, \"error_y\": {\"color\": \"#2a3f5f\"}, \"marker\": {\"line\": {\"color\": \"#E5ECF6\", \"width\": 0.5}}, \"type\": \"bar\"}], \"barpolar\": [{\"marker\": {\"line\": {\"color\": \"#E5ECF6\", \"width\": 0.5}}, \"type\": \"barpolar\"}], \"carpet\": [{\"aaxis\": {\"endlinecolor\": \"#2a3f5f\", \"gridcolor\": \"white\", \"linecolor\": \"white\", \"minorgridcolor\": \"white\", \"startlinecolor\": \"#2a3f5f\"}, \"baxis\": {\"endlinecolor\": \"#2a3f5f\", \"gridcolor\": \"white\", \"linecolor\": \"white\", \"minorgridcolor\": \"white\", \"startlinecolor\": \"#2a3f5f\"}, \"type\": \"carpet\"}], \"choropleth\": [{\"colorbar\": {\"outlinewidth\": 0, \"ticks\": \"\"}, \"type\": \"choropleth\"}], \"contour\": [{\"colorbar\": {\"outlinewidth\": 0, \"ticks\": \"\"}, \"colorscale\": [[0.0, \"#0d0887\"], [0.1111111111111111, \"#46039f\"], [0.2222222222222222, \"#7201a8\"], [0.3333333333333333, \"#9c179e\"], [0.4444444444444444, \"#bd3786\"], [0.5555555555555556, \"#d8576b\"], [0.6666666666666666, \"#ed7953\"], [0.7777777777777778, \"#fb9f3a\"], [0.8888888888888888, \"#fdca26\"], [1.0, \"#f0f921\"]], \"type\": \"contour\"}], \"contourcarpet\": [{\"colorbar\": {\"outlinewidth\": 0, \"ticks\": \"\"}, \"type\": \"contourcarpet\"}], \"heatmap\": [{\"colorbar\": {\"outlinewidth\": 0, \"ticks\": \"\"}, \"colorscale\": [[0.0, \"#0d0887\"], [0.1111111111111111, \"#46039f\"], [0.2222222222222222, \"#7201a8\"], [0.3333333333333333, \"#9c179e\"], [0.4444444444444444, \"#bd3786\"], [0.5555555555555556, \"#d8576b\"], [0.6666666666666666, \"#ed7953\"], [0.7777777777777778, \"#fb9f3a\"], [0.8888888888888888, \"#fdca26\"], [1.0, \"#f0f921\"]], \"type\": \"heatmap\"}], \"heatmapgl\": [{\"colorbar\": {\"outlinewidth\": 0, \"ticks\": \"\"}, \"colorscale\": [[0.0, \"#0d0887\"], [0.1111111111111111, \"#46039f\"], [0.2222222222222222, \"#7201a8\"], [0.3333333333333333, \"#9c179e\"], [0.4444444444444444, \"#bd3786\"], [0.5555555555555556, \"#d8576b\"], [0.6666666666666666, \"#ed7953\"], [0.7777777777777778, \"#fb9f3a\"], [0.8888888888888888, \"#fdca26\"], [1.0, \"#f0f921\"]], \"type\": \"heatmapgl\"}], \"histogram\": [{\"marker\": {\"colorbar\": {\"outlinewidth\": 0, \"ticks\": \"\"}}, \"type\": \"histogram\"}], \"histogram2d\": [{\"colorbar\": {\"outlinewidth\": 0, \"ticks\": \"\"}, \"colorscale\": [[0.0, \"#0d0887\"], [0.1111111111111111, \"#46039f\"], [0.2222222222222222, \"#7201a8\"], [0.3333333333333333, \"#9c179e\"], [0.4444444444444444, \"#bd3786\"], [0.5555555555555556, \"#d8576b\"], [0.6666666666666666, \"#ed7953\"], [0.7777777777777778, \"#fb9f3a\"], [0.8888888888888888, \"#fdca26\"], [1.0, \"#f0f921\"]], \"type\": \"histogram2d\"}], \"histogram2dcontour\": [{\"colorbar\": {\"outlinewidth\": 0, \"ticks\": \"\"}, \"colorscale\": [[0.0, \"#0d0887\"], [0.1111111111111111, \"#46039f\"], [0.2222222222222222, \"#7201a8\"], [0.3333333333333333, \"#9c179e\"], [0.4444444444444444, \"#bd3786\"], [0.5555555555555556, \"#d8576b\"], [0.6666666666666666, \"#ed7953\"], [0.7777777777777778, \"#fb9f3a\"], [0.8888888888888888, \"#fdca26\"], [1.0, \"#f0f921\"]], \"type\": \"histogram2dcontour\"}], \"mesh3d\": [{\"colorbar\": {\"outlinewidth\": 0, \"ticks\": \"\"}, \"type\": \"mesh3d\"}], \"parcoords\": [{\"line\": {\"colorbar\": {\"outlinewidth\": 0, \"ticks\": \"\"}}, \"type\": \"parcoords\"}], \"pie\": [{\"automargin\": true, \"type\": \"pie\"}], \"scatter\": [{\"marker\": {\"colorbar\": {\"outlinewidth\": 0, \"ticks\": \"\"}}, \"type\": \"scatter\"}], \"scatter3d\": [{\"line\": {\"colorbar\": {\"outlinewidth\": 0, \"ticks\": \"\"}}, \"marker\": {\"colorbar\": {\"outlinewidth\": 0, \"ticks\": \"\"}}, \"type\": \"scatter3d\"}], \"scattercarpet\": [{\"marker\": {\"colorbar\": {\"outlinewidth\": 0, \"ticks\": \"\"}}, \"type\": \"scattercarpet\"}], \"scattergeo\": [{\"marker\": {\"colorbar\": {\"outlinewidth\": 0, \"ticks\": \"\"}}, \"type\": \"scattergeo\"}], \"scattergl\": [{\"marker\": {\"colorbar\": {\"outlinewidth\": 0, \"ticks\": \"\"}}, \"type\": \"scattergl\"}], \"scattermapbox\": [{\"marker\": {\"colorbar\": {\"outlinewidth\": 0, \"ticks\": \"\"}}, \"type\": \"scattermapbox\"}], \"scatterpolar\": [{\"marker\": {\"colorbar\": {\"outlinewidth\": 0, \"ticks\": \"\"}}, \"type\": \"scatterpolar\"}], \"scatterpolargl\": [{\"marker\": {\"colorbar\": {\"outlinewidth\": 0, \"ticks\": \"\"}}, \"type\": \"scatterpolargl\"}], \"scatterternary\": [{\"marker\": {\"colorbar\": {\"outlinewidth\": 0, \"ticks\": \"\"}}, \"type\": \"scatterternary\"}], \"surface\": [{\"colorbar\": {\"outlinewidth\": 0, \"ticks\": \"\"}, \"colorscale\": [[0.0, \"#0d0887\"], [0.1111111111111111, \"#46039f\"], [0.2222222222222222, \"#7201a8\"], [0.3333333333333333, \"#9c179e\"], [0.4444444444444444, \"#bd3786\"], [0.5555555555555556, \"#d8576b\"], [0.6666666666666666, \"#ed7953\"], [0.7777777777777778, \"#fb9f3a\"], [0.8888888888888888, \"#fdca26\"], [1.0, \"#f0f921\"]], \"type\": \"surface\"}], \"table\": [{\"cells\": {\"fill\": {\"color\": \"#EBF0F8\"}, \"line\": {\"color\": \"white\"}}, \"header\": {\"fill\": {\"color\": \"#C8D4E3\"}, \"line\": {\"color\": \"white\"}}, \"type\": \"table\"}]}, \"layout\": {\"annotationdefaults\": {\"arrowcolor\": \"#2a3f5f\", \"arrowhead\": 0, \"arrowwidth\": 1}, \"coloraxis\": {\"colorbar\": {\"outlinewidth\": 0, \"ticks\": \"\"}}, \"colorscale\": {\"diverging\": [[0, \"#8e0152\"], [0.1, \"#c51b7d\"], [0.2, \"#de77ae\"], [0.3, \"#f1b6da\"], [0.4, \"#fde0ef\"], [0.5, \"#f7f7f7\"], [0.6, \"#e6f5d0\"], [0.7, \"#b8e186\"], [0.8, \"#7fbc41\"], [0.9, \"#4d9221\"], [1, \"#276419\"]], \"sequential\": [[0.0, \"#0d0887\"], [0.1111111111111111, \"#46039f\"], [0.2222222222222222, \"#7201a8\"], [0.3333333333333333, \"#9c179e\"], [0.4444444444444444, \"#bd3786\"], [0.5555555555555556, \"#d8576b\"], [0.6666666666666666, \"#ed7953\"], [0.7777777777777778, \"#fb9f3a\"], [0.8888888888888888, \"#fdca26\"], [1.0, \"#f0f921\"]], \"sequentialminus\": [[0.0, \"#0d0887\"], [0.1111111111111111, \"#46039f\"], [0.2222222222222222, \"#7201a8\"], [0.3333333333333333, \"#9c179e\"], [0.4444444444444444, \"#bd3786\"], [0.5555555555555556, \"#d8576b\"], [0.6666666666666666, \"#ed7953\"], [0.7777777777777778, \"#fb9f3a\"], [0.8888888888888888, \"#fdca26\"], [1.0, \"#f0f921\"]]}, \"colorway\": [\"#636efa\", \"#EF553B\", \"#00cc96\", \"#ab63fa\", \"#FFA15A\", \"#19d3f3\", \"#FF6692\", \"#B6E880\", \"#FF97FF\", \"#FECB52\"], \"font\": {\"color\": \"#2a3f5f\"}, \"geo\": {\"bgcolor\": \"white\", \"lakecolor\": \"white\", \"landcolor\": \"#E5ECF6\", \"showlakes\": true, \"showland\": true, \"subunitcolor\": \"white\"}, \"hoverlabel\": {\"align\": \"left\"}, \"hovermode\": \"closest\", \"mapbox\": {\"style\": \"light\"}, \"paper_bgcolor\": \"white\", \"plot_bgcolor\": \"#E5ECF6\", \"polar\": {\"angularaxis\": {\"gridcolor\": \"white\", \"linecolor\": \"white\", \"ticks\": \"\"}, \"bgcolor\": \"#E5ECF6\", \"radialaxis\": {\"gridcolor\": \"white\", \"linecolor\": \"white\", \"ticks\": \"\"}}, \"scene\": {\"xaxis\": {\"backgroundcolor\": \"#E5ECF6\", \"gridcolor\": \"white\", \"gridwidth\": 2, \"linecolor\": \"white\", \"showbackground\": true, \"ticks\": \"\", \"zerolinecolor\": \"white\"}, \"yaxis\": {\"backgroundcolor\": \"#E5ECF6\", \"gridcolor\": \"white\", \"gridwidth\": 2, \"linecolor\": \"white\", \"showbackground\": true, \"ticks\": \"\", \"zerolinecolor\": \"white\"}, \"zaxis\": {\"backgroundcolor\": \"#E5ECF6\", \"gridcolor\": \"white\", \"gridwidth\": 2, \"linecolor\": \"white\", \"showbackground\": true, \"ticks\": \"\", \"zerolinecolor\": \"white\"}}, \"shapedefaults\": {\"line\": {\"color\": \"#2a3f5f\"}}, \"ternary\": {\"aaxis\": {\"gridcolor\": \"white\", \"linecolor\": \"white\", \"ticks\": \"\"}, \"baxis\": {\"gridcolor\": \"white\", \"linecolor\": \"white\", \"ticks\": \"\"}, \"bgcolor\": \"#E5ECF6\", \"caxis\": {\"gridcolor\": \"white\", \"linecolor\": \"white\", \"ticks\": \"\"}}, \"title\": {\"x\": 0.05}, \"xaxis\": {\"automargin\": true, \"gridcolor\": \"white\", \"linecolor\": \"white\", \"ticks\": \"\", \"title\": {\"standoff\": 15}, \"zerolinecolor\": \"white\", \"zerolinewidth\": 2}, \"yaxis\": {\"automargin\": true, \"gridcolor\": \"white\", \"linecolor\": \"white\", \"ticks\": \"\", \"title\": {\"standoff\": 15}, \"zerolinecolor\": \"white\", \"zerolinewidth\": 2}}}, \"xaxis\": {\"anchor\": \"y\", \"domain\": [0.0, 1.0], \"title\": {\"text\": \"x\"}}, \"yaxis\": {\"anchor\": \"x\", \"domain\": [0.0, 1.0], \"title\": {\"text\": \"count\"}}},\n",
       "                        {\"responsive\": true}\n",
       "                    ).then(function(){\n",
       "                            \n",
       "var gd = document.getElementById('9dfa7ea2-5ab4-4109-b479-301d77bb85f5');\n",
       "var x = new MutationObserver(function (mutations, observer) {{\n",
       "        var display = window.getComputedStyle(gd).display;\n",
       "        if (!display || display === 'none') {{\n",
       "            console.log([gd, 'removed!']);\n",
       "            Plotly.purge(gd);\n",
       "            observer.disconnect();\n",
       "        }}\n",
       "}});\n",
       "\n",
       "// Listen for the removal of the full notebook cells\n",
       "var notebookContainer = gd.closest('#notebook-container');\n",
       "if (notebookContainer) {{\n",
       "    x.observe(notebookContainer, {childList: true});\n",
       "}}\n",
       "\n",
       "// Listen for the clearing of the current output cell\n",
       "var outputEl = gd.closest('.output');\n",
       "if (outputEl) {{\n",
       "    x.observe(outputEl, {childList: true});\n",
       "}}\n",
       "\n",
       "                        })\n",
       "                };\n",
       "                });\n",
       "            </script>\n",
       "        </div>"
      ]
     },
     "metadata": {},
     "output_type": "display_data"
    },
    {
     "name": "stdout",
     "output_type": "stream",
     "text": [
      "CPU times: user 7.06 s, sys: 24 ms, total: 7.08 s\n",
      "Wall time: 7.11 s\n"
     ]
    }
   ],
   "source": [
    "%%time\n",
    "plot_histogram_transactions('FETCH', 'D')"
   ]
  },
  {
   "cell_type": "markdown",
   "metadata": {},
   "source": [
    "### 3.2. Resampling by Hour ('h')"
   ]
  },
  {
   "cell_type": "code",
   "execution_count": 51,
   "metadata": {},
   "outputs": [
    {
     "data": {
      "application/vnd.plotly.v1+json": {
       "config": {
        "plotlyServerURL": "https://plot.ly"
       },
       "data": [
        {
         "alignmentgroup": "True",
         "bingroup": "x",
         "hovertemplate": "x=%{x}<br>count=%{y}<extra></extra>",
         "legendgroup": "",
         "marker": {
          "color": "#636efa"
         },
         "name": "",
         "offsetgroup": "",
         "orientation": "v",
         "showlegend": false,
         "type": "histogram",
         "x": [
          1,
          0,
          0,
          0,
          0,
          0,
          0,
          0,
          0,
          0,
          0,
          0,
          0,
          0,
          0,
          0,
          0,
          0,
          0,
          0,
          0,
          0,
          0,
          0,
          0,
          0,
          0,
          0,
          0,
          0,
          0,
          0,
          0,
          0,
          0,
          0,
          0,
          0,
          0,
          0,
          0,
          0,
          0,
          0,
          0,
          0,
          0,
          0,
          0,
          0,
          0,
          0,
          0,
          0,
          0,
          0,
          0,
          0,
          0,
          0,
          0,
          0,
          0,
          0,
          0,
          0,
          0,
          0,
          0,
          0,
          0,
          0,
          0,
          0,
          0,
          0,
          0,
          0,
          0,
          0,
          0,
          0,
          0,
          0,
          0,
          0,
          0,
          0,
          0,
          0,
          0,
          0,
          0,
          0,
          0,
          0,
          0,
          0,
          0,
          0,
          0,
          0,
          0,
          0,
          0,
          0,
          0,
          0,
          0,
          0,
          0,
          0,
          0,
          0,
          0,
          0,
          0,
          0,
          0,
          0,
          0,
          0,
          0,
          0,
          0,
          0,
          0,
          0,
          0,
          0,
          0,
          0,
          0,
          0,
          0,
          0,
          0,
          0,
          0,
          0,
          0,
          0,
          0,
          0,
          0,
          0,
          0,
          0,
          0,
          0,
          0,
          0,
          0,
          0,
          0,
          0,
          0,
          0,
          0,
          0,
          0,
          0,
          0,
          0,
          0,
          0,
          0,
          0,
          0,
          0,
          0,
          0,
          0,
          0,
          0,
          0,
          0,
          0,
          0,
          0,
          0,
          0,
          0,
          0,
          0,
          0,
          0,
          0,
          0,
          0,
          0,
          0,
          0,
          0,
          0,
          0,
          0,
          0,
          0,
          0,
          0,
          0,
          0,
          0,
          0,
          0,
          0,
          0,
          0,
          0,
          0,
          0,
          0,
          0,
          0,
          0,
          0,
          0,
          0,
          0,
          0,
          0,
          0,
          0,
          0,
          0,
          0,
          0,
          0,
          0,
          0,
          0,
          0,
          0,
          0,
          0,
          0,
          0,
          0,
          0,
          0,
          0,
          0,
          0,
          0,
          0,
          0,
          0,
          0,
          0,
          0,
          0,
          0,
          0,
          0,
          0,
          0,
          0,
          0,
          0,
          0,
          0,
          0,
          0,
          0,
          0,
          0,
          0,
          0,
          0,
          0,
          0,
          0,
          0,
          0,
          0,
          0,
          0,
          0,
          0,
          0,
          0,
          0,
          0,
          0,
          0,
          0,
          0,
          0,
          0,
          0,
          0,
          0,
          0,
          0,
          0,
          0,
          0,
          0,
          0,
          0,
          0,
          0,
          0,
          0,
          0,
          0,
          0,
          0,
          0,
          0,
          0,
          0,
          0,
          0,
          0,
          0,
          0,
          0,
          0,
          0,
          0,
          0,
          0,
          0,
          0,
          0,
          0,
          0,
          0,
          0,
          0,
          0,
          0,
          0,
          0,
          0,
          0,
          0,
          0,
          0,
          0,
          0,
          0,
          0,
          0,
          0,
          0,
          0,
          0,
          0,
          0,
          0,
          0,
          0,
          0,
          0,
          0,
          0,
          0,
          0,
          0,
          0,
          0,
          0,
          0,
          0,
          0,
          0,
          0,
          0,
          0,
          0,
          0,
          0,
          0,
          0,
          0,
          0,
          0,
          0,
          0,
          0,
          0,
          0,
          0,
          0,
          0,
          0,
          0,
          0,
          0,
          0,
          0,
          0,
          0,
          0,
          0,
          0,
          0,
          0,
          0,
          0,
          0,
          0,
          0,
          0,
          0,
          0,
          0,
          0,
          0,
          0,
          0,
          0,
          0,
          0,
          0,
          0,
          0,
          0,
          0,
          0,
          0,
          0,
          0,
          0,
          0,
          0,
          0,
          0,
          0,
          0,
          0,
          0,
          0,
          0,
          0,
          0,
          0,
          0,
          0,
          0,
          0,
          0,
          0,
          0,
          0,
          0,
          0,
          0,
          0,
          0,
          0,
          0,
          0,
          0,
          0,
          0,
          0,
          0,
          0,
          0,
          0,
          0,
          0,
          0,
          0,
          0,
          0,
          0,
          0,
          0,
          0,
          0,
          0,
          0,
          0,
          0,
          0,
          0,
          0,
          0,
          0,
          0,
          0,
          0,
          0,
          0,
          0,
          0,
          0,
          0,
          0,
          0,
          0,
          0,
          0,
          0,
          0,
          0,
          0,
          0,
          0,
          0,
          0,
          0,
          0,
          0,
          0,
          0,
          0,
          0,
          0,
          0,
          0,
          0,
          0,
          0,
          0,
          0,
          0,
          0,
          0,
          0,
          0,
          0,
          0,
          0,
          0,
          0,
          0,
          0,
          0,
          0,
          0,
          0,
          0,
          0,
          0,
          0,
          0,
          0,
          0,
          0,
          0,
          0,
          0,
          0,
          0,
          0,
          0,
          0,
          0,
          0,
          0,
          0,
          0,
          0,
          0,
          0,
          0,
          0,
          0,
          0,
          0,
          0,
          0,
          0,
          0,
          0,
          0,
          0,
          0,
          0,
          0,
          0,
          0,
          0,
          0,
          0,
          0,
          0,
          0,
          0,
          0,
          0,
          0,
          0,
          0,
          0,
          0,
          0,
          0,
          0,
          0,
          0,
          0,
          0,
          0,
          0,
          0,
          0,
          0,
          0,
          0,
          0,
          0,
          0,
          0,
          0,
          0,
          0,
          0,
          0,
          0,
          0,
          0,
          0,
          0,
          0,
          0,
          0,
          0,
          0,
          0,
          0,
          0,
          0,
          0,
          0,
          0,
          0,
          0,
          0,
          0,
          0,
          0,
          0,
          0,
          0,
          0,
          0,
          0,
          0,
          0,
          0,
          0,
          0,
          0,
          0,
          0,
          0,
          0,
          0,
          0,
          0,
          0,
          0,
          0,
          0,
          0,
          0,
          0,
          0,
          0,
          0,
          0,
          0,
          0,
          0,
          0,
          0,
          0,
          0,
          0,
          0,
          0,
          0,
          0,
          0,
          0,
          0,
          0,
          0,
          0,
          0,
          0,
          0,
          0,
          0,
          0,
          0,
          0,
          0,
          0,
          0,
          0,
          0,
          0,
          0,
          0,
          0,
          0,
          0,
          0,
          0,
          0,
          0,
          0,
          0,
          0,
          0,
          0,
          0,
          0,
          0,
          0,
          0,
          0,
          0,
          0,
          0,
          0,
          0,
          0,
          0,
          0,
          0,
          0,
          0,
          0,
          0,
          0,
          0,
          0,
          0,
          0,
          0,
          0,
          0,
          0,
          0,
          0,
          0,
          0,
          0,
          0,
          0,
          0,
          0,
          0,
          0,
          0,
          0,
          0,
          0,
          0,
          0,
          0,
          0,
          0,
          0,
          0,
          0,
          0,
          0,
          0,
          0,
          0,
          0,
          0,
          0,
          0,
          0,
          0,
          0,
          0,
          0,
          0,
          0,
          0,
          0,
          0,
          0,
          0,
          0,
          0,
          0,
          0,
          0,
          0,
          0,
          0,
          0,
          0,
          0,
          0,
          0,
          0,
          0,
          0,
          0,
          0,
          0,
          0,
          0,
          0,
          0,
          0,
          0,
          0,
          0,
          0,
          0,
          0,
          0,
          0,
          0,
          0,
          0,
          0,
          0,
          0,
          0,
          0,
          0,
          0,
          0,
          0,
          0,
          0,
          0,
          0,
          0,
          0,
          0,
          0,
          0,
          0,
          0,
          0,
          0,
          0,
          0,
          0,
          0,
          0,
          0,
          0,
          0,
          0,
          0,
          0,
          0,
          0,
          0,
          0,
          0,
          0,
          0,
          0,
          0,
          0,
          0,
          0,
          0,
          0,
          0,
          0,
          0,
          0,
          0,
          0,
          0,
          0,
          0,
          0,
          0,
          0,
          0,
          0,
          0,
          0,
          0,
          0,
          0,
          0,
          0,
          0,
          0,
          0,
          0,
          0,
          0,
          0,
          0,
          0,
          0,
          0,
          0,
          0,
          0,
          0,
          0,
          0,
          0,
          0,
          0,
          0,
          0,
          0,
          0,
          0,
          0,
          0,
          0,
          0,
          0,
          0,
          0,
          0,
          0,
          0,
          0,
          0,
          0,
          0,
          0,
          0,
          0,
          0,
          0,
          0,
          0,
          0,
          0,
          0,
          0,
          0,
          0,
          0,
          0,
          0,
          0,
          0,
          0,
          0,
          0,
          0,
          0,
          0,
          0,
          0,
          0,
          0,
          0,
          0,
          0,
          0,
          0,
          0,
          0,
          0,
          0,
          0,
          0,
          0,
          0,
          0,
          0,
          0,
          0,
          0,
          0,
          0,
          0,
          0,
          0,
          0,
          0,
          0,
          0,
          0,
          0,
          0,
          0,
          0,
          0,
          0,
          0,
          0,
          0,
          0,
          0,
          0,
          0,
          0,
          0,
          0,
          0,
          0,
          0,
          0,
          0,
          0,
          0,
          0,
          0,
          0,
          0,
          0,
          0,
          0,
          0,
          0,
          0,
          0,
          0,
          0,
          0,
          0,
          0,
          0,
          0,
          0,
          0,
          0,
          0,
          0,
          0,
          0,
          0,
          0,
          0,
          0,
          0,
          0,
          0,
          0,
          0,
          0,
          0,
          0,
          0,
          0,
          0,
          0,
          0,
          0,
          0,
          0,
          0,
          0,
          0,
          0,
          0,
          0,
          0,
          0,
          0,
          0,
          0,
          0,
          0,
          0,
          0,
          0,
          0,
          0,
          0,
          0,
          0,
          0,
          0,
          0,
          0,
          0,
          0,
          0,
          0,
          0,
          0,
          0,
          0,
          0,
          0,
          0,
          0,
          0,
          0,
          0,
          0,
          0,
          0,
          0,
          0,
          0,
          0,
          0,
          0,
          0,
          0,
          0,
          0,
          0,
          0,
          0,
          0,
          0,
          0,
          0,
          0,
          0,
          0,
          0,
          0,
          0,
          0,
          0,
          0,
          0,
          0,
          0,
          0,
          0,
          0,
          0,
          0,
          0,
          0,
          0,
          0,
          0,
          0,
          0,
          0,
          0,
          0,
          0,
          0,
          0,
          0,
          0,
          0,
          0,
          0,
          0,
          0,
          0,
          0,
          0,
          0,
          0,
          0,
          0,
          0,
          0,
          0,
          0,
          0,
          0,
          0,
          0,
          0,
          0,
          0,
          0,
          0,
          0,
          0,
          0,
          0,
          0,
          0,
          0,
          0,
          0,
          0,
          0,
          0,
          0,
          0,
          0,
          0,
          0,
          0,
          0,
          0,
          0,
          0,
          0,
          0,
          0,
          0,
          0,
          0,
          0,
          0,
          0,
          0,
          0,
          0,
          0,
          0,
          0,
          0,
          0,
          0,
          0,
          0,
          0,
          0,
          0,
          0,
          0,
          0,
          0,
          0,
          0,
          0,
          0,
          0,
          0,
          0,
          0,
          0,
          0,
          0,
          0,
          0,
          0,
          0,
          0,
          0,
          0,
          0,
          0,
          0,
          0,
          0,
          0,
          0,
          0,
          0,
          0,
          0,
          0,
          0,
          0,
          0,
          0,
          0,
          0,
          0,
          0,
          0,
          0,
          0,
          0,
          0,
          0,
          0,
          0,
          0,
          0,
          0,
          0,
          0,
          0,
          0,
          0,
          0,
          0,
          0,
          0,
          0,
          0,
          0,
          0,
          0,
          0,
          0,
          0,
          0,
          0,
          0,
          0,
          0,
          0,
          0,
          0,
          0,
          0,
          0,
          0,
          0,
          0,
          0,
          0,
          0,
          0,
          0,
          0,
          0,
          0,
          0,
          0,
          0,
          0,
          0,
          0,
          0,
          0,
          0,
          0,
          0,
          0,
          0,
          0,
          0,
          0,
          0,
          0,
          0,
          0,
          0,
          0,
          0,
          0,
          0,
          0,
          0,
          0,
          0,
          0,
          0,
          0,
          0,
          0,
          0,
          0,
          0,
          0,
          0,
          0,
          0,
          0,
          0,
          0,
          0,
          0,
          0,
          0,
          0,
          0,
          0,
          0,
          0,
          0,
          0,
          0,
          0,
          0,
          0,
          0,
          0,
          0,
          0,
          0,
          0,
          0,
          0,
          0,
          0,
          0,
          0,
          0,
          0,
          0,
          0,
          0,
          0,
          0,
          0,
          0,
          0,
          0,
          0,
          0,
          0,
          0,
          0,
          0,
          0,
          0,
          0,
          0,
          0,
          0,
          0,
          0,
          0,
          0,
          0,
          0,
          0,
          0,
          0,
          0,
          0,
          0,
          0,
          0,
          0,
          0,
          0,
          0,
          0,
          0,
          0,
          0,
          0,
          0,
          0,
          0,
          0,
          0,
          0,
          0,
          0,
          0,
          0,
          0,
          0,
          0,
          0,
          0,
          0,
          0,
          0,
          0,
          0,
          0,
          0,
          0,
          0,
          0,
          0,
          0,
          0,
          0,
          0,
          0,
          0,
          0,
          0,
          0,
          0,
          0,
          0,
          0,
          0,
          0,
          0,
          0,
          0,
          0,
          0,
          0,
          0,
          0,
          0,
          0,
          0,
          0,
          0,
          0,
          0,
          0,
          0,
          0,
          0,
          0,
          0,
          0,
          0,
          0,
          0,
          0,
          0,
          0,
          0,
          0,
          0,
          0,
          0,
          0,
          0,
          0,
          0,
          0,
          0,
          0,
          0,
          0,
          0,
          0,
          0,
          0,
          0,
          0,
          0,
          0,
          0,
          0,
          0,
          0,
          0,
          0,
          0,
          0,
          0,
          0,
          0,
          0,
          0,
          0,
          0,
          0,
          0,
          0,
          0,
          0,
          0,
          0,
          0,
          0,
          0,
          0,
          0,
          0,
          0,
          0,
          0,
          0,
          0,
          0,
          0,
          0,
          0,
          0,
          0,
          0,
          0,
          0,
          0,
          0,
          0,
          0,
          0,
          0,
          0,
          0,
          0,
          0,
          0,
          0,
          0,
          0,
          0,
          0,
          0,
          0,
          0,
          0,
          0,
          0,
          0,
          0,
          0,
          0,
          0,
          0,
          0,
          0,
          0,
          0,
          0,
          0,
          0,
          0,
          0,
          0,
          0,
          0,
          0,
          0,
          0,
          0,
          0,
          0,
          0,
          0,
          0,
          0,
          0,
          0,
          0,
          0,
          0,
          0,
          0,
          0,
          0,
          0,
          0,
          0,
          0,
          0,
          0,
          0,
          0,
          0,
          0,
          0,
          0,
          0,
          0,
          0,
          0,
          0,
          0,
          0,
          0,
          0,
          0,
          0,
          0,
          0,
          0,
          0,
          0,
          0,
          0,
          0,
          0,
          0,
          0,
          0,
          0,
          0,
          0,
          0,
          0,
          0,
          0,
          0,
          0,
          0,
          0,
          0,
          0,
          0,
          0,
          0,
          0,
          0,
          0,
          0,
          0,
          0,
          0,
          0,
          0,
          0,
          0,
          0,
          0,
          0,
          0,
          0,
          0,
          0,
          0,
          0,
          0,
          0,
          0,
          0,
          0,
          0,
          0,
          0,
          0,
          0,
          0,
          0,
          0,
          0,
          0,
          0,
          0,
          0,
          0,
          0,
          0,
          0,
          0,
          0,
          0,
          0,
          0,
          0,
          0,
          0,
          0,
          0,
          0,
          0,
          0,
          0,
          0,
          0,
          0,
          0,
          0,
          0,
          0,
          0,
          0,
          0,
          0,
          0,
          0,
          0,
          0,
          0,
          0,
          0,
          0,
          0,
          0,
          0,
          0,
          0,
          0,
          0,
          0,
          0,
          0,
          0,
          0,
          0,
          0,
          0,
          0,
          0,
          0,
          0,
          0,
          0,
          0,
          0,
          0,
          0,
          0,
          0,
          0,
          0,
          0,
          0,
          0,
          0,
          0,
          0,
          0,
          0,
          0,
          0,
          0,
          0,
          0,
          0,
          0,
          0,
          0,
          0,
          0,
          0,
          0,
          0,
          0,
          0,
          0,
          0,
          0,
          0,
          0,
          0,
          0,
          0,
          0,
          0,
          0,
          0,
          0,
          0,
          0,
          0,
          0,
          0,
          0,
          0,
          0,
          0,
          0,
          0,
          0,
          0,
          0,
          0,
          0,
          0,
          0,
          0,
          0,
          0,
          0,
          0,
          0,
          0,
          0,
          0,
          0,
          0,
          0,
          0,
          0,
          0,
          0,
          0,
          0,
          0,
          0,
          0,
          0,
          0,
          0,
          0,
          0,
          0,
          0,
          0,
          0,
          0,
          0,
          0,
          0,
          0,
          0,
          0,
          0,
          0,
          0,
          0,
          0,
          0,
          0,
          0,
          0,
          0,
          0,
          0,
          0,
          0,
          0,
          0,
          0,
          0,
          0,
          0,
          0,
          0,
          0,
          0,
          0,
          0,
          0,
          0,
          0,
          0,
          0,
          0,
          0,
          0,
          0,
          0,
          0,
          0,
          0,
          0,
          0,
          0,
          0,
          0,
          0,
          0,
          0,
          0,
          0,
          0,
          0,
          0,
          0,
          0,
          0,
          0,
          0,
          0,
          0,
          0,
          0,
          0,
          0,
          0,
          0,
          0,
          0,
          0,
          0,
          0,
          0,
          0,
          0,
          0,
          0,
          0,
          0,
          0,
          0,
          0,
          0,
          0,
          0,
          0,
          0,
          0,
          0,
          0,
          0,
          0,
          0,
          0,
          0,
          0,
          0,
          0,
          0,
          0,
          0,
          0,
          0,
          0,
          0,
          0,
          0,
          0,
          0,
          0,
          0,
          0,
          0,
          0,
          0,
          0,
          0,
          0,
          0,
          0,
          0,
          0,
          0,
          0,
          0,
          0,
          0,
          0,
          0,
          0,
          0,
          0,
          0,
          0,
          0,
          0,
          0,
          0,
          0,
          0,
          0,
          0,
          0,
          0,
          0,
          0,
          0,
          0,
          0,
          0,
          0,
          0,
          0,
          0,
          0,
          0,
          0,
          0,
          0,
          0,
          0,
          0,
          0,
          0,
          0,
          0,
          0,
          0,
          0,
          0,
          0,
          0,
          0,
          0,
          0,
          0,
          0,
          0,
          0,
          0,
          0,
          0,
          0,
          0,
          0,
          0,
          0,
          0,
          0,
          0,
          0,
          0,
          0,
          0,
          0,
          0,
          0,
          0,
          0,
          0,
          0,
          0,
          0,
          0,
          0,
          0,
          0,
          0,
          0,
          0,
          0,
          0,
          0,
          0,
          0,
          0,
          0,
          0,
          0,
          0,
          0,
          0,
          0,
          0,
          0,
          0,
          0,
          0,
          0,
          0,
          0,
          0,
          0,
          0,
          0,
          0,
          0,
          0,
          0,
          0,
          0,
          0,
          0,
          0,
          0,
          0,
          0,
          0,
          0,
          0,
          0,
          0,
          0,
          0,
          0,
          0,
          0,
          0,
          0,
          0,
          0,
          0,
          0,
          0,
          0,
          0,
          0,
          0,
          0,
          0,
          0,
          0,
          0,
          0,
          0,
          0,
          0,
          0,
          0,
          0,
          0,
          0,
          0,
          0,
          0,
          0,
          0,
          0,
          0,
          0,
          0,
          0,
          0,
          0,
          0,
          0,
          0,
          0,
          0,
          0,
          0,
          0,
          0,
          0,
          0,
          0,
          0,
          0,
          0,
          0,
          0,
          0,
          0,
          0,
          0,
          0,
          0,
          0,
          0,
          0,
          0,
          0,
          0,
          0,
          0,
          0,
          0,
          0,
          0,
          0,
          0,
          0,
          0,
          0,
          0,
          0,
          0,
          0,
          0,
          0,
          0,
          0,
          0,
          0,
          0,
          0,
          0,
          0,
          0,
          0,
          0,
          0,
          0,
          0,
          0,
          0,
          0,
          0,
          0,
          0,
          0,
          0,
          0,
          0,
          0,
          0,
          0,
          0,
          0,
          0,
          0,
          0,
          0,
          0,
          0,
          0,
          0,
          0,
          0,
          0,
          0,
          0,
          0,
          0,
          0,
          0,
          0,
          0,
          0,
          0,
          0,
          0,
          0,
          0,
          0,
          0,
          0,
          0,
          0,
          0,
          0,
          0,
          0,
          0,
          0,
          0,
          0,
          0,
          0,
          0,
          0,
          0,
          0,
          0,
          0,
          0,
          0,
          0,
          0,
          0,
          0,
          0,
          0,
          0,
          0,
          0,
          0,
          0,
          0,
          0,
          0,
          0,
          0,
          0,
          0,
          0,
          0,
          0,
          0,
          0,
          0,
          0,
          0,
          0,
          0,
          0,
          0,
          0,
          0,
          0,
          0,
          0,
          0,
          0,
          0,
          0,
          0,
          0,
          0,
          0,
          0,
          0,
          0,
          0,
          0,
          0,
          0,
          0,
          0,
          0,
          0,
          0,
          0,
          0,
          0,
          0,
          0,
          0,
          0,
          0,
          0,
          0,
          0,
          0,
          0,
          0,
          0,
          0,
          0,
          0,
          0,
          0,
          0,
          0,
          0,
          0,
          0,
          0,
          0,
          0,
          0,
          0,
          0,
          0,
          0,
          0,
          0,
          0,
          0,
          0,
          0,
          0,
          0,
          0,
          0,
          0,
          0,
          0,
          0,
          0,
          0,
          0,
          0,
          0,
          0,
          0,
          0,
          0,
          0,
          0,
          0,
          0,
          0,
          0,
          0,
          0,
          0,
          0,
          0,
          0,
          0,
          0,
          0,
          0,
          0,
          0,
          0,
          0,
          0,
          0,
          0,
          0,
          0,
          0,
          0,
          0,
          0,
          0,
          0,
          0,
          0,
          0,
          0,
          0,
          0,
          0,
          0,
          0,
          0,
          0,
          0,
          0,
          0,
          0,
          0,
          0,
          0,
          0,
          0,
          0,
          0,
          0,
          0,
          0,
          0,
          0,
          0,
          0,
          0,
          0,
          0,
          0,
          0,
          0,
          0,
          0,
          0,
          0,
          0,
          0,
          0,
          0,
          0,
          0,
          0,
          0,
          0,
          0,
          0,
          0,
          0,
          0,
          0,
          0,
          0,
          0,
          0,
          0,
          0,
          0,
          0,
          0,
          0,
          0,
          0,
          0,
          0,
          0,
          0,
          0,
          0,
          0,
          0,
          0,
          0,
          0,
          0,
          0,
          0,
          0,
          0,
          0,
          0,
          0,
          0,
          0,
          0,
          0,
          0,
          0,
          0,
          0,
          0,
          0,
          0,
          0,
          0,
          0,
          0,
          0,
          0,
          0,
          0,
          0,
          0,
          0,
          0,
          0,
          0,
          0,
          0,
          0,
          0,
          0,
          0,
          0,
          0,
          0,
          0,
          0,
          0,
          0,
          0,
          0,
          0,
          0,
          0,
          0,
          0,
          0,
          0,
          0,
          0,
          0,
          0,
          0,
          0,
          0,
          0,
          0,
          0,
          0,
          0,
          0,
          0,
          0,
          0,
          0,
          0,
          0,
          0,
          0,
          0,
          0,
          0,
          0,
          0,
          0,
          0,
          0,
          0,
          0,
          0,
          0,
          0,
          0,
          0,
          0,
          0,
          0,
          0,
          0,
          0,
          0,
          0,
          0,
          0,
          0,
          0,
          0,
          0,
          0,
          0,
          0,
          0,
          0,
          0,
          0,
          0,
          0,
          0,
          0,
          0,
          0,
          0,
          0,
          0,
          0,
          0,
          0,
          0,
          0,
          0,
          0,
          0,
          0,
          0,
          0,
          0,
          0,
          0,
          0,
          0,
          0,
          0,
          0,
          0,
          0,
          0,
          0,
          0,
          0,
          0,
          0,
          0,
          0,
          0,
          0,
          0,
          0,
          0,
          0,
          0,
          0,
          0,
          0,
          0,
          0,
          0,
          0,
          0,
          0,
          0,
          0,
          0,
          0,
          0,
          0,
          0,
          0,
          0,
          0,
          0,
          0,
          0,
          0,
          0,
          0,
          0,
          0,
          0,
          0,
          0,
          0,
          0,
          0,
          0,
          0,
          0,
          0,
          0,
          0,
          0,
          0,
          0,
          0,
          0,
          0,
          0,
          0,
          0,
          0,
          0,
          0,
          0,
          0,
          0,
          0,
          0,
          0,
          0,
          0,
          0,
          0,
          0,
          0,
          0,
          0,
          0,
          0,
          0,
          0,
          0,
          0,
          0,
          0,
          0,
          0,
          0,
          0,
          0,
          0,
          0,
          0,
          0,
          0,
          0,
          0,
          0,
          0,
          0,
          0,
          0,
          0,
          0,
          0,
          0,
          0,
          0,
          0,
          0,
          0,
          0,
          0,
          0,
          0,
          0,
          0,
          0,
          0,
          0,
          0,
          0,
          0,
          0,
          0,
          0,
          0,
          0,
          0,
          0,
          0,
          0,
          0,
          0,
          0,
          0,
          0,
          0,
          0,
          0,
          0,
          0,
          0,
          0,
          0,
          0,
          0,
          0,
          0,
          0,
          0,
          0,
          0,
          0,
          0,
          0,
          0,
          0,
          0,
          0,
          0,
          0,
          0,
          0,
          0,
          0,
          0,
          0,
          0,
          0,
          0,
          0,
          0,
          0,
          0,
          0,
          0,
          0,
          0,
          0,
          0,
          0,
          0,
          0,
          0,
          0,
          0,
          0,
          0,
          0,
          0,
          0,
          0,
          0,
          0,
          0,
          0,
          0,
          0,
          0,
          0,
          0,
          0,
          0,
          0,
          0,
          0,
          0,
          0,
          0,
          0,
          0,
          0,
          0,
          0,
          0,
          0,
          0,
          0,
          0,
          0,
          0,
          0,
          0,
          0,
          0,
          0,
          0,
          0,
          0,
          0,
          0,
          0,
          0,
          0,
          0,
          0,
          0,
          0,
          0,
          0,
          0,
          0,
          0,
          0,
          0,
          0,
          0,
          0,
          0,
          0,
          0,
          0,
          0,
          0,
          0,
          0,
          0,
          0,
          0,
          0,
          0,
          0,
          0,
          0,
          0,
          0,
          0,
          0,
          0,
          0,
          0,
          0,
          0,
          0,
          0,
          0,
          0,
          0,
          0,
          0,
          0,
          0,
          0,
          0,
          0,
          0,
          0,
          0,
          0,
          0,
          0,
          0,
          0,
          0,
          0,
          0,
          0,
          0,
          0,
          0,
          0,
          0,
          0,
          0,
          0,
          0,
          0,
          0,
          0,
          0,
          0,
          0,
          0,
          0,
          0,
          0,
          0,
          0,
          0,
          0,
          0,
          0,
          0,
          0,
          0,
          0,
          0,
          0,
          0,
          0,
          0,
          0,
          0,
          0,
          0,
          0,
          0,
          0,
          0,
          0,
          0,
          0,
          0,
          0,
          0,
          0,
          0,
          0,
          0,
          0,
          0,
          0,
          0,
          0,
          0,
          0,
          0,
          0,
          0,
          0,
          0,
          0,
          0,
          0,
          0,
          0,
          0,
          0,
          0,
          0,
          0,
          0,
          0,
          0,
          0,
          0,
          0,
          0,
          0,
          2,
          0,
          0,
          0,
          0,
          0,
          0,
          0,
          0,
          0,
          0,
          0,
          0,
          0,
          0,
          0,
          0,
          0,
          0,
          0,
          0,
          0,
          0,
          0,
          0,
          0,
          0,
          0,
          0,
          0,
          0,
          0,
          0,
          0,
          0,
          0,
          0,
          0,
          0,
          0,
          0,
          0,
          0,
          0,
          0,
          0,
          0,
          0,
          0,
          0,
          0,
          0,
          0,
          0,
          0,
          0,
          0,
          0,
          0,
          0,
          0,
          0,
          0,
          0,
          0,
          0,
          0,
          0,
          0,
          0,
          0,
          0,
          0,
          0,
          0,
          0,
          0,
          0,
          0,
          0,
          0,
          0,
          0,
          0,
          0,
          0,
          0,
          0,
          0,
          0,
          0,
          0,
          0,
          0,
          0,
          0,
          0,
          0,
          0,
          0,
          0,
          0,
          0,
          0,
          0,
          0,
          0,
          0,
          0,
          0,
          0,
          0,
          0,
          0,
          0,
          0,
          0,
          0,
          0,
          0,
          0,
          0,
          0,
          0,
          0,
          0,
          0,
          0,
          0,
          0,
          0,
          0,
          0,
          0,
          0,
          0,
          0,
          0,
          0,
          0,
          0,
          0,
          0,
          0,
          0,
          0,
          0,
          0,
          0,
          0,
          0,
          0,
          0,
          0,
          0,
          0,
          0,
          0,
          0,
          0,
          0,
          0,
          0,
          0,
          0,
          0,
          0,
          0,
          0,
          0,
          0,
          0,
          0,
          0,
          0,
          0,
          0,
          0,
          0,
          0,
          0,
          0,
          0,
          0,
          0,
          0,
          0,
          0,
          0,
          0,
          0,
          0,
          0,
          0,
          0,
          0,
          0,
          0,
          0,
          0,
          0,
          0,
          0,
          0,
          0,
          0,
          0,
          0,
          0,
          0,
          0,
          0,
          0,
          0,
          0,
          0,
          0,
          0,
          0,
          0,
          0,
          0,
          0,
          0,
          0,
          0,
          0,
          0,
          0,
          0,
          0,
          0,
          0,
          0,
          0,
          0,
          0,
          0,
          0,
          0,
          0,
          1,
          0,
          0,
          0,
          0,
          0,
          0,
          0,
          0,
          0,
          0,
          0,
          0,
          0,
          0,
          0,
          0,
          0,
          0,
          0,
          0,
          0,
          3,
          0,
          0,
          0,
          0,
          2,
          0,
          0,
          1,
          1,
          0,
          0,
          3,
          0,
          0,
          0,
          0,
          0,
          0,
          0,
          0,
          0,
          0,
          0,
          0,
          0,
          0,
          0,
          0,
          0,
          1,
          0,
          0,
          0,
          0,
          0,
          0,
          0,
          0,
          0,
          0,
          0,
          0,
          0,
          0,
          0,
          0,
          0,
          0,
          0,
          0,
          0,
          0,
          0,
          0,
          0,
          0,
          0,
          0,
          0,
          0,
          0,
          0,
          0,
          0,
          0,
          0,
          0,
          0,
          0,
          0,
          0,
          0,
          0,
          0,
          0,
          0,
          0,
          0,
          0,
          0,
          0,
          0,
          0,
          0,
          0,
          0,
          0,
          0,
          0,
          0,
          0,
          0,
          0,
          0,
          0,
          0,
          0,
          0,
          0,
          0,
          0,
          0,
          0,
          2,
          0,
          0,
          0,
          0,
          0,
          0,
          0,
          0,
          0,
          0,
          0,
          0,
          0,
          0,
          0,
          2,
          0,
          0,
          0,
          1,
          0,
          2,
          0,
          0,
          3,
          1,
          3,
          0,
          0,
          0,
          0,
          0,
          0,
          0,
          0,
          0,
          0,
          0,
          0,
          29,
          31,
          85,
          122,
          59,
          45,
          47,
          30,
          28,
          7,
          16,
          14,
          4,
          3,
          16,
          7,
          4,
          3,
          2,
          5,
          17,
          33,
          16,
          9,
          27,
          13,
          4,
          9,
          11,
          17,
          17,
          11,
          0,
          2,
          6,
          10,
          5,
          4,
          3,
          2,
          3,
          0,
          4,
          4,
          8,
          4,
          7,
          3,
          3,
          4,
          2,
          3,
          3,
          1,
          4,
          8,
          4,
          5,
          3,
          2,
          4,
          1,
          0,
          0,
          0,
          1,
          0,
          2,
          5,
          3,
          1,
          3,
          0,
          4,
          1,
          3,
          2,
          3,
          3,
          3,
          4,
          6,
          3,
          6,
          5,
          1,
          7,
          3,
          0,
          0,
          4,
          2,
          2,
          8,
          6,
          6,
          8,
          5,
          2,
          1,
          2,
          3,
          4,
          1,
          4,
          6,
          13,
          4,
          4,
          13,
          2,
          2,
          0,
          0,
          1,
          1,
          10,
          3,
          3,
          2,
          0,
          0,
          4,
          7,
          2,
          3,
          2,
          12,
          5,
          4,
          0,
          6,
          2,
          3,
          11,
          4,
          1,
          0,
          1,
          1,
          1,
          1,
          4,
          6,
          3,
          3,
          5,
          7,
          4,
          4,
          3,
          2,
          4,
          2,
          1,
          0,
          1,
          1,
          0,
          0,
          1,
          1,
          0,
          1,
          1,
          2,
          4,
          9,
          39,
          39,
          31,
          23,
          8,
          12,
          17,
          31,
          43,
          35,
          19,
          13,
          8,
          6,
          12,
          32,
          41,
          70,
          44,
          21,
          14,
          22,
          23,
          20,
          16,
          7,
          8,
          4,
          9,
          9,
          23,
          11,
          40,
          10,
          6,
          9,
          8,
          6,
          4,
          6,
          12,
          11,
          8,
          7,
          7,
          5,
          14,
          9,
          8,
          6,
          3,
          8,
          7,
          11,
          7,
          8,
          17,
          2,
          4,
          3,
          2,
          3,
          0,
          6,
          4,
          1,
          1,
          6,
          5,
          5,
          6,
          4,
          4,
          2,
          3,
          10,
          3,
          9,
          1,
          2,
          0,
          4,
          1,
          3,
          6,
          8,
          1,
          5,
          1,
          4,
          9,
          5,
          6,
          4,
          9,
          5,
          6,
          6,
          4,
          1,
          5,
          3,
          9,
          11,
          4,
          8,
          12,
          8,
          13,
          8,
          5,
          10,
          6,
          12,
          2,
          0,
          0,
          0,
          2,
          2,
          12,
          3,
          7,
          15,
          6,
          5,
          3,
          13,
          7,
          6,
          3,
          2,
          0,
          2,
          1,
          4,
          5,
          4,
          1,
          3,
          0,
          6,
          1,
          3,
          12,
          8,
          5,
          11,
          5,
          3,
          7,
          3,
          2,
          1,
          2,
          3,
          2,
          2,
          4,
          5,
          5,
          2,
          7,
          14,
          4,
          10,
          12,
          12,
          17,
          44,
          27,
          16,
          22,
          28,
          25,
          24,
          10,
          14,
          4,
          21,
          14,
          2,
          5,
          2,
          1,
          1,
          4,
          4,
          0,
          1,
          13,
          10,
          22,
          18,
          11,
          18,
          17,
          13,
          18,
          15,
          12,
          5,
          4,
          5,
          6,
          3,
          2,
          3,
          9,
          8,
          12,
          19,
          9,
          14,
          20,
          20,
          21,
          34,
          19,
          18,
          22,
          29,
          28,
          35,
          11,
          1,
          1,
          10,
          3,
          1,
          3,
          2,
          3,
          8,
          6,
          19,
          41,
          18,
          33,
          34,
          18,
          13,
          12,
          6,
          18,
          19,
          19,
          18,
          17,
          6,
          11,
          1,
          2,
          2,
          4,
          1,
          2,
          8,
          7,
          15,
          15,
          21,
          23,
          14,
          22,
          18,
          24,
          8,
          15,
          21,
          28,
          19,
          29,
          10,
          16,
          15,
          12,
          5,
          8,
          7,
          4,
          13,
          20,
          20,
          23,
          20,
          14,
          9,
          15,
          16,
          16,
          12,
          17,
          20,
          21,
          29,
          14,
          9,
          12,
          7,
          7,
          9,
          5,
          3,
          10,
          12,
          11,
          8,
          7,
          16,
          173,
          48,
          11,
          7,
          11,
          7,
          3,
          9,
          7,
          8,
          5,
          4,
          3,
          3,
          6,
          3,
          11,
          5,
          4,
          7,
          8,
          7,
          2,
          5,
          12,
          7,
          35,
          37,
          14,
          7,
          18,
          14,
          12,
          7,
          7,
          4,
          12,
          14,
          5,
          2,
          4,
          0,
          1,
          11,
          6,
          2,
          2,
          1,
          2,
          1,
          1,
          3,
          8,
          2,
          3,
          4,
          3,
          15,
          3,
          3,
          2,
          3,
          1,
          13,
          9,
          9,
          4,
          2,
          2,
          4,
          4,
          4,
          2,
          1,
          5,
          4,
          6,
          11,
          8,
          4,
          4,
          3,
          3,
          2,
          2,
          3,
          2,
          1,
          7,
          6,
          1,
          1,
          2,
          1,
          2,
          2,
          1,
          4,
          4,
          6,
          18,
          16,
          5,
          5,
          7,
          5,
          5,
          7,
          2,
          1,
          3,
          2,
          4,
          2,
          5,
          8,
          4,
          4,
          5,
          3,
          2,
          5,
          5,
          9,
          6,
          2,
          6,
          4,
          7,
          11,
          6,
          2,
          2,
          10,
          10,
          3,
          4,
          2,
          1,
          2,
          7,
          2,
          7,
          10,
          8,
          24,
          14,
          12,
          9,
          8,
          6,
          4,
          5,
          5,
          15,
          8,
          4,
          5,
          4,
          5,
          2,
          2,
          2,
          2,
          6,
          7,
          3,
          5,
          3,
          9,
          12,
          14,
          8,
          4,
          6,
          5,
          10,
          3,
          1,
          2,
          3,
          6,
          0,
          2,
          2,
          3,
          2,
          9,
          2,
          8,
          24,
          9,
          11,
          11,
          5,
          3,
          4,
          1,
          5,
          7,
          3,
          2,
          2,
          3,
          8,
          3,
          1,
          6,
          4,
          5,
          5,
          7,
          4,
          0,
          1,
          1,
          5,
          5,
          5,
          1,
          5,
          17,
          5,
          17,
          10,
          12,
          6,
          2,
          4,
          0,
          1,
          2,
          3,
          2,
          3,
          4,
          4,
          12,
          6,
          1,
          1,
          4,
          3,
          11,
          7,
          10,
          3,
          14,
          3,
          5,
          5,
          2,
          4,
          3,
          0,
          0,
          0,
          0,
          4,
          2,
          2,
          2,
          1,
          3,
          2,
          0,
          0,
          4,
          2,
          2,
          1,
          3,
          8,
          4,
          5,
          6,
          0,
          2,
          5,
          5,
          2,
          2,
          2,
          3,
          0,
          3,
          2,
          10,
          9,
          4,
          31,
          7,
          14,
          21,
          1,
          17,
          4,
          3,
          18,
          4,
          2,
          5,
          1,
          1,
          2,
          2,
          3,
          0,
          0,
          0,
          6,
          2,
          5,
          6,
          4,
          5,
          4,
          8,
          6,
          2,
          2,
          3,
          4,
          4,
          0,
          2,
          1,
          0,
          2,
          2,
          1,
          10,
          1,
          0,
          2,
          4,
          2,
          3,
          0,
          0,
          0,
          4,
          6,
          7,
          5,
          4,
          3,
          2,
          3,
          6,
          7,
          5,
          2,
          0,
          1,
          0,
          1,
          2,
          4,
          0,
          6,
          4,
          4,
          4,
          3,
          8,
          4,
          4,
          2,
          2,
          3,
          3,
          0,
          1,
          0,
          0,
          0,
          0,
          0,
          0,
          0,
          3,
          1,
          0,
          0,
          0,
          2,
          1,
          1,
          0,
          0,
          0,
          13,
          10,
          2,
          4,
          1,
          3,
          0,
          0,
          0,
          0,
          0,
          831,
          105,
          20,
          25,
          12,
          5,
          8,
          4,
          3,
          1,
          27,
          11,
          0,
          6,
          6,
          5,
          0,
          2,
          0,
          1,
          1,
          0,
          0,
          0,
          10,
          29,
          1,
          4,
          8,
          5,
          13,
          18,
          10,
          43,
          11,
          13,
          2,
          5,
          8,
          1,
          2,
          1,
          0,
          0,
          0,
          0,
          2,
          1,
          6,
          1,
          0,
          0,
          0,
          3,
          4,
          2,
          1,
          0,
          0,
          1,
          3,
          0,
          0,
          2,
          3,
          3,
          4,
          3,
          1,
          0,
          0,
          1,
          2,
          0,
          0,
          3,
          3,
          1,
          1,
          0,
          0,
          0,
          0,
          3,
          8,
          2,
          0,
          0,
          0,
          0,
          0,
          0,
          0,
          1,
          0,
          0,
          0,
          1,
          2,
          0,
          0,
          6,
          4,
          24,
          1,
          2,
          2,
          1,
          1,
          1,
          1,
          0,
          1,
          2,
          2,
          1,
          1,
          0,
          0,
          2,
          0,
          0,
          1,
          0,
          2,
          4,
          7,
          4,
          2,
          1,
          4,
          1,
          1,
          3,
          6,
          1,
          0,
          1,
          2,
          0,
          1,
          1,
          2,
          0,
          4,
          1,
          2,
          1,
          0,
          4,
          6,
          8,
          2,
          7,
          7,
          1,
          1,
          10,
          34,
          3,
          38,
          3,
          0,
          0,
          0,
          0,
          1,
          2,
          1,
          1,
          4,
          5,
          2,
          2,
          2,
          2,
          0,
          2,
          0,
          3,
          2,
          1,
          1,
          2,
          2,
          0,
          3,
          1,
          1,
          0,
          0,
          0,
          0,
          3,
          1,
          0,
          2,
          4,
          1,
          0,
          0,
          0,
          2,
          3,
          1,
          2,
          3,
          2,
          1,
          0,
          2,
          0,
          0,
          0,
          0,
          1,
          1,
          6,
          5,
          0,
          12,
          0,
          5,
          2,
          7,
          1,
          0,
          4,
          7,
          1,
          5,
          2,
          1,
          1,
          1,
          1,
          3,
          0,
          3,
          5,
          2,
          1,
          3,
          1,
          1,
          7,
          2,
          1,
          8,
          105,
          163,
          27,
          9,
          41,
          51,
          16,
          3,
          3,
          18,
          8,
          0,
          10,
          12,
          2,
          12,
          11,
          36,
          102,
          186,
          592,
          133,
          50,
          28,
          3,
          0,
          4,
          5,
          1,
          5,
          0,
          3,
          2,
          0,
          0,
          0,
          3,
          3,
          7,
          9,
          8,
          4,
          5,
          6,
          10,
          8,
          15,
          19,
          7,
          7,
          2,
          11,
          3,
          4,
          3,
          1,
          13,
          1,
          0,
          0,
          1,
          2,
          7,
          3,
          3,
          9,
          4,
          5,
          10,
          3,
          1,
          1,
          6,
          3,
          7,
          3,
          71,
          2,
          1,
          1,
          0,
          2,
          2,
          0,
          0,
          0,
          0,
          1,
          0,
          0,
          0,
          2,
          0,
          0,
          0,
          1,
          1,
          1,
          1,
          2,
          3,
          0,
          1,
          1,
          1,
          7,
          6,
          1,
          2,
          3,
          9,
          20,
          3,
          11,
          3,
          2,
          1,
          1,
          3,
          9,
          1,
          1,
          5,
          5,
          7,
          2,
          2,
          4,
          2,
          0,
          1,
          0,
          0,
          1,
          2,
          7,
          7,
          5,
          2,
          2,
          1,
          2,
          0,
          3,
          7,
          3,
          0,
          5,
          4,
          5,
          3,
          1,
          4,
          2,
          2,
          0,
          0,
          0,
          0,
          1,
          0,
          3,
          1,
          1,
          1,
          9,
          11,
          0,
          6,
          7,
          1,
          5,
          3,
          0,
          1,
          0,
          5,
          5,
          2,
          3,
          8,
          2,
          7,
          11,
          4,
          13,
          8,
          2,
          2,
          11,
          12,
          8,
          10,
          2,
          2,
          2,
          5,
          9,
          3,
          1,
          3,
          2,
          5,
          0,
          0,
          0,
          0,
          1,
          1,
          6,
          0,
          2,
          2,
          11,
          2,
          6,
          5,
          1,
          3,
          7,
          4,
          2,
          0,
          2,
          0,
          1,
          4,
          3,
          7,
          10,
          14,
          4,
          6,
          3,
          0,
          4,
          13,
          7,
          9,
          5,
          5,
          18,
          4,
          4,
          5,
          13,
          19,
          10,
          0,
          0,
          3,
          7,
          6,
          8,
          7,
          2,
          0,
          3,
          4,
          1,
          2,
          1,
          1,
          0,
          3,
          2,
          0,
          5,
          0,
          5,
          7,
          5,
          0,
          1,
          2,
          3,
          0,
          0,
          0,
          1,
          2,
          2,
          5,
          0,
          0,
          0,
          0,
          1,
          1,
          0,
          5,
          1,
          5,
          2,
          3,
          2,
          0,
          0,
          0,
          1,
          3,
          0,
          1,
          0,
          2,
          0,
          0,
          1,
          1,
          0,
          1,
          1,
          0,
          9,
          1,
          5,
          6,
          1,
          0,
          0,
          3,
          2,
          0,
          1,
          8,
          3,
          0,
          2,
          0,
          3,
          4,
          4,
          4,
          2,
          4,
          3,
          0,
          4,
          0,
          0,
          0,
          0,
          2,
          2,
          0,
          0,
          0,
          0,
          0,
          0,
          1,
          2,
          1,
          5,
          2,
          2,
          1,
          3,
          1,
          0,
          2,
          1,
          3,
          1,
          0,
          2,
          4,
          0,
          2,
          0,
          0,
          0,
          0,
          0,
          2,
          0,
          0,
          4,
          4,
          7,
          3,
          0,
          0,
          0,
          0,
          0,
          0,
          0,
          0,
          0,
          3,
          1,
          3,
          5,
          4,
          0,
          0,
          0,
          2,
          1,
          1,
          0,
          3,
          20,
          14,
          1,
          5,
          2,
          1,
          3,
          6,
          1,
          2,
          2,
          0,
          2,
          2,
          0,
          1,
          1,
          0,
          0,
          0,
          0,
          0,
          3,
          5,
          4,
          2,
          2,
          4,
          2,
          6,
          2,
          0,
          0,
          2,
          5,
          0,
          4,
          3,
          0,
          1,
          0,
          0,
          0,
          1,
          4,
          1,
          2,
          1,
          0,
          3,
          0,
          0,
          0,
          0,
          2,
          0,
          0,
          0,
          0,
          0,
          0,
          2,
          0,
          0,
          0,
          0,
          0,
          2,
          1,
          5,
          2,
          0,
          0,
          0,
          2,
          0,
          0,
          0,
          0,
          0,
          0,
          0,
          1,
          2,
          0,
          0,
          2,
          0,
          5,
          1,
          1,
          0,
          0,
          2,
          0,
          0,
          0,
          1,
          0,
          2,
          2,
          1,
          1,
          1,
          3,
          3,
          0,
          2,
          4,
          1,
          0,
          0,
          0,
          1,
          0,
          0,
          1,
          0,
          1,
          1,
          1,
          1,
          0,
          0,
          4,
          0,
          0,
          0,
          0,
          0,
          3,
          0,
          1,
          3,
          0,
          1,
          0,
          0,
          0,
          0,
          1,
          1,
          0,
          0,
          4,
          0,
          0,
          0,
          0,
          1,
          0,
          0,
          2,
          0,
          0,
          0,
          2,
          2,
          2,
          1,
          1,
          0,
          0,
          4,
          0,
          3,
          4,
          2,
          0,
          0,
          0,
          0,
          0,
          2,
          4,
          1,
          1,
          1,
          0,
          0,
          0,
          0,
          0,
          2,
          0,
          0,
          0,
          1,
          0,
          1,
          2,
          0,
          0,
          0,
          0,
          2,
          9,
          5,
          0,
          0,
          0,
          1,
          5,
          2,
          0,
          0,
          0,
          2,
          1,
          0,
          0,
          0,
          0,
          0,
          0,
          0,
          0,
          2,
          0,
          1,
          4,
          4,
          0,
          1,
          0,
          0,
          0,
          0,
          0,
          0,
          0,
          0,
          0,
          0,
          0,
          3,
          0,
          0,
          5,
          0,
          14,
          8,
          7,
          5,
          21,
          23,
          5,
          7,
          1,
          10,
          19,
          20,
          4,
          1,
          3,
          2,
          0,
          0,
          0,
          0,
          0,
          4,
          6,
          3,
          0,
          1,
          1,
          4,
          1,
          0,
          4,
          5,
          6,
          2,
          0,
          0,
          0,
          0,
          0,
          0,
          1,
          0,
          0,
          2,
          3,
          3,
          1,
          1,
          0,
          0,
          0,
          5,
          9,
          1,
          2,
          16,
          11,
          2,
          4,
          0,
          1,
          4,
          9,
          5,
          16,
          5,
          9,
          13,
          18,
          8,
          7,
          8,
          10,
          9,
          6,
          3,
          5,
          7,
          9,
          7,
          0,
          3,
          3,
          7,
          2,
          0,
          6,
          2,
          1,
          2,
          0,
          2,
          3,
          4,
          6,
          2,
          1,
          5,
          4,
          0,
          15,
          8,
          5,
          6,
          5,
          3,
          5,
          14,
          13,
          5,
          7,
          3,
          4,
          0,
          1,
          11,
          9,
          6,
          4,
          4,
          2,
          10,
          1,
          9,
          8,
          3,
          3,
          4,
          4,
          6,
          5,
          1,
          1,
          2,
          2,
          1,
          1,
          1,
          0,
          1,
          0,
          2,
          0,
          4,
          4,
          10,
          3,
          6,
          7,
          10,
          7,
          21,
          19,
          15,
          7,
          14,
          26,
          8,
          9,
          12,
          10,
          3,
          8,
          17,
          10,
          15,
          20,
          33,
          14,
          9,
          8,
          7,
          7,
          23,
          11,
          6,
          10,
          12,
          11,
          15,
          21,
          19,
          31,
          18,
          31,
          57,
          32,
          20,
          21,
          31,
          25,
          15,
          44,
          27,
          33,
          35,
          28,
          21,
          22,
          10,
          10,
          20,
          47,
          21,
          43,
          77,
          40,
          36,
          25,
          30,
          20,
          5,
          31,
          27,
          2,
          15,
          31,
          14,
          18,
          29,
          8,
          17,
          26,
          11,
          23,
          34,
          24,
          5,
          14,
          10,
          11,
          17,
          15,
          4,
          9,
          5,
          7,
          26,
          13,
          9,
          16,
          15,
          18,
          10,
          7,
          7,
          9,
          18,
          17,
          11,
          7,
          9,
          10,
          5,
          3,
          1,
          0,
          20,
          10,
          16,
          6,
          13,
          6,
          8,
          16,
          13,
          12,
          29,
          11,
          2,
          14,
          19,
          35,
          43,
          30,
          17,
          12,
          2,
          2,
          7,
          24,
          24,
          14,
          4,
          6,
          7,
          16,
          22,
          15,
          17,
          11,
          3,
          8,
          11,
          20,
          27,
          289,
          44,
          9,
          14,
          9,
          11,
          12,
          11,
          10,
          15,
          10,
          22,
          38,
          18,
          16,
          7,
          7,
          466,
          16,
          16,
          6,
          9,
          9,
          16,
          15,
          14,
          20,
          8,
          8,
          27,
          24,
          15,
          11,
          4,
          5,
          23,
          26,
          5,
          11,
          13,
          9,
          9,
          16,
          18,
          8,
          9,
          4,
          9,
          7,
          18,
          21,
          16,
          40,
          10,
          13,
          19,
          9,
          11,
          7,
          8,
          13,
          6,
          11,
          44,
          16,
          14,
          6,
          5,
          7,
          11,
          20,
          22,
          29,
          28,
          13,
          10,
          8,
          14,
          10,
          14,
          9,
          8,
          3,
          4,
          3,
          8,
          4,
          24,
          49,
          20,
          8,
          15,
          37,
          15,
          13,
          22,
          19,
          14,
          14,
          23,
          14,
          11,
          7,
          31,
          15,
          7,
          7,
          2,
          4,
          14,
          5,
          43,
          15,
          0,
          3,
          19,
          10,
          38,
          16,
          9,
          18,
          8,
          2,
          7,
          18,
          6,
          11,
          23,
          22,
          11,
          7,
          5,
          11,
          6,
          7,
          10,
          19,
          63,
          15,
          14,
          19,
          5,
          14,
          7,
          17,
          8,
          12,
          13,
          37,
          33,
          25,
          24,
          9,
          12,
          6,
          8,
          11,
          7,
          8,
          57,
          17,
          9,
          7,
          3,
          4,
          15,
          16,
          8,
          11,
          10,
          14,
          17,
          24,
          43,
          0,
          6,
          11,
          6,
          4,
          19,
          10,
          18,
          28,
          13,
          55,
          32,
          25,
          10,
          20,
          33,
          15,
          31,
          14,
          19,
          7,
          9,
          8,
          8,
          12,
          4,
          29,
          5,
          11,
          7,
          8,
          20,
          10,
          45,
          8,
          18,
          24,
          8,
          9,
          9,
          12,
          6,
          20,
          20,
          36,
          11,
          12,
          25,
          12,
          8,
          11,
          5,
          9,
          21,
          30,
          10,
          16,
          41,
          22,
          11,
          10,
          20,
          2,
          4,
          1,
          23,
          6,
          7,
          20,
          17,
          1,
          22,
          9,
          6,
          7,
          21,
          13,
          11,
          11,
          13,
          10,
          30,
          32,
          20,
          6,
          8,
          19,
          10,
          14,
          9,
          12,
          8,
          5,
          53,
          74,
          68,
          29,
          20,
          30,
          23,
          12,
          25,
          15,
          22,
          28,
          5,
          35,
          25,
          27,
          32,
          13,
          17,
          28,
          27,
          15,
          18,
          27,
          13,
          10,
          8,
          5,
          14,
          14,
          8,
          6,
          5,
          2,
          11,
          5,
          53,
          8,
          7,
          2,
          4,
          5,
          2,
          7,
          21,
          13,
          5,
          6,
          9,
          4,
          5,
          5,
          7,
          12,
          6,
          5,
          4,
          4,
          5,
          14,
          26,
          28,
          9,
          13,
          7,
          4,
          2,
          2,
          4,
          4,
          5,
          10,
          9,
          6,
          3,
          6,
          9,
          45,
          10,
          12,
          5,
          10,
          24,
          21,
          9,
          5,
          17,
          21,
          54,
          10,
          12,
          27,
          21,
          20,
          4,
          8,
          23,
          10,
          7,
          13,
          17,
          32,
          11,
          13,
          11,
          3,
          19,
          17,
          20,
          11,
          15,
          24,
          75,
          16,
          22,
          13,
          20,
          15,
          19,
          14,
          37,
          31,
          15,
          12,
          11,
          17,
          27,
          22,
          17,
          17,
          11,
          40,
          9,
          20,
          14,
          10,
          14,
          5,
          3,
          6,
          10,
          16,
          12,
          9,
          9,
          26,
          15,
          7,
          4,
          10,
          8,
          9,
          6,
          7,
          38,
          44,
          19,
          6,
          16,
          11,
          11,
          10,
          11,
          23,
          30,
          13,
          14,
          16,
          9,
          6,
          2,
          11,
          16,
          21,
          12,
          5,
          14,
          29,
          39,
          75,
          34,
          41,
          18,
          8,
          10,
          22,
          9,
          30,
          13,
          3,
          6,
          10,
          9,
          64,
          35,
          19,
          26,
          21,
          37,
          17,
          29,
          20,
          17,
          42,
          20,
          13,
          10,
          15,
          34,
          15,
          31,
          22,
          16,
          17,
          14,
          23,
          29,
          7,
          12,
          9,
          8,
          31,
          10,
          19,
          16,
          13,
          14,
          10,
          16,
          15,
          16,
          12,
          7,
          7,
          3,
          9,
          7,
          12,
          13,
          22,
          16,
          13,
          8,
          3,
          10,
          30,
          6,
          7,
          7,
          14,
          12,
          3,
          13,
          15,
          16,
          14,
          17,
          11,
          11,
          9,
          25,
          14,
          5,
          12,
          26,
          13,
          4,
          7,
          4,
          7,
          29,
          14,
          4,
          15,
          3,
          2,
          3,
          12,
          12,
          22,
          11,
          22,
          14,
          44,
          14,
          12,
          14,
          11,
          3,
          4,
          7,
          3,
          7,
          19,
          10,
          15,
          9,
          16,
          6,
          13,
          17,
          30,
          10,
          5,
          4,
          14,
          20,
          19,
          13,
          9,
          6,
          2,
          6,
          3,
          5,
          12,
          8,
          8,
          7,
          2,
          3,
          3,
          8,
          37,
          6,
          5,
          12,
          9,
          15,
          8,
          8,
          5,
          12,
          10,
          29,
          13,
          21,
          9,
          23,
          9,
          8,
          4,
          4,
          6,
          6,
          3,
          3,
          8,
          15,
          6,
          23,
          3,
          4,
          7,
          19,
          4,
          9,
          8,
          10,
          7,
          25,
          9,
          3,
          7,
          4,
          0,
          4,
          12,
          2,
          11,
          17,
          11,
          3,
          4,
          3,
          8,
          30,
          5,
          11,
          42,
          11,
          19,
          26,
          7,
          12,
          10,
          11,
          5,
          11,
          11,
          2,
          5,
          4,
          13,
          8,
          13,
          18,
          14,
          50,
          20,
          18,
          24,
          10,
          16,
          27,
          10,
          20,
          19,
          13,
          10,
          7,
          7,
          3,
          2,
          9,
          6,
          0,
          5,
          4,
          26,
          10,
          10,
          12,
          6,
          9,
          19,
          3,
          8,
          29,
          7,
          6,
          9,
          6,
          3,
          10,
          17,
          11,
          37,
          14,
          3,
          2,
          3,
          7,
          7,
          2,
          8,
          11,
          7,
          26,
          18,
          9,
          12,
          8,
          9,
          49,
          13,
          21,
          11,
          11,
          10,
          4,
          12,
          6,
          8,
          10,
          24,
          29,
          19,
          25,
          10,
          38,
          12,
          61,
          17,
          14,
          5,
          10,
          8,
          14,
          16,
          9,
          13,
          2,
          6,
          5,
          6,
          13,
          2,
          6,
          5,
          18,
          36,
          26,
          25,
          35,
          9,
          9,
          14,
          11,
          8,
          11,
          44,
          26,
          15,
          15,
          28,
          10,
          9,
          11,
          7,
          16,
          5,
          13,
          6,
          12,
          7,
          3,
          9,
          52,
          19,
          10,
          12,
          23,
          13,
          10,
          8,
          5,
          7,
          14,
          22,
          15,
          21,
          10,
          12,
          8,
          11,
          10,
          23,
          54,
          14,
          12,
          8,
          9,
          15,
          15,
          14,
          15,
          16,
          31,
          10,
          8,
          7,
          9,
          7,
          5,
          21,
          3,
          6,
          10,
          3,
          10,
          1,
          4,
          3,
          4,
          1,
          8,
          1,
          6,
          11,
          5,
          4,
          16,
          5,
          6,
          28,
          8,
          19,
          9,
          17,
          21,
          16,
          4,
          9,
          4,
          26,
          27,
          18,
          6,
          15,
          13,
          21,
          18,
          15,
          19,
          23,
          14,
          16,
          31,
          31,
          21,
          7,
          10,
          5,
          5,
          10,
          15,
          17,
          6,
          6,
          2,
          7,
          4,
          10,
          20,
          40,
          21,
          18,
          36,
          14,
          26,
          10,
          9,
          14,
          7,
          6,
          12,
          9,
          15,
          27,
          21,
          7,
          12,
          4,
          71,
          9,
          8,
          14,
          5,
          14,
          14,
          19,
          32,
          8,
          5,
          7,
          4,
          2,
          2,
          6,
          10,
          7,
          8,
          4,
          4,
          3,
          7,
          8,
          6,
          9,
          9,
          24,
          11,
          8,
          5,
          3,
          5,
          2,
          7,
          13,
          21,
          12,
          8,
          1,
          5,
          2,
          5,
          17,
          21,
          14,
          16,
          5,
          2,
          11,
          9,
          8,
          7,
          36,
          22,
          11,
          7,
          7,
          10,
          10,
          9,
          17,
          3,
          10,
          4,
          5,
          4,
          11,
          3,
          3,
          2,
          2,
          5,
          5,
          11,
          2,
          6,
          8,
          6,
          21,
          10,
          14,
          6,
          4,
          4,
          9,
          8,
          1,
          9,
          8,
          6,
          8,
          3,
          6,
          2,
          11,
          4,
          4,
          6,
          5,
          11,
          11,
          6,
          11,
          7,
          6,
          5,
          4,
          8,
          2,
          4,
          3,
          1,
          1,
          1,
          11,
          5,
          4,
          0,
          5,
          2,
          3,
          4,
          8,
          10,
          5,
          6,
          5,
          6,
          2,
          6,
          4,
          8,
          8,
          19,
          13,
          12,
          12,
          4,
          2,
          4,
          2,
          4,
          0,
          5,
          2,
          12,
          6,
          18,
          7,
          12,
          23,
          6,
          5,
          22,
          9,
          11,
          9,
          18,
          4,
          6,
          13,
          10,
          30,
          22,
          17,
          30,
          21,
          17,
          6,
          19,
          9,
          7,
          3,
          17,
          3,
          6,
          21,
          14,
          25,
          11,
          18,
          15,
          6,
          10,
          6,
          7,
          8,
          5,
          10,
          20,
          10,
          7,
          7,
          8,
          9,
          5,
          3,
          5,
          6,
          5,
          14,
          23,
          7,
          7,
          5,
          12,
          9,
          19,
          6,
          12,
          3,
          2,
          2,
          3,
          6,
          2,
          9,
          9,
          6,
          3700,
          63,
          42,
          21,
          7,
          15,
          13,
          13,
          3,
          12,
          10,
          4,
          2,
          3,
          8,
          3,
          8,
          11,
          6,
          17,
          44,
          15,
          11,
          2523,
          497,
          467,
          110,
          106,
          359,
          2656,
          605,
          246,
          349,
          299,
          118,
          169,
          46,
          43,
          39,
          24,
          8,
          15,
          85,
          51,
          73,
          64,
          35,
          28,
          50,
          14,
          64,
          153,
          65,
          59,
          43,
          34,
          107,
          26,
          44,
          15,
          89,
          15,
          16,
          13,
          7,
          5,
          8,
          8,
          125,
          29,
          9,
          41,
          21,
          35,
          104,
          35,
          22,
          11,
          46,
          15,
          27,
          28,
          62,
          13,
          11,
          3,
          3,
          0,
          5,
          11,
          8,
          12,
          21,
          32,
          19,
          20,
          27,
          17,
          7,
          7,
          7,
          26,
          32,
          26,
          28,
          38,
          25,
          32,
          16,
          13,
          11,
          34,
          36,
          13,
          11,
          26,
          15,
          26,
          6,
          13,
          3,
          9,
          11,
          5,
          3,
          16,
          10,
          7,
          27,
          3,
          5,
          8,
          7,
          4,
          6,
          13,
          11,
          3,
          4,
          1,
          3,
          6,
          4,
          8,
          5,
          6,
          7,
          16,
          7,
          11,
          15,
          5,
          16,
          10,
          8,
          4,
          4,
          8,
          2,
          3,
          3,
          5,
          12,
          17,
          9,
          23,
          13,
          7,
          13,
          12,
          8,
          26,
          31,
          9,
          16,
          22,
          24,
          14,
          5,
          4,
          12,
          6,
          2,
          6,
          6,
          1,
          2,
          4,
          14,
          11,
          5,
          17,
          13,
          14,
          13,
          10,
          4,
          8,
          3,
          5,
          15,
          8,
          4,
          0,
          1,
          3,
          1,
          2,
          2,
          6,
          1,
          0,
          7,
          6,
          8,
          7,
          3,
          6,
          5,
          4,
          9,
          8,
          12,
          25,
          16,
          10,
          12,
          5,
          4,
          3,
          7,
          1,
          1,
          3,
          7,
          8,
          2,
          8,
          3,
          3,
          6,
          8,
          12,
          3,
          8,
          6,
          7,
          4,
          9,
          6,
          19,
          6,
          4,
          6,
          6,
          1,
          3,
          1,
          16,
          7,
          11,
          2,
          4,
          2,
          2,
          15,
          25,
          11,
          12,
          12,
          15,
          8,
          17,
          21,
          13,
          6,
          33,
          12,
          7,
          4,
          9,
          5,
          5,
          4,
          6,
          8,
          3,
          6,
          0,
          2,
          17,
          18,
          22,
          26,
          2,
          12,
          19,
          16,
          2,
          3,
          1,
          3,
          11,
          11,
          9,
          2,
          13,
          13,
          8,
          5,
          5,
          0,
          4,
          7,
          3,
          4,
          9,
          7,
          5,
          19,
          18,
          10,
          3,
          3,
          12,
          4,
          5,
          6,
          15,
          19,
          2,
          4,
          7,
          3,
          2,
          6,
          9,
          1,
          2,
          6,
          54,
          57,
          11,
          19,
          16,
          14,
          13,
          14,
          6,
          10,
          10,
          5,
          14,
          20,
          12,
          6,
          17,
          10,
          16,
          19,
          19,
          28,
          51,
          16,
          15,
          34,
          38,
          10,
          29,
          68,
          14,
          21,
          9,
          9,
          16,
          5,
          2,
          15,
          11,
          5,
          5,
          1,
          10,
          16,
          15,
          14,
          23,
          17,
          16,
          16,
          13,
          10,
          9,
          7,
          11,
          8,
          4,
          5,
          8,
          3,
          2,
          20,
          6,
          5,
          27,
          11,
          9,
          5,
          11,
          6,
          7,
          11,
          4,
          18,
          4,
          4,
          4,
          33,
          3,
          3,
          3,
          4,
          55,
          11,
          5,
          6,
          8,
          7,
          4,
          4,
          3,
          2,
          22,
          12,
          5,
          8,
          7,
          2,
          18,
          16,
          19,
          9,
          12,
          8,
          7,
          9,
          4,
          1,
          4,
          8,
          11,
          8,
          4,
          6,
          5,
          3,
          3,
          2,
          4,
          13,
          45,
          7,
          16,
          13,
          36,
          66,
          27,
          39,
          18,
          2,
          10,
          7,
          3,
          6,
          168,
          74,
          11,
          6,
          8,
          10,
          12,
          14,
          3,
          8,
          7,
          5,
          7,
          14,
          11,
          7,
          16,
          3,
          2,
          1,
          5,
          7,
          19,
          15,
          5,
          2,
          6,
          7,
          4,
          6,
          4,
          3,
          2,
          4,
          11,
          6,
          12,
          20,
          18,
          8,
          6,
          3,
          0,
          0,
          1,
          16,
          3,
          2,
          1,
          9,
          4,
          5,
          30,
          11,
          15,
          7,
          6,
          9,
          8,
          12,
          7,
          40,
          8,
          12,
          7,
          8,
          3,
          6,
          3,
          7,
          4,
          7,
          1,
          4,
          10,
          7,
          3,
          1,
          1,
          1,
          4,
          2,
          4,
          2,
          2,
          2,
          1,
          9,
          4,
          1,
          5,
          15,
          2,
          2,
          10,
          14,
          3,
          1,
          6,
          2,
          7,
          6,
          2,
          4,
          2,
          2,
          17,
          10,
          4,
          3,
          5,
          8,
          11,
          0,
          4,
          2,
          1,
          6,
          8,
          7,
          6,
          8,
          12,
          3,
          8,
          13,
          15,
          14,
          15,
          16,
          8,
          18,
          17,
          16,
          29,
          19,
          13,
          21,
          15,
          15,
          7,
          3,
          29,
          6,
          2,
          6,
          5,
          4,
          2,
          2,
          6,
          9,
          11,
          17,
          30,
          9,
          12,
          15,
          15,
          14,
          12,
          13,
          5,
          2,
          3,
          8,
          5,
          3,
          5,
          30,
          12,
          4,
          9,
          14,
          6,
          10,
          14,
          12,
          4,
          3,
          2,
          13,
          15,
          9,
          6,
          13,
          5,
          0,
          4,
          1,
          1,
          6,
          3,
          3,
          5,
          3,
          9,
          25,
          6,
          1,
          5,
          9,
          11,
          14,
          65,
          21,
          68,
          72,
          32,
          72,
          65,
          16,
          3,
          7,
          5,
          1,
          1,
          4,
          6,
          3,
          10,
          2,
          2,
          5,
          12,
          9,
          13,
          3,
          3,
          0,
          14,
          5,
          0,
          9,
          6,
          6,
          5,
          4,
          5,
          2,
          1,
          3,
          0,
          1,
          1,
          15,
          0,
          4,
          3,
          5,
          6,
          10,
          1,
          7,
          9,
          5,
          3,
          2,
          2,
          2,
          2,
          3,
          3,
          7,
          0,
          3,
          0,
          2,
          2,
          0,
          2,
          2,
          2,
          17,
          4,
          7,
          3,
          4,
          16,
          4,
          7,
          1,
          2,
          1,
          8,
          10,
          7,
          2,
          8,
          24,
          15,
          8,
          5,
          14,
          17,
          17,
          15,
          10,
          22,
          16,
          14,
          38,
          9,
          7,
          14,
          16,
          4,
          7,
          8,
          8,
          0,
          3,
          6,
          5,
          9,
          29,
          12,
          4,
          5,
          18,
          4,
          11,
          6,
          5,
          2,
          9,
          9,
          10,
          5,
          5,
          5,
          8,
          7,
          6,
          1,
          0,
          3,
          8,
          1,
          3,
          2,
          2,
          2,
          4,
          7,
          5,
          7,
          11,
          16,
          4,
          7,
          8,
          4,
          19,
          3,
          28,
          1,
          4,
          3,
          4,
          7,
          5,
          3,
          0,
          0,
          0,
          1,
          1,
          2,
          0,
          3,
          2,
          2,
          1,
          7,
          11,
          4,
          3,
          9,
          8,
          2,
          8,
          2,
          1,
          3,
          1,
          26,
          7,
          2,
          9,
          2,
          1,
          5,
          5,
          0,
          0,
          1,
          2,
          3,
          1,
          5,
          7,
          9,
          2,
          7,
          0,
          1,
          1,
          0,
          2,
          2,
          1,
          1,
          1,
          2,
          2,
          3,
          4,
          12,
          3,
          1,
          2,
          2,
          4,
          0,
          2,
          2,
          1,
          2,
          2,
          1,
          0,
          0,
          1,
          1,
          2,
          0,
          2,
          3,
          2,
          1,
          1,
          5,
          2,
          5,
          3,
          1,
          1,
          6,
          1,
          1,
          4,
          7,
          9,
          9,
          4,
          0,
          9,
          7,
          3,
          4,
          4,
          5,
          10,
          10,
          18,
          11,
          5,
          2,
          16,
          10,
          14,
          6,
          15,
          11,
          21,
          5,
          2,
          2,
          1,
          2,
          2,
          3,
          3,
          4,
          6,
          2,
          3,
          5,
          5,
          4,
          3,
          4,
          17,
          13,
          6,
          7,
          1,
          4,
          6,
          1,
          4,
          5,
          0,
          1,
          3,
          1,
          1,
          9,
          0,
          1,
          3,
          2,
          3,
          1,
          7,
          7,
          7,
          8,
          8,
          14,
          4,
          7,
          3,
          2,
          18,
          11,
          3,
          1,
          6,
          4,
          3,
          3,
          2,
          0,
          1,
          0,
          3,
          10,
          8,
          2,
          0,
          1,
          2,
          4,
          1,
          0,
          5,
          11,
          7,
          0,
          1,
          2,
          10,
          3,
          6,
          2,
          1,
          11,
          1,
          3,
          5,
          7,
          5,
          6,
          4,
          16,
          20,
          23,
          12,
          7,
          5,
          5,
          5,
          0,
          1,
          6,
          6,
          3,
          10,
          8,
          8,
          13,
          6,
          8,
          7,
          13,
          8,
          2,
          6,
          5,
          4,
          1,
          5,
          10,
          4,
          1,
          2,
          3,
          7,
          8,
          2,
          0,
          12,
          6,
          8,
          4,
          3,
          12,
          10,
          7,
          9,
          9,
          13,
          14,
          4,
          5,
          2,
          5,
          2,
          19,
          6,
          1,
          5,
          11,
          16,
          12,
          14,
          22,
          10,
          10,
          22,
          23,
          12,
          21,
          11,
          8,
          10,
          5,
          3,
          7,
          16,
          24,
          9,
          5,
          9,
          3,
          8
         ],
         "xaxis": "x",
         "yaxis": "y"
        }
       ],
       "layout": {
        "autosize": true,
        "barmode": "relative",
        "legend": {
         "tracegroupgap": 0
        },
        "margin": {
         "t": 60
        },
        "template": {
         "data": {
          "bar": [
           {
            "error_x": {
             "color": "#2a3f5f"
            },
            "error_y": {
             "color": "#2a3f5f"
            },
            "marker": {
             "line": {
              "color": "#E5ECF6",
              "width": 0.5
             }
            },
            "type": "bar"
           }
          ],
          "barpolar": [
           {
            "marker": {
             "line": {
              "color": "#E5ECF6",
              "width": 0.5
             }
            },
            "type": "barpolar"
           }
          ],
          "carpet": [
           {
            "aaxis": {
             "endlinecolor": "#2a3f5f",
             "gridcolor": "white",
             "linecolor": "white",
             "minorgridcolor": "white",
             "startlinecolor": "#2a3f5f"
            },
            "baxis": {
             "endlinecolor": "#2a3f5f",
             "gridcolor": "white",
             "linecolor": "white",
             "minorgridcolor": "white",
             "startlinecolor": "#2a3f5f"
            },
            "type": "carpet"
           }
          ],
          "choropleth": [
           {
            "colorbar": {
             "outlinewidth": 0,
             "ticks": ""
            },
            "type": "choropleth"
           }
          ],
          "contour": [
           {
            "colorbar": {
             "outlinewidth": 0,
             "ticks": ""
            },
            "colorscale": [
             [
              0,
              "#0d0887"
             ],
             [
              0.1111111111111111,
              "#46039f"
             ],
             [
              0.2222222222222222,
              "#7201a8"
             ],
             [
              0.3333333333333333,
              "#9c179e"
             ],
             [
              0.4444444444444444,
              "#bd3786"
             ],
             [
              0.5555555555555556,
              "#d8576b"
             ],
             [
              0.6666666666666666,
              "#ed7953"
             ],
             [
              0.7777777777777778,
              "#fb9f3a"
             ],
             [
              0.8888888888888888,
              "#fdca26"
             ],
             [
              1,
              "#f0f921"
             ]
            ],
            "type": "contour"
           }
          ],
          "contourcarpet": [
           {
            "colorbar": {
             "outlinewidth": 0,
             "ticks": ""
            },
            "type": "contourcarpet"
           }
          ],
          "heatmap": [
           {
            "colorbar": {
             "outlinewidth": 0,
             "ticks": ""
            },
            "colorscale": [
             [
              0,
              "#0d0887"
             ],
             [
              0.1111111111111111,
              "#46039f"
             ],
             [
              0.2222222222222222,
              "#7201a8"
             ],
             [
              0.3333333333333333,
              "#9c179e"
             ],
             [
              0.4444444444444444,
              "#bd3786"
             ],
             [
              0.5555555555555556,
              "#d8576b"
             ],
             [
              0.6666666666666666,
              "#ed7953"
             ],
             [
              0.7777777777777778,
              "#fb9f3a"
             ],
             [
              0.8888888888888888,
              "#fdca26"
             ],
             [
              1,
              "#f0f921"
             ]
            ],
            "type": "heatmap"
           }
          ],
          "heatmapgl": [
           {
            "colorbar": {
             "outlinewidth": 0,
             "ticks": ""
            },
            "colorscale": [
             [
              0,
              "#0d0887"
             ],
             [
              0.1111111111111111,
              "#46039f"
             ],
             [
              0.2222222222222222,
              "#7201a8"
             ],
             [
              0.3333333333333333,
              "#9c179e"
             ],
             [
              0.4444444444444444,
              "#bd3786"
             ],
             [
              0.5555555555555556,
              "#d8576b"
             ],
             [
              0.6666666666666666,
              "#ed7953"
             ],
             [
              0.7777777777777778,
              "#fb9f3a"
             ],
             [
              0.8888888888888888,
              "#fdca26"
             ],
             [
              1,
              "#f0f921"
             ]
            ],
            "type": "heatmapgl"
           }
          ],
          "histogram": [
           {
            "marker": {
             "colorbar": {
              "outlinewidth": 0,
              "ticks": ""
             }
            },
            "type": "histogram"
           }
          ],
          "histogram2d": [
           {
            "colorbar": {
             "outlinewidth": 0,
             "ticks": ""
            },
            "colorscale": [
             [
              0,
              "#0d0887"
             ],
             [
              0.1111111111111111,
              "#46039f"
             ],
             [
              0.2222222222222222,
              "#7201a8"
             ],
             [
              0.3333333333333333,
              "#9c179e"
             ],
             [
              0.4444444444444444,
              "#bd3786"
             ],
             [
              0.5555555555555556,
              "#d8576b"
             ],
             [
              0.6666666666666666,
              "#ed7953"
             ],
             [
              0.7777777777777778,
              "#fb9f3a"
             ],
             [
              0.8888888888888888,
              "#fdca26"
             ],
             [
              1,
              "#f0f921"
             ]
            ],
            "type": "histogram2d"
           }
          ],
          "histogram2dcontour": [
           {
            "colorbar": {
             "outlinewidth": 0,
             "ticks": ""
            },
            "colorscale": [
             [
              0,
              "#0d0887"
             ],
             [
              0.1111111111111111,
              "#46039f"
             ],
             [
              0.2222222222222222,
              "#7201a8"
             ],
             [
              0.3333333333333333,
              "#9c179e"
             ],
             [
              0.4444444444444444,
              "#bd3786"
             ],
             [
              0.5555555555555556,
              "#d8576b"
             ],
             [
              0.6666666666666666,
              "#ed7953"
             ],
             [
              0.7777777777777778,
              "#fb9f3a"
             ],
             [
              0.8888888888888888,
              "#fdca26"
             ],
             [
              1,
              "#f0f921"
             ]
            ],
            "type": "histogram2dcontour"
           }
          ],
          "mesh3d": [
           {
            "colorbar": {
             "outlinewidth": 0,
             "ticks": ""
            },
            "type": "mesh3d"
           }
          ],
          "parcoords": [
           {
            "line": {
             "colorbar": {
              "outlinewidth": 0,
              "ticks": ""
             }
            },
            "type": "parcoords"
           }
          ],
          "pie": [
           {
            "automargin": true,
            "type": "pie"
           }
          ],
          "scatter": [
           {
            "marker": {
             "colorbar": {
              "outlinewidth": 0,
              "ticks": ""
             }
            },
            "type": "scatter"
           }
          ],
          "scatter3d": [
           {
            "line": {
             "colorbar": {
              "outlinewidth": 0,
              "ticks": ""
             }
            },
            "marker": {
             "colorbar": {
              "outlinewidth": 0,
              "ticks": ""
             }
            },
            "type": "scatter3d"
           }
          ],
          "scattercarpet": [
           {
            "marker": {
             "colorbar": {
              "outlinewidth": 0,
              "ticks": ""
             }
            },
            "type": "scattercarpet"
           }
          ],
          "scattergeo": [
           {
            "marker": {
             "colorbar": {
              "outlinewidth": 0,
              "ticks": ""
             }
            },
            "type": "scattergeo"
           }
          ],
          "scattergl": [
           {
            "marker": {
             "colorbar": {
              "outlinewidth": 0,
              "ticks": ""
             }
            },
            "type": "scattergl"
           }
          ],
          "scattermapbox": [
           {
            "marker": {
             "colorbar": {
              "outlinewidth": 0,
              "ticks": ""
             }
            },
            "type": "scattermapbox"
           }
          ],
          "scatterpolar": [
           {
            "marker": {
             "colorbar": {
              "outlinewidth": 0,
              "ticks": ""
             }
            },
            "type": "scatterpolar"
           }
          ],
          "scatterpolargl": [
           {
            "marker": {
             "colorbar": {
              "outlinewidth": 0,
              "ticks": ""
             }
            },
            "type": "scatterpolargl"
           }
          ],
          "scatterternary": [
           {
            "marker": {
             "colorbar": {
              "outlinewidth": 0,
              "ticks": ""
             }
            },
            "type": "scatterternary"
           }
          ],
          "surface": [
           {
            "colorbar": {
             "outlinewidth": 0,
             "ticks": ""
            },
            "colorscale": [
             [
              0,
              "#0d0887"
             ],
             [
              0.1111111111111111,
              "#46039f"
             ],
             [
              0.2222222222222222,
              "#7201a8"
             ],
             [
              0.3333333333333333,
              "#9c179e"
             ],
             [
              0.4444444444444444,
              "#bd3786"
             ],
             [
              0.5555555555555556,
              "#d8576b"
             ],
             [
              0.6666666666666666,
              "#ed7953"
             ],
             [
              0.7777777777777778,
              "#fb9f3a"
             ],
             [
              0.8888888888888888,
              "#fdca26"
             ],
             [
              1,
              "#f0f921"
             ]
            ],
            "type": "surface"
           }
          ],
          "table": [
           {
            "cells": {
             "fill": {
              "color": "#EBF0F8"
             },
             "line": {
              "color": "white"
             }
            },
            "header": {
             "fill": {
              "color": "#C8D4E3"
             },
             "line": {
              "color": "white"
             }
            },
            "type": "table"
           }
          ]
         },
         "layout": {
          "annotationdefaults": {
           "arrowcolor": "#2a3f5f",
           "arrowhead": 0,
           "arrowwidth": 1
          },
          "coloraxis": {
           "colorbar": {
            "outlinewidth": 0,
            "ticks": ""
           }
          },
          "colorscale": {
           "diverging": [
            [
             0,
             "#8e0152"
            ],
            [
             0.1,
             "#c51b7d"
            ],
            [
             0.2,
             "#de77ae"
            ],
            [
             0.3,
             "#f1b6da"
            ],
            [
             0.4,
             "#fde0ef"
            ],
            [
             0.5,
             "#f7f7f7"
            ],
            [
             0.6,
             "#e6f5d0"
            ],
            [
             0.7,
             "#b8e186"
            ],
            [
             0.8,
             "#7fbc41"
            ],
            [
             0.9,
             "#4d9221"
            ],
            [
             1,
             "#276419"
            ]
           ],
           "sequential": [
            [
             0,
             "#0d0887"
            ],
            [
             0.1111111111111111,
             "#46039f"
            ],
            [
             0.2222222222222222,
             "#7201a8"
            ],
            [
             0.3333333333333333,
             "#9c179e"
            ],
            [
             0.4444444444444444,
             "#bd3786"
            ],
            [
             0.5555555555555556,
             "#d8576b"
            ],
            [
             0.6666666666666666,
             "#ed7953"
            ],
            [
             0.7777777777777778,
             "#fb9f3a"
            ],
            [
             0.8888888888888888,
             "#fdca26"
            ],
            [
             1,
             "#f0f921"
            ]
           ],
           "sequentialminus": [
            [
             0,
             "#0d0887"
            ],
            [
             0.1111111111111111,
             "#46039f"
            ],
            [
             0.2222222222222222,
             "#7201a8"
            ],
            [
             0.3333333333333333,
             "#9c179e"
            ],
            [
             0.4444444444444444,
             "#bd3786"
            ],
            [
             0.5555555555555556,
             "#d8576b"
            ],
            [
             0.6666666666666666,
             "#ed7953"
            ],
            [
             0.7777777777777778,
             "#fb9f3a"
            ],
            [
             0.8888888888888888,
             "#fdca26"
            ],
            [
             1,
             "#f0f921"
            ]
           ]
          },
          "colorway": [
           "#636efa",
           "#EF553B",
           "#00cc96",
           "#ab63fa",
           "#FFA15A",
           "#19d3f3",
           "#FF6692",
           "#B6E880",
           "#FF97FF",
           "#FECB52"
          ],
          "font": {
           "color": "#2a3f5f"
          },
          "geo": {
           "bgcolor": "white",
           "lakecolor": "white",
           "landcolor": "#E5ECF6",
           "showlakes": true,
           "showland": true,
           "subunitcolor": "white"
          },
          "hoverlabel": {
           "align": "left"
          },
          "hovermode": "closest",
          "mapbox": {
           "style": "light"
          },
          "paper_bgcolor": "white",
          "plot_bgcolor": "#E5ECF6",
          "polar": {
           "angularaxis": {
            "gridcolor": "white",
            "linecolor": "white",
            "ticks": ""
           },
           "bgcolor": "#E5ECF6",
           "radialaxis": {
            "gridcolor": "white",
            "linecolor": "white",
            "ticks": ""
           }
          },
          "scene": {
           "xaxis": {
            "backgroundcolor": "#E5ECF6",
            "gridcolor": "white",
            "gridwidth": 2,
            "linecolor": "white",
            "showbackground": true,
            "ticks": "",
            "zerolinecolor": "white"
           },
           "yaxis": {
            "backgroundcolor": "#E5ECF6",
            "gridcolor": "white",
            "gridwidth": 2,
            "linecolor": "white",
            "showbackground": true,
            "ticks": "",
            "zerolinecolor": "white"
           },
           "zaxis": {
            "backgroundcolor": "#E5ECF6",
            "gridcolor": "white",
            "gridwidth": 2,
            "linecolor": "white",
            "showbackground": true,
            "ticks": "",
            "zerolinecolor": "white"
           }
          },
          "shapedefaults": {
           "line": {
            "color": "#2a3f5f"
           }
          },
          "ternary": {
           "aaxis": {
            "gridcolor": "white",
            "linecolor": "white",
            "ticks": ""
           },
           "baxis": {
            "gridcolor": "white",
            "linecolor": "white",
            "ticks": ""
           },
           "bgcolor": "#E5ECF6",
           "caxis": {
            "gridcolor": "white",
            "linecolor": "white",
            "ticks": ""
           }
          },
          "title": {
           "x": 0.05
          },
          "xaxis": {
           "automargin": true,
           "gridcolor": "white",
           "linecolor": "white",
           "ticks": "",
           "title": {
            "standoff": 15
           },
           "zerolinecolor": "white",
           "zerolinewidth": 2
          },
          "yaxis": {
           "automargin": true,
           "gridcolor": "white",
           "linecolor": "white",
           "ticks": "",
           "title": {
            "standoff": 15
           },
           "zerolinecolor": "white",
           "zerolinewidth": 2
          }
         }
        },
        "xaxis": {
         "anchor": "y",
         "autorange": true,
         "domain": [
          0,
          1
         ],
         "range": [
          -0.5,
          3704.5
         ],
         "title": {
          "text": "x"
         },
         "type": "linear"
        },
        "yaxis": {
         "anchor": "x",
         "autorange": true,
         "domain": [
          0,
          1
         ],
         "range": [
          0,
          5534.736842105263
         ],
         "title": {
          "text": "count"
         }
        }
       }
      },
      "image/png": "[encoded data removed]",
      "text/html": [
       "<div>\n",
       "        \n",
       "        \n",
       "            <div id=\"dc6dcd79-33b1-452f-a59a-624511725a50\" class=\"plotly-graph-div\" style=\"height:525px; width:100%;\"></div>\n",
       "            <script type=\"text/javascript\">\n",
       "                require([\"plotly\"], function(Plotly) {\n",
       "                    window.PLOTLYENV=window.PLOTLYENV || {};\n",
       "                    \n",
       "                if (document.getElementById(\"dc6dcd79-33b1-452f-a59a-624511725a50\")) {\n",
       "                    Plotly.newPlot(\n",
       "                        'dc6dcd79-33b1-452f-a59a-624511725a50',\n",
       "                        [{\"alignmentgroup\": \"True\", \"bingroup\": \"x\", \"hovertemplate\": \"x=%{x}<br>count=%{y}<extra></extra>\", \"legendgroup\": \"\", \"marker\": {\"color\": \"#636efa\"}, \"name\": \"\", \"offsetgroup\": \"\", \"orientation\": \"v\", \"showlegend\": false, \"type\": \"histogram\", \"x\": [1, 0, 0, 0, 0, 0, 0, 0, 0, 0, 0, 0, 0, 0, 0, 0, 0, 0, 0, 0, 0, 0, 0, 0, 0, 0, 0, 0, 0, 0, 0, 0, 0, 0, 0, 0, 0, 0, 0, 0, 0, 0, 0, 0, 0, 0, 0, 0, 0, 0, 0, 0, 0, 0, 0, 0, 0, 0, 0, 0, 0, 0, 0, 0, 0, 0, 0, 0, 0, 0, 0, 0, 0, 0, 0, 0, 0, 0, 0, 0, 0, 0, 0, 0, 0, 0, 0, 0, 0, 0, 0, 0, 0, 0, 0, 0, 0, 0, 0, 0, 0, 0, 0, 0, 0, 0, 0, 0, 0, 0, 0, 0, 0, 0, 0, 0, 0, 0, 0, 0, 0, 0, 0, 0, 0, 0, 0, 0, 0, 0, 0, 0, 0, 0, 0, 0, 0, 0, 0, 0, 0, 0, 0, 0, 0, 0, 0, 0, 0, 0, 0, 0, 0, 0, 0, 0, 0, 0, 0, 0, 0, 0, 0, 0, 0, 0, 0, 0, 0, 0, 0, 0, 0, 0, 0, 0, 0, 0, 0, 0, 0, 0, 0, 0, 0, 0, 0, 0, 0, 0, 0, 0, 0, 0, 0, 0, 0, 0, 0, 0, 0, 0, 0, 0, 0, 0, 0, 0, 0, 0, 0, 0, 0, 0, 0, 0, 0, 0, 0, 0, 0, 0, 0, 0, 0, 0, 0, 0, 0, 0, 0, 0, 0, 0, 0, 0, 0, 0, 0, 0, 0, 0, 0, 0, 0, 0, 0, 0, 0, 0, 0, 0, 0, 0, 0, 0, 0, 0, 0, 0, 0, 0, 0, 0, 0, 0, 0, 0, 0, 0, 0, 0, 0, 0, 0, 0, 0, 0, 0, 0, 0, 0, 0, 0, 0, 0, 0, 0, 0, 0, 0, 0, 0, 0, 0, 0, 0, 0, 0, 0, 0, 0, 0, 0, 0, 0, 0, 0, 0, 0, 0, 0, 0, 0, 0, 0, 0, 0, 0, 0, 0, 0, 0, 0, 0, 0, 0, 0, 0, 0, 0, 0, 0, 0, 0, 0, 0, 0, 0, 0, 0, 0, 0, 0, 0, 0, 0, 0, 0, 0, 0, 0, 0, 0, 0, 0, 0, 0, 0, 0, 0, 0, 0, 0, 0, 0, 0, 0, 0, 0, 0, 0, 0, 0, 0, 0, 0, 0, 0, 0, 0, 0, 0, 0, 0, 0, 0, 0, 0, 0, 0, 0, 0, 0, 0, 0, 0, 0, 0, 0, 0, 0, 0, 0, 0, 0, 0, 0, 0, 0, 0, 0, 0, 0, 0, 0, 0, 0, 0, 0, 0, 0, 0, 0, 0, 0, 0, 0, 0, 0, 0, 0, 0, 0, 0, 0, 0, 0, 0, 0, 0, 0, 0, 0, 0, 0, 0, 0, 0, 0, 0, 0, 0, 0, 0, 0, 0, 0, 0, 0, 0, 0, 0, 0, 0, 0, 0, 0, 0, 0, 0, 0, 0, 0, 0, 0, 0, 0, 0, 0, 0, 0, 0, 0, 0, 0, 0, 0, 0, 0, 0, 0, 0, 0, 0, 0, 0, 0, 0, 0, 0, 0, 0, 0, 0, 0, 0, 0, 0, 0, 0, 0, 0, 0, 0, 0, 0, 0, 0, 0, 0, 0, 0, 0, 0, 0, 0, 0, 0, 0, 0, 0, 0, 0, 0, 0, 0, 0, 0, 0, 0, 0, 0, 0, 0, 0, 0, 0, 0, 0, 0, 0, 0, 0, 0, 0, 0, 0, 0, 0, 0, 0, 0, 0, 0, 0, 0, 0, 0, 0, 0, 0, 0, 0, 0, 0, 0, 0, 0, 0, 0, 0, 0, 0, 0, 0, 0, 0, 0, 0, 0, 0, 0, 0, 0, 0, 0, 0, 0, 0, 0, 0, 0, 0, 0, 0, 0, 0, 0, 0, 0, 0, 0, 0, 0, 0, 0, 0, 0, 0, 0, 0, 0, 0, 0, 0, 0, 0, 0, 0, 0, 0, 0, 0, 0, 0, 0, 0, 0, 0, 0, 0, 0, 0, 0, 0, 0, 0, 0, 0, 0, 0, 0, 0, 0, 0, 0, 0, 0, 0, 0, 0, 0, 0, 0, 0, 0, 0, 0, 0, 0, 0, 0, 0, 0, 0, 0, 0, 0, 0, 0, 0, 0, 0, 0, 0, 0, 0, 0, 0, 0, 0, 0, 0, 0, 0, 0, 0, 0, 0, 0, 0, 0, 0, 0, 0, 0, 0, 0, 0, 0, 0, 0, 0, 0, 0, 0, 0, 0, 0, 0, 0, 0, 0, 0, 0, 0, 0, 0, 0, 0, 0, 0, 0, 0, 0, 0, 0, 0, 0, 0, 0, 0, 0, 0, 0, 0, 0, 0, 0, 0, 0, 0, 0, 0, 0, 0, 0, 0, 0, 0, 0, 0, 0, 0, 0, 0, 0, 0, 0, 0, 0, 0, 0, 0, 0, 0, 0, 0, 0, 0, 0, 0, 0, 0, 0, 0, 0, 0, 0, 0, 0, 0, 0, 0, 0, 0, 0, 0, 0, 0, 0, 0, 0, 0, 0, 0, 0, 0, 0, 0, 0, 0, 0, 0, 0, 0, 0, 0, 0, 0, 0, 0, 0, 0, 0, 0, 0, 0, 0, 0, 0, 0, 0, 0, 0, 0, 0, 0, 0, 0, 0, 0, 0, 0, 0, 0, 0, 0, 0, 0, 0, 0, 0, 0, 0, 0, 0, 0, 0, 0, 0, 0, 0, 0, 0, 0, 0, 0, 0, 0, 0, 0, 0, 0, 0, 0, 0, 0, 0, 0, 0, 0, 0, 0, 0, 0, 0, 0, 0, 0, 0, 0, 0, 0, 0, 0, 0, 0, 0, 0, 0, 0, 0, 0, 0, 0, 0, 0, 0, 0, 0, 0, 0, 0, 0, 0, 0, 0, 0, 0, 0, 0, 0, 0, 0, 0, 0, 0, 0, 0, 0, 0, 0, 0, 0, 0, 0, 0, 0, 0, 0, 0, 0, 0, 0, 0, 0, 0, 0, 0, 0, 0, 0, 0, 0, 0, 0, 0, 0, 0, 0, 0, 0, 0, 0, 0, 0, 0, 0, 0, 0, 0, 0, 0, 0, 0, 0, 0, 0, 0, 0, 0, 0, 0, 0, 0, 0, 0, 0, 0, 0, 0, 0, 0, 0, 0, 0, 0, 0, 0, 0, 0, 0, 0, 0, 0, 0, 0, 0, 0, 0, 0, 0, 0, 0, 0, 0, 0, 0, 0, 0, 0, 0, 0, 0, 0, 0, 0, 0, 0, 0, 0, 0, 0, 0, 0, 0, 0, 0, 0, 0, 0, 0, 0, 0, 0, 0, 0, 0, 0, 0, 0, 0, 0, 0, 0, 0, 0, 0, 0, 0, 0, 0, 0, 0, 0, 0, 0, 0, 0, 0, 0, 0, 0, 0, 0, 0, 0, 0, 0, 0, 0, 0, 0, 0, 0, 0, 0, 0, 0, 0, 0, 0, 0, 0, 0, 0, 0, 0, 0, 0, 0, 0, 0, 0, 0, 0, 0, 0, 0, 0, 0, 0, 0, 0, 0, 0, 0, 0, 0, 0, 0, 0, 0, 0, 0, 0, 0, 0, 0, 0, 0, 0, 0, 0, 0, 0, 0, 0, 0, 0, 0, 0, 0, 0, 0, 0, 0, 0, 0, 0, 0, 0, 0, 0, 0, 0, 0, 0, 0, 0, 0, 0, 0, 0, 0, 0, 0, 0, 0, 0, 0, 0, 0, 0, 0, 0, 0, 0, 0, 0, 0, 0, 0, 0, 0, 0, 0, 0, 0, 0, 0, 0, 0, 0, 0, 0, 0, 0, 0, 0, 0, 0, 0, 0, 0, 0, 0, 0, 0, 0, 0, 0, 0, 0, 0, 0, 0, 0, 0, 0, 0, 0, 0, 0, 0, 0, 0, 0, 0, 0, 0, 0, 0, 0, 0, 0, 0, 0, 0, 0, 0, 0, 0, 0, 0, 0, 0, 0, 0, 0, 0, 0, 0, 0, 0, 0, 0, 0, 0, 0, 0, 0, 0, 0, 0, 0, 0, 0, 0, 0, 0, 0, 0, 0, 0, 0, 0, 0, 0, 0, 0, 0, 0, 0, 0, 0, 0, 0, 0, 0, 0, 0, 0, 0, 0, 0, 0, 0, 0, 0, 0, 0, 0, 0, 0, 0, 0, 0, 0, 0, 0, 0, 0, 0, 0, 0, 0, 0, 0, 0, 0, 0, 0, 0, 0, 0, 0, 0, 0, 0, 0, 0, 0, 0, 0, 0, 0, 0, 0, 0, 0, 0, 0, 0, 0, 0, 0, 0, 0, 0, 0, 0, 0, 0, 0, 0, 0, 0, 0, 0, 0, 0, 0, 0, 0, 0, 0, 0, 0, 0, 0, 0, 0, 0, 0, 0, 0, 0, 0, 0, 0, 0, 0, 0, 0, 0, 0, 0, 0, 0, 0, 0, 0, 0, 0, 0, 0, 0, 0, 0, 0, 0, 0, 0, 0, 0, 0, 0, 0, 0, 0, 0, 0, 0, 0, 0, 0, 0, 0, 0, 0, 0, 0, 0, 0, 0, 0, 0, 0, 0, 0, 0, 0, 0, 0, 0, 0, 0, 0, 0, 0, 0, 0, 0, 0, 0, 0, 0, 0, 0, 0, 0, 0, 0, 0, 0, 0, 0, 0, 0, 0, 0, 0, 0, 0, 0, 0, 0, 0, 0, 0, 0, 0, 0, 0, 0, 0, 0, 0, 0, 0, 0, 0, 0, 0, 0, 0, 0, 0, 0, 0, 0, 0, 0, 0, 0, 0, 0, 0, 0, 0, 0, 0, 0, 0, 0, 0, 0, 0, 0, 0, 0, 0, 0, 0, 0, 0, 0, 0, 0, 0, 0, 0, 0, 0, 0, 0, 0, 0, 0, 0, 0, 0, 0, 0, 0, 0, 0, 0, 0, 0, 0, 0, 0, 0, 0, 0, 0, 0, 0, 0, 0, 0, 0, 0, 0, 0, 0, 0, 0, 0, 0, 0, 0, 0, 0, 0, 0, 0, 0, 0, 0, 0, 0, 0, 0, 0, 0, 0, 0, 0, 0, 0, 0, 0, 0, 0, 0, 0, 0, 0, 0, 0, 0, 0, 0, 0, 0, 0, 0, 0, 0, 0, 0, 0, 0, 0, 0, 0, 0, 0, 0, 0, 0, 0, 0, 0, 0, 0, 0, 0, 0, 0, 0, 0, 0, 0, 0, 0, 0, 0, 0, 0, 0, 0, 0, 0, 0, 0, 0, 0, 0, 0, 0, 0, 0, 0, 0, 0, 0, 0, 0, 0, 0, 0, 0, 0, 0, 0, 0, 0, 0, 0, 0, 0, 0, 0, 0, 0, 0, 0, 0, 0, 0, 0, 0, 0, 0, 0, 0, 0, 0, 0, 0, 0, 0, 0, 0, 0, 0, 0, 0, 0, 0, 0, 0, 0, 0, 0, 0, 0, 0, 0, 0, 0, 0, 0, 0, 0, 0, 0, 0, 0, 0, 0, 0, 0, 0, 0, 0, 0, 0, 0, 0, 0, 0, 0, 0, 0, 0, 0, 0, 0, 0, 0, 0, 0, 0, 0, 0, 0, 0, 0, 0, 0, 0, 0, 0, 0, 0, 0, 0, 0, 0, 0, 0, 0, 0, 0, 0, 0, 0, 0, 0, 0, 0, 0, 0, 0, 0, 0, 0, 0, 0, 0, 0, 0, 0, 0, 0, 0, 0, 0, 0, 0, 0, 0, 0, 0, 0, 0, 0, 0, 0, 0, 0, 0, 0, 0, 0, 0, 0, 0, 0, 0, 0, 0, 0, 0, 0, 0, 0, 0, 0, 0, 0, 0, 0, 0, 0, 0, 0, 0, 0, 0, 0, 0, 0, 0, 0, 0, 0, 0, 0, 0, 0, 0, 0, 0, 0, 0, 0, 0, 0, 0, 0, 0, 0, 0, 0, 0, 0, 0, 0, 0, 0, 0, 0, 0, 0, 0, 0, 0, 0, 0, 0, 0, 0, 0, 0, 0, 0, 0, 0, 0, 0, 0, 0, 0, 0, 0, 0, 0, 0, 0, 0, 0, 0, 0, 0, 0, 0, 0, 0, 0, 0, 0, 0, 0, 0, 0, 0, 0, 0, 0, 0, 0, 0, 0, 0, 0, 0, 0, 0, 0, 0, 0, 0, 0, 0, 0, 0, 0, 0, 0, 0, 0, 0, 0, 0, 0, 0, 0, 0, 0, 0, 0, 0, 0, 0, 0, 0, 0, 0, 0, 0, 0, 0, 0, 0, 0, 0, 0, 0, 0, 0, 0, 0, 0, 0, 0, 0, 0, 0, 0, 0, 0, 0, 0, 0, 0, 0, 0, 0, 0, 0, 0, 0, 0, 0, 0, 0, 0, 0, 0, 0, 0, 0, 0, 0, 0, 0, 0, 0, 0, 0, 0, 0, 0, 0, 0, 0, 0, 0, 0, 0, 0, 0, 0, 0, 0, 0, 0, 0, 0, 0, 0, 0, 0, 0, 0, 0, 0, 0, 0, 0, 0, 0, 0, 0, 0, 0, 0, 0, 0, 0, 0, 0, 0, 0, 0, 0, 0, 0, 0, 0, 0, 0, 0, 0, 0, 0, 0, 0, 0, 0, 0, 0, 0, 0, 0, 0, 0, 0, 0, 0, 0, 0, 0, 0, 0, 0, 0, 0, 0, 0, 0, 0, 0, 0, 0, 0, 0, 0, 0, 0, 0, 0, 0, 0, 0, 0, 0, 0, 0, 0, 0, 0, 0, 0, 0, 0, 0, 0, 0, 0, 0, 0, 0, 0, 0, 0, 0, 0, 0, 0, 0, 0, 0, 0, 0, 0, 0, 0, 0, 0, 0, 0, 0, 0, 0, 0, 0, 0, 0, 0, 0, 0, 0, 0, 0, 0, 0, 0, 0, 0, 0, 0, 0, 0, 0, 0, 0, 0, 0, 0, 0, 0, 0, 0, 0, 0, 0, 0, 0, 0, 0, 0, 0, 0, 0, 0, 0, 0, 0, 0, 0, 0, 0, 0, 0, 0, 0, 0, 0, 0, 0, 0, 0, 0, 0, 0, 0, 0, 0, 0, 0, 0, 0, 0, 0, 0, 0, 0, 0, 0, 0, 0, 0, 0, 0, 0, 0, 0, 0, 0, 0, 0, 0, 0, 0, 0, 0, 0, 0, 0, 0, 0, 0, 0, 0, 0, 0, 0, 0, 0, 0, 0, 0, 0, 0, 0, 0, 0, 0, 0, 0, 0, 0, 0, 0, 0, 0, 0, 0, 0, 0, 0, 0, 0, 0, 0, 0, 0, 0, 0, 0, 0, 0, 0, 0, 0, 0, 0, 0, 0, 0, 0, 0, 0, 0, 0, 0, 0, 0, 0, 0, 0, 0, 0, 0, 0, 0, 0, 0, 0, 0, 0, 0, 0, 0, 0, 0, 0, 0, 0, 0, 0, 0, 0, 0, 0, 0, 0, 0, 0, 0, 0, 0, 0, 0, 0, 0, 0, 0, 0, 0, 0, 0, 0, 0, 0, 0, 0, 0, 0, 0, 0, 0, 0, 0, 0, 0, 0, 0, 0, 0, 0, 0, 0, 0, 0, 0, 0, 0, 0, 0, 0, 0, 0, 0, 0, 0, 0, 0, 0, 0, 0, 0, 0, 0, 0, 0, 0, 0, 0, 0, 0, 0, 0, 0, 0, 0, 0, 0, 0, 0, 0, 0, 0, 0, 0, 0, 0, 0, 0, 0, 0, 0, 0, 0, 0, 0, 0, 0, 0, 0, 0, 0, 0, 0, 0, 0, 0, 0, 0, 0, 0, 0, 0, 0, 0, 0, 0, 0, 0, 0, 0, 0, 0, 0, 0, 0, 0, 0, 0, 0, 0, 0, 0, 0, 0, 0, 0, 0, 0, 0, 0, 0, 0, 0, 0, 0, 0, 0, 0, 0, 0, 0, 0, 0, 0, 0, 0, 0, 0, 0, 0, 0, 0, 0, 0, 0, 0, 0, 0, 0, 0, 0, 0, 0, 0, 0, 0, 0, 0, 0, 0, 0, 0, 0, 0, 0, 0, 0, 0, 0, 0, 0, 0, 0, 0, 0, 0, 0, 0, 0, 0, 0, 0, 0, 0, 0, 0, 0, 0, 0, 0, 0, 0, 0, 0, 0, 0, 0, 0, 0, 0, 0, 0, 0, 0, 0, 0, 0, 0, 0, 0, 0, 0, 0, 0, 0, 0, 0, 0, 0, 0, 0, 0, 0, 0, 0, 0, 0, 0, 0, 0, 0, 0, 0, 0, 0, 0, 0, 0, 0, 0, 0, 0, 0, 0, 0, 0, 0, 0, 0, 0, 0, 0, 0, 0, 0, 0, 0, 0, 0, 0, 0, 0, 0, 0, 0, 0, 0, 0, 0, 0, 0, 0, 0, 0, 0, 0, 0, 0, 0, 0, 0, 0, 0, 0, 0, 0, 0, 0, 0, 0, 0, 0, 0, 0, 0, 0, 0, 0, 0, 0, 0, 0, 0, 0, 0, 0, 0, 0, 0, 0, 0, 0, 0, 0, 0, 0, 0, 0, 0, 0, 0, 0, 0, 0, 0, 0, 0, 0, 0, 0, 0, 0, 0, 0, 0, 0, 0, 0, 0, 0, 0, 0, 0, 0, 0, 0, 0, 0, 0, 0, 0, 0, 0, 0, 0, 0, 0, 0, 0, 0, 0, 0, 0, 0, 0, 0, 0, 0, 0, 0, 0, 0, 0, 0, 0, 0, 0, 0, 0, 0, 0, 0, 0, 0, 0, 0, 0, 0, 0, 0, 0, 0, 0, 0, 0, 0, 0, 0, 0, 0, 0, 0, 0, 0, 0, 0, 0, 0, 0, 0, 0, 0, 0, 0, 0, 0, 0, 0, 0, 0, 0, 0, 0, 0, 0, 0, 0, 0, 0, 0, 0, 0, 0, 0, 0, 0, 0, 0, 0, 0, 0, 0, 0, 0, 0, 0, 0, 0, 0, 0, 0, 0, 0, 0, 0, 0, 0, 0, 0, 0, 0, 0, 0, 0, 0, 0, 0, 0, 0, 0, 0, 0, 0, 0, 0, 0, 0, 0, 0, 0, 0, 0, 0, 0, 0, 0, 0, 0, 0, 0, 0, 0, 0, 0, 0, 0, 0, 0, 0, 0, 0, 0, 0, 0, 0, 0, 0, 0, 0, 0, 0, 0, 0, 0, 0, 0, 0, 0, 0, 0, 0, 0, 0, 0, 0, 0, 0, 0, 0, 0, 0, 0, 0, 0, 0, 0, 0, 0, 0, 0, 0, 0, 0, 0, 0, 0, 0, 0, 0, 0, 0, 0, 0, 0, 0, 0, 0, 0, 0, 0, 0, 0, 0, 0, 0, 0, 0, 0, 0, 0, 0, 0, 0, 0, 0, 0, 0, 0, 0, 0, 0, 0, 0, 0, 0, 0, 0, 0, 0, 0, 0, 0, 0, 0, 0, 0, 0, 0, 0, 0, 0, 0, 0, 0, 0, 0, 0, 0, 0, 0, 0, 0, 0, 0, 0, 0, 0, 0, 0, 0, 0, 0, 0, 0, 0, 0, 0, 0, 0, 0, 0, 0, 0, 0, 0, 0, 0, 0, 0, 0, 0, 0, 0, 0, 0, 0, 0, 0, 0, 0, 0, 0, 0, 0, 0, 0, 0, 0, 0, 0, 0, 0, 0, 0, 0, 0, 0, 0, 0, 0, 0, 0, 0, 0, 0, 0, 0, 0, 0, 0, 0, 0, 0, 0, 0, 0, 0, 0, 0, 0, 0, 2, 0, 0, 0, 0, 0, 0, 0, 0, 0, 0, 0, 0, 0, 0, 0, 0, 0, 0, 0, 0, 0, 0, 0, 0, 0, 0, 0, 0, 0, 0, 0, 0, 0, 0, 0, 0, 0, 0, 0, 0, 0, 0, 0, 0, 0, 0, 0, 0, 0, 0, 0, 0, 0, 0, 0, 0, 0, 0, 0, 0, 0, 0, 0, 0, 0, 0, 0, 0, 0, 0, 0, 0, 0, 0, 0, 0, 0, 0, 0, 0, 0, 0, 0, 0, 0, 0, 0, 0, 0, 0, 0, 0, 0, 0, 0, 0, 0, 0, 0, 0, 0, 0, 0, 0, 0, 0, 0, 0, 0, 0, 0, 0, 0, 0, 0, 0, 0, 0, 0, 0, 0, 0, 0, 0, 0, 0, 0, 0, 0, 0, 0, 0, 0, 0, 0, 0, 0, 0, 0, 0, 0, 0, 0, 0, 0, 0, 0, 0, 0, 0, 0, 0, 0, 0, 0, 0, 0, 0, 0, 0, 0, 0, 0, 0, 0, 0, 0, 0, 0, 0, 0, 0, 0, 0, 0, 0, 0, 0, 0, 0, 0, 0, 0, 0, 0, 0, 0, 0, 0, 0, 0, 0, 0, 0, 0, 0, 0, 0, 0, 0, 0, 0, 0, 0, 0, 0, 0, 0, 0, 0, 0, 0, 0, 0, 0, 0, 0, 0, 0, 0, 0, 0, 0, 0, 0, 0, 0, 0, 0, 0, 0, 0, 0, 0, 0, 0, 0, 0, 0, 0, 1, 0, 0, 0, 0, 0, 0, 0, 0, 0, 0, 0, 0, 0, 0, 0, 0, 0, 0, 0, 0, 0, 3, 0, 0, 0, 0, 2, 0, 0, 1, 1, 0, 0, 3, 0, 0, 0, 0, 0, 0, 0, 0, 0, 0, 0, 0, 0, 0, 0, 0, 0, 1, 0, 0, 0, 0, 0, 0, 0, 0, 0, 0, 0, 0, 0, 0, 0, 0, 0, 0, 0, 0, 0, 0, 0, 0, 0, 0, 0, 0, 0, 0, 0, 0, 0, 0, 0, 0, 0, 0, 0, 0, 0, 0, 0, 0, 0, 0, 0, 0, 0, 0, 0, 0, 0, 0, 0, 0, 0, 0, 0, 0, 0, 0, 0, 0, 0, 0, 0, 0, 0, 0, 0, 0, 0, 2, 0, 0, 0, 0, 0, 0, 0, 0, 0, 0, 0, 0, 0, 0, 0, 2, 0, 0, 0, 1, 0, 2, 0, 0, 3, 1, 3, 0, 0, 0, 0, 0, 0, 0, 0, 0, 0, 0, 0, 29, 31, 85, 122, 59, 45, 47, 30, 28, 7, 16, 14, 4, 3, 16, 7, 4, 3, 2, 5, 17, 33, 16, 9, 27, 13, 4, 9, 11, 17, 17, 11, 0, 2, 6, 10, 5, 4, 3, 2, 3, 0, 4, 4, 8, 4, 7, 3, 3, 4, 2, 3, 3, 1, 4, 8, 4, 5, 3, 2, 4, 1, 0, 0, 0, 1, 0, 2, 5, 3, 1, 3, 0, 4, 1, 3, 2, 3, 3, 3, 4, 6, 3, 6, 5, 1, 7, 3, 0, 0, 4, 2, 2, 8, 6, 6, 8, 5, 2, 1, 2, 3, 4, 1, 4, 6, 13, 4, 4, 13, 2, 2, 0, 0, 1, 1, 10, 3, 3, 2, 0, 0, 4, 7, 2, 3, 2, 12, 5, 4, 0, 6, 2, 3, 11, 4, 1, 0, 1, 1, 1, 1, 4, 6, 3, 3, 5, 7, 4, 4, 3, 2, 4, 2, 1, 0, 1, 1, 0, 0, 1, 1, 0, 1, 1, 2, 4, 9, 39, 39, 31, 23, 8, 12, 17, 31, 43, 35, 19, 13, 8, 6, 12, 32, 41, 70, 44, 21, 14, 22, 23, 20, 16, 7, 8, 4, 9, 9, 23, 11, 40, 10, 6, 9, 8, 6, 4, 6, 12, 11, 8, 7, 7, 5, 14, 9, 8, 6, 3, 8, 7, 11, 7, 8, 17, 2, 4, 3, 2, 3, 0, 6, 4, 1, 1, 6, 5, 5, 6, 4, 4, 2, 3, 10, 3, 9, 1, 2, 0, 4, 1, 3, 6, 8, 1, 5, 1, 4, 9, 5, 6, 4, 9, 5, 6, 6, 4, 1, 5, 3, 9, 11, 4, 8, 12, 8, 13, 8, 5, 10, 6, 12, 2, 0, 0, 0, 2, 2, 12, 3, 7, 15, 6, 5, 3, 13, 7, 6, 3, 2, 0, 2, 1, 4, 5, 4, 1, 3, 0, 6, 1, 3, 12, 8, 5, 11, 5, 3, 7, 3, 2, 1, 2, 3, 2, 2, 4, 5, 5, 2, 7, 14, 4, 10, 12, 12, 17, 44, 27, 16, 22, 28, 25, 24, 10, 14, 4, 21, 14, 2, 5, 2, 1, 1, 4, 4, 0, 1, 13, 10, 22, 18, 11, 18, 17, 13, 18, 15, 12, 5, 4, 5, 6, 3, 2, 3, 9, 8, 12, 19, 9, 14, 20, 20, 21, 34, 19, 18, 22, 29, 28, 35, 11, 1, 1, 10, 3, 1, 3, 2, 3, 8, 6, 19, 41, 18, 33, 34, 18, 13, 12, 6, 18, 19, 19, 18, 17, 6, 11, 1, 2, 2, 4, 1, 2, 8, 7, 15, 15, 21, 23, 14, 22, 18, 24, 8, 15, 21, 28, 19, 29, 10, 16, 15, 12, 5, 8, 7, 4, 13, 20, 20, 23, 20, 14, 9, 15, 16, 16, 12, 17, 20, 21, 29, 14, 9, 12, 7, 7, 9, 5, 3, 10, 12, 11, 8, 7, 16, 173, 48, 11, 7, 11, 7, 3, 9, 7, 8, 5, 4, 3, 3, 6, 3, 11, 5, 4, 7, 8, 7, 2, 5, 12, 7, 35, 37, 14, 7, 18, 14, 12, 7, 7, 4, 12, 14, 5, 2, 4, 0, 1, 11, 6, 2, 2, 1, 2, 1, 1, 3, 8, 2, 3, 4, 3, 15, 3, 3, 2, 3, 1, 13, 9, 9, 4, 2, 2, 4, 4, 4, 2, 1, 5, 4, 6, 11, 8, 4, 4, 3, 3, 2, 2, 3, 2, 1, 7, 6, 1, 1, 2, 1, 2, 2, 1, 4, 4, 6, 18, 16, 5, 5, 7, 5, 5, 7, 2, 1, 3, 2, 4, 2, 5, 8, 4, 4, 5, 3, 2, 5, 5, 9, 6, 2, 6, 4, 7, 11, 6, 2, 2, 10, 10, 3, 4, 2, 1, 2, 7, 2, 7, 10, 8, 24, 14, 12, 9, 8, 6, 4, 5, 5, 15, 8, 4, 5, 4, 5, 2, 2, 2, 2, 6, 7, 3, 5, 3, 9, 12, 14, 8, 4, 6, 5, 10, 3, 1, 2, 3, 6, 0, 2, 2, 3, 2, 9, 2, 8, 24, 9, 11, 11, 5, 3, 4, 1, 5, 7, 3, 2, 2, 3, 8, 3, 1, 6, 4, 5, 5, 7, 4, 0, 1, 1, 5, 5, 5, 1, 5, 17, 5, 17, 10, 12, 6, 2, 4, 0, 1, 2, 3, 2, 3, 4, 4, 12, 6, 1, 1, 4, 3, 11, 7, 10, 3, 14, 3, 5, 5, 2, 4, 3, 0, 0, 0, 0, 4, 2, 2, 2, 1, 3, 2, 0, 0, 4, 2, 2, 1, 3, 8, 4, 5, 6, 0, 2, 5, 5, 2, 2, 2, 3, 0, 3, 2, 10, 9, 4, 31, 7, 14, 21, 1, 17, 4, 3, 18, 4, 2, 5, 1, 1, 2, 2, 3, 0, 0, 0, 6, 2, 5, 6, 4, 5, 4, 8, 6, 2, 2, 3, 4, 4, 0, 2, 1, 0, 2, 2, 1, 10, 1, 0, 2, 4, 2, 3, 0, 0, 0, 4, 6, 7, 5, 4, 3, 2, 3, 6, 7, 5, 2, 0, 1, 0, 1, 2, 4, 0, 6, 4, 4, 4, 3, 8, 4, 4, 2, 2, 3, 3, 0, 1, 0, 0, 0, 0, 0, 0, 0, 3, 1, 0, 0, 0, 2, 1, 1, 0, 0, 0, 13, 10, 2, 4, 1, 3, 0, 0, 0, 0, 0, 831, 105, 20, 25, 12, 5, 8, 4, 3, 1, 27, 11, 0, 6, 6, 5, 0, 2, 0, 1, 1, 0, 0, 0, 10, 29, 1, 4, 8, 5, 13, 18, 10, 43, 11, 13, 2, 5, 8, 1, 2, 1, 0, 0, 0, 0, 2, 1, 6, 1, 0, 0, 0, 3, 4, 2, 1, 0, 0, 1, 3, 0, 0, 2, 3, 3, 4, 3, 1, 0, 0, 1, 2, 0, 0, 3, 3, 1, 1, 0, 0, 0, 0, 3, 8, 2, 0, 0, 0, 0, 0, 0, 0, 1, 0, 0, 0, 1, 2, 0, 0, 6, 4, 24, 1, 2, 2, 1, 1, 1, 1, 0, 1, 2, 2, 1, 1, 0, 0, 2, 0, 0, 1, 0, 2, 4, 7, 4, 2, 1, 4, 1, 1, 3, 6, 1, 0, 1, 2, 0, 1, 1, 2, 0, 4, 1, 2, 1, 0, 4, 6, 8, 2, 7, 7, 1, 1, 10, 34, 3, 38, 3, 0, 0, 0, 0, 1, 2, 1, 1, 4, 5, 2, 2, 2, 2, 0, 2, 0, 3, 2, 1, 1, 2, 2, 0, 3, 1, 1, 0, 0, 0, 0, 3, 1, 0, 2, 4, 1, 0, 0, 0, 2, 3, 1, 2, 3, 2, 1, 0, 2, 0, 0, 0, 0, 1, 1, 6, 5, 0, 12, 0, 5, 2, 7, 1, 0, 4, 7, 1, 5, 2, 1, 1, 1, 1, 3, 0, 3, 5, 2, 1, 3, 1, 1, 7, 2, 1, 8, 105, 163, 27, 9, 41, 51, 16, 3, 3, 18, 8, 0, 10, 12, 2, 12, 11, 36, 102, 186, 592, 133, 50, 28, 3, 0, 4, 5, 1, 5, 0, 3, 2, 0, 0, 0, 3, 3, 7, 9, 8, 4, 5, 6, 10, 8, 15, 19, 7, 7, 2, 11, 3, 4, 3, 1, 13, 1, 0, 0, 1, 2, 7, 3, 3, 9, 4, 5, 10, 3, 1, 1, 6, 3, 7, 3, 71, 2, 1, 1, 0, 2, 2, 0, 0, 0, 0, 1, 0, 0, 0, 2, 0, 0, 0, 1, 1, 1, 1, 2, 3, 0, 1, 1, 1, 7, 6, 1, 2, 3, 9, 20, 3, 11, 3, 2, 1, 1, 3, 9, 1, 1, 5, 5, 7, 2, 2, 4, 2, 0, 1, 0, 0, 1, 2, 7, 7, 5, 2, 2, 1, 2, 0, 3, 7, 3, 0, 5, 4, 5, 3, 1, 4, 2, 2, 0, 0, 0, 0, 1, 0, 3, 1, 1, 1, 9, 11, 0, 6, 7, 1, 5, 3, 0, 1, 0, 5, 5, 2, 3, 8, 2, 7, 11, 4, 13, 8, 2, 2, 11, 12, 8, 10, 2, 2, 2, 5, 9, 3, 1, 3, 2, 5, 0, 0, 0, 0, 1, 1, 6, 0, 2, 2, 11, 2, 6, 5, 1, 3, 7, 4, 2, 0, 2, 0, 1, 4, 3, 7, 10, 14, 4, 6, 3, 0, 4, 13, 7, 9, 5, 5, 18, 4, 4, 5, 13, 19, 10, 0, 0, 3, 7, 6, 8, 7, 2, 0, 3, 4, 1, 2, 1, 1, 0, 3, 2, 0, 5, 0, 5, 7, 5, 0, 1, 2, 3, 0, 0, 0, 1, 2, 2, 5, 0, 0, 0, 0, 1, 1, 0, 5, 1, 5, 2, 3, 2, 0, 0, 0, 1, 3, 0, 1, 0, 2, 0, 0, 1, 1, 0, 1, 1, 0, 9, 1, 5, 6, 1, 0, 0, 3, 2, 0, 1, 8, 3, 0, 2, 0, 3, 4, 4, 4, 2, 4, 3, 0, 4, 0, 0, 0, 0, 2, 2, 0, 0, 0, 0, 0, 0, 1, 2, 1, 5, 2, 2, 1, 3, 1, 0, 2, 1, 3, 1, 0, 2, 4, 0, 2, 0, 0, 0, 0, 0, 2, 0, 0, 4, 4, 7, 3, 0, 0, 0, 0, 0, 0, 0, 0, 0, 3, 1, 3, 5, 4, 0, 0, 0, 2, 1, 1, 0, 3, 20, 14, 1, 5, 2, 1, 3, 6, 1, 2, 2, 0, 2, 2, 0, 1, 1, 0, 0, 0, 0, 0, 3, 5, 4, 2, 2, 4, 2, 6, 2, 0, 0, 2, 5, 0, 4, 3, 0, 1, 0, 0, 0, 1, 4, 1, 2, 1, 0, 3, 0, 0, 0, 0, 2, 0, 0, 0, 0, 0, 0, 2, 0, 0, 0, 0, 0, 2, 1, 5, 2, 0, 0, 0, 2, 0, 0, 0, 0, 0, 0, 0, 1, 2, 0, 0, 2, 0, 5, 1, 1, 0, 0, 2, 0, 0, 0, 1, 0, 2, 2, 1, 1, 1, 3, 3, 0, 2, 4, 1, 0, 0, 0, 1, 0, 0, 1, 0, 1, 1, 1, 1, 0, 0, 4, 0, 0, 0, 0, 0, 3, 0, 1, 3, 0, 1, 0, 0, 0, 0, 1, 1, 0, 0, 4, 0, 0, 0, 0, 1, 0, 0, 2, 0, 0, 0, 2, 2, 2, 1, 1, 0, 0, 4, 0, 3, 4, 2, 0, 0, 0, 0, 0, 2, 4, 1, 1, 1, 0, 0, 0, 0, 0, 2, 0, 0, 0, 1, 0, 1, 2, 0, 0, 0, 0, 2, 9, 5, 0, 0, 0, 1, 5, 2, 0, 0, 0, 2, 1, 0, 0, 0, 0, 0, 0, 0, 0, 2, 0, 1, 4, 4, 0, 1, 0, 0, 0, 0, 0, 0, 0, 0, 0, 0, 0, 3, 0, 0, 5, 0, 14, 8, 7, 5, 21, 23, 5, 7, 1, 10, 19, 20, 4, 1, 3, 2, 0, 0, 0, 0, 0, 4, 6, 3, 0, 1, 1, 4, 1, 0, 4, 5, 6, 2, 0, 0, 0, 0, 0, 0, 1, 0, 0, 2, 3, 3, 1, 1, 0, 0, 0, 5, 9, 1, 2, 16, 11, 2, 4, 0, 1, 4, 9, 5, 16, 5, 9, 13, 18, 8, 7, 8, 10, 9, 6, 3, 5, 7, 9, 7, 0, 3, 3, 7, 2, 0, 6, 2, 1, 2, 0, 2, 3, 4, 6, 2, 1, 5, 4, 0, 15, 8, 5, 6, 5, 3, 5, 14, 13, 5, 7, 3, 4, 0, 1, 11, 9, 6, 4, 4, 2, 10, 1, 9, 8, 3, 3, 4, 4, 6, 5, 1, 1, 2, 2, 1, 1, 1, 0, 1, 0, 2, 0, 4, 4, 10, 3, 6, 7, 10, 7, 21, 19, 15, 7, 14, 26, 8, 9, 12, 10, 3, 8, 17, 10, 15, 20, 33, 14, 9, 8, 7, 7, 23, 11, 6, 10, 12, 11, 15, 21, 19, 31, 18, 31, 57, 32, 20, 21, 31, 25, 15, 44, 27, 33, 35, 28, 21, 22, 10, 10, 20, 47, 21, 43, 77, 40, 36, 25, 30, 20, 5, 31, 27, 2, 15, 31, 14, 18, 29, 8, 17, 26, 11, 23, 34, 24, 5, 14, 10, 11, 17, 15, 4, 9, 5, 7, 26, 13, 9, 16, 15, 18, 10, 7, 7, 9, 18, 17, 11, 7, 9, 10, 5, 3, 1, 0, 20, 10, 16, 6, 13, 6, 8, 16, 13, 12, 29, 11, 2, 14, 19, 35, 43, 30, 17, 12, 2, 2, 7, 24, 24, 14, 4, 6, 7, 16, 22, 15, 17, 11, 3, 8, 11, 20, 27, 289, 44, 9, 14, 9, 11, 12, 11, 10, 15, 10, 22, 38, 18, 16, 7, 7, 466, 16, 16, 6, 9, 9, 16, 15, 14, 20, 8, 8, 27, 24, 15, 11, 4, 5, 23, 26, 5, 11, 13, 9, 9, 16, 18, 8, 9, 4, 9, 7, 18, 21, 16, 40, 10, 13, 19, 9, 11, 7, 8, 13, 6, 11, 44, 16, 14, 6, 5, 7, 11, 20, 22, 29, 28, 13, 10, 8, 14, 10, 14, 9, 8, 3, 4, 3, 8, 4, 24, 49, 20, 8, 15, 37, 15, 13, 22, 19, 14, 14, 23, 14, 11, 7, 31, 15, 7, 7, 2, 4, 14, 5, 43, 15, 0, 3, 19, 10, 38, 16, 9, 18, 8, 2, 7, 18, 6, 11, 23, 22, 11, 7, 5, 11, 6, 7, 10, 19, 63, 15, 14, 19, 5, 14, 7, 17, 8, 12, 13, 37, 33, 25, 24, 9, 12, 6, 8, 11, 7, 8, 57, 17, 9, 7, 3, 4, 15, 16, 8, 11, 10, 14, 17, 24, 43, 0, 6, 11, 6, 4, 19, 10, 18, 28, 13, 55, 32, 25, 10, 20, 33, 15, 31, 14, 19, 7, 9, 8, 8, 12, 4, 29, 5, 11, 7, 8, 20, 10, 45, 8, 18, 24, 8, 9, 9, 12, 6, 20, 20, 36, 11, 12, 25, 12, 8, 11, 5, 9, 21, 30, 10, 16, 41, 22, 11, 10, 20, 2, 4, 1, 23, 6, 7, 20, 17, 1, 22, 9, 6, 7, 21, 13, 11, 11, 13, 10, 30, 32, 20, 6, 8, 19, 10, 14, 9, 12, 8, 5, 53, 74, 68, 29, 20, 30, 23, 12, 25, 15, 22, 28, 5, 35, 25, 27, 32, 13, 17, 28, 27, 15, 18, 27, 13, 10, 8, 5, 14, 14, 8, 6, 5, 2, 11, 5, 53, 8, 7, 2, 4, 5, 2, 7, 21, 13, 5, 6, 9, 4, 5, 5, 7, 12, 6, 5, 4, 4, 5, 14, 26, 28, 9, 13, 7, 4, 2, 2, 4, 4, 5, 10, 9, 6, 3, 6, 9, 45, 10, 12, 5, 10, 24, 21, 9, 5, 17, 21, 54, 10, 12, 27, 21, 20, 4, 8, 23, 10, 7, 13, 17, 32, 11, 13, 11, 3, 19, 17, 20, 11, 15, 24, 75, 16, 22, 13, 20, 15, 19, 14, 37, 31, 15, 12, 11, 17, 27, 22, 17, 17, 11, 40, 9, 20, 14, 10, 14, 5, 3, 6, 10, 16, 12, 9, 9, 26, 15, 7, 4, 10, 8, 9, 6, 7, 38, 44, 19, 6, 16, 11, 11, 10, 11, 23, 30, 13, 14, 16, 9, 6, 2, 11, 16, 21, 12, 5, 14, 29, 39, 75, 34, 41, 18, 8, 10, 22, 9, 30, 13, 3, 6, 10, 9, 64, 35, 19, 26, 21, 37, 17, 29, 20, 17, 42, 20, 13, 10, 15, 34, 15, 31, 22, 16, 17, 14, 23, 29, 7, 12, 9, 8, 31, 10, 19, 16, 13, 14, 10, 16, 15, 16, 12, 7, 7, 3, 9, 7, 12, 13, 22, 16, 13, 8, 3, 10, 30, 6, 7, 7, 14, 12, 3, 13, 15, 16, 14, 17, 11, 11, 9, 25, 14, 5, 12, 26, 13, 4, 7, 4, 7, 29, 14, 4, 15, 3, 2, 3, 12, 12, 22, 11, 22, 14, 44, 14, 12, 14, 11, 3, 4, 7, 3, 7, 19, 10, 15, 9, 16, 6, 13, 17, 30, 10, 5, 4, 14, 20, 19, 13, 9, 6, 2, 6, 3, 5, 12, 8, 8, 7, 2, 3, 3, 8, 37, 6, 5, 12, 9, 15, 8, 8, 5, 12, 10, 29, 13, 21, 9, 23, 9, 8, 4, 4, 6, 6, 3, 3, 8, 15, 6, 23, 3, 4, 7, 19, 4, 9, 8, 10, 7, 25, 9, 3, 7, 4, 0, 4, 12, 2, 11, 17, 11, 3, 4, 3, 8, 30, 5, 11, 42, 11, 19, 26, 7, 12, 10, 11, 5, 11, 11, 2, 5, 4, 13, 8, 13, 18, 14, 50, 20, 18, 24, 10, 16, 27, 10, 20, 19, 13, 10, 7, 7, 3, 2, 9, 6, 0, 5, 4, 26, 10, 10, 12, 6, 9, 19, 3, 8, 29, 7, 6, 9, 6, 3, 10, 17, 11, 37, 14, 3, 2, 3, 7, 7, 2, 8, 11, 7, 26, 18, 9, 12, 8, 9, 49, 13, 21, 11, 11, 10, 4, 12, 6, 8, 10, 24, 29, 19, 25, 10, 38, 12, 61, 17, 14, 5, 10, 8, 14, 16, 9, 13, 2, 6, 5, 6, 13, 2, 6, 5, 18, 36, 26, 25, 35, 9, 9, 14, 11, 8, 11, 44, 26, 15, 15, 28, 10, 9, 11, 7, 16, 5, 13, 6, 12, 7, 3, 9, 52, 19, 10, 12, 23, 13, 10, 8, 5, 7, 14, 22, 15, 21, 10, 12, 8, 11, 10, 23, 54, 14, 12, 8, 9, 15, 15, 14, 15, 16, 31, 10, 8, 7, 9, 7, 5, 21, 3, 6, 10, 3, 10, 1, 4, 3, 4, 1, 8, 1, 6, 11, 5, 4, 16, 5, 6, 28, 8, 19, 9, 17, 21, 16, 4, 9, 4, 26, 27, 18, 6, 15, 13, 21, 18, 15, 19, 23, 14, 16, 31, 31, 21, 7, 10, 5, 5, 10, 15, 17, 6, 6, 2, 7, 4, 10, 20, 40, 21, 18, 36, 14, 26, 10, 9, 14, 7, 6, 12, 9, 15, 27, 21, 7, 12, 4, 71, 9, 8, 14, 5, 14, 14, 19, 32, 8, 5, 7, 4, 2, 2, 6, 10, 7, 8, 4, 4, 3, 7, 8, 6, 9, 9, 24, 11, 8, 5, 3, 5, 2, 7, 13, 21, 12, 8, 1, 5, 2, 5, 17, 21, 14, 16, 5, 2, 11, 9, 8, 7, 36, 22, 11, 7, 7, 10, 10, 9, 17, 3, 10, 4, 5, 4, 11, 3, 3, 2, 2, 5, 5, 11, 2, 6, 8, 6, 21, 10, 14, 6, 4, 4, 9, 8, 1, 9, 8, 6, 8, 3, 6, 2, 11, 4, 4, 6, 5, 11, 11, 6, 11, 7, 6, 5, 4, 8, 2, 4, 3, 1, 1, 1, 11, 5, 4, 0, 5, 2, 3, 4, 8, 10, 5, 6, 5, 6, 2, 6, 4, 8, 8, 19, 13, 12, 12, 4, 2, 4, 2, 4, 0, 5, 2, 12, 6, 18, 7, 12, 23, 6, 5, 22, 9, 11, 9, 18, 4, 6, 13, 10, 30, 22, 17, 30, 21, 17, 6, 19, 9, 7, 3, 17, 3, 6, 21, 14, 25, 11, 18, 15, 6, 10, 6, 7, 8, 5, 10, 20, 10, 7, 7, 8, 9, 5, 3, 5, 6, 5, 14, 23, 7, 7, 5, 12, 9, 19, 6, 12, 3, 2, 2, 3, 6, 2, 9, 9, 6, 3700, 63, 42, 21, 7, 15, 13, 13, 3, 12, 10, 4, 2, 3, 8, 3, 8, 11, 6, 17, 44, 15, 11, 2523, 497, 467, 110, 106, 359, 2656, 605, 246, 349, 299, 118, 169, 46, 43, 39, 24, 8, 15, 85, 51, 73, 64, 35, 28, 50, 14, 64, 153, 65, 59, 43, 34, 107, 26, 44, 15, 89, 15, 16, 13, 7, 5, 8, 8, 125, 29, 9, 41, 21, 35, 104, 35, 22, 11, 46, 15, 27, 28, 62, 13, 11, 3, 3, 0, 5, 11, 8, 12, 21, 32, 19, 20, 27, 17, 7, 7, 7, 26, 32, 26, 28, 38, 25, 32, 16, 13, 11, 34, 36, 13, 11, 26, 15, 26, 6, 13, 3, 9, 11, 5, 3, 16, 10, 7, 27, 3, 5, 8, 7, 4, 6, 13, 11, 3, 4, 1, 3, 6, 4, 8, 5, 6, 7, 16, 7, 11, 15, 5, 16, 10, 8, 4, 4, 8, 2, 3, 3, 5, 12, 17, 9, 23, 13, 7, 13, 12, 8, 26, 31, 9, 16, 22, 24, 14, 5, 4, 12, 6, 2, 6, 6, 1, 2, 4, 14, 11, 5, 17, 13, 14, 13, 10, 4, 8, 3, 5, 15, 8, 4, 0, 1, 3, 1, 2, 2, 6, 1, 0, 7, 6, 8, 7, 3, 6, 5, 4, 9, 8, 12, 25, 16, 10, 12, 5, 4, 3, 7, 1, 1, 3, 7, 8, 2, 8, 3, 3, 6, 8, 12, 3, 8, 6, 7, 4, 9, 6, 19, 6, 4, 6, 6, 1, 3, 1, 16, 7, 11, 2, 4, 2, 2, 15, 25, 11, 12, 12, 15, 8, 17, 21, 13, 6, 33, 12, 7, 4, 9, 5, 5, 4, 6, 8, 3, 6, 0, 2, 17, 18, 22, 26, 2, 12, 19, 16, 2, 3, 1, 3, 11, 11, 9, 2, 13, 13, 8, 5, 5, 0, 4, 7, 3, 4, 9, 7, 5, 19, 18, 10, 3, 3, 12, 4, 5, 6, 15, 19, 2, 4, 7, 3, 2, 6, 9, 1, 2, 6, 54, 57, 11, 19, 16, 14, 13, 14, 6, 10, 10, 5, 14, 20, 12, 6, 17, 10, 16, 19, 19, 28, 51, 16, 15, 34, 38, 10, 29, 68, 14, 21, 9, 9, 16, 5, 2, 15, 11, 5, 5, 1, 10, 16, 15, 14, 23, 17, 16, 16, 13, 10, 9, 7, 11, 8, 4, 5, 8, 3, 2, 20, 6, 5, 27, 11, 9, 5, 11, 6, 7, 11, 4, 18, 4, 4, 4, 33, 3, 3, 3, 4, 55, 11, 5, 6, 8, 7, 4, 4, 3, 2, 22, 12, 5, 8, 7, 2, 18, 16, 19, 9, 12, 8, 7, 9, 4, 1, 4, 8, 11, 8, 4, 6, 5, 3, 3, 2, 4, 13, 45, 7, 16, 13, 36, 66, 27, 39, 18, 2, 10, 7, 3, 6, 168, 74, 11, 6, 8, 10, 12, 14, 3, 8, 7, 5, 7, 14, 11, 7, 16, 3, 2, 1, 5, 7, 19, 15, 5, 2, 6, 7, 4, 6, 4, 3, 2, 4, 11, 6, 12, 20, 18, 8, 6, 3, 0, 0, 1, 16, 3, 2, 1, 9, 4, 5, 30, 11, 15, 7, 6, 9, 8, 12, 7, 40, 8, 12, 7, 8, 3, 6, 3, 7, 4, 7, 1, 4, 10, 7, 3, 1, 1, 1, 4, 2, 4, 2, 2, 2, 1, 9, 4, 1, 5, 15, 2, 2, 10, 14, 3, 1, 6, 2, 7, 6, 2, 4, 2, 2, 17, 10, 4, 3, 5, 8, 11, 0, 4, 2, 1, 6, 8, 7, 6, 8, 12, 3, 8, 13, 15, 14, 15, 16, 8, 18, 17, 16, 29, 19, 13, 21, 15, 15, 7, 3, 29, 6, 2, 6, 5, 4, 2, 2, 6, 9, 11, 17, 30, 9, 12, 15, 15, 14, 12, 13, 5, 2, 3, 8, 5, 3, 5, 30, 12, 4, 9, 14, 6, 10, 14, 12, 4, 3, 2, 13, 15, 9, 6, 13, 5, 0, 4, 1, 1, 6, 3, 3, 5, 3, 9, 25, 6, 1, 5, 9, 11, 14, 65, 21, 68, 72, 32, 72, 65, 16, 3, 7, 5, 1, 1, 4, 6, 3, 10, 2, 2, 5, 12, 9, 13, 3, 3, 0, 14, 5, 0, 9, 6, 6, 5, 4, 5, 2, 1, 3, 0, 1, 1, 15, 0, 4, 3, 5, 6, 10, 1, 7, 9, 5, 3, 2, 2, 2, 2, 3, 3, 7, 0, 3, 0, 2, 2, 0, 2, 2, 2, 17, 4, 7, 3, 4, 16, 4, 7, 1, 2, 1, 8, 10, 7, 2, 8, 24, 15, 8, 5, 14, 17, 17, 15, 10, 22, 16, 14, 38, 9, 7, 14, 16, 4, 7, 8, 8, 0, 3, 6, 5, 9, 29, 12, 4, 5, 18, 4, 11, 6, 5, 2, 9, 9, 10, 5, 5, 5, 8, 7, 6, 1, 0, 3, 8, 1, 3, 2, 2, 2, 4, 7, 5, 7, 11, 16, 4, 7, 8, 4, 19, 3, 28, 1, 4, 3, 4, 7, 5, 3, 0, 0, 0, 1, 1, 2, 0, 3, 2, 2, 1, 7, 11, 4, 3, 9, 8, 2, 8, 2, 1, 3, 1, 26, 7, 2, 9, 2, 1, 5, 5, 0, 0, 1, 2, 3, 1, 5, 7, 9, 2, 7, 0, 1, 1, 0, 2, 2, 1, 1, 1, 2, 2, 3, 4, 12, 3, 1, 2, 2, 4, 0, 2, 2, 1, 2, 2, 1, 0, 0, 1, 1, 2, 0, 2, 3, 2, 1, 1, 5, 2, 5, 3, 1, 1, 6, 1, 1, 4, 7, 9, 9, 4, 0, 9, 7, 3, 4, 4, 5, 10, 10, 18, 11, 5, 2, 16, 10, 14, 6, 15, 11, 21, 5, 2, 2, 1, 2, 2, 3, 3, 4, 6, 2, 3, 5, 5, 4, 3, 4, 17, 13, 6, 7, 1, 4, 6, 1, 4, 5, 0, 1, 3, 1, 1, 9, 0, 1, 3, 2, 3, 1, 7, 7, 7, 8, 8, 14, 4, 7, 3, 2, 18, 11, 3, 1, 6, 4, 3, 3, 2, 0, 1, 0, 3, 10, 8, 2, 0, 1, 2, 4, 1, 0, 5, 11, 7, 0, 1, 2, 10, 3, 6, 2, 1, 11, 1, 3, 5, 7, 5, 6, 4, 16, 20, 23, 12, 7, 5, 5, 5, 0, 1, 6, 6, 3, 10, 8, 8, 13, 6, 8, 7, 13, 8, 2, 6, 5, 4, 1, 5, 10, 4, 1, 2, 3, 7, 8, 2, 0, 12, 6, 8, 4, 3, 12, 10, 7, 9, 9, 13, 14, 4, 5, 2, 5, 2, 19, 6, 1, 5, 11, 16, 12, 14, 22, 10, 10, 22, 23, 12, 21, 11, 8, 10, 5, 3, 7, 16, 24, 9, 5, 9, 3, 8], \"xaxis\": \"x\", \"yaxis\": \"y\"}],\n",
       "                        {\"barmode\": \"relative\", \"legend\": {\"tracegroupgap\": 0}, \"margin\": {\"t\": 60}, \"template\": {\"data\": {\"bar\": [{\"error_x\": {\"color\": \"#2a3f5f\"}, \"error_y\": {\"color\": \"#2a3f5f\"}, \"marker\": {\"line\": {\"color\": \"#E5ECF6\", \"width\": 0.5}}, \"type\": \"bar\"}], \"barpolar\": [{\"marker\": {\"line\": {\"color\": \"#E5ECF6\", \"width\": 0.5}}, \"type\": \"barpolar\"}], \"carpet\": [{\"aaxis\": {\"endlinecolor\": \"#2a3f5f\", \"gridcolor\": \"white\", \"linecolor\": \"white\", \"minorgridcolor\": \"white\", \"startlinecolor\": \"#2a3f5f\"}, \"baxis\": {\"endlinecolor\": \"#2a3f5f\", \"gridcolor\": \"white\", \"linecolor\": \"white\", \"minorgridcolor\": \"white\", \"startlinecolor\": \"#2a3f5f\"}, \"type\": \"carpet\"}], \"choropleth\": [{\"colorbar\": {\"outlinewidth\": 0, \"ticks\": \"\"}, \"type\": \"choropleth\"}], \"contour\": [{\"colorbar\": {\"outlinewidth\": 0, \"ticks\": \"\"}, \"colorscale\": [[0.0, \"#0d0887\"], [0.1111111111111111, \"#46039f\"], [0.2222222222222222, \"#7201a8\"], [0.3333333333333333, \"#9c179e\"], [0.4444444444444444, \"#bd3786\"], [0.5555555555555556, \"#d8576b\"], [0.6666666666666666, \"#ed7953\"], [0.7777777777777778, \"#fb9f3a\"], [0.8888888888888888, \"#fdca26\"], [1.0, \"#f0f921\"]], \"type\": \"contour\"}], \"contourcarpet\": [{\"colorbar\": {\"outlinewidth\": 0, \"ticks\": \"\"}, \"type\": \"contourcarpet\"}], \"heatmap\": [{\"colorbar\": {\"outlinewidth\": 0, \"ticks\": \"\"}, \"colorscale\": [[0.0, \"#0d0887\"], [0.1111111111111111, \"#46039f\"], [0.2222222222222222, \"#7201a8\"], [0.3333333333333333, \"#9c179e\"], [0.4444444444444444, \"#bd3786\"], [0.5555555555555556, \"#d8576b\"], [0.6666666666666666, \"#ed7953\"], [0.7777777777777778, \"#fb9f3a\"], [0.8888888888888888, \"#fdca26\"], [1.0, \"#f0f921\"]], \"type\": \"heatmap\"}], \"heatmapgl\": [{\"colorbar\": {\"outlinewidth\": 0, \"ticks\": \"\"}, \"colorscale\": [[0.0, \"#0d0887\"], [0.1111111111111111, \"#46039f\"], [0.2222222222222222, \"#7201a8\"], [0.3333333333333333, \"#9c179e\"], [0.4444444444444444, \"#bd3786\"], [0.5555555555555556, \"#d8576b\"], [0.6666666666666666, \"#ed7953\"], [0.7777777777777778, \"#fb9f3a\"], [0.8888888888888888, \"#fdca26\"], [1.0, \"#f0f921\"]], \"type\": \"heatmapgl\"}], \"histogram\": [{\"marker\": {\"colorbar\": {\"outlinewidth\": 0, \"ticks\": \"\"}}, \"type\": \"histogram\"}], \"histogram2d\": [{\"colorbar\": {\"outlinewidth\": 0, \"ticks\": \"\"}, \"colorscale\": [[0.0, \"#0d0887\"], [0.1111111111111111, \"#46039f\"], [0.2222222222222222, \"#7201a8\"], [0.3333333333333333, \"#9c179e\"], [0.4444444444444444, \"#bd3786\"], [0.5555555555555556, \"#d8576b\"], [0.6666666666666666, \"#ed7953\"], [0.7777777777777778, \"#fb9f3a\"], [0.8888888888888888, \"#fdca26\"], [1.0, \"#f0f921\"]], \"type\": \"histogram2d\"}], \"histogram2dcontour\": [{\"colorbar\": {\"outlinewidth\": 0, \"ticks\": \"\"}, \"colorscale\": [[0.0, \"#0d0887\"], [0.1111111111111111, \"#46039f\"], [0.2222222222222222, \"#7201a8\"], [0.3333333333333333, \"#9c179e\"], [0.4444444444444444, \"#bd3786\"], [0.5555555555555556, \"#d8576b\"], [0.6666666666666666, \"#ed7953\"], [0.7777777777777778, \"#fb9f3a\"], [0.8888888888888888, \"#fdca26\"], [1.0, \"#f0f921\"]], \"type\": \"histogram2dcontour\"}], \"mesh3d\": [{\"colorbar\": {\"outlinewidth\": 0, \"ticks\": \"\"}, \"type\": \"mesh3d\"}], \"parcoords\": [{\"line\": {\"colorbar\": {\"outlinewidth\": 0, \"ticks\": \"\"}}, \"type\": \"parcoords\"}], \"pie\": [{\"automargin\": true, \"type\": \"pie\"}], \"scatter\": [{\"marker\": {\"colorbar\": {\"outlinewidth\": 0, \"ticks\": \"\"}}, \"type\": \"scatter\"}], \"scatter3d\": [{\"line\": {\"colorbar\": {\"outlinewidth\": 0, \"ticks\": \"\"}}, \"marker\": {\"colorbar\": {\"outlinewidth\": 0, \"ticks\": \"\"}}, \"type\": \"scatter3d\"}], \"scattercarpet\": [{\"marker\": {\"colorbar\": {\"outlinewidth\": 0, \"ticks\": \"\"}}, \"type\": \"scattercarpet\"}], \"scattergeo\": [{\"marker\": {\"colorbar\": {\"outlinewidth\": 0, \"ticks\": \"\"}}, \"type\": \"scattergeo\"}], \"scattergl\": [{\"marker\": {\"colorbar\": {\"outlinewidth\": 0, \"ticks\": \"\"}}, \"type\": \"scattergl\"}], \"scattermapbox\": [{\"marker\": {\"colorbar\": {\"outlinewidth\": 0, \"ticks\": \"\"}}, \"type\": \"scattermapbox\"}], \"scatterpolar\": [{\"marker\": {\"colorbar\": {\"outlinewidth\": 0, \"ticks\": \"\"}}, \"type\": \"scatterpolar\"}], \"scatterpolargl\": [{\"marker\": {\"colorbar\": {\"outlinewidth\": 0, \"ticks\": \"\"}}, \"type\": \"scatterpolargl\"}], \"scatterternary\": [{\"marker\": {\"colorbar\": {\"outlinewidth\": 0, \"ticks\": \"\"}}, \"type\": \"scatterternary\"}], \"surface\": [{\"colorbar\": {\"outlinewidth\": 0, \"ticks\": \"\"}, \"colorscale\": [[0.0, \"#0d0887\"], [0.1111111111111111, \"#46039f\"], [0.2222222222222222, \"#7201a8\"], [0.3333333333333333, \"#9c179e\"], [0.4444444444444444, \"#bd3786\"], [0.5555555555555556, \"#d8576b\"], [0.6666666666666666, \"#ed7953\"], [0.7777777777777778, \"#fb9f3a\"], [0.8888888888888888, \"#fdca26\"], [1.0, \"#f0f921\"]], \"type\": \"surface\"}], \"table\": [{\"cells\": {\"fill\": {\"color\": \"#EBF0F8\"}, \"line\": {\"color\": \"white\"}}, \"header\": {\"fill\": {\"color\": \"#C8D4E3\"}, \"line\": {\"color\": \"white\"}}, \"type\": \"table\"}]}, \"layout\": {\"annotationdefaults\": {\"arrowcolor\": \"#2a3f5f\", \"arrowhead\": 0, \"arrowwidth\": 1}, \"coloraxis\": {\"colorbar\": {\"outlinewidth\": 0, \"ticks\": \"\"}}, \"colorscale\": {\"diverging\": [[0, \"#8e0152\"], [0.1, \"#c51b7d\"], [0.2, \"#de77ae\"], [0.3, \"#f1b6da\"], [0.4, \"#fde0ef\"], [0.5, \"#f7f7f7\"], [0.6, \"#e6f5d0\"], [0.7, \"#b8e186\"], [0.8, \"#7fbc41\"], [0.9, \"#4d9221\"], [1, \"#276419\"]], \"sequential\": [[0.0, \"#0d0887\"], [0.1111111111111111, \"#46039f\"], [0.2222222222222222, \"#7201a8\"], [0.3333333333333333, \"#9c179e\"], [0.4444444444444444, \"#bd3786\"], [0.5555555555555556, \"#d8576b\"], [0.6666666666666666, \"#ed7953\"], [0.7777777777777778, \"#fb9f3a\"], [0.8888888888888888, \"#fdca26\"], [1.0, \"#f0f921\"]], \"sequentialminus\": [[0.0, \"#0d0887\"], [0.1111111111111111, \"#46039f\"], [0.2222222222222222, \"#7201a8\"], [0.3333333333333333, \"#9c179e\"], [0.4444444444444444, \"#bd3786\"], [0.5555555555555556, \"#d8576b\"], [0.6666666666666666, \"#ed7953\"], [0.7777777777777778, \"#fb9f3a\"], [0.8888888888888888, \"#fdca26\"], [1.0, \"#f0f921\"]]}, \"colorway\": [\"#636efa\", \"#EF553B\", \"#00cc96\", \"#ab63fa\", \"#FFA15A\", \"#19d3f3\", \"#FF6692\", \"#B6E880\", \"#FF97FF\", \"#FECB52\"], \"font\": {\"color\": \"#2a3f5f\"}, \"geo\": {\"bgcolor\": \"white\", \"lakecolor\": \"white\", \"landcolor\": \"#E5ECF6\", \"showlakes\": true, \"showland\": true, \"subunitcolor\": \"white\"}, \"hoverlabel\": {\"align\": \"left\"}, \"hovermode\": \"closest\", \"mapbox\": {\"style\": \"light\"}, \"paper_bgcolor\": \"white\", \"plot_bgcolor\": \"#E5ECF6\", \"polar\": {\"angularaxis\": {\"gridcolor\": \"white\", \"linecolor\": \"white\", \"ticks\": \"\"}, \"bgcolor\": \"#E5ECF6\", \"radialaxis\": {\"gridcolor\": \"white\", \"linecolor\": \"white\", \"ticks\": \"\"}}, \"scene\": {\"xaxis\": {\"backgroundcolor\": \"#E5ECF6\", \"gridcolor\": \"white\", \"gridwidth\": 2, \"linecolor\": \"white\", \"showbackground\": true, \"ticks\": \"\", \"zerolinecolor\": \"white\"}, \"yaxis\": {\"backgroundcolor\": \"#E5ECF6\", \"gridcolor\": \"white\", \"gridwidth\": 2, \"linecolor\": \"white\", \"showbackground\": true, \"ticks\": \"\", \"zerolinecolor\": \"white\"}, \"zaxis\": {\"backgroundcolor\": \"#E5ECF6\", \"gridcolor\": \"white\", \"gridwidth\": 2, \"linecolor\": \"white\", \"showbackground\": true, \"ticks\": \"\", \"zerolinecolor\": \"white\"}}, \"shapedefaults\": {\"line\": {\"color\": \"#2a3f5f\"}}, \"ternary\": {\"aaxis\": {\"gridcolor\": \"white\", \"linecolor\": \"white\", \"ticks\": \"\"}, \"baxis\": {\"gridcolor\": \"white\", \"linecolor\": \"white\", \"ticks\": \"\"}, \"bgcolor\": \"#E5ECF6\", \"caxis\": {\"gridcolor\": \"white\", \"linecolor\": \"white\", \"ticks\": \"\"}}, \"title\": {\"x\": 0.05}, \"xaxis\": {\"automargin\": true, \"gridcolor\": \"white\", \"linecolor\": \"white\", \"ticks\": \"\", \"title\": {\"standoff\": 15}, \"zerolinecolor\": \"white\", \"zerolinewidth\": 2}, \"yaxis\": {\"automargin\": true, \"gridcolor\": \"white\", \"linecolor\": \"white\", \"ticks\": \"\", \"title\": {\"standoff\": 15}, \"zerolinecolor\": \"white\", \"zerolinewidth\": 2}}}, \"xaxis\": {\"anchor\": \"y\", \"domain\": [0.0, 1.0], \"title\": {\"text\": \"x\"}}, \"yaxis\": {\"anchor\": \"x\", \"domain\": [0.0, 1.0], \"title\": {\"text\": \"count\"}}},\n",
       "                        {\"responsive\": true}\n",
       "                    ).then(function(){\n",
       "                            \n",
       "var gd = document.getElementById('dc6dcd79-33b1-452f-a59a-624511725a50');\n",
       "var x = new MutationObserver(function (mutations, observer) {{\n",
       "        var display = window.getComputedStyle(gd).display;\n",
       "        if (!display || display === 'none') {{\n",
       "            console.log([gd, 'removed!']);\n",
       "            Plotly.purge(gd);\n",
       "            observer.disconnect();\n",
       "        }}\n",
       "}});\n",
       "\n",
       "// Listen for the removal of the full notebook cells\n",
       "var notebookContainer = gd.closest('#notebook-container');\n",
       "if (notebookContainer) {{\n",
       "    x.observe(notebookContainer, {childList: true});\n",
       "}}\n",
       "\n",
       "// Listen for the clearing of the current output cell\n",
       "var outputEl = gd.closest('.output');\n",
       "if (outputEl) {{\n",
       "    x.observe(outputEl, {childList: true});\n",
       "}}\n",
       "\n",
       "                        })\n",
       "                };\n",
       "                });\n",
       "            </script>\n",
       "        </div>"
      ]
     },
     "metadata": {},
     "output_type": "display_data"
    },
    {
     "name": "stdout",
     "output_type": "stream",
     "text": [
      "CPU times: user 7.43 s, sys: 15.9 ms, total: 7.44 s\n",
      "Wall time: 7.46 s\n"
     ]
    }
   ],
   "source": [
    "%%time\n",
    "plot_histogram_transactions('FETCH', 'h')"
   ]
  },
  {
   "cell_type": "markdown",
   "metadata": {},
   "source": [
    "## 4. Autocorrelation\n",
    "https://www.statology.org/autocorrelation-python/"
   ]
  },
  {
   "cell_type": "code",
   "execution_count": 5,
   "metadata": {},
   "outputs": [],
   "source": [
    "path_to_csvs = '/home/gabriel/Documents/Repos/time_series_study/data_and_models/all_icos/'\n",
    "list_icos = df_info.index.to_list()"
   ]
  },
  {
   "cell_type": "code",
   "execution_count": 14,
   "metadata": {},
   "outputs": [],
   "source": [
    "import statsmodels.api as sm\n",
    "from statsmodels.graphics import tsaplots\n",
    "import matplotlib.pyplot as plt"
   ]
  },
  {
   "cell_type": "code",
   "execution_count": 27,
   "metadata": {},
   "outputs": [],
   "source": [
    "def plot_autocorrelation(ico, file_name, title='Autocorrelação'):\n",
    "    ico_csv= f'{path_to_csvs}{ico}.csv'\n",
    "    market_start_date = str(df_info.at[ ico, 'market_start_date'].date())\n",
    "    is_fraud = df_info.at[ ico, 'fraud']\n",
    "    ico_parser = ICOParser(ico_csv,\n",
    "                         date_column='BLOCK_TIMESTAMP',\n",
    "                         value_column='VALUE',\n",
    "                         ico_start_date=market_start_date, \n",
    "                         fraud_flag=is_fraud,\n",
    "                              len_time_series=60)\n",
    "    ico_parser.get_array_autocorrelation_transactions(nlags=60)\n",
    "    \n",
    "    # plot autocorrelation function\n",
    "    fig = tsaplots.plot_acf(ico_parser.array_autocorrelation_transactions, lags=50)\n",
    "    plt.title(title)\n",
    "    fig.show()\n",
    "    fig.savefig(file_name, dpi=300)"
   ]
  },
  {
   "cell_type": "code",
   "execution_count": 28,
   "metadata": {},
   "outputs": [
    {
     "name": "stderr",
     "output_type": "stream",
     "text": [
      "/home/gabriel/miniconda3/envs/deeplearning/lib/python3.7/site-packages/statsmodels/tsa/stattools.py:669: FutureWarning: fft=True will become the default after the release of the 0.12 release of statsmodels. To suppress this warning, explicitly set fft=False.\n",
      "  FutureWarning,\n",
      "/home/gabriel/miniconda3/envs/deeplearning/lib/python3.7/site-packages/ipykernel_launcher.py:16: UserWarning: Matplotlib is currently using module://ipykernel.pylab.backend_inline, which is a non-GUI backend, so cannot show the figure.\n",
      "  app.launch_new_instance()\n"
     ]
    },
    {
     "data": {
      "image/png": "[encoded data removed]",
      "text/plain": [
       "<Figure size 432x288 with 1 Axes>"
      ]
     },
     "metadata": {
      "needs_background": "light"
     },
     "output_type": "display_data"
    }
   ],
   "source": [
    "plot_autocorrelation('AMPLEFORTH', 'autocorr_ampleforth.png', title='Autocorrelação AMPLEFORTH')"
   ]
  }
 ],
 "metadata": {
  "kernelspec": {
   "display_name": "time_series",
   "language": "python",
   "name": "time_series"
  },
  "language_info": {
   "codemirror_mode": {
    "name": "ipython",
    "version": 3
   },
   "file_extension": ".py",
   "mimetype": "text/x-python",
   "name": "python",
   "nbconvert_exporter": "python",
   "pygments_lexer": "ipython3",
   "version": "3.8.3"
  }
 },
 "nbformat": 4,
 "nbformat_minor": 4
}
