{
 "cells": [
  {
   "cell_type": "markdown",
   "metadata": {},
   "source": [
    "# Results for NeuralNetworks using Series of size 60\n",
    "\n",
    "## Objective\n",
    "\n",
    "## Steps"
   ]
  },
  {
   "cell_type": "markdown",
   "metadata": {},
   "source": [
    "## 1. File with information about ICO"
   ]
  },
  {
   "cell_type": "code",
   "execution_count": 3,
   "metadata": {},
   "outputs": [],
   "source": [
    "import pandas as pd\n",
    "import os\n",
    "import re\n",
    "import pytz\n",
    "from datetime import datetime, timedelta\n",
    "import pickle"
   ]
  },
  {
   "cell_type": "code",
   "execution_count": 4,
   "metadata": {},
   "outputs": [],
   "source": [
    "df_info = pd.read_csv('lista_ico_2020-08-17_tab3.csv', sep=',')"
   ]
  },
  {
   "cell_type": "code",
   "execution_count": 5,
   "metadata": {},
   "outputs": [
    {
     "data": {
      "text/html": [
       "<div>\n",
       "<style scoped>\n",
       "    .dataframe tbody tr th:only-of-type {\n",
       "        vertical-align: middle;\n",
       "    }\n",
       "\n",
       "    .dataframe tbody tr th {\n",
       "        vertical-align: top;\n",
       "    }\n",
       "\n",
       "    .dataframe thead th {\n",
       "        text-align: right;\n",
       "    }\n",
       "</style>\n",
       "<table border=\"1\" class=\"dataframe\">\n",
       "  <thead>\n",
       "    <tr style=\"text-align: right;\">\n",
       "      <th></th>\n",
       "      <th>ico</th>\n",
       "      <th>adress</th>\n",
       "      <th>fraud</th>\n",
       "      <th>start_date</th>\n",
       "      <th>market_start_date</th>\n",
       "      <th>diff_days</th>\n",
       "      <th>market_days</th>\n",
       "      <th>size_ok</th>\n",
       "      <th>price</th>\n",
       "      <th>market_cap</th>\n",
       "      <th>o_concur</th>\n",
       "      <th>biggest_holder</th>\n",
       "      <th>exchange</th>\n",
       "      <th>contract</th>\n",
       "      <th>date_analysis</th>\n",
       "      <th>code</th>\n",
       "      <th>site</th>\n",
       "      <th>social_media</th>\n",
       "    </tr>\n",
       "  </thead>\n",
       "  <tbody>\n",
       "    <tr>\n",
       "      <th>0</th>\n",
       "      <td>0X</td>\n",
       "      <td>0xe41d2489571d322189246dafa5ebde1f4699f498</td>\n",
       "      <td>0</td>\n",
       "      <td>2017-08-11</td>\n",
       "      <td>2017-08-15</td>\n",
       "      <td>4</td>\n",
       "      <td>1124</td>\n",
       "      <td>NaN</td>\n",
       "      <td>NaN</td>\n",
       "      <td>45.0</td>\n",
       "      <td>x</td>\n",
       "      <td>2</td>\n",
       "      <td>6</td>\n",
       "      <td>14</td>\n",
       "      <td>2018-02-11</td>\n",
       "      <td>NaN</td>\n",
       "      <td>NaN</td>\n",
       "      <td>NaN</td>\n",
       "    </tr>\n",
       "    <tr>\n",
       "      <th>1</th>\n",
       "      <td>0XCERT</td>\n",
       "      <td>0x83e2be8d114f9661221384b3a50d24b96a5653f5</td>\n",
       "      <td>1</td>\n",
       "      <td>2018-06-26</td>\n",
       "      <td>2018-07-11</td>\n",
       "      <td>15</td>\n",
       "      <td>794</td>\n",
       "      <td>x</td>\n",
       "      <td>NaN</td>\n",
       "      <td>NaN</td>\n",
       "      <td>NaN</td>\n",
       "      <td>12</td>\n",
       "      <td>2</td>\n",
       "      <td>0</td>\n",
       "      <td>2019-01-07</td>\n",
       "      <td>x</td>\n",
       "      <td>x</td>\n",
       "      <td>x</td>\n",
       "    </tr>\n",
       "    <tr>\n",
       "      <th>2</th>\n",
       "      <td>4NEW</td>\n",
       "      <td>0x241ba672574a78a3a604cdd0a94429a73a84a324</td>\n",
       "      <td>1</td>\n",
       "      <td>2018-08-20</td>\n",
       "      <td>2018-08-20</td>\n",
       "      <td>0</td>\n",
       "      <td>754</td>\n",
       "      <td>x</td>\n",
       "      <td>NaN</td>\n",
       "      <td>NaN</td>\n",
       "      <td>NaN</td>\n",
       "      <td>50</td>\n",
       "      <td>7</td>\n",
       "      <td>0</td>\n",
       "      <td>2019-02-16</td>\n",
       "      <td>x</td>\n",
       "      <td>NaN</td>\n",
       "      <td>NaN</td>\n",
       "    </tr>\n",
       "    <tr>\n",
       "      <th>3</th>\n",
       "      <td>ABULABA</td>\n",
       "      <td>0xd938137e6d96c72e4a6085412ada2dad78ff89c4</td>\n",
       "      <td>1</td>\n",
       "      <td>2018-04-19</td>\n",
       "      <td>2018-12-16</td>\n",
       "      <td>241</td>\n",
       "      <td>636</td>\n",
       "      <td>NaN</td>\n",
       "      <td>x</td>\n",
       "      <td>NaN</td>\n",
       "      <td>NaN</td>\n",
       "      <td>13</td>\n",
       "      <td>7</td>\n",
       "      <td>41</td>\n",
       "      <td>2019-06-14</td>\n",
       "      <td>x</td>\n",
       "      <td>NaN</td>\n",
       "      <td>NaN</td>\n",
       "    </tr>\n",
       "    <tr>\n",
       "      <th>4</th>\n",
       "      <td>AELF</td>\n",
       "      <td>0xbf2179859fc6d5bee9bf9158632dc51678a4100e</td>\n",
       "      <td>0</td>\n",
       "      <td>2017-12-18</td>\n",
       "      <td>2017-12-21</td>\n",
       "      <td>3</td>\n",
       "      <td>996</td>\n",
       "      <td>NaN</td>\n",
       "      <td>NaN</td>\n",
       "      <td>154.0</td>\n",
       "      <td>x</td>\n",
       "      <td>13</td>\n",
       "      <td>10</td>\n",
       "      <td>0</td>\n",
       "      <td>2018-06-19</td>\n",
       "      <td>NaN</td>\n",
       "      <td>NaN</td>\n",
       "      <td>NaN</td>\n",
       "    </tr>\n",
       "  </tbody>\n",
       "</table>\n",
       "</div>"
      ],
      "text/plain": [
       "       ico                                      adress  fraud  start_date  \\\n",
       "0       0X  0xe41d2489571d322189246dafa5ebde1f4699f498      0  2017-08-11   \n",
       "1   0XCERT  0x83e2be8d114f9661221384b3a50d24b96a5653f5      1  2018-06-26   \n",
       "2     4NEW  0x241ba672574a78a3a604cdd0a94429a73a84a324      1  2018-08-20   \n",
       "3  ABULABA  0xd938137e6d96c72e4a6085412ada2dad78ff89c4      1  2018-04-19   \n",
       "4     AELF  0xbf2179859fc6d5bee9bf9158632dc51678a4100e      0  2017-12-18   \n",
       "\n",
       "  market_start_date  diff_days  market_days size_ok price  market_cap  \\\n",
       "0        2017-08-15          4         1124     NaN   NaN        45.0   \n",
       "1        2018-07-11         15          794       x   NaN         NaN   \n",
       "2        2018-08-20          0          754       x   NaN         NaN   \n",
       "3        2018-12-16        241          636     NaN     x         NaN   \n",
       "4        2017-12-21          3          996     NaN   NaN       154.0   \n",
       "\n",
       "  o_concur  biggest_holder  exchange  contract date_analysis code site  \\\n",
       "0        x               2         6        14    2018-02-11  NaN  NaN   \n",
       "1      NaN              12         2         0    2019-01-07    x    x   \n",
       "2      NaN              50         7         0    2019-02-16    x  NaN   \n",
       "3      NaN              13         7        41    2019-06-14    x  NaN   \n",
       "4        x              13        10         0    2018-06-19  NaN  NaN   \n",
       "\n",
       "  social_media  \n",
       "0          NaN  \n",
       "1            x  \n",
       "2          NaN  \n",
       "3          NaN  \n",
       "4          NaN  "
      ]
     },
     "execution_count": 5,
     "metadata": {},
     "output_type": "execute_result"
    }
   ],
   "source": [
    "df_info.head()"
   ]
  },
  {
   "cell_type": "markdown",
   "metadata": {},
   "source": [
    "## 3. Load data from .py file"
   ]
  },
  {
   "cell_type": "code",
   "execution_count": 6,
   "metadata": {},
   "outputs": [],
   "source": [
    "with open('dict_arrays_length60.pickle','rb') as pickle_file:\n",
    "    dict_ico_len_60 = pickle.load(pickle_file) "
   ]
  },
  {
   "cell_type": "code",
   "execution_count": 8,
   "metadata": {},
   "outputs": [
    {
     "data": {
      "text/plain": [
       "('array_daily_transactions',\n",
       " 'array_perc_new_holders',\n",
       " 'array_biggest_holder',\n",
       " 'array_newbiers',\n",
       " 'array_gas_ratio',\n",
       " 'array_daily_transactions_ma',\n",
       " 'array_perc_new_holders_ma',\n",
       " 'array_biggest_holder_ma',\n",
       " 'array_newbiers_ma',\n",
       " 'array_gas_ratio_ma')"
      ]
     },
     "execution_count": 8,
     "metadata": {},
     "output_type": "execute_result"
    }
   ],
   "source": [
    "dict_ico_len_60.get('arrays')"
   ]
  },
  {
   "cell_type": "code",
   "execution_count": 9,
   "metadata": {},
   "outputs": [
    {
     "data": {
      "text/plain": [
       "('array_daily_transactions',\n",
       " 'array_perc_new_holders',\n",
       " 'array_biggest_holder',\n",
       " 'array_newbiers',\n",
       " 'array_gas_ratio',\n",
       " 'array_daily_transactions_ma',\n",
       " 'array_perc_new_holders_ma',\n",
       " 'array_biggest_holder_ma',\n",
       " 'array_newbiers_ma',\n",
       " 'array_gas_ratio_ma')"
      ]
     },
     "execution_count": 9,
     "metadata": {},
     "output_type": "execute_result"
    }
   ],
   "source": [
    "dict_ico_len_60.pop('arrays')"
   ]
  },
  {
   "cell_type": "markdown",
   "metadata": {},
   "source": [
    "## 4. Filter data for size equals to 60"
   ]
  },
  {
   "cell_type": "code",
   "execution_count": 10,
   "metadata": {},
   "outputs": [],
   "source": [
    "dict_perc_transactions = {k:v[0] for k,v in dict_ico_len_60.items() if len(v[0]) == 60}\n",
    "dict_perc_new_holders = {k:v[1] for k,v in dict_ico_len_60.items() if len(v[1]) == 60}\n",
    "dict_perc_big_holder = {k:v[2] for k,v in dict_ico_len_60.items() if len(v[2]) == 60}\n",
    "dict_perc_newbiers = {k:v[3] for k,v in dict_ico_len_60.items() if len(v[3]) == 60}\n",
    "dict_gas_ratio = {k:v[4] for k,v in dict_ico_len_60.items() if len(v[4]) == 60}\n",
    "dict_perc_transactions_ma = {k:v[5] for k,v in dict_ico_len_60.items() if len(v[5]) == 60}\n",
    "dict_perc_new_holders_ma = {k:v[6] for k,v in dict_ico_len_60.items() if len(v[6]) == 60}\n",
    "dict_perc_big_holder_ma = {k:v[7] for k,v in dict_ico_len_60.items() if len(v[7]) == 60}\n",
    "dict_perc_newbiers_ma = {k:v[8] for k,v in dict_ico_len_60.items() if len(v[8]) == 60}\n",
    "dict_gas_ratio_ma = {k:v[9] for k,v in dict_ico_len_60.items() if len(v[9]) == 60}"
   ]
  },
  {
   "cell_type": "code",
   "execution_count": 11,
   "metadata": {},
   "outputs": [],
   "source": [
    "df_transactions = pd.DataFrame(dict_perc_transactions).T\n",
    "df_new_holders = pd.DataFrame(dict_perc_new_holders).T\n",
    "df_big_holder = pd.DataFrame(dict_perc_big_holder).T\n",
    "df_newbiers = pd.DataFrame(dict_perc_newbiers).T\n",
    "df_gasratio = pd.DataFrame(dict_gas_ratio).T\n",
    "df_transactions_ma = pd.DataFrame(dict_perc_transactions_ma).T\n",
    "df_new_holders_ma = pd.DataFrame(dict_perc_new_holders_ma).T\n",
    "df_big_holder_ma = pd.DataFrame(dict_perc_big_holder_ma).T\n",
    "df_newbiers_ma = pd.DataFrame(dict_perc_newbiers_ma).T\n",
    "df_gasratio_ma = pd.DataFrame(dict_gas_ratio_ma).T"
   ]
  },
  {
   "cell_type": "code",
   "execution_count": 12,
   "metadata": {},
   "outputs": [
    {
     "name": "stdout",
     "output_type": "stream",
     "text": [
      "(235, 60)\n",
      "(235, 60)\n",
      "(235, 60)\n",
      "(235, 60)\n",
      "(219, 60)\n",
      "(235, 60)\n",
      "(235, 60)\n",
      "(235, 60)\n",
      "(235, 60)\n",
      "(219, 60)\n"
     ]
    }
   ],
   "source": [
    "print(df_transactions.shape)\n",
    "print(df_new_holders.shape)\n",
    "print(df_big_holder.shape)\n",
    "print(df_newbiers.shape)\n",
    "print(df_gasratio.shape)\n",
    "print(df_transactions_ma.shape)\n",
    "print(df_new_holders_ma.shape)\n",
    "print(df_big_holder_ma.shape)\n",
    "print(df_newbiers.shape)\n",
    "print(df_gasratio_ma.shape)"
   ]
  },
  {
   "cell_type": "markdown",
   "metadata": {},
   "source": [
    "## 5. Dataset for training"
   ]
  },
  {
   "cell_type": "markdown",
   "metadata": {},
   "source": [
    "### 5.1. Regular Series"
   ]
  },
  {
   "cell_type": "code",
   "execution_count": 13,
   "metadata": {},
   "outputs": [],
   "source": [
    "df_training_transactions = df_transactions.merge(df_info[['ico','fraud']], left_index=True, right_on='ico')\n",
    "df_training_transactions.set_index('ico', inplace=True)\n",
    "\n",
    "df_training_new_holders = df_new_holders.merge(df_info[['ico','fraud']], left_index=True, right_on='ico')\n",
    "df_training_new_holders.set_index('ico', inplace=True)\n",
    "\n",
    "df_training_big_holder = df_big_holder.merge(df_info[['ico','fraud']], left_index=True, right_on='ico')\n",
    "df_training_big_holder.set_index('ico', inplace=True)\n",
    "\n",
    "df_training_newbiers = df_newbiers.merge(df_info[['ico','fraud']], left_index=True, right_on='ico')\n",
    "df_training_newbiers.set_index('ico', inplace=True)\n",
    "\n",
    "df_training_gasratio = df_gasratio.merge(df_info[['ico','fraud']], left_index=True, right_on='ico')\n",
    "df_training_gasratio.set_index('ico', inplace=True)"
   ]
  },
  {
   "cell_type": "markdown",
   "metadata": {},
   "source": [
    "### 5.2. Moving Average"
   ]
  },
  {
   "cell_type": "code",
   "execution_count": 14,
   "metadata": {},
   "outputs": [],
   "source": [
    "df_training_transactions_ma = df_transactions_ma.merge(df_info[['ico','fraud']], left_index=True, right_on='ico')\n",
    "df_training_transactions_ma.set_index('ico', inplace=True)\n",
    "\n",
    "df_training_new_holders_ma = df_new_holders_ma.merge(df_info[['ico','fraud']], left_index=True, right_on='ico')\n",
    "df_training_new_holders_ma.set_index('ico', inplace=True)\n",
    "\n",
    "df_training_big_holder_ma = df_big_holder_ma.merge(df_info[['ico','fraud']], left_index=True, right_on='ico')\n",
    "df_training_big_holder_ma.set_index('ico', inplace=True)\n",
    "\n",
    "df_training_newbiers_ma = df_newbiers_ma.merge(df_info[['ico','fraud']], left_index=True, right_on='ico')\n",
    "df_training_newbiers_ma.set_index('ico', inplace=True)\n",
    "\n",
    "df_training_gasratio_ma = df_gasratio_ma.merge(df_info[['ico','fraud']], left_index=True, right_on='ico')\n",
    "df_training_gasratio_ma.set_index('ico', inplace=True)"
   ]
  },
  {
   "cell_type": "code",
   "execution_count": 15,
   "metadata": {},
   "outputs": [
    {
     "name": "stdout",
     "output_type": "stream",
     "text": [
      "(235, 61)\n",
      "(235, 61)\n",
      "(235, 61)\n",
      "(235, 61)\n",
      "(219, 61)\n"
     ]
    }
   ],
   "source": [
    "print(df_training_transactions_ma.shape)\n",
    "print(df_training_new_holders_ma.shape)\n",
    "print(df_training_big_holder_ma.shape)\n",
    "print(df_training_newbiers_ma.shape)\n",
    "print(df_training_gasratio_ma.shape)"
   ]
  },
  {
   "cell_type": "markdown",
   "metadata": {},
   "source": [
    "## 5. Training Neuralnets"
   ]
  },
  {
   "cell_type": "code",
   "execution_count": 16,
   "metadata": {},
   "outputs": [],
   "source": [
    "from ico_parser import ICODeepTraining"
   ]
  },
  {
   "cell_type": "markdown",
   "metadata": {},
   "source": [
    "### 5.1 Define the model"
   ]
  },
  {
   "cell_type": "code",
   "execution_count": 17,
   "metadata": {},
   "outputs": [],
   "source": [
    "from tensorflow.keras.models import Sequential\n",
    "from tensorflow.keras.metrics import Recall\n",
    "from tensorflow.keras.layers import Dense, Flatten, Dropout, Conv1D, MaxPooling1D\n",
    "from tensorflow.keras.wrappers.scikit_learn import KerasClassifier\n",
    "from tensorflow import keras"
   ]
  },
  {
   "cell_type": "code",
   "execution_count": 24,
   "metadata": {},
   "outputs": [],
   "source": [
    "model_mlp = Sequential()\n",
    "model_mlp.add(Dense(40, input_dim=60, activation='relu'))\n",
    "model_mlp.add(Dense(30, activation='relu'))\n",
    "model_mlp.add(Dense(20, activation='relu'))\n",
    "model_mlp.add(Dense(10, activation='relu'))\n",
    "model_mlp.add(Dense(1, activation='sigmoid'))"
   ]
  },
  {
   "cell_type": "code",
   "execution_count": 25,
   "metadata": {},
   "outputs": [
    {
     "name": "stdout",
     "output_type": "stream",
     "text": [
      "Model: \"sequential_3\"\n",
      "_________________________________________________________________\n",
      "Layer (type)                 Output Shape              Param #   \n",
      "=================================================================\n",
      "dense_15 (Dense)             (None, 40)                2440      \n",
      "_________________________________________________________________\n",
      "dense_16 (Dense)             (None, 30)                1230      \n",
      "_________________________________________________________________\n",
      "dense_17 (Dense)             (None, 20)                620       \n",
      "_________________________________________________________________\n",
      "dense_18 (Dense)             (None, 10)                210       \n",
      "_________________________________________________________________\n",
      "dense_19 (Dense)             (None, 1)                 11        \n",
      "=================================================================\n",
      "Total params: 4,511\n",
      "Trainable params: 4,511\n",
      "Non-trainable params: 0\n",
      "_________________________________________________________________\n"
     ]
    }
   ],
   "source": [
    "ico_training = ICODeepTraining(df_training_newbiers_ma.iloc[:, :-1],\n",
    "                               df_training_newbiers_ma.iloc[:, -1],\n",
    "                               model_mlp,\n",
    "                               ann_type='mlp',\n",
    "                               size_array=60)\n",
    "                               \n",
    "ico_training.split_train_test()\n",
    "ico_training.model_summary()"
   ]
  },
  {
   "cell_type": "code",
   "execution_count": 26,
   "metadata": {},
   "outputs": [],
   "source": [
    "earlystop =  keras.callbacks.EarlyStopping(monitor='loss', patience=50)"
   ]
  },
  {
   "cell_type": "code",
   "execution_count": 27,
   "metadata": {},
   "outputs": [
    {
     "data": {
      "application/vnd.plotly.v1+json": {
       "config": {
        "plotlyServerURL": "https://plot.ly"
       },
       "data": [
        {
         "hovertemplate": "<b>%{hovertext}</b><br><br>metric=accuracy<br>epochs=%{x}<br>values=%{y}<extra></extra>",
         "hovertext": [
          "accuracy",
          "accuracy",
          "accuracy",
          "accuracy",
          "accuracy",
          "accuracy",
          "accuracy",
          "accuracy",
          "accuracy",
          "accuracy",
          "accuracy",
          "accuracy",
          "accuracy",
          "accuracy",
          "accuracy",
          "accuracy",
          "accuracy",
          "accuracy",
          "accuracy",
          "accuracy",
          "accuracy",
          "accuracy",
          "accuracy",
          "accuracy",
          "accuracy",
          "accuracy",
          "accuracy",
          "accuracy",
          "accuracy",
          "accuracy",
          "accuracy",
          "accuracy",
          "accuracy",
          "accuracy",
          "accuracy",
          "accuracy",
          "accuracy",
          "accuracy",
          "accuracy",
          "accuracy",
          "accuracy",
          "accuracy",
          "accuracy",
          "accuracy",
          "accuracy",
          "accuracy",
          "accuracy",
          "accuracy",
          "accuracy",
          "accuracy"
         ],
         "legendgroup": "accuracy",
         "line": {
          "color": "#636efa",
          "dash": "solid"
         },
         "mode": "lines",
         "name": "accuracy",
         "orientation": "v",
         "showlegend": true,
         "type": "scatter",
         "x": [
          0,
          1,
          2,
          3,
          4,
          5,
          6,
          7,
          8,
          9,
          10,
          11,
          12,
          13,
          14,
          15,
          16,
          17,
          18,
          19,
          20,
          21,
          22,
          23,
          24,
          25,
          26,
          27,
          28,
          29,
          30,
          31,
          32,
          33,
          34,
          35,
          36,
          37,
          38,
          39,
          40,
          41,
          42,
          43,
          44,
          45,
          46,
          47,
          48,
          49
         ],
         "xaxis": "x",
         "y": [
          0.47560974955558777,
          0.4390243887901306,
          0.4390243887901306,
          0.4390243887901306,
          0.4390243887901306,
          0.4390243887901306,
          0.4390243887901306,
          0.4390243887901306,
          0.4390243887901306,
          0.4390243887901306,
          0.4390243887901306,
          0.4390243887901306,
          0.4390243887901306,
          0.4390243887901306,
          0.4390243887901306,
          0.4390243887901306,
          0.4390243887901306,
          0.4390243887901306,
          0.4390243887901306,
          0.4390243887901306,
          0.4390243887901306,
          0.4390243887901306,
          0.4390243887901306,
          0.4390243887901306,
          0.4390243887901306,
          0.4390243887901306,
          0.4390243887901306,
          0.4390243887901306,
          0.4390243887901306,
          0.4390243887901306,
          0.4390243887901306,
          0.4390243887901306,
          0.4390243887901306,
          0.4390243887901306,
          0.4390243887901306,
          0.4390243887901306,
          0.4390243887901306,
          0.4390243887901306,
          0.4390243887901306,
          0.4390243887901306,
          0.4390243887901306,
          0.4390243887901306,
          0.4390243887901306,
          0.4390243887901306,
          0.4390243887901306,
          0.4390243887901306,
          0.4390243887901306,
          0.4390243887901306,
          0.4390243887901306,
          0.4390243887901306
         ],
         "yaxis": "y"
        },
        {
         "hovertemplate": "<b>%{hovertext}</b><br><br>metric=val_accuracy<br>epochs=%{x}<br>values=%{y}<extra></extra>",
         "hovertext": [
          "val_accuracy",
          "val_accuracy",
          "val_accuracy",
          "val_accuracy",
          "val_accuracy",
          "val_accuracy",
          "val_accuracy",
          "val_accuracy",
          "val_accuracy",
          "val_accuracy",
          "val_accuracy",
          "val_accuracy",
          "val_accuracy",
          "val_accuracy",
          "val_accuracy",
          "val_accuracy",
          "val_accuracy",
          "val_accuracy",
          "val_accuracy",
          "val_accuracy",
          "val_accuracy",
          "val_accuracy",
          "val_accuracy",
          "val_accuracy",
          "val_accuracy",
          "val_accuracy",
          "val_accuracy",
          "val_accuracy",
          "val_accuracy",
          "val_accuracy",
          "val_accuracy",
          "val_accuracy",
          "val_accuracy",
          "val_accuracy",
          "val_accuracy",
          "val_accuracy",
          "val_accuracy",
          "val_accuracy",
          "val_accuracy",
          "val_accuracy",
          "val_accuracy",
          "val_accuracy",
          "val_accuracy",
          "val_accuracy",
          "val_accuracy",
          "val_accuracy",
          "val_accuracy",
          "val_accuracy",
          "val_accuracy",
          "val_accuracy"
         ],
         "legendgroup": "val_accuracy",
         "line": {
          "color": "#EF553B",
          "dash": "solid"
         },
         "mode": "lines",
         "name": "val_accuracy",
         "orientation": "v",
         "showlegend": true,
         "type": "scatter",
         "x": [
          0,
          1,
          2,
          3,
          4,
          5,
          6,
          7,
          8,
          9,
          10,
          11,
          12,
          13,
          14,
          15,
          16,
          17,
          18,
          19,
          20,
          21,
          22,
          23,
          24,
          25,
          26,
          27,
          28,
          29,
          30,
          31,
          32,
          33,
          34,
          35,
          36,
          37,
          38,
          39,
          40,
          41,
          42,
          43,
          44,
          45,
          46,
          47,
          48,
          49
         ],
         "xaxis": "x",
         "y": [
          0.3802816867828369,
          0.3802816867828369,
          0.3802816867828369,
          0.3802816867828369,
          0.3802816867828369,
          0.3802816867828369,
          0.3802816867828369,
          0.3802816867828369,
          0.3802816867828369,
          0.3802816867828369,
          0.3802816867828369,
          0.3802816867828369,
          0.3802816867828369,
          0.3802816867828369,
          0.3802816867828369,
          0.3802816867828369,
          0.3802816867828369,
          0.3802816867828369,
          0.3802816867828369,
          0.3802816867828369,
          0.3802816867828369,
          0.3802816867828369,
          0.3802816867828369,
          0.3802816867828369,
          0.3802816867828369,
          0.3802816867828369,
          0.3802816867828369,
          0.3802816867828369,
          0.3802816867828369,
          0.3802816867828369,
          0.3802816867828369,
          0.3802816867828369,
          0.3802816867828369,
          0.3802816867828369,
          0.3802816867828369,
          0.3802816867828369,
          0.3802816867828369,
          0.3802816867828369,
          0.3802816867828369,
          0.3802816867828369,
          0.3802816867828369,
          0.3802816867828369,
          0.3802816867828369,
          0.3802816867828369,
          0.3802816867828369,
          0.3802816867828369,
          0.3802816867828369,
          0.3802816867828369,
          0.3802816867828369,
          0.3802816867828369
         ],
         "yaxis": "y"
        }
       ],
       "layout": {
        "autosize": true,
        "legend": {
         "title": {
          "text": "metric"
         },
         "tracegroupgap": 0
        },
        "margin": {
         "t": 60
        },
        "template": {
         "data": {
          "bar": [
           {
            "error_x": {
             "color": "#2a3f5f"
            },
            "error_y": {
             "color": "#2a3f5f"
            },
            "marker": {
             "line": {
              "color": "#E5ECF6",
              "width": 0.5
             }
            },
            "type": "bar"
           }
          ],
          "barpolar": [
           {
            "marker": {
             "line": {
              "color": "#E5ECF6",
              "width": 0.5
             }
            },
            "type": "barpolar"
           }
          ],
          "carpet": [
           {
            "aaxis": {
             "endlinecolor": "#2a3f5f",
             "gridcolor": "white",
             "linecolor": "white",
             "minorgridcolor": "white",
             "startlinecolor": "#2a3f5f"
            },
            "baxis": {
             "endlinecolor": "#2a3f5f",
             "gridcolor": "white",
             "linecolor": "white",
             "minorgridcolor": "white",
             "startlinecolor": "#2a3f5f"
            },
            "type": "carpet"
           }
          ],
          "choropleth": [
           {
            "colorbar": {
             "outlinewidth": 0,
             "ticks": ""
            },
            "type": "choropleth"
           }
          ],
          "contour": [
           {
            "colorbar": {
             "outlinewidth": 0,
             "ticks": ""
            },
            "colorscale": [
             [
              0,
              "#0d0887"
             ],
             [
              0.1111111111111111,
              "#46039f"
             ],
             [
              0.2222222222222222,
              "#7201a8"
             ],
             [
              0.3333333333333333,
              "#9c179e"
             ],
             [
              0.4444444444444444,
              "#bd3786"
             ],
             [
              0.5555555555555556,
              "#d8576b"
             ],
             [
              0.6666666666666666,
              "#ed7953"
             ],
             [
              0.7777777777777778,
              "#fb9f3a"
             ],
             [
              0.8888888888888888,
              "#fdca26"
             ],
             [
              1,
              "#f0f921"
             ]
            ],
            "type": "contour"
           }
          ],
          "contourcarpet": [
           {
            "colorbar": {
             "outlinewidth": 0,
             "ticks": ""
            },
            "type": "contourcarpet"
           }
          ],
          "heatmap": [
           {
            "colorbar": {
             "outlinewidth": 0,
             "ticks": ""
            },
            "colorscale": [
             [
              0,
              "#0d0887"
             ],
             [
              0.1111111111111111,
              "#46039f"
             ],
             [
              0.2222222222222222,
              "#7201a8"
             ],
             [
              0.3333333333333333,
              "#9c179e"
             ],
             [
              0.4444444444444444,
              "#bd3786"
             ],
             [
              0.5555555555555556,
              "#d8576b"
             ],
             [
              0.6666666666666666,
              "#ed7953"
             ],
             [
              0.7777777777777778,
              "#fb9f3a"
             ],
             [
              0.8888888888888888,
              "#fdca26"
             ],
             [
              1,
              "#f0f921"
             ]
            ],
            "type": "heatmap"
           }
          ],
          "heatmapgl": [
           {
            "colorbar": {
             "outlinewidth": 0,
             "ticks": ""
            },
            "colorscale": [
             [
              0,
              "#0d0887"
             ],
             [
              0.1111111111111111,
              "#46039f"
             ],
             [
              0.2222222222222222,
              "#7201a8"
             ],
             [
              0.3333333333333333,
              "#9c179e"
             ],
             [
              0.4444444444444444,
              "#bd3786"
             ],
             [
              0.5555555555555556,
              "#d8576b"
             ],
             [
              0.6666666666666666,
              "#ed7953"
             ],
             [
              0.7777777777777778,
              "#fb9f3a"
             ],
             [
              0.8888888888888888,
              "#fdca26"
             ],
             [
              1,
              "#f0f921"
             ]
            ],
            "type": "heatmapgl"
           }
          ],
          "histogram": [
           {
            "marker": {
             "colorbar": {
              "outlinewidth": 0,
              "ticks": ""
             }
            },
            "type": "histogram"
           }
          ],
          "histogram2d": [
           {
            "colorbar": {
             "outlinewidth": 0,
             "ticks": ""
            },
            "colorscale": [
             [
              0,
              "#0d0887"
             ],
             [
              0.1111111111111111,
              "#46039f"
             ],
             [
              0.2222222222222222,
              "#7201a8"
             ],
             [
              0.3333333333333333,
              "#9c179e"
             ],
             [
              0.4444444444444444,
              "#bd3786"
             ],
             [
              0.5555555555555556,
              "#d8576b"
             ],
             [
              0.6666666666666666,
              "#ed7953"
             ],
             [
              0.7777777777777778,
              "#fb9f3a"
             ],
             [
              0.8888888888888888,
              "#fdca26"
             ],
             [
              1,
              "#f0f921"
             ]
            ],
            "type": "histogram2d"
           }
          ],
          "histogram2dcontour": [
           {
            "colorbar": {
             "outlinewidth": 0,
             "ticks": ""
            },
            "colorscale": [
             [
              0,
              "#0d0887"
             ],
             [
              0.1111111111111111,
              "#46039f"
             ],
             [
              0.2222222222222222,
              "#7201a8"
             ],
             [
              0.3333333333333333,
              "#9c179e"
             ],
             [
              0.4444444444444444,
              "#bd3786"
             ],
             [
              0.5555555555555556,
              "#d8576b"
             ],
             [
              0.6666666666666666,
              "#ed7953"
             ],
             [
              0.7777777777777778,
              "#fb9f3a"
             ],
             [
              0.8888888888888888,
              "#fdca26"
             ],
             [
              1,
              "#f0f921"
             ]
            ],
            "type": "histogram2dcontour"
           }
          ],
          "mesh3d": [
           {
            "colorbar": {
             "outlinewidth": 0,
             "ticks": ""
            },
            "type": "mesh3d"
           }
          ],
          "parcoords": [
           {
            "line": {
             "colorbar": {
              "outlinewidth": 0,
              "ticks": ""
             }
            },
            "type": "parcoords"
           }
          ],
          "pie": [
           {
            "automargin": true,
            "type": "pie"
           }
          ],
          "scatter": [
           {
            "marker": {
             "colorbar": {
              "outlinewidth": 0,
              "ticks": ""
             }
            },
            "type": "scatter"
           }
          ],
          "scatter3d": [
           {
            "line": {
             "colorbar": {
              "outlinewidth": 0,
              "ticks": ""
             }
            },
            "marker": {
             "colorbar": {
              "outlinewidth": 0,
              "ticks": ""
             }
            },
            "type": "scatter3d"
           }
          ],
          "scattercarpet": [
           {
            "marker": {
             "colorbar": {
              "outlinewidth": 0,
              "ticks": ""
             }
            },
            "type": "scattercarpet"
           }
          ],
          "scattergeo": [
           {
            "marker": {
             "colorbar": {
              "outlinewidth": 0,
              "ticks": ""
             }
            },
            "type": "scattergeo"
           }
          ],
          "scattergl": [
           {
            "marker": {
             "colorbar": {
              "outlinewidth": 0,
              "ticks": ""
             }
            },
            "type": "scattergl"
           }
          ],
          "scattermapbox": [
           {
            "marker": {
             "colorbar": {
              "outlinewidth": 0,
              "ticks": ""
             }
            },
            "type": "scattermapbox"
           }
          ],
          "scatterpolar": [
           {
            "marker": {
             "colorbar": {
              "outlinewidth": 0,
              "ticks": ""
             }
            },
            "type": "scatterpolar"
           }
          ],
          "scatterpolargl": [
           {
            "marker": {
             "colorbar": {
              "outlinewidth": 0,
              "ticks": ""
             }
            },
            "type": "scatterpolargl"
           }
          ],
          "scatterternary": [
           {
            "marker": {
             "colorbar": {
              "outlinewidth": 0,
              "ticks": ""
             }
            },
            "type": "scatterternary"
           }
          ],
          "surface": [
           {
            "colorbar": {
             "outlinewidth": 0,
             "ticks": ""
            },
            "colorscale": [
             [
              0,
              "#0d0887"
             ],
             [
              0.1111111111111111,
              "#46039f"
             ],
             [
              0.2222222222222222,
              "#7201a8"
             ],
             [
              0.3333333333333333,
              "#9c179e"
             ],
             [
              0.4444444444444444,
              "#bd3786"
             ],
             [
              0.5555555555555556,
              "#d8576b"
             ],
             [
              0.6666666666666666,
              "#ed7953"
             ],
             [
              0.7777777777777778,
              "#fb9f3a"
             ],
             [
              0.8888888888888888,
              "#fdca26"
             ],
             [
              1,
              "#f0f921"
             ]
            ],
            "type": "surface"
           }
          ],
          "table": [
           {
            "cells": {
             "fill": {
              "color": "#EBF0F8"
             },
             "line": {
              "color": "white"
             }
            },
            "header": {
             "fill": {
              "color": "#C8D4E3"
             },
             "line": {
              "color": "white"
             }
            },
            "type": "table"
           }
          ]
         },
         "layout": {
          "annotationdefaults": {
           "arrowcolor": "#2a3f5f",
           "arrowhead": 0,
           "arrowwidth": 1
          },
          "coloraxis": {
           "colorbar": {
            "outlinewidth": 0,
            "ticks": ""
           }
          },
          "colorscale": {
           "diverging": [
            [
             0,
             "#8e0152"
            ],
            [
             0.1,
             "#c51b7d"
            ],
            [
             0.2,
             "#de77ae"
            ],
            [
             0.3,
             "#f1b6da"
            ],
            [
             0.4,
             "#fde0ef"
            ],
            [
             0.5,
             "#f7f7f7"
            ],
            [
             0.6,
             "#e6f5d0"
            ],
            [
             0.7,
             "#b8e186"
            ],
            [
             0.8,
             "#7fbc41"
            ],
            [
             0.9,
             "#4d9221"
            ],
            [
             1,
             "#276419"
            ]
           ],
           "sequential": [
            [
             0,
             "#0d0887"
            ],
            [
             0.1111111111111111,
             "#46039f"
            ],
            [
             0.2222222222222222,
             "#7201a8"
            ],
            [
             0.3333333333333333,
             "#9c179e"
            ],
            [
             0.4444444444444444,
             "#bd3786"
            ],
            [
             0.5555555555555556,
             "#d8576b"
            ],
            [
             0.6666666666666666,
             "#ed7953"
            ],
            [
             0.7777777777777778,
             "#fb9f3a"
            ],
            [
             0.8888888888888888,
             "#fdca26"
            ],
            [
             1,
             "#f0f921"
            ]
           ],
           "sequentialminus": [
            [
             0,
             "#0d0887"
            ],
            [
             0.1111111111111111,
             "#46039f"
            ],
            [
             0.2222222222222222,
             "#7201a8"
            ],
            [
             0.3333333333333333,
             "#9c179e"
            ],
            [
             0.4444444444444444,
             "#bd3786"
            ],
            [
             0.5555555555555556,
             "#d8576b"
            ],
            [
             0.6666666666666666,
             "#ed7953"
            ],
            [
             0.7777777777777778,
             "#fb9f3a"
            ],
            [
             0.8888888888888888,
             "#fdca26"
            ],
            [
             1,
             "#f0f921"
            ]
           ]
          },
          "colorway": [
           "#636efa",
           "#EF553B",
           "#00cc96",
           "#ab63fa",
           "#FFA15A",
           "#19d3f3",
           "#FF6692",
           "#B6E880",
           "#FF97FF",
           "#FECB52"
          ],
          "font": {
           "color": "#2a3f5f"
          },
          "geo": {
           "bgcolor": "white",
           "lakecolor": "white",
           "landcolor": "#E5ECF6",
           "showlakes": true,
           "showland": true,
           "subunitcolor": "white"
          },
          "hoverlabel": {
           "align": "left"
          },
          "hovermode": "closest",
          "mapbox": {
           "style": "light"
          },
          "paper_bgcolor": "white",
          "plot_bgcolor": "#E5ECF6",
          "polar": {
           "angularaxis": {
            "gridcolor": "white",
            "linecolor": "white",
            "ticks": ""
           },
           "bgcolor": "#E5ECF6",
           "radialaxis": {
            "gridcolor": "white",
            "linecolor": "white",
            "ticks": ""
           }
          },
          "scene": {
           "xaxis": {
            "backgroundcolor": "#E5ECF6",
            "gridcolor": "white",
            "gridwidth": 2,
            "linecolor": "white",
            "showbackground": true,
            "ticks": "",
            "zerolinecolor": "white"
           },
           "yaxis": {
            "backgroundcolor": "#E5ECF6",
            "gridcolor": "white",
            "gridwidth": 2,
            "linecolor": "white",
            "showbackground": true,
            "ticks": "",
            "zerolinecolor": "white"
           },
           "zaxis": {
            "backgroundcolor": "#E5ECF6",
            "gridcolor": "white",
            "gridwidth": 2,
            "linecolor": "white",
            "showbackground": true,
            "ticks": "",
            "zerolinecolor": "white"
           }
          },
          "shapedefaults": {
           "line": {
            "color": "#2a3f5f"
           }
          },
          "ternary": {
           "aaxis": {
            "gridcolor": "white",
            "linecolor": "white",
            "ticks": ""
           },
           "baxis": {
            "gridcolor": "white",
            "linecolor": "white",
            "ticks": ""
           },
           "bgcolor": "#E5ECF6",
           "caxis": {
            "gridcolor": "white",
            "linecolor": "white",
            "ticks": ""
           }
          },
          "title": {
           "x": 0.05
          },
          "xaxis": {
           "automargin": true,
           "gridcolor": "white",
           "linecolor": "white",
           "ticks": "",
           "title": {
            "standoff": 15
           },
           "zerolinecolor": "white",
           "zerolinewidth": 2
          },
          "yaxis": {
           "automargin": true,
           "gridcolor": "white",
           "linecolor": "white",
           "ticks": "",
           "title": {
            "standoff": 15
           },
           "zerolinecolor": "white",
           "zerolinewidth": 2
          }
         }
        },
        "xaxis": {
         "anchor": "y",
         "autorange": true,
         "domain": [
          0,
          1
         ],
         "range": [
          0,
          49
         ],
         "title": {
          "text": "epochs"
         },
         "type": "linear"
        },
        "yaxis": {
         "anchor": "x",
         "autorange": true,
         "domain": [
          0,
          1
         ],
         "range": [
          0.3749856832954619,
          0.4809057530429628
         ],
         "title": {
          "text": "values"
         },
         "type": "linear"
        }
       }
      },
      "text/html": [
       "<div>\n",
       "        \n",
       "        \n",
       "            <div id=\"13399eb3-9e11-40f0-8454-581fbb67cb8f\" class=\"plotly-graph-div\" style=\"height:525px; width:100%;\"></div>\n",
       "            <script type=\"text/javascript\">\n",
       "                require([\"plotly\"], function(Plotly) {\n",
       "                    window.PLOTLYENV=window.PLOTLYENV || {};\n",
       "                    \n",
       "                if (document.getElementById(\"13399eb3-9e11-40f0-8454-581fbb67cb8f\")) {\n",
       "                    Plotly.newPlot(\n",
       "                        '13399eb3-9e11-40f0-8454-581fbb67cb8f',\n",
       "                        [{\"hovertemplate\": \"<b>%{hovertext}</b><br><br>metric=accuracy<br>epochs=%{x}<br>values=%{y}<extra></extra>\", \"hovertext\": [\"accuracy\", \"accuracy\", \"accuracy\", \"accuracy\", \"accuracy\", \"accuracy\", \"accuracy\", \"accuracy\", \"accuracy\", \"accuracy\", \"accuracy\", \"accuracy\", \"accuracy\", \"accuracy\", \"accuracy\", \"accuracy\", \"accuracy\", \"accuracy\", \"accuracy\", \"accuracy\", \"accuracy\", \"accuracy\", \"accuracy\", \"accuracy\", \"accuracy\", \"accuracy\", \"accuracy\", \"accuracy\", \"accuracy\", \"accuracy\", \"accuracy\", \"accuracy\", \"accuracy\", \"accuracy\", \"accuracy\", \"accuracy\", \"accuracy\", \"accuracy\", \"accuracy\", \"accuracy\", \"accuracy\", \"accuracy\", \"accuracy\", \"accuracy\", \"accuracy\", \"accuracy\", \"accuracy\", \"accuracy\", \"accuracy\", \"accuracy\"], \"legendgroup\": \"accuracy\", \"line\": {\"color\": \"#636efa\", \"dash\": \"solid\"}, \"mode\": \"lines\", \"name\": \"accuracy\", \"orientation\": \"v\", \"showlegend\": true, \"type\": \"scatter\", \"x\": [0, 1, 2, 3, 4, 5, 6, 7, 8, 9, 10, 11, 12, 13, 14, 15, 16, 17, 18, 19, 20, 21, 22, 23, 24, 25, 26, 27, 28, 29, 30, 31, 32, 33, 34, 35, 36, 37, 38, 39, 40, 41, 42, 43, 44, 45, 46, 47, 48, 49], \"xaxis\": \"x\", \"y\": [0.47560974955558777, 0.4390243887901306, 0.4390243887901306, 0.4390243887901306, 0.4390243887901306, 0.4390243887901306, 0.4390243887901306, 0.4390243887901306, 0.4390243887901306, 0.4390243887901306, 0.4390243887901306, 0.4390243887901306, 0.4390243887901306, 0.4390243887901306, 0.4390243887901306, 0.4390243887901306, 0.4390243887901306, 0.4390243887901306, 0.4390243887901306, 0.4390243887901306, 0.4390243887901306, 0.4390243887901306, 0.4390243887901306, 0.4390243887901306, 0.4390243887901306, 0.4390243887901306, 0.4390243887901306, 0.4390243887901306, 0.4390243887901306, 0.4390243887901306, 0.4390243887901306, 0.4390243887901306, 0.4390243887901306, 0.4390243887901306, 0.4390243887901306, 0.4390243887901306, 0.4390243887901306, 0.4390243887901306, 0.4390243887901306, 0.4390243887901306, 0.4390243887901306, 0.4390243887901306, 0.4390243887901306, 0.4390243887901306, 0.4390243887901306, 0.4390243887901306, 0.4390243887901306, 0.4390243887901306, 0.4390243887901306, 0.4390243887901306], \"yaxis\": \"y\"}, {\"hovertemplate\": \"<b>%{hovertext}</b><br><br>metric=val_accuracy<br>epochs=%{x}<br>values=%{y}<extra></extra>\", \"hovertext\": [\"val_accuracy\", \"val_accuracy\", \"val_accuracy\", \"val_accuracy\", \"val_accuracy\", \"val_accuracy\", \"val_accuracy\", \"val_accuracy\", \"val_accuracy\", \"val_accuracy\", \"val_accuracy\", \"val_accuracy\", \"val_accuracy\", \"val_accuracy\", \"val_accuracy\", \"val_accuracy\", \"val_accuracy\", \"val_accuracy\", \"val_accuracy\", \"val_accuracy\", \"val_accuracy\", \"val_accuracy\", \"val_accuracy\", \"val_accuracy\", \"val_accuracy\", \"val_accuracy\", \"val_accuracy\", \"val_accuracy\", \"val_accuracy\", \"val_accuracy\", \"val_accuracy\", \"val_accuracy\", \"val_accuracy\", \"val_accuracy\", \"val_accuracy\", \"val_accuracy\", \"val_accuracy\", \"val_accuracy\", \"val_accuracy\", \"val_accuracy\", \"val_accuracy\", \"val_accuracy\", \"val_accuracy\", \"val_accuracy\", \"val_accuracy\", \"val_accuracy\", \"val_accuracy\", \"val_accuracy\", \"val_accuracy\", \"val_accuracy\"], \"legendgroup\": \"val_accuracy\", \"line\": {\"color\": \"#EF553B\", \"dash\": \"solid\"}, \"mode\": \"lines\", \"name\": \"val_accuracy\", \"orientation\": \"v\", \"showlegend\": true, \"type\": \"scatter\", \"x\": [0, 1, 2, 3, 4, 5, 6, 7, 8, 9, 10, 11, 12, 13, 14, 15, 16, 17, 18, 19, 20, 21, 22, 23, 24, 25, 26, 27, 28, 29, 30, 31, 32, 33, 34, 35, 36, 37, 38, 39, 40, 41, 42, 43, 44, 45, 46, 47, 48, 49], \"xaxis\": \"x\", \"y\": [0.3802816867828369, 0.3802816867828369, 0.3802816867828369, 0.3802816867828369, 0.3802816867828369, 0.3802816867828369, 0.3802816867828369, 0.3802816867828369, 0.3802816867828369, 0.3802816867828369, 0.3802816867828369, 0.3802816867828369, 0.3802816867828369, 0.3802816867828369, 0.3802816867828369, 0.3802816867828369, 0.3802816867828369, 0.3802816867828369, 0.3802816867828369, 0.3802816867828369, 0.3802816867828369, 0.3802816867828369, 0.3802816867828369, 0.3802816867828369, 0.3802816867828369, 0.3802816867828369, 0.3802816867828369, 0.3802816867828369, 0.3802816867828369, 0.3802816867828369, 0.3802816867828369, 0.3802816867828369, 0.3802816867828369, 0.3802816867828369, 0.3802816867828369, 0.3802816867828369, 0.3802816867828369, 0.3802816867828369, 0.3802816867828369, 0.3802816867828369, 0.3802816867828369, 0.3802816867828369, 0.3802816867828369, 0.3802816867828369, 0.3802816867828369, 0.3802816867828369, 0.3802816867828369, 0.3802816867828369, 0.3802816867828369, 0.3802816867828369], \"yaxis\": \"y\"}],\n",
       "                        {\"legend\": {\"title\": {\"text\": \"metric\"}, \"tracegroupgap\": 0}, \"margin\": {\"t\": 60}, \"template\": {\"data\": {\"bar\": [{\"error_x\": {\"color\": \"#2a3f5f\"}, \"error_y\": {\"color\": \"#2a3f5f\"}, \"marker\": {\"line\": {\"color\": \"#E5ECF6\", \"width\": 0.5}}, \"type\": \"bar\"}], \"barpolar\": [{\"marker\": {\"line\": {\"color\": \"#E5ECF6\", \"width\": 0.5}}, \"type\": \"barpolar\"}], \"carpet\": [{\"aaxis\": {\"endlinecolor\": \"#2a3f5f\", \"gridcolor\": \"white\", \"linecolor\": \"white\", \"minorgridcolor\": \"white\", \"startlinecolor\": \"#2a3f5f\"}, \"baxis\": {\"endlinecolor\": \"#2a3f5f\", \"gridcolor\": \"white\", \"linecolor\": \"white\", \"minorgridcolor\": \"white\", \"startlinecolor\": \"#2a3f5f\"}, \"type\": \"carpet\"}], \"choropleth\": [{\"colorbar\": {\"outlinewidth\": 0, \"ticks\": \"\"}, \"type\": \"choropleth\"}], \"contour\": [{\"colorbar\": {\"outlinewidth\": 0, \"ticks\": \"\"}, \"colorscale\": [[0.0, \"#0d0887\"], [0.1111111111111111, \"#46039f\"], [0.2222222222222222, \"#7201a8\"], [0.3333333333333333, \"#9c179e\"], [0.4444444444444444, \"#bd3786\"], [0.5555555555555556, \"#d8576b\"], [0.6666666666666666, \"#ed7953\"], [0.7777777777777778, \"#fb9f3a\"], [0.8888888888888888, \"#fdca26\"], [1.0, \"#f0f921\"]], \"type\": \"contour\"}], \"contourcarpet\": [{\"colorbar\": {\"outlinewidth\": 0, \"ticks\": \"\"}, \"type\": \"contourcarpet\"}], \"heatmap\": [{\"colorbar\": {\"outlinewidth\": 0, \"ticks\": \"\"}, \"colorscale\": [[0.0, \"#0d0887\"], [0.1111111111111111, \"#46039f\"], [0.2222222222222222, \"#7201a8\"], [0.3333333333333333, \"#9c179e\"], [0.4444444444444444, \"#bd3786\"], [0.5555555555555556, \"#d8576b\"], [0.6666666666666666, \"#ed7953\"], [0.7777777777777778, \"#fb9f3a\"], [0.8888888888888888, \"#fdca26\"], [1.0, \"#f0f921\"]], \"type\": \"heatmap\"}], \"heatmapgl\": [{\"colorbar\": {\"outlinewidth\": 0, \"ticks\": \"\"}, \"colorscale\": [[0.0, \"#0d0887\"], [0.1111111111111111, \"#46039f\"], [0.2222222222222222, \"#7201a8\"], [0.3333333333333333, \"#9c179e\"], [0.4444444444444444, \"#bd3786\"], [0.5555555555555556, \"#d8576b\"], [0.6666666666666666, \"#ed7953\"], [0.7777777777777778, \"#fb9f3a\"], [0.8888888888888888, \"#fdca26\"], [1.0, \"#f0f921\"]], \"type\": \"heatmapgl\"}], \"histogram\": [{\"marker\": {\"colorbar\": {\"outlinewidth\": 0, \"ticks\": \"\"}}, \"type\": \"histogram\"}], \"histogram2d\": [{\"colorbar\": {\"outlinewidth\": 0, \"ticks\": \"\"}, \"colorscale\": [[0.0, \"#0d0887\"], [0.1111111111111111, \"#46039f\"], [0.2222222222222222, \"#7201a8\"], [0.3333333333333333, \"#9c179e\"], [0.4444444444444444, \"#bd3786\"], [0.5555555555555556, \"#d8576b\"], [0.6666666666666666, \"#ed7953\"], [0.7777777777777778, \"#fb9f3a\"], [0.8888888888888888, \"#fdca26\"], [1.0, \"#f0f921\"]], \"type\": \"histogram2d\"}], \"histogram2dcontour\": [{\"colorbar\": {\"outlinewidth\": 0, \"ticks\": \"\"}, \"colorscale\": [[0.0, \"#0d0887\"], [0.1111111111111111, \"#46039f\"], [0.2222222222222222, \"#7201a8\"], [0.3333333333333333, \"#9c179e\"], [0.4444444444444444, \"#bd3786\"], [0.5555555555555556, \"#d8576b\"], [0.6666666666666666, \"#ed7953\"], [0.7777777777777778, \"#fb9f3a\"], [0.8888888888888888, \"#fdca26\"], [1.0, \"#f0f921\"]], \"type\": \"histogram2dcontour\"}], \"mesh3d\": [{\"colorbar\": {\"outlinewidth\": 0, \"ticks\": \"\"}, \"type\": \"mesh3d\"}], \"parcoords\": [{\"line\": {\"colorbar\": {\"outlinewidth\": 0, \"ticks\": \"\"}}, \"type\": \"parcoords\"}], \"pie\": [{\"automargin\": true, \"type\": \"pie\"}], \"scatter\": [{\"marker\": {\"colorbar\": {\"outlinewidth\": 0, \"ticks\": \"\"}}, \"type\": \"scatter\"}], \"scatter3d\": [{\"line\": {\"colorbar\": {\"outlinewidth\": 0, \"ticks\": \"\"}}, \"marker\": {\"colorbar\": {\"outlinewidth\": 0, \"ticks\": \"\"}}, \"type\": \"scatter3d\"}], \"scattercarpet\": [{\"marker\": {\"colorbar\": {\"outlinewidth\": 0, \"ticks\": \"\"}}, \"type\": \"scattercarpet\"}], \"scattergeo\": [{\"marker\": {\"colorbar\": {\"outlinewidth\": 0, \"ticks\": \"\"}}, \"type\": \"scattergeo\"}], \"scattergl\": [{\"marker\": {\"colorbar\": {\"outlinewidth\": 0, \"ticks\": \"\"}}, \"type\": \"scattergl\"}], \"scattermapbox\": [{\"marker\": {\"colorbar\": {\"outlinewidth\": 0, \"ticks\": \"\"}}, \"type\": \"scattermapbox\"}], \"scatterpolar\": [{\"marker\": {\"colorbar\": {\"outlinewidth\": 0, \"ticks\": \"\"}}, \"type\": \"scatterpolar\"}], \"scatterpolargl\": [{\"marker\": {\"colorbar\": {\"outlinewidth\": 0, \"ticks\": \"\"}}, \"type\": \"scatterpolargl\"}], \"scatterternary\": [{\"marker\": {\"colorbar\": {\"outlinewidth\": 0, \"ticks\": \"\"}}, \"type\": \"scatterternary\"}], \"surface\": [{\"colorbar\": {\"outlinewidth\": 0, \"ticks\": \"\"}, \"colorscale\": [[0.0, \"#0d0887\"], [0.1111111111111111, \"#46039f\"], [0.2222222222222222, \"#7201a8\"], [0.3333333333333333, \"#9c179e\"], [0.4444444444444444, \"#bd3786\"], [0.5555555555555556, \"#d8576b\"], [0.6666666666666666, \"#ed7953\"], [0.7777777777777778, \"#fb9f3a\"], [0.8888888888888888, \"#fdca26\"], [1.0, \"#f0f921\"]], \"type\": \"surface\"}], \"table\": [{\"cells\": {\"fill\": {\"color\": \"#EBF0F8\"}, \"line\": {\"color\": \"white\"}}, \"header\": {\"fill\": {\"color\": \"#C8D4E3\"}, \"line\": {\"color\": \"white\"}}, \"type\": \"table\"}]}, \"layout\": {\"annotationdefaults\": {\"arrowcolor\": \"#2a3f5f\", \"arrowhead\": 0, \"arrowwidth\": 1}, \"coloraxis\": {\"colorbar\": {\"outlinewidth\": 0, \"ticks\": \"\"}}, \"colorscale\": {\"diverging\": [[0, \"#8e0152\"], [0.1, \"#c51b7d\"], [0.2, \"#de77ae\"], [0.3, \"#f1b6da\"], [0.4, \"#fde0ef\"], [0.5, \"#f7f7f7\"], [0.6, \"#e6f5d0\"], [0.7, \"#b8e186\"], [0.8, \"#7fbc41\"], [0.9, \"#4d9221\"], [1, \"#276419\"]], \"sequential\": [[0.0, \"#0d0887\"], [0.1111111111111111, \"#46039f\"], [0.2222222222222222, \"#7201a8\"], [0.3333333333333333, \"#9c179e\"], [0.4444444444444444, \"#bd3786\"], [0.5555555555555556, \"#d8576b\"], [0.6666666666666666, \"#ed7953\"], [0.7777777777777778, \"#fb9f3a\"], [0.8888888888888888, \"#fdca26\"], [1.0, \"#f0f921\"]], \"sequentialminus\": [[0.0, \"#0d0887\"], [0.1111111111111111, \"#46039f\"], [0.2222222222222222, \"#7201a8\"], [0.3333333333333333, \"#9c179e\"], [0.4444444444444444, \"#bd3786\"], [0.5555555555555556, \"#d8576b\"], [0.6666666666666666, \"#ed7953\"], [0.7777777777777778, \"#fb9f3a\"], [0.8888888888888888, \"#fdca26\"], [1.0, \"#f0f921\"]]}, \"colorway\": [\"#636efa\", \"#EF553B\", \"#00cc96\", \"#ab63fa\", \"#FFA15A\", \"#19d3f3\", \"#FF6692\", \"#B6E880\", \"#FF97FF\", \"#FECB52\"], \"font\": {\"color\": \"#2a3f5f\"}, \"geo\": {\"bgcolor\": \"white\", \"lakecolor\": \"white\", \"landcolor\": \"#E5ECF6\", \"showlakes\": true, \"showland\": true, \"subunitcolor\": \"white\"}, \"hoverlabel\": {\"align\": \"left\"}, \"hovermode\": \"closest\", \"mapbox\": {\"style\": \"light\"}, \"paper_bgcolor\": \"white\", \"plot_bgcolor\": \"#E5ECF6\", \"polar\": {\"angularaxis\": {\"gridcolor\": \"white\", \"linecolor\": \"white\", \"ticks\": \"\"}, \"bgcolor\": \"#E5ECF6\", \"radialaxis\": {\"gridcolor\": \"white\", \"linecolor\": \"white\", \"ticks\": \"\"}}, \"scene\": {\"xaxis\": {\"backgroundcolor\": \"#E5ECF6\", \"gridcolor\": \"white\", \"gridwidth\": 2, \"linecolor\": \"white\", \"showbackground\": true, \"ticks\": \"\", \"zerolinecolor\": \"white\"}, \"yaxis\": {\"backgroundcolor\": \"#E5ECF6\", \"gridcolor\": \"white\", \"gridwidth\": 2, \"linecolor\": \"white\", \"showbackground\": true, \"ticks\": \"\", \"zerolinecolor\": \"white\"}, \"zaxis\": {\"backgroundcolor\": \"#E5ECF6\", \"gridcolor\": \"white\", \"gridwidth\": 2, \"linecolor\": \"white\", \"showbackground\": true, \"ticks\": \"\", \"zerolinecolor\": \"white\"}}, \"shapedefaults\": {\"line\": {\"color\": \"#2a3f5f\"}}, \"ternary\": {\"aaxis\": {\"gridcolor\": \"white\", \"linecolor\": \"white\", \"ticks\": \"\"}, \"baxis\": {\"gridcolor\": \"white\", \"linecolor\": \"white\", \"ticks\": \"\"}, \"bgcolor\": \"#E5ECF6\", \"caxis\": {\"gridcolor\": \"white\", \"linecolor\": \"white\", \"ticks\": \"\"}}, \"title\": {\"x\": 0.05}, \"xaxis\": {\"automargin\": true, \"gridcolor\": \"white\", \"linecolor\": \"white\", \"ticks\": \"\", \"title\": {\"standoff\": 15}, \"zerolinecolor\": \"white\", \"zerolinewidth\": 2}, \"yaxis\": {\"automargin\": true, \"gridcolor\": \"white\", \"linecolor\": \"white\", \"ticks\": \"\", \"title\": {\"standoff\": 15}, \"zerolinecolor\": \"white\", \"zerolinewidth\": 2}}}, \"xaxis\": {\"anchor\": \"y\", \"domain\": [0.0, 1.0], \"title\": {\"text\": \"epochs\"}}, \"yaxis\": {\"anchor\": \"x\", \"domain\": [0.0, 1.0], \"title\": {\"text\": \"values\"}}},\n",
       "                        {\"responsive\": true}\n",
       "                    ).then(function(){\n",
       "                            \n",
       "var gd = document.getElementById('13399eb3-9e11-40f0-8454-581fbb67cb8f');\n",
       "var x = new MutationObserver(function (mutations, observer) {{\n",
       "        var display = window.getComputedStyle(gd).display;\n",
       "        if (!display || display === 'none') {{\n",
       "            console.log([gd, 'removed!']);\n",
       "            Plotly.purge(gd);\n",
       "            observer.disconnect();\n",
       "        }}\n",
       "}});\n",
       "\n",
       "// Listen for the removal of the full notebook cells\n",
       "var notebookContainer = gd.closest('#notebook-container');\n",
       "if (notebookContainer) {{\n",
       "    x.observe(notebookContainer, {childList: true});\n",
       "}}\n",
       "\n",
       "// Listen for the clearing of the current output cell\n",
       "var outputEl = gd.closest('.output');\n",
       "if (outputEl) {{\n",
       "    x.observe(outputEl, {childList: true});\n",
       "}}\n",
       "\n",
       "                        })\n",
       "                };\n",
       "                });\n",
       "            </script>\n",
       "        </div>"
      ]
     },
     "metadata": {},
     "output_type": "display_data"
    }
   ],
   "source": [
    "ico_training.train_network(loss='binary_crossentropy', \n",
    "                      optimizer='adam',\n",
    "                      metrics=['accuracy'] ,\n",
    "                      epochs=100,\n",
    "                      verbose=0, \n",
    "                      batch_size=32,\n",
    "                      callback=earlystop)\n",
    "\n",
    "ico_training.plot_training()"
   ]
  },
  {
   "cell_type": "markdown",
   "metadata": {},
   "source": [
    "## CNN\n",
    "https://machinelearningmastery.com/cnn-models-for-human-activity-recognition-time-series-classification/"
   ]
  },
  {
   "cell_type": "code",
   "execution_count": 36,
   "metadata": {},
   "outputs": [],
   "source": [
    "model_cnn = Sequential()\n",
    "model_cnn.add(Conv1D(filters=8, kernel_size=3, activation='relu', input_shape=(20, 1)))\n",
    "model_cnn.add(Conv1D(filters=8, kernel_size=3, activation='relu'))\n",
    "model_cnn.add(Dropout(0.5))\n",
    "model_cnn.add(MaxPooling1D(pool_size=2))\n",
    "model_cnn.add(Flatten())\n",
    "model_cnn.add(Dense(224, activation='relu'))\n",
    "model_cnn.add(Dense(1, activation='sigmoid'))"
   ]
  },
  {
   "cell_type": "code",
   "execution_count": 38,
   "metadata": {},
   "outputs": [
    {
     "name": "stdout",
     "output_type": "stream",
     "text": [
      "Model: \"sequential_2\"\n",
      "_________________________________________________________________\n",
      "Layer (type)                 Output Shape              Param #   \n",
      "=================================================================\n",
      "conv1d (Conv1D)              (None, 18, 8)             32        \n",
      "_________________________________________________________________\n",
      "conv1d_1 (Conv1D)            (None, 16, 8)             200       \n",
      "_________________________________________________________________\n",
      "dropout (Dropout)            (None, 16, 8)             0         \n",
      "_________________________________________________________________\n",
      "max_pooling1d (MaxPooling1D) (None, 8, 8)              0         \n",
      "_________________________________________________________________\n",
      "flatten (Flatten)            (None, 64)                0         \n",
      "_________________________________________________________________\n",
      "dense_10 (Dense)             (None, 224)               14560     \n",
      "_________________________________________________________________\n",
      "dense_11 (Dense)             (None, 1)                 225       \n",
      "=================================================================\n",
      "Total params: 15,017\n",
      "Trainable params: 15,017\n",
      "Non-trainable params: 0\n",
      "_________________________________________________________________\n"
     ]
    }
   ],
   "source": [
    "ico_training = ICODeepTraining(df_training_transactions.iloc[:, :-1],\n",
    "                               df_training_transactions.iloc[:, -1],\n",
    "                               model_cnn,\n",
    "                               ann_type='cnn',\n",
    "                               size_array=20)\n",
    "                               \n",
    "ico_training.split_train_test()\n",
    "ico_training.model_summary()"
   ]
  },
  {
   "cell_type": "code",
   "execution_count": 39,
   "metadata": {},
   "outputs": [],
   "source": [
    "from tensorflow import keras"
   ]
  },
  {
   "cell_type": "code",
   "execution_count": 40,
   "metadata": {},
   "outputs": [],
   "source": [
    "earlystop =  keras.callbacks.EarlyStopping(monitor='loss', patience=50)"
   ]
  },
  {
   "cell_type": "code",
   "execution_count": 41,
   "metadata": {},
   "outputs": [
    {
     "data": {
      "application/vnd.plotly.v1+json": {
       "config": {
        "plotlyServerURL": "https://plot.ly"
       },
       "data": [
        {
         "hovertemplate": "<b>%{hovertext}</b><br><br>metric=loss<br>epochs=%{x}<br>values=%{y}<extra></extra>",
         "hovertext": [
          "loss",
          "loss",
          "loss",
          "loss",
          "loss",
          "loss",
          "loss",
          "loss",
          "loss",
          "loss",
          "loss",
          "loss",
          "loss",
          "loss",
          "loss",
          "loss",
          "loss",
          "loss",
          "loss",
          "loss",
          "loss",
          "loss",
          "loss",
          "loss",
          "loss",
          "loss",
          "loss",
          "loss",
          "loss",
          "loss",
          "loss",
          "loss",
          "loss",
          "loss",
          "loss",
          "loss",
          "loss",
          "loss",
          "loss",
          "loss",
          "loss",
          "loss",
          "loss",
          "loss",
          "loss",
          "loss",
          "loss",
          "loss",
          "loss",
          "loss",
          "loss",
          "loss",
          "loss",
          "loss",
          "loss",
          "loss",
          "loss",
          "loss",
          "loss",
          "loss",
          "loss",
          "loss",
          "loss",
          "loss",
          "loss",
          "loss",
          "loss",
          "loss",
          "loss",
          "loss",
          "loss",
          "loss",
          "loss",
          "loss",
          "loss",
          "loss",
          "loss",
          "loss",
          "loss",
          "loss",
          "loss",
          "loss",
          "loss",
          "loss",
          "loss",
          "loss",
          "loss",
          "loss",
          "loss",
          "loss",
          "loss",
          "loss",
          "loss",
          "loss",
          "loss",
          "loss",
          "loss",
          "loss",
          "loss",
          "loss"
         ],
         "legendgroup": "loss",
         "line": {
          "color": "#636efa",
          "dash": "solid"
         },
         "mode": "lines",
         "name": "loss",
         "orientation": "v",
         "showlegend": true,
         "type": "scatter",
         "x": [
          0,
          1,
          2,
          3,
          4,
          5,
          6,
          7,
          8,
          9,
          10,
          11,
          12,
          13,
          14,
          15,
          16,
          17,
          18,
          19,
          20,
          21,
          22,
          23,
          24,
          25,
          26,
          27,
          28,
          29,
          30,
          31,
          32,
          33,
          34,
          35,
          36,
          37,
          38,
          39,
          40,
          41,
          42,
          43,
          44,
          45,
          46,
          47,
          48,
          49,
          50,
          51,
          52,
          53,
          54,
          55,
          56,
          57,
          58,
          59,
          60,
          61,
          62,
          63,
          64,
          65,
          66,
          67,
          68,
          69,
          70,
          71,
          72,
          73,
          74,
          75,
          76,
          77,
          78,
          79,
          80,
          81,
          82,
          83,
          84,
          85,
          86,
          87,
          88,
          89,
          90,
          91,
          92,
          93,
          94,
          95,
          96,
          97,
          98,
          99
         ],
         "xaxis": "x",
         "y": [
          0.7362498641014099,
          0.6944278478622437,
          0.6821340918540955,
          0.6754646897315979,
          0.6784321069717407,
          0.6722589135169983,
          0.6723358631134033,
          0.6750919818878174,
          0.6679315567016602,
          0.6692665815353394,
          0.6674649715423584,
          0.6628611087799072,
          0.6729649901390076,
          0.663321316242218,
          0.6529011130332947,
          0.6475194096565247,
          0.6504287719726562,
          0.6494479179382324,
          0.6500482559204102,
          0.6411245465278625,
          0.6437848806381226,
          0.6607107520103455,
          0.6459661722183228,
          0.6366735100746155,
          0.6479378342628479,
          0.6392548084259033,
          0.6344700455665588,
          0.6370015740394592,
          0.6382490992546082,
          0.6361551880836487,
          0.63506680727005,
          0.6382953524589539,
          0.6300804018974304,
          0.635818600654602,
          0.6464613080024719,
          0.6475899815559387,
          0.6239900588989258,
          0.6310396194458008,
          0.6143994927406311,
          0.6228944659233093,
          0.6398552656173706,
          0.6181082129478455,
          0.6222836375236511,
          0.6164137721061707,
          0.6188107132911682,
          0.607333242893219,
          0.624119758605957,
          0.6087060570716858,
          0.6369202136993408,
          0.6219975352287292,
          0.6103253364562988,
          0.6286939978599548,
          0.6171562671661377,
          0.5992583632469177,
          0.6150636672973633,
          0.6240621209144592,
          0.6097972393035889,
          0.6178128719329834,
          0.6285814642906189,
          0.6235979795455933,
          0.6024835109710693,
          0.6016392111778259,
          0.6186702251434326,
          0.6166709661483765,
          0.6185365915298462,
          0.6156810522079468,
          0.6101216077804565,
          0.6110374331474304,
          0.6066270470619202,
          0.6136423945426941,
          0.5982532501220703,
          0.606059730052948,
          0.5840871334075928,
          0.6089378595352173,
          0.6042711138725281,
          0.5996335744857788,
          0.597732663154602,
          0.6159735918045044,
          0.6029374599456787,
          0.5917903780937195,
          0.5980628132820129,
          0.6143574714660645,
          0.5971667766571045,
          0.597875714302063,
          0.5909401774406433,
          0.5941693782806396,
          0.6040735244750977,
          0.5897479057312012,
          0.5847726464271545,
          0.583943784236908,
          0.5974274277687073,
          0.5968159437179565,
          0.5962687134742737,
          0.597605288028717,
          0.6009777188301086,
          0.5888177752494812,
          0.5914168357849121,
          0.5803039073944092,
          0.5977346897125244,
          0.5951716899871826
         ],
         "yaxis": "y"
        },
        {
         "hovertemplate": "<b>%{hovertext}</b><br><br>metric=recall<br>epochs=%{x}<br>values=%{y}<extra></extra>",
         "hovertext": [
          "recall",
          "recall",
          "recall",
          "recall",
          "recall",
          "recall",
          "recall",
          "recall",
          "recall",
          "recall",
          "recall",
          "recall",
          "recall",
          "recall",
          "recall",
          "recall",
          "recall",
          "recall",
          "recall",
          "recall",
          "recall",
          "recall",
          "recall",
          "recall",
          "recall",
          "recall",
          "recall",
          "recall",
          "recall",
          "recall",
          "recall",
          "recall",
          "recall",
          "recall",
          "recall",
          "recall",
          "recall",
          "recall",
          "recall",
          "recall",
          "recall",
          "recall",
          "recall",
          "recall",
          "recall",
          "recall",
          "recall",
          "recall",
          "recall",
          "recall",
          "recall",
          "recall",
          "recall",
          "recall",
          "recall",
          "recall",
          "recall",
          "recall",
          "recall",
          "recall",
          "recall",
          "recall",
          "recall",
          "recall",
          "recall",
          "recall",
          "recall",
          "recall",
          "recall",
          "recall",
          "recall",
          "recall",
          "recall",
          "recall",
          "recall",
          "recall",
          "recall",
          "recall",
          "recall",
          "recall",
          "recall",
          "recall",
          "recall",
          "recall",
          "recall",
          "recall",
          "recall",
          "recall",
          "recall",
          "recall",
          "recall",
          "recall",
          "recall",
          "recall",
          "recall",
          "recall",
          "recall",
          "recall",
          "recall",
          "recall"
         ],
         "legendgroup": "recall",
         "line": {
          "color": "#EF553B",
          "dash": "solid"
         },
         "mode": "lines",
         "name": "recall",
         "orientation": "v",
         "showlegend": true,
         "type": "scatter",
         "x": [
          0,
          1,
          2,
          3,
          4,
          5,
          6,
          7,
          8,
          9,
          10,
          11,
          12,
          13,
          14,
          15,
          16,
          17,
          18,
          19,
          20,
          21,
          22,
          23,
          24,
          25,
          26,
          27,
          28,
          29,
          30,
          31,
          32,
          33,
          34,
          35,
          36,
          37,
          38,
          39,
          40,
          41,
          42,
          43,
          44,
          45,
          46,
          47,
          48,
          49,
          50,
          51,
          52,
          53,
          54,
          55,
          56,
          57,
          58,
          59,
          60,
          61,
          62,
          63,
          64,
          65,
          66,
          67,
          68,
          69,
          70,
          71,
          72,
          73,
          74,
          75,
          76,
          77,
          78,
          79,
          80,
          81,
          82,
          83,
          84,
          85,
          86,
          87,
          88,
          89,
          90,
          91,
          92,
          93,
          94,
          95,
          96,
          97,
          98,
          99
         ],
         "xaxis": "x",
         "y": [
          0.05319149047136307,
          0.478723406791687,
          0.978723406791687,
          1,
          1,
          1,
          1,
          1,
          0.9893617033958435,
          0.9893617033958435,
          0.978723406791687,
          0.978723406791687,
          0.9680851101875305,
          0.978723406791687,
          0.978723406791687,
          0.978723406791687,
          0.9893617033958435,
          0.9893617033958435,
          0.9255319237709045,
          0.8936170339584351,
          0.8297872543334961,
          0.7978723645210266,
          0.8723404407501221,
          0.8723404407501221,
          0.8297872543334961,
          0.8404255509376526,
          0.8829787373542786,
          0.8297872543334961,
          0.7765957713127136,
          0.8191489577293396,
          0.7659574747085571,
          0.7978723645210266,
          0.7978723645210266,
          0.7659574747085571,
          0.8191489577293396,
          0.7234042286872864,
          0.7978723645210266,
          0.7978723645210266,
          0.8191489577293396,
          0.8617021441459656,
          0.8617021441459656,
          0.8404255509376526,
          0.7872340679168701,
          0.8191489577293396,
          0.8510638475418091,
          0.8617021441459656,
          0.8191489577293396,
          0.8510638475418091,
          0.7978723645210266,
          0.7872340679168701,
          0.8085106611251831,
          0.8085106611251831,
          0.7872340679168701,
          0.7659574747085571,
          0.7553191781044006,
          0.7659574747085571,
          0.8191489577293396,
          0.8297872543334961,
          0.8191489577293396,
          0.7765957713127136,
          0.7765957713127136,
          0.7659574747085571,
          0.7659574747085571,
          0.7978723645210266,
          0.7872340679168701,
          0.7978723645210266,
          0.8085106611251831,
          0.7872340679168701,
          0.7446808218955994,
          0.7978723645210266,
          0.7872340679168701,
          0.7872340679168701,
          0.7659574747085571,
          0.7446808218955994,
          0.7659574747085571,
          0.7659574747085571,
          0.8085106611251831,
          0.8085106611251831,
          0.7234042286872864,
          0.7021276354789734,
          0.7234042286872864,
          0.7872340679168701,
          0.7659574747085571,
          0.7978723645210266,
          0.7234042286872864,
          0.7446808218955994,
          0.7446808218955994,
          0.7659574747085571,
          0.7872340679168701,
          0.7765957713127136,
          0.7765957713127136,
          0.7553191781044006,
          0.7340425252914429,
          0.7340425252914429,
          0.6914893388748169,
          0.7872340679168701,
          0.7765957713127136,
          0.7765957713127136,
          0.7234042286872864,
          0.7340425252914429
         ],
         "yaxis": "y"
        },
        {
         "hovertemplate": "<b>%{hovertext}</b><br><br>metric=val_loss<br>epochs=%{x}<br>values=%{y}<extra></extra>",
         "hovertext": [
          "val_loss",
          "val_loss",
          "val_loss",
          "val_loss",
          "val_loss",
          "val_loss",
          "val_loss",
          "val_loss",
          "val_loss",
          "val_loss",
          "val_loss",
          "val_loss",
          "val_loss",
          "val_loss",
          "val_loss",
          "val_loss",
          "val_loss",
          "val_loss",
          "val_loss",
          "val_loss",
          "val_loss",
          "val_loss",
          "val_loss",
          "val_loss",
          "val_loss",
          "val_loss",
          "val_loss",
          "val_loss",
          "val_loss",
          "val_loss",
          "val_loss",
          "val_loss",
          "val_loss",
          "val_loss",
          "val_loss",
          "val_loss",
          "val_loss",
          "val_loss",
          "val_loss",
          "val_loss",
          "val_loss",
          "val_loss",
          "val_loss",
          "val_loss",
          "val_loss",
          "val_loss",
          "val_loss",
          "val_loss",
          "val_loss",
          "val_loss",
          "val_loss",
          "val_loss",
          "val_loss",
          "val_loss",
          "val_loss",
          "val_loss",
          "val_loss",
          "val_loss",
          "val_loss",
          "val_loss",
          "val_loss",
          "val_loss",
          "val_loss",
          "val_loss",
          "val_loss",
          "val_loss",
          "val_loss",
          "val_loss",
          "val_loss",
          "val_loss",
          "val_loss",
          "val_loss",
          "val_loss",
          "val_loss",
          "val_loss",
          "val_loss",
          "val_loss",
          "val_loss",
          "val_loss",
          "val_loss",
          "val_loss",
          "val_loss",
          "val_loss",
          "val_loss",
          "val_loss",
          "val_loss",
          "val_loss",
          "val_loss",
          "val_loss",
          "val_loss",
          "val_loss",
          "val_loss",
          "val_loss",
          "val_loss",
          "val_loss",
          "val_loss",
          "val_loss",
          "val_loss",
          "val_loss",
          "val_loss"
         ],
         "legendgroup": "val_loss",
         "line": {
          "color": "#00cc96",
          "dash": "solid"
         },
         "mode": "lines",
         "name": "val_loss",
         "orientation": "v",
         "showlegend": true,
         "type": "scatter",
         "x": [
          0,
          1,
          2,
          3,
          4,
          5,
          6,
          7,
          8,
          9,
          10,
          11,
          12,
          13,
          14,
          15,
          16,
          17,
          18,
          19,
          20,
          21,
          22,
          23,
          24,
          25,
          26,
          27,
          28,
          29,
          30,
          31,
          32,
          33,
          34,
          35,
          36,
          37,
          38,
          39,
          40,
          41,
          42,
          43,
          44,
          45,
          46,
          47,
          48,
          49,
          50,
          51,
          52,
          53,
          54,
          55,
          56,
          57,
          58,
          59,
          60,
          61,
          62,
          63,
          64,
          65,
          66,
          67,
          68,
          69,
          70,
          71,
          72,
          73,
          74,
          75,
          76,
          77,
          78,
          79,
          80,
          81,
          82,
          83,
          84,
          85,
          86,
          87,
          88,
          89,
          90,
          91,
          92,
          93,
          94,
          95,
          96,
          97,
          98,
          99
         ],
         "xaxis": "x",
         "y": [
          0.7007468938827515,
          0.6766147613525391,
          0.6646222472190857,
          0.6589235067367554,
          0.6570962071418762,
          0.6566399931907654,
          0.6574105024337769,
          0.6589941382408142,
          0.6617130637168884,
          0.663162350654602,
          0.6616173386573792,
          0.6597244143486023,
          0.6581183671951294,
          0.6555206775665283,
          0.6526414752006531,
          0.6497694253921509,
          0.6482102274894714,
          0.64792400598526,
          0.6493908762931824,
          0.6507930159568787,
          0.6502448916435242,
          0.6493894457817078,
          0.6459466218948364,
          0.6475791335105896,
          0.646416962146759,
          0.6434868574142456,
          0.642035961151123,
          0.6435232758522034,
          0.6467393040657043,
          0.6475610733032227,
          0.6473349332809448,
          0.6411184668540955,
          0.6393030881881714,
          0.6448547840118408,
          0.6488837599754333,
          0.6464875340461731,
          0.6413841843605042,
          0.6381213665008545,
          0.6359311938285828,
          0.635737955570221,
          0.6374112963676453,
          0.6396589875221252,
          0.6432611346244812,
          0.6428760886192322,
          0.6405516862869263,
          0.6377539038658142,
          0.6378564834594727,
          0.6392495632171631,
          0.6397446990013123,
          0.6381435394287109,
          0.6368470788002014,
          0.6385137438774109,
          0.6468349695205688,
          0.6492705941200256,
          0.6501147747039795,
          0.6466533541679382,
          0.6425157785415649,
          0.6396273970603943,
          0.6404630541801453,
          0.6459099650382996,
          0.6524170637130737,
          0.6507631540298462,
          0.6410911083221436,
          0.6368825435638428,
          0.639421820640564,
          0.6420472264289856,
          0.6485051512718201,
          0.6459510326385498,
          0.6426575183868408,
          0.6414356231689453,
          0.6446281671524048,
          0.6489990949630737,
          0.6519031524658203,
          0.6507787704467773,
          0.6472142338752747,
          0.6423461437225342,
          0.6395102739334106,
          0.6430127620697021,
          0.6594889760017395,
          0.6655358076095581,
          0.6522072553634644,
          0.6489884257316589,
          0.6464985609054565,
          0.6488643884658813,
          0.6519389748573303,
          0.6477881073951721,
          0.6448647975921631,
          0.6464568376541138,
          0.6483524441719055,
          0.6479894518852234,
          0.6496564745903015,
          0.6538457870483398,
          0.6567078828811646,
          0.6575949788093567,
          0.6528696417808533,
          0.6492189168930054,
          0.6495681405067444,
          0.6597700715065002,
          0.665594756603241,
          0.6568502187728882
         ],
         "yaxis": "y"
        },
        {
         "hovertemplate": "<b>%{hovertext}</b><br><br>metric=val_recall<br>epochs=%{x}<br>values=%{y}<extra></extra>",
         "hovertext": [
          "val_recall",
          "val_recall",
          "val_recall",
          "val_recall",
          "val_recall",
          "val_recall",
          "val_recall",
          "val_recall",
          "val_recall",
          "val_recall",
          "val_recall",
          "val_recall",
          "val_recall",
          "val_recall",
          "val_recall",
          "val_recall",
          "val_recall",
          "val_recall",
          "val_recall",
          "val_recall",
          "val_recall",
          "val_recall",
          "val_recall",
          "val_recall",
          "val_recall",
          "val_recall",
          "val_recall",
          "val_recall",
          "val_recall",
          "val_recall",
          "val_recall",
          "val_recall",
          "val_recall",
          "val_recall",
          "val_recall",
          "val_recall",
          "val_recall",
          "val_recall",
          "val_recall",
          "val_recall",
          "val_recall",
          "val_recall",
          "val_recall",
          "val_recall",
          "val_recall",
          "val_recall",
          "val_recall",
          "val_recall",
          "val_recall",
          "val_recall",
          "val_recall",
          "val_recall",
          "val_recall",
          "val_recall",
          "val_recall",
          "val_recall",
          "val_recall",
          "val_recall",
          "val_recall",
          "val_recall",
          "val_recall",
          "val_recall",
          "val_recall",
          "val_recall",
          "val_recall",
          "val_recall",
          "val_recall",
          "val_recall",
          "val_recall",
          "val_recall",
          "val_recall",
          "val_recall",
          "val_recall",
          "val_recall",
          "val_recall",
          "val_recall",
          "val_recall",
          "val_recall",
          "val_recall",
          "val_recall",
          "val_recall",
          "val_recall",
          "val_recall",
          "val_recall",
          "val_recall",
          "val_recall",
          "val_recall",
          "val_recall",
          "val_recall",
          "val_recall",
          "val_recall",
          "val_recall",
          "val_recall",
          "val_recall",
          "val_recall",
          "val_recall",
          "val_recall",
          "val_recall",
          "val_recall",
          "val_recall"
         ],
         "legendgroup": "val_recall",
         "line": {
          "color": "#ab63fa",
          "dash": "solid"
         },
         "mode": "lines",
         "name": "val_recall",
         "orientation": "v",
         "showlegend": true,
         "type": "scatter",
         "x": [
          0,
          1,
          2,
          3,
          4,
          5,
          6,
          7,
          8,
          9,
          10,
          11,
          12,
          13,
          14,
          15,
          16,
          17,
          18,
          19,
          20,
          21,
          22,
          23,
          24,
          25,
          26,
          27,
          28,
          29,
          30,
          31,
          32,
          33,
          34,
          35,
          36,
          37,
          38,
          39,
          40,
          41,
          42,
          43,
          44,
          45,
          46,
          47,
          48,
          49,
          50,
          51,
          52,
          53,
          54,
          55,
          56,
          57,
          58,
          59,
          60,
          61,
          62,
          63,
          64,
          65,
          66,
          67,
          68,
          69,
          70,
          71,
          72,
          73,
          74,
          75,
          76,
          77,
          78,
          79,
          80,
          81,
          82,
          83,
          84,
          85,
          86,
          87,
          88,
          89,
          90,
          91,
          92,
          93,
          94,
          95,
          96,
          97,
          98,
          99
         ],
         "xaxis": "x",
         "y": [
          0.06976744532585144,
          1,
          1,
          1,
          1,
          1,
          1,
          1,
          1,
          1,
          1,
          0.9767441749572754,
          0.9767441749572754,
          0.9767441749572754,
          0.9767441749572754,
          0.9767441749572754,
          0.9767441749572754,
          0.930232584476471,
          0.8604651093482971,
          0.8372092843055725,
          0.8139534592628479,
          0.8139534592628479,
          0.8139534592628479,
          0.8139534592628479,
          0.8139534592628479,
          0.8139534592628479,
          0.8139534592628479,
          0.8139534592628479,
          0.7674418687820435,
          0.7441860437393188,
          0.7441860437393188,
          0.8139534592628479,
          0.8139534592628479,
          0.7441860437393188,
          0.7209302186965942,
          0.7441860437393188,
          0.7441860437393188,
          0.8139534592628479,
          0.8139534592628479,
          0.8139534592628479,
          0.7906976938247681,
          0.7441860437393188,
          0.7441860437393188,
          0.7441860437393188,
          0.7441860437393188,
          0.7441860437393188,
          0.7441860437393188,
          0.7441860437393188,
          0.7441860437393188,
          0.7441860437393188,
          0.7441860437393188,
          0.7441860437393188,
          0.6511628031730652,
          0.6279069781303406,
          0.604651153087616,
          0.6279069781303406,
          0.6976743936538696,
          0.7209302186965942,
          0.6976743936538696,
          0.6279069781303406,
          0.5581395626068115,
          0.604651153087616,
          0.7209302186965942,
          0.7674418687820435,
          0.7209302186965942,
          0.6976743936538696,
          0.6511628031730652,
          0.6744186282157898,
          0.6976743936538696,
          0.6976743936538696,
          0.6744186282157898,
          0.604651153087616,
          0.604651153087616,
          0.5813953280448914,
          0.604651153087616,
          0.6511628031730652,
          0.6976743936538696,
          0.6744186282157898,
          0.5813953280448914,
          0.4883720874786377,
          0.604651153087616,
          0.6279069781303406,
          0.6744186282157898,
          0.604651153087616,
          0.5813953280448914,
          0.604651153087616,
          0.6511628031730652,
          0.6511628031730652,
          0.6279069781303406,
          0.6279069781303406,
          0.6279069781303406,
          0.604651153087616,
          0.604651153087616,
          0.5813953280448914,
          0.6279069781303406,
          0.6511628031730652,
          0.6279069781303406,
          0.5581395626068115,
          0.4883720874786377,
          0.5813953280448914
         ],
         "yaxis": "y"
        }
       ],
       "layout": {
        "autosize": true,
        "legend": {
         "title": {
          "text": "metric"
         },
         "tracegroupgap": 0
        },
        "margin": {
         "t": 60
        },
        "template": {
         "data": {
          "bar": [
           {
            "error_x": {
             "color": "#2a3f5f"
            },
            "error_y": {
             "color": "#2a3f5f"
            },
            "marker": {
             "line": {
              "color": "#E5ECF6",
              "width": 0.5
             }
            },
            "type": "bar"
           }
          ],
          "barpolar": [
           {
            "marker": {
             "line": {
              "color": "#E5ECF6",
              "width": 0.5
             }
            },
            "type": "barpolar"
           }
          ],
          "carpet": [
           {
            "aaxis": {
             "endlinecolor": "#2a3f5f",
             "gridcolor": "white",
             "linecolor": "white",
             "minorgridcolor": "white",
             "startlinecolor": "#2a3f5f"
            },
            "baxis": {
             "endlinecolor": "#2a3f5f",
             "gridcolor": "white",
             "linecolor": "white",
             "minorgridcolor": "white",
             "startlinecolor": "#2a3f5f"
            },
            "type": "carpet"
           }
          ],
          "choropleth": [
           {
            "colorbar": {
             "outlinewidth": 0,
             "ticks": ""
            },
            "type": "choropleth"
           }
          ],
          "contour": [
           {
            "colorbar": {
             "outlinewidth": 0,
             "ticks": ""
            },
            "colorscale": [
             [
              0,
              "#0d0887"
             ],
             [
              0.1111111111111111,
              "#46039f"
             ],
             [
              0.2222222222222222,
              "#7201a8"
             ],
             [
              0.3333333333333333,
              "#9c179e"
             ],
             [
              0.4444444444444444,
              "#bd3786"
             ],
             [
              0.5555555555555556,
              "#d8576b"
             ],
             [
              0.6666666666666666,
              "#ed7953"
             ],
             [
              0.7777777777777778,
              "#fb9f3a"
             ],
             [
              0.8888888888888888,
              "#fdca26"
             ],
             [
              1,
              "#f0f921"
             ]
            ],
            "type": "contour"
           }
          ],
          "contourcarpet": [
           {
            "colorbar": {
             "outlinewidth": 0,
             "ticks": ""
            },
            "type": "contourcarpet"
           }
          ],
          "heatmap": [
           {
            "colorbar": {
             "outlinewidth": 0,
             "ticks": ""
            },
            "colorscale": [
             [
              0,
              "#0d0887"
             ],
             [
              0.1111111111111111,
              "#46039f"
             ],
             [
              0.2222222222222222,
              "#7201a8"
             ],
             [
              0.3333333333333333,
              "#9c179e"
             ],
             [
              0.4444444444444444,
              "#bd3786"
             ],
             [
              0.5555555555555556,
              "#d8576b"
             ],
             [
              0.6666666666666666,
              "#ed7953"
             ],
             [
              0.7777777777777778,
              "#fb9f3a"
             ],
             [
              0.8888888888888888,
              "#fdca26"
             ],
             [
              1,
              "#f0f921"
             ]
            ],
            "type": "heatmap"
           }
          ],
          "heatmapgl": [
           {
            "colorbar": {
             "outlinewidth": 0,
             "ticks": ""
            },
            "colorscale": [
             [
              0,
              "#0d0887"
             ],
             [
              0.1111111111111111,
              "#46039f"
             ],
             [
              0.2222222222222222,
              "#7201a8"
             ],
             [
              0.3333333333333333,
              "#9c179e"
             ],
             [
              0.4444444444444444,
              "#bd3786"
             ],
             [
              0.5555555555555556,
              "#d8576b"
             ],
             [
              0.6666666666666666,
              "#ed7953"
             ],
             [
              0.7777777777777778,
              "#fb9f3a"
             ],
             [
              0.8888888888888888,
              "#fdca26"
             ],
             [
              1,
              "#f0f921"
             ]
            ],
            "type": "heatmapgl"
           }
          ],
          "histogram": [
           {
            "marker": {
             "colorbar": {
              "outlinewidth": 0,
              "ticks": ""
             }
            },
            "type": "histogram"
           }
          ],
          "histogram2d": [
           {
            "colorbar": {
             "outlinewidth": 0,
             "ticks": ""
            },
            "colorscale": [
             [
              0,
              "#0d0887"
             ],
             [
              0.1111111111111111,
              "#46039f"
             ],
             [
              0.2222222222222222,
              "#7201a8"
             ],
             [
              0.3333333333333333,
              "#9c179e"
             ],
             [
              0.4444444444444444,
              "#bd3786"
             ],
             [
              0.5555555555555556,
              "#d8576b"
             ],
             [
              0.6666666666666666,
              "#ed7953"
             ],
             [
              0.7777777777777778,
              "#fb9f3a"
             ],
             [
              0.8888888888888888,
              "#fdca26"
             ],
             [
              1,
              "#f0f921"
             ]
            ],
            "type": "histogram2d"
           }
          ],
          "histogram2dcontour": [
           {
            "colorbar": {
             "outlinewidth": 0,
             "ticks": ""
            },
            "colorscale": [
             [
              0,
              "#0d0887"
             ],
             [
              0.1111111111111111,
              "#46039f"
             ],
             [
              0.2222222222222222,
              "#7201a8"
             ],
             [
              0.3333333333333333,
              "#9c179e"
             ],
             [
              0.4444444444444444,
              "#bd3786"
             ],
             [
              0.5555555555555556,
              "#d8576b"
             ],
             [
              0.6666666666666666,
              "#ed7953"
             ],
             [
              0.7777777777777778,
              "#fb9f3a"
             ],
             [
              0.8888888888888888,
              "#fdca26"
             ],
             [
              1,
              "#f0f921"
             ]
            ],
            "type": "histogram2dcontour"
           }
          ],
          "mesh3d": [
           {
            "colorbar": {
             "outlinewidth": 0,
             "ticks": ""
            },
            "type": "mesh3d"
           }
          ],
          "parcoords": [
           {
            "line": {
             "colorbar": {
              "outlinewidth": 0,
              "ticks": ""
             }
            },
            "type": "parcoords"
           }
          ],
          "pie": [
           {
            "automargin": true,
            "type": "pie"
           }
          ],
          "scatter": [
           {
            "marker": {
             "colorbar": {
              "outlinewidth": 0,
              "ticks": ""
             }
            },
            "type": "scatter"
           }
          ],
          "scatter3d": [
           {
            "line": {
             "colorbar": {
              "outlinewidth": 0,
              "ticks": ""
             }
            },
            "marker": {
             "colorbar": {
              "outlinewidth": 0,
              "ticks": ""
             }
            },
            "type": "scatter3d"
           }
          ],
          "scattercarpet": [
           {
            "marker": {
             "colorbar": {
              "outlinewidth": 0,
              "ticks": ""
             }
            },
            "type": "scattercarpet"
           }
          ],
          "scattergeo": [
           {
            "marker": {
             "colorbar": {
              "outlinewidth": 0,
              "ticks": ""
             }
            },
            "type": "scattergeo"
           }
          ],
          "scattergl": [
           {
            "marker": {
             "colorbar": {
              "outlinewidth": 0,
              "ticks": ""
             }
            },
            "type": "scattergl"
           }
          ],
          "scattermapbox": [
           {
            "marker": {
             "colorbar": {
              "outlinewidth": 0,
              "ticks": ""
             }
            },
            "type": "scattermapbox"
           }
          ],
          "scatterpolar": [
           {
            "marker": {
             "colorbar": {
              "outlinewidth": 0,
              "ticks": ""
             }
            },
            "type": "scatterpolar"
           }
          ],
          "scatterpolargl": [
           {
            "marker": {
             "colorbar": {
              "outlinewidth": 0,
              "ticks": ""
             }
            },
            "type": "scatterpolargl"
           }
          ],
          "scatterternary": [
           {
            "marker": {
             "colorbar": {
              "outlinewidth": 0,
              "ticks": ""
             }
            },
            "type": "scatterternary"
           }
          ],
          "surface": [
           {
            "colorbar": {
             "outlinewidth": 0,
             "ticks": ""
            },
            "colorscale": [
             [
              0,
              "#0d0887"
             ],
             [
              0.1111111111111111,
              "#46039f"
             ],
             [
              0.2222222222222222,
              "#7201a8"
             ],
             [
              0.3333333333333333,
              "#9c179e"
             ],
             [
              0.4444444444444444,
              "#bd3786"
             ],
             [
              0.5555555555555556,
              "#d8576b"
             ],
             [
              0.6666666666666666,
              "#ed7953"
             ],
             [
              0.7777777777777778,
              "#fb9f3a"
             ],
             [
              0.8888888888888888,
              "#fdca26"
             ],
             [
              1,
              "#f0f921"
             ]
            ],
            "type": "surface"
           }
          ],
          "table": [
           {
            "cells": {
             "fill": {
              "color": "#EBF0F8"
             },
             "line": {
              "color": "white"
             }
            },
            "header": {
             "fill": {
              "color": "#C8D4E3"
             },
             "line": {
              "color": "white"
             }
            },
            "type": "table"
           }
          ]
         },
         "layout": {
          "annotationdefaults": {
           "arrowcolor": "#2a3f5f",
           "arrowhead": 0,
           "arrowwidth": 1
          },
          "coloraxis": {
           "colorbar": {
            "outlinewidth": 0,
            "ticks": ""
           }
          },
          "colorscale": {
           "diverging": [
            [
             0,
             "#8e0152"
            ],
            [
             0.1,
             "#c51b7d"
            ],
            [
             0.2,
             "#de77ae"
            ],
            [
             0.3,
             "#f1b6da"
            ],
            [
             0.4,
             "#fde0ef"
            ],
            [
             0.5,
             "#f7f7f7"
            ],
            [
             0.6,
             "#e6f5d0"
            ],
            [
             0.7,
             "#b8e186"
            ],
            [
             0.8,
             "#7fbc41"
            ],
            [
             0.9,
             "#4d9221"
            ],
            [
             1,
             "#276419"
            ]
           ],
           "sequential": [
            [
             0,
             "#0d0887"
            ],
            [
             0.1111111111111111,
             "#46039f"
            ],
            [
             0.2222222222222222,
             "#7201a8"
            ],
            [
             0.3333333333333333,
             "#9c179e"
            ],
            [
             0.4444444444444444,
             "#bd3786"
            ],
            [
             0.5555555555555556,
             "#d8576b"
            ],
            [
             0.6666666666666666,
             "#ed7953"
            ],
            [
             0.7777777777777778,
             "#fb9f3a"
            ],
            [
             0.8888888888888888,
             "#fdca26"
            ],
            [
             1,
             "#f0f921"
            ]
           ],
           "sequentialminus": [
            [
             0,
             "#0d0887"
            ],
            [
             0.1111111111111111,
             "#46039f"
            ],
            [
             0.2222222222222222,
             "#7201a8"
            ],
            [
             0.3333333333333333,
             "#9c179e"
            ],
            [
             0.4444444444444444,
             "#bd3786"
            ],
            [
             0.5555555555555556,
             "#d8576b"
            ],
            [
             0.6666666666666666,
             "#ed7953"
            ],
            [
             0.7777777777777778,
             "#fb9f3a"
            ],
            [
             0.8888888888888888,
             "#fdca26"
            ],
            [
             1,
             "#f0f921"
            ]
           ]
          },
          "colorway": [
           "#636efa",
           "#EF553B",
           "#00cc96",
           "#ab63fa",
           "#FFA15A",
           "#19d3f3",
           "#FF6692",
           "#B6E880",
           "#FF97FF",
           "#FECB52"
          ],
          "font": {
           "color": "#2a3f5f"
          },
          "geo": {
           "bgcolor": "white",
           "lakecolor": "white",
           "landcolor": "#E5ECF6",
           "showlakes": true,
           "showland": true,
           "subunitcolor": "white"
          },
          "hoverlabel": {
           "align": "left"
          },
          "hovermode": "closest",
          "mapbox": {
           "style": "light"
          },
          "paper_bgcolor": "white",
          "plot_bgcolor": "#E5ECF6",
          "polar": {
           "angularaxis": {
            "gridcolor": "white",
            "linecolor": "white",
            "ticks": ""
           },
           "bgcolor": "#E5ECF6",
           "radialaxis": {
            "gridcolor": "white",
            "linecolor": "white",
            "ticks": ""
           }
          },
          "scene": {
           "xaxis": {
            "backgroundcolor": "#E5ECF6",
            "gridcolor": "white",
            "gridwidth": 2,
            "linecolor": "white",
            "showbackground": true,
            "ticks": "",
            "zerolinecolor": "white"
           },
           "yaxis": {
            "backgroundcolor": "#E5ECF6",
            "gridcolor": "white",
            "gridwidth": 2,
            "linecolor": "white",
            "showbackground": true,
            "ticks": "",
            "zerolinecolor": "white"
           },
           "zaxis": {
            "backgroundcolor": "#E5ECF6",
            "gridcolor": "white",
            "gridwidth": 2,
            "linecolor": "white",
            "showbackground": true,
            "ticks": "",
            "zerolinecolor": "white"
           }
          },
          "shapedefaults": {
           "line": {
            "color": "#2a3f5f"
           }
          },
          "ternary": {
           "aaxis": {
            "gridcolor": "white",
            "linecolor": "white",
            "ticks": ""
           },
           "baxis": {
            "gridcolor": "white",
            "linecolor": "white",
            "ticks": ""
           },
           "bgcolor": "#E5ECF6",
           "caxis": {
            "gridcolor": "white",
            "linecolor": "white",
            "ticks": ""
           }
          },
          "title": {
           "x": 0.05
          },
          "xaxis": {
           "automargin": true,
           "gridcolor": "white",
           "linecolor": "white",
           "ticks": "",
           "title": {
            "standoff": 15
           },
           "zerolinecolor": "white",
           "zerolinewidth": 2
          },
          "yaxis": {
           "automargin": true,
           "gridcolor": "white",
           "linecolor": "white",
           "ticks": "",
           "title": {
            "standoff": 15
           },
           "zerolinecolor": "white",
           "zerolinewidth": 2
          }
         }
        },
        "xaxis": {
         "anchor": "y",
         "autorange": true,
         "domain": [
          0,
          1
         ],
         "range": [
          0,
          99
         ],
         "title": {
          "text": "epochs"
         },
         "type": "linear"
        },
        "yaxis": {
         "anchor": "x",
         "autorange": true,
         "domain": [
          0,
          1
         ],
         "range": [
          0.00059101771977213,
          1.052600472751591
         ],
         "title": {
          "text": "values"
         },
         "type": "linear"
        }
       }
      },
      "image/png": "[encoded data removed]",
      "text/html": [
       "<div>\n",
       "        \n",
       "        \n",
       "            <div id=\"a230604c-65ed-487a-8dc7-62e005434e95\" class=\"plotly-graph-div\" style=\"height:525px; width:100%;\"></div>\n",
       "            <script type=\"text/javascript\">\n",
       "                require([\"plotly\"], function(Plotly) {\n",
       "                    window.PLOTLYENV=window.PLOTLYENV || {};\n",
       "                    \n",
       "                if (document.getElementById(\"a230604c-65ed-487a-8dc7-62e005434e95\")) {\n",
       "                    Plotly.newPlot(\n",
       "                        'a230604c-65ed-487a-8dc7-62e005434e95',\n",
       "                        [{\"hovertemplate\": \"<b>%{hovertext}</b><br><br>metric=loss<br>epochs=%{x}<br>values=%{y}<extra></extra>\", \"hovertext\": [\"loss\", \"loss\", \"loss\", \"loss\", \"loss\", \"loss\", \"loss\", \"loss\", \"loss\", \"loss\", \"loss\", \"loss\", \"loss\", \"loss\", \"loss\", \"loss\", \"loss\", \"loss\", \"loss\", \"loss\", \"loss\", \"loss\", \"loss\", \"loss\", \"loss\", \"loss\", \"loss\", \"loss\", \"loss\", \"loss\", \"loss\", \"loss\", \"loss\", \"loss\", \"loss\", \"loss\", \"loss\", \"loss\", \"loss\", \"loss\", \"loss\", \"loss\", \"loss\", \"loss\", \"loss\", \"loss\", \"loss\", \"loss\", \"loss\", \"loss\", \"loss\", \"loss\", \"loss\", \"loss\", \"loss\", \"loss\", \"loss\", \"loss\", \"loss\", \"loss\", \"loss\", \"loss\", \"loss\", \"loss\", \"loss\", \"loss\", \"loss\", \"loss\", \"loss\", \"loss\", \"loss\", \"loss\", \"loss\", \"loss\", \"loss\", \"loss\", \"loss\", \"loss\", \"loss\", \"loss\", \"loss\", \"loss\", \"loss\", \"loss\", \"loss\", \"loss\", \"loss\", \"loss\", \"loss\", \"loss\", \"loss\", \"loss\", \"loss\", \"loss\", \"loss\", \"loss\", \"loss\", \"loss\", \"loss\", \"loss\"], \"legendgroup\": \"loss\", \"line\": {\"color\": \"#636efa\", \"dash\": \"solid\"}, \"mode\": \"lines\", \"name\": \"loss\", \"orientation\": \"v\", \"showlegend\": true, \"type\": \"scatter\", \"x\": [0, 1, 2, 3, 4, 5, 6, 7, 8, 9, 10, 11, 12, 13, 14, 15, 16, 17, 18, 19, 20, 21, 22, 23, 24, 25, 26, 27, 28, 29, 30, 31, 32, 33, 34, 35, 36, 37, 38, 39, 40, 41, 42, 43, 44, 45, 46, 47, 48, 49, 50, 51, 52, 53, 54, 55, 56, 57, 58, 59, 60, 61, 62, 63, 64, 65, 66, 67, 68, 69, 70, 71, 72, 73, 74, 75, 76, 77, 78, 79, 80, 81, 82, 83, 84, 85, 86, 87, 88, 89, 90, 91, 92, 93, 94, 95, 96, 97, 98, 99], \"xaxis\": \"x\", \"y\": [0.7362498641014099, 0.6944278478622437, 0.6821340918540955, 0.6754646897315979, 0.6784321069717407, 0.6722589135169983, 0.6723358631134033, 0.6750919818878174, 0.6679315567016602, 0.6692665815353394, 0.6674649715423584, 0.6628611087799072, 0.6729649901390076, 0.663321316242218, 0.6529011130332947, 0.6475194096565247, 0.6504287719726562, 0.6494479179382324, 0.6500482559204102, 0.6411245465278625, 0.6437848806381226, 0.6607107520103455, 0.6459661722183228, 0.6366735100746155, 0.6479378342628479, 0.6392548084259033, 0.6344700455665588, 0.6370015740394592, 0.6382490992546082, 0.6361551880836487, 0.63506680727005, 0.6382953524589539, 0.6300804018974304, 0.635818600654602, 0.6464613080024719, 0.6475899815559387, 0.6239900588989258, 0.6310396194458008, 0.6143994927406311, 0.6228944659233093, 0.6398552656173706, 0.6181082129478455, 0.6222836375236511, 0.6164137721061707, 0.6188107132911682, 0.607333242893219, 0.624119758605957, 0.6087060570716858, 0.6369202136993408, 0.6219975352287292, 0.6103253364562988, 0.6286939978599548, 0.6171562671661377, 0.5992583632469177, 0.6150636672973633, 0.6240621209144592, 0.6097972393035889, 0.6178128719329834, 0.6285814642906189, 0.6235979795455933, 0.6024835109710693, 0.6016392111778259, 0.6186702251434326, 0.6166709661483765, 0.6185365915298462, 0.6156810522079468, 0.6101216077804565, 0.6110374331474304, 0.6066270470619202, 0.6136423945426941, 0.5982532501220703, 0.606059730052948, 0.5840871334075928, 0.6089378595352173, 0.6042711138725281, 0.5996335744857788, 0.597732663154602, 0.6159735918045044, 0.6029374599456787, 0.5917903780937195, 0.5980628132820129, 0.6143574714660645, 0.5971667766571045, 0.597875714302063, 0.5909401774406433, 0.5941693782806396, 0.6040735244750977, 0.5897479057312012, 0.5847726464271545, 0.583943784236908, 0.5974274277687073, 0.5968159437179565, 0.5962687134742737, 0.597605288028717, 0.6009777188301086, 0.5888177752494812, 0.5914168357849121, 0.5803039073944092, 0.5977346897125244, 0.5951716899871826], \"yaxis\": \"y\"}, {\"hovertemplate\": \"<b>%{hovertext}</b><br><br>metric=recall<br>epochs=%{x}<br>values=%{y}<extra></extra>\", \"hovertext\": [\"recall\", \"recall\", \"recall\", \"recall\", \"recall\", \"recall\", \"recall\", \"recall\", \"recall\", \"recall\", \"recall\", \"recall\", \"recall\", \"recall\", \"recall\", \"recall\", \"recall\", \"recall\", \"recall\", \"recall\", \"recall\", \"recall\", \"recall\", \"recall\", \"recall\", \"recall\", \"recall\", \"recall\", \"recall\", \"recall\", \"recall\", \"recall\", \"recall\", \"recall\", \"recall\", \"recall\", \"recall\", \"recall\", \"recall\", \"recall\", \"recall\", \"recall\", \"recall\", \"recall\", \"recall\", \"recall\", \"recall\", \"recall\", \"recall\", \"recall\", \"recall\", \"recall\", \"recall\", \"recall\", \"recall\", \"recall\", \"recall\", \"recall\", \"recall\", \"recall\", \"recall\", \"recall\", \"recall\", \"recall\", \"recall\", \"recall\", \"recall\", \"recall\", \"recall\", \"recall\", \"recall\", \"recall\", \"recall\", \"recall\", \"recall\", \"recall\", \"recall\", \"recall\", \"recall\", \"recall\", \"recall\", \"recall\", \"recall\", \"recall\", \"recall\", \"recall\", \"recall\", \"recall\", \"recall\", \"recall\", \"recall\", \"recall\", \"recall\", \"recall\", \"recall\", \"recall\", \"recall\", \"recall\", \"recall\", \"recall\"], \"legendgroup\": \"recall\", \"line\": {\"color\": \"#EF553B\", \"dash\": \"solid\"}, \"mode\": \"lines\", \"name\": \"recall\", \"orientation\": \"v\", \"showlegend\": true, \"type\": \"scatter\", \"x\": [0, 1, 2, 3, 4, 5, 6, 7, 8, 9, 10, 11, 12, 13, 14, 15, 16, 17, 18, 19, 20, 21, 22, 23, 24, 25, 26, 27, 28, 29, 30, 31, 32, 33, 34, 35, 36, 37, 38, 39, 40, 41, 42, 43, 44, 45, 46, 47, 48, 49, 50, 51, 52, 53, 54, 55, 56, 57, 58, 59, 60, 61, 62, 63, 64, 65, 66, 67, 68, 69, 70, 71, 72, 73, 74, 75, 76, 77, 78, 79, 80, 81, 82, 83, 84, 85, 86, 87, 88, 89, 90, 91, 92, 93, 94, 95, 96, 97, 98, 99], \"xaxis\": \"x\", \"y\": [0.05319149047136307, 0.478723406791687, 0.978723406791687, 1.0, 1.0, 1.0, 1.0, 1.0, 0.9893617033958435, 0.9893617033958435, 0.978723406791687, 0.978723406791687, 0.9680851101875305, 0.978723406791687, 0.978723406791687, 0.978723406791687, 0.9893617033958435, 0.9893617033958435, 0.9255319237709045, 0.8936170339584351, 0.8297872543334961, 0.7978723645210266, 0.8723404407501221, 0.8723404407501221, 0.8297872543334961, 0.8404255509376526, 0.8829787373542786, 0.8297872543334961, 0.7765957713127136, 0.8191489577293396, 0.7659574747085571, 0.7978723645210266, 0.7978723645210266, 0.7659574747085571, 0.8191489577293396, 0.7234042286872864, 0.7978723645210266, 0.7978723645210266, 0.8191489577293396, 0.8617021441459656, 0.8617021441459656, 0.8404255509376526, 0.7872340679168701, 0.8191489577293396, 0.8510638475418091, 0.8617021441459656, 0.8191489577293396, 0.8510638475418091, 0.7978723645210266, 0.7872340679168701, 0.8085106611251831, 0.8085106611251831, 0.7872340679168701, 0.7659574747085571, 0.7553191781044006, 0.7659574747085571, 0.8191489577293396, 0.8297872543334961, 0.8191489577293396, 0.7765957713127136, 0.7765957713127136, 0.7659574747085571, 0.7659574747085571, 0.7978723645210266, 0.7872340679168701, 0.7978723645210266, 0.8085106611251831, 0.7872340679168701, 0.7446808218955994, 0.7978723645210266, 0.7872340679168701, 0.7872340679168701, 0.7659574747085571, 0.7446808218955994, 0.7659574747085571, 0.7659574747085571, 0.8085106611251831, 0.8085106611251831, 0.7234042286872864, 0.7021276354789734, 0.7234042286872864, 0.7872340679168701, 0.7659574747085571, 0.7978723645210266, 0.7234042286872864, 0.7446808218955994, 0.7446808218955994, 0.7659574747085571, 0.7872340679168701, 0.7765957713127136, 0.7765957713127136, 0.7553191781044006, 0.7340425252914429, 0.7340425252914429, 0.6914893388748169, 0.7872340679168701, 0.7765957713127136, 0.7765957713127136, 0.7234042286872864, 0.7340425252914429], \"yaxis\": \"y\"}, {\"hovertemplate\": \"<b>%{hovertext}</b><br><br>metric=val_loss<br>epochs=%{x}<br>values=%{y}<extra></extra>\", \"hovertext\": [\"val_loss\", \"val_loss\", \"val_loss\", \"val_loss\", \"val_loss\", \"val_loss\", \"val_loss\", \"val_loss\", \"val_loss\", \"val_loss\", \"val_loss\", \"val_loss\", \"val_loss\", \"val_loss\", \"val_loss\", \"val_loss\", \"val_loss\", \"val_loss\", \"val_loss\", \"val_loss\", \"val_loss\", \"val_loss\", \"val_loss\", \"val_loss\", \"val_loss\", \"val_loss\", \"val_loss\", \"val_loss\", \"val_loss\", \"val_loss\", \"val_loss\", \"val_loss\", \"val_loss\", \"val_loss\", \"val_loss\", \"val_loss\", \"val_loss\", \"val_loss\", \"val_loss\", \"val_loss\", \"val_loss\", \"val_loss\", \"val_loss\", \"val_loss\", \"val_loss\", \"val_loss\", \"val_loss\", \"val_loss\", \"val_loss\", \"val_loss\", \"val_loss\", \"val_loss\", \"val_loss\", \"val_loss\", \"val_loss\", \"val_loss\", \"val_loss\", \"val_loss\", \"val_loss\", \"val_loss\", \"val_loss\", \"val_loss\", \"val_loss\", \"val_loss\", \"val_loss\", \"val_loss\", \"val_loss\", \"val_loss\", \"val_loss\", \"val_loss\", \"val_loss\", \"val_loss\", \"val_loss\", \"val_loss\", \"val_loss\", \"val_loss\", \"val_loss\", \"val_loss\", \"val_loss\", \"val_loss\", \"val_loss\", \"val_loss\", \"val_loss\", \"val_loss\", \"val_loss\", \"val_loss\", \"val_loss\", \"val_loss\", \"val_loss\", \"val_loss\", \"val_loss\", \"val_loss\", \"val_loss\", \"val_loss\", \"val_loss\", \"val_loss\", \"val_loss\", \"val_loss\", \"val_loss\", \"val_loss\"], \"legendgroup\": \"val_loss\", \"line\": {\"color\": \"#00cc96\", \"dash\": \"solid\"}, \"mode\": \"lines\", \"name\": \"val_loss\", \"orientation\": \"v\", \"showlegend\": true, \"type\": \"scatter\", \"x\": [0, 1, 2, 3, 4, 5, 6, 7, 8, 9, 10, 11, 12, 13, 14, 15, 16, 17, 18, 19, 20, 21, 22, 23, 24, 25, 26, 27, 28, 29, 30, 31, 32, 33, 34, 35, 36, 37, 38, 39, 40, 41, 42, 43, 44, 45, 46, 47, 48, 49, 50, 51, 52, 53, 54, 55, 56, 57, 58, 59, 60, 61, 62, 63, 64, 65, 66, 67, 68, 69, 70, 71, 72, 73, 74, 75, 76, 77, 78, 79, 80, 81, 82, 83, 84, 85, 86, 87, 88, 89, 90, 91, 92, 93, 94, 95, 96, 97, 98, 99], \"xaxis\": \"x\", \"y\": [0.7007468938827515, 0.6766147613525391, 0.6646222472190857, 0.6589235067367554, 0.6570962071418762, 0.6566399931907654, 0.6574105024337769, 0.6589941382408142, 0.6617130637168884, 0.663162350654602, 0.6616173386573792, 0.6597244143486023, 0.6581183671951294, 0.6555206775665283, 0.6526414752006531, 0.6497694253921509, 0.6482102274894714, 0.64792400598526, 0.6493908762931824, 0.6507930159568787, 0.6502448916435242, 0.6493894457817078, 0.6459466218948364, 0.6475791335105896, 0.646416962146759, 0.6434868574142456, 0.642035961151123, 0.6435232758522034, 0.6467393040657043, 0.6475610733032227, 0.6473349332809448, 0.6411184668540955, 0.6393030881881714, 0.6448547840118408, 0.6488837599754333, 0.6464875340461731, 0.6413841843605042, 0.6381213665008545, 0.6359311938285828, 0.635737955570221, 0.6374112963676453, 0.6396589875221252, 0.6432611346244812, 0.6428760886192322, 0.6405516862869263, 0.6377539038658142, 0.6378564834594727, 0.6392495632171631, 0.6397446990013123, 0.6381435394287109, 0.6368470788002014, 0.6385137438774109, 0.6468349695205688, 0.6492705941200256, 0.6501147747039795, 0.6466533541679382, 0.6425157785415649, 0.6396273970603943, 0.6404630541801453, 0.6459099650382996, 0.6524170637130737, 0.6507631540298462, 0.6410911083221436, 0.6368825435638428, 0.639421820640564, 0.6420472264289856, 0.6485051512718201, 0.6459510326385498, 0.6426575183868408, 0.6414356231689453, 0.6446281671524048, 0.6489990949630737, 0.6519031524658203, 0.6507787704467773, 0.6472142338752747, 0.6423461437225342, 0.6395102739334106, 0.6430127620697021, 0.6594889760017395, 0.6655358076095581, 0.6522072553634644, 0.6489884257316589, 0.6464985609054565, 0.6488643884658813, 0.6519389748573303, 0.6477881073951721, 0.6448647975921631, 0.6464568376541138, 0.6483524441719055, 0.6479894518852234, 0.6496564745903015, 0.6538457870483398, 0.6567078828811646, 0.6575949788093567, 0.6528696417808533, 0.6492189168930054, 0.6495681405067444, 0.6597700715065002, 0.665594756603241, 0.6568502187728882], \"yaxis\": \"y\"}, {\"hovertemplate\": \"<b>%{hovertext}</b><br><br>metric=val_recall<br>epochs=%{x}<br>values=%{y}<extra></extra>\", \"hovertext\": [\"val_recall\", \"val_recall\", \"val_recall\", \"val_recall\", \"val_recall\", \"val_recall\", \"val_recall\", \"val_recall\", \"val_recall\", \"val_recall\", \"val_recall\", \"val_recall\", \"val_recall\", \"val_recall\", \"val_recall\", \"val_recall\", \"val_recall\", \"val_recall\", \"val_recall\", \"val_recall\", \"val_recall\", \"val_recall\", \"val_recall\", \"val_recall\", \"val_recall\", \"val_recall\", \"val_recall\", \"val_recall\", \"val_recall\", \"val_recall\", \"val_recall\", \"val_recall\", \"val_recall\", \"val_recall\", \"val_recall\", \"val_recall\", \"val_recall\", \"val_recall\", \"val_recall\", \"val_recall\", \"val_recall\", \"val_recall\", \"val_recall\", \"val_recall\", \"val_recall\", \"val_recall\", \"val_recall\", \"val_recall\", \"val_recall\", \"val_recall\", \"val_recall\", \"val_recall\", \"val_recall\", \"val_recall\", \"val_recall\", \"val_recall\", \"val_recall\", \"val_recall\", \"val_recall\", \"val_recall\", \"val_recall\", \"val_recall\", \"val_recall\", \"val_recall\", \"val_recall\", \"val_recall\", \"val_recall\", \"val_recall\", \"val_recall\", \"val_recall\", \"val_recall\", \"val_recall\", \"val_recall\", \"val_recall\", \"val_recall\", \"val_recall\", \"val_recall\", \"val_recall\", \"val_recall\", \"val_recall\", \"val_recall\", \"val_recall\", \"val_recall\", \"val_recall\", \"val_recall\", \"val_recall\", \"val_recall\", \"val_recall\", \"val_recall\", \"val_recall\", \"val_recall\", \"val_recall\", \"val_recall\", \"val_recall\", \"val_recall\", \"val_recall\", \"val_recall\", \"val_recall\", \"val_recall\", \"val_recall\"], \"legendgroup\": \"val_recall\", \"line\": {\"color\": \"#ab63fa\", \"dash\": \"solid\"}, \"mode\": \"lines\", \"name\": \"val_recall\", \"orientation\": \"v\", \"showlegend\": true, \"type\": \"scatter\", \"x\": [0, 1, 2, 3, 4, 5, 6, 7, 8, 9, 10, 11, 12, 13, 14, 15, 16, 17, 18, 19, 20, 21, 22, 23, 24, 25, 26, 27, 28, 29, 30, 31, 32, 33, 34, 35, 36, 37, 38, 39, 40, 41, 42, 43, 44, 45, 46, 47, 48, 49, 50, 51, 52, 53, 54, 55, 56, 57, 58, 59, 60, 61, 62, 63, 64, 65, 66, 67, 68, 69, 70, 71, 72, 73, 74, 75, 76, 77, 78, 79, 80, 81, 82, 83, 84, 85, 86, 87, 88, 89, 90, 91, 92, 93, 94, 95, 96, 97, 98, 99], \"xaxis\": \"x\", \"y\": [0.06976744532585144, 1.0, 1.0, 1.0, 1.0, 1.0, 1.0, 1.0, 1.0, 1.0, 1.0, 0.9767441749572754, 0.9767441749572754, 0.9767441749572754, 0.9767441749572754, 0.9767441749572754, 0.9767441749572754, 0.930232584476471, 0.8604651093482971, 0.8372092843055725, 0.8139534592628479, 0.8139534592628479, 0.8139534592628479, 0.8139534592628479, 0.8139534592628479, 0.8139534592628479, 0.8139534592628479, 0.8139534592628479, 0.7674418687820435, 0.7441860437393188, 0.7441860437393188, 0.8139534592628479, 0.8139534592628479, 0.7441860437393188, 0.7209302186965942, 0.7441860437393188, 0.7441860437393188, 0.8139534592628479, 0.8139534592628479, 0.8139534592628479, 0.7906976938247681, 0.7441860437393188, 0.7441860437393188, 0.7441860437393188, 0.7441860437393188, 0.7441860437393188, 0.7441860437393188, 0.7441860437393188, 0.7441860437393188, 0.7441860437393188, 0.7441860437393188, 0.7441860437393188, 0.6511628031730652, 0.6279069781303406, 0.604651153087616, 0.6279069781303406, 0.6976743936538696, 0.7209302186965942, 0.6976743936538696, 0.6279069781303406, 0.5581395626068115, 0.604651153087616, 0.7209302186965942, 0.7674418687820435, 0.7209302186965942, 0.6976743936538696, 0.6511628031730652, 0.6744186282157898, 0.6976743936538696, 0.6976743936538696, 0.6744186282157898, 0.604651153087616, 0.604651153087616, 0.5813953280448914, 0.604651153087616, 0.6511628031730652, 0.6976743936538696, 0.6744186282157898, 0.5813953280448914, 0.4883720874786377, 0.604651153087616, 0.6279069781303406, 0.6744186282157898, 0.604651153087616, 0.5813953280448914, 0.604651153087616, 0.6511628031730652, 0.6511628031730652, 0.6279069781303406, 0.6279069781303406, 0.6279069781303406, 0.604651153087616, 0.604651153087616, 0.5813953280448914, 0.6279069781303406, 0.6511628031730652, 0.6279069781303406, 0.5581395626068115, 0.4883720874786377, 0.5813953280448914], \"yaxis\": \"y\"}],\n",
       "                        {\"legend\": {\"title\": {\"text\": \"metric\"}, \"tracegroupgap\": 0}, \"margin\": {\"t\": 60}, \"template\": {\"data\": {\"bar\": [{\"error_x\": {\"color\": \"#2a3f5f\"}, \"error_y\": {\"color\": \"#2a3f5f\"}, \"marker\": {\"line\": {\"color\": \"#E5ECF6\", \"width\": 0.5}}, \"type\": \"bar\"}], \"barpolar\": [{\"marker\": {\"line\": {\"color\": \"#E5ECF6\", \"width\": 0.5}}, \"type\": \"barpolar\"}], \"carpet\": [{\"aaxis\": {\"endlinecolor\": \"#2a3f5f\", \"gridcolor\": \"white\", \"linecolor\": \"white\", \"minorgridcolor\": \"white\", \"startlinecolor\": \"#2a3f5f\"}, \"baxis\": {\"endlinecolor\": \"#2a3f5f\", \"gridcolor\": \"white\", \"linecolor\": \"white\", \"minorgridcolor\": \"white\", \"startlinecolor\": \"#2a3f5f\"}, \"type\": \"carpet\"}], \"choropleth\": [{\"colorbar\": {\"outlinewidth\": 0, \"ticks\": \"\"}, \"type\": \"choropleth\"}], \"contour\": [{\"colorbar\": {\"outlinewidth\": 0, \"ticks\": \"\"}, \"colorscale\": [[0.0, \"#0d0887\"], [0.1111111111111111, \"#46039f\"], [0.2222222222222222, \"#7201a8\"], [0.3333333333333333, \"#9c179e\"], [0.4444444444444444, \"#bd3786\"], [0.5555555555555556, \"#d8576b\"], [0.6666666666666666, \"#ed7953\"], [0.7777777777777778, \"#fb9f3a\"], [0.8888888888888888, \"#fdca26\"], [1.0, \"#f0f921\"]], \"type\": \"contour\"}], \"contourcarpet\": [{\"colorbar\": {\"outlinewidth\": 0, \"ticks\": \"\"}, \"type\": \"contourcarpet\"}], \"heatmap\": [{\"colorbar\": {\"outlinewidth\": 0, \"ticks\": \"\"}, \"colorscale\": [[0.0, \"#0d0887\"], [0.1111111111111111, \"#46039f\"], [0.2222222222222222, \"#7201a8\"], [0.3333333333333333, \"#9c179e\"], [0.4444444444444444, \"#bd3786\"], [0.5555555555555556, \"#d8576b\"], [0.6666666666666666, \"#ed7953\"], [0.7777777777777778, \"#fb9f3a\"], [0.8888888888888888, \"#fdca26\"], [1.0, \"#f0f921\"]], \"type\": \"heatmap\"}], \"heatmapgl\": [{\"colorbar\": {\"outlinewidth\": 0, \"ticks\": \"\"}, \"colorscale\": [[0.0, \"#0d0887\"], [0.1111111111111111, \"#46039f\"], [0.2222222222222222, \"#7201a8\"], [0.3333333333333333, \"#9c179e\"], [0.4444444444444444, \"#bd3786\"], [0.5555555555555556, \"#d8576b\"], [0.6666666666666666, \"#ed7953\"], [0.7777777777777778, \"#fb9f3a\"], [0.8888888888888888, \"#fdca26\"], [1.0, \"#f0f921\"]], \"type\": \"heatmapgl\"}], \"histogram\": [{\"marker\": {\"colorbar\": {\"outlinewidth\": 0, \"ticks\": \"\"}}, \"type\": \"histogram\"}], \"histogram2d\": [{\"colorbar\": {\"outlinewidth\": 0, \"ticks\": \"\"}, \"colorscale\": [[0.0, \"#0d0887\"], [0.1111111111111111, \"#46039f\"], [0.2222222222222222, \"#7201a8\"], [0.3333333333333333, \"#9c179e\"], [0.4444444444444444, \"#bd3786\"], [0.5555555555555556, \"#d8576b\"], [0.6666666666666666, \"#ed7953\"], [0.7777777777777778, \"#fb9f3a\"], [0.8888888888888888, \"#fdca26\"], [1.0, \"#f0f921\"]], \"type\": \"histogram2d\"}], \"histogram2dcontour\": [{\"colorbar\": {\"outlinewidth\": 0, \"ticks\": \"\"}, \"colorscale\": [[0.0, \"#0d0887\"], [0.1111111111111111, \"#46039f\"], [0.2222222222222222, \"#7201a8\"], [0.3333333333333333, \"#9c179e\"], [0.4444444444444444, \"#bd3786\"], [0.5555555555555556, \"#d8576b\"], [0.6666666666666666, \"#ed7953\"], [0.7777777777777778, \"#fb9f3a\"], [0.8888888888888888, \"#fdca26\"], [1.0, \"#f0f921\"]], \"type\": \"histogram2dcontour\"}], \"mesh3d\": [{\"colorbar\": {\"outlinewidth\": 0, \"ticks\": \"\"}, \"type\": \"mesh3d\"}], \"parcoords\": [{\"line\": {\"colorbar\": {\"outlinewidth\": 0, \"ticks\": \"\"}}, \"type\": \"parcoords\"}], \"pie\": [{\"automargin\": true, \"type\": \"pie\"}], \"scatter\": [{\"marker\": {\"colorbar\": {\"outlinewidth\": 0, \"ticks\": \"\"}}, \"type\": \"scatter\"}], \"scatter3d\": [{\"line\": {\"colorbar\": {\"outlinewidth\": 0, \"ticks\": \"\"}}, \"marker\": {\"colorbar\": {\"outlinewidth\": 0, \"ticks\": \"\"}}, \"type\": \"scatter3d\"}], \"scattercarpet\": [{\"marker\": {\"colorbar\": {\"outlinewidth\": 0, \"ticks\": \"\"}}, \"type\": \"scattercarpet\"}], \"scattergeo\": [{\"marker\": {\"colorbar\": {\"outlinewidth\": 0, \"ticks\": \"\"}}, \"type\": \"scattergeo\"}], \"scattergl\": [{\"marker\": {\"colorbar\": {\"outlinewidth\": 0, \"ticks\": \"\"}}, \"type\": \"scattergl\"}], \"scattermapbox\": [{\"marker\": {\"colorbar\": {\"outlinewidth\": 0, \"ticks\": \"\"}}, \"type\": \"scattermapbox\"}], \"scatterpolar\": [{\"marker\": {\"colorbar\": {\"outlinewidth\": 0, \"ticks\": \"\"}}, \"type\": \"scatterpolar\"}], \"scatterpolargl\": [{\"marker\": {\"colorbar\": {\"outlinewidth\": 0, \"ticks\": \"\"}}, \"type\": \"scatterpolargl\"}], \"scatterternary\": [{\"marker\": {\"colorbar\": {\"outlinewidth\": 0, \"ticks\": \"\"}}, \"type\": \"scatterternary\"}], \"surface\": [{\"colorbar\": {\"outlinewidth\": 0, \"ticks\": \"\"}, \"colorscale\": [[0.0, \"#0d0887\"], [0.1111111111111111, \"#46039f\"], [0.2222222222222222, \"#7201a8\"], [0.3333333333333333, \"#9c179e\"], [0.4444444444444444, \"#bd3786\"], [0.5555555555555556, \"#d8576b\"], [0.6666666666666666, \"#ed7953\"], [0.7777777777777778, \"#fb9f3a\"], [0.8888888888888888, \"#fdca26\"], [1.0, \"#f0f921\"]], \"type\": \"surface\"}], \"table\": [{\"cells\": {\"fill\": {\"color\": \"#EBF0F8\"}, \"line\": {\"color\": \"white\"}}, \"header\": {\"fill\": {\"color\": \"#C8D4E3\"}, \"line\": {\"color\": \"white\"}}, \"type\": \"table\"}]}, \"layout\": {\"annotationdefaults\": {\"arrowcolor\": \"#2a3f5f\", \"arrowhead\": 0, \"arrowwidth\": 1}, \"coloraxis\": {\"colorbar\": {\"outlinewidth\": 0, \"ticks\": \"\"}}, \"colorscale\": {\"diverging\": [[0, \"#8e0152\"], [0.1, \"#c51b7d\"], [0.2, \"#de77ae\"], [0.3, \"#f1b6da\"], [0.4, \"#fde0ef\"], [0.5, \"#f7f7f7\"], [0.6, \"#e6f5d0\"], [0.7, \"#b8e186\"], [0.8, \"#7fbc41\"], [0.9, \"#4d9221\"], [1, \"#276419\"]], \"sequential\": [[0.0, \"#0d0887\"], [0.1111111111111111, \"#46039f\"], [0.2222222222222222, \"#7201a8\"], [0.3333333333333333, \"#9c179e\"], [0.4444444444444444, \"#bd3786\"], [0.5555555555555556, \"#d8576b\"], [0.6666666666666666, \"#ed7953\"], [0.7777777777777778, \"#fb9f3a\"], [0.8888888888888888, \"#fdca26\"], [1.0, \"#f0f921\"]], \"sequentialminus\": [[0.0, \"#0d0887\"], [0.1111111111111111, \"#46039f\"], [0.2222222222222222, \"#7201a8\"], [0.3333333333333333, \"#9c179e\"], [0.4444444444444444, \"#bd3786\"], [0.5555555555555556, \"#d8576b\"], [0.6666666666666666, \"#ed7953\"], [0.7777777777777778, \"#fb9f3a\"], [0.8888888888888888, \"#fdca26\"], [1.0, \"#f0f921\"]]}, \"colorway\": [\"#636efa\", \"#EF553B\", \"#00cc96\", \"#ab63fa\", \"#FFA15A\", \"#19d3f3\", \"#FF6692\", \"#B6E880\", \"#FF97FF\", \"#FECB52\"], \"font\": {\"color\": \"#2a3f5f\"}, \"geo\": {\"bgcolor\": \"white\", \"lakecolor\": \"white\", \"landcolor\": \"#E5ECF6\", \"showlakes\": true, \"showland\": true, \"subunitcolor\": \"white\"}, \"hoverlabel\": {\"align\": \"left\"}, \"hovermode\": \"closest\", \"mapbox\": {\"style\": \"light\"}, \"paper_bgcolor\": \"white\", \"plot_bgcolor\": \"#E5ECF6\", \"polar\": {\"angularaxis\": {\"gridcolor\": \"white\", \"linecolor\": \"white\", \"ticks\": \"\"}, \"bgcolor\": \"#E5ECF6\", \"radialaxis\": {\"gridcolor\": \"white\", \"linecolor\": \"white\", \"ticks\": \"\"}}, \"scene\": {\"xaxis\": {\"backgroundcolor\": \"#E5ECF6\", \"gridcolor\": \"white\", \"gridwidth\": 2, \"linecolor\": \"white\", \"showbackground\": true, \"ticks\": \"\", \"zerolinecolor\": \"white\"}, \"yaxis\": {\"backgroundcolor\": \"#E5ECF6\", \"gridcolor\": \"white\", \"gridwidth\": 2, \"linecolor\": \"white\", \"showbackground\": true, \"ticks\": \"\", \"zerolinecolor\": \"white\"}, \"zaxis\": {\"backgroundcolor\": \"#E5ECF6\", \"gridcolor\": \"white\", \"gridwidth\": 2, \"linecolor\": \"white\", \"showbackground\": true, \"ticks\": \"\", \"zerolinecolor\": \"white\"}}, \"shapedefaults\": {\"line\": {\"color\": \"#2a3f5f\"}}, \"ternary\": {\"aaxis\": {\"gridcolor\": \"white\", \"linecolor\": \"white\", \"ticks\": \"\"}, \"baxis\": {\"gridcolor\": \"white\", \"linecolor\": \"white\", \"ticks\": \"\"}, \"bgcolor\": \"#E5ECF6\", \"caxis\": {\"gridcolor\": \"white\", \"linecolor\": \"white\", \"ticks\": \"\"}}, \"title\": {\"x\": 0.05}, \"xaxis\": {\"automargin\": true, \"gridcolor\": \"white\", \"linecolor\": \"white\", \"ticks\": \"\", \"title\": {\"standoff\": 15}, \"zerolinecolor\": \"white\", \"zerolinewidth\": 2}, \"yaxis\": {\"automargin\": true, \"gridcolor\": \"white\", \"linecolor\": \"white\", \"ticks\": \"\", \"title\": {\"standoff\": 15}, \"zerolinecolor\": \"white\", \"zerolinewidth\": 2}}}, \"xaxis\": {\"anchor\": \"y\", \"domain\": [0.0, 1.0], \"title\": {\"text\": \"epochs\"}}, \"yaxis\": {\"anchor\": \"x\", \"domain\": [0.0, 1.0], \"title\": {\"text\": \"values\"}}},\n",
       "                        {\"responsive\": true}\n",
       "                    ).then(function(){\n",
       "                            \n",
       "var gd = document.getElementById('a230604c-65ed-487a-8dc7-62e005434e95');\n",
       "var x = new MutationObserver(function (mutations, observer) {{\n",
       "        var display = window.getComputedStyle(gd).display;\n",
       "        if (!display || display === 'none') {{\n",
       "            console.log([gd, 'removed!']);\n",
       "            Plotly.purge(gd);\n",
       "            observer.disconnect();\n",
       "        }}\n",
       "}});\n",
       "\n",
       "// Listen for the removal of the full notebook cells\n",
       "var notebookContainer = gd.closest('#notebook-container');\n",
       "if (notebookContainer) {{\n",
       "    x.observe(notebookContainer, {childList: true});\n",
       "}}\n",
       "\n",
       "// Listen for the clearing of the current output cell\n",
       "var outputEl = gd.closest('.output');\n",
       "if (outputEl) {{\n",
       "    x.observe(outputEl, {childList: true});\n",
       "}}\n",
       "\n",
       "                        })\n",
       "                };\n",
       "                });\n",
       "            </script>\n",
       "        </div>"
      ]
     },
     "metadata": {},
     "output_type": "display_data"
    }
   ],
   "source": [
    "ico_training.train_network(loss='binary_crossentropy', \n",
    "                      optimizer='adam',\n",
    "                      metrics=[Recall()] ,\n",
    "                      epochs=100,\n",
    "                      verbose=0, \n",
    "                      batch_size=64,\n",
    "                      callback=earlystop)\n",
    "ico_training.plot_training()"
   ]
  },
  {
   "cell_type": "code",
   "execution_count": 42,
   "metadata": {},
   "outputs": [],
   "source": [
    "earlystop =  keras.callbacks.EarlyStopping(monitor='loss', patience=6)"
   ]
  },
  {
   "cell_type": "code",
   "execution_count": 43,
   "metadata": {},
   "outputs": [
    {
     "data": {
      "application/vnd.plotly.v1+json": {
       "config": {
        "plotlyServerURL": "https://plot.ly"
       },
       "data": [
        {
         "hovertemplate": "<b>%{hovertext}</b><br><br>metric=loss<br>epochs=%{x}<br>values=%{y}<extra></extra>",
         "hovertext": [
          "loss",
          "loss",
          "loss",
          "loss",
          "loss",
          "loss",
          "loss",
          "loss"
         ],
         "legendgroup": "loss",
         "line": {
          "color": "#636efa",
          "dash": "solid"
         },
         "mode": "lines",
         "name": "loss",
         "orientation": "v",
         "showlegend": true,
         "type": "scatter",
         "x": [
          0,
          1,
          2,
          3,
          4,
          5,
          6,
          7
         ],
         "xaxis": "x",
         "y": [
          0.5997231006622314,
          0.5718589425086975,
          0.5843409895896912,
          0.5768892765045166,
          0.5969002842903137,
          0.5808460712432861,
          0.6054598093032837,
          0.5738608241081238
         ],
         "yaxis": "y"
        },
        {
         "hovertemplate": "<b>%{hovertext}</b><br><br>metric=recall_1<br>epochs=%{x}<br>values=%{y}<extra></extra>",
         "hovertext": [
          "recall_1",
          "recall_1",
          "recall_1",
          "recall_1",
          "recall_1",
          "recall_1",
          "recall_1",
          "recall_1"
         ],
         "legendgroup": "recall_1",
         "line": {
          "color": "#EF553B",
          "dash": "solid"
         },
         "mode": "lines",
         "name": "recall_1",
         "orientation": "v",
         "showlegend": true,
         "type": "scatter",
         "x": [
          0,
          1,
          2,
          3,
          4,
          5,
          6,
          7
         ],
         "xaxis": "x",
         "y": [
          0.7553191781044006,
          0.8191489577293396,
          0.7553191781044006,
          0.7127659320831299,
          0.7234042286872864,
          0.8085106611251831,
          0.7553191781044006,
          0.7340425252914429
         ],
         "yaxis": "y"
        },
        {
         "hovertemplate": "<b>%{hovertext}</b><br><br>metric=val_loss<br>epochs=%{x}<br>values=%{y}<extra></extra>",
         "hovertext": [
          "val_loss",
          "val_loss",
          "val_loss",
          "val_loss",
          "val_loss",
          "val_loss",
          "val_loss",
          "val_loss"
         ],
         "legendgroup": "val_loss",
         "line": {
          "color": "#00cc96",
          "dash": "solid"
         },
         "mode": "lines",
         "name": "val_loss",
         "orientation": "v",
         "showlegend": true,
         "type": "scatter",
         "x": [
          0,
          1,
          2,
          3,
          4,
          5,
          6,
          7
         ],
         "xaxis": "x",
         "y": [
          0.6394441723823547,
          0.6598742008209229,
          0.6577746272087097,
          0.6570186614990234,
          0.64789879322052,
          0.6472375392913818,
          0.6524558067321777,
          0.6538045406341553
         ],
         "yaxis": "y"
        },
        {
         "hovertemplate": "<b>%{hovertext}</b><br><br>metric=val_recall_1<br>epochs=%{x}<br>values=%{y}<extra></extra>",
         "hovertext": [
          "val_recall_1",
          "val_recall_1",
          "val_recall_1",
          "val_recall_1",
          "val_recall_1",
          "val_recall_1",
          "val_recall_1",
          "val_recall_1"
         ],
         "legendgroup": "val_recall_1",
         "line": {
          "color": "#ab63fa",
          "dash": "solid"
         },
         "mode": "lines",
         "name": "val_recall_1",
         "orientation": "v",
         "showlegend": true,
         "type": "scatter",
         "x": [
          0,
          1,
          2,
          3,
          4,
          5,
          6,
          7
         ],
         "xaxis": "x",
         "y": [
          0.7209302186965942,
          0.5581395626068115,
          0.5813953280448914,
          0.604651153087616,
          0.6279069781303406,
          0.6279069781303406,
          0.604651153087616,
          0.604651153087616
         ],
         "yaxis": "y"
        }
       ],
       "layout": {
        "autosize": true,
        "legend": {
         "title": {
          "text": "metric"
         },
         "tracegroupgap": 0
        },
        "margin": {
         "t": 60
        },
        "template": {
         "data": {
          "bar": [
           {
            "error_x": {
             "color": "#2a3f5f"
            },
            "error_y": {
             "color": "#2a3f5f"
            },
            "marker": {
             "line": {
              "color": "#E5ECF6",
              "width": 0.5
             }
            },
            "type": "bar"
           }
          ],
          "barpolar": [
           {
            "marker": {
             "line": {
              "color": "#E5ECF6",
              "width": 0.5
             }
            },
            "type": "barpolar"
           }
          ],
          "carpet": [
           {
            "aaxis": {
             "endlinecolor": "#2a3f5f",
             "gridcolor": "white",
             "linecolor": "white",
             "minorgridcolor": "white",
             "startlinecolor": "#2a3f5f"
            },
            "baxis": {
             "endlinecolor": "#2a3f5f",
             "gridcolor": "white",
             "linecolor": "white",
             "minorgridcolor": "white",
             "startlinecolor": "#2a3f5f"
            },
            "type": "carpet"
           }
          ],
          "choropleth": [
           {
            "colorbar": {
             "outlinewidth": 0,
             "ticks": ""
            },
            "type": "choropleth"
           }
          ],
          "contour": [
           {
            "colorbar": {
             "outlinewidth": 0,
             "ticks": ""
            },
            "colorscale": [
             [
              0,
              "#0d0887"
             ],
             [
              0.1111111111111111,
              "#46039f"
             ],
             [
              0.2222222222222222,
              "#7201a8"
             ],
             [
              0.3333333333333333,
              "#9c179e"
             ],
             [
              0.4444444444444444,
              "#bd3786"
             ],
             [
              0.5555555555555556,
              "#d8576b"
             ],
             [
              0.6666666666666666,
              "#ed7953"
             ],
             [
              0.7777777777777778,
              "#fb9f3a"
             ],
             [
              0.8888888888888888,
              "#fdca26"
             ],
             [
              1,
              "#f0f921"
             ]
            ],
            "type": "contour"
           }
          ],
          "contourcarpet": [
           {
            "colorbar": {
             "outlinewidth": 0,
             "ticks": ""
            },
            "type": "contourcarpet"
           }
          ],
          "heatmap": [
           {
            "colorbar": {
             "outlinewidth": 0,
             "ticks": ""
            },
            "colorscale": [
             [
              0,
              "#0d0887"
             ],
             [
              0.1111111111111111,
              "#46039f"
             ],
             [
              0.2222222222222222,
              "#7201a8"
             ],
             [
              0.3333333333333333,
              "#9c179e"
             ],
             [
              0.4444444444444444,
              "#bd3786"
             ],
             [
              0.5555555555555556,
              "#d8576b"
             ],
             [
              0.6666666666666666,
              "#ed7953"
             ],
             [
              0.7777777777777778,
              "#fb9f3a"
             ],
             [
              0.8888888888888888,
              "#fdca26"
             ],
             [
              1,
              "#f0f921"
             ]
            ],
            "type": "heatmap"
           }
          ],
          "heatmapgl": [
           {
            "colorbar": {
             "outlinewidth": 0,
             "ticks": ""
            },
            "colorscale": [
             [
              0,
              "#0d0887"
             ],
             [
              0.1111111111111111,
              "#46039f"
             ],
             [
              0.2222222222222222,
              "#7201a8"
             ],
             [
              0.3333333333333333,
              "#9c179e"
             ],
             [
              0.4444444444444444,
              "#bd3786"
             ],
             [
              0.5555555555555556,
              "#d8576b"
             ],
             [
              0.6666666666666666,
              "#ed7953"
             ],
             [
              0.7777777777777778,
              "#fb9f3a"
             ],
             [
              0.8888888888888888,
              "#fdca26"
             ],
             [
              1,
              "#f0f921"
             ]
            ],
            "type": "heatmapgl"
           }
          ],
          "histogram": [
           {
            "marker": {
             "colorbar": {
              "outlinewidth": 0,
              "ticks": ""
             }
            },
            "type": "histogram"
           }
          ],
          "histogram2d": [
           {
            "colorbar": {
             "outlinewidth": 0,
             "ticks": ""
            },
            "colorscale": [
             [
              0,
              "#0d0887"
             ],
             [
              0.1111111111111111,
              "#46039f"
             ],
             [
              0.2222222222222222,
              "#7201a8"
             ],
             [
              0.3333333333333333,
              "#9c179e"
             ],
             [
              0.4444444444444444,
              "#bd3786"
             ],
             [
              0.5555555555555556,
              "#d8576b"
             ],
             [
              0.6666666666666666,
              "#ed7953"
             ],
             [
              0.7777777777777778,
              "#fb9f3a"
             ],
             [
              0.8888888888888888,
              "#fdca26"
             ],
             [
              1,
              "#f0f921"
             ]
            ],
            "type": "histogram2d"
           }
          ],
          "histogram2dcontour": [
           {
            "colorbar": {
             "outlinewidth": 0,
             "ticks": ""
            },
            "colorscale": [
             [
              0,
              "#0d0887"
             ],
             [
              0.1111111111111111,
              "#46039f"
             ],
             [
              0.2222222222222222,
              "#7201a8"
             ],
             [
              0.3333333333333333,
              "#9c179e"
             ],
             [
              0.4444444444444444,
              "#bd3786"
             ],
             [
              0.5555555555555556,
              "#d8576b"
             ],
             [
              0.6666666666666666,
              "#ed7953"
             ],
             [
              0.7777777777777778,
              "#fb9f3a"
             ],
             [
              0.8888888888888888,
              "#fdca26"
             ],
             [
              1,
              "#f0f921"
             ]
            ],
            "type": "histogram2dcontour"
           }
          ],
          "mesh3d": [
           {
            "colorbar": {
             "outlinewidth": 0,
             "ticks": ""
            },
            "type": "mesh3d"
           }
          ],
          "parcoords": [
           {
            "line": {
             "colorbar": {
              "outlinewidth": 0,
              "ticks": ""
             }
            },
            "type": "parcoords"
           }
          ],
          "pie": [
           {
            "automargin": true,
            "type": "pie"
           }
          ],
          "scatter": [
           {
            "marker": {
             "colorbar": {
              "outlinewidth": 0,
              "ticks": ""
             }
            },
            "type": "scatter"
           }
          ],
          "scatter3d": [
           {
            "line": {
             "colorbar": {
              "outlinewidth": 0,
              "ticks": ""
             }
            },
            "marker": {
             "colorbar": {
              "outlinewidth": 0,
              "ticks": ""
             }
            },
            "type": "scatter3d"
           }
          ],
          "scattercarpet": [
           {
            "marker": {
             "colorbar": {
              "outlinewidth": 0,
              "ticks": ""
             }
            },
            "type": "scattercarpet"
           }
          ],
          "scattergeo": [
           {
            "marker": {
             "colorbar": {
              "outlinewidth": 0,
              "ticks": ""
             }
            },
            "type": "scattergeo"
           }
          ],
          "scattergl": [
           {
            "marker": {
             "colorbar": {
              "outlinewidth": 0,
              "ticks": ""
             }
            },
            "type": "scattergl"
           }
          ],
          "scattermapbox": [
           {
            "marker": {
             "colorbar": {
              "outlinewidth": 0,
              "ticks": ""
             }
            },
            "type": "scattermapbox"
           }
          ],
          "scatterpolar": [
           {
            "marker": {
             "colorbar": {
              "outlinewidth": 0,
              "ticks": ""
             }
            },
            "type": "scatterpolar"
           }
          ],
          "scatterpolargl": [
           {
            "marker": {
             "colorbar": {
              "outlinewidth": 0,
              "ticks": ""
             }
            },
            "type": "scatterpolargl"
           }
          ],
          "scatterternary": [
           {
            "marker": {
             "colorbar": {
              "outlinewidth": 0,
              "ticks": ""
             }
            },
            "type": "scatterternary"
           }
          ],
          "surface": [
           {
            "colorbar": {
             "outlinewidth": 0,
             "ticks": ""
            },
            "colorscale": [
             [
              0,
              "#0d0887"
             ],
             [
              0.1111111111111111,
              "#46039f"
             ],
             [
              0.2222222222222222,
              "#7201a8"
             ],
             [
              0.3333333333333333,
              "#9c179e"
             ],
             [
              0.4444444444444444,
              "#bd3786"
             ],
             [
              0.5555555555555556,
              "#d8576b"
             ],
             [
              0.6666666666666666,
              "#ed7953"
             ],
             [
              0.7777777777777778,
              "#fb9f3a"
             ],
             [
              0.8888888888888888,
              "#fdca26"
             ],
             [
              1,
              "#f0f921"
             ]
            ],
            "type": "surface"
           }
          ],
          "table": [
           {
            "cells": {
             "fill": {
              "color": "#EBF0F8"
             },
             "line": {
              "color": "white"
             }
            },
            "header": {
             "fill": {
              "color": "#C8D4E3"
             },
             "line": {
              "color": "white"
             }
            },
            "type": "table"
           }
          ]
         },
         "layout": {
          "annotationdefaults": {
           "arrowcolor": "#2a3f5f",
           "arrowhead": 0,
           "arrowwidth": 1
          },
          "coloraxis": {
           "colorbar": {
            "outlinewidth": 0,
            "ticks": ""
           }
          },
          "colorscale": {
           "diverging": [
            [
             0,
             "#8e0152"
            ],
            [
             0.1,
             "#c51b7d"
            ],
            [
             0.2,
             "#de77ae"
            ],
            [
             0.3,
             "#f1b6da"
            ],
            [
             0.4,
             "#fde0ef"
            ],
            [
             0.5,
             "#f7f7f7"
            ],
            [
             0.6,
             "#e6f5d0"
            ],
            [
             0.7,
             "#b8e186"
            ],
            [
             0.8,
             "#7fbc41"
            ],
            [
             0.9,
             "#4d9221"
            ],
            [
             1,
             "#276419"
            ]
           ],
           "sequential": [
            [
             0,
             "#0d0887"
            ],
            [
             0.1111111111111111,
             "#46039f"
            ],
            [
             0.2222222222222222,
             "#7201a8"
            ],
            [
             0.3333333333333333,
             "#9c179e"
            ],
            [
             0.4444444444444444,
             "#bd3786"
            ],
            [
             0.5555555555555556,
             "#d8576b"
            ],
            [
             0.6666666666666666,
             "#ed7953"
            ],
            [
             0.7777777777777778,
             "#fb9f3a"
            ],
            [
             0.8888888888888888,
             "#fdca26"
            ],
            [
             1,
             "#f0f921"
            ]
           ],
           "sequentialminus": [
            [
             0,
             "#0d0887"
            ],
            [
             0.1111111111111111,
             "#46039f"
            ],
            [
             0.2222222222222222,
             "#7201a8"
            ],
            [
             0.3333333333333333,
             "#9c179e"
            ],
            [
             0.4444444444444444,
             "#bd3786"
            ],
            [
             0.5555555555555556,
             "#d8576b"
            ],
            [
             0.6666666666666666,
             "#ed7953"
            ],
            [
             0.7777777777777778,
             "#fb9f3a"
            ],
            [
             0.8888888888888888,
             "#fdca26"
            ],
            [
             1,
             "#f0f921"
            ]
           ]
          },
          "colorway": [
           "#636efa",
           "#EF553B",
           "#00cc96",
           "#ab63fa",
           "#FFA15A",
           "#19d3f3",
           "#FF6692",
           "#B6E880",
           "#FF97FF",
           "#FECB52"
          ],
          "font": {
           "color": "#2a3f5f"
          },
          "geo": {
           "bgcolor": "white",
           "lakecolor": "white",
           "landcolor": "#E5ECF6",
           "showlakes": true,
           "showland": true,
           "subunitcolor": "white"
          },
          "hoverlabel": {
           "align": "left"
          },
          "hovermode": "closest",
          "mapbox": {
           "style": "light"
          },
          "paper_bgcolor": "white",
          "plot_bgcolor": "#E5ECF6",
          "polar": {
           "angularaxis": {
            "gridcolor": "white",
            "linecolor": "white",
            "ticks": ""
           },
           "bgcolor": "#E5ECF6",
           "radialaxis": {
            "gridcolor": "white",
            "linecolor": "white",
            "ticks": ""
           }
          },
          "scene": {
           "xaxis": {
            "backgroundcolor": "#E5ECF6",
            "gridcolor": "white",
            "gridwidth": 2,
            "linecolor": "white",
            "showbackground": true,
            "ticks": "",
            "zerolinecolor": "white"
           },
           "yaxis": {
            "backgroundcolor": "#E5ECF6",
            "gridcolor": "white",
            "gridwidth": 2,
            "linecolor": "white",
            "showbackground": true,
            "ticks": "",
            "zerolinecolor": "white"
           },
           "zaxis": {
            "backgroundcolor": "#E5ECF6",
            "gridcolor": "white",
            "gridwidth": 2,
            "linecolor": "white",
            "showbackground": true,
            "ticks": "",
            "zerolinecolor": "white"
           }
          },
          "shapedefaults": {
           "line": {
            "color": "#2a3f5f"
           }
          },
          "ternary": {
           "aaxis": {
            "gridcolor": "white",
            "linecolor": "white",
            "ticks": ""
           },
           "baxis": {
            "gridcolor": "white",
            "linecolor": "white",
            "ticks": ""
           },
           "bgcolor": "#E5ECF6",
           "caxis": {
            "gridcolor": "white",
            "linecolor": "white",
            "ticks": ""
           }
          },
          "title": {
           "x": 0.05
          },
          "xaxis": {
           "automargin": true,
           "gridcolor": "white",
           "linecolor": "white",
           "ticks": "",
           "title": {
            "standoff": 15
           },
           "zerolinecolor": "white",
           "zerolinewidth": 2
          },
          "yaxis": {
           "automargin": true,
           "gridcolor": "white",
           "linecolor": "white",
           "ticks": "",
           "title": {
            "standoff": 15
           },
           "zerolinecolor": "white",
           "zerolinewidth": 2
          }
         }
        },
        "xaxis": {
         "anchor": "y",
         "autorange": true,
         "domain": [
          0,
          1
         ],
         "range": [
          0,
          7
         ],
         "title": {
          "text": "epochs"
         },
         "type": "linear"
        },
        "yaxis": {
         "anchor": "x",
         "autorange": true,
         "domain": [
          0,
          1
         ],
         "range": [
          0.54363904065556,
          0.8336494796805911
         ],
         "title": {
          "text": "values"
         },
         "type": "linear"
        }
       }
      },
      "image/png": "[encoded data removed]",
      "text/html": [
       "<div>\n",
       "        \n",
       "        \n",
       "            <div id=\"670fde0b-e98f-48b2-8d2f-442901fc3740\" class=\"plotly-graph-div\" style=\"height:525px; width:100%;\"></div>\n",
       "            <script type=\"text/javascript\">\n",
       "                require([\"plotly\"], function(Plotly) {\n",
       "                    window.PLOTLYENV=window.PLOTLYENV || {};\n",
       "                    \n",
       "                if (document.getElementById(\"670fde0b-e98f-48b2-8d2f-442901fc3740\")) {\n",
       "                    Plotly.newPlot(\n",
       "                        '670fde0b-e98f-48b2-8d2f-442901fc3740',\n",
       "                        [{\"hovertemplate\": \"<b>%{hovertext}</b><br><br>metric=loss<br>epochs=%{x}<br>values=%{y}<extra></extra>\", \"hovertext\": [\"loss\", \"loss\", \"loss\", \"loss\", \"loss\", \"loss\", \"loss\", \"loss\"], \"legendgroup\": \"loss\", \"line\": {\"color\": \"#636efa\", \"dash\": \"solid\"}, \"mode\": \"lines\", \"name\": \"loss\", \"orientation\": \"v\", \"showlegend\": true, \"type\": \"scatter\", \"x\": [0, 1, 2, 3, 4, 5, 6, 7], \"xaxis\": \"x\", \"y\": [0.5997231006622314, 0.5718589425086975, 0.5843409895896912, 0.5768892765045166, 0.5969002842903137, 0.5808460712432861, 0.6054598093032837, 0.5738608241081238], \"yaxis\": \"y\"}, {\"hovertemplate\": \"<b>%{hovertext}</b><br><br>metric=recall_1<br>epochs=%{x}<br>values=%{y}<extra></extra>\", \"hovertext\": [\"recall_1\", \"recall_1\", \"recall_1\", \"recall_1\", \"recall_1\", \"recall_1\", \"recall_1\", \"recall_1\"], \"legendgroup\": \"recall_1\", \"line\": {\"color\": \"#EF553B\", \"dash\": \"solid\"}, \"mode\": \"lines\", \"name\": \"recall_1\", \"orientation\": \"v\", \"showlegend\": true, \"type\": \"scatter\", \"x\": [0, 1, 2, 3, 4, 5, 6, 7], \"xaxis\": \"x\", \"y\": [0.7553191781044006, 0.8191489577293396, 0.7553191781044006, 0.7127659320831299, 0.7234042286872864, 0.8085106611251831, 0.7553191781044006, 0.7340425252914429], \"yaxis\": \"y\"}, {\"hovertemplate\": \"<b>%{hovertext}</b><br><br>metric=val_loss<br>epochs=%{x}<br>values=%{y}<extra></extra>\", \"hovertext\": [\"val_loss\", \"val_loss\", \"val_loss\", \"val_loss\", \"val_loss\", \"val_loss\", \"val_loss\", \"val_loss\"], \"legendgroup\": \"val_loss\", \"line\": {\"color\": \"#00cc96\", \"dash\": \"solid\"}, \"mode\": \"lines\", \"name\": \"val_loss\", \"orientation\": \"v\", \"showlegend\": true, \"type\": \"scatter\", \"x\": [0, 1, 2, 3, 4, 5, 6, 7], \"xaxis\": \"x\", \"y\": [0.6394441723823547, 0.6598742008209229, 0.6577746272087097, 0.6570186614990234, 0.64789879322052, 0.6472375392913818, 0.6524558067321777, 0.6538045406341553], \"yaxis\": \"y\"}, {\"hovertemplate\": \"<b>%{hovertext}</b><br><br>metric=val_recall_1<br>epochs=%{x}<br>values=%{y}<extra></extra>\", \"hovertext\": [\"val_recall_1\", \"val_recall_1\", \"val_recall_1\", \"val_recall_1\", \"val_recall_1\", \"val_recall_1\", \"val_recall_1\", \"val_recall_1\"], \"legendgroup\": \"val_recall_1\", \"line\": {\"color\": \"#ab63fa\", \"dash\": \"solid\"}, \"mode\": \"lines\", \"name\": \"val_recall_1\", \"orientation\": \"v\", \"showlegend\": true, \"type\": \"scatter\", \"x\": [0, 1, 2, 3, 4, 5, 6, 7], \"xaxis\": \"x\", \"y\": [0.7209302186965942, 0.5581395626068115, 0.5813953280448914, 0.604651153087616, 0.6279069781303406, 0.6279069781303406, 0.604651153087616, 0.604651153087616], \"yaxis\": \"y\"}],\n",
       "                        {\"legend\": {\"title\": {\"text\": \"metric\"}, \"tracegroupgap\": 0}, \"margin\": {\"t\": 60}, \"template\": {\"data\": {\"bar\": [{\"error_x\": {\"color\": \"#2a3f5f\"}, \"error_y\": {\"color\": \"#2a3f5f\"}, \"marker\": {\"line\": {\"color\": \"#E5ECF6\", \"width\": 0.5}}, \"type\": \"bar\"}], \"barpolar\": [{\"marker\": {\"line\": {\"color\": \"#E5ECF6\", \"width\": 0.5}}, \"type\": \"barpolar\"}], \"carpet\": [{\"aaxis\": {\"endlinecolor\": \"#2a3f5f\", \"gridcolor\": \"white\", \"linecolor\": \"white\", \"minorgridcolor\": \"white\", \"startlinecolor\": \"#2a3f5f\"}, \"baxis\": {\"endlinecolor\": \"#2a3f5f\", \"gridcolor\": \"white\", \"linecolor\": \"white\", \"minorgridcolor\": \"white\", \"startlinecolor\": \"#2a3f5f\"}, \"type\": \"carpet\"}], \"choropleth\": [{\"colorbar\": {\"outlinewidth\": 0, \"ticks\": \"\"}, \"type\": \"choropleth\"}], \"contour\": [{\"colorbar\": {\"outlinewidth\": 0, \"ticks\": \"\"}, \"colorscale\": [[0.0, \"#0d0887\"], [0.1111111111111111, \"#46039f\"], [0.2222222222222222, \"#7201a8\"], [0.3333333333333333, \"#9c179e\"], [0.4444444444444444, \"#bd3786\"], [0.5555555555555556, \"#d8576b\"], [0.6666666666666666, \"#ed7953\"], [0.7777777777777778, \"#fb9f3a\"], [0.8888888888888888, \"#fdca26\"], [1.0, \"#f0f921\"]], \"type\": \"contour\"}], \"contourcarpet\": [{\"colorbar\": {\"outlinewidth\": 0, \"ticks\": \"\"}, \"type\": \"contourcarpet\"}], \"heatmap\": [{\"colorbar\": {\"outlinewidth\": 0, \"ticks\": \"\"}, \"colorscale\": [[0.0, \"#0d0887\"], [0.1111111111111111, \"#46039f\"], [0.2222222222222222, \"#7201a8\"], [0.3333333333333333, \"#9c179e\"], [0.4444444444444444, \"#bd3786\"], [0.5555555555555556, \"#d8576b\"], [0.6666666666666666, \"#ed7953\"], [0.7777777777777778, \"#fb9f3a\"], [0.8888888888888888, \"#fdca26\"], [1.0, \"#f0f921\"]], \"type\": \"heatmap\"}], \"heatmapgl\": [{\"colorbar\": {\"outlinewidth\": 0, \"ticks\": \"\"}, \"colorscale\": [[0.0, \"#0d0887\"], [0.1111111111111111, \"#46039f\"], [0.2222222222222222, \"#7201a8\"], [0.3333333333333333, \"#9c179e\"], [0.4444444444444444, \"#bd3786\"], [0.5555555555555556, \"#d8576b\"], [0.6666666666666666, \"#ed7953\"], [0.7777777777777778, \"#fb9f3a\"], [0.8888888888888888, \"#fdca26\"], [1.0, \"#f0f921\"]], \"type\": \"heatmapgl\"}], \"histogram\": [{\"marker\": {\"colorbar\": {\"outlinewidth\": 0, \"ticks\": \"\"}}, \"type\": \"histogram\"}], \"histogram2d\": [{\"colorbar\": {\"outlinewidth\": 0, \"ticks\": \"\"}, \"colorscale\": [[0.0, \"#0d0887\"], [0.1111111111111111, \"#46039f\"], [0.2222222222222222, \"#7201a8\"], [0.3333333333333333, \"#9c179e\"], [0.4444444444444444, \"#bd3786\"], [0.5555555555555556, \"#d8576b\"], [0.6666666666666666, \"#ed7953\"], [0.7777777777777778, \"#fb9f3a\"], [0.8888888888888888, \"#fdca26\"], [1.0, \"#f0f921\"]], \"type\": \"histogram2d\"}], \"histogram2dcontour\": [{\"colorbar\": {\"outlinewidth\": 0, \"ticks\": \"\"}, \"colorscale\": [[0.0, \"#0d0887\"], [0.1111111111111111, \"#46039f\"], [0.2222222222222222, \"#7201a8\"], [0.3333333333333333, \"#9c179e\"], [0.4444444444444444, \"#bd3786\"], [0.5555555555555556, \"#d8576b\"], [0.6666666666666666, \"#ed7953\"], [0.7777777777777778, \"#fb9f3a\"], [0.8888888888888888, \"#fdca26\"], [1.0, \"#f0f921\"]], \"type\": \"histogram2dcontour\"}], \"mesh3d\": [{\"colorbar\": {\"outlinewidth\": 0, \"ticks\": \"\"}, \"type\": \"mesh3d\"}], \"parcoords\": [{\"line\": {\"colorbar\": {\"outlinewidth\": 0, \"ticks\": \"\"}}, \"type\": \"parcoords\"}], \"pie\": [{\"automargin\": true, \"type\": \"pie\"}], \"scatter\": [{\"marker\": {\"colorbar\": {\"outlinewidth\": 0, \"ticks\": \"\"}}, \"type\": \"scatter\"}], \"scatter3d\": [{\"line\": {\"colorbar\": {\"outlinewidth\": 0, \"ticks\": \"\"}}, \"marker\": {\"colorbar\": {\"outlinewidth\": 0, \"ticks\": \"\"}}, \"type\": \"scatter3d\"}], \"scattercarpet\": [{\"marker\": {\"colorbar\": {\"outlinewidth\": 0, \"ticks\": \"\"}}, \"type\": \"scattercarpet\"}], \"scattergeo\": [{\"marker\": {\"colorbar\": {\"outlinewidth\": 0, \"ticks\": \"\"}}, \"type\": \"scattergeo\"}], \"scattergl\": [{\"marker\": {\"colorbar\": {\"outlinewidth\": 0, \"ticks\": \"\"}}, \"type\": \"scattergl\"}], \"scattermapbox\": [{\"marker\": {\"colorbar\": {\"outlinewidth\": 0, \"ticks\": \"\"}}, \"type\": \"scattermapbox\"}], \"scatterpolar\": [{\"marker\": {\"colorbar\": {\"outlinewidth\": 0, \"ticks\": \"\"}}, \"type\": \"scatterpolar\"}], \"scatterpolargl\": [{\"marker\": {\"colorbar\": {\"outlinewidth\": 0, \"ticks\": \"\"}}, \"type\": \"scatterpolargl\"}], \"scatterternary\": [{\"marker\": {\"colorbar\": {\"outlinewidth\": 0, \"ticks\": \"\"}}, \"type\": \"scatterternary\"}], \"surface\": [{\"colorbar\": {\"outlinewidth\": 0, \"ticks\": \"\"}, \"colorscale\": [[0.0, \"#0d0887\"], [0.1111111111111111, \"#46039f\"], [0.2222222222222222, \"#7201a8\"], [0.3333333333333333, \"#9c179e\"], [0.4444444444444444, \"#bd3786\"], [0.5555555555555556, \"#d8576b\"], [0.6666666666666666, \"#ed7953\"], [0.7777777777777778, \"#fb9f3a\"], [0.8888888888888888, \"#fdca26\"], [1.0, \"#f0f921\"]], \"type\": \"surface\"}], \"table\": [{\"cells\": {\"fill\": {\"color\": \"#EBF0F8\"}, \"line\": {\"color\": \"white\"}}, \"header\": {\"fill\": {\"color\": \"#C8D4E3\"}, \"line\": {\"color\": \"white\"}}, \"type\": \"table\"}]}, \"layout\": {\"annotationdefaults\": {\"arrowcolor\": \"#2a3f5f\", \"arrowhead\": 0, \"arrowwidth\": 1}, \"coloraxis\": {\"colorbar\": {\"outlinewidth\": 0, \"ticks\": \"\"}}, \"colorscale\": {\"diverging\": [[0, \"#8e0152\"], [0.1, \"#c51b7d\"], [0.2, \"#de77ae\"], [0.3, \"#f1b6da\"], [0.4, \"#fde0ef\"], [0.5, \"#f7f7f7\"], [0.6, \"#e6f5d0\"], [0.7, \"#b8e186\"], [0.8, \"#7fbc41\"], [0.9, \"#4d9221\"], [1, \"#276419\"]], \"sequential\": [[0.0, \"#0d0887\"], [0.1111111111111111, \"#46039f\"], [0.2222222222222222, \"#7201a8\"], [0.3333333333333333, \"#9c179e\"], [0.4444444444444444, \"#bd3786\"], [0.5555555555555556, \"#d8576b\"], [0.6666666666666666, \"#ed7953\"], [0.7777777777777778, \"#fb9f3a\"], [0.8888888888888888, \"#fdca26\"], [1.0, \"#f0f921\"]], \"sequentialminus\": [[0.0, \"#0d0887\"], [0.1111111111111111, \"#46039f\"], [0.2222222222222222, \"#7201a8\"], [0.3333333333333333, \"#9c179e\"], [0.4444444444444444, \"#bd3786\"], [0.5555555555555556, \"#d8576b\"], [0.6666666666666666, \"#ed7953\"], [0.7777777777777778, \"#fb9f3a\"], [0.8888888888888888, \"#fdca26\"], [1.0, \"#f0f921\"]]}, \"colorway\": [\"#636efa\", \"#EF553B\", \"#00cc96\", \"#ab63fa\", \"#FFA15A\", \"#19d3f3\", \"#FF6692\", \"#B6E880\", \"#FF97FF\", \"#FECB52\"], \"font\": {\"color\": \"#2a3f5f\"}, \"geo\": {\"bgcolor\": \"white\", \"lakecolor\": \"white\", \"landcolor\": \"#E5ECF6\", \"showlakes\": true, \"showland\": true, \"subunitcolor\": \"white\"}, \"hoverlabel\": {\"align\": \"left\"}, \"hovermode\": \"closest\", \"mapbox\": {\"style\": \"light\"}, \"paper_bgcolor\": \"white\", \"plot_bgcolor\": \"#E5ECF6\", \"polar\": {\"angularaxis\": {\"gridcolor\": \"white\", \"linecolor\": \"white\", \"ticks\": \"\"}, \"bgcolor\": \"#E5ECF6\", \"radialaxis\": {\"gridcolor\": \"white\", \"linecolor\": \"white\", \"ticks\": \"\"}}, \"scene\": {\"xaxis\": {\"backgroundcolor\": \"#E5ECF6\", \"gridcolor\": \"white\", \"gridwidth\": 2, \"linecolor\": \"white\", \"showbackground\": true, \"ticks\": \"\", \"zerolinecolor\": \"white\"}, \"yaxis\": {\"backgroundcolor\": \"#E5ECF6\", \"gridcolor\": \"white\", \"gridwidth\": 2, \"linecolor\": \"white\", \"showbackground\": true, \"ticks\": \"\", \"zerolinecolor\": \"white\"}, \"zaxis\": {\"backgroundcolor\": \"#E5ECF6\", \"gridcolor\": \"white\", \"gridwidth\": 2, \"linecolor\": \"white\", \"showbackground\": true, \"ticks\": \"\", \"zerolinecolor\": \"white\"}}, \"shapedefaults\": {\"line\": {\"color\": \"#2a3f5f\"}}, \"ternary\": {\"aaxis\": {\"gridcolor\": \"white\", \"linecolor\": \"white\", \"ticks\": \"\"}, \"baxis\": {\"gridcolor\": \"white\", \"linecolor\": \"white\", \"ticks\": \"\"}, \"bgcolor\": \"#E5ECF6\", \"caxis\": {\"gridcolor\": \"white\", \"linecolor\": \"white\", \"ticks\": \"\"}}, \"title\": {\"x\": 0.05}, \"xaxis\": {\"automargin\": true, \"gridcolor\": \"white\", \"linecolor\": \"white\", \"ticks\": \"\", \"title\": {\"standoff\": 15}, \"zerolinecolor\": \"white\", \"zerolinewidth\": 2}, \"yaxis\": {\"automargin\": true, \"gridcolor\": \"white\", \"linecolor\": \"white\", \"ticks\": \"\", \"title\": {\"standoff\": 15}, \"zerolinecolor\": \"white\", \"zerolinewidth\": 2}}}, \"xaxis\": {\"anchor\": \"y\", \"domain\": [0.0, 1.0], \"title\": {\"text\": \"epochs\"}}, \"yaxis\": {\"anchor\": \"x\", \"domain\": [0.0, 1.0], \"title\": {\"text\": \"values\"}}},\n",
       "                        {\"responsive\": true}\n",
       "                    ).then(function(){\n",
       "                            \n",
       "var gd = document.getElementById('670fde0b-e98f-48b2-8d2f-442901fc3740');\n",
       "var x = new MutationObserver(function (mutations, observer) {{\n",
       "        var display = window.getComputedStyle(gd).display;\n",
       "        if (!display || display === 'none') {{\n",
       "            console.log([gd, 'removed!']);\n",
       "            Plotly.purge(gd);\n",
       "            observer.disconnect();\n",
       "        }}\n",
       "}});\n",
       "\n",
       "// Listen for the removal of the full notebook cells\n",
       "var notebookContainer = gd.closest('#notebook-container');\n",
       "if (notebookContainer) {{\n",
       "    x.observe(notebookContainer, {childList: true});\n",
       "}}\n",
       "\n",
       "// Listen for the clearing of the current output cell\n",
       "var outputEl = gd.closest('.output');\n",
       "if (outputEl) {{\n",
       "    x.observe(outputEl, {childList: true});\n",
       "}}\n",
       "\n",
       "                        })\n",
       "                };\n",
       "                });\n",
       "            </script>\n",
       "        </div>"
      ]
     },
     "metadata": {},
     "output_type": "display_data"
    }
   ],
   "source": [
    "ico_training.train_network(loss='binary_crossentropy', \n",
    "                      optimizer='adam',\n",
    "                      metrics=[Recall()] ,\n",
    "                      epochs=100,\n",
    "                      verbose=0, \n",
    "                      batch_size=64,\n",
    "                      callback=earlystop)\n",
    "ico_training.plot_training()"
   ]
  },
  {
   "cell_type": "markdown",
   "metadata": {},
   "source": [
    "### LSTM\n",
    "Based on the following articles:\n",
    "1. https://machinelearningmastery.com/sequence-classification-lstm-recurrent-neural-networks-python-keras/\n",
    "2. https://medium.com/@shivajbd/understanding-input-and-output-shape-in-lstm-keras-c501ee95c65e\n",
    "3. https://machinelearningmastery.com/prepare-univariate-time-series-data-long-short-term-memory-networks/"
   ]
  },
  {
   "cell_type": "code",
   "execution_count": 29,
   "metadata": {},
   "outputs": [],
   "source": [
    "import numpy\n",
    "from tensorflow.keras.datasets import imdb\n",
    "from tensorflow.keras.models import Sequential\n",
    "from tensorflow.keras.layers import Dense\n",
    "from tensorflow.keras.layers import LSTM\n",
    "from tensorflow.keras.layers import Embedding\n",
    "from tensorflow.keras.preprocessing import sequence\n",
    "# fix random seed for reproducibility\n",
    "numpy.random.seed(7)"
   ]
  },
  {
   "cell_type": "markdown",
   "metadata": {},
   "source": [
    "### Using the framework for LSTM"
   ]
  },
  {
   "cell_type": "code",
   "execution_count": 44,
   "metadata": {},
   "outputs": [],
   "source": [
    "model_lstm = Sequential()\n",
    "model_lstm.add(LSTM(100, input_shape=(20, 1), return_sequences=True))\n",
    "model_lstm.add(Dense(60, activation='relu'))\n",
    "model_lstm.add(Dense(1, activation='sigmoid'))"
   ]
  },
  {
   "cell_type": "code",
   "execution_count": 45,
   "metadata": {},
   "outputs": [
    {
     "name": "stdout",
     "output_type": "stream",
     "text": [
      "Model: \"sequential_4\"\n",
      "_________________________________________________________________\n",
      "Layer (type)                 Output Shape              Param #   \n",
      "=================================================================\n",
      "lstm_2 (LSTM)                (None, 20, 100)           40800     \n",
      "_________________________________________________________________\n",
      "dense_11 (Dense)             (None, 20, 60)            6060      \n",
      "_________________________________________________________________\n",
      "dense_12 (Dense)             (None, 20, 1)             61        \n",
      "=================================================================\n",
      "Total params: 46,921\n",
      "Trainable params: 46,921\n",
      "Non-trainable params: 0\n",
      "_________________________________________________________________\n"
     ]
    }
   ],
   "source": [
    "ico_training = ICODeepTraining(df_training_transactions_20.iloc[:, :-1],\n",
    "                               df_training_transactions_20.iloc[:, -1],\n",
    "                               model_lstm,\n",
    "                               ann_type='lstm',\n",
    "                               size_array=60)\n",
    "                               \n",
    "ico_training.split_train_test()\n",
    "ico_training.model_summary()"
   ]
  },
  {
   "cell_type": "code",
   "execution_count": 46,
   "metadata": {},
   "outputs": [],
   "source": [
    "earlystop =  keras.callbacks.EarlyStopping(monitor='loss', patience=50)"
   ]
  },
  {
   "cell_type": "code",
   "execution_count": 47,
   "metadata": {},
   "outputs": [
    {
     "data": {
      "application/vnd.plotly.v1+json": {
       "config": {
        "plotlyServerURL": "https://plot.ly"
       },
       "data": [
        {
         "hovertemplate": "<b>%{hovertext}</b><br><br>metric=accuracy<br>epochs=%{x}<br>values=%{y}<extra></extra>",
         "hovertext": [
          "accuracy",
          "accuracy",
          "accuracy",
          "accuracy",
          "accuracy",
          "accuracy",
          "accuracy",
          "accuracy",
          "accuracy",
          "accuracy",
          "accuracy",
          "accuracy",
          "accuracy",
          "accuracy",
          "accuracy",
          "accuracy",
          "accuracy",
          "accuracy",
          "accuracy",
          "accuracy",
          "accuracy",
          "accuracy",
          "accuracy",
          "accuracy",
          "accuracy",
          "accuracy",
          "accuracy",
          "accuracy",
          "accuracy",
          "accuracy",
          "accuracy",
          "accuracy",
          "accuracy",
          "accuracy",
          "accuracy",
          "accuracy",
          "accuracy",
          "accuracy",
          "accuracy",
          "accuracy",
          "accuracy",
          "accuracy",
          "accuracy",
          "accuracy",
          "accuracy",
          "accuracy",
          "accuracy",
          "accuracy",
          "accuracy",
          "accuracy",
          "accuracy",
          "accuracy",
          "accuracy",
          "accuracy",
          "accuracy",
          "accuracy",
          "accuracy",
          "accuracy",
          "accuracy",
          "accuracy",
          "accuracy",
          "accuracy",
          "accuracy",
          "accuracy",
          "accuracy",
          "accuracy",
          "accuracy",
          "accuracy",
          "accuracy",
          "accuracy",
          "accuracy",
          "accuracy",
          "accuracy",
          "accuracy",
          "accuracy",
          "accuracy",
          "accuracy",
          "accuracy",
          "accuracy",
          "accuracy",
          "accuracy",
          "accuracy",
          "accuracy",
          "accuracy",
          "accuracy",
          "accuracy",
          "accuracy",
          "accuracy",
          "accuracy",
          "accuracy",
          "accuracy",
          "accuracy",
          "accuracy",
          "accuracy",
          "accuracy",
          "accuracy",
          "accuracy",
          "accuracy",
          "accuracy",
          "accuracy",
          "accuracy",
          "accuracy",
          "accuracy",
          "accuracy",
          "accuracy",
          "accuracy",
          "accuracy",
          "accuracy",
          "accuracy",
          "accuracy",
          "accuracy",
          "accuracy",
          "accuracy",
          "accuracy",
          "accuracy",
          "accuracy",
          "accuracy",
          "accuracy",
          "accuracy",
          "accuracy",
          "accuracy",
          "accuracy",
          "accuracy",
          "accuracy",
          "accuracy",
          "accuracy",
          "accuracy",
          "accuracy",
          "accuracy",
          "accuracy",
          "accuracy",
          "accuracy",
          "accuracy",
          "accuracy",
          "accuracy",
          "accuracy",
          "accuracy",
          "accuracy",
          "accuracy",
          "accuracy",
          "accuracy",
          "accuracy",
          "accuracy",
          "accuracy",
          "accuracy",
          "accuracy",
          "accuracy",
          "accuracy",
          "accuracy",
          "accuracy",
          "accuracy",
          "accuracy",
          "accuracy",
          "accuracy",
          "accuracy",
          "accuracy",
          "accuracy",
          "accuracy",
          "accuracy",
          "accuracy",
          "accuracy",
          "accuracy",
          "accuracy",
          "accuracy",
          "accuracy",
          "accuracy",
          "accuracy",
          "accuracy",
          "accuracy",
          "accuracy",
          "accuracy",
          "accuracy",
          "accuracy",
          "accuracy",
          "accuracy",
          "accuracy",
          "accuracy",
          "accuracy",
          "accuracy",
          "accuracy",
          "accuracy",
          "accuracy",
          "accuracy",
          "accuracy",
          "accuracy",
          "accuracy",
          "accuracy",
          "accuracy",
          "accuracy",
          "accuracy",
          "accuracy",
          "accuracy",
          "accuracy",
          "accuracy",
          "accuracy",
          "accuracy",
          "accuracy",
          "accuracy",
          "accuracy",
          "accuracy"
         ],
         "legendgroup": "accuracy",
         "line": {
          "color": "#636efa",
          "dash": "solid"
         },
         "mode": "lines",
         "name": "accuracy",
         "orientation": "v",
         "showlegend": true,
         "type": "scatter",
         "x": [
          0,
          1,
          2,
          3,
          4,
          5,
          6,
          7,
          8,
          9,
          10,
          11,
          12,
          13,
          14,
          15,
          16,
          17,
          18,
          19,
          20,
          21,
          22,
          23,
          24,
          25,
          26,
          27,
          28,
          29,
          30,
          31,
          32,
          33,
          34,
          35,
          36,
          37,
          38,
          39,
          40,
          41,
          42,
          43,
          44,
          45,
          46,
          47,
          48,
          49,
          50,
          51,
          52,
          53,
          54,
          55,
          56,
          57,
          58,
          59,
          60,
          61,
          62,
          63,
          64,
          65,
          66,
          67,
          68,
          69,
          70,
          71,
          72,
          73,
          74,
          75,
          76,
          77,
          78,
          79,
          80,
          81,
          82,
          83,
          84,
          85,
          86,
          87,
          88,
          89,
          90,
          91,
          92,
          93,
          94,
          95,
          96,
          97,
          98,
          99,
          100,
          101,
          102,
          103,
          104,
          105,
          106,
          107,
          108,
          109,
          110,
          111,
          112,
          113,
          114,
          115,
          116,
          117,
          118,
          119,
          120,
          121,
          122,
          123,
          124,
          125,
          126,
          127,
          128,
          129,
          130,
          131,
          132,
          133,
          134,
          135,
          136,
          137,
          138,
          139,
          140,
          141,
          142,
          143,
          144,
          145,
          146,
          147,
          148,
          149,
          150,
          151,
          152,
          153,
          154,
          155,
          156,
          157,
          158,
          159,
          160,
          161,
          162,
          163,
          164,
          165,
          166,
          167,
          168,
          169,
          170,
          171,
          172,
          173,
          174,
          175,
          176,
          177,
          178,
          179,
          180,
          181,
          182,
          183,
          184,
          185,
          186,
          187,
          188,
          189,
          190,
          191,
          192,
          193,
          194,
          195,
          196,
          197,
          198,
          199
         ],
         "xaxis": "x",
         "y": [
          0.46419352293014526,
          0.57419353723526,
          0.57419353723526,
          0.57419353723526,
          0.57419353723526,
          0.57419353723526,
          0.57419353723526,
          0.57419353723526,
          0.57419353723526,
          0.57419353723526,
          0.57419353723526,
          0.57419353723526,
          0.57419353723526,
          0.57419353723526,
          0.57419353723526,
          0.57419353723526,
          0.57419353723526,
          0.57419353723526,
          0.57419353723526,
          0.57419353723526,
          0.57419353723526,
          0.57419353723526,
          0.57419353723526,
          0.57419353723526,
          0.57419353723526,
          0.57419353723526,
          0.57419353723526,
          0.5758064389228821,
          0.5770967602729797,
          0.5719355344772339,
          0.5706451535224915,
          0.5838709473609924,
          0.5877419710159302,
          0.5964515805244446,
          0.5777419805526733,
          0.568709671497345,
          0.575161337852478,
          0.584516167640686,
          0.573548436164856,
          0.5812902450561523,
          0.5825806856155396,
          0.5722580552101135,
          0.5729032158851624,
          0.5732257962226868,
          0.5793548822402954,
          0.5767741799354553,
          0.5790322422981262,
          0.5709677338600159,
          0.57419353723526,
          0.5716128945350647,
          0.5735483765602112,
          0.5735483765602112,
          0.583548367023468,
          0.5841935276985168,
          0.5812903046607971,
          0.5854838490486145,
          0.5909677147865295,
          0.5858064889907837,
          0.5787097215652466,
          0.5732257962226868,
          0.5745161771774292,
          0.5748386979103088,
          0.5816128849983215,
          0.5829032063484192,
          0.5864515900611877,
          0.5870967507362366,
          0.5845161080360413,
          0.5706451535224915,
          0.5699999928474426,
          0.5716128945350647,
          0.57419353723526,
          0.5787097215652466,
          0.5812902450561523,
          0.5790322422981262,
          0.5777419805526733,
          0.5812903046607971,
          0.5806451439857483,
          0.579677402973175,
          0.5812903046607971,
          0.5751612782478333,
          0.5841935873031616,
          0.5719355344772339,
          0.5700000524520874,
          0.5719354748725891,
          0.5761290192604065,
          0.5774193406105042,
          0.5841935873031616,
          0.5851612687110901,
          0.5845161080360413,
          0.5806451439857483,
          0.5829032063484192,
          0.5858064889907837,
          0.5851612687110901,
          0.5851612687110901,
          0.5841935873031616,
          0.582903265953064,
          0.5880645513534546,
          0.5864515900611877,
          0.5896773934364319,
          0.5822580456733704,
          0.5854838490486145,
          0.5851612687110901,
          0.5758063793182373,
          0.5870968103408813,
          0.5841935276985168,
          0.5870967507362366,
          0.5825806856155396,
          0.5822580456733704,
          0.5819355249404907,
          0.584516167640686,
          0.5848387479782104,
          0.5838709473609924,
          0.583548367023468,
          0.5906451940536499,
          0.5896774530410767,
          0.5938709378242493,
          0.5848386883735657,
          0.5832258462905884,
          0.5861290693283081,
          0.5835484266281128,
          0.5896774530410767,
          0.5948386788368225,
          0.5903225541114807,
          0.5864516496658325,
          0.5758064389228821,
          0.5761290788650513,
          0.581935465335846,
          0.5809677243232727,
          0.592258095741272,
          0.5867741703987122,
          0.5838709473609924,
          0.5848387479782104,
          0.5819355249404907,
          0.5858064889907837,
          0.5841935873031616,
          0.5841935276985168,
          0.581935465335846,
          0.5858064293861389,
          0.5793548822402954,
          0.579677402973175,
          0.5825806260108948,
          0.5787096619606018,
          0.5861290097236633,
          0.5832257866859436,
          0.5874193906784058,
          0.5906451940536499,
          0.5935483574867249,
          0.5848387479782104,
          0.5900000333786011,
          0.5906451344490051,
          0.5874193906784058,
          0.5929032564163208,
          0.584516167640686,
          0.5899999737739563,
          0.5919354557991028,
          0.5812903642654419,
          0.5900000333786011,
          0.5861290097236633,
          0.57419353723526,
          0.5748387575149536,
          0.5764515995979309,
          0.5751612782478333,
          0.5777419805526733,
          0.5896773934364319,
          0.5932258367538452,
          0.5812903046607971,
          0.579032301902771,
          0.5790322422981262,
          0.5916128754615784,
          0.5825806260108948,
          0.5790321826934814,
          0.5799999833106995,
          0.5912903547286987,
          0.5883870720863342,
          0.5887096524238586,
          0.5841935873031616,
          0.5887096524238586,
          0.5848386883735657,
          0.5916128754615784,
          0.5912903547286987,
          0.5906451940536499,
          0.5887096524238586,
          0.5903225541114807,
          0.5929032564163208,
          0.5919354557991028,
          0.5832257866859436,
          0.5803225636482239,
          0.5809677243232727,
          0.5767742395401001,
          0.5770967602729797,
          0.5890322923660278,
          0.5861290693283081,
          0.5877419114112854,
          0.5761290788650513,
          0.5916128754615784,
          0.5890322923660278,
          0.5916128754615784,
          0.5893548130989075,
          0.5906451940536499,
          0.5861290693283081
         ],
         "yaxis": "y"
        },
        {
         "hovertemplate": "<b>%{hovertext}</b><br><br>metric=loss<br>epochs=%{x}<br>values=%{y}<extra></extra>",
         "hovertext": [
          "loss",
          "loss",
          "loss",
          "loss",
          "loss",
          "loss",
          "loss",
          "loss",
          "loss",
          "loss",
          "loss",
          "loss",
          "loss",
          "loss",
          "loss",
          "loss",
          "loss",
          "loss",
          "loss",
          "loss",
          "loss",
          "loss",
          "loss",
          "loss",
          "loss",
          "loss",
          "loss",
          "loss",
          "loss",
          "loss",
          "loss",
          "loss",
          "loss",
          "loss",
          "loss",
          "loss",
          "loss",
          "loss",
          "loss",
          "loss",
          "loss",
          "loss",
          "loss",
          "loss",
          "loss",
          "loss",
          "loss",
          "loss",
          "loss",
          "loss",
          "loss",
          "loss",
          "loss",
          "loss",
          "loss",
          "loss",
          "loss",
          "loss",
          "loss",
          "loss",
          "loss",
          "loss",
          "loss",
          "loss",
          "loss",
          "loss",
          "loss",
          "loss",
          "loss",
          "loss",
          "loss",
          "loss",
          "loss",
          "loss",
          "loss",
          "loss",
          "loss",
          "loss",
          "loss",
          "loss",
          "loss",
          "loss",
          "loss",
          "loss",
          "loss",
          "loss",
          "loss",
          "loss",
          "loss",
          "loss",
          "loss",
          "loss",
          "loss",
          "loss",
          "loss",
          "loss",
          "loss",
          "loss",
          "loss",
          "loss",
          "loss",
          "loss",
          "loss",
          "loss",
          "loss",
          "loss",
          "loss",
          "loss",
          "loss",
          "loss",
          "loss",
          "loss",
          "loss",
          "loss",
          "loss",
          "loss",
          "loss",
          "loss",
          "loss",
          "loss",
          "loss",
          "loss",
          "loss",
          "loss",
          "loss",
          "loss",
          "loss",
          "loss",
          "loss",
          "loss",
          "loss",
          "loss",
          "loss",
          "loss",
          "loss",
          "loss",
          "loss",
          "loss",
          "loss",
          "loss",
          "loss",
          "loss",
          "loss",
          "loss",
          "loss",
          "loss",
          "loss",
          "loss",
          "loss",
          "loss",
          "loss",
          "loss",
          "loss",
          "loss",
          "loss",
          "loss",
          "loss",
          "loss",
          "loss",
          "loss",
          "loss",
          "loss",
          "loss",
          "loss",
          "loss",
          "loss",
          "loss",
          "loss",
          "loss",
          "loss",
          "loss",
          "loss",
          "loss",
          "loss",
          "loss",
          "loss",
          "loss",
          "loss",
          "loss",
          "loss",
          "loss",
          "loss",
          "loss",
          "loss",
          "loss",
          "loss",
          "loss",
          "loss",
          "loss",
          "loss",
          "loss",
          "loss",
          "loss",
          "loss",
          "loss",
          "loss",
          "loss",
          "loss",
          "loss",
          "loss"
         ],
         "legendgroup": "loss",
         "line": {
          "color": "#EF553B",
          "dash": "solid"
         },
         "mode": "lines",
         "name": "loss",
         "orientation": "v",
         "showlegend": true,
         "type": "scatter",
         "x": [
          0,
          1,
          2,
          3,
          4,
          5,
          6,
          7,
          8,
          9,
          10,
          11,
          12,
          13,
          14,
          15,
          16,
          17,
          18,
          19,
          20,
          21,
          22,
          23,
          24,
          25,
          26,
          27,
          28,
          29,
          30,
          31,
          32,
          33,
          34,
          35,
          36,
          37,
          38,
          39,
          40,
          41,
          42,
          43,
          44,
          45,
          46,
          47,
          48,
          49,
          50,
          51,
          52,
          53,
          54,
          55,
          56,
          57,
          58,
          59,
          60,
          61,
          62,
          63,
          64,
          65,
          66,
          67,
          68,
          69,
          70,
          71,
          72,
          73,
          74,
          75,
          76,
          77,
          78,
          79,
          80,
          81,
          82,
          83,
          84,
          85,
          86,
          87,
          88,
          89,
          90,
          91,
          92,
          93,
          94,
          95,
          96,
          97,
          98,
          99,
          100,
          101,
          102,
          103,
          104,
          105,
          106,
          107,
          108,
          109,
          110,
          111,
          112,
          113,
          114,
          115,
          116,
          117,
          118,
          119,
          120,
          121,
          122,
          123,
          124,
          125,
          126,
          127,
          128,
          129,
          130,
          131,
          132,
          133,
          134,
          135,
          136,
          137,
          138,
          139,
          140,
          141,
          142,
          143,
          144,
          145,
          146,
          147,
          148,
          149,
          150,
          151,
          152,
          153,
          154,
          155,
          156,
          157,
          158,
          159,
          160,
          161,
          162,
          163,
          164,
          165,
          166,
          167,
          168,
          169,
          170,
          171,
          172,
          173,
          174,
          175,
          176,
          177,
          178,
          179,
          180,
          181,
          182,
          183,
          184,
          185,
          186,
          187,
          188,
          189,
          190,
          191,
          192,
          193,
          194,
          195,
          196,
          197,
          198,
          199
         ],
         "xaxis": "x",
         "y": [
          0.6964271068572998,
          0.6870710253715515,
          0.6827735900878906,
          0.6812703013420105,
          0.6785710453987122,
          0.6784639358520508,
          0.679175615310669,
          0.6802951693534851,
          0.6801513433456421,
          0.678342342376709,
          0.6789433360099792,
          0.6781237721443176,
          0.6781200170516968,
          0.6780129671096802,
          0.6780360341072083,
          0.6778209805488586,
          0.6777609586715698,
          0.6773112416267395,
          0.6780821681022644,
          0.6777204275131226,
          0.6774953007698059,
          0.677554726600647,
          0.6771930456161499,
          0.6771610379219055,
          0.676583468914032,
          0.6758386492729187,
          0.6763584613800049,
          0.6756638884544373,
          0.6751219630241394,
          0.6745226383209229,
          0.6737219095230103,
          0.6710226535797119,
          0.6711968183517456,
          0.667574405670166,
          0.6704001426696777,
          0.6701114773750305,
          0.6698837876319885,
          0.6694365739822388,
          0.6690714955329895,
          0.6691941618919373,
          0.6698095798492432,
          0.6682417392730713,
          0.6725338697433472,
          0.669260561466217,
          0.6684090495109558,
          0.6719234585762024,
          0.6730027794837952,
          0.6703296899795532,
          0.6695080399513245,
          0.6695987582206726,
          0.6687542200088501,
          0.6674720048904419,
          0.6686134338378906,
          0.6705875992774963,
          0.6693658828735352,
          0.6674754023551941,
          0.6680576205253601,
          0.6682934165000916,
          0.6673479080200195,
          0.6675156950950623,
          0.6665281057357788,
          0.6662290692329407,
          0.665604293346405,
          0.6658765077590942,
          0.664702832698822,
          0.6665286421775818,
          0.66648930311203,
          0.6652469635009766,
          0.669858455657959,
          0.6693198084831238,
          0.6655932664871216,
          0.6655769348144531,
          0.6656051278114319,
          0.6654062867164612,
          0.666445255279541,
          0.663591742515564,
          0.6665686964988708,
          0.6706920266151428,
          0.6664997339248657,
          0.6684192419052124,
          0.6665939092636108,
          0.6660581231117249,
          0.6661098599433899,
          0.6646071076393127,
          0.6644138693809509,
          0.6654787659645081,
          0.664181113243103,
          0.664286732673645,
          0.6639196872711182,
          0.664814829826355,
          0.6648216247558594,
          0.6646651029586792,
          0.6636368036270142,
          0.6632646322250366,
          0.6642115712165833,
          0.6628823280334473,
          0.6643261313438416,
          0.6649013161659241,
          0.665187418460846,
          0.6632819771766663,
          0.6639062762260437,
          0.6641900539398193,
          0.6633064150810242,
          0.6653403043746948,
          0.6632687449455261,
          0.6681771278381348,
          0.6667453050613403,
          0.6638324856758118,
          0.6665163636207581,
          0.6679508090019226,
          0.6672198176383972,
          0.6653573513031006,
          0.6649905443191528,
          0.6644805669784546,
          0.6636130213737488,
          0.6629990339279175,
          0.6638925075531006,
          0.6648209095001221,
          0.6631121039390564,
          0.6632918119430542,
          0.6665433645248413,
          0.6629475951194763,
          0.6632670760154724,
          0.6623921394348145,
          0.6633574366569519,
          0.6640888452529907,
          0.6631414890289307,
          0.6645716428756714,
          0.6634371876716614,
          0.6620064377784729,
          0.6628085374832153,
          0.6631956100463867,
          0.6622147560119629,
          0.6633657813072205,
          0.6621304750442505,
          0.6626027822494507,
          0.6616955995559692,
          0.6626230478286743,
          0.6628091335296631,
          0.6614935398101807,
          0.6610947251319885,
          0.6623620390892029,
          0.6613050103187561,
          0.6629748940467834,
          0.6629682183265686,
          0.6615460515022278,
          0.6610423922538757,
          0.6606598496437073,
          0.6610607504844666,
          0.6655988693237305,
          0.663127064704895,
          0.6616938710212708,
          0.6643109917640686,
          0.6641799807548523,
          0.6608575582504272,
          0.6606341600418091,
          0.6609127521514893,
          0.6612301468849182,
          0.6625611186027527,
          0.6616861820220947,
          0.6608870625495911,
          0.6614250540733337,
          0.6602739095687866,
          0.6604430079460144,
          0.6596850752830505,
          0.6602916121482849,
          0.6597794890403748,
          0.6621918678283691,
          0.6596992015838623,
          0.6621881723403931,
          0.6610164642333984,
          0.6615219116210938,
          0.6617294549942017,
          0.6594547629356384,
          0.6623708605766296,
          0.6580587029457092,
          0.6641943454742432,
          0.6622855067253113,
          0.6594904065132141,
          0.6605682969093323,
          0.6586810350418091,
          0.6612791419029236,
          0.6599552035331726,
          0.6606502532958984,
          0.6656566858291626,
          0.662114679813385,
          0.6602514386177063,
          0.6624978184700012,
          0.6608373522758484,
          0.6597245335578918,
          0.6604391932487488,
          0.6589023470878601,
          0.6592001914978027,
          0.6592148542404175,
          0.6604639291763306,
          0.660021185874939,
          0.6601832509040833,
          0.6599825024604797,
          0.6598051190376282,
          0.6653662919998169
         ],
         "yaxis": "y"
        },
        {
         "hovertemplate": "<b>%{hovertext}</b><br><br>metric=val_accuracy<br>epochs=%{x}<br>values=%{y}<extra></extra>",
         "hovertext": [
          "val_accuracy",
          "val_accuracy",
          "val_accuracy",
          "val_accuracy",
          "val_accuracy",
          "val_accuracy",
          "val_accuracy",
          "val_accuracy",
          "val_accuracy",
          "val_accuracy",
          "val_accuracy",
          "val_accuracy",
          "val_accuracy",
          "val_accuracy",
          "val_accuracy",
          "val_accuracy",
          "val_accuracy",
          "val_accuracy",
          "val_accuracy",
          "val_accuracy",
          "val_accuracy",
          "val_accuracy",
          "val_accuracy",
          "val_accuracy",
          "val_accuracy",
          "val_accuracy",
          "val_accuracy",
          "val_accuracy",
          "val_accuracy",
          "val_accuracy",
          "val_accuracy",
          "val_accuracy",
          "val_accuracy",
          "val_accuracy",
          "val_accuracy",
          "val_accuracy",
          "val_accuracy",
          "val_accuracy",
          "val_accuracy",
          "val_accuracy",
          "val_accuracy",
          "val_accuracy",
          "val_accuracy",
          "val_accuracy",
          "val_accuracy",
          "val_accuracy",
          "val_accuracy",
          "val_accuracy",
          "val_accuracy",
          "val_accuracy",
          "val_accuracy",
          "val_accuracy",
          "val_accuracy",
          "val_accuracy",
          "val_accuracy",
          "val_accuracy",
          "val_accuracy",
          "val_accuracy",
          "val_accuracy",
          "val_accuracy",
          "val_accuracy",
          "val_accuracy",
          "val_accuracy",
          "val_accuracy",
          "val_accuracy",
          "val_accuracy",
          "val_accuracy",
          "val_accuracy",
          "val_accuracy",
          "val_accuracy",
          "val_accuracy",
          "val_accuracy",
          "val_accuracy",
          "val_accuracy",
          "val_accuracy",
          "val_accuracy",
          "val_accuracy",
          "val_accuracy",
          "val_accuracy",
          "val_accuracy",
          "val_accuracy",
          "val_accuracy",
          "val_accuracy",
          "val_accuracy",
          "val_accuracy",
          "val_accuracy",
          "val_accuracy",
          "val_accuracy",
          "val_accuracy",
          "val_accuracy",
          "val_accuracy",
          "val_accuracy",
          "val_accuracy",
          "val_accuracy",
          "val_accuracy",
          "val_accuracy",
          "val_accuracy",
          "val_accuracy",
          "val_accuracy",
          "val_accuracy",
          "val_accuracy",
          "val_accuracy",
          "val_accuracy",
          "val_accuracy",
          "val_accuracy",
          "val_accuracy",
          "val_accuracy",
          "val_accuracy",
          "val_accuracy",
          "val_accuracy",
          "val_accuracy",
          "val_accuracy",
          "val_accuracy",
          "val_accuracy",
          "val_accuracy",
          "val_accuracy",
          "val_accuracy",
          "val_accuracy",
          "val_accuracy",
          "val_accuracy",
          "val_accuracy",
          "val_accuracy",
          "val_accuracy",
          "val_accuracy",
          "val_accuracy",
          "val_accuracy",
          "val_accuracy",
          "val_accuracy",
          "val_accuracy",
          "val_accuracy",
          "val_accuracy",
          "val_accuracy",
          "val_accuracy",
          "val_accuracy",
          "val_accuracy",
          "val_accuracy",
          "val_accuracy",
          "val_accuracy",
          "val_accuracy",
          "val_accuracy",
          "val_accuracy",
          "val_accuracy",
          "val_accuracy",
          "val_accuracy",
          "val_accuracy",
          "val_accuracy",
          "val_accuracy",
          "val_accuracy",
          "val_accuracy",
          "val_accuracy",
          "val_accuracy",
          "val_accuracy",
          "val_accuracy",
          "val_accuracy",
          "val_accuracy",
          "val_accuracy",
          "val_accuracy",
          "val_accuracy",
          "val_accuracy",
          "val_accuracy",
          "val_accuracy",
          "val_accuracy",
          "val_accuracy",
          "val_accuracy",
          "val_accuracy",
          "val_accuracy",
          "val_accuracy",
          "val_accuracy",
          "val_accuracy",
          "val_accuracy",
          "val_accuracy",
          "val_accuracy",
          "val_accuracy",
          "val_accuracy",
          "val_accuracy",
          "val_accuracy",
          "val_accuracy",
          "val_accuracy",
          "val_accuracy",
          "val_accuracy",
          "val_accuracy",
          "val_accuracy",
          "val_accuracy",
          "val_accuracy",
          "val_accuracy",
          "val_accuracy",
          "val_accuracy",
          "val_accuracy",
          "val_accuracy",
          "val_accuracy",
          "val_accuracy",
          "val_accuracy",
          "val_accuracy",
          "val_accuracy",
          "val_accuracy",
          "val_accuracy",
          "val_accuracy",
          "val_accuracy",
          "val_accuracy",
          "val_accuracy"
         ],
         "legendgroup": "val_accuracy",
         "line": {
          "color": "#00cc96",
          "dash": "solid"
         },
         "mode": "lines",
         "name": "val_accuracy",
         "orientation": "v",
         "showlegend": true,
         "type": "scatter",
         "x": [
          0,
          1,
          2,
          3,
          4,
          5,
          6,
          7,
          8,
          9,
          10,
          11,
          12,
          13,
          14,
          15,
          16,
          17,
          18,
          19,
          20,
          21,
          22,
          23,
          24,
          25,
          26,
          27,
          28,
          29,
          30,
          31,
          32,
          33,
          34,
          35,
          36,
          37,
          38,
          39,
          40,
          41,
          42,
          43,
          44,
          45,
          46,
          47,
          48,
          49,
          50,
          51,
          52,
          53,
          54,
          55,
          56,
          57,
          58,
          59,
          60,
          61,
          62,
          63,
          64,
          65,
          66,
          67,
          68,
          69,
          70,
          71,
          72,
          73,
          74,
          75,
          76,
          77,
          78,
          79,
          80,
          81,
          82,
          83,
          84,
          85,
          86,
          87,
          88,
          89,
          90,
          91,
          92,
          93,
          94,
          95,
          96,
          97,
          98,
          99,
          100,
          101,
          102,
          103,
          104,
          105,
          106,
          107,
          108,
          109,
          110,
          111,
          112,
          113,
          114,
          115,
          116,
          117,
          118,
          119,
          120,
          121,
          122,
          123,
          124,
          125,
          126,
          127,
          128,
          129,
          130,
          131,
          132,
          133,
          134,
          135,
          136,
          137,
          138,
          139,
          140,
          141,
          142,
          143,
          144,
          145,
          146,
          147,
          148,
          149,
          150,
          151,
          152,
          153,
          154,
          155,
          156,
          157,
          158,
          159,
          160,
          161,
          162,
          163,
          164,
          165,
          166,
          167,
          168,
          169,
          170,
          171,
          172,
          173,
          174,
          175,
          176,
          177,
          178,
          179,
          180,
          181,
          182,
          183,
          184,
          185,
          186,
          187,
          188,
          189,
          190,
          191,
          192,
          193,
          194,
          195,
          196,
          197,
          198,
          199
         ],
         "xaxis": "x",
         "y": [
          0.5373134613037109,
          0.5373134613037109,
          0.5373134613037109,
          0.5373134613037109,
          0.5373134613037109,
          0.5373134613037109,
          0.5373134613037109,
          0.5373134613037109,
          0.5373134613037109,
          0.5373134613037109,
          0.5373134613037109,
          0.5373134613037109,
          0.5373134613037109,
          0.5373134613037109,
          0.5373134613037109,
          0.5373134613037109,
          0.5373134613037109,
          0.5373134613037109,
          0.5373134613037109,
          0.5373134613037109,
          0.5373134613037109,
          0.5373134613037109,
          0.5395522713661194,
          0.5395522713661194,
          0.5417910218238831,
          0.542537271976471,
          0.5440298914909363,
          0.5455223917961121,
          0.5514925718307495,
          0.562686562538147,
          0.5619402527809143,
          0.5671641826629639,
          0.5641791224479675,
          0.588059663772583,
          0.5940298438072205,
          0.5947761535644531,
          0.5835821032524109,
          0.5873134732246399,
          0.5776119232177734,
          0.5783582925796509,
          0.5694029331207275,
          0.5582090020179749,
          0.5582090020179749,
          0.5649253726005554,
          0.5701491832733154,
          0.5701492428779602,
          0.5552238821983337,
          0.5462686419487,
          0.5634328126907349,
          0.5694029927253723,
          0.5597015023231506,
          0.5626865029335022,
          0.5708954930305481,
          0.5783581733703613,
          0.5723880529403687,
          0.5671641826629639,
          0.5656716823577881,
          0.5858209133148193,
          0.5902985334396362,
          0.5902985334396362,
          0.5910447239875793,
          0.5873134732246399,
          0.5880597233772278,
          0.5761194229125977,
          0.5738806128501892,
          0.5708954930305481,
          0.5604477524757385,
          0.5671641826629639,
          0.566417932510376,
          0.5656716823577881,
          0.5574626922607422,
          0.5597015023231506,
          0.558955192565918,
          0.5604477524757385,
          0.5671641230583191,
          0.562686562538147,
          0.558955192565918,
          0.5611940026283264,
          0.5671641230583191,
          0.5671641826629639,
          0.5671641230583191,
          0.5589552521705627,
          0.5671641826629639,
          0.566417932510376,
          0.5649253726005554,
          0.5731343030929565,
          0.5723881125450134,
          0.5746268630027771,
          0.5798507928848267,
          0.5783582329750061,
          0.5768656730651855,
          0.5753731727600098,
          0.5776119232177734,
          0.5813432931900024,
          0.5798507332801819,
          0.5731343626976013,
          0.5716418027877808,
          0.5716418027877808,
          0.5671641826629639,
          0.5649253726005554,
          0.5649254322052002,
          0.5649253726005554,
          0.5679104328155518,
          0.5679104328155518,
          0.5701491832733154,
          0.5641791224479675,
          0.5634328126907349,
          0.5686567425727844,
          0.5686566829681396,
          0.5679104924201965,
          0.5679104328155518,
          0.562686562538147,
          0.566417932510376,
          0.566417932510376,
          0.5701492428779602,
          0.586567223072052,
          0.5925373435020447,
          0.5865671634674072,
          0.5843283534049988,
          0.579104483127594,
          0.5701492428779602,
          0.5679104328155518,
          0.5671641230583191,
          0.5641791224479675,
          0.5634328722953796,
          0.5686566829681396,
          0.5641791224479675,
          0.5708954930305481,
          0.5611940026283264,
          0.5686567425727844,
          0.5671641826629639,
          0.5671641230583191,
          0.5679104328155518,
          0.5656716227531433,
          0.5671641826629639,
          0.5641791224479675,
          0.5708954930305481,
          0.5694029927253723,
          0.5619403123855591,
          0.5656716227531433,
          0.5656716823577881,
          0.575373113155365,
          0.5731343626976013,
          0.5656716823577881,
          0.5679104328155518,
          0.5671641826629639,
          0.5686567425727844,
          0.566417932510376,
          0.5679104328155518,
          0.5656716823577881,
          0.5656716823577881,
          0.5820895433425903,
          0.5805970430374146,
          0.5694029927253723,
          0.5776119232177734,
          0.5731343626976013,
          0.5634327530860901,
          0.5589552521705627,
          0.5574626922607422,
          0.5619403123855591,
          0.5649253726005554,
          0.5641791224479675,
          0.5634327530860901,
          0.5686567425727844,
          0.5858209133148193,
          0.5888059139251709,
          0.5865671634674072,
          0.5716418027877808,
          0.5641791224479675,
          0.5649253726005554,
          0.5671641826629639,
          0.5641791224479675,
          0.5649253726005554,
          0.5649253726005554,
          0.5746268630027771,
          0.5880597233772278,
          0.5798507332801819,
          0.5641791224479675,
          0.562686562538147,
          0.5656716227531433,
          0.5686567425727844,
          0.5716418027877808,
          0.5634328126907349,
          0.5641791224479675,
          0.5694029927253723,
          0.579104483127594,
          0.5828357934951782,
          0.5873134732246399,
          0.5776119232177734,
          0.5694029927253723,
          0.5686566829681396,
          0.5634328126907349,
          0.5723880529403687,
          0.5694029927253723,
          0.5634328722953796,
          0.5619403123855591,
          0.5619403123855591,
          0.5641791224479675,
          0.5641791224479675,
          0.5723881125450134
         ],
         "yaxis": "y"
        },
        {
         "hovertemplate": "<b>%{hovertext}</b><br><br>metric=val_loss<br>epochs=%{x}<br>values=%{y}<extra></extra>",
         "hovertext": [
          "val_loss",
          "val_loss",
          "val_loss",
          "val_loss",
          "val_loss",
          "val_loss",
          "val_loss",
          "val_loss",
          "val_loss",
          "val_loss",
          "val_loss",
          "val_loss",
          "val_loss",
          "val_loss",
          "val_loss",
          "val_loss",
          "val_loss",
          "val_loss",
          "val_loss",
          "val_loss",
          "val_loss",
          "val_loss",
          "val_loss",
          "val_loss",
          "val_loss",
          "val_loss",
          "val_loss",
          "val_loss",
          "val_loss",
          "val_loss",
          "val_loss",
          "val_loss",
          "val_loss",
          "val_loss",
          "val_loss",
          "val_loss",
          "val_loss",
          "val_loss",
          "val_loss",
          "val_loss",
          "val_loss",
          "val_loss",
          "val_loss",
          "val_loss",
          "val_loss",
          "val_loss",
          "val_loss",
          "val_loss",
          "val_loss",
          "val_loss",
          "val_loss",
          "val_loss",
          "val_loss",
          "val_loss",
          "val_loss",
          "val_loss",
          "val_loss",
          "val_loss",
          "val_loss",
          "val_loss",
          "val_loss",
          "val_loss",
          "val_loss",
          "val_loss",
          "val_loss",
          "val_loss",
          "val_loss",
          "val_loss",
          "val_loss",
          "val_loss",
          "val_loss",
          "val_loss",
          "val_loss",
          "val_loss",
          "val_loss",
          "val_loss",
          "val_loss",
          "val_loss",
          "val_loss",
          "val_loss",
          "val_loss",
          "val_loss",
          "val_loss",
          "val_loss",
          "val_loss",
          "val_loss",
          "val_loss",
          "val_loss",
          "val_loss",
          "val_loss",
          "val_loss",
          "val_loss",
          "val_loss",
          "val_loss",
          "val_loss",
          "val_loss",
          "val_loss",
          "val_loss",
          "val_loss",
          "val_loss",
          "val_loss",
          "val_loss",
          "val_loss",
          "val_loss",
          "val_loss",
          "val_loss",
          "val_loss",
          "val_loss",
          "val_loss",
          "val_loss",
          "val_loss",
          "val_loss",
          "val_loss",
          "val_loss",
          "val_loss",
          "val_loss",
          "val_loss",
          "val_loss",
          "val_loss",
          "val_loss",
          "val_loss",
          "val_loss",
          "val_loss",
          "val_loss",
          "val_loss",
          "val_loss",
          "val_loss",
          "val_loss",
          "val_loss",
          "val_loss",
          "val_loss",
          "val_loss",
          "val_loss",
          "val_loss",
          "val_loss",
          "val_loss",
          "val_loss",
          "val_loss",
          "val_loss",
          "val_loss",
          "val_loss",
          "val_loss",
          "val_loss",
          "val_loss",
          "val_loss",
          "val_loss",
          "val_loss",
          "val_loss",
          "val_loss",
          "val_loss",
          "val_loss",
          "val_loss",
          "val_loss",
          "val_loss",
          "val_loss",
          "val_loss",
          "val_loss",
          "val_loss",
          "val_loss",
          "val_loss",
          "val_loss",
          "val_loss",
          "val_loss",
          "val_loss",
          "val_loss",
          "val_loss",
          "val_loss",
          "val_loss",
          "val_loss",
          "val_loss",
          "val_loss",
          "val_loss",
          "val_loss",
          "val_loss",
          "val_loss",
          "val_loss",
          "val_loss",
          "val_loss",
          "val_loss",
          "val_loss",
          "val_loss",
          "val_loss",
          "val_loss",
          "val_loss",
          "val_loss",
          "val_loss",
          "val_loss",
          "val_loss",
          "val_loss",
          "val_loss",
          "val_loss",
          "val_loss",
          "val_loss",
          "val_loss",
          "val_loss",
          "val_loss",
          "val_loss",
          "val_loss",
          "val_loss",
          "val_loss"
         ],
         "legendgroup": "val_loss",
         "line": {
          "color": "#ab63fa",
          "dash": "solid"
         },
         "mode": "lines",
         "name": "val_loss",
         "orientation": "v",
         "showlegend": true,
         "type": "scatter",
         "x": [
          0,
          1,
          2,
          3,
          4,
          5,
          6,
          7,
          8,
          9,
          10,
          11,
          12,
          13,
          14,
          15,
          16,
          17,
          18,
          19,
          20,
          21,
          22,
          23,
          24,
          25,
          26,
          27,
          28,
          29,
          30,
          31,
          32,
          33,
          34,
          35,
          36,
          37,
          38,
          39,
          40,
          41,
          42,
          43,
          44,
          45,
          46,
          47,
          48,
          49,
          50,
          51,
          52,
          53,
          54,
          55,
          56,
          57,
          58,
          59,
          60,
          61,
          62,
          63,
          64,
          65,
          66,
          67,
          68,
          69,
          70,
          71,
          72,
          73,
          74,
          75,
          76,
          77,
          78,
          79,
          80,
          81,
          82,
          83,
          84,
          85,
          86,
          87,
          88,
          89,
          90,
          91,
          92,
          93,
          94,
          95,
          96,
          97,
          98,
          99,
          100,
          101,
          102,
          103,
          104,
          105,
          106,
          107,
          108,
          109,
          110,
          111,
          112,
          113,
          114,
          115,
          116,
          117,
          118,
          119,
          120,
          121,
          122,
          123,
          124,
          125,
          126,
          127,
          128,
          129,
          130,
          131,
          132,
          133,
          134,
          135,
          136,
          137,
          138,
          139,
          140,
          141,
          142,
          143,
          144,
          145,
          146,
          147,
          148,
          149,
          150,
          151,
          152,
          153,
          154,
          155,
          156,
          157,
          158,
          159,
          160,
          161,
          162,
          163,
          164,
          165,
          166,
          167,
          168,
          169,
          170,
          171,
          172,
          173,
          174,
          175,
          176,
          177,
          178,
          179,
          180,
          181,
          182,
          183,
          184,
          185,
          186,
          187,
          188,
          189,
          190,
          191,
          192,
          193,
          194,
          195,
          196,
          197,
          198,
          199
         ],
         "xaxis": "x",
         "y": [
          0.6890231370925903,
          0.6866389513015747,
          0.6855263710021973,
          0.6856128573417664,
          0.6864630579948425,
          0.6883247494697571,
          0.6901666522026062,
          0.6897575259208679,
          0.6867215037345886,
          0.6857754588127136,
          0.685274600982666,
          0.6856054067611694,
          0.6860733032226562,
          0.6861363649368286,
          0.6860281825065613,
          0.6856174468994141,
          0.6851418614387512,
          0.6842316389083862,
          0.6835862398147583,
          0.68340003490448,
          0.6830407977104187,
          0.6827881336212158,
          0.6825911998748779,
          0.6828858852386475,
          0.6830312609672546,
          0.6840976476669312,
          0.6839117407798767,
          0.6815083026885986,
          0.6788668632507324,
          0.6773161888122559,
          0.6751368641853333,
          0.6746655106544495,
          0.6755020022392273,
          0.666800856590271,
          0.6650533676147461,
          0.668678343296051,
          0.6720841526985168,
          0.6660932898521423,
          0.6680238842964172,
          0.6698612570762634,
          0.6698129177093506,
          0.6800145506858826,
          0.677639365196228,
          0.6706949472427368,
          0.672340989112854,
          0.6740481853485107,
          0.6724993586540222,
          0.672378420829773,
          0.6765897274017334,
          0.6764087677001953,
          0.6720427870750427,
          0.6700534820556641,
          0.6696197390556335,
          0.6700959801673889,
          0.6680172085762024,
          0.673317015171051,
          0.6727790236473083,
          0.6663367748260498,
          0.6642302870750427,
          0.6644918918609619,
          0.6646376252174377,
          0.6659235954284668,
          0.6677420735359192,
          0.6673046350479126,
          0.6671268939971924,
          0.6678606867790222,
          0.6685294508934021,
          0.6702354550361633,
          0.6735528111457825,
          0.6689240336418152,
          0.668801486492157,
          0.6687725186347961,
          0.6689383387565613,
          0.6683882474899292,
          0.6678116917610168,
          0.671714186668396,
          0.6756444573402405,
          0.6722482442855835,
          0.6674920320510864,
          0.6678193211555481,
          0.6686047315597534,
          0.6740864515304565,
          0.6708203554153442,
          0.6694253087043762,
          0.6675124764442444,
          0.6668277382850647,
          0.6687193512916565,
          0.6669043302536011,
          0.6648198962211609,
          0.6650561690330505,
          0.6661382913589478,
          0.6676189303398132,
          0.6659807562828064,
          0.6646226048469543,
          0.6651678681373596,
          0.6687918901443481,
          0.6698284149169922,
          0.6690837740898132,
          0.6676980257034302,
          0.6696539521217346,
          0.6722292900085449,
          0.6687485575675964,
          0.6657462120056152,
          0.6659278869628906,
          0.6702556610107422,
          0.6771543025970459,
          0.6672888994216919,
          0.6679847836494446,
          0.6690722703933716,
          0.6688142418861389,
          0.6683751344680786,
          0.6676806807518005,
          0.6677039861679077,
          0.6680528521537781,
          0.6663374304771423,
          0.6638261675834656,
          0.6631845831871033,
          0.6650115251541138,
          0.6644009351730347,
          0.6636955738067627,
          0.6652636528015137,
          0.6653679609298706,
          0.6671779155731201,
          0.6705313324928284,
          0.6731032729148865,
          0.6693007946014404,
          0.6655908823013306,
          0.665057897567749,
          0.6679606437683105,
          0.6691994667053223,
          0.6692054271697998,
          0.6694774031639099,
          0.6687730550765991,
          0.6675313711166382,
          0.6703066825866699,
          0.6710253953933716,
          0.668099045753479,
          0.66765958070755,
          0.6680211424827576,
          0.6687701940536499,
          0.668591320514679,
          0.6667919158935547,
          0.6698442697525024,
          0.6719444394111633,
          0.6675671935081482,
          0.6674138307571411,
          0.6688456535339355,
          0.667995035648346,
          0.6679521203041077,
          0.674842357635498,
          0.6688353419303894,
          0.6657177209854126,
          0.6660798788070679,
          0.6690490245819092,
          0.6666194796562195,
          0.6662120223045349,
          0.6689811944961548,
          0.6713036298751831,
          0.6729886531829834,
          0.6710174679756165,
          0.6707116961479187,
          0.6703354716300964,
          0.671684741973877,
          0.6694765090942383,
          0.6685802340507507,
          0.668211817741394,
          0.6670557260513306,
          0.6687226891517639,
          0.674257218837738,
          0.6734929084777832,
          0.6714836359024048,
          0.6696215867996216,
          0.6703413128852844,
          0.673451840877533,
          0.6698715090751648,
          0.6640426516532898,
          0.664993166923523,
          0.668332576751709,
          0.6717780828475952,
          0.6703234314918518,
          0.6674275994300842,
          0.6670764088630676,
          0.6692002415657043,
          0.6762127876281738,
          0.6741535663604736,
          0.6676721572875977,
          0.6673641800880432,
          0.6671984791755676,
          0.6679612398147583,
          0.6697432398796082,
          0.6697744131088257,
          0.6692212224006653,
          0.6685670614242554,
          0.6693554520606995,
          0.6730992197990417,
          0.6704419851303101,
          0.6686785817146301,
          0.6723586916923523,
          0.6744793653488159,
          0.673205554485321
         ],
         "yaxis": "y"
        }
       ],
       "layout": {
        "autosize": true,
        "legend": {
         "title": {
          "text": "metric"
         },
         "tracegroupgap": 0
        },
        "margin": {
         "t": 60
        },
        "template": {
         "data": {
          "bar": [
           {
            "error_x": {
             "color": "#2a3f5f"
            },
            "error_y": {
             "color": "#2a3f5f"
            },
            "marker": {
             "line": {
              "color": "#E5ECF6",
              "width": 0.5
             }
            },
            "type": "bar"
           }
          ],
          "barpolar": [
           {
            "marker": {
             "line": {
              "color": "#E5ECF6",
              "width": 0.5
             }
            },
            "type": "barpolar"
           }
          ],
          "carpet": [
           {
            "aaxis": {
             "endlinecolor": "#2a3f5f",
             "gridcolor": "white",
             "linecolor": "white",
             "minorgridcolor": "white",
             "startlinecolor": "#2a3f5f"
            },
            "baxis": {
             "endlinecolor": "#2a3f5f",
             "gridcolor": "white",
             "linecolor": "white",
             "minorgridcolor": "white",
             "startlinecolor": "#2a3f5f"
            },
            "type": "carpet"
           }
          ],
          "choropleth": [
           {
            "colorbar": {
             "outlinewidth": 0,
             "ticks": ""
            },
            "type": "choropleth"
           }
          ],
          "contour": [
           {
            "colorbar": {
             "outlinewidth": 0,
             "ticks": ""
            },
            "colorscale": [
             [
              0,
              "#0d0887"
             ],
             [
              0.1111111111111111,
              "#46039f"
             ],
             [
              0.2222222222222222,
              "#7201a8"
             ],
             [
              0.3333333333333333,
              "#9c179e"
             ],
             [
              0.4444444444444444,
              "#bd3786"
             ],
             [
              0.5555555555555556,
              "#d8576b"
             ],
             [
              0.6666666666666666,
              "#ed7953"
             ],
             [
              0.7777777777777778,
              "#fb9f3a"
             ],
             [
              0.8888888888888888,
              "#fdca26"
             ],
             [
              1,
              "#f0f921"
             ]
            ],
            "type": "contour"
           }
          ],
          "contourcarpet": [
           {
            "colorbar": {
             "outlinewidth": 0,
             "ticks": ""
            },
            "type": "contourcarpet"
           }
          ],
          "heatmap": [
           {
            "colorbar": {
             "outlinewidth": 0,
             "ticks": ""
            },
            "colorscale": [
             [
              0,
              "#0d0887"
             ],
             [
              0.1111111111111111,
              "#46039f"
             ],
             [
              0.2222222222222222,
              "#7201a8"
             ],
             [
              0.3333333333333333,
              "#9c179e"
             ],
             [
              0.4444444444444444,
              "#bd3786"
             ],
             [
              0.5555555555555556,
              "#d8576b"
             ],
             [
              0.6666666666666666,
              "#ed7953"
             ],
             [
              0.7777777777777778,
              "#fb9f3a"
             ],
             [
              0.8888888888888888,
              "#fdca26"
             ],
             [
              1,
              "#f0f921"
             ]
            ],
            "type": "heatmap"
           }
          ],
          "heatmapgl": [
           {
            "colorbar": {
             "outlinewidth": 0,
             "ticks": ""
            },
            "colorscale": [
             [
              0,
              "#0d0887"
             ],
             [
              0.1111111111111111,
              "#46039f"
             ],
             [
              0.2222222222222222,
              "#7201a8"
             ],
             [
              0.3333333333333333,
              "#9c179e"
             ],
             [
              0.4444444444444444,
              "#bd3786"
             ],
             [
              0.5555555555555556,
              "#d8576b"
             ],
             [
              0.6666666666666666,
              "#ed7953"
             ],
             [
              0.7777777777777778,
              "#fb9f3a"
             ],
             [
              0.8888888888888888,
              "#fdca26"
             ],
             [
              1,
              "#f0f921"
             ]
            ],
            "type": "heatmapgl"
           }
          ],
          "histogram": [
           {
            "marker": {
             "colorbar": {
              "outlinewidth": 0,
              "ticks": ""
             }
            },
            "type": "histogram"
           }
          ],
          "histogram2d": [
           {
            "colorbar": {
             "outlinewidth": 0,
             "ticks": ""
            },
            "colorscale": [
             [
              0,
              "#0d0887"
             ],
             [
              0.1111111111111111,
              "#46039f"
             ],
             [
              0.2222222222222222,
              "#7201a8"
             ],
             [
              0.3333333333333333,
              "#9c179e"
             ],
             [
              0.4444444444444444,
              "#bd3786"
             ],
             [
              0.5555555555555556,
              "#d8576b"
             ],
             [
              0.6666666666666666,
              "#ed7953"
             ],
             [
              0.7777777777777778,
              "#fb9f3a"
             ],
             [
              0.8888888888888888,
              "#fdca26"
             ],
             [
              1,
              "#f0f921"
             ]
            ],
            "type": "histogram2d"
           }
          ],
          "histogram2dcontour": [
           {
            "colorbar": {
             "outlinewidth": 0,
             "ticks": ""
            },
            "colorscale": [
             [
              0,
              "#0d0887"
             ],
             [
              0.1111111111111111,
              "#46039f"
             ],
             [
              0.2222222222222222,
              "#7201a8"
             ],
             [
              0.3333333333333333,
              "#9c179e"
             ],
             [
              0.4444444444444444,
              "#bd3786"
             ],
             [
              0.5555555555555556,
              "#d8576b"
             ],
             [
              0.6666666666666666,
              "#ed7953"
             ],
             [
              0.7777777777777778,
              "#fb9f3a"
             ],
             [
              0.8888888888888888,
              "#fdca26"
             ],
             [
              1,
              "#f0f921"
             ]
            ],
            "type": "histogram2dcontour"
           }
          ],
          "mesh3d": [
           {
            "colorbar": {
             "outlinewidth": 0,
             "ticks": ""
            },
            "type": "mesh3d"
           }
          ],
          "parcoords": [
           {
            "line": {
             "colorbar": {
              "outlinewidth": 0,
              "ticks": ""
             }
            },
            "type": "parcoords"
           }
          ],
          "pie": [
           {
            "automargin": true,
            "type": "pie"
           }
          ],
          "scatter": [
           {
            "marker": {
             "colorbar": {
              "outlinewidth": 0,
              "ticks": ""
             }
            },
            "type": "scatter"
           }
          ],
          "scatter3d": [
           {
            "line": {
             "colorbar": {
              "outlinewidth": 0,
              "ticks": ""
             }
            },
            "marker": {
             "colorbar": {
              "outlinewidth": 0,
              "ticks": ""
             }
            },
            "type": "scatter3d"
           }
          ],
          "scattercarpet": [
           {
            "marker": {
             "colorbar": {
              "outlinewidth": 0,
              "ticks": ""
             }
            },
            "type": "scattercarpet"
           }
          ],
          "scattergeo": [
           {
            "marker": {
             "colorbar": {
              "outlinewidth": 0,
              "ticks": ""
             }
            },
            "type": "scattergeo"
           }
          ],
          "scattergl": [
           {
            "marker": {
             "colorbar": {
              "outlinewidth": 0,
              "ticks": ""
             }
            },
            "type": "scattergl"
           }
          ],
          "scattermapbox": [
           {
            "marker": {
             "colorbar": {
              "outlinewidth": 0,
              "ticks": ""
             }
            },
            "type": "scattermapbox"
           }
          ],
          "scatterpolar": [
           {
            "marker": {
             "colorbar": {
              "outlinewidth": 0,
              "ticks": ""
             }
            },
            "type": "scatterpolar"
           }
          ],
          "scatterpolargl": [
           {
            "marker": {
             "colorbar": {
              "outlinewidth": 0,
              "ticks": ""
             }
            },
            "type": "scatterpolargl"
           }
          ],
          "scatterternary": [
           {
            "marker": {
             "colorbar": {
              "outlinewidth": 0,
              "ticks": ""
             }
            },
            "type": "scatterternary"
           }
          ],
          "surface": [
           {
            "colorbar": {
             "outlinewidth": 0,
             "ticks": ""
            },
            "colorscale": [
             [
              0,
              "#0d0887"
             ],
             [
              0.1111111111111111,
              "#46039f"
             ],
             [
              0.2222222222222222,
              "#7201a8"
             ],
             [
              0.3333333333333333,
              "#9c179e"
             ],
             [
              0.4444444444444444,
              "#bd3786"
             ],
             [
              0.5555555555555556,
              "#d8576b"
             ],
             [
              0.6666666666666666,
              "#ed7953"
             ],
             [
              0.7777777777777778,
              "#fb9f3a"
             ],
             [
              0.8888888888888888,
              "#fdca26"
             ],
             [
              1,
              "#f0f921"
             ]
            ],
            "type": "surface"
           }
          ],
          "table": [
           {
            "cells": {
             "fill": {
              "color": "#EBF0F8"
             },
             "line": {
              "color": "white"
             }
            },
            "header": {
             "fill": {
              "color": "#C8D4E3"
             },
             "line": {
              "color": "white"
             }
            },
            "type": "table"
           }
          ]
         },
         "layout": {
          "annotationdefaults": {
           "arrowcolor": "#2a3f5f",
           "arrowhead": 0,
           "arrowwidth": 1
          },
          "coloraxis": {
           "colorbar": {
            "outlinewidth": 0,
            "ticks": ""
           }
          },
          "colorscale": {
           "diverging": [
            [
             0,
             "#8e0152"
            ],
            [
             0.1,
             "#c51b7d"
            ],
            [
             0.2,
             "#de77ae"
            ],
            [
             0.3,
             "#f1b6da"
            ],
            [
             0.4,
             "#fde0ef"
            ],
            [
             0.5,
             "#f7f7f7"
            ],
            [
             0.6,
             "#e6f5d0"
            ],
            [
             0.7,
             "#b8e186"
            ],
            [
             0.8,
             "#7fbc41"
            ],
            [
             0.9,
             "#4d9221"
            ],
            [
             1,
             "#276419"
            ]
           ],
           "sequential": [
            [
             0,
             "#0d0887"
            ],
            [
             0.1111111111111111,
             "#46039f"
            ],
            [
             0.2222222222222222,
             "#7201a8"
            ],
            [
             0.3333333333333333,
             "#9c179e"
            ],
            [
             0.4444444444444444,
             "#bd3786"
            ],
            [
             0.5555555555555556,
             "#d8576b"
            ],
            [
             0.6666666666666666,
             "#ed7953"
            ],
            [
             0.7777777777777778,
             "#fb9f3a"
            ],
            [
             0.8888888888888888,
             "#fdca26"
            ],
            [
             1,
             "#f0f921"
            ]
           ],
           "sequentialminus": [
            [
             0,
             "#0d0887"
            ],
            [
             0.1111111111111111,
             "#46039f"
            ],
            [
             0.2222222222222222,
             "#7201a8"
            ],
            [
             0.3333333333333333,
             "#9c179e"
            ],
            [
             0.4444444444444444,
             "#bd3786"
            ],
            [
             0.5555555555555556,
             "#d8576b"
            ],
            [
             0.6666666666666666,
             "#ed7953"
            ],
            [
             0.7777777777777778,
             "#fb9f3a"
            ],
            [
             0.8888888888888888,
             "#fdca26"
            ],
            [
             1,
             "#f0f921"
            ]
           ]
          },
          "colorway": [
           "#636efa",
           "#EF553B",
           "#00cc96",
           "#ab63fa",
           "#FFA15A",
           "#19d3f3",
           "#FF6692",
           "#B6E880",
           "#FF97FF",
           "#FECB52"
          ],
          "font": {
           "color": "#2a3f5f"
          },
          "geo": {
           "bgcolor": "white",
           "lakecolor": "white",
           "landcolor": "#E5ECF6",
           "showlakes": true,
           "showland": true,
           "subunitcolor": "white"
          },
          "hoverlabel": {
           "align": "left"
          },
          "hovermode": "closest",
          "mapbox": {
           "style": "light"
          },
          "paper_bgcolor": "white",
          "plot_bgcolor": "#E5ECF6",
          "polar": {
           "angularaxis": {
            "gridcolor": "white",
            "linecolor": "white",
            "ticks": ""
           },
           "bgcolor": "#E5ECF6",
           "radialaxis": {
            "gridcolor": "white",
            "linecolor": "white",
            "ticks": ""
           }
          },
          "scene": {
           "xaxis": {
            "backgroundcolor": "#E5ECF6",
            "gridcolor": "white",
            "gridwidth": 2,
            "linecolor": "white",
            "showbackground": true,
            "ticks": "",
            "zerolinecolor": "white"
           },
           "yaxis": {
            "backgroundcolor": "#E5ECF6",
            "gridcolor": "white",
            "gridwidth": 2,
            "linecolor": "white",
            "showbackground": true,
            "ticks": "",
            "zerolinecolor": "white"
           },
           "zaxis": {
            "backgroundcolor": "#E5ECF6",
            "gridcolor": "white",
            "gridwidth": 2,
            "linecolor": "white",
            "showbackground": true,
            "ticks": "",
            "zerolinecolor": "white"
           }
          },
          "shapedefaults": {
           "line": {
            "color": "#2a3f5f"
           }
          },
          "ternary": {
           "aaxis": {
            "gridcolor": "white",
            "linecolor": "white",
            "ticks": ""
           },
           "baxis": {
            "gridcolor": "white",
            "linecolor": "white",
            "ticks": ""
           },
           "bgcolor": "#E5ECF6",
           "caxis": {
            "gridcolor": "white",
            "linecolor": "white",
            "ticks": ""
           }
          },
          "title": {
           "x": 0.05
          },
          "xaxis": {
           "automargin": true,
           "gridcolor": "white",
           "linecolor": "white",
           "ticks": "",
           "title": {
            "standoff": 15
           },
           "zerolinecolor": "white",
           "zerolinewidth": 2
          },
          "yaxis": {
           "automargin": true,
           "gridcolor": "white",
           "linecolor": "white",
           "ticks": "",
           "title": {
            "standoff": 15
           },
           "zerolinecolor": "white",
           "zerolinewidth": 2
          }
         }
        },
        "xaxis": {
         "anchor": "y",
         "autorange": true,
         "domain": [
          0,
          1
         ],
         "range": [
          0,
          199
         ],
         "title": {
          "text": "epochs"
         },
         "type": "linear"
        },
        "yaxis": {
         "anchor": "x",
         "autorange": true,
         "domain": [
          0,
          1
         ],
         "range": [
          0.45129165715641445,
          0.7093289726310306
         ],
         "title": {
          "text": "values"
         },
         "type": "linear"
        }
       }
      },
      "image/png": "[encoded data removed]",
      "text/html": [
       "<div>\n",
       "        \n",
       "        \n",
       "            <div id=\"2f87432b-da63-4059-adbc-55d168ee57b0\" class=\"plotly-graph-div\" style=\"height:525px; width:100%;\"></div>\n",
       "            <script type=\"text/javascript\">\n",
       "                require([\"plotly\"], function(Plotly) {\n",
       "                    window.PLOTLYENV=window.PLOTLYENV || {};\n",
       "                    \n",
       "                if (document.getElementById(\"2f87432b-da63-4059-adbc-55d168ee57b0\")) {\n",
       "                    Plotly.newPlot(\n",
       "                        '2f87432b-da63-4059-adbc-55d168ee57b0',\n",
       "                        [{\"hovertemplate\": \"<b>%{hovertext}</b><br><br>metric=accuracy<br>epochs=%{x}<br>values=%{y}<extra></extra>\", \"hovertext\": [\"accuracy\", \"accuracy\", \"accuracy\", \"accuracy\", \"accuracy\", \"accuracy\", \"accuracy\", \"accuracy\", \"accuracy\", \"accuracy\", \"accuracy\", \"accuracy\", \"accuracy\", \"accuracy\", \"accuracy\", \"accuracy\", \"accuracy\", \"accuracy\", \"accuracy\", \"accuracy\", \"accuracy\", \"accuracy\", \"accuracy\", \"accuracy\", \"accuracy\", \"accuracy\", \"accuracy\", \"accuracy\", \"accuracy\", \"accuracy\", \"accuracy\", \"accuracy\", \"accuracy\", \"accuracy\", \"accuracy\", \"accuracy\", \"accuracy\", \"accuracy\", \"accuracy\", \"accuracy\", \"accuracy\", \"accuracy\", \"accuracy\", \"accuracy\", \"accuracy\", \"accuracy\", \"accuracy\", \"accuracy\", \"accuracy\", \"accuracy\", \"accuracy\", \"accuracy\", \"accuracy\", \"accuracy\", \"accuracy\", \"accuracy\", \"accuracy\", \"accuracy\", \"accuracy\", \"accuracy\", \"accuracy\", \"accuracy\", \"accuracy\", \"accuracy\", \"accuracy\", \"accuracy\", \"accuracy\", \"accuracy\", \"accuracy\", \"accuracy\", \"accuracy\", \"accuracy\", \"accuracy\", \"accuracy\", \"accuracy\", \"accuracy\", \"accuracy\", \"accuracy\", \"accuracy\", \"accuracy\", \"accuracy\", \"accuracy\", \"accuracy\", \"accuracy\", \"accuracy\", \"accuracy\", \"accuracy\", \"accuracy\", \"accuracy\", \"accuracy\", \"accuracy\", \"accuracy\", \"accuracy\", \"accuracy\", \"accuracy\", \"accuracy\", \"accuracy\", \"accuracy\", \"accuracy\", \"accuracy\", \"accuracy\", \"accuracy\", \"accuracy\", \"accuracy\", \"accuracy\", \"accuracy\", \"accuracy\", \"accuracy\", \"accuracy\", \"accuracy\", \"accuracy\", \"accuracy\", \"accuracy\", \"accuracy\", \"accuracy\", \"accuracy\", \"accuracy\", \"accuracy\", \"accuracy\", \"accuracy\", \"accuracy\", \"accuracy\", \"accuracy\", \"accuracy\", \"accuracy\", \"accuracy\", \"accuracy\", \"accuracy\", \"accuracy\", \"accuracy\", \"accuracy\", \"accuracy\", \"accuracy\", \"accuracy\", \"accuracy\", \"accuracy\", \"accuracy\", \"accuracy\", \"accuracy\", \"accuracy\", \"accuracy\", \"accuracy\", \"accuracy\", \"accuracy\", \"accuracy\", \"accuracy\", \"accuracy\", \"accuracy\", \"accuracy\", \"accuracy\", \"accuracy\", \"accuracy\", \"accuracy\", \"accuracy\", \"accuracy\", \"accuracy\", \"accuracy\", \"accuracy\", \"accuracy\", \"accuracy\", \"accuracy\", \"accuracy\", \"accuracy\", \"accuracy\", \"accuracy\", \"accuracy\", \"accuracy\", \"accuracy\", \"accuracy\", \"accuracy\", \"accuracy\", \"accuracy\", \"accuracy\", \"accuracy\", \"accuracy\", \"accuracy\", \"accuracy\", \"accuracy\", \"accuracy\", \"accuracy\", \"accuracy\", \"accuracy\", \"accuracy\", \"accuracy\", \"accuracy\", \"accuracy\", \"accuracy\", \"accuracy\", \"accuracy\", \"accuracy\", \"accuracy\", \"accuracy\", \"accuracy\", \"accuracy\", \"accuracy\", \"accuracy\", \"accuracy\", \"accuracy\", \"accuracy\", \"accuracy\"], \"legendgroup\": \"accuracy\", \"line\": {\"color\": \"#636efa\", \"dash\": \"solid\"}, \"mode\": \"lines\", \"name\": \"accuracy\", \"orientation\": \"v\", \"showlegend\": true, \"type\": \"scatter\", \"x\": [0, 1, 2, 3, 4, 5, 6, 7, 8, 9, 10, 11, 12, 13, 14, 15, 16, 17, 18, 19, 20, 21, 22, 23, 24, 25, 26, 27, 28, 29, 30, 31, 32, 33, 34, 35, 36, 37, 38, 39, 40, 41, 42, 43, 44, 45, 46, 47, 48, 49, 50, 51, 52, 53, 54, 55, 56, 57, 58, 59, 60, 61, 62, 63, 64, 65, 66, 67, 68, 69, 70, 71, 72, 73, 74, 75, 76, 77, 78, 79, 80, 81, 82, 83, 84, 85, 86, 87, 88, 89, 90, 91, 92, 93, 94, 95, 96, 97, 98, 99, 100, 101, 102, 103, 104, 105, 106, 107, 108, 109, 110, 111, 112, 113, 114, 115, 116, 117, 118, 119, 120, 121, 122, 123, 124, 125, 126, 127, 128, 129, 130, 131, 132, 133, 134, 135, 136, 137, 138, 139, 140, 141, 142, 143, 144, 145, 146, 147, 148, 149, 150, 151, 152, 153, 154, 155, 156, 157, 158, 159, 160, 161, 162, 163, 164, 165, 166, 167, 168, 169, 170, 171, 172, 173, 174, 175, 176, 177, 178, 179, 180, 181, 182, 183, 184, 185, 186, 187, 188, 189, 190, 191, 192, 193, 194, 195, 196, 197, 198, 199], \"xaxis\": \"x\", \"y\": [0.46419352293014526, 0.57419353723526, 0.57419353723526, 0.57419353723526, 0.57419353723526, 0.57419353723526, 0.57419353723526, 0.57419353723526, 0.57419353723526, 0.57419353723526, 0.57419353723526, 0.57419353723526, 0.57419353723526, 0.57419353723526, 0.57419353723526, 0.57419353723526, 0.57419353723526, 0.57419353723526, 0.57419353723526, 0.57419353723526, 0.57419353723526, 0.57419353723526, 0.57419353723526, 0.57419353723526, 0.57419353723526, 0.57419353723526, 0.57419353723526, 0.5758064389228821, 0.5770967602729797, 0.5719355344772339, 0.5706451535224915, 0.5838709473609924, 0.5877419710159302, 0.5964515805244446, 0.5777419805526733, 0.568709671497345, 0.575161337852478, 0.584516167640686, 0.573548436164856, 0.5812902450561523, 0.5825806856155396, 0.5722580552101135, 0.5729032158851624, 0.5732257962226868, 0.5793548822402954, 0.5767741799354553, 0.5790322422981262, 0.5709677338600159, 0.57419353723526, 0.5716128945350647, 0.5735483765602112, 0.5735483765602112, 0.583548367023468, 0.5841935276985168, 0.5812903046607971, 0.5854838490486145, 0.5909677147865295, 0.5858064889907837, 0.5787097215652466, 0.5732257962226868, 0.5745161771774292, 0.5748386979103088, 0.5816128849983215, 0.5829032063484192, 0.5864515900611877, 0.5870967507362366, 0.5845161080360413, 0.5706451535224915, 0.5699999928474426, 0.5716128945350647, 0.57419353723526, 0.5787097215652466, 0.5812902450561523, 0.5790322422981262, 0.5777419805526733, 0.5812903046607971, 0.5806451439857483, 0.579677402973175, 0.5812903046607971, 0.5751612782478333, 0.5841935873031616, 0.5719355344772339, 0.5700000524520874, 0.5719354748725891, 0.5761290192604065, 0.5774193406105042, 0.5841935873031616, 0.5851612687110901, 0.5845161080360413, 0.5806451439857483, 0.5829032063484192, 0.5858064889907837, 0.5851612687110901, 0.5851612687110901, 0.5841935873031616, 0.582903265953064, 0.5880645513534546, 0.5864515900611877, 0.5896773934364319, 0.5822580456733704, 0.5854838490486145, 0.5851612687110901, 0.5758063793182373, 0.5870968103408813, 0.5841935276985168, 0.5870967507362366, 0.5825806856155396, 0.5822580456733704, 0.5819355249404907, 0.584516167640686, 0.5848387479782104, 0.5838709473609924, 0.583548367023468, 0.5906451940536499, 0.5896774530410767, 0.5938709378242493, 0.5848386883735657, 0.5832258462905884, 0.5861290693283081, 0.5835484266281128, 0.5896774530410767, 0.5948386788368225, 0.5903225541114807, 0.5864516496658325, 0.5758064389228821, 0.5761290788650513, 0.581935465335846, 0.5809677243232727, 0.592258095741272, 0.5867741703987122, 0.5838709473609924, 0.5848387479782104, 0.5819355249404907, 0.5858064889907837, 0.5841935873031616, 0.5841935276985168, 0.581935465335846, 0.5858064293861389, 0.5793548822402954, 0.579677402973175, 0.5825806260108948, 0.5787096619606018, 0.5861290097236633, 0.5832257866859436, 0.5874193906784058, 0.5906451940536499, 0.5935483574867249, 0.5848387479782104, 0.5900000333786011, 0.5906451344490051, 0.5874193906784058, 0.5929032564163208, 0.584516167640686, 0.5899999737739563, 0.5919354557991028, 0.5812903642654419, 0.5900000333786011, 0.5861290097236633, 0.57419353723526, 0.5748387575149536, 0.5764515995979309, 0.5751612782478333, 0.5777419805526733, 0.5896773934364319, 0.5932258367538452, 0.5812903046607971, 0.579032301902771, 0.5790322422981262, 0.5916128754615784, 0.5825806260108948, 0.5790321826934814, 0.5799999833106995, 0.5912903547286987, 0.5883870720863342, 0.5887096524238586, 0.5841935873031616, 0.5887096524238586, 0.5848386883735657, 0.5916128754615784, 0.5912903547286987, 0.5906451940536499, 0.5887096524238586, 0.5903225541114807, 0.5929032564163208, 0.5919354557991028, 0.5832257866859436, 0.5803225636482239, 0.5809677243232727, 0.5767742395401001, 0.5770967602729797, 0.5890322923660278, 0.5861290693283081, 0.5877419114112854, 0.5761290788650513, 0.5916128754615784, 0.5890322923660278, 0.5916128754615784, 0.5893548130989075, 0.5906451940536499, 0.5861290693283081], \"yaxis\": \"y\"}, {\"hovertemplate\": \"<b>%{hovertext}</b><br><br>metric=loss<br>epochs=%{x}<br>values=%{y}<extra></extra>\", \"hovertext\": [\"loss\", \"loss\", \"loss\", \"loss\", \"loss\", \"loss\", \"loss\", \"loss\", \"loss\", \"loss\", \"loss\", \"loss\", \"loss\", \"loss\", \"loss\", \"loss\", \"loss\", \"loss\", \"loss\", \"loss\", \"loss\", \"loss\", \"loss\", \"loss\", \"loss\", \"loss\", \"loss\", \"loss\", \"loss\", \"loss\", \"loss\", \"loss\", \"loss\", \"loss\", \"loss\", \"loss\", \"loss\", \"loss\", \"loss\", \"loss\", \"loss\", \"loss\", \"loss\", \"loss\", \"loss\", \"loss\", \"loss\", \"loss\", \"loss\", \"loss\", \"loss\", \"loss\", \"loss\", \"loss\", \"loss\", \"loss\", \"loss\", \"loss\", \"loss\", \"loss\", \"loss\", \"loss\", \"loss\", \"loss\", \"loss\", \"loss\", \"loss\", \"loss\", \"loss\", \"loss\", \"loss\", \"loss\", \"loss\", \"loss\", \"loss\", \"loss\", \"loss\", \"loss\", \"loss\", \"loss\", \"loss\", \"loss\", \"loss\", \"loss\", \"loss\", \"loss\", \"loss\", \"loss\", \"loss\", \"loss\", \"loss\", \"loss\", \"loss\", \"loss\", \"loss\", \"loss\", \"loss\", \"loss\", \"loss\", \"loss\", \"loss\", \"loss\", \"loss\", \"loss\", \"loss\", \"loss\", \"loss\", \"loss\", \"loss\", \"loss\", \"loss\", \"loss\", \"loss\", \"loss\", \"loss\", \"loss\", \"loss\", \"loss\", \"loss\", \"loss\", \"loss\", \"loss\", \"loss\", \"loss\", \"loss\", \"loss\", \"loss\", \"loss\", \"loss\", \"loss\", \"loss\", \"loss\", \"loss\", \"loss\", \"loss\", \"loss\", \"loss\", \"loss\", \"loss\", \"loss\", \"loss\", \"loss\", \"loss\", \"loss\", \"loss\", \"loss\", \"loss\", \"loss\", \"loss\", \"loss\", \"loss\", \"loss\", \"loss\", \"loss\", \"loss\", \"loss\", \"loss\", \"loss\", \"loss\", \"loss\", \"loss\", \"loss\", \"loss\", \"loss\", \"loss\", \"loss\", \"loss\", \"loss\", \"loss\", \"loss\", \"loss\", \"loss\", \"loss\", \"loss\", \"loss\", \"loss\", \"loss\", \"loss\", \"loss\", \"loss\", \"loss\", \"loss\", \"loss\", \"loss\", \"loss\", \"loss\", \"loss\", \"loss\", \"loss\", \"loss\", \"loss\", \"loss\", \"loss\", \"loss\", \"loss\", \"loss\", \"loss\", \"loss\", \"loss\", \"loss\"], \"legendgroup\": \"loss\", \"line\": {\"color\": \"#EF553B\", \"dash\": \"solid\"}, \"mode\": \"lines\", \"name\": \"loss\", \"orientation\": \"v\", \"showlegend\": true, \"type\": \"scatter\", \"x\": [0, 1, 2, 3, 4, 5, 6, 7, 8, 9, 10, 11, 12, 13, 14, 15, 16, 17, 18, 19, 20, 21, 22, 23, 24, 25, 26, 27, 28, 29, 30, 31, 32, 33, 34, 35, 36, 37, 38, 39, 40, 41, 42, 43, 44, 45, 46, 47, 48, 49, 50, 51, 52, 53, 54, 55, 56, 57, 58, 59, 60, 61, 62, 63, 64, 65, 66, 67, 68, 69, 70, 71, 72, 73, 74, 75, 76, 77, 78, 79, 80, 81, 82, 83, 84, 85, 86, 87, 88, 89, 90, 91, 92, 93, 94, 95, 96, 97, 98, 99, 100, 101, 102, 103, 104, 105, 106, 107, 108, 109, 110, 111, 112, 113, 114, 115, 116, 117, 118, 119, 120, 121, 122, 123, 124, 125, 126, 127, 128, 129, 130, 131, 132, 133, 134, 135, 136, 137, 138, 139, 140, 141, 142, 143, 144, 145, 146, 147, 148, 149, 150, 151, 152, 153, 154, 155, 156, 157, 158, 159, 160, 161, 162, 163, 164, 165, 166, 167, 168, 169, 170, 171, 172, 173, 174, 175, 176, 177, 178, 179, 180, 181, 182, 183, 184, 185, 186, 187, 188, 189, 190, 191, 192, 193, 194, 195, 196, 197, 198, 199], \"xaxis\": \"x\", \"y\": [0.6964271068572998, 0.6870710253715515, 0.6827735900878906, 0.6812703013420105, 0.6785710453987122, 0.6784639358520508, 0.679175615310669, 0.6802951693534851, 0.6801513433456421, 0.678342342376709, 0.6789433360099792, 0.6781237721443176, 0.6781200170516968, 0.6780129671096802, 0.6780360341072083, 0.6778209805488586, 0.6777609586715698, 0.6773112416267395, 0.6780821681022644, 0.6777204275131226, 0.6774953007698059, 0.677554726600647, 0.6771930456161499, 0.6771610379219055, 0.676583468914032, 0.6758386492729187, 0.6763584613800049, 0.6756638884544373, 0.6751219630241394, 0.6745226383209229, 0.6737219095230103, 0.6710226535797119, 0.6711968183517456, 0.667574405670166, 0.6704001426696777, 0.6701114773750305, 0.6698837876319885, 0.6694365739822388, 0.6690714955329895, 0.6691941618919373, 0.6698095798492432, 0.6682417392730713, 0.6725338697433472, 0.669260561466217, 0.6684090495109558, 0.6719234585762024, 0.6730027794837952, 0.6703296899795532, 0.6695080399513245, 0.6695987582206726, 0.6687542200088501, 0.6674720048904419, 0.6686134338378906, 0.6705875992774963, 0.6693658828735352, 0.6674754023551941, 0.6680576205253601, 0.6682934165000916, 0.6673479080200195, 0.6675156950950623, 0.6665281057357788, 0.6662290692329407, 0.665604293346405, 0.6658765077590942, 0.664702832698822, 0.6665286421775818, 0.66648930311203, 0.6652469635009766, 0.669858455657959, 0.6693198084831238, 0.6655932664871216, 0.6655769348144531, 0.6656051278114319, 0.6654062867164612, 0.666445255279541, 0.663591742515564, 0.6665686964988708, 0.6706920266151428, 0.6664997339248657, 0.6684192419052124, 0.6665939092636108, 0.6660581231117249, 0.6661098599433899, 0.6646071076393127, 0.6644138693809509, 0.6654787659645081, 0.664181113243103, 0.664286732673645, 0.6639196872711182, 0.664814829826355, 0.6648216247558594, 0.6646651029586792, 0.6636368036270142, 0.6632646322250366, 0.6642115712165833, 0.6628823280334473, 0.6643261313438416, 0.6649013161659241, 0.665187418460846, 0.6632819771766663, 0.6639062762260437, 0.6641900539398193, 0.6633064150810242, 0.6653403043746948, 0.6632687449455261, 0.6681771278381348, 0.6667453050613403, 0.6638324856758118, 0.6665163636207581, 0.6679508090019226, 0.6672198176383972, 0.6653573513031006, 0.6649905443191528, 0.6644805669784546, 0.6636130213737488, 0.6629990339279175, 0.6638925075531006, 0.6648209095001221, 0.6631121039390564, 0.6632918119430542, 0.6665433645248413, 0.6629475951194763, 0.6632670760154724, 0.6623921394348145, 0.6633574366569519, 0.6640888452529907, 0.6631414890289307, 0.6645716428756714, 0.6634371876716614, 0.6620064377784729, 0.6628085374832153, 0.6631956100463867, 0.6622147560119629, 0.6633657813072205, 0.6621304750442505, 0.6626027822494507, 0.6616955995559692, 0.6626230478286743, 0.6628091335296631, 0.6614935398101807, 0.6610947251319885, 0.6623620390892029, 0.6613050103187561, 0.6629748940467834, 0.6629682183265686, 0.6615460515022278, 0.6610423922538757, 0.6606598496437073, 0.6610607504844666, 0.6655988693237305, 0.663127064704895, 0.6616938710212708, 0.6643109917640686, 0.6641799807548523, 0.6608575582504272, 0.6606341600418091, 0.6609127521514893, 0.6612301468849182, 0.6625611186027527, 0.6616861820220947, 0.6608870625495911, 0.6614250540733337, 0.6602739095687866, 0.6604430079460144, 0.6596850752830505, 0.6602916121482849, 0.6597794890403748, 0.6621918678283691, 0.6596992015838623, 0.6621881723403931, 0.6610164642333984, 0.6615219116210938, 0.6617294549942017, 0.6594547629356384, 0.6623708605766296, 0.6580587029457092, 0.6641943454742432, 0.6622855067253113, 0.6594904065132141, 0.6605682969093323, 0.6586810350418091, 0.6612791419029236, 0.6599552035331726, 0.6606502532958984, 0.6656566858291626, 0.662114679813385, 0.6602514386177063, 0.6624978184700012, 0.6608373522758484, 0.6597245335578918, 0.6604391932487488, 0.6589023470878601, 0.6592001914978027, 0.6592148542404175, 0.6604639291763306, 0.660021185874939, 0.6601832509040833, 0.6599825024604797, 0.6598051190376282, 0.6653662919998169], \"yaxis\": \"y\"}, {\"hovertemplate\": \"<b>%{hovertext}</b><br><br>metric=val_accuracy<br>epochs=%{x}<br>values=%{y}<extra></extra>\", \"hovertext\": [\"val_accuracy\", \"val_accuracy\", \"val_accuracy\", \"val_accuracy\", \"val_accuracy\", \"val_accuracy\", \"val_accuracy\", \"val_accuracy\", \"val_accuracy\", \"val_accuracy\", \"val_accuracy\", \"val_accuracy\", \"val_accuracy\", \"val_accuracy\", \"val_accuracy\", \"val_accuracy\", \"val_accuracy\", \"val_accuracy\", \"val_accuracy\", \"val_accuracy\", \"val_accuracy\", \"val_accuracy\", \"val_accuracy\", \"val_accuracy\", \"val_accuracy\", \"val_accuracy\", \"val_accuracy\", \"val_accuracy\", \"val_accuracy\", \"val_accuracy\", \"val_accuracy\", \"val_accuracy\", \"val_accuracy\", \"val_accuracy\", \"val_accuracy\", \"val_accuracy\", \"val_accuracy\", \"val_accuracy\", \"val_accuracy\", \"val_accuracy\", \"val_accuracy\", \"val_accuracy\", \"val_accuracy\", \"val_accuracy\", \"val_accuracy\", \"val_accuracy\", \"val_accuracy\", \"val_accuracy\", \"val_accuracy\", \"val_accuracy\", \"val_accuracy\", \"val_accuracy\", \"val_accuracy\", \"val_accuracy\", \"val_accuracy\", \"val_accuracy\", \"val_accuracy\", \"val_accuracy\", \"val_accuracy\", \"val_accuracy\", \"val_accuracy\", \"val_accuracy\", \"val_accuracy\", \"val_accuracy\", \"val_accuracy\", \"val_accuracy\", \"val_accuracy\", \"val_accuracy\", \"val_accuracy\", \"val_accuracy\", \"val_accuracy\", \"val_accuracy\", \"val_accuracy\", \"val_accuracy\", \"val_accuracy\", \"val_accuracy\", \"val_accuracy\", \"val_accuracy\", \"val_accuracy\", \"val_accuracy\", \"val_accuracy\", \"val_accuracy\", \"val_accuracy\", \"val_accuracy\", \"val_accuracy\", \"val_accuracy\", \"val_accuracy\", \"val_accuracy\", \"val_accuracy\", \"val_accuracy\", \"val_accuracy\", \"val_accuracy\", \"val_accuracy\", \"val_accuracy\", \"val_accuracy\", \"val_accuracy\", \"val_accuracy\", \"val_accuracy\", \"val_accuracy\", \"val_accuracy\", \"val_accuracy\", \"val_accuracy\", \"val_accuracy\", \"val_accuracy\", \"val_accuracy\", \"val_accuracy\", \"val_accuracy\", \"val_accuracy\", \"val_accuracy\", \"val_accuracy\", \"val_accuracy\", \"val_accuracy\", \"val_accuracy\", \"val_accuracy\", \"val_accuracy\", \"val_accuracy\", \"val_accuracy\", \"val_accuracy\", \"val_accuracy\", \"val_accuracy\", \"val_accuracy\", \"val_accuracy\", \"val_accuracy\", \"val_accuracy\", \"val_accuracy\", \"val_accuracy\", \"val_accuracy\", \"val_accuracy\", \"val_accuracy\", \"val_accuracy\", \"val_accuracy\", \"val_accuracy\", \"val_accuracy\", \"val_accuracy\", \"val_accuracy\", \"val_accuracy\", \"val_accuracy\", \"val_accuracy\", \"val_accuracy\", \"val_accuracy\", \"val_accuracy\", \"val_accuracy\", \"val_accuracy\", \"val_accuracy\", \"val_accuracy\", \"val_accuracy\", \"val_accuracy\", \"val_accuracy\", \"val_accuracy\", \"val_accuracy\", \"val_accuracy\", \"val_accuracy\", \"val_accuracy\", \"val_accuracy\", \"val_accuracy\", \"val_accuracy\", \"val_accuracy\", \"val_accuracy\", \"val_accuracy\", \"val_accuracy\", \"val_accuracy\", \"val_accuracy\", \"val_accuracy\", \"val_accuracy\", \"val_accuracy\", \"val_accuracy\", \"val_accuracy\", \"val_accuracy\", \"val_accuracy\", \"val_accuracy\", \"val_accuracy\", \"val_accuracy\", \"val_accuracy\", \"val_accuracy\", \"val_accuracy\", \"val_accuracy\", \"val_accuracy\", \"val_accuracy\", \"val_accuracy\", \"val_accuracy\", \"val_accuracy\", \"val_accuracy\", \"val_accuracy\", \"val_accuracy\", \"val_accuracy\", \"val_accuracy\", \"val_accuracy\", \"val_accuracy\", \"val_accuracy\", \"val_accuracy\", \"val_accuracy\", \"val_accuracy\", \"val_accuracy\", \"val_accuracy\", \"val_accuracy\", \"val_accuracy\", \"val_accuracy\", \"val_accuracy\", \"val_accuracy\", \"val_accuracy\"], \"legendgroup\": \"val_accuracy\", \"line\": {\"color\": \"#00cc96\", \"dash\": \"solid\"}, \"mode\": \"lines\", \"name\": \"val_accuracy\", \"orientation\": \"v\", \"showlegend\": true, \"type\": \"scatter\", \"x\": [0, 1, 2, 3, 4, 5, 6, 7, 8, 9, 10, 11, 12, 13, 14, 15, 16, 17, 18, 19, 20, 21, 22, 23, 24, 25, 26, 27, 28, 29, 30, 31, 32, 33, 34, 35, 36, 37, 38, 39, 40, 41, 42, 43, 44, 45, 46, 47, 48, 49, 50, 51, 52, 53, 54, 55, 56, 57, 58, 59, 60, 61, 62, 63, 64, 65, 66, 67, 68, 69, 70, 71, 72, 73, 74, 75, 76, 77, 78, 79, 80, 81, 82, 83, 84, 85, 86, 87, 88, 89, 90, 91, 92, 93, 94, 95, 96, 97, 98, 99, 100, 101, 102, 103, 104, 105, 106, 107, 108, 109, 110, 111, 112, 113, 114, 115, 116, 117, 118, 119, 120, 121, 122, 123, 124, 125, 126, 127, 128, 129, 130, 131, 132, 133, 134, 135, 136, 137, 138, 139, 140, 141, 142, 143, 144, 145, 146, 147, 148, 149, 150, 151, 152, 153, 154, 155, 156, 157, 158, 159, 160, 161, 162, 163, 164, 165, 166, 167, 168, 169, 170, 171, 172, 173, 174, 175, 176, 177, 178, 179, 180, 181, 182, 183, 184, 185, 186, 187, 188, 189, 190, 191, 192, 193, 194, 195, 196, 197, 198, 199], \"xaxis\": \"x\", \"y\": [0.5373134613037109, 0.5373134613037109, 0.5373134613037109, 0.5373134613037109, 0.5373134613037109, 0.5373134613037109, 0.5373134613037109, 0.5373134613037109, 0.5373134613037109, 0.5373134613037109, 0.5373134613037109, 0.5373134613037109, 0.5373134613037109, 0.5373134613037109, 0.5373134613037109, 0.5373134613037109, 0.5373134613037109, 0.5373134613037109, 0.5373134613037109, 0.5373134613037109, 0.5373134613037109, 0.5373134613037109, 0.5395522713661194, 0.5395522713661194, 0.5417910218238831, 0.542537271976471, 0.5440298914909363, 0.5455223917961121, 0.5514925718307495, 0.562686562538147, 0.5619402527809143, 0.5671641826629639, 0.5641791224479675, 0.588059663772583, 0.5940298438072205, 0.5947761535644531, 0.5835821032524109, 0.5873134732246399, 0.5776119232177734, 0.5783582925796509, 0.5694029331207275, 0.5582090020179749, 0.5582090020179749, 0.5649253726005554, 0.5701491832733154, 0.5701492428779602, 0.5552238821983337, 0.5462686419487, 0.5634328126907349, 0.5694029927253723, 0.5597015023231506, 0.5626865029335022, 0.5708954930305481, 0.5783581733703613, 0.5723880529403687, 0.5671641826629639, 0.5656716823577881, 0.5858209133148193, 0.5902985334396362, 0.5902985334396362, 0.5910447239875793, 0.5873134732246399, 0.5880597233772278, 0.5761194229125977, 0.5738806128501892, 0.5708954930305481, 0.5604477524757385, 0.5671641826629639, 0.566417932510376, 0.5656716823577881, 0.5574626922607422, 0.5597015023231506, 0.558955192565918, 0.5604477524757385, 0.5671641230583191, 0.562686562538147, 0.558955192565918, 0.5611940026283264, 0.5671641230583191, 0.5671641826629639, 0.5671641230583191, 0.5589552521705627, 0.5671641826629639, 0.566417932510376, 0.5649253726005554, 0.5731343030929565, 0.5723881125450134, 0.5746268630027771, 0.5798507928848267, 0.5783582329750061, 0.5768656730651855, 0.5753731727600098, 0.5776119232177734, 0.5813432931900024, 0.5798507332801819, 0.5731343626976013, 0.5716418027877808, 0.5716418027877808, 0.5671641826629639, 0.5649253726005554, 0.5649254322052002, 0.5649253726005554, 0.5679104328155518, 0.5679104328155518, 0.5701491832733154, 0.5641791224479675, 0.5634328126907349, 0.5686567425727844, 0.5686566829681396, 0.5679104924201965, 0.5679104328155518, 0.562686562538147, 0.566417932510376, 0.566417932510376, 0.5701492428779602, 0.586567223072052, 0.5925373435020447, 0.5865671634674072, 0.5843283534049988, 0.579104483127594, 0.5701492428779602, 0.5679104328155518, 0.5671641230583191, 0.5641791224479675, 0.5634328722953796, 0.5686566829681396, 0.5641791224479675, 0.5708954930305481, 0.5611940026283264, 0.5686567425727844, 0.5671641826629639, 0.5671641230583191, 0.5679104328155518, 0.5656716227531433, 0.5671641826629639, 0.5641791224479675, 0.5708954930305481, 0.5694029927253723, 0.5619403123855591, 0.5656716227531433, 0.5656716823577881, 0.575373113155365, 0.5731343626976013, 0.5656716823577881, 0.5679104328155518, 0.5671641826629639, 0.5686567425727844, 0.566417932510376, 0.5679104328155518, 0.5656716823577881, 0.5656716823577881, 0.5820895433425903, 0.5805970430374146, 0.5694029927253723, 0.5776119232177734, 0.5731343626976013, 0.5634327530860901, 0.5589552521705627, 0.5574626922607422, 0.5619403123855591, 0.5649253726005554, 0.5641791224479675, 0.5634327530860901, 0.5686567425727844, 0.5858209133148193, 0.5888059139251709, 0.5865671634674072, 0.5716418027877808, 0.5641791224479675, 0.5649253726005554, 0.5671641826629639, 0.5641791224479675, 0.5649253726005554, 0.5649253726005554, 0.5746268630027771, 0.5880597233772278, 0.5798507332801819, 0.5641791224479675, 0.562686562538147, 0.5656716227531433, 0.5686567425727844, 0.5716418027877808, 0.5634328126907349, 0.5641791224479675, 0.5694029927253723, 0.579104483127594, 0.5828357934951782, 0.5873134732246399, 0.5776119232177734, 0.5694029927253723, 0.5686566829681396, 0.5634328126907349, 0.5723880529403687, 0.5694029927253723, 0.5634328722953796, 0.5619403123855591, 0.5619403123855591, 0.5641791224479675, 0.5641791224479675, 0.5723881125450134], \"yaxis\": \"y\"}, {\"hovertemplate\": \"<b>%{hovertext}</b><br><br>metric=val_loss<br>epochs=%{x}<br>values=%{y}<extra></extra>\", \"hovertext\": [\"val_loss\", \"val_loss\", \"val_loss\", \"val_loss\", \"val_loss\", \"val_loss\", \"val_loss\", \"val_loss\", \"val_loss\", \"val_loss\", \"val_loss\", \"val_loss\", \"val_loss\", \"val_loss\", \"val_loss\", \"val_loss\", \"val_loss\", \"val_loss\", \"val_loss\", \"val_loss\", \"val_loss\", \"val_loss\", \"val_loss\", \"val_loss\", \"val_loss\", \"val_loss\", \"val_loss\", \"val_loss\", \"val_loss\", \"val_loss\", \"val_loss\", \"val_loss\", \"val_loss\", \"val_loss\", \"val_loss\", \"val_loss\", \"val_loss\", \"val_loss\", \"val_loss\", \"val_loss\", \"val_loss\", \"val_loss\", \"val_loss\", \"val_loss\", \"val_loss\", \"val_loss\", \"val_loss\", \"val_loss\", \"val_loss\", \"val_loss\", \"val_loss\", \"val_loss\", \"val_loss\", \"val_loss\", \"val_loss\", \"val_loss\", \"val_loss\", \"val_loss\", \"val_loss\", \"val_loss\", \"val_loss\", \"val_loss\", \"val_loss\", \"val_loss\", \"val_loss\", \"val_loss\", \"val_loss\", \"val_loss\", \"val_loss\", \"val_loss\", \"val_loss\", \"val_loss\", \"val_loss\", \"val_loss\", \"val_loss\", \"val_loss\", \"val_loss\", \"val_loss\", \"val_loss\", \"val_loss\", \"val_loss\", \"val_loss\", \"val_loss\", \"val_loss\", \"val_loss\", \"val_loss\", \"val_loss\", \"val_loss\", \"val_loss\", \"val_loss\", \"val_loss\", \"val_loss\", \"val_loss\", \"val_loss\", \"val_loss\", \"val_loss\", \"val_loss\", \"val_loss\", \"val_loss\", \"val_loss\", \"val_loss\", \"val_loss\", \"val_loss\", \"val_loss\", \"val_loss\", \"val_loss\", \"val_loss\", \"val_loss\", \"val_loss\", \"val_loss\", \"val_loss\", \"val_loss\", \"val_loss\", \"val_loss\", \"val_loss\", \"val_loss\", \"val_loss\", \"val_loss\", \"val_loss\", \"val_loss\", \"val_loss\", \"val_loss\", \"val_loss\", \"val_loss\", \"val_loss\", \"val_loss\", \"val_loss\", \"val_loss\", \"val_loss\", \"val_loss\", \"val_loss\", \"val_loss\", \"val_loss\", \"val_loss\", \"val_loss\", \"val_loss\", \"val_loss\", \"val_loss\", \"val_loss\", \"val_loss\", \"val_loss\", \"val_loss\", \"val_loss\", \"val_loss\", \"val_loss\", \"val_loss\", \"val_loss\", \"val_loss\", \"val_loss\", \"val_loss\", \"val_loss\", \"val_loss\", \"val_loss\", \"val_loss\", \"val_loss\", \"val_loss\", \"val_loss\", \"val_loss\", \"val_loss\", \"val_loss\", \"val_loss\", \"val_loss\", \"val_loss\", \"val_loss\", \"val_loss\", \"val_loss\", \"val_loss\", \"val_loss\", \"val_loss\", \"val_loss\", \"val_loss\", \"val_loss\", \"val_loss\", \"val_loss\", \"val_loss\", \"val_loss\", \"val_loss\", \"val_loss\", \"val_loss\", \"val_loss\", \"val_loss\", \"val_loss\", \"val_loss\", \"val_loss\", \"val_loss\", \"val_loss\", \"val_loss\", \"val_loss\", \"val_loss\", \"val_loss\", \"val_loss\", \"val_loss\", \"val_loss\", \"val_loss\", \"val_loss\", \"val_loss\", \"val_loss\", \"val_loss\", \"val_loss\", \"val_loss\"], \"legendgroup\": \"val_loss\", \"line\": {\"color\": \"#ab63fa\", \"dash\": \"solid\"}, \"mode\": \"lines\", \"name\": \"val_loss\", \"orientation\": \"v\", \"showlegend\": true, \"type\": \"scatter\", \"x\": [0, 1, 2, 3, 4, 5, 6, 7, 8, 9, 10, 11, 12, 13, 14, 15, 16, 17, 18, 19, 20, 21, 22, 23, 24, 25, 26, 27, 28, 29, 30, 31, 32, 33, 34, 35, 36, 37, 38, 39, 40, 41, 42, 43, 44, 45, 46, 47, 48, 49, 50, 51, 52, 53, 54, 55, 56, 57, 58, 59, 60, 61, 62, 63, 64, 65, 66, 67, 68, 69, 70, 71, 72, 73, 74, 75, 76, 77, 78, 79, 80, 81, 82, 83, 84, 85, 86, 87, 88, 89, 90, 91, 92, 93, 94, 95, 96, 97, 98, 99, 100, 101, 102, 103, 104, 105, 106, 107, 108, 109, 110, 111, 112, 113, 114, 115, 116, 117, 118, 119, 120, 121, 122, 123, 124, 125, 126, 127, 128, 129, 130, 131, 132, 133, 134, 135, 136, 137, 138, 139, 140, 141, 142, 143, 144, 145, 146, 147, 148, 149, 150, 151, 152, 153, 154, 155, 156, 157, 158, 159, 160, 161, 162, 163, 164, 165, 166, 167, 168, 169, 170, 171, 172, 173, 174, 175, 176, 177, 178, 179, 180, 181, 182, 183, 184, 185, 186, 187, 188, 189, 190, 191, 192, 193, 194, 195, 196, 197, 198, 199], \"xaxis\": \"x\", \"y\": [0.6890231370925903, 0.6866389513015747, 0.6855263710021973, 0.6856128573417664, 0.6864630579948425, 0.6883247494697571, 0.6901666522026062, 0.6897575259208679, 0.6867215037345886, 0.6857754588127136, 0.685274600982666, 0.6856054067611694, 0.6860733032226562, 0.6861363649368286, 0.6860281825065613, 0.6856174468994141, 0.6851418614387512, 0.6842316389083862, 0.6835862398147583, 0.68340003490448, 0.6830407977104187, 0.6827881336212158, 0.6825911998748779, 0.6828858852386475, 0.6830312609672546, 0.6840976476669312, 0.6839117407798767, 0.6815083026885986, 0.6788668632507324, 0.6773161888122559, 0.6751368641853333, 0.6746655106544495, 0.6755020022392273, 0.666800856590271, 0.6650533676147461, 0.668678343296051, 0.6720841526985168, 0.6660932898521423, 0.6680238842964172, 0.6698612570762634, 0.6698129177093506, 0.6800145506858826, 0.677639365196228, 0.6706949472427368, 0.672340989112854, 0.6740481853485107, 0.6724993586540222, 0.672378420829773, 0.6765897274017334, 0.6764087677001953, 0.6720427870750427, 0.6700534820556641, 0.6696197390556335, 0.6700959801673889, 0.6680172085762024, 0.673317015171051, 0.6727790236473083, 0.6663367748260498, 0.6642302870750427, 0.6644918918609619, 0.6646376252174377, 0.6659235954284668, 0.6677420735359192, 0.6673046350479126, 0.6671268939971924, 0.6678606867790222, 0.6685294508934021, 0.6702354550361633, 0.6735528111457825, 0.6689240336418152, 0.668801486492157, 0.6687725186347961, 0.6689383387565613, 0.6683882474899292, 0.6678116917610168, 0.671714186668396, 0.6756444573402405, 0.6722482442855835, 0.6674920320510864, 0.6678193211555481, 0.6686047315597534, 0.6740864515304565, 0.6708203554153442, 0.6694253087043762, 0.6675124764442444, 0.6668277382850647, 0.6687193512916565, 0.6669043302536011, 0.6648198962211609, 0.6650561690330505, 0.6661382913589478, 0.6676189303398132, 0.6659807562828064, 0.6646226048469543, 0.6651678681373596, 0.6687918901443481, 0.6698284149169922, 0.6690837740898132, 0.6676980257034302, 0.6696539521217346, 0.6722292900085449, 0.6687485575675964, 0.6657462120056152, 0.6659278869628906, 0.6702556610107422, 0.6771543025970459, 0.6672888994216919, 0.6679847836494446, 0.6690722703933716, 0.6688142418861389, 0.6683751344680786, 0.6676806807518005, 0.6677039861679077, 0.6680528521537781, 0.6663374304771423, 0.6638261675834656, 0.6631845831871033, 0.6650115251541138, 0.6644009351730347, 0.6636955738067627, 0.6652636528015137, 0.6653679609298706, 0.6671779155731201, 0.6705313324928284, 0.6731032729148865, 0.6693007946014404, 0.6655908823013306, 0.665057897567749, 0.6679606437683105, 0.6691994667053223, 0.6692054271697998, 0.6694774031639099, 0.6687730550765991, 0.6675313711166382, 0.6703066825866699, 0.6710253953933716, 0.668099045753479, 0.66765958070755, 0.6680211424827576, 0.6687701940536499, 0.668591320514679, 0.6667919158935547, 0.6698442697525024, 0.6719444394111633, 0.6675671935081482, 0.6674138307571411, 0.6688456535339355, 0.667995035648346, 0.6679521203041077, 0.674842357635498, 0.6688353419303894, 0.6657177209854126, 0.6660798788070679, 0.6690490245819092, 0.6666194796562195, 0.6662120223045349, 0.6689811944961548, 0.6713036298751831, 0.6729886531829834, 0.6710174679756165, 0.6707116961479187, 0.6703354716300964, 0.671684741973877, 0.6694765090942383, 0.6685802340507507, 0.668211817741394, 0.6670557260513306, 0.6687226891517639, 0.674257218837738, 0.6734929084777832, 0.6714836359024048, 0.6696215867996216, 0.6703413128852844, 0.673451840877533, 0.6698715090751648, 0.6640426516532898, 0.664993166923523, 0.668332576751709, 0.6717780828475952, 0.6703234314918518, 0.6674275994300842, 0.6670764088630676, 0.6692002415657043, 0.6762127876281738, 0.6741535663604736, 0.6676721572875977, 0.6673641800880432, 0.6671984791755676, 0.6679612398147583, 0.6697432398796082, 0.6697744131088257, 0.6692212224006653, 0.6685670614242554, 0.6693554520606995, 0.6730992197990417, 0.6704419851303101, 0.6686785817146301, 0.6723586916923523, 0.6744793653488159, 0.673205554485321], \"yaxis\": \"y\"}],\n",
       "                        {\"legend\": {\"title\": {\"text\": \"metric\"}, \"tracegroupgap\": 0}, \"margin\": {\"t\": 60}, \"template\": {\"data\": {\"bar\": [{\"error_x\": {\"color\": \"#2a3f5f\"}, \"error_y\": {\"color\": \"#2a3f5f\"}, \"marker\": {\"line\": {\"color\": \"#E5ECF6\", \"width\": 0.5}}, \"type\": \"bar\"}], \"barpolar\": [{\"marker\": {\"line\": {\"color\": \"#E5ECF6\", \"width\": 0.5}}, \"type\": \"barpolar\"}], \"carpet\": [{\"aaxis\": {\"endlinecolor\": \"#2a3f5f\", \"gridcolor\": \"white\", \"linecolor\": \"white\", \"minorgridcolor\": \"white\", \"startlinecolor\": \"#2a3f5f\"}, \"baxis\": {\"endlinecolor\": \"#2a3f5f\", \"gridcolor\": \"white\", \"linecolor\": \"white\", \"minorgridcolor\": \"white\", \"startlinecolor\": \"#2a3f5f\"}, \"type\": \"carpet\"}], \"choropleth\": [{\"colorbar\": {\"outlinewidth\": 0, \"ticks\": \"\"}, \"type\": \"choropleth\"}], \"contour\": [{\"colorbar\": {\"outlinewidth\": 0, \"ticks\": \"\"}, \"colorscale\": [[0.0, \"#0d0887\"], [0.1111111111111111, \"#46039f\"], [0.2222222222222222, \"#7201a8\"], [0.3333333333333333, \"#9c179e\"], [0.4444444444444444, \"#bd3786\"], [0.5555555555555556, \"#d8576b\"], [0.6666666666666666, \"#ed7953\"], [0.7777777777777778, \"#fb9f3a\"], [0.8888888888888888, \"#fdca26\"], [1.0, \"#f0f921\"]], \"type\": \"contour\"}], \"contourcarpet\": [{\"colorbar\": {\"outlinewidth\": 0, \"ticks\": \"\"}, \"type\": \"contourcarpet\"}], \"heatmap\": [{\"colorbar\": {\"outlinewidth\": 0, \"ticks\": \"\"}, \"colorscale\": [[0.0, \"#0d0887\"], [0.1111111111111111, \"#46039f\"], [0.2222222222222222, \"#7201a8\"], [0.3333333333333333, \"#9c179e\"], [0.4444444444444444, \"#bd3786\"], [0.5555555555555556, \"#d8576b\"], [0.6666666666666666, \"#ed7953\"], [0.7777777777777778, \"#fb9f3a\"], [0.8888888888888888, \"#fdca26\"], [1.0, \"#f0f921\"]], \"type\": \"heatmap\"}], \"heatmapgl\": [{\"colorbar\": {\"outlinewidth\": 0, \"ticks\": \"\"}, \"colorscale\": [[0.0, \"#0d0887\"], [0.1111111111111111, \"#46039f\"], [0.2222222222222222, \"#7201a8\"], [0.3333333333333333, \"#9c179e\"], [0.4444444444444444, \"#bd3786\"], [0.5555555555555556, \"#d8576b\"], [0.6666666666666666, \"#ed7953\"], [0.7777777777777778, \"#fb9f3a\"], [0.8888888888888888, \"#fdca26\"], [1.0, \"#f0f921\"]], \"type\": \"heatmapgl\"}], \"histogram\": [{\"marker\": {\"colorbar\": {\"outlinewidth\": 0, \"ticks\": \"\"}}, \"type\": \"histogram\"}], \"histogram2d\": [{\"colorbar\": {\"outlinewidth\": 0, \"ticks\": \"\"}, \"colorscale\": [[0.0, \"#0d0887\"], [0.1111111111111111, \"#46039f\"], [0.2222222222222222, \"#7201a8\"], [0.3333333333333333, \"#9c179e\"], [0.4444444444444444, \"#bd3786\"], [0.5555555555555556, \"#d8576b\"], [0.6666666666666666, \"#ed7953\"], [0.7777777777777778, \"#fb9f3a\"], [0.8888888888888888, \"#fdca26\"], [1.0, \"#f0f921\"]], \"type\": \"histogram2d\"}], \"histogram2dcontour\": [{\"colorbar\": {\"outlinewidth\": 0, \"ticks\": \"\"}, \"colorscale\": [[0.0, \"#0d0887\"], [0.1111111111111111, \"#46039f\"], [0.2222222222222222, \"#7201a8\"], [0.3333333333333333, \"#9c179e\"], [0.4444444444444444, \"#bd3786\"], [0.5555555555555556, \"#d8576b\"], [0.6666666666666666, \"#ed7953\"], [0.7777777777777778, \"#fb9f3a\"], [0.8888888888888888, \"#fdca26\"], [1.0, \"#f0f921\"]], \"type\": \"histogram2dcontour\"}], \"mesh3d\": [{\"colorbar\": {\"outlinewidth\": 0, \"ticks\": \"\"}, \"type\": \"mesh3d\"}], \"parcoords\": [{\"line\": {\"colorbar\": {\"outlinewidth\": 0, \"ticks\": \"\"}}, \"type\": \"parcoords\"}], \"pie\": [{\"automargin\": true, \"type\": \"pie\"}], \"scatter\": [{\"marker\": {\"colorbar\": {\"outlinewidth\": 0, \"ticks\": \"\"}}, \"type\": \"scatter\"}], \"scatter3d\": [{\"line\": {\"colorbar\": {\"outlinewidth\": 0, \"ticks\": \"\"}}, \"marker\": {\"colorbar\": {\"outlinewidth\": 0, \"ticks\": \"\"}}, \"type\": \"scatter3d\"}], \"scattercarpet\": [{\"marker\": {\"colorbar\": {\"outlinewidth\": 0, \"ticks\": \"\"}}, \"type\": \"scattercarpet\"}], \"scattergeo\": [{\"marker\": {\"colorbar\": {\"outlinewidth\": 0, \"ticks\": \"\"}}, \"type\": \"scattergeo\"}], \"scattergl\": [{\"marker\": {\"colorbar\": {\"outlinewidth\": 0, \"ticks\": \"\"}}, \"type\": \"scattergl\"}], \"scattermapbox\": [{\"marker\": {\"colorbar\": {\"outlinewidth\": 0, \"ticks\": \"\"}}, \"type\": \"scattermapbox\"}], \"scatterpolar\": [{\"marker\": {\"colorbar\": {\"outlinewidth\": 0, \"ticks\": \"\"}}, \"type\": \"scatterpolar\"}], \"scatterpolargl\": [{\"marker\": {\"colorbar\": {\"outlinewidth\": 0, \"ticks\": \"\"}}, \"type\": \"scatterpolargl\"}], \"scatterternary\": [{\"marker\": {\"colorbar\": {\"outlinewidth\": 0, \"ticks\": \"\"}}, \"type\": \"scatterternary\"}], \"surface\": [{\"colorbar\": {\"outlinewidth\": 0, \"ticks\": \"\"}, \"colorscale\": [[0.0, \"#0d0887\"], [0.1111111111111111, \"#46039f\"], [0.2222222222222222, \"#7201a8\"], [0.3333333333333333, \"#9c179e\"], [0.4444444444444444, \"#bd3786\"], [0.5555555555555556, \"#d8576b\"], [0.6666666666666666, \"#ed7953\"], [0.7777777777777778, \"#fb9f3a\"], [0.8888888888888888, \"#fdca26\"], [1.0, \"#f0f921\"]], \"type\": \"surface\"}], \"table\": [{\"cells\": {\"fill\": {\"color\": \"#EBF0F8\"}, \"line\": {\"color\": \"white\"}}, \"header\": {\"fill\": {\"color\": \"#C8D4E3\"}, \"line\": {\"color\": \"white\"}}, \"type\": \"table\"}]}, \"layout\": {\"annotationdefaults\": {\"arrowcolor\": \"#2a3f5f\", \"arrowhead\": 0, \"arrowwidth\": 1}, \"coloraxis\": {\"colorbar\": {\"outlinewidth\": 0, \"ticks\": \"\"}}, \"colorscale\": {\"diverging\": [[0, \"#8e0152\"], [0.1, \"#c51b7d\"], [0.2, \"#de77ae\"], [0.3, \"#f1b6da\"], [0.4, \"#fde0ef\"], [0.5, \"#f7f7f7\"], [0.6, \"#e6f5d0\"], [0.7, \"#b8e186\"], [0.8, \"#7fbc41\"], [0.9, \"#4d9221\"], [1, \"#276419\"]], \"sequential\": [[0.0, \"#0d0887\"], [0.1111111111111111, \"#46039f\"], [0.2222222222222222, \"#7201a8\"], [0.3333333333333333, \"#9c179e\"], [0.4444444444444444, \"#bd3786\"], [0.5555555555555556, \"#d8576b\"], [0.6666666666666666, \"#ed7953\"], [0.7777777777777778, \"#fb9f3a\"], [0.8888888888888888, \"#fdca26\"], [1.0, \"#f0f921\"]], \"sequentialminus\": [[0.0, \"#0d0887\"], [0.1111111111111111, \"#46039f\"], [0.2222222222222222, \"#7201a8\"], [0.3333333333333333, \"#9c179e\"], [0.4444444444444444, \"#bd3786\"], [0.5555555555555556, \"#d8576b\"], [0.6666666666666666, \"#ed7953\"], [0.7777777777777778, \"#fb9f3a\"], [0.8888888888888888, \"#fdca26\"], [1.0, \"#f0f921\"]]}, \"colorway\": [\"#636efa\", \"#EF553B\", \"#00cc96\", \"#ab63fa\", \"#FFA15A\", \"#19d3f3\", \"#FF6692\", \"#B6E880\", \"#FF97FF\", \"#FECB52\"], \"font\": {\"color\": \"#2a3f5f\"}, \"geo\": {\"bgcolor\": \"white\", \"lakecolor\": \"white\", \"landcolor\": \"#E5ECF6\", \"showlakes\": true, \"showland\": true, \"subunitcolor\": \"white\"}, \"hoverlabel\": {\"align\": \"left\"}, \"hovermode\": \"closest\", \"mapbox\": {\"style\": \"light\"}, \"paper_bgcolor\": \"white\", \"plot_bgcolor\": \"#E5ECF6\", \"polar\": {\"angularaxis\": {\"gridcolor\": \"white\", \"linecolor\": \"white\", \"ticks\": \"\"}, \"bgcolor\": \"#E5ECF6\", \"radialaxis\": {\"gridcolor\": \"white\", \"linecolor\": \"white\", \"ticks\": \"\"}}, \"scene\": {\"xaxis\": {\"backgroundcolor\": \"#E5ECF6\", \"gridcolor\": \"white\", \"gridwidth\": 2, \"linecolor\": \"white\", \"showbackground\": true, \"ticks\": \"\", \"zerolinecolor\": \"white\"}, \"yaxis\": {\"backgroundcolor\": \"#E5ECF6\", \"gridcolor\": \"white\", \"gridwidth\": 2, \"linecolor\": \"white\", \"showbackground\": true, \"ticks\": \"\", \"zerolinecolor\": \"white\"}, \"zaxis\": {\"backgroundcolor\": \"#E5ECF6\", \"gridcolor\": \"white\", \"gridwidth\": 2, \"linecolor\": \"white\", \"showbackground\": true, \"ticks\": \"\", \"zerolinecolor\": \"white\"}}, \"shapedefaults\": {\"line\": {\"color\": \"#2a3f5f\"}}, \"ternary\": {\"aaxis\": {\"gridcolor\": \"white\", \"linecolor\": \"white\", \"ticks\": \"\"}, \"baxis\": {\"gridcolor\": \"white\", \"linecolor\": \"white\", \"ticks\": \"\"}, \"bgcolor\": \"#E5ECF6\", \"caxis\": {\"gridcolor\": \"white\", \"linecolor\": \"white\", \"ticks\": \"\"}}, \"title\": {\"x\": 0.05}, \"xaxis\": {\"automargin\": true, \"gridcolor\": \"white\", \"linecolor\": \"white\", \"ticks\": \"\", \"title\": {\"standoff\": 15}, \"zerolinecolor\": \"white\", \"zerolinewidth\": 2}, \"yaxis\": {\"automargin\": true, \"gridcolor\": \"white\", \"linecolor\": \"white\", \"ticks\": \"\", \"title\": {\"standoff\": 15}, \"zerolinecolor\": \"white\", \"zerolinewidth\": 2}}}, \"xaxis\": {\"anchor\": \"y\", \"domain\": [0.0, 1.0], \"title\": {\"text\": \"epochs\"}}, \"yaxis\": {\"anchor\": \"x\", \"domain\": [0.0, 1.0], \"title\": {\"text\": \"values\"}}},\n",
       "                        {\"responsive\": true}\n",
       "                    ).then(function(){\n",
       "                            \n",
       "var gd = document.getElementById('2f87432b-da63-4059-adbc-55d168ee57b0');\n",
       "var x = new MutationObserver(function (mutations, observer) {{\n",
       "        var display = window.getComputedStyle(gd).display;\n",
       "        if (!display || display === 'none') {{\n",
       "            console.log([gd, 'removed!']);\n",
       "            Plotly.purge(gd);\n",
       "            observer.disconnect();\n",
       "        }}\n",
       "}});\n",
       "\n",
       "// Listen for the removal of the full notebook cells\n",
       "var notebookContainer = gd.closest('#notebook-container');\n",
       "if (notebookContainer) {{\n",
       "    x.observe(notebookContainer, {childList: true});\n",
       "}}\n",
       "\n",
       "// Listen for the clearing of the current output cell\n",
       "var outputEl = gd.closest('.output');\n",
       "if (outputEl) {{\n",
       "    x.observe(outputEl, {childList: true});\n",
       "}}\n",
       "\n",
       "                        })\n",
       "                };\n",
       "                });\n",
       "            </script>\n",
       "        </div>"
      ]
     },
     "metadata": {},
     "output_type": "display_data"
    }
   ],
   "source": [
    "ico_training.train_network(loss='binary_crossentropy',\n",
    "        optimizer='adam',\n",
    "        metrics=['accuracy'],#, Recall()],\n",
    "        epochs=200,\n",
    "        verbose=0,\n",
    "        batch_size=64,\n",
    "        callback=earlystop)\n",
    "ico_training.plot_training()"
   ]
  },
  {
   "cell_type": "code",
   "execution_count": null,
   "metadata": {},
   "outputs": [],
   "source": []
  }
 ],
 "metadata": {
  "kernelspec": {
   "display_name": "time_series",
   "language": "python",
   "name": "time_series"
  },
  "language_info": {
   "codemirror_mode": {
    "name": "ipython",
    "version": 3
   },
   "file_extension": ".py",
   "mimetype": "text/x-python",
   "name": "python",
   "nbconvert_exporter": "python",
   "pygments_lexer": "ipython3",
   "version": "3.8.3"
  }
 },
 "nbformat": 4,
 "nbformat_minor": 4
}
