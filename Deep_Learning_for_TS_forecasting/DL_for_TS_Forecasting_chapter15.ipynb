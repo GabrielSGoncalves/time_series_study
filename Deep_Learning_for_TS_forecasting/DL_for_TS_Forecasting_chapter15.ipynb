{
 "cells": [
  {
   "cell_type": "markdown",
   "metadata": {},
   "source": [
    "# Study based on Chapter 15"
   ]
  },
  {
   "cell_type": "markdown",
   "metadata": {},
   "source": [
    "Grid searching is generally not an operation that we can perform with deep learning methodsThis is because deep learning methods often require large amounts of data and large modelstogether resulting in models that take hours, days, or weeks to train. In those cases where thedatasets are smaller, such as univariate time series, it may be possible to use a grid search totune the hyperparameters of a deep learning model. In this tutorial, you will discover how todevelop a framework to grid search hyperparameters for deep learning models. After completingthis tutorial, you will know:\n",
    "\n",
    "* How to develop a generic grid searching framework for tuning model hyperparameters.\n",
    "* How to grid search hyperparameters for a Multilayer Perceptron model on the airlinepassengers univariate time series forecasting problem.\n",
    "* How to adapt the framework to grid search hyperparameters for convolutional and longshort-term memory neural networks.Let’s get starte\n",
    "\n",
    "15.1 Tutorial Overview\n",
    "This tutorial is divided into five parts; they are:\n",
    "\n",
    "1. Time Series Problem\n",
    "2. Grid Search Framework\n",
    "3. Multilayer Perceptron Model\n",
    "4. Convolutional Neural Network Model\n",
    "5. Long Short-Term Memory Network Model"
   ]
  },
  {
   "cell_type": "markdown",
   "metadata": {},
   "source": [
    "### 15.2 Time Series Problem"
   ]
  },
  {
   "cell_type": "code",
   "execution_count": 49,
   "metadata": {},
   "outputs": [],
   "source": [
    "from math import sqrt\n",
    "from numpy import mean\n",
    "from pandas import read_csv\n",
    "from sklearn.metrics import mean_squared_error"
   ]
  },
  {
   "cell_type": "code",
   "execution_count": 50,
   "metadata": {},
   "outputs": [],
   "source": [
    "# grid search simple forecasts\n",
    "from math import sqrt\n",
    "from numpy import mean\n",
    "from numpy import median\n",
    "from multiprocessing import cpu_count\n",
    "from joblib import Parallel\n",
    "from joblib import delayed\n",
    "from warnings import catch_warnings\n",
    "from warnings import filterwarnings\n",
    "from sklearn.metrics import mean_squared_error"
   ]
  },
  {
   "cell_type": "code",
   "execution_count": 51,
   "metadata": {},
   "outputs": [],
   "source": [
    "import pandas as pd\n",
    "import matplotlib.pyplot as plt"
   ]
  },
  {
   "cell_type": "code",
   "execution_count": 52,
   "metadata": {},
   "outputs": [
    {
     "name": "stdout",
     "output_type": "stream",
     "text": [
      "<class 'pandas.core.frame.DataFrame'>\n",
      "Index: 144 entries, 1949-01 to 1960-12\n",
      "Data columns (total 1 columns):\n",
      " #   Column      Non-Null Count  Dtype\n",
      "---  ------      --------------  -----\n",
      " 0   Passengers  144 non-null    int64\n",
      "dtypes: int64(1)\n",
      "memory usage: 2.2+ KB\n"
     ]
    }
   ],
   "source": [
    "# load\n",
    "series = pd.read_csv('../data_and_models/airline-passenger.csv', header=0, index_col=0)\n",
    "series.info()"
   ]
  },
  {
   "cell_type": "code",
   "execution_count": 53,
   "metadata": {},
   "outputs": [
    {
     "data": {
      "text/plain": [
       "(144, 1)"
      ]
     },
     "execution_count": 53,
     "metadata": {},
     "output_type": "execute_result"
    }
   ],
   "source": [
    "series.shape"
   ]
  },
  {
   "cell_type": "code",
   "execution_count": 54,
   "metadata": {},
   "outputs": [
    {
     "data": {
      "text/html": [
       "<div>\n",
       "<style scoped>\n",
       "    .dataframe tbody tr th:only-of-type {\n",
       "        vertical-align: middle;\n",
       "    }\n",
       "\n",
       "    .dataframe tbody tr th {\n",
       "        vertical-align: top;\n",
       "    }\n",
       "\n",
       "    .dataframe thead th {\n",
       "        text-align: right;\n",
       "    }\n",
       "</style>\n",
       "<table border=\"1\" class=\"dataframe\">\n",
       "  <thead>\n",
       "    <tr style=\"text-align: right;\">\n",
       "      <th></th>\n",
       "      <th>Passengers</th>\n",
       "    </tr>\n",
       "    <tr>\n",
       "      <th>Month</th>\n",
       "      <th></th>\n",
       "    </tr>\n",
       "  </thead>\n",
       "  <tbody>\n",
       "    <tr>\n",
       "      <th>1949-01</th>\n",
       "      <td>112</td>\n",
       "    </tr>\n",
       "    <tr>\n",
       "      <th>1949-02</th>\n",
       "      <td>118</td>\n",
       "    </tr>\n",
       "    <tr>\n",
       "      <th>1949-03</th>\n",
       "      <td>132</td>\n",
       "    </tr>\n",
       "    <tr>\n",
       "      <th>1949-04</th>\n",
       "      <td>129</td>\n",
       "    </tr>\n",
       "    <tr>\n",
       "      <th>1949-05</th>\n",
       "      <td>121</td>\n",
       "    </tr>\n",
       "  </tbody>\n",
       "</table>\n",
       "</div>"
      ],
      "text/plain": [
       "         Passengers\n",
       "Month              \n",
       "1949-01         112\n",
       "1949-02         118\n",
       "1949-03         132\n",
       "1949-04         129\n",
       "1949-05         121"
      ]
     },
     "execution_count": 54,
     "metadata": {},
     "output_type": "execute_result"
    }
   ],
   "source": [
    "series.head()"
   ]
  },
  {
   "cell_type": "code",
   "execution_count": 55,
   "metadata": {},
   "outputs": [
    {
     "data": {
      "text/html": [
       "<div>\n",
       "<style scoped>\n",
       "    .dataframe tbody tr th:only-of-type {\n",
       "        vertical-align: middle;\n",
       "    }\n",
       "\n",
       "    .dataframe tbody tr th {\n",
       "        vertical-align: top;\n",
       "    }\n",
       "\n",
       "    .dataframe thead th {\n",
       "        text-align: right;\n",
       "    }\n",
       "</style>\n",
       "<table border=\"1\" class=\"dataframe\">\n",
       "  <thead>\n",
       "    <tr style=\"text-align: right;\">\n",
       "      <th></th>\n",
       "      <th>Passengers</th>\n",
       "    </tr>\n",
       "    <tr>\n",
       "      <th>Month</th>\n",
       "      <th></th>\n",
       "    </tr>\n",
       "  </thead>\n",
       "  <tbody>\n",
       "    <tr>\n",
       "      <th>1960-08</th>\n",
       "      <td>606</td>\n",
       "    </tr>\n",
       "    <tr>\n",
       "      <th>1960-09</th>\n",
       "      <td>508</td>\n",
       "    </tr>\n",
       "    <tr>\n",
       "      <th>1960-10</th>\n",
       "      <td>461</td>\n",
       "    </tr>\n",
       "    <tr>\n",
       "      <th>1960-11</th>\n",
       "      <td>390</td>\n",
       "    </tr>\n",
       "    <tr>\n",
       "      <th>1960-12</th>\n",
       "      <td>432</td>\n",
       "    </tr>\n",
       "  </tbody>\n",
       "</table>\n",
       "</div>"
      ],
      "text/plain": [
       "         Passengers\n",
       "Month              \n",
       "1960-08         606\n",
       "1960-09         508\n",
       "1960-10         461\n",
       "1960-11         390\n",
       "1960-12         432"
      ]
     },
     "execution_count": 55,
     "metadata": {},
     "output_type": "execute_result"
    }
   ],
   "source": [
    "series.tail()"
   ]
  },
  {
   "cell_type": "markdown",
   "metadata": {},
   "source": [
    "### Create a line plot of the dataset."
   ]
  },
  {
   "cell_type": "code",
   "execution_count": 56,
   "metadata": {},
   "outputs": [
    {
     "data": {
      "image/png": "[encoded data removed]",
      "text/plain": [
       "<Figure size 432x288 with 1 Axes>"
      ]
     },
     "metadata": {
      "needs_background": "light"
     },
     "output_type": "display_data"
    }
   ],
   "source": [
    "# plot\n",
    "plt.plot(series)\n",
    "plt.show()"
   ]
  },
  {
   "cell_type": "markdown",
   "metadata": {},
   "source": [
    "## 15.3 Develop a Grid Search Framework\n",
    "In this section, we will develop a grid search test harness that can be used to evaluate a range of\n",
    "hyperparameters for different neural network models, such as MLPs, CNNs, and LSTMs. This\n",
    "section is divided into the following parts:\n",
    "\n",
    "1. Train-Test Split\n",
    "2. Series as Supervised Learning\n",
    "3. Walk-Forward Validation\n",
    "4. Repeat Evaluation\n",
    "5. Summarize Performance\n",
    "6. Worked Example"
   ]
  },
  {
   "cell_type": "code",
   "execution_count": 57,
   "metadata": {},
   "outputs": [],
   "source": [
    "def train_test_split(data, n_test):\n",
    "    \"\"\"\n",
    "    Split time series in train and test sets.\n",
    "    \"\"\"\n",
    "    return data[:-n_test], data[-n_test:]"
   ]
  },
  {
   "cell_type": "markdown",
   "metadata": {},
   "source": [
    "### 15.3.2 Series as Supervised Learning\n",
    "!!! CONCEITO IMPORTANTE"
   ]
  },
  {
   "cell_type": "code",
   "execution_count": 58,
   "metadata": {},
   "outputs": [],
   "source": [
    "# transform list into supervised learning format\n",
    "def series_to_supervised(data, n_in, n_out=1):\n",
    "    df = DataFrame(data)\n",
    "    cols = list()\n",
    "    \n",
    "    # input sequence (t-n, ... t-1)\n",
    "    for i in range(n_in, 0, -1):\n",
    "        cols.append(df.shift(i))\n",
    "    \n",
    "    # forecast sequence (t, t+1, ... t+n)\n",
    "    for i in range(0, n_out):\n",
    "        cols.append(df.shift(-i))\n",
    "    \n",
    "    # put it all together\n",
    "    agg = concat(cols, axis=1)\n",
    "    \n",
    "    # drop rows with NaN values\n",
    "    agg.dropna(inplace=True)\n",
    "    \n",
    "    return agg.values"
   ]
  },
  {
   "cell_type": "code",
   "execution_count": 59,
   "metadata": {},
   "outputs": [],
   "source": [
    "# fit a model\n",
    "def model_fit(train, config):\n",
    "    return None"
   ]
  },
  {
   "cell_type": "code",
   "execution_count": 60,
   "metadata": {},
   "outputs": [],
   "source": [
    "# forecast with a pre-fit model\n",
    "def model_predict(model, history, config):\n",
    "    return 0.0"
   ]
  },
  {
   "cell_type": "code",
   "execution_count": 61,
   "metadata": {},
   "outputs": [],
   "source": [
    "# root mean squared error or rmse\n",
    "def measure_rmse(actual, predicted):\n",
    "    return sqrt(mean_squared_error(actual, predicted))"
   ]
  },
  {
   "cell_type": "code",
   "execution_count": 62,
   "metadata": {},
   "outputs": [],
   "source": [
    "# walk-forward validation for univariate data\n",
    "def walk_forward_validation(data, n_test, cfg):\n",
    "    predictions = list()\n",
    "    \n",
    "    # split dataset\n",
    "    train, test = train_test_split(data, n_test)\n",
    "    \n",
    "    # fit model\n",
    "    model = model_fit(train, cfg)\n",
    "    \n",
    "    # seed history with training dataset\n",
    "    history = [x for x in train]\n",
    "    \n",
    "    # step over each time step in the test set\n",
    "    for i in range(len(test)):\n",
    "        # fit model and make forecast for history\n",
    "        yhat = model_predict(model, history, cfg)\n",
    "        \n",
    "        # store forecast in list of predictions\n",
    "        predictions.append(yhat)\n",
    "        \n",
    "        # add actual observation to history for the next loop\n",
    "        history.append(test[i])\n",
    "    \n",
    "    # estimate prediction error\n",
    "    error = measure_rmse(test, predictions)\n",
    "    print(' > %.3f' % error)\n",
    "    return error"
   ]
  },
  {
   "cell_type": "code",
   "execution_count": 63,
   "metadata": {},
   "outputs": [],
   "source": [
    "# score a model, return None on failure\n",
    "def repeat_evaluate(data, config, n_test, n_repeats=10):\n",
    "    # convert config to a key\n",
    "    key = str(config)\n",
    "    \n",
    "    # fit and evaluate the model n times\n",
    "    scores = [walk_forward_validation(data, n_test, config) for _ in range(n_repeats)]\n",
    "    \n",
    "    # summarize score\n",
    "    result = mean(scores)\n",
    "    print('> Model[%s] %.3f' % (key, result))\n",
    "    return (key, result)\n"
   ]
  },
  {
   "cell_type": "code",
   "execution_count": 64,
   "metadata": {},
   "outputs": [],
   "source": [
    "# grid search configs\n",
    "def grid_search(data, cfg_list, n_test):\n",
    "    # evaluate configs\n",
    "    scores = [repeat_evaluate(data, n_test, cfg) for cfg in cfg_list]\n",
    "    \n",
    "    # sort configs by error, asc\n",
    "    scores.sort(key=lambda tup: tup[1])\n",
    "    return scores"
   ]
  },
  {
   "cell_type": "code",
   "execution_count": 65,
   "metadata": {},
   "outputs": [],
   "source": [
    "# define config\n",
    "cfg_list = [1, 6, 12, 24, 36]"
   ]
  },
  {
   "cell_type": "code",
   "execution_count": 66,
   "metadata": {},
   "outputs": [],
   "source": [
    "# forecast with a pre-fit model\n",
    "def model_predict(model, history, offset):\n",
    "    history[-offset]"
   ]
  },
  {
   "cell_type": "code",
   "execution_count": 67,
   "metadata": {},
   "outputs": [],
   "source": [
    "# root mean squared error or rmse\n",
    "def measure_rmse(actual, predicted):\n",
    "    return sqrt(mean_squared_error(actual, predicted))"
   ]
  },
  {
   "cell_type": "markdown",
   "metadata": {},
   "source": [
    "### Running the grid search"
   ]
  },
  {
   "cell_type": "code",
   "execution_count": 68,
   "metadata": {},
   "outputs": [],
   "source": [
    "data = series.values"
   ]
  },
  {
   "cell_type": "markdown",
   "metadata": {},
   "source": [
    "# data split\n",
    "n_test = 12\n",
    "# model configs\n",
    "cfg_list = [1, 6, 12, 24, 36]\n",
    "# grid search\n",
    "scores = grid_search(data, cfg_list, n_test)\n",
    "print('done')\n",
    "# list top 10 configs\n",
    "for cfg, error in scores[:10]:\n",
    "    print(cfg, error)"
   ]
  },
  {
   "cell_type": "code",
   "execution_count": null,
   "metadata": {},
   "outputs": [],
   "source": []
  },
  {
   "cell_type": "markdown",
   "metadata": {},
   "source": [
    "### 15.4 Multilayer Perceptron Model\n",
    "\n",
    "In this section we will grid search hyperparameters for an MLPs for univariate time series\n",
    "forecasting. For more details on modeling a univariate time series with an MLP, see Chapter 7.\n",
    "There are many aspects of the MLP that we may wish to tune. We will define a very simple\n",
    "model with one hidden layer and define five hyperparameters to tune. They are:\n",
    "* n input: The number of prior inputs to use as input for the model (e.g. 12 months).\n",
    "* n nodes: The number of nodes to use in the hidden layer (e.g. 50).\n",
    "* n epochs: The number of training epochs (e.g. 1000).\n",
    "15.4. Multilayer Perceptron Model 300\n",
    "* n batch: The number of samples to include in each mini-batch (e.g. 32).\n",
    "* n diff: The difference order (e.g. 0 or 12)"
   ]
  },
  {
   "cell_type": "code",
   "execution_count": 69,
   "metadata": {},
   "outputs": [],
   "source": [
    "# grid search mlps for monthly airline passengers dataset\n",
    "from math import sqrt\n",
    "from numpy import array\n",
    "from numpy import mean\n",
    "from pandas import DataFrame\n",
    "from pandas import concat\n",
    "from pandas import read_csv\n",
    "from sklearn.metrics import mean_squared_error\n",
    "from keras.models import Sequential\n",
    "from keras.layers import Dense"
   ]
  },
  {
   "cell_type": "code",
   "execution_count": 70,
   "metadata": {},
   "outputs": [],
   "source": [
    "# split a univariate dataset into train/test sets\n",
    "def train_test_split(data, n_test):\n",
    "    return data[:-n_test], data[-n_test:]"
   ]
  },
  {
   "cell_type": "code",
   "execution_count": 71,
   "metadata": {},
   "outputs": [],
   "source": [
    "# transform list into supervised learning format\n",
    "def series_to_supervised(data, n_in, n_out=1):\n",
    "    df = DataFrame(data)\n",
    "    cols = list()\n",
    "\n",
    "    # input sequence (t-n, ... t-1)\n",
    "    for i in range(n_in, 0, -1):\n",
    "        cols.append(df.shift(i))\n",
    "    \n",
    "    # forecast sequence (t, t+1, ... t+n)\n",
    "    for i in range(0, n_out):\n",
    "        cols.append(df.shift(-i))\n",
    "    \n",
    "    # put it all together\n",
    "    agg = concat(cols, axis=1)\n",
    "    \n",
    "    # drop rows with NaN values\n",
    "    agg.dropna(inplace=True)\n",
    "    \n",
    "    return agg.values"
   ]
  },
  {
   "cell_type": "code",
   "execution_count": 72,
   "metadata": {},
   "outputs": [],
   "source": [
    "#series.values"
   ]
  },
  {
   "cell_type": "code",
   "execution_count": 73,
   "metadata": {},
   "outputs": [
    {
     "data": {
      "text/plain": [
       "(12, 133)"
      ]
     },
     "execution_count": 73,
     "metadata": {},
     "output_type": "execute_result"
    }
   ],
   "source": [
    "series_to_supervised(series.values, 132).shape"
   ]
  },
  {
   "cell_type": "code",
   "execution_count": 74,
   "metadata": {},
   "outputs": [],
   "source": [
    "# root mean squared error or rmse\n",
    "def measure_rmse(actual, predicted):\n",
    "    return sqrt(mean_squared_error(actual, predicted))"
   ]
  },
  {
   "cell_type": "code",
   "execution_count": 75,
   "metadata": {},
   "outputs": [],
   "source": [
    "# difference dataset\n",
    "def difference(data, order):\n",
    "    return [data[i] - data[i - order] for i in range(order, len(data))]"
   ]
  },
  {
   "cell_type": "code",
   "execution_count": 76,
   "metadata": {},
   "outputs": [
    {
     "data": {
      "text/plain": [
       "array([115])"
      ]
     },
     "execution_count": 76,
     "metadata": {},
     "output_type": "execute_result"
    }
   ],
   "source": [
    "i = 12\n",
    "order = 1\n",
    "data[i]"
   ]
  },
  {
   "cell_type": "code",
   "execution_count": 77,
   "metadata": {},
   "outputs": [
    {
     "data": {
      "text/plain": [
       "array([118])"
      ]
     },
     "execution_count": 77,
     "metadata": {},
     "output_type": "execute_result"
    }
   ],
   "source": [
    "data[i - order] "
   ]
  },
  {
   "cell_type": "code",
   "execution_count": 78,
   "metadata": {},
   "outputs": [
    {
     "data": {
      "text/plain": [
       "array([[112],\n",
       "       [118],\n",
       "       [132],\n",
       "       [129],\n",
       "       [121],\n",
       "       [135],\n",
       "       [148],\n",
       "       [148],\n",
       "       [136],\n",
       "       [119],\n",
       "       [104],\n",
       "       [118]])"
      ]
     },
     "execution_count": 78,
     "metadata": {},
     "output_type": "execute_result"
    }
   ],
   "source": [
    "data[:12]"
   ]
  },
  {
   "cell_type": "code",
   "execution_count": 79,
   "metadata": {},
   "outputs": [],
   "source": [
    "# fit a model\n",
    "def model_fit(train, config):\n",
    "    # unpack config\n",
    "    n_input, n_nodes, n_epochs, n_batch, n_diff = config\n",
    "    \n",
    "    # prepare data\n",
    "    if n_diff > 0:\n",
    "        train = difference(train, n_diff)\n",
    "    \n",
    "    # transform series into supervised format\n",
    "    data = series_to_supervised(train, n_in=n_input)\n",
    "    \n",
    "    # separate inputs and outputs\n",
    "    train_x, train_y = data[:, :-1], data[:, -1]\n",
    "    \n",
    "    # define model\n",
    "    model = Sequential()\n",
    "    model.add(Dense(n_nodes, activation='relu', input_dim=n_input))\n",
    "    model.add(Dense(1))\n",
    "    model.compile(loss='mse', optimizer='adam')\n",
    "    \n",
    "    # fit model\n",
    "    model.fit(train_x, train_y, epochs=n_epochs, batch_size=n_batch, verbose=0)\n",
    "    \n",
    "    return model"
   ]
  },
  {
   "cell_type": "code",
   "execution_count": 80,
   "metadata": {},
   "outputs": [],
   "source": [
    "# forecast with the fit model\n",
    "def model_predict(model, history, config):\n",
    "    # unpack config\n",
    "    n_input, _, _, _, n_diff = config\n",
    "    \n",
    "    # prepare data\n",
    "    correction = 0.0\n",
    "    if n_diff > 0:\n",
    "        correction = history[-n_diff]\n",
    "        history = difference(history, n_diff)\n",
    "    \n",
    "    # shape input for model\n",
    "    x_input = array(history[-n_input:]).reshape((1, n_input))\n",
    "    \n",
    "    # make forecast\n",
    "    yhat = model.predict(x_input, verbose=0)\n",
    "    \n",
    "    # correct forecast if it was differenced\n",
    "    return correction + yhat[0]"
   ]
  },
  {
   "cell_type": "code",
   "execution_count": 81,
   "metadata": {},
   "outputs": [],
   "source": [
    "# walk-forward validation for univariate data\n",
    "def walk_forward_validation(data, n_test, cfg):\n",
    "    predictions = list()\n",
    "    \n",
    "    # split dataset\n",
    "    train, test = train_test_split(data, n_test)\n",
    "    \n",
    "    # fit model\n",
    "    model = model_fit(train, cfg)\n",
    "    \n",
    "    # seed history with training dataset\n",
    "    history = [x for x in train]\n",
    "    \n",
    "    # step over each time-step in the test set\n",
    "    for i in range(len(test)):\n",
    "        # fit model and make forecast for history\n",
    "        yhat = model_predict(model, history, cfg)\n",
    "        \n",
    "        # store forecast in list of predictions\n",
    "        predictions.append(yhat)\n",
    "        \n",
    "        # add actual observation to history for the next loop\n",
    "        history.append(test[i])\n",
    "        \n",
    "    # estimate prediction error\n",
    "    error = measure_rmse(test, predictions)\n",
    "    print(' > %.3f' % error)\n",
    "    \n",
    "    return error"
   ]
  },
  {
   "cell_type": "code",
   "execution_count": 82,
   "metadata": {},
   "outputs": [],
   "source": [
    "# score a model, return None on failure\n",
    "def repeat_evaluate(data, config, n_test, n_repeats=10):\n",
    "    # convert config to a key\n",
    "    key = str(config)\n",
    "    \n",
    "    # fit and evaluate the model n times\n",
    "    scores = [walk_forward_validation(data, n_test, config) for _ in range(n_repeats)]\n",
    "    \n",
    "    # summarize score\n",
    "    result = mean(scores)\n",
    "    print('> Model[%s] %.3f' % (key, result))\n",
    "    \n",
    "    return (key, result)\n",
    "\n",
    "# grid search configs\n",
    "def grid_search(data, cfg_list, n_test):\n",
    "    # evaluate configs\n",
    "    scores = scores = [repeat_evaluate(data, cfg, n_test) for cfg in cfg_list]\n",
    "    \n",
    "    # sort configs by error, asc\n",
    "    scores.sort(key=lambda tup: tup[1])\n",
    "    \n",
    "    return scores"
   ]
  },
  {
   "cell_type": "code",
   "execution_count": 83,
   "metadata": {},
   "outputs": [],
   "source": [
    "# create a list of configs to try\n",
    "def model_configs():\n",
    "    # define scope of configs\n",
    "    n_input = [12]\n",
    "    n_nodes = [50, 100]\n",
    "    n_epochs = [100]\n",
    "    n_batch = [1, 150]\n",
    "    n_diff = [0, 12]\n",
    "\n",
    "    # create configs\n",
    "    configs = list()\n",
    "    for i in n_input:\n",
    "        for j in n_nodes:\n",
    "            for k in n_epochs:\n",
    "                for l in n_batch:\n",
    "                    for m in n_diff:\n",
    "                        cfg = [i, j, k, l, m]\n",
    "                        configs.append(cfg)\n",
    "    print('Total configs: %d' % len(configs))\n",
    "    return configs"
   ]
  },
  {
   "cell_type": "code",
   "execution_count": 84,
   "metadata": {},
   "outputs": [],
   "source": [
    "# define dataset\n",
    "series = pd.read_csv('../data_and_models/airline-passenger.csv', header=0, index_col=0)\n",
    "data = series.values"
   ]
  },
  {
   "cell_type": "code",
   "execution_count": null,
   "metadata": {},
   "outputs": [],
   "source": [
    "# data split\n",
    "n_test = 12\n",
    "\n",
    "# model configs\n",
    "cfg_list = model_configs()\n",
    "\n",
    "# grid search\n",
    "scores = grid_search(data, cfg_list, n_test)\n",
    "\n",
    "print('done')\n",
    "# list top 3 configs\n",
    "for cfg, error in scores[:3]:\n",
    "    print(cfg, error)"
   ]
  },
  {
   "cell_type": "markdown",
   "metadata": {},
   "source": [
    "## 15.5 CNNs\n"
   ]
  },
  {
   "cell_type": "code",
   "execution_count": 88,
   "metadata": {},
   "outputs": [],
   "source": [
    "# grid search cnn for monthly airline passengers dataset\n",
    "from math import sqrt\n",
    "from numpy import array\n",
    "from numpy import mean\n",
    "from pandas import DataFrame\n",
    "from pandas import concat\n",
    "from pandas import read_csv\n",
    "from sklearn.metrics import mean_squared_error\n",
    "from keras.models import Sequential\n",
    "from keras.layers import Dense\n",
    "from keras.layers import Flatten\n",
    "from keras.layers.convolutional import Conv1D\n",
    "from keras.layers.convolutional import MaxPooling1D"
   ]
  },
  {
   "cell_type": "code",
   "execution_count": 89,
   "metadata": {},
   "outputs": [],
   "source": [
    "# fit a model\n",
    "def model_fit(train, config):\n",
    "    # unpack config\n",
    "    n_input, n_filters, n_kernel, n_epochs, n_batch, n_diff = config\n",
    "    \n",
    "    # prepare data\n",
    "    if n_diff > 0:\n",
    "        train = difference(train, n_diff)\n",
    "    \n",
    "    # transform series into supervised format\n",
    "    data = series_to_supervised(train, n_in=n_input)\n",
    "    # separate inputs and outputs\n",
    "    train_x, train_y = data[:, :-1], data[:, -1]\n",
    "    \n",
    "    # reshape input data into [samples, timesteps, features]\n",
    "    n_features = 1\n",
    "    train_x = train_x.reshape((train_x.shape[0], train_x.shape[1], n_features))\n",
    "    \n",
    "    # define model\n",
    "    model = Sequential()\n",
    "    model.add(Conv1D(filters=n_filters, kernel_size=n_kernel, activation='relu',\n",
    "    input_shape=(n_input, n_features)))\n",
    "    model.add(MaxPooling1D(pool_size=2))\n",
    "    model.add(Flatten())\n",
    "    model.add(Dense(1))\n",
    "    model.compile(loss='mse', optimizer='adam')\n",
    "    \n",
    "    # fit\n",
    "    model.fit(train_x, train_y, epochs=n_epochs, batch_size=n_batch, verbose=0)\n",
    "    return model"
   ]
  },
  {
   "cell_type": "code",
   "execution_count": 90,
   "metadata": {},
   "outputs": [],
   "source": [
    "# forecast with the fit model\n",
    "def model_predict(model, history, config):\n",
    "    # unpack config\n",
    "    n_input, _, _, _, _, n_diff = config\n",
    "    \n",
    "    # prepare data\n",
    "    correction = 0.0\n",
    "    if n_diff > 0:\n",
    "        correction = history[-n_diff]\n",
    "        history = difference(history, n_diff)\n",
    "    x_input = array(history[-n_input:]).reshape((1, n_input, 1))\n",
    "   \n",
    "    # forecast\n",
    "    yhat = model.predict(x_input, verbose=0)\n",
    "    \n",
    "    return correction + yhat[0]"
   ]
  },
  {
   "cell_type": "code",
   "execution_count": 91,
   "metadata": {},
   "outputs": [],
   "source": [
    "def model_configs():\n",
    "    # define scope of configs\n",
    "    n_input = [12]\n",
    "    n_filters = [64]\n",
    "    n_kernels = [3, 5]\n",
    "    n_epochs = [100]\n",
    "    n_batch = [1, 150]\n",
    "    n_diff = [0, 12]\n",
    "    # create configs\n",
    "    configs = list()\n",
    "    for a in n_input:\n",
    "        for b in n_filters:\n",
    "            for c in n_kernels:\n",
    "                for d in n_epochs:\n",
    "                    for e in n_batch:\n",
    "                        for f in n_diff:\n",
    "                            cfg = [a,b,c,d,e,f]\n",
    "                            configs.append(cfg)\n",
    "    print('Total configs: %d' % len(configs))\n",
    "    return configs"
   ]
  },
  {
   "cell_type": "code",
   "execution_count": 93,
   "metadata": {},
   "outputs": [
    {
     "name": "stdout",
     "output_type": "stream",
     "text": [
      "Total configs: 8\n",
      " > 19.631\n",
      " > 21.550\n",
      " > 25.016\n",
      " > 17.021\n",
      " > 26.741\n",
      " > 17.420\n",
      " > 18.950\n",
      " > 27.614\n",
      " > 38.216\n",
      " > 31.985\n",
      "> Model[[12, 64, 3, 100, 1, 0]] 24.414\n",
      " > 20.240\n",
      " > 19.492\n",
      " > 20.920\n",
      " > 20.819\n",
      " > 19.906\n",
      " > 20.733\n",
      " > 19.845\n",
      " > 20.592\n",
      " > 19.831\n",
      " > 19.292\n",
      "> Model[[12, 64, 3, 100, 1, 12]] 20.167\n",
      " > 81.722\n",
      " > 86.048\n",
      " > 70.959\n",
      " > 82.400\n",
      " > 70.845\n",
      " > 73.856\n",
      " > 83.625\n",
      " > 86.015\n",
      " > 81.897\n",
      " > 81.070\n",
      "> Model[[12, 64, 3, 100, 150, 0]] 79.843\n",
      " > 18.597\n",
      " > 19.423\n",
      " > 19.185\n",
      " > 19.324\n",
      " > 19.773\n",
      " > 19.740\n",
      " > 18.876\n",
      " > 19.312\n",
      " > 18.818\n",
      " > 18.936\n",
      "> Model[[12, 64, 3, 100, 150, 12]] 19.198\n",
      " > 18.981\n",
      " > 23.938\n",
      " > 19.812\n",
      " > 23.352\n",
      " > 18.407\n",
      " > 18.233\n",
      " > 21.024\n",
      " > 22.139\n",
      " > 17.963\n",
      " > 19.619\n",
      "> Model[[12, 64, 5, 100, 1, 0]] 20.347\n",
      " > 20.346\n",
      " > 19.468\n",
      " > 20.027\n",
      " > 19.441\n",
      " > 19.155\n",
      " > 18.934\n",
      " > 18.985\n",
      " > 17.320\n",
      " > 18.757\n",
      " > 18.034\n",
      "> Model[[12, 64, 5, 100, 1, 12]] 19.047\n",
      " > 86.240\n",
      " > 84.664\n",
      " > 91.095\n",
      " > 81.624\n",
      " > 76.943\n",
      " > 72.333\n",
      " > 75.970\n",
      " > 73.582\n",
      " > 85.603\n",
      " > 85.898\n",
      "> Model[[12, 64, 5, 100, 150, 0]] 81.395\n",
      " > 19.494\n",
      " > 19.536\n",
      " > 18.784\n",
      " > 18.643\n",
      " > 19.814\n",
      " > 19.468\n",
      " > 19.400\n",
      " > 19.917\n",
      " > 19.122\n",
      " > 20.598\n",
      "> Model[[12, 64, 5, 100, 150, 12]] 19.478\n",
      "done\n",
      "[12, 64, 5, 100, 1, 12] 19.04669094530535\n",
      "[12, 64, 3, 100, 150, 12] 19.19843247163115\n",
      "[12, 64, 5, 100, 150, 12] 19.477616537150087\n",
      "CPU times: user 10min 34s, sys: 31.3 s, total: 11min 5s\n",
      "Wall time: 8min 12s\n"
     ]
    }
   ],
   "source": [
    "%%time\n",
    "# data split\n",
    "n_test = 12\n",
    "\n",
    "# model configs\n",
    "cfg_list = model_configs()\n",
    "\n",
    "# grid search\n",
    "scores = grid_search(data, cfg_list, n_test)\n",
    "print('done')\n",
    "\n",
    "# list top 10 configs\n",
    "for cfg, error in scores[:3]:\n",
    "    print(cfg, error)"
   ]
  },
  {
   "cell_type": "code",
   "execution_count": 94,
   "metadata": {},
   "outputs": [
    {
     "ename": "SyntaxError",
     "evalue": "invalid syntax (<ipython-input-94-0152513e7755>, line 1)",
     "output_type": "error",
     "traceback": [
      "\u001b[0;36m  File \u001b[0;32m\"<ipython-input-94-0152513e7755>\"\u001b[0;36m, line \u001b[0;32m1\u001b[0m\n\u001b[0;31m    [12, 100, 100, 1, 12] 19.06148846919292\u001b[0m\n\u001b[0m                                          ^\u001b[0m\n\u001b[0;31mSyntaxError\u001b[0m\u001b[0;31m:\u001b[0m invalid syntax\n"
     ]
    }
   ],
   "source": [
    "[12, 100, 100, 1, 12] 19.06148846919292\n",
    "[12, 100, 100, 150, 12] 19.105602487171115\n",
    "[12, 50, 100, 1, 12] 19.686681506146975"
   ]
  },
  {
   "cell_type": "markdown",
   "metadata": {},
   "source": [
    "## 15.6 Long Short-Term Memory Network Model\n",
    "We can now adopt the framework for grid searching the hyperparameters of an LSTM model.\n",
    "For more details on modeling a univariate time series with an LSTM network, see Chapter 9.\n",
    "The hyperparameters for the LSTM model will be the same five as the MLP; they are:\n",
    "* n input: The number of prior inputs to use as input for the model (e.g. 12 months).\n",
    "* n nodes: The number of nodes to use in the hidden layer (e.g. 50).\n",
    "* n epochs: The number of training epochs (e.g. 1000).\n",
    "* n batch: The number of samples to include in each mini-batch (e.g. 32).\n",
    "* n diff: The difference order (e.g. 0 or 12).\n",
    "\n",
    "```python\n",
    "# define model\n",
    "model = Sequential()\n",
    "model.add(LSTM(n_nodes, activation='relu', input_shape=(n_input, n_features)))\n",
    "model.add(Dense(n_nodes, activation='relu'))\n",
    "model.add(Dense(1))\n",
    "model.compile(loss='mse', optimizer='adam')\n",
    "# fit model\n",
    "model.fit(train_x, train_y, epochs=n_epochs, batch_size=n_batch, verbose=0)\n",
    "```"
   ]
  },
  {
   "cell_type": "code",
   "execution_count": 1,
   "metadata": {},
   "outputs": [
    {
     "name": "stderr",
     "output_type": "stream",
     "text": [
      "Using TensorFlow backend.\n"
     ]
    }
   ],
   "source": [
    "# grid search lstm for monthly airline passengers dataset\n",
    "from math import sqrt\n",
    "from numpy import array\n",
    "from numpy import mean\n",
    "from pandas import DataFrame\n",
    "from pandas import concat\n",
    "from pandas import read_csv\n",
    "from sklearn.metrics import mean_squared_error\n",
    "from keras.models import Sequential\n",
    "from keras.layers import Dense\n",
    "from keras.layers import LSTM"
   ]
  },
  {
   "cell_type": "code",
   "execution_count": 46,
   "metadata": {},
   "outputs": [],
   "source": [
    "# root mean squared error or rmse\n",
    "def measure_rmse(actual, predicted):\n",
    "    return sqrt(mean_squared_error(actual, predicted))"
   ]
  },
  {
   "cell_type": "code",
   "execution_count": 2,
   "metadata": {},
   "outputs": [],
   "source": [
    "# split a univariate dataset into train/test sets\n",
    "def train_test_split(data, n_test):\n",
    "    return data[:-n_test], data[-n_test:]"
   ]
  },
  {
   "cell_type": "code",
   "execution_count": 30,
   "metadata": {},
   "outputs": [],
   "source": [
    "# difference dataset\n",
    "def difference(data, order):\n",
    "    return [data[i] - data[i - order] for i in range(order, len(data))]"
   ]
  },
  {
   "cell_type": "code",
   "execution_count": 3,
   "metadata": {},
   "outputs": [],
   "source": [
    "# transform list into supervised learning format\n",
    "def series_to_supervised(data, n_in, n_out=1):\n",
    "    df = DataFrame(data)\n",
    "    cols = list()\n",
    "\n",
    "    # input sequence (t-n, ... t-1)\n",
    "    for i in range(n_in, 0, -1):\n",
    "        cols.append(df.shift(i))\n",
    "    \n",
    "    # forecast sequence (t, t+1, ... t+n)\n",
    "    for i in range(0, n_out):\n",
    "        cols.append(df.shift(-i))\n",
    "    \n",
    "    # put it all together\n",
    "    agg = concat(cols, axis=1)\n",
    "    \n",
    "    # drop rows with NaN values\n",
    "    agg.dropna(inplace=True)\n",
    "    \n",
    "    return agg.values"
   ]
  },
  {
   "cell_type": "code",
   "execution_count": 32,
   "metadata": {},
   "outputs": [],
   "source": [
    "# fit a model\n",
    "def model_fit_lstm(train, config):\n",
    "    # unpack config\n",
    "    n_input, n_nodes, n_epochs, n_batch, n_diff = config\n",
    "    \n",
    "    # prepare data\n",
    "    if n_diff > 0:\n",
    "        train = difference(train, n_diff)\n",
    "    \n",
    "    # transform series into supervised format\n",
    "    data = series_to_supervised(train, n_in=n_input)\n",
    "    # separate inputs and outputs\n",
    "    train_x, train_y = data[:, :-1], data[:, -1]\n",
    "    \n",
    "    # reshape input data into [samples, timesteps, features]\n",
    "    n_features = 1\n",
    "    train_x = train_x.reshape((train_x.shape[0], train_x.shape[1], n_features))\n",
    "    \n",
    "    # define model\n",
    "    model = Sequential()\n",
    "    model.add(LSTM(n_nodes, activation='relu', input_shape=(n_input, n_features)))\n",
    "    model.add(Dense(n_nodes, activation='relu'))\n",
    "    model.add(Dense(1))\n",
    "    model.compile(loss='mse', optimizer='adam')\n",
    "    \n",
    "    # fit\n",
    "    model.fit(train_x, train_y, epochs=n_epochs, batch_size=n_batch, verbose=0)\n",
    "    return model"
   ]
  },
  {
   "cell_type": "code",
   "execution_count": 33,
   "metadata": {},
   "outputs": [],
   "source": [
    "# forecast with the fit model\n",
    "def model_predict_lstm(model, history, config):\n",
    "    # unpack config\n",
    "    n_input, _, _, _, n_diff = config\n",
    "    \n",
    "    # prepare data\n",
    "    correction = 0.0\n",
    "    if n_diff > 0:\n",
    "        correction = history[-n_diff]\n",
    "        history = difference(history, n_diff)\n",
    "    x_input = array(history[-n_input:]).reshape((1, n_input, 1))\n",
    "   \n",
    "    # forecast\n",
    "    yhat = model.predict(x_input, verbose=0)\n",
    "    \n",
    "    return correction + yhat[0]"
   ]
  },
  {
   "cell_type": "code",
   "execution_count": 34,
   "metadata": {},
   "outputs": [],
   "source": [
    "# walk-forward validation for univariate data\n",
    "def walk_forward_validation_lstm(data, n_test, cfg):\n",
    "    predictions = list()\n",
    "    \n",
    "    # split dataset\n",
    "    train, test = train_test_split(data, n_test)\n",
    "    \n",
    "    # fit model\n",
    "    model = model_fit_lstm(train, cfg)\n",
    "    \n",
    "    # seed history with training dataset\n",
    "    history = [x for x in train]\n",
    "    \n",
    "    # step over each time-step in the test set\n",
    "    for i in range(len(test)):\n",
    "        # fit model and make forecast for history\n",
    "        yhat = model_predict_lstm(model, history, cfg)\n",
    "        \n",
    "        # store forecast in list of predictions\n",
    "        predictions.append(yhat)\n",
    "        \n",
    "        # add actual observation to history for the next loop\n",
    "        history.append(test[i])\n",
    "        \n",
    "    # estimate prediction error\n",
    "    error = measure_rmse(test, predictions)\n",
    "    print(' > %.3f' % error)\n",
    "    \n",
    "    return error"
   ]
  },
  {
   "cell_type": "code",
   "execution_count": 35,
   "metadata": {},
   "outputs": [],
   "source": [
    "# score a model, return None on failure\n",
    "def repeat_evaluate(data, config, n_test, n_repeats=10):\n",
    "    # convert config to a key\n",
    "    key = str(config)\n",
    "    \n",
    "    # fit and evaluate the model n times\n",
    "    scores = [walk_forward_validation_lstm(data, n_test, config) for _ in range(n_repeats)]\n",
    "    \n",
    "    # summarize score\n",
    "    result = mean(scores)\n",
    "    print('> Model[%s] %.3f' % (key, result))\n",
    "    return (key, result)"
   ]
  },
  {
   "cell_type": "code",
   "execution_count": 36,
   "metadata": {},
   "outputs": [],
   "source": [
    "# create a list of configs to try\n",
    "def model_configs_lstm():\n",
    "    # define scope of configs\n",
    "    n_input = [12]\n",
    "    n_nodes = [100]\n",
    "    n_epochs = [100]\n",
    "    n_batch = [1, 150]\n",
    "    n_diff = [12]\n",
    "\n",
    "    # create configs\n",
    "    configs = list()\n",
    "    for i in n_input:\n",
    "        for j in n_nodes:\n",
    "            for k in n_epochs:\n",
    "                for l in n_batch:\n",
    "                    for m in n_diff:\n",
    "                        cfg = [i, j, k, l, m]\n",
    "                        configs.append(cfg)\n",
    "    print('Total configs: %d' % len(configs))\n",
    "    return configs"
   ]
  },
  {
   "cell_type": "code",
   "execution_count": 37,
   "metadata": {},
   "outputs": [],
   "source": [
    "# grid search configs\n",
    "def grid_search(data, cfg_list, n_test):\n",
    "    # evaluate configs\n",
    "    scores = [repeat_evaluate(data, cfg, n_test) for cfg in cfg_list]\n",
    "    \n",
    "    # sort configs by error, asc\n",
    "    scores.sort(key=lambda tup: tup[1])\n",
    "    \n",
    "    return scores\n"
   ]
  },
  {
   "cell_type": "code",
   "execution_count": 48,
   "metadata": {},
   "outputs": [
    {
     "name": "stdout",
     "output_type": "stream",
     "text": [
      "Total configs: 2\n",
      " > 22.386\n",
      " > 21.881\n",
      " > 31.541\n",
      " > 33.765\n",
      " > 24.281\n",
      " > 19.710\n",
      " > 22.497\n",
      " > 18.430\n",
      " > 20.553\n",
      " > 27.632\n",
      "> Model[[12, 100, 100, 1, 12]] 24.268\n",
      " > 23.138\n",
      " > 25.026\n",
      " > 18.997\n",
      " > 20.082\n",
      " > 20.239\n",
      " > 25.648\n",
      " > 21.359\n",
      " > 23.385\n",
      " > 18.732\n",
      " > 25.904\n",
      "> Model[[12, 100, 100, 150, 12]] 22.251\n",
      "done\n",
      "[12, 100, 100, 150, 12] 22.251091556997228\n",
      "[12, 100, 100, 1, 12] 24.267532783547612\n",
      "CPU times: user 17min 15s, sys: 1min 35s, total: 18min 51s\n",
      "Wall time: 8min 53s\n"
     ]
    }
   ],
   "source": [
    "%%time\n",
    "# define dataset\n",
    "series = pd.read_csv('../data_and_models/airline-passenger.csv', header=0, index_col=0)\n",
    "data = series.values\n",
    "\n",
    "# data split\n",
    "n_test = 12\n",
    "\n",
    "# model configs\n",
    "cfg_list = model_configs_lstm()\n",
    "\n",
    "# grid search\n",
    "scores = grid_search(data, cfg_list, n_test)\n",
    "print('done')\n",
    "\n",
    "# list top 10 configs\n",
    "for cfg, error in scores[:3]:\n",
    "    print(cfg, error)"
   ]
  },
  {
   "cell_type": "code",
   "execution_count": null,
   "metadata": {},
   "outputs": [],
   "source": []
  }
 ],
 "metadata": {
  "kernelspec": {
   "display_name": "scorecard",
   "language": "python",
   "name": "scorecard"
  },
  "language_info": {
   "codemirror_mode": {
    "name": "ipython",
    "version": 3
   },
   "file_extension": ".py",
   "mimetype": "text/x-python",
   "name": "python",
   "nbconvert_exporter": "python",
   "pygments_lexer": "ipython3",
   "version": "3.7.7"
  }
 },
 "nbformat": 4,
 "nbformat_minor": 4
}
