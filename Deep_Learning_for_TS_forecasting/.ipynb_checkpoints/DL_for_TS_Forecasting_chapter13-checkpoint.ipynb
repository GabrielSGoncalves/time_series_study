{
 "cells": [
  {
   "cell_type": "markdown",
   "metadata": {},
   "source": [
    "# Study based on Chapter 11"
   ]
  },
  {
   "cell_type": "markdown",
   "metadata": {},
   "source": [
    "### 11.1. Tutorial Overview\n",
    "This tutorial is divided into six parts; they are:\n",
    "1. Simple Forecasting Strategies\n",
    "2. Develop a Grid Search Framework\n",
    "3. Case Study 1: No Trend or Seasonality\n",
    "4. Case Study 2: Trend\n",
    "5. Case Study 3: Seasonality\n",
    "6. Case Study 4: Trend and Seasonality\n",
    "\n",
    "### 11.2 Simple Forecasting Strategies\n",
    "It is important and useful to test simple forecast strategies prior to testing more complex models.\n",
    "Simple forecast strategies are those that assume little or nothing about the nature of the forecast\n",
    "problem and are fast to implement and calculate. The results can be used as a baseline in\n",
    "performance and used as a point of a comparison. If a model can perform better than the\n",
    "performance of a simple forecast strategy, then it can be said to be skillful. There are two main\n",
    "themes to simple forecast strategies; they are:\n",
    "* Naive, or using observations values directly.\n",
    "* Average, or using a statistic calculated on previous observations."
   ]
  },
  {
   "cell_type": "markdown",
   "metadata": {},
   "source": [
    "### 11.3 Develop a Grid Search Framework"
   ]
  },
  {
   "cell_type": "code",
   "execution_count": 1,
   "metadata": {},
   "outputs": [],
   "source": [
    "# grid search simple forecasts\n",
    "from math import sqrt\n",
    "from numpy import mean\n",
    "from numpy import median\n",
    "from multiprocessing import cpu_count\n",
    "from joblib import Parallel\n",
    "from joblib import delayed\n",
    "from warnings import catch_warnings\n",
    "from warnings import filterwarnings\n",
    "from sklearn.metrics import mean_squared_error"
   ]
  },
  {
   "cell_type": "code",
   "execution_count": 2,
   "metadata": {},
   "outputs": [],
   "source": [
    "# one-step naive forecast\n",
    "def naive_forecast(history, n):\n",
    "    return history[-n]"
   ]
  },
  {
   "cell_type": "code",
   "execution_count": 3,
   "metadata": {},
   "outputs": [
    {
     "name": "stdout",
     "output_type": "stream",
     "text": [
      "[10.0, 20.0, 30.0, 40.0, 50.0, 60.0, 70.0, 80.0, 90.0, 100.0]\n",
      "100.0\n",
      "90.0\n",
      "80.0\n",
      "70.0\n",
      "60.0\n",
      "50.0\n",
      "40.0\n",
      "30.0\n",
      "20.0\n",
      "10.0\n"
     ]
    }
   ],
   "source": [
    "# define dataset\n",
    "data = [10.0, 20.0, 30.0, 40.0, 50.0, 60.0, 70.0, 80.0, 90.0, 100.0]\n",
    "print(data)\n",
    "# test naive forecast\n",
    "for i in range(1, len(data)+1):\n",
    "    print(naive_forecast(data, i))"
   ]
  },
  {
   "cell_type": "code",
   "execution_count": 4,
   "metadata": {},
   "outputs": [
    {
     "data": {
      "text/plain": [
       "80.0"
      ]
     },
     "execution_count": 4,
     "metadata": {},
     "output_type": "execute_result"
    }
   ],
   "source": [
    "history = data\n",
    "n = 5\n",
    "\n",
    "# mean forecast\n",
    "from numpy import mean\n",
    "result = mean(data[-n:])\n",
    "result"
   ]
  },
  {
   "cell_type": "code",
   "execution_count": 5,
   "metadata": {},
   "outputs": [
    {
     "data": {
      "text/plain": [
       "80.0"
      ]
     },
     "execution_count": 5,
     "metadata": {},
     "output_type": "execute_result"
    }
   ],
   "source": [
    "# median forecast\n",
    "from numpy import median\n",
    "result = median(history[-n:])\n",
    "result"
   ]
  },
  {
   "cell_type": "markdown",
   "metadata": {},
   "source": [
    "### 11.9 `average_forecast` function"
   ]
  },
  {
   "cell_type": "code",
   "execution_count": 6,
   "metadata": {},
   "outputs": [],
   "source": [
    "# example of an average forecast\n",
    "from numpy import mean\n",
    "from numpy import median\n",
    "\n",
    "# one-step average forecast\n",
    "def average_forecast(history, n=1, avg_type='mean'):\n",
    "    \"\"\"\n",
    "    Forecasts a time series based on the average of past values.\n",
    "    \n",
    "    Args:\n",
    "        history (list or numpy.array): The Time Series to be used.\n",
    "        n (int): The position to consider when slicing the history.\n",
    "        avg_type (str, default='mean'): Method to apply to the sliced list,\n",
    "            'mean' or 'median'\n",
    "    \n",
    "    Returns:\n",
    "        float: The averaged forecast.\n",
    "    \"\"\"\n",
    "    # mean of last n values\n",
    "    if avg_type is 'mean':\n",
    "        return mean(history[-n:])\n",
    "    \n",
    "    # median of last n values\n",
    "    return median(history[-n:])"
   ]
  },
  {
   "cell_type": "code",
   "execution_count": 7,
   "metadata": {},
   "outputs": [
    {
     "name": "stdout",
     "output_type": "stream",
     "text": [
      "[10.0, 20.0, 30.0, 40.0, 50.0, 60.0, 70.0, 80.0, 90.0, 100.0]\n",
      "100.0\n",
      "95.0\n",
      "90.0\n",
      "85.0\n",
      "80.0\n",
      "75.0\n",
      "70.0\n",
      "65.0\n",
      "60.0\n",
      "55.0\n"
     ]
    }
   ],
   "source": [
    "# define dataset\n",
    "data = [10.0, 20.0, 30.0, 40.0, 50.0, 60.0, 70.0, 80.0, 90.0, 100.0]\n",
    "print(data)\n",
    "# test naive forecast\n",
    "for i in range(1, len(data)+1):\n",
    "    print(average_forecast(data, i, 'mean'))"
   ]
  },
  {
   "cell_type": "markdown",
   "metadata": {},
   "source": [
    "### 11.10 `one_step_average_forecast` function"
   ]
  },
  {
   "cell_type": "code",
   "execution_count": 8,
   "metadata": {},
   "outputs": [],
   "source": [
    "def one_step_average_forecast(history, n=1, offset=3, avg_type='mean'):\n",
    "    \"\"\"\n",
    "    Forecasts with offset a time series based on the average of past values.\n",
    "    \n",
    "    Args:\n",
    "        history (list or numpy.array): The Time Series to be used.\n",
    "        offset (int): Value of offset to consider.\n",
    "        n (int): The position to consider when slicing the history.\n",
    "        avg_type (str, default='mean'): Method to apply to the sliced list,\n",
    "            'mean' or 'median'\n",
    "    \n",
    "    Returns:\n",
    "        float: The averaged forecast.\n",
    "\n",
    "    \"\"\"\n",
    "    values = list() # or []\n",
    "    \n",
    "    if offset == 1:\n",
    "        values = history[-n:]\n",
    "    \n",
    "    else:\n",
    "        # skip bad configs\n",
    "        if n * offset > len(history):\n",
    "            raise Exception( 'Config beyond end of data: %d %d ' % (n,offset))\n",
    "   \n",
    "    # try and collect n values using offset\n",
    "    for i in range(1, n+1):\n",
    "        ix = i * offset\n",
    "        print(ix)\n",
    "        values.append(history[-ix])\n",
    "    \n",
    "    # mean of last n values\n",
    "    if avg_type is 'mean' :\n",
    "        return mean(values), values\n",
    "    \n",
    "    # median of last n values\n",
    "    return median(values), values"
   ]
  },
  {
   "cell_type": "code",
   "execution_count": 9,
   "metadata": {},
   "outputs": [
    {
     "name": "stdout",
     "output_type": "stream",
     "text": [
      "[10.0, 20.0, 30.0, 10.0, 20.0, 30.0, 10.0, 20.0, 30.0, 10.0, 20.0, 30.0, 10.0, 20.0, 30.0, 10.0, 20.0, 30.0]\n"
     ]
    }
   ],
   "source": [
    "# define dataset\n",
    "data = [10.0, 20.0, 30.0, 10.0, 20.0, 30.0, 10.0, 20.0, 30.0, 10.0, \n",
    "        20.0, 30.0, 10.0, 20.0, 30.0, 10.0, 20.0, 30.0]\n",
    "print(data)"
   ]
  },
  {
   "cell_type": "code",
   "execution_count": 10,
   "metadata": {},
   "outputs": [
    {
     "name": "stdout",
     "output_type": "stream",
     "text": [
      "1\n",
      "2\n",
      "3\n"
     ]
    },
    {
     "data": {
      "text/plain": [
       "(20.0, [10.0, 20.0, 30.0, 30.0, 20.0, 10.0])"
      ]
     },
     "execution_count": 10,
     "metadata": {},
     "output_type": "execute_result"
    }
   ],
   "source": [
    "one_step_average_forecast(data, 3, 1, ' mean ' )"
   ]
  },
  {
   "cell_type": "code",
   "execution_count": 11,
   "metadata": {},
   "outputs": [
    {
     "name": "stdout",
     "output_type": "stream",
     "text": [
      "2\n",
      "4\n",
      "6\n"
     ]
    },
    {
     "data": {
      "text/plain": [
       "(20.0, [20.0, 30.0, 10.0])"
      ]
     },
     "execution_count": 11,
     "metadata": {},
     "output_type": "execute_result"
    }
   ],
   "source": [
    "one_step_average_forecast(data, 3, 2, ' mean ' )"
   ]
  },
  {
   "cell_type": "code",
   "execution_count": 12,
   "metadata": {},
   "outputs": [
    {
     "name": "stdout",
     "output_type": "stream",
     "text": [
      "3\n",
      "6\n",
      "9\n"
     ]
    },
    {
     "data": {
      "text/plain": [
       "(10.0, [10.0, 10.0, 10.0])"
      ]
     },
     "execution_count": 12,
     "metadata": {},
     "output_type": "execute_result"
    }
   ],
   "source": [
    "one_step_average_forecast(data, 3, 3, ' mean ' )"
   ]
  },
  {
   "cell_type": "code",
   "execution_count": 13,
   "metadata": {},
   "outputs": [
    {
     "name": "stdout",
     "output_type": "stream",
     "text": [
      "3\n",
      "(10.0, [10.0])\n",
      "3\n",
      "6\n",
      "(10.0, [10.0, 10.0])\n",
      "3\n",
      "6\n",
      "9\n",
      "(10.0, [10.0, 10.0, 10.0])\n"
     ]
    }
   ],
   "source": [
    "# test naive forecast\n",
    "for i in [1, 2, 3]:\n",
    "    print(one_step_average_forecast(data, i, 3, ' mean ' ))"
   ]
  },
  {
   "cell_type": "markdown",
   "metadata": {},
   "source": [
    "### 11.11 `one_step_average_forecast_with_persist` function"
   ]
  },
  {
   "cell_type": "code",
   "execution_count": 14,
   "metadata": {},
   "outputs": [],
   "source": [
    "def one_step_average_forecast_with_persist(history, n=1, offset=3, avg_type='mean'):\n",
    "    \"\"\"\n",
    "    Forecasts with offset a time series based on the average of past values.\n",
    "    \n",
    "    Args:\n",
    "        history (list or numpy.array): The Time Series to be used.\n",
    "        offset (int): Value of offset to consider.\n",
    "        n (int): The position to consider when slicing the history.\n",
    "        avg_type (str, default='mean'): Method to apply to the sliced list,\n",
    "            'mean', 'median' or 'persist'.\n",
    "    \n",
    "    Returns:\n",
    "        float: The averaged forecast.\n",
    "\n",
    "    \"\"\"\n",
    "    # persist value, ignore other config\n",
    "    if avg_type == 'persist':\n",
    "        return history[-n]\n",
    "    \n",
    "    values = list() # or []\n",
    "    \n",
    "    if offset == 1:\n",
    "        values = history[-n:]\n",
    "    \n",
    "    else:\n",
    "        # skip bad configs\n",
    "        if n * offset > len(history):\n",
    "            raise Exception( 'Config beyond end of data: %d %d ' % (n,offset))\n",
    "   \n",
    "    # try and collect n values using offset\n",
    "    for i in range(1, n+1):\n",
    "        ix = i * offset\n",
    "        print(ix)\n",
    "        values.append(history[-ix])\n",
    "    \n",
    "    # check if we can average\n",
    "    if len(values) < 2:\n",
    "        raise Exception('Cannot calculate average')\n",
    "    \n",
    "    # mean of last n values\n",
    "    if avg_type is 'mean' :\n",
    "        return mean(values)\n",
    "    \n",
    "    # median of last n values\n",
    "    return median(values)"
   ]
  },
  {
   "cell_type": "markdown",
   "metadata": {},
   "source": [
    "### HOMEWORK -  Add parameters description to docstring"
   ]
  },
  {
   "cell_type": "code",
   "execution_count": 15,
   "metadata": {},
   "outputs": [],
   "source": [
    "# split a univariate dataset into train/test sets\n",
    "def train_test_split(data, n_test):\n",
    "    \"\"\"\n",
    "    Split time series in train and test sets.\n",
    "    \"\"\"\n",
    "    return data[:-n_test], data[-n_test:]"
   ]
  },
  {
   "cell_type": "markdown",
   "metadata": {},
   "source": [
    "### HOMEWORK -  Add parameters description to docstring"
   ]
  },
  {
   "cell_type": "code",
   "execution_count": 16,
   "metadata": {},
   "outputs": [],
   "source": [
    "# root mean squared error or rmse\n",
    "def measure_rmse(actual, predicted):\n",
    "    \"\"\"\n",
    "    Calculare Root Mean Squared.\n",
    "    \"\"\"\n",
    "    return sqrt(mean_squared_error(actual, predicted))"
   ]
  },
  {
   "cell_type": "code",
   "execution_count": 17,
   "metadata": {},
   "outputs": [
    {
     "data": {
      "text/plain": [
       "2.345207879911715"
      ]
     },
     "execution_count": 17,
     "metadata": {},
     "output_type": "execute_result"
    }
   ],
   "source": [
    "sqrt(mean_squared_error([20,22,25,34], [18,21, 24, 30]))"
   ]
  },
  {
   "cell_type": "markdown",
   "metadata": {},
   "source": [
    "#### Listing 11.15: Example of a function for performing walk-forward validation."
   ]
  },
  {
   "cell_type": "code",
   "execution_count": 40,
   "metadata": {},
   "outputs": [],
   "source": [
    "# walk-forward validation for univariate data\n",
    "def walk_forward_validation(data, n_test, n=2, offset=3, avg_type='mean'):\n",
    "    \"\"\"\n",
    "    Validation function.\n",
    "    \n",
    "    Args:\n",
    "        data (list or numpy.array): The Time Series to be used.\n",
    "        n_test (int): \n",
    "        offset (int): Value of offset to consider.\n",
    "        n (int): The position to consider when slicing the history.\n",
    "        avg_type (str, default='mean'): Method to apply to the sliced list,\n",
    "            'mean', 'median' or 'persist'.\n",
    "    Return:\n",
    "        error (float): Error value associated with validation.\n",
    "\n",
    "    \"\"\"\n",
    "    predictions = list()\n",
    "    \n",
    "    # split dataset\n",
    "    train, test = train_test_split(data, n_test)\n",
    "    \n",
    "    # seed history with training dataset\n",
    "    history = [x for x in train]\n",
    "    \n",
    "    # step over each time step in the test set\n",
    "    for i in range(len(test)):\n",
    "        # fit model and make forecast for history\n",
    "        yhat = one_step_average_forecast_with_persist(history, n, offset, avg_type)\n",
    "        print(yhat)\n",
    "        \n",
    "        # store forecast in list of predictions\n",
    "        predictions.append(yhat)\n",
    "        \n",
    "        # add actual observation to history for the next loop\n",
    "        history.append(test[i])\n",
    "        \n",
    "    # estimate prediction error\n",
    "    error = measure_rmse(test, predictions)\n",
    "    return error"
   ]
  },
  {
   "cell_type": "code",
   "execution_count": 41,
   "metadata": {},
   "outputs": [
    {
     "name": "stdout",
     "output_type": "stream",
     "text": [
      "1\n",
      "2\n",
      "35.5\n",
      "1\n",
      "2\n",
      "44.5\n",
      "1\n",
      "2\n",
      "50.0\n",
      "1\n",
      "2\n",
      "51.5\n"
     ]
    },
    {
     "data": {
      "text/plain": [
       "8.828221791504788"
      ]
     },
     "execution_count": 41,
     "metadata": {},
     "output_type": "execute_result"
    }
   ],
   "source": [
    "walk_forward_validation(data, 4, 2, 1, avg_type='mean')"
   ]
  },
  {
   "cell_type": "markdown",
   "metadata": {},
   "source": [
    "#### Listing 11.16: Example of a function the robust evaluation of a model"
   ]
  },
  {
   "cell_type": "code",
   "execution_count": 42,
   "metadata": {},
   "outputs": [],
   "source": [
    "def score_model(data, n_test, n=3, offset=3, avg_type='mean', debug=False):\n",
    "    \"\"\"\n",
    "    \"\"\"\n",
    "    result = None\n",
    "    \n",
    "    # show all warnings and fail on exception if debugging\n",
    "    if debug:\n",
    "        result = walk_forward_validation(data, n_test, n, offset, avg_type)\n",
    "    else:\n",
    "        # one failure during model validation suggests an unstable config\n",
    "        try:\n",
    "        # never show warnings when grid searching, too noisy\n",
    "            with catch_warnings():\n",
    "                filterwarnings(\"ignore\")\n",
    "                result = walk_forward_validation(data, n_test, n, offset, avg_type)\n",
    "        except:\n",
    "            error = None\n",
    "    # check for an interesting result\n",
    "    if result is not None:\n",
    "        print(f\" > Model[{n} {offset} {avg_type}] {result}\")\n",
    "    return (f\"{n} {offset} {avg_type}\", result)"
   ]
  },
  {
   "cell_type": "code",
   "execution_count": 46,
   "metadata": {},
   "outputs": [
    {
     "name": "stdout",
     "output_type": "stream",
     "text": [
      "3\n",
      "6\n",
      "9\n",
      "43.666666666666664\n",
      "3\n",
      "6\n",
      "9\n",
      "41.666666666666664\n",
      "3\n",
      "6\n",
      "9\n",
      "38.666666666666664\n",
      "3\n",
      "6\n",
      "9\n",
      "42.666666666666664\n",
      "3\n",
      "6\n",
      "9\n",
      "45.0\n",
      " > Model[3 3 mean] 9.115310685264047\n"
     ]
    },
    {
     "data": {
      "text/plain": [
       "('3 3 mean', 9.115310685264047)"
      ]
     },
     "execution_count": 46,
     "metadata": {},
     "output_type": "execute_result"
    }
   ],
   "source": [
    "score_model(data, 5)"
   ]
  },
  {
   "cell_type": "markdown",
   "metadata": {},
   "source": [
    "#### Listing 11.21: Example of evaluating a suite of configurations in sequence"
   ]
  },
  {
   "cell_type": "code",
   "execution_count": null,
   "metadata": {},
   "outputs": [],
   "source": [
    "# create a set of simple configs to try\n",
    "def simple_configs(max_length, offsets=[1]):\n",
    "    \"\"\"\n",
    "    \n",
    "    \"\"\"\n",
    "    configs = list() # []\n",
    "    for i in range(1, max_length+1):\n",
    "        for o in offsets:\n",
    "            for t in ['persist', 'mean', 'median']:\n",
    "                cfg = [i, o, t]\n",
    "                configs.append(cfg)\n",
    "    return configs"
   ]
  },
  {
   "cell_type": "code",
   "execution_count": null,
   "metadata": {},
   "outputs": [],
   "source": [
    "simple_configs"
   ]
  },
  {
   "cell_type": "code",
   "execution_count": null,
   "metadata": {},
   "outputs": [],
   "source": [
    "# grid search configs\n",
    "def grid_search(data, cfg_list, n_test, parallel=True):\n",
    "    scores = None\n",
    "    if parallel:\n",
    "        # execute configs in parallel\n",
    "        executor = Parallel(n_jobs=cpu_count(), backend='multiprocessing')\n",
    "        tasks = (delayed(score_model)(data, n_test, cfg) for cfg in cfg_list)\n",
    "        scores = executor(tasks)\n",
    "    else:\n",
    "        scores = [score_model(data, n_test, cfg) for cfg in cfg_list]\n",
    "    # remove empty results\n",
    "    scores = [r for r in scores if r[1] != None]\n",
    "    # sort configs by error, asc\n",
    "    scores.sort(key=lambda tup: tup[1])\n",
    "    return scores\n"
   ]
  },
  {
   "cell_type": "code",
   "execution_count": null,
   "metadata": {},
   "outputs": [],
   "source": [
    "# define dataset\n",
    "data = [10.0, 20.0, 30.0, 40.0, 50.0, 60.0, 70.0, 80.0, 90.0, 100.0]\n",
    "# data split\n",
    "n_test = 4\n",
    "# model configs\n",
    "max_length = len(data) - n_test\n",
    "cfg_list = simple_configs(max_length)\n",
    "# grid search\n",
    "scores = grid_search(data, cfg_list, n_test)\n",
    "print('done')"
   ]
  },
  {
   "cell_type": "code",
   "execution_count": null,
   "metadata": {},
   "outputs": [],
   "source": [
    "# list top 3 configs\n",
    "for cfg, error in scores[:3]:\n",
    "    print(cfg, error)"
   ]
  },
  {
   "cell_type": "code",
   "execution_count": null,
   "metadata": {},
   "outputs": [],
   "source": [
    "cfg_list\n",
    "max_length"
   ]
  },
  {
   "cell_type": "markdown",
   "metadata": {},
   "source": [
    "### 11.4 Case Study 1: No Trend or Seasonality"
   ]
  },
  {
   "cell_type": "code",
   "execution_count": 32,
   "metadata": {},
   "outputs": [],
   "source": [
    "import pandas as pd\n",
    "import matplotlib.pyplot as plt"
   ]
  },
  {
   "cell_type": "code",
   "execution_count": 33,
   "metadata": {},
   "outputs": [
    {
     "data": {
      "text/plain": [
       "(365, 1)"
      ]
     },
     "execution_count": 33,
     "metadata": {},
     "output_type": "execute_result"
    }
   ],
   "source": [
    "# load\n",
    "series = pd.read_csv('../data_and_models/daily-total-female-births.csv', header=0, index_col=0)\n",
    "# summarize shape\n",
    "series.shape"
   ]
  },
  {
   "cell_type": "code",
   "execution_count": 34,
   "metadata": {},
   "outputs": [
    {
     "data": {
      "text/html": [
       "<div>\n",
       "<style scoped>\n",
       "    .dataframe tbody tr th:only-of-type {\n",
       "        vertical-align: middle;\n",
       "    }\n",
       "\n",
       "    .dataframe tbody tr th {\n",
       "        vertical-align: top;\n",
       "    }\n",
       "\n",
       "    .dataframe thead th {\n",
       "        text-align: right;\n",
       "    }\n",
       "</style>\n",
       "<table border=\"1\" class=\"dataframe\">\n",
       "  <thead>\n",
       "    <tr style=\"text-align: right;\">\n",
       "      <th></th>\n",
       "      <th>Births</th>\n",
       "    </tr>\n",
       "    <tr>\n",
       "      <th>Date</th>\n",
       "      <th></th>\n",
       "    </tr>\n",
       "  </thead>\n",
       "  <tbody>\n",
       "    <tr>\n",
       "      <th>1959-01-01</th>\n",
       "      <td>35</td>\n",
       "    </tr>\n",
       "    <tr>\n",
       "      <th>1959-01-02</th>\n",
       "      <td>32</td>\n",
       "    </tr>\n",
       "    <tr>\n",
       "      <th>1959-01-03</th>\n",
       "      <td>30</td>\n",
       "    </tr>\n",
       "    <tr>\n",
       "      <th>1959-01-04</th>\n",
       "      <td>31</td>\n",
       "    </tr>\n",
       "    <tr>\n",
       "      <th>1959-01-05</th>\n",
       "      <td>44</td>\n",
       "    </tr>\n",
       "  </tbody>\n",
       "</table>\n",
       "</div>"
      ],
      "text/plain": [
       "            Births\n",
       "Date              \n",
       "1959-01-01      35\n",
       "1959-01-02      32\n",
       "1959-01-03      30\n",
       "1959-01-04      31\n",
       "1959-01-05      44"
      ]
     },
     "execution_count": 34,
     "metadata": {},
     "output_type": "execute_result"
    }
   ],
   "source": [
    "series.head()"
   ]
  },
  {
   "cell_type": "code",
   "execution_count": 35,
   "metadata": {},
   "outputs": [
    {
     "data": {
      "image/png": "[encoded data removed]",
      "text/plain": [
       "<Figure size 432x288 with 1 Axes>"
      ]
     },
     "metadata": {
      "needs_background": "light"
     },
     "output_type": "display_data"
    }
   ],
   "source": [
    "# plot\n",
    "plt.plot(series)\n",
    "plt.xticks([])\n",
    "plt.show()"
   ]
  },
  {
   "cell_type": "code",
   "execution_count": null,
   "metadata": {},
   "outputs": [],
   "source": []
  },
  {
   "cell_type": "code",
   "execution_count": 36,
   "metadata": {},
   "outputs": [],
   "source": [
    "# grid search simple forecast for daily female births\n",
    "from math import sqrt\n",
    "from numpy import mean\n",
    "from numpy import median\n",
    "from multiprocessing import cpu_count\n",
    "from joblib import Parallel\n",
    "from joblib import delayed\n",
    "from warnings import catch_warnings\n",
    "from warnings import filterwarnings\n",
    "from sklearn.metrics import mean_squared_error\n",
    "from pandas import read_csv"
   ]
  },
  {
   "cell_type": "code",
   "execution_count": 37,
   "metadata": {},
   "outputs": [
    {
     "ename": "NameError",
     "evalue": "name 'simple_configs' is not defined",
     "output_type": "error",
     "traceback": [
      "\u001b[0;31m---------------------------------------------------------------------------\u001b[0m",
      "\u001b[0;31mNameError\u001b[0m                                 Traceback (most recent call last)",
      "\u001b[0;32m<ipython-input-37-0f99bf2a940b>\u001b[0m in \u001b[0;36m<module>\u001b[0;34m\u001b[0m\n\u001b[1;32m      4\u001b[0m \u001b[0;31m# model configs\u001b[0m\u001b[0;34m\u001b[0m\u001b[0;34m\u001b[0m\u001b[0;34m\u001b[0m\u001b[0m\n\u001b[1;32m      5\u001b[0m \u001b[0mmax_length\u001b[0m \u001b[0;34m=\u001b[0m \u001b[0mlen\u001b[0m\u001b[0;34m(\u001b[0m\u001b[0mdata\u001b[0m\u001b[0;34m)\u001b[0m \u001b[0;34m-\u001b[0m \u001b[0mn_test\u001b[0m\u001b[0;34m\u001b[0m\u001b[0;34m\u001b[0m\u001b[0m\n\u001b[0;32m----> 6\u001b[0;31m \u001b[0mcfg_list\u001b[0m \u001b[0;34m=\u001b[0m \u001b[0msimple_configs\u001b[0m\u001b[0;34m(\u001b[0m\u001b[0mmax_length\u001b[0m\u001b[0;34m)\u001b[0m\u001b[0;34m\u001b[0m\u001b[0;34m\u001b[0m\u001b[0m\n\u001b[0m\u001b[1;32m      7\u001b[0m \u001b[0;31m# grid search\u001b[0m\u001b[0;34m\u001b[0m\u001b[0;34m\u001b[0m\u001b[0;34m\u001b[0m\u001b[0m\n\u001b[1;32m      8\u001b[0m \u001b[0mscores\u001b[0m \u001b[0;34m=\u001b[0m \u001b[0mgrid_search\u001b[0m\u001b[0;34m(\u001b[0m\u001b[0mdata\u001b[0m\u001b[0;34m,\u001b[0m \u001b[0mcfg_list\u001b[0m\u001b[0;34m,\u001b[0m \u001b[0mn_test\u001b[0m\u001b[0;34m)\u001b[0m\u001b[0;34m\u001b[0m\u001b[0;34m\u001b[0m\u001b[0m\n",
      "\u001b[0;31mNameError\u001b[0m: name 'simple_configs' is not defined"
     ]
    }
   ],
   "source": [
    "data = series.values\n",
    "# data split\n",
    "n_test = 165\n",
    "# model configs\n",
    "max_length = len(data) - n_test\n",
    "cfg_list = simple_configs(max_length)\n",
    "# grid search\n",
    "scores = grid_search(data, cfg_list, n_test)\n",
    "print('done')\n",
    "# list top 3 configs\n",
    "for cfg, error in scores[:3]:\n",
    "    print(cfg, error)"
   ]
  },
  {
   "cell_type": "markdown",
   "metadata": {},
   "source": [
    "### 11.5 Case Study 2: Trend"
   ]
  },
  {
   "cell_type": "code",
   "execution_count": null,
   "metadata": {},
   "outputs": [],
   "source": [
    "# load\n",
    "series_shampoo_sales = pd.read_csv('../data_and_models/monthly-shampoo-sales.csv', header=0, index_col=0)\n",
    "# summarize shape\n",
    "series_shampoo_sales.shape"
   ]
  },
  {
   "cell_type": "code",
   "execution_count": null,
   "metadata": {},
   "outputs": [],
   "source": [
    "# plot\n",
    "plt.plot(series_shampoo_sales)\n",
    "plt.xticks([])\n",
    "plt.show()"
   ]
  },
  {
   "cell_type": "code",
   "execution_count": null,
   "metadata": {},
   "outputs": [],
   "source": [
    "data = series_shampoo_sales.values\n",
    "# data split\n",
    "n_test = 12\n",
    "# model configs\n",
    "max_length = len(data) - n_test\n",
    "cfg_list = simple_configs(max_length)\n",
    "# grid search\n",
    "scores = grid_search(data, cfg_list, n_test)\n",
    "print('done')\n",
    "# list top 3 configs\n",
    "for cfg, error in scores[:3]:\n",
    "    print(cfg, error)"
   ]
  },
  {
   "cell_type": "markdown",
   "metadata": {},
   "source": [
    "### 11.6 Case Study 3: Seasonality"
   ]
  },
  {
   "cell_type": "code",
   "execution_count": null,
   "metadata": {},
   "outputs": [],
   "source": [
    "# load\n",
    "series_temp = pd.read_csv('../data_and_models/monthly-mean-temp.csv', header=0, index_col=0)\n",
    "# summarize shape\n",
    "series_temp.shape"
   ]
  },
  {
   "cell_type": "code",
   "execution_count": null,
   "metadata": {},
   "outputs": [],
   "source": [
    "series_temp.head()"
   ]
  },
  {
   "cell_type": "code",
   "execution_count": null,
   "metadata": {},
   "outputs": [],
   "source": [
    "# plot\n",
    "plt.plot(series_temp)\n",
    "plt.xticks([])\n",
    "plt.show()"
   ]
  },
  {
   "cell_type": "code",
   "execution_count": null,
   "metadata": {},
   "outputs": [],
   "source": [
    "# trim dataset to 5 years\n",
    "data = series[-(5*12):]"
   ]
  },
  {
   "cell_type": "code",
   "execution_count": null,
   "metadata": {},
   "outputs": [],
   "source": [
    "# create a set of simple configs to try\n",
    "def simple_configs(max_length, offsets=[1]):\n",
    "    configs = list()\n",
    "    for i in range(1, max_length+1):\n",
    "        for o in offsets:\n",
    "            for t in ['persist', 'mean', 'median']:\n",
    "                cfg = [i, o, t]\n",
    "                configs.append(cfg)\n",
    "    return configs"
   ]
  },
  {
   "cell_type": "code",
   "execution_count": null,
   "metadata": {},
   "outputs": [],
   "source": [
    "data = series_temp.values\n",
    "# data split\n",
    "n_test = 12\n",
    "# model configs\n",
    "max_length = len(data) - n_test\n",
    "cfg_list = simple_configs(max_length, offsets=[1,12])\n",
    "# grid search\n",
    "scores = grid_search(data, cfg_list, n_test)\n",
    "print('done')\n",
    "# list top 3 configs\n",
    "for cfg, error in scores[:3]:\n",
    "    print(cfg, error)"
   ]
  },
  {
   "cell_type": "code",
   "execution_count": null,
   "metadata": {},
   "outputs": [],
   "source": []
  }
 ],
 "metadata": {
  "kernelspec": {
   "display_name": "scorecard",
   "language": "python",
   "name": "scorecard"
  },
  "language_info": {
   "codemirror_mode": {
    "name": "ipython",
    "version": 3
   },
   "file_extension": ".py",
   "mimetype": "text/x-python",
   "name": "python",
   "nbconvert_exporter": "python",
   "pygments_lexer": "ipython3",
   "version": "3.7.7"
  }
 },
 "nbformat": 4,
 "nbformat_minor": 4
}
