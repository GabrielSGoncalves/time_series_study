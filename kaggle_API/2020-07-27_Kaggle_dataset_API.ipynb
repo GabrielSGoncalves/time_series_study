{
 "cells": [
  {
   "cell_type": "markdown",
   "metadata": {},
   "source": [
    "# Kaggle Dataset Python API"
   ]
  },
  {
   "cell_type": "code",
   "execution_count": 13,
   "metadata": {},
   "outputs": [],
   "source": [
    "import kaggle"
   ]
  },
  {
   "cell_type": "markdown",
   "metadata": {},
   "source": [
    "# 1. Listando os datasets"
   ]
  },
  {
   "cell_type": "code",
   "execution_count": 19,
   "metadata": {},
   "outputs": [
    {
     "name": "stdout",
     "output_type": "stream",
     "text": [
      "Help on package kaggle:\n",
      "\n",
      "NAME\n",
      "    kaggle\n",
      "\n",
      "DESCRIPTION\n",
      "    # Copyright 2019 Kaggle Inc\n",
      "    #\n",
      "    # Licensed under the Apache License, Version 2.0 (the \"License\");\n",
      "    # you may not use this file except in compliance with the License.\n",
      "    # You may obtain a copy of the License at\n",
      "    #\n",
      "    #      http://www.apache.org/licenses/LICENSE-2.0\n",
      "    #\n",
      "    # Unless required by applicable law or agreed to in writing, software\n",
      "    # distributed under the License is distributed on an \"AS IS\" BASIS,\n",
      "    # WITHOUT WARRANTIES OR CONDITIONS OF ANY KIND, either express or implied.\n",
      "    # See the License for the specific language governing permissions and\n",
      "    # limitations under the License.\n",
      "\n",
      "PACKAGE CONTENTS\n",
      "    api (package)\n",
      "    api_client\n",
      "    cli\n",
      "    configuration\n",
      "    models (package)\n",
      "    rest\n",
      "    tests (package)\n",
      "\n",
      "DATA\n",
      "    absolute_import = _Feature((2, 5, 0, 'alpha', 1), (3, 0, 0, 'alpha', 0...\n",
      "    api = <kaggle.api.kaggle_api_extended.KaggleApi object>\n",
      "\n",
      "FILE\n",
      "    /home/gabriel/miniconda3/envs/deeplearning/lib/python3.7/site-packages/kaggle/__init__.py\n",
      "\n",
      "\n"
     ]
    }
   ],
   "source": [
    "help(kaggle)"
   ]
  },
  {
   "cell_type": "code",
   "execution_count": 18,
   "metadata": {},
   "outputs": [
    {
     "name": "stdout",
     "output_type": "stream",
     "text": [
      "ref                                                   title                                               size  lastUpdated          downloadCount  voteCount  usabilityRating  \n",
      "----------------------------------------------------  -------------------------------------------------  -----  -------------------  -------------  ---------  ---------------  \n",
      "biaiscience/dogs-vs-cats                              Dogs vs Cats                                       817MB  2017-12-05 14:03:33           5576        102  0.4375           \n",
      "tongpython/cat-and-dog                                Cat and Dog                                        218MB  2018-04-26 10:56:50          21505        386  0.75             \n",
      "prasunroy/natural-images                              Natural Images                                     342MB  2018-08-11 18:24:11           9070        206  0.75             \n",
      "shaunthesheep/microsoft-catsvsdogs-dataset            Cats-vs-Dogs                                       788MB  2020-03-12 05:34:30            279         11  0.625            \n",
      "salader/dogs-vs-cats                                  dogs vs cats                                         1GB  2018-11-30 19:31:13            753         16  0.375            \n",
      "pocahontas1010/dogs-vs-cats-for-pytorch               Dogs vs Cats for Pytorch                             1GB  2018-12-03 21:25:20            644         11  0.1875           \n",
      "lucassj/dogs-vs-cats-train-validadion-and-evaluation  Dogs vs. Cats -- train, validadion and evaluation    1GB  2018-09-26 20:10:24            618         14  0.1875           \n",
      "pmigdal/alien-vs-predator-images                      Alien vs. Predator images                           14MB  2018-09-27 14:18:46           1363         26  0.75             \n",
      "dhirensk/cats-vs-dogs-training8000test2000            Cats vs Dogs Training8000Test2000                  436MB  2018-11-21 09:38:07            295          4  0.625            \n",
      "kanwalinder/cats-vs-dogs-redux-transfer-features      Cats vs Dogs Redux Transfer Features                 1GB  2018-08-22 00:46:31            142          6  0.8125           \n",
      "dansbecker/dogs-gone-sideways                         Dogs Gone Sideways                                  23MB  2018-01-10 18:03:02           1840         20  0.75             \n",
      "arnaudeq/cats-vs-dogs-1000                            Cats Vs Dogs (1000)                                177MB  2018-11-22 20:49:53            158          4  0.3125           \n",
      "selfishgene/youtube-faces-with-facial-keypoints       YouTube Faces With Facial Keypoints                   0B  2020-05-25 22:53:33           4698        243  0.9411765        \n",
      "ekkus93/keras-models                                  Keras Models                                         1GB  2019-11-18 04:42:44            495          6  0.75             \n",
      "arnaudeq/cats-vs-dogs-5000                            Cats Vs Dogs (5000)                                527MB  2018-11-22 21:57:23             49          1  0.3125           \n",
      "saratbhargava/cats-vs-dogs-tfrecord-format            Cats vs Dogs TFRecord format                       509MB  2020-07-16 09:43:17              0          1  0.5625           \n",
      "nafisur/dogs-vs-cats                                  Dogs_vs_cats                                       436MB  2018-04-25 08:01:49           1961         47  0.375            \n",
      "a1041134926/cats-vs-dogs                              cats vs dogs                                        27MB  2018-07-26 08:34:44             56          1  0.3125           \n",
      "hellokugo/dogs-vs-cats                                dogs vs cats                                       211KB  2018-02-24 03:54:49            120          1  0.29411766       \n",
      "salader/dogsvscats                                    dogsVScats                                           1GB  2018-11-30 16:21:15            137          2  0.3125           \n"
     ]
    }
   ],
   "source": [
    "!kaggle datasets list -s dogs-vs-cats"
   ]
  },
  {
   "cell_type": "code",
   "execution_count": 21,
   "metadata": {},
   "outputs": [
    {
     "name": "stdout",
     "output_type": "stream",
     "text": [
      "Downloading dogs-vs-cats.zip to /home/gabriel/Documents/Repos/time_series_study/kaggle_API\n",
      "100%|████████████████████████████████████████| 817M/817M [05:55<00:00, 2.32MB/s]\n",
      "100%|████████████████████████████████████████| 817M/817M [05:55<00:00, 2.41MB/s]\n"
     ]
    }
   ],
   "source": [
    "!kaggle datasets download -d biaiscience/dogs-vs-cats"
   ]
  },
  {
   "cell_type": "code",
   "execution_count": null,
   "metadata": {},
   "outputs": [],
   "source": []
  }
 ],
 "metadata": {
  "kernelspec": {
   "display_name": "deeplearning",
   "language": "python",
   "name": "deeplearning"
  },
  "language_info": {
   "codemirror_mode": {
    "name": "ipython",
    "version": 3
   },
   "file_extension": ".py",
   "mimetype": "text/x-python",
   "name": "python",
   "nbconvert_exporter": "python",
   "pygments_lexer": "ipython3",
   "version": "3.7.7"
  }
 },
 "nbformat": 4,
 "nbformat_minor": 4
}
